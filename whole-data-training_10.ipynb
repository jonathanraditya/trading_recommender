{
 "cells": [
  {
   "cell_type": "code",
   "execution_count": 1,
   "id": "8404f8d5-5450-4ac0-8b5e-3ee7c11e1343",
   "metadata": {},
   "outputs": [],
   "source": [
    "# !pip install --upgrade tensorflow --quiet\n",
    "# !pip install keras_tuner --quiet\n",
    "# !pip install tensorflow-io --quiet\n",
    "# # Google colab modules\n",
    "# from google.colab import drive\n",
    "import sys, importlib\n",
    "\n",
    "# # Mount drive\n",
    "# drive.mount('/content/gdrive', force_remount=True)\n",
    "ROOT_PATH = './'\n",
    "# sys.path.append(ROOT_PATH)\n",
    "\n",
    "import coremlv2 as core\n",
    "core._init_ml()\n",
    "# core._init_models()\n",
    "# core.os.environ['CUDA_VISIBLE_DEVICES'] = '-1'\n",
    "\n",
    "# Reload coreml\n",
    "importlib.reload(core)\n",
    "import keras_tuner as kt"
   ]
  },
  {
   "cell_type": "code",
   "execution_count": 2,
   "id": "85e58810-d109-4c3c-a223-f454120deca2",
   "metadata": {},
   "outputs": [
    {
     "name": "stdout",
     "output_type": "stream",
     "text": [
      "1 Physical GPUs,  1 Logical GPUs\n"
     ]
    }
   ],
   "source": [
    "# Limiting GPU memory growth\n",
    "gpus = core.tf.config.list_physical_devices('GPU')\n",
    "if gpus:\n",
    "    try:\n",
    "        # Currently, memory growth needs to be the same across GPUs\n",
    "        for gpu in gpus:\n",
    "            core.tf.config.experimental.set_memory_growth(gpu, True)\n",
    "        logical_gpus = core.tf.config.list_logical_devices('GPU')\n",
    "        print(len(gpus), \"Physical GPUs, \", len(logical_gpus), \"Logical GPUs\")\n",
    "    except RuntimeError as e:\n",
    "        # Memory growth must be set before GPUs have been initialized\n",
    "        print(e)"
   ]
  },
  {
   "cell_type": "markdown",
   "id": "ba19a95d-56f9-4fdf-94c3-5107e84f3a11",
   "metadata": {},
   "source": [
    "### Retrain 322/25\n",
    "#### full_new_wsd (0 1 / 0 1)\n",
    "1. 1043s 78ms/step - loss: 0.6581 - accuracy: 0.6062 - val_loss: 0.6965 - val_accuracy: 0.5832\n",
    "2. 1056s 79ms/step - loss: 0.6447 - accuracy: 0.6158 - val_loss: 0.7026 - val_accuracy: 0.5844\n",
    "3. 920s 69ms/step - loss: 0.6410 - accuracy: 0.6186 - val_loss: 0.7006 - val_accuracy: 0.5864\n",
    "4. 814s 61ms/step - loss: 0.6385 - accuracy: 0.6207 - val_loss: 0.7067 - val_accuracy: 0.5861\n",
    "5. 801s 60ms/step - loss: 0.6365 - accuracy: 0.6222 - val_loss: 0.6945 - val_accuracy: 0.5866\n",
    "6. 824s 62ms/step - loss: 0.6347 - accuracy: 0.6235 - val_loss: 0.6844 - val_accuracy: 0.5881\n",
    "7. 801s 60ms/step - loss: 0.6333 - accuracy: 0.6245 - val_loss: 0.6795 - val_accuracy: 0.5895\n",
    "8. 842s 63ms/step - loss: 0.6318 - accuracy: 0.6255 - val_loss: 0.6838 - val_accuracy: 0.5874\n",
    "9. 838s 63ms/step - loss: 0.6305 - accuracy: 0.6263 - val_loss: 0.6860 - val_accuracy: 0.5868\n",
    "10.816s 61ms/step - loss: 0.6292 - accuracy: 0.6272 - val_loss: 0.6795 - val_accuracy: 0.5877\n",
    "11.958s 72ms/step - loss: 0.6278 - accuracy: 0.6281 - val_loss: 0.6761 - val_accuracy: 0.5878\n",
    "12.961s 72ms/step - loss: 0.6268 - accuracy: 0.6289 - val_loss: 0.6853 - val_accuracy: 0.5860\n",
    "13.1018s 76ms/step - loss: 0.6259 - accuracy: 0.6298 - val_loss: 0.6815 - val_accuracy: 0.5875\n",
    "14.1008s 76ms/step - loss: 0.6249 - accuracy: 0.6306 - val_loss: 0.6752 - val_accuracy: 0.5852\n",
    "15.1010s 76ms/step - loss: 0.6239 - accuracy: 0.6313 - val_loss: 0.6764 - val_accuracy: 0.5875\n",
    "16.986s 74ms/step - loss: 0.6230 - accuracy: 0.6317 - val_loss: 0.6727 - val_accuracy: 0.5860\n",
    "17.958s 72ms/step - loss: 0.6221 - accuracy: 0.6326 - val_loss: 0.6828 - val_accuracy: 0.5840\n",
    "18.963s 72ms/step - loss: 0.6212 - accuracy: 0.6332 - val_loss: 0.6856 - val_accuracy: 0.5858\n",
    "19.989s 74ms/step - loss: 0.6203 - accuracy: 0.6337 - val_loss: 0.6753 - val_accuracy: 0.5863\n",
    "20.994s 75ms/step - loss: 0.6197 - accuracy: 0.6340 - val_loss: 0.6818 - val_accuracy: 0.5857"
   ]
  },
  {
   "cell_type": "code",
   "execution_count": 3,
   "id": "2caa9c5b-1457-44f5-844a-0578dc01aebe",
   "metadata": {},
   "outputs": [],
   "source": [
    "model_base_id='322'\n",
    "kt_iter='25'\n",
    "db_ver='8'\n",
    "ROOT_PATH = './'\n",
    "DB_ROOT_PATH = 'J:\\#PROJECT\\idx'\n",
    "dataset_size = 'full_new_wsd'\n",
    "batch_size = 64\n",
    "shuffle_buffer_size = 2048\n",
    "retrain_epochs = 1\n",
    "generator = True"
   ]
  },
  {
   "cell_type": "code",
   "execution_count": 4,
   "id": "ba919837-37ea-49f7-9288-a971aef86c11",
   "metadata": {},
   "outputs": [
    {
     "name": "stdout",
     "output_type": "stream",
     "text": [
      "Total constituents: 418\n",
      "Total constituents: 418\n",
      "Load model from keras_tuner\n",
      "13240/13240 [==============================] - 1043s 78ms/step - loss: 0.6581 - accuracy: 0.6062 - val_loss: 0.6965 - val_accuracy: 0.5832\n"
     ]
    }
   ],
   "source": [
    "core.retrain_model(model_base_id, kt_iter, db_ver, ROOT_PATH=ROOT_PATH, DB_ROOT_PATH=DB_ROOT_PATH, dataset_size=dataset_size, batch_size=batch_size, shuffle_buffer_size=shuffle_buffer_size, retrain_epochs=retrain_epochs)"
   ]
  },
  {
   "cell_type": "code",
   "execution_count": 5,
   "id": "6e163ed8-992c-421a-94b9-9602aa091b42",
   "metadata": {},
   "outputs": [
    {
     "name": "stdout",
     "output_type": "stream",
     "text": [
      "Total constituents: 418\n",
      "Total constituents: 418\n",
      "Load weights from epoch 1\n",
      "13240/13240 [==============================] - 1056s 79ms/step - loss: 0.6447 - accuracy: 0.6158 - val_loss: 0.7026 - val_accuracy: 0.5844\n"
     ]
    }
   ],
   "source": [
    "core.retrain_model(model_base_id, kt_iter, db_ver, ROOT_PATH=ROOT_PATH, DB_ROOT_PATH=DB_ROOT_PATH, dataset_size=dataset_size, batch_size=batch_size, shuffle_buffer_size=shuffle_buffer_size, retrain_epochs=retrain_epochs)"
   ]
  },
  {
   "cell_type": "code",
   "execution_count": 6,
   "id": "f11955ce-60e1-4de2-a38f-0f83b100bdb5",
   "metadata": {},
   "outputs": [
    {
     "name": "stdout",
     "output_type": "stream",
     "text": [
      "Total constituents: 418\n",
      "Total constituents: 418\n",
      "Load weights from epoch 2\n",
      "13240/13240 [==============================] - 920s 69ms/step - loss: 0.6410 - accuracy: 0.6186 - val_loss: 0.7006 - val_accuracy: 0.5864\n"
     ]
    }
   ],
   "source": [
    "core.retrain_model(model_base_id, kt_iter, db_ver, ROOT_PATH=ROOT_PATH, DB_ROOT_PATH=DB_ROOT_PATH, dataset_size=dataset_size, batch_size=batch_size, shuffle_buffer_size=shuffle_buffer_size, retrain_epochs=retrain_epochs)"
   ]
  },
  {
   "cell_type": "code",
   "execution_count": 7,
   "id": "fa823ead-2527-4201-9f30-1563ce495ced",
   "metadata": {},
   "outputs": [
    {
     "name": "stdout",
     "output_type": "stream",
     "text": [
      "Total constituents: 418\n",
      "Total constituents: 418\n",
      "Load weights from epoch 3\n",
      "13240/13240 [==============================] - 814s 61ms/step - loss: 0.6385 - accuracy: 0.6207 - val_loss: 0.7067 - val_accuracy: 0.5861\n"
     ]
    }
   ],
   "source": [
    "core.retrain_model(model_base_id, kt_iter, db_ver, ROOT_PATH=ROOT_PATH, DB_ROOT_PATH=DB_ROOT_PATH, dataset_size=dataset_size, batch_size=batch_size, shuffle_buffer_size=shuffle_buffer_size, retrain_epochs=retrain_epochs)"
   ]
  },
  {
   "cell_type": "code",
   "execution_count": 8,
   "id": "c3804e5e-d762-4af0-97e7-d22ac661c0be",
   "metadata": {},
   "outputs": [
    {
     "name": "stdout",
     "output_type": "stream",
     "text": [
      "Total constituents: 418\n",
      "Total constituents: 418\n",
      "Load weights from epoch 4\n",
      "13240/13240 [==============================] - 801s 60ms/step - loss: 0.6365 - accuracy: 0.6222 - val_loss: 0.6945 - val_accuracy: 0.5866\n"
     ]
    }
   ],
   "source": [
    "core.retrain_model(model_base_id, kt_iter, db_ver, ROOT_PATH=ROOT_PATH, DB_ROOT_PATH=DB_ROOT_PATH, dataset_size=dataset_size, batch_size=batch_size, shuffle_buffer_size=shuffle_buffer_size, retrain_epochs=retrain_epochs)"
   ]
  },
  {
   "cell_type": "code",
   "execution_count": 9,
   "id": "a24db10e-bc8c-4851-a01d-46a6509e8a91",
   "metadata": {},
   "outputs": [
    {
     "name": "stdout",
     "output_type": "stream",
     "text": [
      "Total constituents: 418\n",
      "Total constituents: 418\n",
      "Load weights from epoch 5\n",
      "13240/13240 [==============================] - 824s 62ms/step - loss: 0.6347 - accuracy: 0.6235 - val_loss: 0.6844 - val_accuracy: 0.5881\n"
     ]
    }
   ],
   "source": [
    "core.retrain_model(model_base_id, kt_iter, db_ver, ROOT_PATH=ROOT_PATH, DB_ROOT_PATH=DB_ROOT_PATH, dataset_size=dataset_size, batch_size=batch_size, shuffle_buffer_size=shuffle_buffer_size, retrain_epochs=retrain_epochs)"
   ]
  },
  {
   "cell_type": "code",
   "execution_count": 10,
   "id": "c6f1e8fe-96da-44d6-aa93-b81f3b9470b6",
   "metadata": {},
   "outputs": [
    {
     "name": "stdout",
     "output_type": "stream",
     "text": [
      "Total constituents: 418\n",
      "Total constituents: 418\n",
      "Load weights from epoch 6\n",
      "13240/13240 [==============================] - 801s 60ms/step - loss: 0.6333 - accuracy: 0.6245 - val_loss: 0.6795 - val_accuracy: 0.5895\n"
     ]
    }
   ],
   "source": [
    "core.retrain_model(model_base_id, kt_iter, db_ver, ROOT_PATH=ROOT_PATH, DB_ROOT_PATH=DB_ROOT_PATH, dataset_size=dataset_size, batch_size=batch_size, shuffle_buffer_size=shuffle_buffer_size, retrain_epochs=retrain_epochs)"
   ]
  },
  {
   "cell_type": "code",
   "execution_count": 11,
   "id": "e7481cab-2cbb-4e12-9368-52ac2c44f2e2",
   "metadata": {},
   "outputs": [
    {
     "name": "stdout",
     "output_type": "stream",
     "text": [
      "Total constituents: 418\n",
      "Total constituents: 418\n",
      "Load weights from epoch 7\n",
      "13240/13240 [==============================] - 842s 63ms/step - loss: 0.6318 - accuracy: 0.6255 - val_loss: 0.6838 - val_accuracy: 0.5874\n"
     ]
    }
   ],
   "source": [
    "core.retrain_model(model_base_id, kt_iter, db_ver, ROOT_PATH=ROOT_PATH, DB_ROOT_PATH=DB_ROOT_PATH, dataset_size=dataset_size, batch_size=batch_size, shuffle_buffer_size=shuffle_buffer_size, retrain_epochs=retrain_epochs)"
   ]
  },
  {
   "cell_type": "code",
   "execution_count": 12,
   "id": "9def501e-849a-4920-838d-1ea850dc1b59",
   "metadata": {},
   "outputs": [
    {
     "name": "stdout",
     "output_type": "stream",
     "text": [
      "Total constituents: 418\n",
      "Total constituents: 418\n",
      "Load weights from epoch 8\n",
      "13240/13240 [==============================] - 838s 63ms/step - loss: 0.6305 - accuracy: 0.6263 - val_loss: 0.6860 - val_accuracy: 0.5868\n"
     ]
    }
   ],
   "source": [
    "core.retrain_model(model_base_id, kt_iter, db_ver, ROOT_PATH=ROOT_PATH, DB_ROOT_PATH=DB_ROOT_PATH, dataset_size=dataset_size, batch_size=batch_size, shuffle_buffer_size=shuffle_buffer_size, retrain_epochs=retrain_epochs)"
   ]
  },
  {
   "cell_type": "code",
   "execution_count": 13,
   "id": "d72a61c7-887b-4d65-9e8d-0f499d95ee29",
   "metadata": {},
   "outputs": [
    {
     "name": "stdout",
     "output_type": "stream",
     "text": [
      "Total constituents: 418\n",
      "Total constituents: 418\n",
      "Load weights from epoch 9\n",
      "13240/13240 [==============================] - 816s 61ms/step - loss: 0.6292 - accuracy: 0.6272 - val_loss: 0.6795 - val_accuracy: 0.5877\n"
     ]
    }
   ],
   "source": [
    "core.retrain_model(model_base_id, kt_iter, db_ver, ROOT_PATH=ROOT_PATH, DB_ROOT_PATH=DB_ROOT_PATH, dataset_size=dataset_size, batch_size=batch_size, shuffle_buffer_size=shuffle_buffer_size, retrain_epochs=retrain_epochs)"
   ]
  },
  {
   "cell_type": "code",
   "execution_count": 14,
   "id": "44e95b66-efa3-4ad6-bf7d-54cf1ac294ad",
   "metadata": {},
   "outputs": [
    {
     "name": "stdout",
     "output_type": "stream",
     "text": [
      "Total constituents: 418\n",
      "Total constituents: 418\n",
      "Load weights from epoch 10\n",
      "13240/13240 [==============================] - 958s 72ms/step - loss: 0.6278 - accuracy: 0.6281 - val_loss: 0.6761 - val_accuracy: 0.5878\n"
     ]
    }
   ],
   "source": [
    "core.retrain_model(model_base_id, kt_iter, db_ver, ROOT_PATH=ROOT_PATH, DB_ROOT_PATH=DB_ROOT_PATH, dataset_size=dataset_size, batch_size=batch_size, shuffle_buffer_size=shuffle_buffer_size, retrain_epochs=retrain_epochs)"
   ]
  },
  {
   "cell_type": "code",
   "execution_count": 15,
   "id": "9a5dbe5a-5125-4810-9b93-a06d6767fb8b",
   "metadata": {},
   "outputs": [
    {
     "name": "stdout",
     "output_type": "stream",
     "text": [
      "Total constituents: 418\n",
      "Total constituents: 418\n",
      "Load weights from epoch 11\n",
      "13240/13240 [==============================] - 961s 72ms/step - loss: 0.6268 - accuracy: 0.6289 - val_loss: 0.6853 - val_accuracy: 0.5860\n"
     ]
    }
   ],
   "source": [
    "core.retrain_model(model_base_id, kt_iter, db_ver, ROOT_PATH=ROOT_PATH, DB_ROOT_PATH=DB_ROOT_PATH, dataset_size=dataset_size, batch_size=batch_size, shuffle_buffer_size=shuffle_buffer_size, retrain_epochs=retrain_epochs)"
   ]
  },
  {
   "cell_type": "code",
   "execution_count": 16,
   "id": "0d39d670-1e64-4fc8-b8b1-d449ec42f174",
   "metadata": {},
   "outputs": [
    {
     "name": "stdout",
     "output_type": "stream",
     "text": [
      "Total constituents: 418\n",
      "Total constituents: 418\n",
      "Load weights from epoch 12\n",
      "13240/13240 [==============================] - 1018s 76ms/step - loss: 0.6259 - accuracy: 0.6298 - val_loss: 0.6815 - val_accuracy: 0.5875\n"
     ]
    }
   ],
   "source": [
    "core.retrain_model(model_base_id, kt_iter, db_ver, ROOT_PATH=ROOT_PATH, DB_ROOT_PATH=DB_ROOT_PATH, dataset_size=dataset_size, batch_size=batch_size, shuffle_buffer_size=shuffle_buffer_size, retrain_epochs=retrain_epochs)"
   ]
  },
  {
   "cell_type": "code",
   "execution_count": 17,
   "id": "a4653120-f07e-42a6-8e38-4f0ed008eee8",
   "metadata": {},
   "outputs": [
    {
     "name": "stdout",
     "output_type": "stream",
     "text": [
      "Total constituents: 418\n",
      "Total constituents: 418\n",
      "Load weights from epoch 13\n",
      "13240/13240 [==============================] - 1008s 76ms/step - loss: 0.6249 - accuracy: 0.6306 - val_loss: 0.6752 - val_accuracy: 0.5852\n"
     ]
    }
   ],
   "source": [
    "core.retrain_model(model_base_id, kt_iter, db_ver, ROOT_PATH=ROOT_PATH, DB_ROOT_PATH=DB_ROOT_PATH, dataset_size=dataset_size, batch_size=batch_size, shuffle_buffer_size=shuffle_buffer_size, retrain_epochs=retrain_epochs)"
   ]
  },
  {
   "cell_type": "code",
   "execution_count": 18,
   "id": "9b68f696-cf2d-4876-aabc-8b2ae5a7b1fa",
   "metadata": {},
   "outputs": [
    {
     "name": "stdout",
     "output_type": "stream",
     "text": [
      "Total constituents: 418\n",
      "Total constituents: 418\n",
      "Load weights from epoch 14\n",
      "13240/13240 [==============================] - 1010s 76ms/step - loss: 0.6239 - accuracy: 0.6313 - val_loss: 0.6764 - val_accuracy: 0.5875\n"
     ]
    }
   ],
   "source": [
    "core.retrain_model(model_base_id, kt_iter, db_ver, ROOT_PATH=ROOT_PATH, DB_ROOT_PATH=DB_ROOT_PATH, dataset_size=dataset_size, batch_size=batch_size, shuffle_buffer_size=shuffle_buffer_size, retrain_epochs=retrain_epochs)"
   ]
  },
  {
   "cell_type": "code",
   "execution_count": 19,
   "id": "cffdeb88-390c-43c2-b11c-f1607ea676c6",
   "metadata": {},
   "outputs": [
    {
     "name": "stdout",
     "output_type": "stream",
     "text": [
      "Total constituents: 418\n",
      "Total constituents: 418\n",
      "Load weights from epoch 15\n",
      "13240/13240 [==============================] - 986s 74ms/step - loss: 0.6230 - accuracy: 0.6317 - val_loss: 0.6727 - val_accuracy: 0.5860\n"
     ]
    }
   ],
   "source": [
    "core.retrain_model(model_base_id, kt_iter, db_ver, ROOT_PATH=ROOT_PATH, DB_ROOT_PATH=DB_ROOT_PATH, dataset_size=dataset_size, batch_size=batch_size, shuffle_buffer_size=shuffle_buffer_size, retrain_epochs=retrain_epochs)"
   ]
  },
  {
   "cell_type": "code",
   "execution_count": 20,
   "id": "5be52029-5374-464c-8dcd-53e3e0c16fa1",
   "metadata": {},
   "outputs": [
    {
     "name": "stdout",
     "output_type": "stream",
     "text": [
      "Total constituents: 418\n",
      "Total constituents: 418\n",
      "Load weights from epoch 16\n",
      "13240/13240 [==============================] - 958s 72ms/step - loss: 0.6221 - accuracy: 0.6326 - val_loss: 0.6828 - val_accuracy: 0.5840\n"
     ]
    }
   ],
   "source": [
    "core.retrain_model(model_base_id, kt_iter, db_ver, ROOT_PATH=ROOT_PATH, DB_ROOT_PATH=DB_ROOT_PATH, dataset_size=dataset_size, batch_size=batch_size, shuffle_buffer_size=shuffle_buffer_size, retrain_epochs=retrain_epochs)"
   ]
  },
  {
   "cell_type": "code",
   "execution_count": 21,
   "id": "3c66e2e0-3a21-4e0e-9807-4c2cc2f38820",
   "metadata": {},
   "outputs": [
    {
     "name": "stdout",
     "output_type": "stream",
     "text": [
      "Total constituents: 418\n",
      "Total constituents: 418\n",
      "Load weights from epoch 17\n",
      "13240/13240 [==============================] - 963s 72ms/step - loss: 0.6212 - accuracy: 0.6332 - val_loss: 0.6856 - val_accuracy: 0.5858\n"
     ]
    }
   ],
   "source": [
    "core.retrain_model(model_base_id, kt_iter, db_ver, ROOT_PATH=ROOT_PATH, DB_ROOT_PATH=DB_ROOT_PATH, dataset_size=dataset_size, batch_size=batch_size, shuffle_buffer_size=shuffle_buffer_size, retrain_epochs=retrain_epochs)"
   ]
  },
  {
   "cell_type": "code",
   "execution_count": 22,
   "id": "4263c983-b7dc-4f26-a798-ac3d57866361",
   "metadata": {},
   "outputs": [
    {
     "name": "stdout",
     "output_type": "stream",
     "text": [
      "Total constituents: 418\n",
      "Total constituents: 418\n",
      "Load weights from epoch 18\n",
      "13240/13240 [==============================] - 989s 74ms/step - loss: 0.6203 - accuracy: 0.6337 - val_loss: 0.6753 - val_accuracy: 0.5863\n"
     ]
    }
   ],
   "source": [
    "core.retrain_model(model_base_id, kt_iter, db_ver, ROOT_PATH=ROOT_PATH, DB_ROOT_PATH=DB_ROOT_PATH, dataset_size=dataset_size, batch_size=batch_size, shuffle_buffer_size=shuffle_buffer_size, retrain_epochs=retrain_epochs)"
   ]
  },
  {
   "cell_type": "code",
   "execution_count": 23,
   "id": "7a7a3866-de1b-4345-a663-459a414afd38",
   "metadata": {},
   "outputs": [
    {
     "name": "stdout",
     "output_type": "stream",
     "text": [
      "Total constituents: 418\n",
      "Total constituents: 418\n",
      "Load weights from epoch 19\n",
      "13240/13240 [==============================] - 994s 75ms/step - loss: 0.6197 - accuracy: 0.6340 - val_loss: 0.6818 - val_accuracy: 0.5857\n"
     ]
    }
   ],
   "source": [
    "core.retrain_model(model_base_id, kt_iter, db_ver, ROOT_PATH=ROOT_PATH, DB_ROOT_PATH=DB_ROOT_PATH, dataset_size=dataset_size, batch_size=batch_size, shuffle_buffer_size=shuffle_buffer_size, retrain_epochs=retrain_epochs)"
   ]
  },
  {
   "cell_type": "code",
   "execution_count": null,
   "id": "bffce0e4-2946-4b42-8701-5bb40485bd72",
   "metadata": {},
   "outputs": [],
   "source": []
  },
  {
   "cell_type": "markdown",
   "id": "602f24c1-77c6-4014-a759-021a7f53bfa0",
   "metadata": {},
   "source": [
    "### Manually retrain model"
   ]
  },
  {
   "cell_type": "code",
   "execution_count": 3,
   "id": "1410721d-9a6c-4b6d-9ed7-8a1e145988c6",
   "metadata": {},
   "outputs": [],
   "source": [
    "model_base_id = '327'\n",
    "version = '2'\n",
    "model_no = model_base_id\n",
    "constituent_limits = 0.025\n",
    "id_constituent = 1\n",
    "min_vid_constituents = 0.5\n",
    "epochs = 5\n",
    "iter_id = f'model-{model_no}-{version}_constituent_limits-{constituent_limits}_id_constituent-{id_constituent}_min_vid_constituents-{min_vid_constituents}_epochs-{epochs}'\n",
    "ROOT_PATH='./'\n",
    "DB_ROOT_PATH='J:\\#PROJECT\\idx'\n",
    "db_ver = '8'\n",
    "batch_size = 128\n",
    "shuffle_buffer_size = 1\n",
    "generator=True"
   ]
  },
  {
   "cell_type": "code",
   "execution_count": 4,
   "id": "b5a5b4a9-b6c7-4e07-9c88-a2421dde7cfe",
   "metadata": {},
   "outputs": [
    {
     "name": "stdout",
     "output_type": "stream",
     "text": [
      "Total constituents: 1149\n",
      "Total constituents: 422\n",
      "Epoch 1/5\n",
      "9758/9758 [==============================] - 3546s 363ms/step - loss: 0.6670 - accuracy: 0.6010 - val_loss: 0.6689 - val_accuracy: 0.5921\n",
      "Epoch 2/5\n",
      "9758/9758 [==============================] - 3254s 333ms/step - loss: 0.6492 - accuracy: 0.6140 - val_loss: 0.6775 - val_accuracy: 0.5867\n",
      "Epoch 3/5\n",
      "9758/9758 [==============================] - 3091s 317ms/step - loss: 0.6415 - accuracy: 0.6206 - val_loss: 0.7155 - val_accuracy: 0.5899\n",
      "Epoch 4/5\n",
      "9758/9758 [==============================] - 3093s 317ms/step - loss: 0.6343 - accuracy: 0.6266 - val_loss: 0.7397 - val_accuracy: 0.5701\n",
      "Epoch 5/5\n",
      "9758/9758 [==============================] - 3097s 317ms/step - loss: 0.6269 - accuracy: 0.6334 - val_loss: 0.7675 - val_accuracy: 0.5499\n"
     ]
    },
    {
     "name": "stderr",
     "output_type": "stream",
     "text": [
      "WARNING:absl:Found untraced functions such as lstm_cell_layer_call_fn, lstm_cell_layer_call_and_return_conditional_losses, lstm_cell_1_layer_call_fn, lstm_cell_1_layer_call_and_return_conditional_losses, lstm_cell_layer_call_fn while saving (showing 5 of 10). These functions will not be directly callable after loading.\n",
      "WARNING:absl:<keras.layers.recurrent.LSTMCell object at 0x000002A41BAEB7F0> has the same name 'LSTMCell' as a built-in Keras object. Consider renaming <class 'keras.layers.recurrent.LSTMCell'> to avoid naming conflicts when loading with `tf.keras.models.load_model`. If renaming is not possible, pass the object in the `custom_objects` parameter of the load function.\n",
      "WARNING:absl:<keras.layers.recurrent.LSTMCell object at 0x000002A46B1DEE80> has the same name 'LSTMCell' as a built-in Keras object. Consider renaming <class 'keras.layers.recurrent.LSTMCell'> to avoid naming conflicts when loading with `tf.keras.models.load_model`. If renaming is not possible, pass the object in the `custom_objects` parameter of the load function.\n"
     ]
    }
   ],
   "source": [
    "# Train: `slice_from_beginning`=True\n",
    "train_gen = core.load_dataset_wsd(slice_from_beginning=True, ROOT_PATH=DB_ROOT_PATH, db_ver=db_ver, constituent_limits=constituent_limits, id_constituent=id_constituent, batch_size=batch_size, shuffle_buffer_size=shuffle_buffer_size, seed=0, generator=generator, model_no=model_no)\n",
    "# Validation: `slice_from_beginning`=False. constituent_limits in validation is always 0 (focus on idx performance progression only)\n",
    "validation_gen = core.load_dataset_wsd(slice_from_beginning=False, ROOT_PATH=DB_ROOT_PATH, db_ver=db_ver, constituent_limits=0, id_constituent=id_constituent, batch_size=batch_size, shuffle_buffer_size=shuffle_buffer_size, seed=0, generator=generator, model_no=model_no)\n",
    "\n",
    "# Load model backbone\n",
    "model = core.model_switcher_preloaded(model_no, version=version)\n",
    "history = model.fit(train_gen, validation_data=validation_gen, epochs=epochs, verbose=1)\n",
    "\n",
    "save_path = core.os.path.join(ROOT_PATH, f'models/preloaded/{iter_id}/')\n",
    "model.save_weights(f'{save_path}/weights/checkpoint')\n",
    "model.save(f'{save_path}/model')\n",
    "\n",
    "history.history['batch_size'] = batch_size\n",
    "history.history['shuffle_buffer_size'] = shuffle_buffer_size\n",
    "\n",
    "with open(f'{save_path}/history.json', 'w') as f:\n",
    "    core.json.dump(history.history, f)"
   ]
  },
  {
   "cell_type": "code",
   "execution_count": 3,
   "id": "046ae33d-9ab0-4ced-bea7-7bd1cdcd1d27",
   "metadata": {},
   "outputs": [],
   "source": [
    "model_base_id = '327'\n",
    "version = '3'\n",
    "model_no = model_base_id\n",
    "constituent_limits = 0.025\n",
    "id_constituent = 1\n",
    "min_vid_constituents = 0.5\n",
    "epochs = 5\n",
    "iter_id = f'model-{model_no}-{version}_constituent_limits-{constituent_limits}_id_constituent-{id_constituent}_min_vid_constituents-{min_vid_constituents}_epochs-{epochs}'\n",
    "ROOT_PATH='./'\n",
    "DB_ROOT_PATH='J:\\#PROJECT\\idx'\n",
    "db_ver = '8'\n",
    "batch_size = 512\n",
    "shuffle_buffer_size = 1\n",
    "generator=True"
   ]
  },
  {
   "cell_type": "code",
   "execution_count": 4,
   "id": "7a6f7d4f-57ed-412f-95a7-619d4ffd2630",
   "metadata": {},
   "outputs": [
    {
     "name": "stdout",
     "output_type": "stream",
     "text": [
      "Total constituents: 1149\n",
      "Total constituents: 422\n",
      "Epoch 1/5\n",
      "2440/2440 [==============================] - 1241s 506ms/step - loss: 0.6821 - accuracy: 0.5774 - val_loss: 0.6669 - val_accuracy: 0.5885\n",
      "Epoch 2/5\n",
      "2440/2440 [==============================] - 1307s 536ms/step - loss: 0.6594 - accuracy: 0.6049 - val_loss: 0.6605 - val_accuracy: 0.5995\n",
      "Epoch 3/5\n",
      "2440/2440 [==============================] - 1329s 545ms/step - loss: 0.6547 - accuracy: 0.6107 - val_loss: 0.6607 - val_accuracy: 0.6014\n",
      "Epoch 4/5\n",
      "2440/2440 [==============================] - 1416s 580ms/step - loss: 0.6506 - accuracy: 0.6156 - val_loss: 0.6653 - val_accuracy: 0.5963\n",
      "Epoch 5/5\n",
      "2440/2440 [==============================] - 1414s 579ms/step - loss: 0.6465 - accuracy: 0.6197 - val_loss: 0.6707 - val_accuracy: 0.5929\n"
     ]
    },
    {
     "name": "stderr",
     "output_type": "stream",
     "text": [
      "WARNING:absl:Found untraced functions such as lstm_cell_layer_call_fn, lstm_cell_layer_call_and_return_conditional_losses, lstm_cell_1_layer_call_fn, lstm_cell_1_layer_call_and_return_conditional_losses, lstm_cell_layer_call_fn while saving (showing 5 of 10). These functions will not be directly callable after loading.\n",
      "WARNING:absl:<keras.layers.recurrent.LSTMCell object at 0x0000021BB4331880> has the same name 'LSTMCell' as a built-in Keras object. Consider renaming <class 'keras.layers.recurrent.LSTMCell'> to avoid naming conflicts when loading with `tf.keras.models.load_model`. If renaming is not possible, pass the object in the `custom_objects` parameter of the load function.\n",
      "WARNING:absl:<keras.layers.recurrent.LSTMCell object at 0x0000021BB4395E50> has the same name 'LSTMCell' as a built-in Keras object. Consider renaming <class 'keras.layers.recurrent.LSTMCell'> to avoid naming conflicts when loading with `tf.keras.models.load_model`. If renaming is not possible, pass the object in the `custom_objects` parameter of the load function.\n"
     ]
    }
   ],
   "source": [
    "# Train: `slice_from_beginning`=True\n",
    "train_gen = core.load_dataset_wsd(slice_from_beginning=True, ROOT_PATH=DB_ROOT_PATH, db_ver=db_ver, constituent_limits=constituent_limits, id_constituent=id_constituent, batch_size=batch_size, shuffle_buffer_size=shuffle_buffer_size, seed=0, generator=generator, model_no=model_no)\n",
    "# Validation: `slice_from_beginning`=False. constituent_limits in validation is always 0 (focus on idx performance progression only)\n",
    "validation_gen = core.load_dataset_wsd(slice_from_beginning=False, ROOT_PATH=DB_ROOT_PATH, db_ver=db_ver, constituent_limits=0, id_constituent=id_constituent, batch_size=batch_size, shuffle_buffer_size=shuffle_buffer_size, seed=0, generator=generator, model_no=model_no)\n",
    "\n",
    "# Load model backbone\n",
    "model = core.model_switcher_preloaded(model_no, version=version)\n",
    "history = model.fit(train_gen, validation_data=validation_gen, epochs=epochs, verbose=1)\n",
    "\n",
    "save_path = core.os.path.join(ROOT_PATH, f'models/preloaded/{iter_id}/')\n",
    "model.save_weights(f'{save_path}/weights/checkpoint')\n",
    "model.save(f'{save_path}/model')\n",
    "\n",
    "history.history['batch_size'] = batch_size\n",
    "history.history['shuffle_buffer_size'] = shuffle_buffer_size\n",
    "\n",
    "with open(f'{save_path}/history.json', 'w') as f:\n",
    "    core.json.dump(history.history, f)"
   ]
  },
  {
   "cell_type": "code",
   "execution_count": 3,
   "id": "5dda365e-0152-4be2-9738-3b68d730c72b",
   "metadata": {},
   "outputs": [],
   "source": [
    "model_base_id = '327'\n",
    "version = '3'\n",
    "model_no = model_base_id\n",
    "constituent_limits = 0.025\n",
    "id_constituent = 1\n",
    "min_vid_constituents = 0.5\n",
    "epochs = 10\n",
    "iter_id = f'model-{model_no}-{version}_constituent_limits-{constituent_limits}_id_constituent-{id_constituent}_min_vid_constituents-{min_vid_constituents}_epochs-{epochs}'\n",
    "ROOT_PATH='./'\n",
    "DB_ROOT_PATH='J:\\#PROJECT\\idx'\n",
    "db_ver = '8'\n",
    "batch_size = 2048\n",
    "shuffle_buffer_size = 1\n",
    "generator=True"
   ]
  },
  {
   "cell_type": "code",
   "execution_count": 4,
   "id": "505dd2e1-8283-4fc6-92ab-001f924516b8",
   "metadata": {},
   "outputs": [
    {
     "name": "stdout",
     "output_type": "stream",
     "text": [
      "Total constituents: 1149\n",
      "Total constituents: 422\n",
      "Epoch 1/10\n",
      "610/610 [==============================] - 1718s 3s/step - loss: 0.6975 - accuracy: 0.5646 - val_loss: 0.6632 - val_accuracy: 0.5869\n",
      "Epoch 2/10\n",
      "610/610 [==============================] - 1044s 2s/step - loss: 0.6618 - accuracy: 0.5972 - val_loss: 0.6580 - val_accuracy: 0.5948\n",
      "Epoch 3/10\n",
      "610/610 [==============================] - 962s 2s/step - loss: 0.6544 - accuracy: 0.6069 - val_loss: 0.6547 - val_accuracy: 0.5997\n",
      "Epoch 4/10\n",
      "610/610 [==============================] - 957s 2s/step - loss: 0.6502 - accuracy: 0.6122 - val_loss: 0.6543 - val_accuracy: 0.6009\n",
      "Epoch 5/10\n",
      "610/610 [==============================] - 965s 2s/step - loss: 0.6471 - accuracy: 0.6164 - val_loss: 0.6543 - val_accuracy: 0.6005\n",
      "Epoch 6/10\n",
      "610/610 [==============================] - 959s 2s/step - loss: 0.6442 - accuracy: 0.6195 - val_loss: 0.6551 - val_accuracy: 0.6011\n",
      "Epoch 7/10\n",
      "610/610 [==============================] - 962s 2s/step - loss: 0.6416 - accuracy: 0.6224 - val_loss: 0.6557 - val_accuracy: 0.6008\n",
      "Epoch 8/10\n",
      "610/610 [==============================] - 970s 2s/step - loss: 0.6388 - accuracy: 0.6256 - val_loss: 0.6563 - val_accuracy: 0.6007\n",
      "Epoch 9/10\n",
      "610/610 [==============================] - 984s 2s/step - loss: 0.6360 - accuracy: 0.6284 - val_loss: 0.6570 - val_accuracy: 0.6006\n",
      "Epoch 10/10\n",
      "610/610 [==============================] - 989s 2s/step - loss: 0.6329 - accuracy: 0.6318 - val_loss: 0.6574 - val_accuracy: 0.6014\n"
     ]
    },
    {
     "name": "stderr",
     "output_type": "stream",
     "text": [
      "WARNING:absl:Found untraced functions such as lstm_cell_layer_call_fn, lstm_cell_layer_call_and_return_conditional_losses, lstm_cell_1_layer_call_fn, lstm_cell_1_layer_call_and_return_conditional_losses, lstm_cell_layer_call_fn while saving (showing 5 of 10). These functions will not be directly callable after loading.\n",
      "WARNING:absl:<keras.layers.recurrent.LSTMCell object at 0x00000285F96AE880> has the same name 'LSTMCell' as a built-in Keras object. Consider renaming <class 'keras.layers.recurrent.LSTMCell'> to avoid naming conflicts when loading with `tf.keras.models.load_model`. If renaming is not possible, pass the object in the `custom_objects` parameter of the load function.\n",
      "WARNING:absl:<keras.layers.recurrent.LSTMCell object at 0x00000285F9F16E50> has the same name 'LSTMCell' as a built-in Keras object. Consider renaming <class 'keras.layers.recurrent.LSTMCell'> to avoid naming conflicts when loading with `tf.keras.models.load_model`. If renaming is not possible, pass the object in the `custom_objects` parameter of the load function.\n"
     ]
    }
   ],
   "source": [
    "# Train: `slice_from_beginning`=True\n",
    "train_gen = core.load_dataset_wsd(slice_from_beginning=True, ROOT_PATH=DB_ROOT_PATH, db_ver=db_ver, constituent_limits=constituent_limits, id_constituent=id_constituent, batch_size=batch_size, shuffle_buffer_size=shuffle_buffer_size, seed=0, generator=generator, model_no=model_no)\n",
    "# Validation: `slice_from_beginning`=False. constituent_limits in validation is always 0 (focus on idx performance progression only)\n",
    "validation_gen = core.load_dataset_wsd(slice_from_beginning=False, ROOT_PATH=DB_ROOT_PATH, db_ver=db_ver, constituent_limits=0, id_constituent=id_constituent, batch_size=batch_size, shuffle_buffer_size=shuffle_buffer_size, seed=0, generator=generator, model_no=model_no)\n",
    "\n",
    "# Load model backbone\n",
    "model = core.model_switcher_preloaded(model_no, version=version)\n",
    "history = model.fit(train_gen, validation_data=validation_gen, epochs=epochs, verbose=1)\n",
    "\n",
    "save_path = core.os.path.join(ROOT_PATH, f'models/preloaded/{iter_id}/')\n",
    "model.save_weights(f'{save_path}/weights/checkpoint')\n",
    "model.save(f'{save_path}/model')\n",
    "\n",
    "history.history['batch_size'] = batch_size\n",
    "history.history['shuffle_buffer_size'] = shuffle_buffer_size\n",
    "\n",
    "with open(f'{save_path}/history.json', 'w') as f:\n",
    "    core.json.dump(history.history, f)"
   ]
  },
  {
   "cell_type": "code",
   "execution_count": 3,
   "id": "b7d71a68-ec57-4009-a873-f1749acb79ac",
   "metadata": {},
   "outputs": [],
   "source": [
    "model_base_id = '326'\n",
    "version = '0'\n",
    "model_no = model_base_id\n",
    "constituent_limits = 0.025\n",
    "id_constituent = 1\n",
    "min_vid_constituents = 0.5\n",
    "epochs = 10\n",
    "batch_size = 1024\n",
    "iter_id = f'model-{model_no}-{version}_constituentlimits-{constituent_limits}_idconstituent-{id_constituent}_minvidconstituents-{min_vid_constituents}_epochs-{epochs}_batchsize-{batch_size}'\n",
    "ROOT_PATH='./'\n",
    "DB_ROOT_PATH='J:\\#PROJECT\\idx'\n",
    "db_ver = '8'\n",
    "\n",
    "shuffle_buffer_size = 1\n",
    "generator=True"
   ]
  },
  {
   "cell_type": "code",
   "execution_count": 4,
   "id": "b187cb4d-6c6d-41b6-9196-a8098181e18c",
   "metadata": {},
   "outputs": [
    {
     "name": "stdout",
     "output_type": "stream",
     "text": [
      "Total constituents: 1149\n",
      "Total constituents: 422\n",
      "Epoch 1/10\n",
      "1220/1220 [==============================] - 867s 706ms/step - loss: 0.6825 - accuracy: 0.5801 - val_loss: 0.6904 - val_accuracy: 0.5732\n",
      "Epoch 2/10\n",
      "1220/1220 [==============================] - 885s 724ms/step - loss: 0.6601 - accuracy: 0.6016 - val_loss: 0.6816 - val_accuracy: 0.5811\n",
      "Epoch 3/10\n",
      "1220/1220 [==============================] - 886s 726ms/step - loss: 0.6551 - accuracy: 0.6075 - val_loss: 0.6795 - val_accuracy: 0.5828\n",
      "Epoch 4/10\n",
      "1220/1220 [==============================] - 887s 726ms/step - loss: 0.6522 - accuracy: 0.6111 - val_loss: 0.6761 - val_accuracy: 0.5863\n",
      "Epoch 5/10\n",
      "1220/1220 [==============================] - 886s 725ms/step - loss: 0.6499 - accuracy: 0.6137 - val_loss: 0.6737 - val_accuracy: 0.5887\n",
      "Epoch 6/10\n",
      "1220/1220 [==============================] - 892s 730ms/step - loss: 0.6477 - accuracy: 0.6163 - val_loss: 0.6737 - val_accuracy: 0.5886\n",
      "Epoch 7/10\n",
      "1220/1220 [==============================] - 898s 735ms/step - loss: 0.6456 - accuracy: 0.6184 - val_loss: 0.6774 - val_accuracy: 0.5851\n",
      "Epoch 8/10\n",
      "1220/1220 [==============================] - 887s 726ms/step - loss: 0.6435 - accuracy: 0.6205 - val_loss: 0.6762 - val_accuracy: 0.5874\n",
      "Epoch 9/10\n",
      "1220/1220 [==============================] - 897s 734ms/step - loss: 0.6414 - accuracy: 0.6222 - val_loss: 0.6765 - val_accuracy: 0.5872\n",
      "Epoch 10/10\n",
      "1220/1220 [==============================] - 891s 729ms/step - loss: 0.6393 - accuracy: 0.6243 - val_loss: 0.6799 - val_accuracy: 0.5852\n"
     ]
    },
    {
     "name": "stderr",
     "output_type": "stream",
     "text": [
      "WARNING:absl:Found untraced functions such as lstm_cell_layer_call_fn, lstm_cell_layer_call_and_return_conditional_losses, lstm_cell_layer_call_fn, lstm_cell_layer_call_and_return_conditional_losses, lstm_cell_layer_call_and_return_conditional_losses while saving (showing 5 of 5). These functions will not be directly callable after loading.\n",
      "WARNING:absl:<keras.layers.recurrent.LSTMCell object at 0x00000232EF6A2640> has the same name 'LSTMCell' as a built-in Keras object. Consider renaming <class 'keras.layers.recurrent.LSTMCell'> to avoid naming conflicts when loading with `tf.keras.models.load_model`. If renaming is not possible, pass the object in the `custom_objects` parameter of the load function.\n"
     ]
    }
   ],
   "source": [
    "# Train: `slice_from_beginning`=True\n",
    "train_gen = core.load_dataset_wsd(slice_from_beginning=True, ROOT_PATH=DB_ROOT_PATH, db_ver=db_ver, constituent_limits=constituent_limits, id_constituent=id_constituent, batch_size=batch_size, shuffle_buffer_size=shuffle_buffer_size, seed=0, generator=generator, model_no=model_no)\n",
    "# Validation: `slice_from_beginning`=False. constituent_limits in validation is always 0 (focus on idx performance progression only)\n",
    "validation_gen = core.load_dataset_wsd(slice_from_beginning=False, ROOT_PATH=DB_ROOT_PATH, db_ver=db_ver, constituent_limits=0, id_constituent=id_constituent, batch_size=batch_size, shuffle_buffer_size=shuffle_buffer_size, seed=0, generator=generator, model_no=model_no)\n",
    "\n",
    "# Load model backbone\n",
    "model = core.model_switcher_preloaded(model_no, version=version)\n",
    "history = model.fit(train_gen, validation_data=validation_gen, epochs=epochs, verbose=1)\n",
    "\n",
    "save_path = core.os.path.join(ROOT_PATH, f'models/preloaded/{iter_id}/')\n",
    "model.save_weights(f'{save_path}/weights/checkpoint')\n",
    "model.save(f'{save_path}/model')\n",
    "\n",
    "with open(f'{save_path}/history.json', 'w') as f:\n",
    "    core.json.dump(history.history, f)"
   ]
  },
  {
   "cell_type": "code",
   "execution_count": 3,
   "id": "1ee2398b-f89f-4733-8332-8936f3a794aa",
   "metadata": {},
   "outputs": [],
   "source": [
    "model_base_id = '327'\n",
    "version = '4'\n",
    "model_no = model_base_id\n",
    "constituent_limits = 0.025\n",
    "id_constituent = 1\n",
    "min_vid_constituents = 0.5\n",
    "epochs = 10\n",
    "batch_size = 512\n",
    "iter_id = f'model-{model_no}-{version}_constituentlimits-{constituent_limits}_idconstituent-{id_constituent}_minvidconstituents-{min_vid_constituents}_epochs-{epochs}_batchsize-{batch_size}'\n",
    "ROOT_PATH='./'\n",
    "DB_ROOT_PATH='J:\\#PROJECT\\idx'\n",
    "db_ver = '8'\n",
    "\n",
    "shuffle_buffer_size = 1\n",
    "generator=True"
   ]
  },
  {
   "cell_type": "code",
   "execution_count": 4,
   "id": "022dd2c8-89f5-4c6d-9a0a-27457b49899b",
   "metadata": {},
   "outputs": [
    {
     "name": "stdout",
     "output_type": "stream",
     "text": [
      "Total constituents: 1149\n",
      "Total constituents: 422\n",
      "Epoch 1/10\n",
      "2440/2440 [==============================] - 1557s 635ms/step - loss: 0.6865 - accuracy: 0.5672 - val_loss: 0.6623 - val_accuracy: 0.5914\n",
      "Epoch 2/10\n",
      "2440/2440 [==============================] - 1532s 628ms/step - loss: 0.6605 - accuracy: 0.6036 - val_loss: 0.6608 - val_accuracy: 0.6019\n",
      "Epoch 3/10\n",
      "2440/2440 [==============================] - 1497s 614ms/step - loss: 0.6559 - accuracy: 0.6097 - val_loss: 0.6622 - val_accuracy: 0.6018\n",
      "Epoch 4/10\n",
      "2440/2440 [==============================] - 1489s 610ms/step - loss: 0.6520 - accuracy: 0.6134 - val_loss: 0.6647 - val_accuracy: 0.5999\n",
      "Epoch 5/10\n",
      "2440/2440 [==============================] - 1466s 601ms/step - loss: 0.6479 - accuracy: 0.6176 - val_loss: 0.6703 - val_accuracy: 0.5854\n",
      "Epoch 6/10\n",
      "2440/2440 [==============================] - 1467s 601ms/step - loss: 0.6433 - accuracy: 0.6221 - val_loss: 0.6814 - val_accuracy: 0.5692\n",
      "Epoch 7/10\n",
      "2440/2440 [==============================] - 1493s 612ms/step - loss: 0.6381 - accuracy: 0.6267 - val_loss: 0.6931 - val_accuracy: 0.5622\n",
      "Epoch 8/10\n",
      "2440/2440 [==============================] - 1505s 617ms/step - loss: 0.6326 - accuracy: 0.6322 - val_loss: 0.7011 - val_accuracy: 0.5624\n",
      "Epoch 9/10\n",
      "2440/2440 [==============================] - 1494s 612ms/step - loss: 0.6266 - accuracy: 0.6378 - val_loss: 0.7124 - val_accuracy: 0.5631\n",
      "Epoch 10/10\n",
      "2440/2440 [==============================] - 1487s 609ms/step - loss: 0.6203 - accuracy: 0.6437 - val_loss: 0.7220 - val_accuracy: 0.5625\n"
     ]
    },
    {
     "name": "stderr",
     "output_type": "stream",
     "text": [
      "WARNING:absl:Found untraced functions such as lstm_cell_layer_call_fn, lstm_cell_layer_call_and_return_conditional_losses, lstm_cell_1_layer_call_fn, lstm_cell_1_layer_call_and_return_conditional_losses, lstm_cell_2_layer_call_fn while saving (showing 5 of 15). These functions will not be directly callable after loading.\n",
      "WARNING:absl:<keras.layers.recurrent.LSTMCell object at 0x00000180C3BC1400> has the same name 'LSTMCell' as a built-in Keras object. Consider renaming <class 'keras.layers.recurrent.LSTMCell'> to avoid naming conflicts when loading with `tf.keras.models.load_model`. If renaming is not possible, pass the object in the `custom_objects` parameter of the load function.\n",
      "WARNING:absl:<keras.layers.recurrent.LSTMCell object at 0x00000180C4417C40> has the same name 'LSTMCell' as a built-in Keras object. Consider renaming <class 'keras.layers.recurrent.LSTMCell'> to avoid naming conflicts when loading with `tf.keras.models.load_model`. If renaming is not possible, pass the object in the `custom_objects` parameter of the load function.\n",
      "WARNING:absl:<keras.layers.recurrent.LSTMCell object at 0x00000180C44F7070> has the same name 'LSTMCell' as a built-in Keras object. Consider renaming <class 'keras.layers.recurrent.LSTMCell'> to avoid naming conflicts when loading with `tf.keras.models.load_model`. If renaming is not possible, pass the object in the `custom_objects` parameter of the load function.\n"
     ]
    }
   ],
   "source": [
    "# Train: `slice_from_beginning`=True\n",
    "train_gen = core.load_dataset_wsd(slice_from_beginning=True, ROOT_PATH=DB_ROOT_PATH, db_ver=db_ver, constituent_limits=constituent_limits, id_constituent=id_constituent, batch_size=batch_size, shuffle_buffer_size=shuffle_buffer_size, seed=0, generator=generator, model_no=model_no)\n",
    "# Validation: `slice_from_beginning`=False. constituent_limits in validation is always 0 (focus on idx performance progression only)\n",
    "validation_gen = core.load_dataset_wsd(slice_from_beginning=False, ROOT_PATH=DB_ROOT_PATH, db_ver=db_ver, constituent_limits=0, id_constituent=id_constituent, batch_size=batch_size, shuffle_buffer_size=shuffle_buffer_size, seed=0, generator=generator, model_no=model_no)\n",
    "\n",
    "# Load model backbone\n",
    "model = core.model_switcher_preloaded(model_no, version=version)\n",
    "history = model.fit(train_gen, validation_data=validation_gen, epochs=epochs, verbose=1)\n",
    "\n",
    "save_path = core.os.path.join(ROOT_PATH, f'models/preloaded/{iter_id}/')\n",
    "model.save_weights(f'{save_path}/weights/checkpoint')\n",
    "model.save(f'{save_path}/model')\n",
    "\n",
    "with open(f'{save_path}/history.json', 'w') as f:\n",
    "    core.json.dump(history.history, f)"
   ]
  },
  {
   "cell_type": "code",
   "execution_count": 3,
   "id": "75462a4b-ea6a-4633-a189-4d7c89c8f9c3",
   "metadata": {},
   "outputs": [],
   "source": [
    "model_base_id = '327'\n",
    "version = '3'\n",
    "model_no = model_base_id\n",
    "constituent_limits = 0\n",
    "id_constituent = 1\n",
    "min_vid_constituents = 0.5\n",
    "epochs = 10\n",
    "batch_size = 512\n",
    "iter_id = f'model-{model_no}-{version}_constituentlimits-{constituent_limits}_idconstituent-{id_constituent}_minvidconstituents-{min_vid_constituents}_epochs-{epochs}_batchsize-{batch_size}'\n",
    "ROOT_PATH='./'\n",
    "DB_ROOT_PATH='J:\\#PROJECT\\idx'\n",
    "db_ver = '8'\n",
    "\n",
    "shuffle_buffer_size = 1\n",
    "generator=True"
   ]
  },
  {
   "cell_type": "code",
   "execution_count": 4,
   "id": "de5b3f5d-9f50-4f9f-be1a-b928802b829e",
   "metadata": {},
   "outputs": [
    {
     "name": "stdout",
     "output_type": "stream",
     "text": [
      "Total constituents: 422\n",
      "Total constituents: 422\n",
      "Epoch 1/10\n",
      "1650/1650 [==============================] - 764s 459ms/step - loss: 0.6861 - accuracy: 0.5741 - val_loss: 0.6649 - val_accuracy: 0.5836\n",
      "Epoch 2/10\n",
      "1650/1650 [==============================] - 732s 443ms/step - loss: 0.6591 - accuracy: 0.6051 - val_loss: 0.6625 - val_accuracy: 0.5879\n",
      "Epoch 3/10\n",
      "1650/1650 [==============================] - 766s 464ms/step - loss: 0.6522 - accuracy: 0.6139 - val_loss: 0.6621 - val_accuracy: 0.5913\n",
      "Epoch 4/10\n",
      "1650/1650 [==============================] - 769s 465ms/step - loss: 0.6470 - accuracy: 0.6195 - val_loss: 0.6606 - val_accuracy: 0.5948\n",
      "Epoch 5/10\n",
      "1650/1650 [==============================] - 769s 466ms/step - loss: 0.6415 - accuracy: 0.6251 - val_loss: 0.6659 - val_accuracy: 0.5911\n",
      "Epoch 6/10\n",
      "1650/1650 [==============================] - 770s 466ms/step - loss: 0.6358 - accuracy: 0.6304 - val_loss: 0.6701 - val_accuracy: 0.5896\n",
      "Epoch 7/10\n",
      "1650/1650 [==============================] - 772s 467ms/step - loss: 0.6296 - accuracy: 0.6361 - val_loss: 0.6776 - val_accuracy: 0.5862\n",
      "Epoch 8/10\n",
      "1650/1650 [==============================] - 732s 443ms/step - loss: 0.6233 - accuracy: 0.6422 - val_loss: 0.6866 - val_accuracy: 0.5821\n",
      "Epoch 9/10\n",
      "1650/1650 [==============================] - 728s 441ms/step - loss: 0.6165 - accuracy: 0.6481 - val_loss: 0.6956 - val_accuracy: 0.5768\n",
      "Epoch 10/10\n",
      "1650/1650 [==============================] - 737s 446ms/step - loss: 0.6096 - accuracy: 0.6547 - val_loss: 0.7102 - val_accuracy: 0.5629\n"
     ]
    },
    {
     "name": "stderr",
     "output_type": "stream",
     "text": [
      "WARNING:absl:Found untraced functions such as lstm_cell_layer_call_fn, lstm_cell_layer_call_and_return_conditional_losses, lstm_cell_1_layer_call_fn, lstm_cell_1_layer_call_and_return_conditional_losses, lstm_cell_layer_call_fn while saving (showing 5 of 10). These functions will not be directly callable after loading.\n",
      "WARNING:absl:<keras.layers.recurrent.LSTMCell object at 0x0000025505DD6490> has the same name 'LSTMCell' as a built-in Keras object. Consider renaming <class 'keras.layers.recurrent.LSTMCell'> to avoid naming conflicts when loading with `tf.keras.models.load_model`. If renaming is not possible, pass the object in the `custom_objects` parameter of the load function.\n",
      "WARNING:absl:<keras.layers.recurrent.LSTMCell object at 0x0000025517089CD0> has the same name 'LSTMCell' as a built-in Keras object. Consider renaming <class 'keras.layers.recurrent.LSTMCell'> to avoid naming conflicts when loading with `tf.keras.models.load_model`. If renaming is not possible, pass the object in the `custom_objects` parameter of the load function.\n"
     ]
    }
   ],
   "source": [
    "# Train: `slice_from_beginning`=True\n",
    "train_gen = core.load_dataset_wsd(slice_from_beginning=True, ROOT_PATH=DB_ROOT_PATH, db_ver=db_ver, constituent_limits=constituent_limits, id_constituent=id_constituent, batch_size=batch_size, shuffle_buffer_size=shuffle_buffer_size, seed=0, generator=generator, model_no=model_no)\n",
    "# Validation: `slice_from_beginning`=False. constituent_limits in validation is always 0 (focus on idx performance progression only)\n",
    "validation_gen = core.load_dataset_wsd(slice_from_beginning=False, ROOT_PATH=DB_ROOT_PATH, db_ver=db_ver, constituent_limits=0, id_constituent=id_constituent, batch_size=batch_size, shuffle_buffer_size=shuffle_buffer_size, seed=0, generator=generator, model_no=model_no)\n",
    "\n",
    "# Load model backbone\n",
    "model = core.model_switcher_preloaded(model_no, version=version)\n",
    "history = model.fit(train_gen, validation_data=validation_gen, epochs=epochs, verbose=1)\n",
    "\n",
    "save_path = core.os.path.join(ROOT_PATH, f'models/preloaded/{iter_id}/')\n",
    "model.save_weights(f'{save_path}/weights/checkpoint')\n",
    "model.save(f'{save_path}/model')\n",
    "\n",
    "with open(f'{save_path}/history.json', 'w') as f:\n",
    "    core.json.dump(history.history, f)"
   ]
  },
  {
   "cell_type": "code",
   "execution_count": 3,
   "id": "8286a3d7-60ae-4a15-a44e-6e8ef170578b",
   "metadata": {},
   "outputs": [],
   "source": [
    "model_base_id = '327'\n",
    "version = '3'\n",
    "model_no = model_base_id\n",
    "constituent_limits = 0.05\n",
    "id_constituent = 1\n",
    "min_vid_constituents = 0.4\n",
    "epochs = 10\n",
    "batch_size = 512\n",
    "iter_id = f'model-{model_no}-{version}_constituentlimits-{constituent_limits}_idconstituent-{id_constituent}_minvidconstituents-{min_vid_constituents}_epochs-{epochs}_batchsize-{batch_size}'\n",
    "ROOT_PATH='./'\n",
    "DB_ROOT_PATH='J:\\#PROJECT\\idx'\n",
    "db_ver = '8'\n",
    "\n",
    "shuffle_buffer_size = 1\n",
    "generator=True"
   ]
  },
  {
   "cell_type": "code",
   "execution_count": 4,
   "id": "f7a07c80-815d-4a27-9194-8f1a1057163c",
   "metadata": {},
   "outputs": [
    {
     "name": "stdout",
     "output_type": "stream",
     "text": [
      "Total constituents: 2229\n",
      "Total constituents: 422\n",
      "Epoch 1/10\n",
      "4584/4584 [==============================] - 2582s 562ms/step - loss: 0.6707 - accuracy: 0.5909 - val_loss: 0.6572 - val_accuracy: 0.6021\n",
      "Epoch 2/10\n",
      "4584/4584 [==============================] - 2648s 577ms/step - loss: 0.6555 - accuracy: 0.6095 - val_loss: 0.6572 - val_accuracy: 0.6031\n",
      "Epoch 3/10\n",
      "4584/4584 [==============================] - 2733s 596ms/step - loss: 0.6501 - accuracy: 0.6148 - val_loss: 0.6638 - val_accuracy: 0.6015\n",
      "Epoch 4/10\n",
      "4584/4584 [==============================] - 2664s 581ms/step - loss: 0.6449 - accuracy: 0.6194 - val_loss: 0.6801 - val_accuracy: 0.5766\n",
      "Epoch 5/10\n",
      "4584/4584 [==============================] - 2659s 580ms/step - loss: 0.6396 - accuracy: 0.6243 - val_loss: 0.6959 - val_accuracy: 0.5738\n",
      "Epoch 6/10\n",
      "4584/4584 [==============================] - 2695s 588ms/step - loss: 0.6344 - accuracy: 0.6291 - val_loss: 0.7099 - val_accuracy: 0.5710\n",
      "Epoch 7/10\n",
      "4584/4584 [==============================] - 2657s 579ms/step - loss: 0.6290 - accuracy: 0.6345 - val_loss: 0.7287 - val_accuracy: 0.5667\n",
      "Epoch 8/10\n",
      "4584/4584 [==============================] - 2608s 569ms/step - loss: 0.6236 - accuracy: 0.6398 - val_loss: 0.7453 - val_accuracy: 0.5596\n",
      "Epoch 9/10\n",
      "4584/4584 [==============================] - 2636s 575ms/step - loss: 0.6177 - accuracy: 0.6455 - val_loss: 0.7714 - val_accuracy: 0.5567\n",
      "Epoch 10/10\n",
      "4584/4584 [==============================] - 3085s 673ms/step - loss: 0.6119 - accuracy: 0.6510 - val_loss: 0.7607 - val_accuracy: 0.5582\n"
     ]
    },
    {
     "name": "stderr",
     "output_type": "stream",
     "text": [
      "WARNING:absl:Found untraced functions such as lstm_cell_layer_call_fn, lstm_cell_layer_call_and_return_conditional_losses, lstm_cell_1_layer_call_fn, lstm_cell_1_layer_call_and_return_conditional_losses, lstm_cell_layer_call_fn while saving (showing 5 of 10). These functions will not be directly callable after loading.\n",
      "WARNING:absl:<keras.layers.recurrent.LSTMCell object at 0x000001699476C940> has the same name 'LSTMCell' as a built-in Keras object. Consider renaming <class 'keras.layers.recurrent.LSTMCell'> to avoid naming conflicts when loading with `tf.keras.models.load_model`. If renaming is not possible, pass the object in the `custom_objects` parameter of the load function.\n",
      "WARNING:absl:<keras.layers.recurrent.LSTMCell object at 0x00000169A5935CD0> has the same name 'LSTMCell' as a built-in Keras object. Consider renaming <class 'keras.layers.recurrent.LSTMCell'> to avoid naming conflicts when loading with `tf.keras.models.load_model`. If renaming is not possible, pass the object in the `custom_objects` parameter of the load function.\n"
     ]
    }
   ],
   "source": [
    "# Train: `slice_from_beginning`=True\n",
    "train_gen = core.load_dataset_wsd(slice_from_beginning=True, ROOT_PATH=DB_ROOT_PATH, db_ver=db_ver, constituent_limits=constituent_limits, id_constituent=id_constituent, batch_size=batch_size, shuffle_buffer_size=shuffle_buffer_size, seed=0, generator=generator, model_no=model_no, min_vid_constituents=min_vid_constituents)\n",
    "# Validation: `slice_from_beginning`=False. constituent_limits in validation is always 0 (focus on idx performance progression only)\n",
    "validation_gen = core.load_dataset_wsd(slice_from_beginning=False, ROOT_PATH=DB_ROOT_PATH, db_ver=db_ver, constituent_limits=0, id_constituent=id_constituent, batch_size=batch_size, shuffle_buffer_size=shuffle_buffer_size, seed=0, generator=generator, model_no=model_no, min_vid_constituents=min_vid_constituents)\n",
    "\n",
    "# Load model backbone\n",
    "model = core.model_switcher_preloaded(model_no, version=version)\n",
    "history = model.fit(train_gen, validation_data=validation_gen, epochs=epochs, verbose=1)\n",
    "\n",
    "save_path = core.os.path.join(ROOT_PATH, f'models/preloaded/{iter_id}/')\n",
    "model.save_weights(f'{save_path}/weights/checkpoint')\n",
    "model.save(f'{save_path}/model')\n",
    "\n",
    "with open(f'{save_path}/history.json', 'w') as f:\n",
    "    core.json.dump(history.history, f)"
   ]
  },
  {
   "cell_type": "code",
   "execution_count": 3,
   "id": "58ecedc1-c75f-4895-b953-e373e3ed9b52",
   "metadata": {},
   "outputs": [],
   "source": [
    "model_base_id = '327'\n",
    "version = '3'\n",
    "model_no = model_base_id\n",
    "constituent_limits = 0.025\n",
    "id_constituent = 1\n",
    "min_vid_constituents = 0.5\n",
    "epochs = 10\n",
    "batch_size = 512\n",
    "iter_id = f'model-{model_no}-{version}_constituentlimits-{constituent_limits}_idconstituent-{id_constituent}_minvidconstituents-{min_vid_constituents}_epochs-{epochs}_batchsize-{batch_size}_2'\n",
    "ROOT_PATH='./'\n",
    "DB_ROOT_PATH='J:\\#PROJECT\\idx'\n",
    "db_ver = '8'\n",
    "\n",
    "shuffle_buffer_size = 1\n",
    "generator=True"
   ]
  },
  {
   "cell_type": "code",
   "execution_count": 4,
   "id": "4662f217-a488-4950-91b3-dba2db428ee9",
   "metadata": {},
   "outputs": [
    {
     "name": "stdout",
     "output_type": "stream",
     "text": [
      "Total constituents: 1301\n",
      "Total constituents: 422\n",
      "Epoch 1/10\n",
      "2996/2996 [==============================] - 1409s 468ms/step - loss: 0.6782 - accuracy: 0.5832 - val_loss: 0.6671 - val_accuracy: 0.5863\n",
      "Epoch 2/10\n",
      "2996/2996 [==============================] - 1430s 477ms/step - loss: 0.6571 - accuracy: 0.6071 - val_loss: 0.6624 - val_accuracy: 0.6006\n",
      "Epoch 3/10\n",
      "2996/2996 [==============================] - 1427s 476ms/step - loss: 0.6516 - accuracy: 0.6134 - val_loss: 0.6699 - val_accuracy: 0.5884\n",
      "Epoch 4/10\n",
      "2996/2996 [==============================] - 1454s 485ms/step - loss: 0.6468 - accuracy: 0.6181 - val_loss: 0.6825 - val_accuracy: 0.5775\n",
      "Epoch 5/10\n",
      "2996/2996 [==============================] - 1456s 486ms/step - loss: 0.6420 - accuracy: 0.6222 - val_loss: 0.7020 - val_accuracy: 0.5716\n",
      "Epoch 6/10\n",
      "2996/2996 [==============================] - 1602s 535ms/step - loss: 0.6371 - accuracy: 0.6273 - val_loss: 0.7067 - val_accuracy: 0.5745\n",
      "Epoch 7/10\n",
      "2996/2996 [==============================] - 1508s 503ms/step - loss: 0.6320 - accuracy: 0.6320 - val_loss: 0.7193 - val_accuracy: 0.5676\n",
      "Epoch 8/10\n",
      "2996/2996 [==============================] - 1509s 503ms/step - loss: 0.6270 - accuracy: 0.6365 - val_loss: 0.7278 - val_accuracy: 0.5637\n",
      "Epoch 9/10\n",
      "2996/2996 [==============================] - 1393s 465ms/step - loss: 0.6216 - accuracy: 0.6416 - val_loss: 0.7417 - val_accuracy: 0.5587\n",
      "Epoch 10/10\n",
      "2996/2996 [==============================] - 1447s 483ms/step - loss: 0.6160 - accuracy: 0.6471 - val_loss: 0.7515 - val_accuracy: 0.5546\n"
     ]
    },
    {
     "name": "stderr",
     "output_type": "stream",
     "text": [
      "WARNING:absl:Found untraced functions such as lstm_cell_layer_call_fn, lstm_cell_layer_call_and_return_conditional_losses, lstm_cell_1_layer_call_fn, lstm_cell_1_layer_call_and_return_conditional_losses, lstm_cell_layer_call_fn while saving (showing 5 of 10). These functions will not be directly callable after loading.\n",
      "WARNING:absl:<keras.layers.recurrent.LSTMCell object at 0x0000027B3636B430> has the same name 'LSTMCell' as a built-in Keras object. Consider renaming <class 'keras.layers.recurrent.LSTMCell'> to avoid naming conflicts when loading with `tf.keras.models.load_model`. If renaming is not possible, pass the object in the `custom_objects` parameter of the load function.\n",
      "WARNING:absl:<keras.layers.recurrent.LSTMCell object at 0x0000027B81845C70> has the same name 'LSTMCell' as a built-in Keras object. Consider renaming <class 'keras.layers.recurrent.LSTMCell'> to avoid naming conflicts when loading with `tf.keras.models.load_model`. If renaming is not possible, pass the object in the `custom_objects` parameter of the load function.\n"
     ]
    }
   ],
   "source": [
    "# Train: `slice_from_beginning`=True\n",
    "train_gen = core.load_dataset_wsd(slice_from_beginning=True, ROOT_PATH=DB_ROOT_PATH, db_ver=db_ver, constituent_limits=constituent_limits, id_constituent=id_constituent, batch_size=batch_size, shuffle_buffer_size=shuffle_buffer_size, seed=0, generator=generator, model_no=model_no, min_vid_constituents=min_vid_constituents)\n",
    "# Validation: `slice_from_beginning`=False. constituent_limits in validation is always 0 (focus on idx performance progression only)\n",
    "validation_gen = core.load_dataset_wsd(slice_from_beginning=False, ROOT_PATH=DB_ROOT_PATH, db_ver=db_ver, constituent_limits=0, id_constituent=id_constituent, batch_size=batch_size, shuffle_buffer_size=shuffle_buffer_size, seed=0, generator=generator, model_no=model_no, min_vid_constituents=min_vid_constituents)\n",
    "\n",
    "# Load model backbone\n",
    "model = core.model_switcher_preloaded(model_no, version=version)\n",
    "history = model.fit(train_gen, validation_data=validation_gen, epochs=epochs, verbose=1)\n",
    "\n",
    "save_path = core.os.path.join(ROOT_PATH, f'models/preloaded/{iter_id}/')\n",
    "model.save_weights(f'{save_path}/weights/checkpoint')\n",
    "model.save(f'{save_path}/model')\n",
    "\n",
    "with open(f'{save_path}/history.json', 'w') as f:\n",
    "    core.json.dump(history.history, f)"
   ]
  },
  {
   "cell_type": "code",
   "execution_count": 3,
   "id": "a36c6dfa-a674-4621-8b93-2f2deb28bd82",
   "metadata": {},
   "outputs": [],
   "source": [
    "model_base_id = '327'\n",
    "version = '5'\n",
    "model_no = model_base_id\n",
    "constituent_limits = 0.15\n",
    "id_constituent = 1\n",
    "min_vid_constituents = 0.2\n",
    "epochs = 1\n",
    "batch_size = 512\n",
    "iter_id = f'model-{model_no}-{version}_constituentlimits-{constituent_limits}_idconstituent-{id_constituent}_minvidconstituents-{min_vid_constituents}_epochs-{epochs}_batchsize-{batch_size}_2'\n",
    "ROOT_PATH='./'\n",
    "DB_ROOT_PATH='J:\\#PROJECT\\idx'\n",
    "db_ver = '8'\n",
    "\n",
    "shuffle_buffer_size = 1\n",
    "generator=True"
   ]
  },
  {
   "cell_type": "code",
   "execution_count": 4,
   "id": "1808a195-2a2d-4438-ae4e-2ac6c5a171e4",
   "metadata": {},
   "outputs": [
    {
     "name": "stdout",
     "output_type": "stream",
     "text": [
      "Total constituents: 5428\n",
      "Total constituents: 422\n",
      "Epoch 1-1/1\n",
      "5101/5101 [==============================] - 1948s 381ms/step - loss: 0.7535 - accuracy: 0.5138 - val_loss: 0.7061 - val_accuracy: 0.5282\n",
      "Epoch 1-2/1\n",
      "5032/5032 [==============================] - 1972s 392ms/step - loss: 0.6948 - accuracy: 0.5406 - val_loss: 0.6861 - val_accuracy: 0.5551\n",
      "Epoch 1-3/1\n",
      "5274/5274 [==============================] - 2009s 381ms/step - loss: 0.6816 - accuracy: 0.5631 - val_loss: 0.6752 - val_accuracy: 0.5764\n",
      "Epoch 1-4/1\n",
      "5129/5129 [==============================] - 2298s 448ms/step - loss: 0.6729 - accuracy: 0.5804 - val_loss: 0.6697 - val_accuracy: 0.5869\n",
      "Epoch 1-5/1\n",
      "5068/5068 [==============================] - 2257s 445ms/step - loss: 0.6675 - accuracy: 0.5906 - val_loss: 0.6654 - val_accuracy: 0.5949\n"
     ]
    },
    {
     "name": "stderr",
     "output_type": "stream",
     "text": [
      "WARNING:absl:Found untraced functions such as lstm_cell_layer_call_fn, lstm_cell_layer_call_and_return_conditional_losses, lstm_cell_1_layer_call_fn, lstm_cell_1_layer_call_and_return_conditional_losses, lstm_cell_layer_call_fn while saving (showing 5 of 10). These functions will not be directly callable after loading.\n",
      "WARNING:absl:<keras.layers.recurrent.LSTMCell object at 0x000002211422C670> has the same name 'LSTMCell' as a built-in Keras object. Consider renaming <class 'keras.layers.recurrent.LSTMCell'> to avoid naming conflicts when loading with `tf.keras.models.load_model`. If renaming is not possible, pass the object in the `custom_objects` parameter of the load function.\n",
      "WARNING:absl:<keras.layers.recurrent.LSTMCell object at 0x00000222224886D0> has the same name 'LSTMCell' as a built-in Keras object. Consider renaming <class 'keras.layers.recurrent.LSTMCell'> to avoid naming conflicts when loading with `tf.keras.models.load_model`. If renaming is not possible, pass the object in the `custom_objects` parameter of the load function.\n"
     ]
    }
   ],
   "source": [
    "# Train: `slice_from_beginning`=True\n",
    "train_gen = core.load_dataset_wsd(slice_from_beginning=True, ROOT_PATH=DB_ROOT_PATH, db_ver=db_ver, constituent_limits=constituent_limits, id_constituent=id_constituent, batch_size=batch_size, shuffle_buffer_size=shuffle_buffer_size, seed=0, generator=generator, model_no=model_no)\n",
    "# Validation: `slice_from_beginning`=False. constituent_limits in validation is always 0 (focus on idx performance progression only)\n",
    "validation_gen = core.load_dataset_wsd(slice_from_beginning=False, ROOT_PATH=DB_ROOT_PATH, db_ver=db_ver, constituent_limits=0, id_constituent=id_constituent, batch_size=batch_size, shuffle_buffer_size=shuffle_buffer_size, seed=0, generator=generator, model_no=model_no)\n",
    "\n",
    "# Load model backbone\n",
    "model = core.model_switcher_preloaded(model_no, version=version)\n",
    "if type(train_gen) == list:\n",
    "    for epoch in range(epochs):\n",
    "        for i, tg in enumerate(train_gen):\n",
    "            print(f'Epoch {epoch+1}-{i+1}/{epochs}')\n",
    "            history = model.fit(tg, validation_data=validation_gen, epochs=1, verbose=1)\n",
    "elif type(train_gen) != list:\n",
    "    history = model.fit(train_gen, validation_data=validation_gen, epochs=epochs, verbose=1)\n",
    "\n",
    "save_path = core.os.path.join(ROOT_PATH, f'models/preloaded/{iter_id}/')\n",
    "model.save_weights(f'{save_path}/weights/checkpoint')\n",
    "model.save(f'{save_path}/model')\n",
    "\n",
    "with open(f'{save_path}/history.json', 'w') as f:\n",
    "    core.json.dump(history.history, f)"
   ]
  },
  {
   "cell_type": "code",
   "execution_count": 3,
   "id": "3a901de9-4876-493d-aec1-e917f1fc479e",
   "metadata": {},
   "outputs": [],
   "source": [
    "model_base_id = '327'\n",
    "version = '5'\n",
    "model_no = model_base_id\n",
    "constituent_limits = 0.15\n",
    "id_constituent = 1\n",
    "min_vid_constituents = 0.2\n",
    "epochs = 5\n",
    "batch_size = 1024\n",
    "iter_id = f'model-{model_no}-{version}_constituentlimits-{constituent_limits}_idconstituent-{id_constituent}_minvidconstituents-{min_vid_constituents}_epochs-{epochs}_batchsize-{batch_size}_2'\n",
    "ROOT_PATH='./'\n",
    "DB_ROOT_PATH='J:\\#PROJECT\\idx'\n",
    "db_ver = '8'\n",
    "\n",
    "shuffle_buffer_size = 1\n",
    "generator=True"
   ]
  },
  {
   "cell_type": "code",
   "execution_count": 4,
   "id": "5099013e-c2b4-4f1f-804e-39ef50ce77d2",
   "metadata": {},
   "outputs": [
    {
     "name": "stdout",
     "output_type": "stream",
     "text": [
      "Total constituents: 5428\n",
      "Total constituents: 422\n",
      "Epoch 1-1/5\n",
      "2555/2555 [==============================] - 1938s 756ms/step - loss: 0.7501 - accuracy: 0.5057 - val_loss: 0.7044 - val_accuracy: 0.5304\n",
      "Epoch 1-2/5\n",
      "2515/2515 [==============================] - 1960s 779ms/step - loss: 0.6977 - accuracy: 0.5359 - val_loss: 0.6881 - val_accuracy: 0.5516\n",
      "Epoch 1-3/5\n",
      "2648/2648 [==============================] - 1996s 754ms/step - loss: 0.6859 - accuracy: 0.5547 - val_loss: 0.6804 - val_accuracy: 0.5667\n",
      "Epoch 1-4/5\n",
      "2563/2563 [==============================] - 1928s 752ms/step - loss: 0.6783 - accuracy: 0.5695 - val_loss: 0.6751 - val_accuracy: 0.5769\n",
      "Epoch 1-5/5\n",
      "2552/2552 [==============================] - 1947s 763ms/step - loss: 0.6727 - accuracy: 0.5799 - val_loss: 0.6711 - val_accuracy: 0.5851\n",
      "Epoch 1-6/5\n",
      "1144/1144 [==============================] - 979s 856ms/step - loss: 0.6700 - accuracy: 0.5857 - val_loss: 0.6699 - val_accuracy: 0.5882\n",
      "Epoch 2-1/5\n",
      "2555/2555 [==============================] - 1918s 750ms/step - loss: 0.6686 - accuracy: 0.5880 - val_loss: 0.6674 - val_accuracy: 0.5926\n",
      "Epoch 2-2/5\n",
      "2515/2515 [==============================] - 1925s 765ms/step - loss: 0.6652 - accuracy: 0.5945 - val_loss: 0.6652 - val_accuracy: 0.5967\n",
      "Epoch 2-3/5\n",
      "2648/2648 [==============================] - 1991s 752ms/step - loss: 0.6642 - accuracy: 0.5961 - val_loss: 0.6637 - val_accuracy: 0.5992\n",
      "Epoch 2-4/5\n",
      "2563/2563 [==============================] - 1947s 759ms/step - loss: 0.6625 - accuracy: 0.5992 - val_loss: 0.6627 - val_accuracy: 0.6009\n",
      "Epoch 2-5/5\n",
      "2552/2552 [==============================] - 1892s 741ms/step - loss: 0.6611 - accuracy: 0.6006 - val_loss: 0.6616 - val_accuracy: 0.6027\n",
      "Epoch 2-6/5\n",
      "1144/1144 [==============================] - 957s 836ms/step - loss: 0.6608 - accuracy: 0.6020 - val_loss: 0.6614 - val_accuracy: 0.6033\n",
      "Epoch 3-1/5\n",
      "2555/2555 [==============================] - 1863s 729ms/step - loss: 0.6612 - accuracy: 0.6007 - val_loss: 0.6606 - val_accuracy: 0.6043\n",
      "Epoch 3-2/5\n",
      "2515/2515 [==============================] - 1874s 745ms/step - loss: 0.6592 - accuracy: 0.6047 - val_loss: 0.6597 - val_accuracy: 0.6054\n",
      "Epoch 3-3/5\n",
      "2648/2648 [==============================] - 1993s 753ms/step - loss: 0.6595 - accuracy: 0.6037 - val_loss: 0.6591 - val_accuracy: 0.6063\n",
      "Epoch 3-4/5\n",
      "2563/2563 [==============================] - 1916s 747ms/step - loss: 0.6586 - accuracy: 0.6054 - val_loss: 0.6587 - val_accuracy: 0.6070\n",
      "Epoch 3-5/5\n",
      "2552/2552 [==============================] - 1933s 757ms/step - loss: 0.6580 - accuracy: 0.6058 - val_loss: 0.6581 - val_accuracy: 0.6076\n",
      "Epoch 3-6/5\n",
      "1144/1144 [==============================] - 981s 858ms/step - loss: 0.6581 - accuracy: 0.6064 - val_loss: 0.6581 - val_accuracy: 0.6082\n",
      "Epoch 4-1/5\n",
      "2555/2555 [==============================] - 1968s 770ms/step - loss: 0.6587 - accuracy: 0.6045 - val_loss: 0.6577 - val_accuracy: 0.6083\n",
      "Epoch 4-2/5\n",
      "2515/2515 [==============================] - 1950s 775ms/step - loss: 0.6571 - accuracy: 0.6077 - val_loss: 0.6571 - val_accuracy: 0.6095\n",
      "Epoch 4-3/5\n",
      "2648/2648 [==============================] - 1977s 746ms/step - loss: 0.6577 - accuracy: 0.6067 - val_loss: 0.6567 - val_accuracy: 0.6100\n",
      "Epoch 4-4/5\n",
      "2563/2563 [==============================] - 1938s 756ms/step - loss: 0.6570 - accuracy: 0.6075 - val_loss: 0.6564 - val_accuracy: 0.6103\n",
      "Epoch 4-5/5\n",
      "2552/2552 [==============================] - 1943s 761ms/step - loss: 0.6565 - accuracy: 0.6077 - val_loss: 0.6561 - val_accuracy: 0.6105\n",
      "Epoch 4-6/5\n",
      "1144/1144 [==============================] - 987s 863ms/step - loss: 0.6568 - accuracy: 0.6082 - val_loss: 0.6560 - val_accuracy: 0.6108\n",
      "Epoch 5-1/5\n",
      "2555/2555 [==============================] - 1950s 763ms/step - loss: 0.6574 - accuracy: 0.6063 - val_loss: 0.6557 - val_accuracy: 0.6108\n",
      "Epoch 5-2/5\n",
      "2515/2515 [==============================] - 1966s 782ms/step - loss: 0.6558 - accuracy: 0.6093 - val_loss: 0.6551 - val_accuracy: 0.6112\n",
      "Epoch 5-3/5\n",
      "2648/2648 [==============================] - 2005s 757ms/step - loss: 0.6566 - accuracy: 0.6082 - val_loss: 0.6548 - val_accuracy: 0.6117\n",
      "Epoch 5-4/5\n",
      "2563/2563 [==============================] - 1934s 755ms/step - loss: 0.6559 - accuracy: 0.6086 - val_loss: 0.6546 - val_accuracy: 0.6118\n",
      "Epoch 5-5/5\n",
      "2552/2552 [==============================] - 1929s 756ms/step - loss: 0.6556 - accuracy: 0.6089 - val_loss: 0.6543 - val_accuracy: 0.6123\n",
      "Epoch 5-6/5\n",
      "1144/1144 [==============================] - 981s 857ms/step - loss: 0.6559 - accuracy: 0.6091 - val_loss: 0.6543 - val_accuracy: 0.6124\n"
     ]
    },
    {
     "name": "stderr",
     "output_type": "stream",
     "text": [
      "WARNING:absl:Found untraced functions such as lstm_cell_layer_call_fn, lstm_cell_layer_call_and_return_conditional_losses, lstm_cell_1_layer_call_fn, lstm_cell_1_layer_call_and_return_conditional_losses, lstm_cell_layer_call_fn while saving (showing 5 of 10). These functions will not be directly callable after loading.\n",
      "WARNING:absl:<keras.layers.recurrent.LSTMCell object at 0x000001DDA5119160> has the same name 'LSTMCell' as a built-in Keras object. Consider renaming <class 'keras.layers.recurrent.LSTMCell'> to avoid naming conflicts when loading with `tf.keras.models.load_model`. If renaming is not possible, pass the object in the `custom_objects` parameter of the load function.\n",
      "WARNING:absl:<keras.layers.recurrent.LSTMCell object at 0x000001DEA25E6CD0> has the same name 'LSTMCell' as a built-in Keras object. Consider renaming <class 'keras.layers.recurrent.LSTMCell'> to avoid naming conflicts when loading with `tf.keras.models.load_model`. If renaming is not possible, pass the object in the `custom_objects` parameter of the load function.\n"
     ]
    }
   ],
   "source": [
    "# Train: `slice_from_beginning`=True\n",
    "train_gen = core.load_dataset_wsd(slice_from_beginning=True, ROOT_PATH=DB_ROOT_PATH, db_ver=db_ver, constituent_limits=constituent_limits, id_constituent=id_constituent, batch_size=batch_size, shuffle_buffer_size=shuffle_buffer_size, seed=0, generator=generator, model_no=model_no)\n",
    "# Validation: `slice_from_beginning`=False. constituent_limits in validation is always 0 (focus on idx performance progression only)\n",
    "validation_gen = core.load_dataset_wsd(slice_from_beginning=False, ROOT_PATH=DB_ROOT_PATH, db_ver=db_ver, constituent_limits=0, id_constituent=id_constituent, batch_size=batch_size, shuffle_buffer_size=shuffle_buffer_size, seed=0, generator=generator, model_no=model_no)\n",
    "\n",
    "# Load model backbone\n",
    "model = core.model_switcher_preloaded(model_no, version=version)\n",
    "if type(train_gen) == list:\n",
    "    for epoch in range(epochs):\n",
    "        for i, tg in enumerate(train_gen):\n",
    "            print(f'Epoch {epoch+1}-{i+1}/{epochs}')\n",
    "            history = model.fit(tg, validation_data=validation_gen, epochs=1, verbose=1)\n",
    "elif type(train_gen) != list:\n",
    "    history = model.fit(train_gen, validation_data=validation_gen, epochs=epochs, verbose=1)\n",
    "\n",
    "save_path = core.os.path.join(ROOT_PATH, f'models/preloaded/{iter_id}/')\n",
    "model.save_weights(f'{save_path}/weights/checkpoint')\n",
    "model.save(f'{save_path}/model')\n",
    "\n",
    "with open(f'{save_path}/history.json', 'w') as f:\n",
    "    core.json.dump(history.history, f)"
   ]
  },
  {
   "cell_type": "code",
   "execution_count": 3,
   "id": "3b2fb4b6-aa0e-4bb7-911f-e2db48e4371e",
   "metadata": {},
   "outputs": [],
   "source": [
    "model_base_id = '327'\n",
    "version = '4'\n",
    "model_no = model_base_id\n",
    "constituent_limits = 0.3\n",
    "id_constituent = 1\n",
    "min_vid_constituents = 0.3\n",
    "epochs = 10\n",
    "batch_size = 512\n",
    "iter_id = f'model-{model_no}-{version}_constituentlimits-{constituent_limits}_idconstituent-{id_constituent}_minvidconstituents-{min_vid_constituents}_epochs-{epochs}_batchsize-{batch_size}_2'\n",
    "ROOT_PATH='./'\n",
    "DB_ROOT_PATH='J:\\#PROJECT\\idx'\n",
    "db_ver = '8'\n",
    "\n",
    "shuffle_buffer_size = 1\n",
    "generator=True"
   ]
  },
  {
   "cell_type": "code",
   "execution_count": null,
   "id": "ba04430f-bade-4dcc-8cd8-ba90bb2a2b8d",
   "metadata": {},
   "outputs": [
    {
     "name": "stdout",
     "output_type": "stream",
     "text": [
      "Total constituents: 11726\n",
      "Total constituents: 422\n",
      "Epoch 1-1/10\n",
      "4962/4962 [==============================] - 3206s 644ms/step - loss: 0.6698 - accuracy: 0.5910 - val_loss: 0.6575 - val_accuracy: 0.6045\n",
      "Epoch 1-2/10\n",
      "4996/4996 [==============================] - 3430s 687ms/step - loss: 0.6556 - accuracy: 0.6092 - val_loss: 0.6525 - val_accuracy: 0.6127\n",
      "Epoch 1-3/10\n",
      "4912/4912 [==============================] - 3158s 643ms/step - loss: 0.6529 - accuracy: 0.6122 - val_loss: 0.6572 - val_accuracy: 0.6119\n",
      "Epoch 1-4/10\n",
      "5110/5110 [==============================] - 3159s 618ms/step - loss: 0.6509 - accuracy: 0.6135 - val_loss: 0.6749 - val_accuracy: 0.5917\n",
      "Epoch 1-5/10\n",
      "4932/4932 [==============================] - 3118s 632ms/step - loss: 0.6490 - accuracy: 0.6153 - val_loss: 0.6620 - val_accuracy: 0.5953\n",
      "Epoch 1-6/10\n",
      "   1302/Unknown - 694s 533ms/step - loss: 0.6471 - accuracy: 0.6147"
     ]
    }
   ],
   "source": [
    "# Train: `slice_from_beginning`=True\n",
    "train_gen = core.load_dataset_wsd(slice_from_beginning=True, ROOT_PATH=DB_ROOT_PATH, db_ver=db_ver, constituent_limits=constituent_limits, id_constituent=id_constituent, batch_size=batch_size, shuffle_buffer_size=shuffle_buffer_size, seed=0, generator=generator, model_no=model_no, min_vid_constituents=min_vid_constituents)\n",
    "# Validation: `slice_from_beginning`=False. constituent_limits in validation is always 0 (focus on idx performance progression only)\n",
    "validation_gen = core.load_dataset_wsd(slice_from_beginning=False, ROOT_PATH=DB_ROOT_PATH, db_ver=db_ver, constituent_limits=0, id_constituent=id_constituent, batch_size=batch_size, shuffle_buffer_size=shuffle_buffer_size, seed=0, generator=generator, model_no=model_no, min_vid_constituents=min_vid_constituents)\n",
    "\n",
    "# Load model backbone\n",
    "model = core.model_switcher_preloaded(model_no, version=version)\n",
    "if type(train_gen) == list:\n",
    "    for epoch in range(epochs):\n",
    "        for i, tg in enumerate(train_gen):\n",
    "            print(f'Epoch {epoch+1}-{i+1}/{epochs}')\n",
    "            history = model.fit(tg, validation_data=validation_gen, epochs=1, verbose=1)\n",
    "elif type(train_gen) != list:\n",
    "    history = model.fit(train_gen, validation_data=validation_gen, epochs=epochs, verbose=1)\n",
    "\n",
    "save_path = core.os.path.join(ROOT_PATH, f'models/preloaded/{iter_id}/')\n",
    "model.save_weights(f'{save_path}/weights/checkpoint')\n",
    "model.save(f'{save_path}/model')\n",
    "\n",
    "with open(f'{save_path}/history.json', 'w') as f:\n",
    "    core.json.dump(history.history, f)"
   ]
  },
  {
   "cell_type": "code",
   "execution_count": 3,
   "id": "180865d3-2469-41a4-9257-418b3e975c6c",
   "metadata": {},
   "outputs": [],
   "source": [
    "model_base_id = '327'\n",
    "version = '3'\n",
    "model_no = model_base_id\n",
    "constituent_limits = 0.1\n",
    "id_constituent = 1\n",
    "min_vid_constituents = 0.2\n",
    "epochs = 10\n",
    "batch_size = 2048\n",
    "iter_id = f'model-{model_no}-{version}_constituentlimits-{constituent_limits}_idconstituent-{id_constituent}_minvidconstituents-{min_vid_constituents}_epochs-{epochs}_batchsize-{batch_size}_2'\n",
    "ROOT_PATH='./'\n",
    "DB_ROOT_PATH='J:\\#PROJECT\\idx'\n",
    "db_ver = '8'\n",
    "\n",
    "shuffle_buffer_size = 1\n",
    "generator=True"
   ]
  },
  {
   "cell_type": "code",
   "execution_count": null,
   "id": "bf6b73bc-b33a-433d-af62-6b2a015a3c3f",
   "metadata": {},
   "outputs": [
    {
     "name": "stdout",
     "output_type": "stream",
     "text": [
      "Total constituents: 3637\n",
      "Total constituents: 422\n",
      "Epoch 1-1/10\n",
      "      3/Unknown - 32s 5s/step - loss: 1.2008 - accuracy: 0.5086"
     ]
    }
   ],
   "source": [
    "# Train: `slice_from_beginning`=True\n",
    "train_gen = core.load_dataset_wsd(slice_from_beginning=True, ROOT_PATH=DB_ROOT_PATH, db_ver=db_ver, constituent_limits=constituent_limits, id_constituent=id_constituent, batch_size=batch_size, shuffle_buffer_size=shuffle_buffer_size, seed=0, generator=generator, model_no=model_no, min_vid_constituents=min_vid_constituents)\n",
    "# Validation: `slice_from_beginning`=False. constituent_limits in validation is always 0 (focus on idx performance progression only)\n",
    "validation_gen = core.load_dataset_wsd(slice_from_beginning=False, ROOT_PATH=DB_ROOT_PATH, db_ver=db_ver, constituent_limits=0, id_constituent=id_constituent, batch_size=batch_size, shuffle_buffer_size=shuffle_buffer_size, seed=0, generator=generator, model_no=model_no, min_vid_constituents=min_vid_constituents)\n",
    "\n",
    "# Load model backbone\n",
    "model = core.model_switcher_preloaded(model_no, version=version)\n",
    "if type(train_gen) == list:\n",
    "    for epoch in range(epochs):\n",
    "        for i, tg in enumerate(train_gen):\n",
    "            print(f'Epoch {epoch+1}-{i+1}/{epochs}')\n",
    "            history = model.fit(tg, validation_data=validation_gen, epochs=1, verbose=1)\n",
    "elif type(train_gen) != list:\n",
    "    history = model.fit(train_gen, validation_data=validation_gen, epochs=epochs, verbose=1)\n",
    "\n",
    "save_path = core.os.path.join(ROOT_PATH, f'models/preloaded/{iter_id}/')\n",
    "model.save_weights(f'{save_path}/weights/checkpoint')\n",
    "model.save(f'{save_path}/model')\n",
    "\n",
    "with open(f'{save_path}/history.json', 'w') as f:\n",
    "    core.json.dump(history.history, f)"
   ]
  },
  {
   "cell_type": "code",
   "execution_count": null,
   "id": "577a2732-2349-4aae-8468-e59256feeb0e",
   "metadata": {},
   "outputs": [],
   "source": []
  },
  {
   "cell_type": "code",
   "execution_count": null,
   "id": "b9d1e61b-821b-4e50-bb13-369a95413e2f",
   "metadata": {},
   "outputs": [],
   "source": []
  },
  {
   "cell_type": "code",
   "execution_count": null,
   "id": "daa01009-037c-4955-9544-358a57a1f796",
   "metadata": {},
   "outputs": [],
   "source": []
  }
 ],
 "metadata": {
  "kernelspec": {
   "display_name": "Python [conda env:tensorflow]",
   "language": "python",
   "name": "conda-env-tensorflow-py"
  },
  "language_info": {
   "codemirror_mode": {
    "name": "ipython",
    "version": 3
   },
   "file_extension": ".py",
   "mimetype": "text/x-python",
   "name": "python",
   "nbconvert_exporter": "python",
   "pygments_lexer": "ipython3",
   "version": "3.9.7"
  }
 },
 "nbformat": 4,
 "nbformat_minor": 5
}
