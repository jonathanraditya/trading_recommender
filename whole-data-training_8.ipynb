{
 "cells": [
  {
   "cell_type": "code",
   "execution_count": 3,
   "id": "9de6d3af-7a18-45ca-b190-ab27e8259bd0",
   "metadata": {},
   "outputs": [],
   "source": [
    "# !pip install --upgrade tensorflow --quiet\n",
    "# !pip install keras_tuner --quiet\n",
    "# !pip install tensorflow-io --quiet\n",
    "# # Google colab modules\n",
    "# from google.colab import drive\n",
    "import sys, importlib\n",
    "\n",
    "# # Mount drive\n",
    "# drive.mount('/content/gdrive', force_remount=True)\n",
    "ROOT_PATH = './'\n",
    "# sys.path.append(ROOT_PATH)\n",
    "\n",
    "import coremlv2 as core\n",
    "core._init_ml()\n",
    "# core._init_models()\n",
    "# core.os.environ['CUDA_VISIBLE_DEVICES'] = '-1'\n",
    "\n",
    "# Reload coreml\n",
    "importlib.reload(core)\n",
    "import keras_tuner as kt"
   ]
  },
  {
   "cell_type": "code",
   "execution_count": 4,
   "id": "bf662b4f-3fe4-4ee8-868a-3bc7906ba4ec",
   "metadata": {},
   "outputs": [
    {
     "name": "stdout",
     "output_type": "stream",
     "text": [
      "1 Physical GPUs,  1 Logical GPUs\n"
     ]
    }
   ],
   "source": [
    "# Limiting GPU memory growth\n",
    "gpus = core.tf.config.list_physical_devices('GPU')\n",
    "if gpus:\n",
    "    try:\n",
    "        # Currently, memory growth needs to be the same across GPUs\n",
    "        for gpu in gpus:\n",
    "            core.tf.config.experimental.set_memory_growth(gpu, True)\n",
    "        logical_gpus = core.tf.config.list_logical_devices('GPU')\n",
    "        print(len(gpus), \"Physical GPUs, \", len(logical_gpus), \"Logical GPUs\")\n",
    "    except RuntimeError as e:\n",
    "        # Memory growth must be set before GPUs have been initialized\n",
    "        print(e)"
   ]
  },
  {
   "cell_type": "markdown",
   "id": "bc93ef2b-fb57-4f19-b2ff-44627044ee27",
   "metadata": {},
   "source": [
    "### Retrain 322/25/medium"
   ]
  },
  {
   "cell_type": "code",
   "execution_count": 10,
   "id": "a8dc1b5e-bc76-40b9-8188-25a2c8a2771a",
   "metadata": {},
   "outputs": [],
   "source": [
    "model_base_id='322'\n",
    "kt_iter='25'\n",
    "db_ver='8'\n",
    "ROOT_PATH = './'\n",
    "DB_ROOT_PATH = 'H:\\#PROJECT\\idx'\n",
    "dataset_size = 'medium'\n",
    "batch_size = 64\n",
    "shuffle_buffer_size = 8192\n",
    "retrain_epochs = 1"
   ]
  },
  {
   "cell_type": "code",
   "execution_count": 11,
   "id": "88e020a9-0f33-43e3-97c2-8f59a66956c1",
   "metadata": {},
   "outputs": [
    {
     "name": "stdout",
     "output_type": "stream",
     "text": [
      "Total constituents: 298\n",
      "Total constituents: 123\n",
      "1.4917624506254735e-06 32 64\n",
      "Load model from keras_tuner\n",
      "2617/2617 [==============================] - 436s 165ms/step - loss: 0.6931 - accuracy: 0.5078 - val_loss: 0.7059 - val_accuracy: 0.5100\n"
     ]
    }
   ],
   "source": [
    "core.retrain_model(model_base_id, kt_iter, db_ver, ROOT_PATH=ROOT_PATH, DB_ROOT_PATH=DB_ROOT_PATH, dataset_size=dataset_size, batch_size=batch_size, shuffle_buffer_size=shuffle_buffer_size, retrain_epochs=retrain_epochs)"
   ]
  },
  {
   "cell_type": "code",
   "execution_count": 12,
   "id": "8f7af735-5830-4111-af94-54bc067abe8b",
   "metadata": {},
   "outputs": [
    {
     "name": "stdout",
     "output_type": "stream",
     "text": [
      "Total constituents: 298\n",
      "Total constituents: 123\n",
      "1.4917624506254735e-06 32 64\n",
      "Load weights from epoch 1\n",
      "2617/2617 [==============================] - 520s 196ms/step - loss: 0.6927 - accuracy: 0.5296 - val_loss: 0.7059 - val_accuracy: 0.5100\n"
     ]
    }
   ],
   "source": [
    "core.retrain_model(model_base_id, kt_iter, db_ver, ROOT_PATH=ROOT_PATH, DB_ROOT_PATH=DB_ROOT_PATH, dataset_size=dataset_size, batch_size=batch_size, shuffle_buffer_size=shuffle_buffer_size, retrain_epochs=retrain_epochs)"
   ]
  },
  {
   "cell_type": "code",
   "execution_count": 13,
   "id": "dc5f5fc3-d2ed-4ef0-8f98-ef97d536ce45",
   "metadata": {},
   "outputs": [
    {
     "name": "stdout",
     "output_type": "stream",
     "text": [
      "Total constituents: 298\n",
      "Total constituents: 123\n",
      "1.4917624506254735e-06 32 64\n",
      "Load weights from epoch 2\n",
      "2617/2617 [==============================] - 503s 190ms/step - loss: 0.6923 - accuracy: 0.5296 - val_loss: 0.7061 - val_accuracy: 0.5100\n"
     ]
    }
   ],
   "source": [
    "core.retrain_model(model_base_id, kt_iter, db_ver, ROOT_PATH=ROOT_PATH, DB_ROOT_PATH=DB_ROOT_PATH, dataset_size=dataset_size, batch_size=batch_size, shuffle_buffer_size=shuffle_buffer_size, retrain_epochs=retrain_epochs)"
   ]
  },
  {
   "cell_type": "code",
   "execution_count": 14,
   "id": "9d1c121c-3d42-4f03-ae8b-b1c2962ce9e0",
   "metadata": {},
   "outputs": [
    {
     "name": "stdout",
     "output_type": "stream",
     "text": [
      "Total constituents: 298\n",
      "Total constituents: 123\n",
      "1.4917624506254735e-06 32 64\n",
      "Load weights from epoch 3\n",
      "2617/2617 [==============================] - 522s 197ms/step - loss: 0.6920 - accuracy: 0.5296 - val_loss: 0.7064 - val_accuracy: 0.5100\n"
     ]
    }
   ],
   "source": [
    "core.retrain_model(model_base_id, kt_iter, db_ver, ROOT_PATH=ROOT_PATH, DB_ROOT_PATH=DB_ROOT_PATH, dataset_size=dataset_size, batch_size=batch_size, shuffle_buffer_size=shuffle_buffer_size, retrain_epochs=retrain_epochs)"
   ]
  },
  {
   "cell_type": "code",
   "execution_count": 15,
   "id": "509ed720-d71f-437c-a0ed-61fa561289af",
   "metadata": {},
   "outputs": [
    {
     "name": "stdout",
     "output_type": "stream",
     "text": [
      "Total constituents: 298\n",
      "Total constituents: 123\n",
      "1.4917624506254735e-06 32 64\n",
      "Load weights from epoch 4\n",
      "2617/2617 [==============================] - 522s 197ms/step - loss: 0.6918 - accuracy: 0.5296 - val_loss: 0.7066 - val_accuracy: 0.5100\n"
     ]
    }
   ],
   "source": [
    "core.retrain_model(model_base_id, kt_iter, db_ver, ROOT_PATH=ROOT_PATH, DB_ROOT_PATH=DB_ROOT_PATH, dataset_size=dataset_size, batch_size=batch_size, shuffle_buffer_size=shuffle_buffer_size, retrain_epochs=retrain_epochs)"
   ]
  },
  {
   "cell_type": "code",
   "execution_count": 16,
   "id": "0a4e334f-e6e2-412b-99ef-ee2138655b43",
   "metadata": {},
   "outputs": [
    {
     "name": "stdout",
     "output_type": "stream",
     "text": [
      "Total constituents: 298\n",
      "Total constituents: 123\n",
      "1.4917624506254735e-06 32 64\n",
      "Load weights from epoch 5\n",
      "2617/2617 [==============================] - 554s 210ms/step - loss: 0.6916 - accuracy: 0.5296 - val_loss: 0.7063 - val_accuracy: 0.5100\n"
     ]
    }
   ],
   "source": [
    "core.retrain_model(model_base_id, kt_iter, db_ver, ROOT_PATH=ROOT_PATH, DB_ROOT_PATH=DB_ROOT_PATH, dataset_size=dataset_size, batch_size=batch_size, shuffle_buffer_size=shuffle_buffer_size, retrain_epochs=retrain_epochs)"
   ]
  },
  {
   "cell_type": "code",
   "execution_count": 17,
   "id": "0e212054-e84b-41af-b698-a400343aa8c0",
   "metadata": {},
   "outputs": [
    {
     "name": "stdout",
     "output_type": "stream",
     "text": [
      "Total constituents: 298\n",
      "Total constituents: 123\n",
      "1.4917624506254735e-06 32 64\n",
      "Load weights from epoch 6\n",
      "2617/2617 [==============================] - 540s 205ms/step - loss: 0.6915 - accuracy: 0.5296 - val_loss: 0.7077 - val_accuracy: 0.5100\n"
     ]
    }
   ],
   "source": [
    "core.retrain_model(model_base_id, kt_iter, db_ver, ROOT_PATH=ROOT_PATH, DB_ROOT_PATH=DB_ROOT_PATH, dataset_size=dataset_size, batch_size=batch_size, shuffle_buffer_size=shuffle_buffer_size, retrain_epochs=retrain_epochs)"
   ]
  },
  {
   "cell_type": "code",
   "execution_count": 18,
   "id": "ef7c34e6-d44a-4923-ac5b-07e2663ca8a1",
   "metadata": {},
   "outputs": [
    {
     "name": "stdout",
     "output_type": "stream",
     "text": [
      "Total constituents: 298\n",
      "Total constituents: 123\n",
      "1.4917624506254735e-06 32 64\n",
      "Load weights from epoch 7\n",
      "2617/2617 [==============================] - 557s 211ms/step - loss: 0.6914 - accuracy: 0.5296 - val_loss: 0.7071 - val_accuracy: 0.5100\n"
     ]
    }
   ],
   "source": [
    "core.retrain_model(model_base_id, kt_iter, db_ver, ROOT_PATH=ROOT_PATH, DB_ROOT_PATH=DB_ROOT_PATH, dataset_size=dataset_size, batch_size=batch_size, shuffle_buffer_size=shuffle_buffer_size, retrain_epochs=retrain_epochs)"
   ]
  },
  {
   "cell_type": "code",
   "execution_count": 19,
   "id": "dc743d14-1c8d-4368-8a12-44c8c2cf94e9",
   "metadata": {},
   "outputs": [
    {
     "name": "stdout",
     "output_type": "stream",
     "text": [
      "Total constituents: 298\n",
      "Total constituents: 123\n",
      "1.4917624506254735e-06 32 64\n",
      "Load weights from epoch 8\n",
      "2617/2617 [==============================] - 546s 206ms/step - loss: 0.6914 - accuracy: 0.5296 - val_loss: 0.7115 - val_accuracy: 0.5100\n"
     ]
    }
   ],
   "source": [
    "core.retrain_model(model_base_id, kt_iter, db_ver, ROOT_PATH=ROOT_PATH, DB_ROOT_PATH=DB_ROOT_PATH, dataset_size=dataset_size, batch_size=batch_size, shuffle_buffer_size=shuffle_buffer_size, retrain_epochs=retrain_epochs)"
   ]
  },
  {
   "cell_type": "code",
   "execution_count": 20,
   "id": "83bb5e41-7dbe-465c-af13-abea63bdd283",
   "metadata": {},
   "outputs": [
    {
     "name": "stdout",
     "output_type": "stream",
     "text": [
      "Total constituents: 298\n",
      "Total constituents: 123\n",
      "1.4917624506254735e-06 32 64\n",
      "Load weights from epoch 9\n",
      "2617/2617 [==============================] - 525s 198ms/step - loss: 0.6914 - accuracy: 0.5296 - val_loss: 0.7072 - val_accuracy: 0.5100\n"
     ]
    }
   ],
   "source": [
    "core.retrain_model(model_base_id, kt_iter, db_ver, ROOT_PATH=ROOT_PATH, DB_ROOT_PATH=DB_ROOT_PATH, dataset_size=dataset_size, batch_size=batch_size, shuffle_buffer_size=shuffle_buffer_size, retrain_epochs=retrain_epochs)"
   ]
  },
  {
   "cell_type": "markdown",
   "id": "f5d1154c-bf90-4e75-b1e7-044b8eb2d418",
   "metadata": {},
   "source": [
    "### Retrain 322/25\n",
    "#### full_new_wsd_mix (0.2 1 / 0 1)\n",
    "1299/418/24799\n",
    "1. 1479s 59ms/step - loss: 0.6585 - accuracy: 0.6049 - val_loss: 0.7045 - val_accuracy: 0.5868\n",
    "2. 1511s 61ms/step - loss: 0.6510 - accuracy: 0.6109 - val_loss: 0.7984 - val_accuracy: 0.5700\n",
    "3. 1513s 61ms/step - loss: 0.6482 - accuracy: 0.6130 - val_loss: 0.8451 - val_accuracy: 0.5666\n",
    "4. 1538s 62ms/step - loss: 0.6466 - accuracy: 0.6145 - val_loss: 0.7499 - val_accuracy: 0.5769\n",
    "5. 1511s 61ms/step - loss: 0.6453 - accuracy: 0.6158 - val_loss: 0.7638 - val_accuracy: 0.5753"
   ]
  },
  {
   "cell_type": "code",
   "execution_count": 7,
   "id": "16610930-021f-40f6-a45d-417010e83f21",
   "metadata": {},
   "outputs": [],
   "source": [
    "model_base_id='322'\n",
    "kt_iter='25'\n",
    "db_ver='8'\n",
    "ROOT_PATH = './'\n",
    "DB_ROOT_PATH = 'J:\\#PROJECT\\idx'\n",
    "dataset_size = 'full_new_wsd_mix'\n",
    "batch_size = 64\n",
    "shuffle_buffer_size = 2048\n",
    "retrain_epochs = 1\n",
    "generator = True"
   ]
  },
  {
   "cell_type": "code",
   "execution_count": 8,
   "id": "5b041b11-feea-4866-b351-264965af41fc",
   "metadata": {},
   "outputs": [
    {
     "name": "stdout",
     "output_type": "stream",
     "text": [
      "Total constituents: 1299\n",
      "Total constituents: 418\n",
      "Load model from keras_tuner\n",
      "24799/24799 [==============================] - 1479s 59ms/step - loss: 0.6585 - accuracy: 0.6049 - val_loss: 0.7045 - val_accuracy: 0.5868\n"
     ]
    }
   ],
   "source": [
    "core.retrain_model(model_base_id, kt_iter, db_ver, ROOT_PATH=ROOT_PATH, DB_ROOT_PATH=DB_ROOT_PATH, dataset_size=dataset_size, batch_size=batch_size, shuffle_buffer_size=shuffle_buffer_size, retrain_epochs=retrain_epochs, generator=generator)"
   ]
  },
  {
   "cell_type": "code",
   "execution_count": 9,
   "id": "0f1bdfb4-c18d-45d2-a873-cf68770dbb43",
   "metadata": {},
   "outputs": [
    {
     "name": "stdout",
     "output_type": "stream",
     "text": [
      "Total constituents: 1299\n",
      "Total constituents: 418\n",
      "Load weights from epoch 1\n",
      "24799/24799 [==============================] - 1511s 61ms/step - loss: 0.6510 - accuracy: 0.6109 - val_loss: 0.7984 - val_accuracy: 0.5700\n"
     ]
    }
   ],
   "source": [
    "core.retrain_model(model_base_id, kt_iter, db_ver, ROOT_PATH=ROOT_PATH, DB_ROOT_PATH=DB_ROOT_PATH, dataset_size=dataset_size, batch_size=batch_size, shuffle_buffer_size=shuffle_buffer_size, retrain_epochs=retrain_epochs, generator=generator)"
   ]
  },
  {
   "cell_type": "code",
   "execution_count": 10,
   "id": "3425605d-2bec-4ccb-818d-af199a752ca7",
   "metadata": {},
   "outputs": [
    {
     "name": "stdout",
     "output_type": "stream",
     "text": [
      "Total constituents: 1299\n",
      "Total constituents: 418\n",
      "Load weights from epoch 2\n",
      "24799/24799 [==============================] - 1513s 61ms/step - loss: 0.6482 - accuracy: 0.6130 - val_loss: 0.8451 - val_accuracy: 0.5666\n"
     ]
    }
   ],
   "source": [
    "core.retrain_model(model_base_id, kt_iter, db_ver, ROOT_PATH=ROOT_PATH, DB_ROOT_PATH=DB_ROOT_PATH, dataset_size=dataset_size, batch_size=batch_size, shuffle_buffer_size=shuffle_buffer_size, retrain_epochs=retrain_epochs, generator=generator)"
   ]
  },
  {
   "cell_type": "code",
   "execution_count": 11,
   "id": "d260f72e-01b2-4e9d-b25d-58551f57b100",
   "metadata": {},
   "outputs": [
    {
     "name": "stdout",
     "output_type": "stream",
     "text": [
      "Total constituents: 1299\n",
      "Total constituents: 418\n",
      "Load weights from epoch 3\n",
      "24799/24799 [==============================] - 1538s 62ms/step - loss: 0.6466 - accuracy: 0.6145 - val_loss: 0.7499 - val_accuracy: 0.5769\n"
     ]
    }
   ],
   "source": [
    "core.retrain_model(model_base_id, kt_iter, db_ver, ROOT_PATH=ROOT_PATH, DB_ROOT_PATH=DB_ROOT_PATH, dataset_size=dataset_size, batch_size=batch_size, shuffle_buffer_size=shuffle_buffer_size, retrain_epochs=retrain_epochs, generator=generator)"
   ]
  },
  {
   "cell_type": "code",
   "execution_count": 12,
   "id": "a2c7e434-8017-4178-8bda-09816db19ed0",
   "metadata": {},
   "outputs": [
    {
     "name": "stdout",
     "output_type": "stream",
     "text": [
      "Total constituents: 1299\n",
      "Total constituents: 418\n",
      "Load weights from epoch 4\n",
      "24799/24799 [==============================] - 1511s 61ms/step - loss: 0.6453 - accuracy: 0.6158 - val_loss: 0.7638 - val_accuracy: 0.5753\n"
     ]
    }
   ],
   "source": [
    "core.retrain_model(model_base_id, kt_iter, db_ver, ROOT_PATH=ROOT_PATH, DB_ROOT_PATH=DB_ROOT_PATH, dataset_size=dataset_size, batch_size=batch_size, shuffle_buffer_size=shuffle_buffer_size, retrain_epochs=retrain_epochs, generator=generator)"
   ]
  },
  {
   "cell_type": "code",
   "execution_count": null,
   "id": "8816a04f-0d2b-423c-b5ec-3190c67fed15",
   "metadata": {},
   "outputs": [],
   "source": []
  },
  {
   "cell_type": "markdown",
   "id": "0416d41c-4ca5-4939-8d50-00fb33e8fd96",
   "metadata": {},
   "source": [
    "### Retrain 325/28\n",
    "#### full_new_wsd_mix (0.2 1 / 0 1)\n",
    "1. 1651s 66ms/step - loss: 0.6578 - accuracy: 0.6042 - val_loss: 0.6704 - val_accuracy: 0.5878\n",
    "2. 1678s 67ms/step - loss: 0.6500 - accuracy: 0.6117 - val_loss: 0.6970 - val_accuracy: 0.5831\n",
    "3. 1574s 63ms/step - loss: 0.6471 - accuracy: 0.6140 - val_loss: 0.6887 - val_accuracy: 0.5837\n",
    "4. 1845s 74ms/step - loss: 0.6453 - accuracy: 0.6154 - val_loss: 0.6634 - val_accuracy: 0.5865\n",
    "5. 2416s 97ms/step - loss: 0.6433 - accuracy: 0.6170 - val_loss: 0.6705 - val_accuracy: 0.5762\n",
    "\n",
    "#### full_new_wsd (0 1 / 0 1)\n",
    "1. 1141s 85ms/step - loss: 0.6575 - accuracy: 0.6053 - val_loss: 0.6778 - val_accuracy: 0.5793\n",
    "2. 1153s 87ms/step - loss: 0.6431 - accuracy: 0.6174 - val_loss: 0.6691 - val_accuracy: 0.5836\n",
    "3. 1198s 90ms/step - loss: 0.6389 - accuracy: 0.6211 - val_loss: 0.6679 - val_accuracy: 0.5882\n",
    "4. 1183s 89ms/step - loss: 0.6360 - accuracy: 0.6228 - val_loss: 0.6723 - val_accuracy: 0.5904\n",
    "5. 1185s 89ms/step - loss: 0.6339 - accuracy: 0.6244 - val_loss: 0.6650 - val_accuracy: 0.5929\n",
    "6. 1173s 88ms/step - loss: 0.6317 - accuracy: 0.6258 - val_loss: 0.6644 - val_accuracy: 0.5938\n",
    "7. 1183s 89ms/step - loss: 0.6300 - accuracy: 0.6273 - val_loss: 0.6684 - val_accuracy: 0.5921\n",
    "8. 1203s 90ms/step - loss: 0.6282 - accuracy: 0.6286 - val_loss: 0.6663 - val_accuracy: 0.5936\n",
    "9. 1080s 81ms/step - loss: 0.6266 - accuracy: 0.6296 - val_loss: 0.6621 - val_accuracy: 0.5943\n",
    "10.946s 71ms/step - loss: 0.6251 - accuracy: 0.6307 - val_loss: 0.6693 - val_accuracy: 0.5869\n",
    "11.953s 72ms/step - loss: 0.6240 - accuracy: 0.6313 - val_loss: 0.6663 - val_accuracy: 0.5907\n",
    "12.963s 72ms/step - loss: 0.6232 - accuracy: 0.6323 - val_loss: 0.6751 - val_accuracy: 0.5842\n",
    "13.960s 72ms/step - loss: 0.6215 - accuracy: 0.6331 - val_loss: 0.6740 - val_accuracy: 0.5823\n",
    "14.972s 73ms/step - loss: 0.6204 - accuracy: 0.6341 - val_loss: 0.6724 - val_accuracy: 0.5842\n",
    "15.987s 74ms/step - loss: 0.6193 - accuracy: 0.6351 - val_loss: 0.6766 - val_accuracy: 0.5787\n",
    "16.979s 73ms/step - loss: 0.6184 - accuracy: 0.6358 - val_loss: 0.6808 - val_accuracy: 0.5753\n",
    "17.973s 73ms/step - loss: 0.6176 - accuracy: 0.6364 - val_loss: 0.6770 - val_accuracy: 0.5827\n",
    "18.968s 73ms/step - loss: 0.6164 - accuracy: 0.6374 - val_loss: 0.6820 - val_accuracy: 0.5683\n",
    "19.974s 73ms/step - loss: 0.6153 - accuracy: 0.6382 - val_loss: 0.6813 - val_accuracy: 0.5783\n",
    "20.972s 73ms/step - loss: 0.6145 - accuracy: 0.6388 - val_loss: 0.6881 - val_accuracy: 0.5721"
   ]
  },
  {
   "cell_type": "code",
   "execution_count": 3,
   "id": "60929ca0-86e4-47b4-98f2-aca5c5682ad2",
   "metadata": {},
   "outputs": [],
   "source": [
    "model_base_id='325'\n",
    "kt_iter='28'\n",
    "db_ver='8'\n",
    "ROOT_PATH = './'\n",
    "DB_ROOT_PATH = 'J:\\#PROJECT\\idx'\n",
    "dataset_size = 'full_new_wsd'\n",
    "batch_size = 64\n",
    "shuffle_buffer_size = 2048\n",
    "retrain_epochs = 1\n",
    "generator = True"
   ]
  },
  {
   "cell_type": "code",
   "execution_count": 4,
   "id": "4fc5dd98-241a-4ca6-9d21-c417cdb0b1ef",
   "metadata": {},
   "outputs": [
    {
     "name": "stdout",
     "output_type": "stream",
     "text": [
      "Total constituents: 418\n",
      "Total constituents: 418\n",
      "Load model from keras_tuner\n",
      "13240/13240 [==============================] - 1141s 85ms/step - loss: 0.6575 - accuracy: 0.6053 - val_loss: 0.6778 - val_accuracy: 0.5793\n"
     ]
    }
   ],
   "source": [
    "core.retrain_model(model_base_id, kt_iter, db_ver, ROOT_PATH=ROOT_PATH, DB_ROOT_PATH=DB_ROOT_PATH, dataset_size=dataset_size, batch_size=batch_size, shuffle_buffer_size=shuffle_buffer_size, retrain_epochs=retrain_epochs, generator=generator)"
   ]
  },
  {
   "cell_type": "code",
   "execution_count": 5,
   "id": "1555cfcc-eb5a-41cd-b4ff-d8c005fb4973",
   "metadata": {},
   "outputs": [
    {
     "name": "stdout",
     "output_type": "stream",
     "text": [
      "Total constituents: 418\n",
      "Total constituents: 418\n",
      "Load weights from epoch 1\n",
      "13240/13240 [==============================] - 1153s 87ms/step - loss: 0.6431 - accuracy: 0.6174 - val_loss: 0.6691 - val_accuracy: 0.5836\n"
     ]
    }
   ],
   "source": [
    "core.retrain_model(model_base_id, kt_iter, db_ver, ROOT_PATH=ROOT_PATH, DB_ROOT_PATH=DB_ROOT_PATH, dataset_size=dataset_size, batch_size=batch_size, shuffle_buffer_size=shuffle_buffer_size, retrain_epochs=retrain_epochs, generator=generator)"
   ]
  },
  {
   "cell_type": "code",
   "execution_count": 6,
   "id": "2357941e-7328-408f-ae4c-baeeebb2a5e1",
   "metadata": {},
   "outputs": [
    {
     "name": "stdout",
     "output_type": "stream",
     "text": [
      "Total constituents: 418\n",
      "Total constituents: 418\n",
      "Load weights from epoch 2\n",
      "13240/13240 [==============================] - 1198s 90ms/step - loss: 0.6389 - accuracy: 0.6211 - val_loss: 0.6679 - val_accuracy: 0.5882\n"
     ]
    }
   ],
   "source": [
    "core.retrain_model(model_base_id, kt_iter, db_ver, ROOT_PATH=ROOT_PATH, DB_ROOT_PATH=DB_ROOT_PATH, dataset_size=dataset_size, batch_size=batch_size, shuffle_buffer_size=shuffle_buffer_size, retrain_epochs=retrain_epochs, generator=generator)"
   ]
  },
  {
   "cell_type": "code",
   "execution_count": 7,
   "id": "c0a6a9ab-7b90-4b72-9923-817f575804f5",
   "metadata": {},
   "outputs": [
    {
     "name": "stdout",
     "output_type": "stream",
     "text": [
      "Total constituents: 418\n",
      "Total constituents: 418\n",
      "Load weights from epoch 3\n",
      "13240/13240 [==============================] - 1183s 89ms/step - loss: 0.6360 - accuracy: 0.6228 - val_loss: 0.6723 - val_accuracy: 0.5904\n"
     ]
    }
   ],
   "source": [
    "core.retrain_model(model_base_id, kt_iter, db_ver, ROOT_PATH=ROOT_PATH, DB_ROOT_PATH=DB_ROOT_PATH, dataset_size=dataset_size, batch_size=batch_size, shuffle_buffer_size=shuffle_buffer_size, retrain_epochs=retrain_epochs, generator=generator)"
   ]
  },
  {
   "cell_type": "code",
   "execution_count": 8,
   "id": "69ef53ab-592f-46be-b22c-c8e6bf45d05c",
   "metadata": {},
   "outputs": [
    {
     "name": "stdout",
     "output_type": "stream",
     "text": [
      "Total constituents: 418\n",
      "Total constituents: 418\n",
      "Load weights from epoch 4\n",
      "13240/13240 [==============================] - 1185s 89ms/step - loss: 0.6339 - accuracy: 0.6244 - val_loss: 0.6650 - val_accuracy: 0.5929\n"
     ]
    }
   ],
   "source": [
    "core.retrain_model(model_base_id, kt_iter, db_ver, ROOT_PATH=ROOT_PATH, DB_ROOT_PATH=DB_ROOT_PATH, dataset_size=dataset_size, batch_size=batch_size, shuffle_buffer_size=shuffle_buffer_size, retrain_epochs=retrain_epochs, generator=generator)"
   ]
  },
  {
   "cell_type": "code",
   "execution_count": 9,
   "id": "cc24c084-a7d9-4d1f-844c-80985c077dd9",
   "metadata": {},
   "outputs": [
    {
     "name": "stdout",
     "output_type": "stream",
     "text": [
      "Total constituents: 418\n",
      "Total constituents: 418\n",
      "Load weights from epoch 5\n",
      "13240/13240 [==============================] - 1173s 88ms/step - loss: 0.6317 - accuracy: 0.6258 - val_loss: 0.6644 - val_accuracy: 0.5938\n"
     ]
    }
   ],
   "source": [
    "core.retrain_model(model_base_id, kt_iter, db_ver, ROOT_PATH=ROOT_PATH, DB_ROOT_PATH=DB_ROOT_PATH, dataset_size=dataset_size, batch_size=batch_size, shuffle_buffer_size=shuffle_buffer_size, retrain_epochs=retrain_epochs, generator=generator)"
   ]
  },
  {
   "cell_type": "code",
   "execution_count": 10,
   "id": "ff9449ca-9afc-4c94-bb76-8b623e8bb827",
   "metadata": {},
   "outputs": [
    {
     "name": "stdout",
     "output_type": "stream",
     "text": [
      "Total constituents: 418\n",
      "Total constituents: 418\n",
      "Load weights from epoch 6\n",
      "13240/13240 [==============================] - 1183s 89ms/step - loss: 0.6300 - accuracy: 0.6273 - val_loss: 0.6684 - val_accuracy: 0.5921\n"
     ]
    }
   ],
   "source": [
    "core.retrain_model(model_base_id, kt_iter, db_ver, ROOT_PATH=ROOT_PATH, DB_ROOT_PATH=DB_ROOT_PATH, dataset_size=dataset_size, batch_size=batch_size, shuffle_buffer_size=shuffle_buffer_size, retrain_epochs=retrain_epochs, generator=generator)"
   ]
  },
  {
   "cell_type": "code",
   "execution_count": 11,
   "id": "6cb61a70-c9ea-4f80-a9da-4ddaee517a92",
   "metadata": {},
   "outputs": [
    {
     "name": "stdout",
     "output_type": "stream",
     "text": [
      "Total constituents: 418\n",
      "Total constituents: 418\n",
      "Load weights from epoch 7\n",
      "13240/13240 [==============================] - 1203s 90ms/step - loss: 0.6282 - accuracy: 0.6286 - val_loss: 0.6663 - val_accuracy: 0.5936\n"
     ]
    }
   ],
   "source": [
    "core.retrain_model(model_base_id, kt_iter, db_ver, ROOT_PATH=ROOT_PATH, DB_ROOT_PATH=DB_ROOT_PATH, dataset_size=dataset_size, batch_size=batch_size, shuffle_buffer_size=shuffle_buffer_size, retrain_epochs=retrain_epochs, generator=generator)"
   ]
  },
  {
   "cell_type": "code",
   "execution_count": 12,
   "id": "5ec1861c-fd2c-4289-8b86-8b538dde7c7e",
   "metadata": {},
   "outputs": [
    {
     "name": "stdout",
     "output_type": "stream",
     "text": [
      "Total constituents: 418\n",
      "Total constituents: 418\n",
      "Load weights from epoch 8\n",
      "13240/13240 [==============================] - 1080s 81ms/step - loss: 0.6266 - accuracy: 0.6296 - val_loss: 0.6621 - val_accuracy: 0.5943\n"
     ]
    }
   ],
   "source": [
    "core.retrain_model(model_base_id, kt_iter, db_ver, ROOT_PATH=ROOT_PATH, DB_ROOT_PATH=DB_ROOT_PATH, dataset_size=dataset_size, batch_size=batch_size, shuffle_buffer_size=shuffle_buffer_size, retrain_epochs=retrain_epochs, generator=generator)"
   ]
  },
  {
   "cell_type": "code",
   "execution_count": 13,
   "id": "b093ed28-4f1b-407c-867b-a4605b4cc41e",
   "metadata": {},
   "outputs": [
    {
     "name": "stdout",
     "output_type": "stream",
     "text": [
      "Total constituents: 418\n",
      "Total constituents: 418\n",
      "Load weights from epoch 9\n",
      "13240/13240 [==============================] - 946s 71ms/step - loss: 0.6251 - accuracy: 0.6307 - val_loss: 0.6693 - val_accuracy: 0.5869\n"
     ]
    }
   ],
   "source": [
    "core.retrain_model(model_base_id, kt_iter, db_ver, ROOT_PATH=ROOT_PATH, DB_ROOT_PATH=DB_ROOT_PATH, dataset_size=dataset_size, batch_size=batch_size, shuffle_buffer_size=shuffle_buffer_size, retrain_epochs=retrain_epochs, generator=generator)"
   ]
  },
  {
   "cell_type": "code",
   "execution_count": 14,
   "id": "0a4a5fa8-3072-4455-a375-8100bd34ac6e",
   "metadata": {},
   "outputs": [
    {
     "name": "stdout",
     "output_type": "stream",
     "text": [
      "Total constituents: 418\n",
      "Total constituents: 418\n",
      "Load weights from epoch 10\n",
      "13240/13240 [==============================] - 953s 72ms/step - loss: 0.6240 - accuracy: 0.6313 - val_loss: 0.6663 - val_accuracy: 0.5907\n"
     ]
    }
   ],
   "source": [
    "core.retrain_model(model_base_id, kt_iter, db_ver, ROOT_PATH=ROOT_PATH, DB_ROOT_PATH=DB_ROOT_PATH, dataset_size=dataset_size, batch_size=batch_size, shuffle_buffer_size=shuffle_buffer_size, retrain_epochs=retrain_epochs, generator=generator)"
   ]
  },
  {
   "cell_type": "code",
   "execution_count": 15,
   "id": "84d9ea86-012f-463e-ba3b-5a62be42d799",
   "metadata": {},
   "outputs": [
    {
     "name": "stdout",
     "output_type": "stream",
     "text": [
      "Total constituents: 418\n",
      "Total constituents: 418\n",
      "Load weights from epoch 11\n",
      "13240/13240 [==============================] - 963s 72ms/step - loss: 0.6232 - accuracy: 0.6323 - val_loss: 0.6751 - val_accuracy: 0.5842\n"
     ]
    }
   ],
   "source": [
    "core.retrain_model(model_base_id, kt_iter, db_ver, ROOT_PATH=ROOT_PATH, DB_ROOT_PATH=DB_ROOT_PATH, dataset_size=dataset_size, batch_size=batch_size, shuffle_buffer_size=shuffle_buffer_size, retrain_epochs=retrain_epochs, generator=generator)"
   ]
  },
  {
   "cell_type": "code",
   "execution_count": 16,
   "id": "64cf79ba-dfee-49c3-9728-4c883b6e713e",
   "metadata": {},
   "outputs": [
    {
     "name": "stdout",
     "output_type": "stream",
     "text": [
      "Total constituents: 418\n",
      "Total constituents: 418\n",
      "Load weights from epoch 12\n",
      "13240/13240 [==============================] - 960s 72ms/step - loss: 0.6215 - accuracy: 0.6331 - val_loss: 0.6740 - val_accuracy: 0.5823\n"
     ]
    }
   ],
   "source": [
    "core.retrain_model(model_base_id, kt_iter, db_ver, ROOT_PATH=ROOT_PATH, DB_ROOT_PATH=DB_ROOT_PATH, dataset_size=dataset_size, batch_size=batch_size, shuffle_buffer_size=shuffle_buffer_size, retrain_epochs=retrain_epochs, generator=generator)"
   ]
  },
  {
   "cell_type": "code",
   "execution_count": 17,
   "id": "bb49ddba-9192-4373-a703-0a373da7d1d0",
   "metadata": {},
   "outputs": [
    {
     "name": "stdout",
     "output_type": "stream",
     "text": [
      "Total constituents: 418\n",
      "Total constituents: 418\n",
      "Load weights from epoch 13\n",
      "13240/13240 [==============================] - 972s 73ms/step - loss: 0.6204 - accuracy: 0.6341 - val_loss: 0.6724 - val_accuracy: 0.5842\n"
     ]
    }
   ],
   "source": [
    "core.retrain_model(model_base_id, kt_iter, db_ver, ROOT_PATH=ROOT_PATH, DB_ROOT_PATH=DB_ROOT_PATH, dataset_size=dataset_size, batch_size=batch_size, shuffle_buffer_size=shuffle_buffer_size, retrain_epochs=retrain_epochs, generator=generator)"
   ]
  },
  {
   "cell_type": "code",
   "execution_count": 18,
   "id": "69f39aa7-a534-4ac0-b520-c47215b80461",
   "metadata": {},
   "outputs": [
    {
     "name": "stdout",
     "output_type": "stream",
     "text": [
      "Total constituents: 418\n",
      "Total constituents: 418\n",
      "Load weights from epoch 14\n",
      "13240/13240 [==============================] - 987s 74ms/step - loss: 0.6193 - accuracy: 0.6351 - val_loss: 0.6766 - val_accuracy: 0.5787\n"
     ]
    }
   ],
   "source": [
    "core.retrain_model(model_base_id, kt_iter, db_ver, ROOT_PATH=ROOT_PATH, DB_ROOT_PATH=DB_ROOT_PATH, dataset_size=dataset_size, batch_size=batch_size, shuffle_buffer_size=shuffle_buffer_size, retrain_epochs=retrain_epochs, generator=generator)"
   ]
  },
  {
   "cell_type": "code",
   "execution_count": 19,
   "id": "6b2d9aae-2c4f-4456-a3b6-a6b20a3c3375",
   "metadata": {},
   "outputs": [
    {
     "name": "stdout",
     "output_type": "stream",
     "text": [
      "Total constituents: 418\n",
      "Total constituents: 418\n",
      "Load weights from epoch 15\n",
      "13240/13240 [==============================] - 979s 73ms/step - loss: 0.6184 - accuracy: 0.6358 - val_loss: 0.6808 - val_accuracy: 0.5753\n"
     ]
    }
   ],
   "source": [
    "core.retrain_model(model_base_id, kt_iter, db_ver, ROOT_PATH=ROOT_PATH, DB_ROOT_PATH=DB_ROOT_PATH, dataset_size=dataset_size, batch_size=batch_size, shuffle_buffer_size=shuffle_buffer_size, retrain_epochs=retrain_epochs, generator=generator)"
   ]
  },
  {
   "cell_type": "code",
   "execution_count": 20,
   "id": "ca184884-946f-4f1c-be12-0b26ac2d726c",
   "metadata": {},
   "outputs": [
    {
     "name": "stdout",
     "output_type": "stream",
     "text": [
      "Total constituents: 418\n",
      "Total constituents: 418\n",
      "Load weights from epoch 16\n",
      "13240/13240 [==============================] - 973s 73ms/step - loss: 0.6176 - accuracy: 0.6364 - val_loss: 0.6770 - val_accuracy: 0.5827\n"
     ]
    }
   ],
   "source": [
    "core.retrain_model(model_base_id, kt_iter, db_ver, ROOT_PATH=ROOT_PATH, DB_ROOT_PATH=DB_ROOT_PATH, dataset_size=dataset_size, batch_size=batch_size, shuffle_buffer_size=shuffle_buffer_size, retrain_epochs=retrain_epochs, generator=generator)"
   ]
  },
  {
   "cell_type": "code",
   "execution_count": 21,
   "id": "0685a6df-134f-469c-92cf-559368c70a19",
   "metadata": {},
   "outputs": [
    {
     "name": "stdout",
     "output_type": "stream",
     "text": [
      "Total constituents: 418\n",
      "Total constituents: 418\n",
      "Load weights from epoch 17\n",
      "13240/13240 [==============================] - 968s 73ms/step - loss: 0.6164 - accuracy: 0.6374 - val_loss: 0.6820 - val_accuracy: 0.5683\n"
     ]
    }
   ],
   "source": [
    "core.retrain_model(model_base_id, kt_iter, db_ver, ROOT_PATH=ROOT_PATH, DB_ROOT_PATH=DB_ROOT_PATH, dataset_size=dataset_size, batch_size=batch_size, shuffle_buffer_size=shuffle_buffer_size, retrain_epochs=retrain_epochs, generator=generator)"
   ]
  },
  {
   "cell_type": "code",
   "execution_count": 22,
   "id": "6a95c7b8-b79a-4347-898d-717ddc0ea0ca",
   "metadata": {},
   "outputs": [
    {
     "name": "stdout",
     "output_type": "stream",
     "text": [
      "Total constituents: 418\n",
      "Total constituents: 418\n",
      "Load weights from epoch 18\n",
      "13240/13240 [==============================] - 974s 73ms/step - loss: 0.6153 - accuracy: 0.6382 - val_loss: 0.6813 - val_accuracy: 0.5783\n"
     ]
    }
   ],
   "source": [
    "core.retrain_model(model_base_id, kt_iter, db_ver, ROOT_PATH=ROOT_PATH, DB_ROOT_PATH=DB_ROOT_PATH, dataset_size=dataset_size, batch_size=batch_size, shuffle_buffer_size=shuffle_buffer_size, retrain_epochs=retrain_epochs, generator=generator)"
   ]
  },
  {
   "cell_type": "code",
   "execution_count": 23,
   "id": "0193439b-ae81-4890-84b7-ca9afdaf8704",
   "metadata": {},
   "outputs": [
    {
     "name": "stdout",
     "output_type": "stream",
     "text": [
      "Total constituents: 418\n",
      "Total constituents: 418\n",
      "Load weights from epoch 19\n",
      "13240/13240 [==============================] - 972s 73ms/step - loss: 0.6145 - accuracy: 0.6388 - val_loss: 0.6881 - val_accuracy: 0.5721\n"
     ]
    }
   ],
   "source": [
    "core.retrain_model(model_base_id, kt_iter, db_ver, ROOT_PATH=ROOT_PATH, DB_ROOT_PATH=DB_ROOT_PATH, dataset_size=dataset_size, batch_size=batch_size, shuffle_buffer_size=shuffle_buffer_size, retrain_epochs=retrain_epochs, generator=generator)"
   ]
  },
  {
   "cell_type": "code",
   "execution_count": null,
   "id": "7d6e8768-1d9b-4695-9197-c42b1a0005ad",
   "metadata": {},
   "outputs": [],
   "source": []
  },
  {
   "cell_type": "markdown",
   "id": "696948e5-5b65-42e5-84e4-5b1d99a1d542",
   "metadata": {},
   "source": [
    "### Manually retrain model"
   ]
  },
  {
   "cell_type": "code",
   "execution_count": 5,
   "id": "2152a80f-ec81-43d5-91a1-6e52080f4e7e",
   "metadata": {},
   "outputs": [],
   "source": [
    "model_base_id = '327'\n",
    "version = '0'\n",
    "model_no = model_base_id\n",
    "constituent_limits = 0.05\n",
    "id_constituent = 1\n",
    "min_vid_constituents = 0.2\n",
    "epochs = 40\n",
    "iter_id = f'model-{model_no}-{version}_constituent_limits-{constituent_limits}_id_constituent-{id_constituent}_min_vid_constituents-{min_vid_constituents}_epochs-{epochs}'\n",
    "ROOT_PATH='./'\n",
    "DB_ROOT_PATH='J:\\#PROJECT\\idx'\n",
    "db_ver = '8'\n",
    "batch_size = 1024\n",
    "shuffle_buffer_size = 16\n",
    "generator=True"
   ]
  },
  {
   "cell_type": "code",
   "execution_count": null,
   "id": "599bd374-e1f3-4f8d-bcb9-90e409e72abf",
   "metadata": {},
   "outputs": [
    {
     "name": "stdout",
     "output_type": "stream",
     "text": [
      "Total constituents: 1894\n",
      "Total constituents: 422\n",
      "Epoch 1/40\n",
      "1652/1652 [==============================] - 1464s 870ms/step - loss: 0.6682 - accuracy: 0.5899 - val_loss: 0.6576 - val_accuracy: 0.5997\n",
      "Epoch 2/40\n",
      "1652/1652 [==============================] - 1536s 916ms/step - loss: 0.6581 - accuracy: 0.6061 - val_loss: 0.6531 - val_accuracy: 0.6078\n",
      "Epoch 3/40\n",
      "1652/1652 [==============================] - 1503s 899ms/step - loss: 0.6557 - accuracy: 0.6090 - val_loss: 0.6518 - val_accuracy: 0.6101\n",
      "Epoch 4/40\n",
      "1652/1652 [==============================] - 1525s 911ms/step - loss: 0.6533 - accuracy: 0.6113 - val_loss: 0.6504 - val_accuracy: 0.6106\n",
      "Epoch 5/40\n",
      "1652/1652 [==============================] - 1506s 901ms/step - loss: 0.6507 - accuracy: 0.6136 - val_loss: 0.6541 - val_accuracy: 0.6080\n",
      "Epoch 6/40\n",
      "1652/1652 [==============================] - 1522s 910ms/step - loss: 0.6485 - accuracy: 0.6153 - val_loss: 0.6674 - val_accuracy: 0.5984\n",
      "Epoch 7/40\n",
      "1652/1652 [==============================] - 1529s 915ms/step - loss: 0.6460 - accuracy: 0.6172 - val_loss: 0.6625 - val_accuracy: 0.6051\n",
      "Epoch 8/40\n",
      "1652/1652 [==============================] - 1539s 921ms/step - loss: 0.6441 - accuracy: 0.6187 - val_loss: 0.6712 - val_accuracy: 0.5852\n",
      "Epoch 9/40\n",
      "1652/1652 [==============================] - 1547s 925ms/step - loss: 0.6421 - accuracy: 0.6202 - val_loss: 0.6702 - val_accuracy: 0.5929\n",
      "Epoch 10/40\n",
      "1652/1652 [==============================] - 1563s 934ms/step - loss: 0.6405 - accuracy: 0.6219 - val_loss: 0.6733 - val_accuracy: 0.5888\n",
      "Epoch 11/40\n",
      "1652/1652 [==============================] - 1568s 938ms/step - loss: 0.6385 - accuracy: 0.6236 - val_loss: 0.6730 - val_accuracy: 0.5911\n",
      "Epoch 12/40\n",
      "1652/1652 [==============================] - 1560s 933ms/step - loss: 0.6365 - accuracy: 0.6257 - val_loss: 0.6836 - val_accuracy: 0.5784\n",
      "Epoch 13/40\n",
      "1652/1652 [==============================] - 1584s 948ms/step - loss: 0.6351 - accuracy: 0.6271 - val_loss: 0.6808 - val_accuracy: 0.5850\n",
      "Epoch 14/40\n",
      "1652/1652 [==============================] - 1562s 934ms/step - loss: 0.6332 - accuracy: 0.6292 - val_loss: 0.6927 - val_accuracy: 0.5794\n",
      "Epoch 15/40\n",
      "1652/1652 [==============================] - 1585s 948ms/step - loss: 0.6315 - accuracy: 0.6306 - val_loss: 0.6770 - val_accuracy: 0.5865\n",
      "Epoch 16/40\n",
      "1652/1652 [==============================] - 1563s 935ms/step - loss: 0.6298 - accuracy: 0.6325 - val_loss: 0.7073 - val_accuracy: 0.5705\n",
      "Epoch 17/40\n",
      "1652/1652 [==============================] - 1576s 943ms/step - loss: 0.6279 - accuracy: 0.6344 - val_loss: 0.7004 - val_accuracy: 0.5730\n",
      "Epoch 18/40\n",
      "1652/1652 [==============================] - 1568s 938ms/step - loss: 0.6261 - accuracy: 0.6362 - val_loss: 0.7291 - val_accuracy: 0.5624\n",
      "Epoch 19/40\n",
      "1652/1652 [==============================] - 1557s 932ms/step - loss: 0.6244 - accuracy: 0.6379 - val_loss: 0.7403 - val_accuracy: 0.5589\n",
      "Epoch 20/40\n",
      "1652/1652 [==============================] - 1555s 930ms/step - loss: 0.6232 - accuracy: 0.6394 - val_loss: 0.7433 - val_accuracy: 0.5620\n",
      "Epoch 21/40\n",
      "1652/1652 [==============================] - 1582s 946ms/step - loss: 0.6212 - accuracy: 0.6413 - val_loss: 0.7621 - val_accuracy: 0.5614\n",
      "Epoch 22/40\n",
      " 455/1652 [=======>......................] - ETA: 21:32 - loss: 0.6174 - accuracy: 0.6436"
     ]
    }
   ],
   "source": [
    "# Train: `slice_from_beginning`=True\n",
    "train_gen = core.load_dataset_wsd(slice_from_beginning=True, ROOT_PATH=DB_ROOT_PATH, db_ver=db_ver, constituent_limits=constituent_limits, id_constituent=id_constituent, batch_size=batch_size, shuffle_buffer_size=shuffle_buffer_size, seed=0, generator=generator, model_no=model_no)\n",
    "# Validation: `slice_from_beginning`=False. constituent_limits in validation is always 0 (focus on idx performance progression only)\n",
    "validation_gen = core.load_dataset_wsd(slice_from_beginning=False, ROOT_PATH=DB_ROOT_PATH, db_ver=db_ver, constituent_limits=0, id_constituent=id_constituent, batch_size=batch_size, shuffle_buffer_size=shuffle_buffer_size, seed=0, generator=generator, model_no=model_no)\n",
    "\n",
    "# Load model backbone\n",
    "model = core.model_switcher_preloaded(model_no, version=version)\n",
    "history = model.fit(train_gen, validation_data=validation_gen, epochs=epochs, verbose=1)\n",
    "\n",
    "save_path = core.os.path.join(ROOT_PATH, f'models/preloaded/{iter_id}/')\n",
    "model.save_weights(f'{save_path}/weights/checkpoint')\n",
    "model.save(f'{save_path}/model')\n",
    "\n",
    "history.history['batch_size'] = batch_size\n",
    "history.history['shuffle_buffer_size'] = shuffle_buffer_size\n",
    "\n",
    "with open(f'{save_path}/history.json', 'w') as f:\n",
    "    core.json.dump(history.history, f)"
   ]
  },
  {
   "cell_type": "code",
   "execution_count": null,
   "id": "0fa4e2c9-1777-4ff3-a032-3ce49e404306",
   "metadata": {},
   "outputs": [],
   "source": []
  },
  {
   "cell_type": "code",
   "execution_count": null,
   "id": "4c1690a5-9842-44d4-ac43-148f869fcafa",
   "metadata": {},
   "outputs": [],
   "source": []
  },
  {
   "cell_type": "code",
   "execution_count": null,
   "id": "3e20f79c-5a80-49b1-8f19-cc5ed4c1fc85",
   "metadata": {},
   "outputs": [],
   "source": []
  },
  {
   "cell_type": "code",
   "execution_count": null,
   "id": "ace81abd-1844-4a0b-8a86-2b536ed8b1c7",
   "metadata": {},
   "outputs": [],
   "source": []
  }
 ],
 "metadata": {
  "kernelspec": {
   "display_name": "Python [conda env:tensorflow]",
   "language": "python",
   "name": "conda-env-tensorflow-py"
  },
  "language_info": {
   "codemirror_mode": {
    "name": "ipython",
    "version": 3
   },
   "file_extension": ".py",
   "mimetype": "text/x-python",
   "name": "python",
   "nbconvert_exporter": "python",
   "pygments_lexer": "ipython3",
   "version": "3.9.7"
  }
 },
 "nbformat": 4,
 "nbformat_minor": 5
}
