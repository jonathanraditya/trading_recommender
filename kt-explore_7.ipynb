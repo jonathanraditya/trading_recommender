{
 "cells": [
  {
   "cell_type": "markdown",
   "id": "15fb1da4-bd86-41f5-a6c3-59eed3d0d11e",
   "metadata": {},
   "source": [
    "### Please use `env:tensorflow`"
   ]
  },
  {
   "cell_type": "code",
   "execution_count": 1,
   "id": "4284cdda-72a2-444b-bcba-3ec796ca597e",
   "metadata": {},
   "outputs": [],
   "source": [
    "# !pip install --upgrade tensorflow --quiet\n",
    "# !pip install keras_tuner --quiet\n",
    "# !pip install tensorflow-io --quiet\n",
    "# # Google colab modules\n",
    "# from google.colab import drive\n",
    "import sys, importlib\n",
    "\n",
    "# # Mount drive\n",
    "# drive.mount('/content/gdrive', force_remount=True)\n",
    "ROOT_PATH = './'\n",
    "# sys.path.append(ROOT_PATH)\n",
    "\n",
    "import coremlv2 as core\n",
    "core._init_ml()\n",
    "# core._init_models()\n",
    "# core.os.environ['CUDA_VISIBLE_DEVICES'] = '-1'\n",
    "\n",
    "# Reload coreml\n",
    "importlib.reload(core)\n",
    "import keras_tuner as kt"
   ]
  },
  {
   "cell_type": "code",
   "execution_count": 2,
   "id": "5e49c0b2-3778-4a49-a6e8-e53eed3cbe75",
   "metadata": {},
   "outputs": [
    {
     "name": "stdout",
     "output_type": "stream",
     "text": [
      "1 Physical GPUs,  1 Logical GPUs\n"
     ]
    }
   ],
   "source": [
    "# Limiting GPU memory growth\n",
    "gpus = core.tf.config.list_physical_devices('GPU')\n",
    "if gpus:\n",
    "    try:\n",
    "        # Currently, memory growth needs to be the same across GPUs\n",
    "        for gpu in gpus:\n",
    "            core.tf.config.experimental.set_memory_growth(gpu, True)\n",
    "        logical_gpus = core.tf.config.list_logical_devices('GPU')\n",
    "        print(len(gpus), \"Physical GPUs, \", len(logical_gpus), \"Logical GPUs\")\n",
    "    except RuntimeError as e:\n",
    "        # Memory growth must be set before GPUs have been initialized\n",
    "        print(e)"
   ]
  },
  {
   "cell_type": "code",
   "execution_count": 3,
   "id": "fc902efe-3a46-445a-a341-37bf065f7e83",
   "metadata": {},
   "outputs": [],
   "source": [
    "# Use generator\n",
    "from tensorflow.keras.utils import Sequence\n",
    "import numpy as np\n",
    "class DataGenerator(Sequence):\n",
    "    def __init__(self, x_set, y_set, batch_size):\n",
    "        self.x, self.y = x_set, y_set\n",
    "        self.batch_size = batch_size\n",
    "    def __len__(self):\n",
    "        return int(np.ceil(len(self.x) / float(self.batch_size)))\n",
    "    def __getitem__(self, idx):\n",
    "        batch_x = self.x[idx * self.batch_size:(idx + 1) * self.batch_size]\n",
    "        batch_y = self.y[idx * self.batch_size:(idx + 1) * self.batch_size]\n",
    "        return batch_x, batch_y     "
   ]
  },
  {
   "cell_type": "markdown",
   "id": "ea21db29-3108-490f-9ba7-a5b1aeacc5ee",
   "metadata": {},
   "source": [
    "### model_314_kt - BBCA, kt_iter=v16"
   ]
  },
  {
   "cell_type": "code",
   "execution_count": 2,
   "id": "16f729f7-59a1-4a00-be24-e8f4fa3657a8",
   "metadata": {},
   "outputs": [],
   "source": [
    "ticker_group = ['BBCA']\n",
    "shift = 0\n",
    "interval = 1\n",
    "recurrent = 120\n",
    "db_ver = '3'\n",
    "dataset_ver = '4'\n",
    "kt_iter = '16'\n",
    "split = 0.8\n",
    "epochs = 15\n",
    "max_epochs = 25\n",
    "generator = False\n",
    "batch_size = 32"
   ]
  },
  {
   "cell_type": "code",
   "execution_count": null,
   "id": "99d1453f-ed4c-4029-ac3f-9301ef241eae",
   "metadata": {},
   "outputs": [
    {
     "name": "stdout",
     "output_type": "stream",
     "text": [
      "Trial 6 Complete [04h 27m 34s]\n",
      "val_loss: 0.6936681866645813\n",
      "\n",
      "Best val_loss So Far: 0.692253828048706\n",
      "Total elapsed time: 18h 14m 52s\n",
      "\n",
      "Search: Running Trial #7\n",
      "\n",
      "Hyperparameter    |Value             |Best Value So Far \n",
      "superblock_fina...|4                 |2                 \n",
      "lr                |3.0198e-05        |1.3575e-06        \n",
      "comp2             |15                |48                \n",
      "comp3             |17                |24                \n",
      "comp5             |22                |10                \n",
      "comp7             |7                 |7                 \n",
      "comp11            |5                 |5                 \n",
      "comp13            |8                 |4                 \n",
      "comp17            |4                 |5                 \n",
      "comp19            |5                 |4                 \n",
      "comp23            |5                 |4                 \n",
      "comp29            |4                 |4                 \n",
      "comp31            |4                 |4                 \n",
      "comp37            |4                 |4                 \n",
      "comp41            |4                 |4                 \n",
      "comp43            |4                 |4                 \n",
      "comp47            |4                 |4                 \n",
      "comp53            |4                 |4                 \n",
      "comp59            |4                 |4                 \n",
      "comp61            |4                 |4                 \n",
      "comp67            |4                 |4                 \n",
      "comp71            |4                 |4                 \n",
      "comp73            |4                 |4                 \n",
      "comp79            |4                 |4                 \n",
      "comp83            |4                 |4                 \n",
      "comp89            |4                 |4                 \n",
      "comp97            |4                 |4                 \n",
      "comp101           |4                 |4                 \n",
      "comp103           |4                 |4                 \n",
      "comp107           |4                 |4                 \n",
      "comp109           |4                 |4                 \n",
      "comp113           |4                 |4                 \n",
      "tuner/epochs      |3                 |3                 \n",
      "tuner/initial_e...|0                 |0                 \n",
      "tuner/bracket     |2                 |2                 \n",
      "tuner/round       |0                 |0                 \n",
      "\n",
      "Total params: 207018\n",
      "Epoch 1/3\n",
      "103/103 [==============================] - 7217s 55s/step - loss: 0.7077 - accuracy: 0.4865 - val_loss: 0.6926 - val_accuracy: 0.5171\n",
      "Epoch 2/3\n",
      " 84/103 [=======================>......] - ETA: 18:25 - loss: 0.7097 - accuracy: 0.4766"
     ]
    }
   ],
   "source": [
    "# Generator version of load dataset. Different return values.\n",
    "train_gen, train_labels, train_changes, test_gen, test_labels, test_changes, data_version = core.load_dataset(ticker_group=ticker_group, shift=shift, interval=interval, recurrent=recurrent, db_ver=db_ver, dataset_ver=dataset_ver, split=split, ROOT_PATH=ROOT_PATH, generator=generator, batch_size=batch_size)\n",
    "tuner = kt.Hyperband(hypermodel=core.model_314_kt, objective='val_loss', max_epochs=max_epochs, hyperband_iterations=1, overwrite=True, directory=f'{ROOT_PATH}models/kt/v{kt_iter}/', project_name='_'.join(ticker_group))\n",
    "tuner.search(core.np.nan_to_num(train_gen, posinf=0.0, neginf=0.0), train_labels, validation_data=(core.np.nan_to_num(test_gen, posinf=0.0, neginf=0.0), test_labels), epochs=epochs, verbose=1)"
   ]
  },
  {
   "cell_type": "code",
   "execution_count": null,
   "id": "84a7d000-fef8-4712-a629-74dd0544b5c0",
   "metadata": {},
   "outputs": [],
   "source": [
    "# Start: 15.30 1/27/2022\n",
    "# 17 minutes still waiting for training to start\n",
    "# 8s/step\n",
    "# 2256s/epoch"
   ]
  },
  {
   "cell_type": "markdown",
   "id": "baf0071d-1b07-4540-a973-28b3d9f5ac56",
   "metadata": {},
   "source": [
    "### model_321_kt - world stock data (small)\n",
    "est: 1GB memory\n",
    "\n",
    "### model_322_kt - world stock data (small)\n",
    "est: 1GB memory\n",
    "\n",
    "### model_324_kt - world stock data (small)\n",
    "est: 1GB memory\n",
    "\n",
    "### 321/29 v8 full_new_wsd"
   ]
  },
  {
   "cell_type": "code",
   "execution_count": 2,
   "id": "00fc8f06-9cfd-4baf-93c8-092a145949ba",
   "metadata": {},
   "outputs": [],
   "source": [
    "kt_iter = '23'\n",
    "ticker_group = ['wsd']\n",
    "epochs = 20\n",
    "max_epochs = 20\n",
    "batch_size = 64"
   ]
  },
  {
   "cell_type": "code",
   "execution_count": 3,
   "id": "4a74c780-1439-4ca6-9984-0ee84b941055",
   "metadata": {},
   "outputs": [
    {
     "name": "stdout",
     "output_type": "stream",
     "text": [
      "Total constituents: 22\n",
      "Total constituents: 8\n"
     ]
    }
   ],
   "source": [
    "dataset_size = 'small'\n",
    "shuffle_buffer_size = 1024\n",
    "generator = False\n",
    "\n",
    "train_inputs, train_labels = core.load_dataset_wsd_traintest(subset='training', dataset_size=dataset_size, ROOT_PATH='''H:\\#PROJECT\\idx''', db_ver='8', batch_size=batch_size, shuffle_buffer_size=shuffle_buffer_size, seed=0, generator=generator)\n",
    "\n",
    "validation_inputs, validation_labels = core.load_dataset_wsd_traintest(subset='validation', dataset_size=dataset_size, ROOT_PATH='''H:\\#PROJECT\\idx''', db_ver='8', batch_size=batch_size, shuffle_buffer_size=shuffle_buffer_size, seed=0, generator=generator)"
   ]
  },
  {
   "cell_type": "code",
   "execution_count": 4,
   "id": "3d9a5a62-dc3e-467f-bfbe-0b9f16f98333",
   "metadata": {
    "tags": []
   },
   "outputs": [
    {
     "name": "stdout",
     "output_type": "stream",
     "text": [
      "Trial 30 Complete [00h 11m 35s]\n",
      "val_loss: 0.694282054901123\n",
      "\n",
      "Best val_loss So Far: 0.6696702837944031\n",
      "Total elapsed time: 02h 13m 19s\n"
     ]
    }
   ],
   "source": [
    "tuner = kt.Hyperband(hypermodel=core.model_321_kt, objective='val_loss', max_epochs=max_epochs, hyperband_iterations=1, overwrite=True, directory=f'{ROOT_PATH}models/kt/v{kt_iter}/', project_name='_'.join(ticker_group))\n",
    "\n",
    "tuner.search(train_inputs, train_labels, validation_data=(validation_inputs, validation_labels), epochs=epochs, verbose=1)"
   ]
  },
  {
   "cell_type": "code",
   "execution_count": 5,
   "id": "7af99f0d-b861-4c98-b016-9562ab174316",
   "metadata": {},
   "outputs": [
    {
     "name": "stdout",
     "output_type": "stream",
     "text": [
      "Trial 30 Complete [00h 15m 22s]\n",
      "val_loss: 0.6727032661437988\n",
      "\n",
      "Best val_loss So Far: 0.6726565361022949\n",
      "Total elapsed time: 02h 46m 13s\n"
     ]
    }
   ],
   "source": [
    "kt_iter = '25'\n",
    "ticker_group = ['wsd']\n",
    "epochs = 20\n",
    "max_epochs = 20\n",
    "batch_size = 64\n",
    "\n",
    "dataset_size = 'small'\n",
    "shuffle_buffer_size = 1024\n",
    "generator = False\n",
    "\n",
    "train_inputs, train_labels = core.load_dataset_wsd_traintest(subset='training', dataset_size=dataset_size, ROOT_PATH='''H:\\#PROJECT\\idx''', db_ver='8', batch_size=batch_size, shuffle_buffer_size=shuffle_buffer_size, seed=0, generator=generator)\n",
    "\n",
    "validation_inputs, validation_labels = core.load_dataset_wsd_traintest(subset='validation', dataset_size=dataset_size, ROOT_PATH='''H:\\#PROJECT\\idx''', db_ver='8', batch_size=batch_size, shuffle_buffer_size=shuffle_buffer_size, seed=0, generator=generator)\n",
    "\n",
    "tuner = kt.Hyperband(hypermodel=core.model_322_kt, objective='val_loss', max_epochs=max_epochs, hyperband_iterations=1, overwrite=True, directory=f'{ROOT_PATH}models/kt/v{kt_iter}/', project_name='_'.join(ticker_group))\n",
    "\n",
    "tuner.search(train_inputs, train_labels, validation_data=(validation_inputs, validation_labels), epochs=epochs, verbose=1)"
   ]
  },
  {
   "cell_type": "code",
   "execution_count": 6,
   "id": "d34caffc-c94f-4d42-b230-d915ae4f1a0c",
   "metadata": {},
   "outputs": [
    {
     "name": "stdout",
     "output_type": "stream",
     "text": [
      "Trial 30 Complete [00h 27m 34s]\n",
      "val_loss: 0.6966272592544556\n",
      "\n",
      "Best val_loss So Far: 0.6725248098373413\n",
      "Total elapsed time: 05h 47m 27s\n"
     ]
    }
   ],
   "source": [
    "kt_iter = '27'\n",
    "ticker_group = ['wsd']\n",
    "epochs = 20\n",
    "max_epochs = 20\n",
    "batch_size = 64\n",
    "\n",
    "dataset_size = 'small'\n",
    "shuffle_buffer_size = 1024\n",
    "generator = False\n",
    "\n",
    "train_inputs, train_labels = core.load_dataset_wsd_traintest(subset='training', dataset_size=dataset_size, ROOT_PATH='''H:\\#PROJECT\\idx''', db_ver='8', batch_size=batch_size, shuffle_buffer_size=shuffle_buffer_size, seed=0, generator=generator)\n",
    "\n",
    "validation_inputs, validation_labels = core.load_dataset_wsd_traintest(subset='validation', dataset_size=dataset_size, ROOT_PATH='''H:\\#PROJECT\\idx''', db_ver='8', batch_size=batch_size, shuffle_buffer_size=shuffle_buffer_size, seed=0, generator=generator)\n",
    "\n",
    "tuner = kt.Hyperband(hypermodel=core.model_324_kt, objective='val_loss', max_epochs=max_epochs, hyperband_iterations=1, overwrite=True, directory=f'{ROOT_PATH}models/kt/v{kt_iter}/', project_name='_'.join(ticker_group))\n",
    "\n",
    "tuner.search(train_inputs, train_labels, validation_data=(validation_inputs, validation_labels), epochs=epochs, verbose=1)"
   ]
  },
  {
   "cell_type": "code",
   "execution_count": null,
   "id": "976a74c9-d383-4381-b071-7f36c0e7386e",
   "metadata": {},
   "outputs": [
    {
     "name": "stdout",
     "output_type": "stream",
     "text": [
      "Trial 15 Complete [01h 07m 07s]\n",
      "val_loss: 0.6910593509674072\n",
      "\n",
      "Best val_loss So Far: 0.6910593509674072\n",
      "Total elapsed time: 11h 20m 15s\n",
      "\n",
      "Search: Running Trial #16\n",
      "\n",
      "Hyperparameter    |Value             |Best Value So Far \n",
      "lr                |9.2708e-05        |2.5662e-05        \n",
      "c_filters         |64                |96                \n",
      "r_units           |32                |192               \n",
      "tuner/epochs      |7                 |7                 \n",
      "tuner/initial_e...|3                 |3                 \n",
      "tuner/bracket     |2                 |2                 \n",
      "tuner/round       |1                 |1                 \n",
      "tuner/trial_id    |7da237ab282d7e3...|79dbd2da038e512...\n",
      "\n",
      "Epoch 4/7\n",
      "5345/5345 [==============================] - 304s 56ms/step - loss: 0.6697 - accuracy: 0.5665 - val_loss: 0.6912 - val_accuracy: 0.5307\n",
      "Epoch 5/7\n",
      " 995/5345 [====>.........................] - ETA: 10:29 - loss: 0.6825 - accuracy: 0.5456"
     ]
    }
   ],
   "source": [
    "model_no = '321'\n",
    "kt_iter = '29'\n",
    "ticker_group = ['wsd']\n",
    "epochs = 20\n",
    "max_epochs = 20\n",
    "batch_size = 64\n",
    "\n",
    "dataset_size = 'full_new_wsd'\n",
    "shuffle_buffer_size = 2048\n",
    "generator = False\n",
    "\n",
    "train_inputs, train_labels = core.load_dataset_wsd_traintest(subset='training', dataset_size=dataset_size, ROOT_PATH='''J:\\#PROJECT\\idx''', db_ver='8', batch_size=batch_size, shuffle_buffer_size=shuffle_buffer_size, seed=0, generator=generator, model_no=model_no)\n",
    "\n",
    "validation_inputs, validation_labels = core.load_dataset_wsd_traintest(subset='validation', dataset_size=dataset_size, ROOT_PATH='''J:\\#PROJECT\\idx''', db_ver='8', batch_size=batch_size, shuffle_buffer_size=shuffle_buffer_size, seed=0, generator=generator, model_no=model_no)\n",
    "\n",
    "tuner = kt.Hyperband(hypermodel=core.model_321_kt, objective='val_loss', max_epochs=max_epochs, hyperband_iterations=1, overwrite=True, directory=f'{ROOT_PATH}models/kt/v{kt_iter}/', project_name='_'.join(ticker_group))\n",
    "\n",
    "tuner.search(train_inputs, train_labels, validation_data=(validation_inputs, validation_labels), epochs=epochs, verbose=1)"
   ]
  },
  {
   "cell_type": "code",
   "execution_count": null,
   "id": "446e4560-0b73-430b-82e7-2a6da23ec683",
   "metadata": {},
   "outputs": [
    {
     "name": "stdout",
     "output_type": "stream",
     "text": [
      "Trial 27 Complete [00h 35m 14s]\n",
      "val_loss: 0.6986758708953857\n",
      "\n",
      "Best val_loss So Far: 0.6073791980743408\n",
      "Total elapsed time: 04h 49m 37s\n",
      "\n",
      "Search: Running Trial #28\n",
      "\n",
      "Hyperparameter    |Value             |Best Value So Far \n",
      "lr                |1.0649e-05        |0.00057138        \n",
      "r_units           |96                |112               \n",
      "d_units_1         |64                |224               \n",
      "d_units_2         |48                |16                \n",
      "tuner/epochs      |20                |20                \n",
      "tuner/initial_e...|0                 |7                 \n",
      "tuner/bracket     |0                 |2                 \n",
      "tuner/round       |0                 |2                 \n",
      "\n",
      "Epoch 1/20\n",
      "5416/5416 [==============================] - 108s 19ms/step - loss: 0.7022 - accuracy: 0.5510 - val_loss: 0.6637 - val_accuracy: 0.5808\n",
      "Epoch 2/20\n",
      "5416/5416 [==============================] - 102s 19ms/step - loss: 0.6630 - accuracy: 0.5804 - val_loss: 0.6522 - val_accuracy: 0.5931\n",
      "Epoch 3/20\n",
      "5416/5416 [==============================] - 102s 19ms/step - loss: 0.6554 - accuracy: 0.5894 - val_loss: 0.6468 - val_accuracy: 0.6000\n",
      "Epoch 4/20\n",
      "5416/5416 [==============================] - 102s 19ms/step - loss: 0.6512 - accuracy: 0.5950 - val_loss: 0.6435 - val_accuracy: 0.6045\n",
      "Epoch 5/20\n",
      "5416/5416 [==============================] - 102s 19ms/step - loss: 0.6485 - accuracy: 0.5980 - val_loss: 0.6409 - val_accuracy: 0.6074\n",
      "Epoch 6/20\n",
      "5416/5416 [==============================] - 102s 19ms/step - loss: 0.6461 - accuracy: 0.6000 - val_loss: 0.6387 - val_accuracy: 0.6105\n",
      "Epoch 7/20\n",
      "5416/5416 [==============================] - 102s 19ms/step - loss: 0.6440 - accuracy: 0.6014 - val_loss: 0.6369 - val_accuracy: 0.6126\n",
      "Epoch 8/20\n",
      "5416/5416 [==============================] - 102s 19ms/step - loss: 0.6425 - accuracy: 0.6038 - val_loss: 0.6355 - val_accuracy: 0.6145\n",
      "Epoch 9/20\n",
      "5416/5416 [==============================] - 102s 19ms/step - loss: 0.6409 - accuracy: 0.6060 - val_loss: 0.6343 - val_accuracy: 0.6161\n",
      "Epoch 10/20\n",
      "5416/5416 [==============================] - 102s 19ms/step - loss: 0.6398 - accuracy: 0.6071 - val_loss: 0.6332 - val_accuracy: 0.6164\n",
      "Epoch 11/20\n",
      "5416/5416 [==============================] - 102s 19ms/step - loss: 0.6386 - accuracy: 0.6074 - val_loss: 0.6317 - val_accuracy: 0.6186\n",
      "Epoch 12/20\n",
      " 352/5416 [>.............................] - ETA: 1:04 - loss: 0.6396 - accuracy: 0.6057"
     ]
    }
   ],
   "source": [
    "# RERUN WITH REVISED traintest slice code\n",
    "model_no = '326'\n",
    "kt_iter = '32'\n",
    "ticker_group = ['wsd']\n",
    "epochs = 20\n",
    "max_epochs = 20\n",
    "batch_size = 64\n",
    "\n",
    "dataset_size = 'full_new_wsd'\n",
    "shuffle_buffer_size = 2048\n",
    "generator = False\n",
    "\n",
    "train_inputs, train_labels = core.load_dataset_wsd_traintest(subset='training', dataset_size=dataset_size, ROOT_PATH='''J:\\#PROJECT\\idx''', db_ver='8', batch_size=batch_size, shuffle_buffer_size=shuffle_buffer_size, seed=0, generator=generator, model_no=model_no)\n",
    "\n",
    "validation_inputs, validation_labels = core.load_dataset_wsd_traintest(subset='validation', dataset_size=dataset_size, ROOT_PATH='''J:\\#PROJECT\\idx''', db_ver='8', batch_size=batch_size, shuffle_buffer_size=shuffle_buffer_size, seed=0, generator=generator, model_no=model_no)\n",
    "\n",
    "tuner = kt.Hyperband(hypermodel=core.model_326_kt, objective='val_loss', max_epochs=max_epochs, hyperband_iterations=1, overwrite=True, directory=f'{ROOT_PATH}models/kt/v{kt_iter}/', project_name='_'.join(ticker_group))\n",
    "\n",
    "tuner.search(train_inputs, train_labels, validation_data=(validation_inputs, validation_labels), epochs=epochs, verbose=1)"
   ]
  },
  {
   "cell_type": "code",
   "execution_count": 4,
   "id": "c91a4f83-bcf9-4f64-939e-05dfc5afc7ca",
   "metadata": {
    "tags": []
   },
   "outputs": [
    {
     "name": "stdout",
     "output_type": "stream",
     "text": [
      "Total constituents: 555\n",
      "Total constituents: 423\n"
     ]
    }
   ],
   "source": [
    "# RERUN WITH REVISED traintest slice code\n",
    "model_no = '326'\n",
    "kt_iter = '33'\n",
    "ticker_group = ['wsd']\n",
    "epochs = 30\n",
    "max_epochs = 40\n",
    "batch_size = 64\n",
    "\n",
    "dataset_size = 'full_new_wsd_mix'\n",
    "shuffle_buffer_size = 2048\n",
    "generator = False\n",
    "\n",
    "train_inputs, train_labels = core.load_dataset_wsd_traintest(subset='training', dataset_size=dataset_size, ROOT_PATH='''J:\\#PROJECT\\idx''', db_ver='8', batch_size=batch_size, shuffle_buffer_size=shuffle_buffer_size, seed=0, generator=generator, model_no=model_no)\n",
    "\n",
    "validation_inputs, validation_labels = core.load_dataset_wsd_traintest(subset='validation', dataset_size=dataset_size, ROOT_PATH='''J:\\#PROJECT\\idx''', db_ver='8', batch_size=batch_size, shuffle_buffer_size=shuffle_buffer_size, seed=0, generator=generator, model_no=model_no)"
   ]
  },
  {
   "cell_type": "code",
   "execution_count": null,
   "id": "0d450819-86bb-4337-9185-fa636e8255cd",
   "metadata": {},
   "outputs": [
    {
     "name": "stdout",
     "output_type": "stream",
     "text": [
      "Trial 55 Complete [00h 16m 59s]\n",
      "val_loss: 0.6374726295471191\n",
      "\n",
      "Best val_loss So Far: 0.6362730264663696\n",
      "Total elapsed time: 12h 10m 21s\n",
      "\n",
      "Search: Running Trial #56\n",
      "\n",
      "Hyperparameter    |Value             |Best Value So Far \n",
      "lr                |1.0981e-06        |0.0009985         \n",
      "r_units           |32                |112               \n",
      "d_units_1         |80                |80                \n",
      "d_units_2         |32                |64                \n",
      "tuner/epochs      |5                 |40                \n",
      "tuner/initial_e...|0                 |14                \n",
      "tuner/bracket     |2                 |3                 \n",
      "tuner/round       |0                 |3                 \n",
      "\n",
      "Epoch 1/5\n",
      "14334/14334 [==============================] - 200s 14ms/step - loss: 0.7191 - accuracy: 0.5506 - val_loss: 0.7041 - val_accuracy: 0.5592\n",
      "Epoch 2/5\n",
      "14334/14334 [==============================] - 197s 14ms/step - loss: 0.6881 - accuracy: 0.5666 - val_loss: 0.6886 - val_accuracy: 0.5683\n",
      "Epoch 3/5\n",
      "14334/14334 [==============================] - 197s 14ms/step - loss: 0.6795 - accuracy: 0.5737 - val_loss: 0.6810 - val_accuracy: 0.5732\n",
      "Epoch 4/5\n",
      "  289/14334 [..............................] - ETA: 2:58 - loss: 0.6755 - accuracy: 0.5794"
     ]
    }
   ],
   "source": [
    "# Convert to generator\n",
    "train_gen = DataGenerator(train_inputs, train_labels, batch_size)\n",
    "validation_gen = DataGenerator(validation_inputs, validation_labels, batch_size)\n",
    "\n",
    "tuner = kt.Hyperband(hypermodel=core.model_326_kt, objective='val_loss', max_epochs=max_epochs, hyperband_iterations=1, overwrite=True, directory=f'{ROOT_PATH}models/kt/v{kt_iter}/', project_name='_'.join(ticker_group))\n",
    "\n",
    "tuner.search(train_gen, validation_data=validation_gen, epochs=epochs, verbose=1)"
   ]
  },
  {
   "cell_type": "code",
   "execution_count": 4,
   "id": "ac254d9f-1679-4f1d-adc1-ff1140923356",
   "metadata": {},
   "outputs": [
    {
     "data": {
      "text/plain": [
       "(173306, 120, 60)"
      ]
     },
     "execution_count": 4,
     "metadata": {},
     "output_type": "execute_result"
    }
   ],
   "source": [
    "validation_inputs.shape"
   ]
  },
  {
   "cell_type": "code",
   "execution_count": 5,
   "id": "3d1fed50-1d51-415e-8045-eb32e420bcbb",
   "metadata": {},
   "outputs": [
    {
     "name": "stdout",
     "output_type": "stream",
     "text": [
      "Total constituents: 555\n",
      "Total constituents: 423\n"
     ]
    }
   ],
   "source": [
    "# RERUN WITH REVISED traintest slice code\n",
    "model_no = '327'\n",
    "kt_iter = '34'\n",
    "ticker_group = ['wsd']\n",
    "epochs = 20\n",
    "max_epochs = 20\n",
    "batch_size = 64\n",
    "\n",
    "dataset_size = 'full_new_wsd_mix'\n",
    "shuffle_buffer_size = 1024\n",
    "generator = False\n",
    "\n",
    "train_inputs, train_labels = core.load_dataset_wsd_traintest(subset='training', dataset_size=dataset_size, ROOT_PATH='''J:\\#PROJECT\\idx''', db_ver='8', batch_size=batch_size, shuffle_buffer_size=shuffle_buffer_size, seed=0, generator=generator, model_no=model_no)\n",
    "\n",
    "validation_inputs, validation_labels = core.load_dataset_wsd_traintest(subset='validation', dataset_size=dataset_size, ROOT_PATH='''J:\\#PROJECT\\idx''', db_ver='8', batch_size=batch_size, shuffle_buffer_size=shuffle_buffer_size, seed=0, generator=generator, model_no=model_no)"
   ]
  },
  {
   "cell_type": "code",
   "execution_count": null,
   "id": "795c5529-59f5-4c15-b0a3-87ee7d04264e",
   "metadata": {
    "collapsed": true,
    "jupyter": {
     "outputs_hidden": true
    },
    "tags": []
   },
   "outputs": [
    {
     "name": "stdout",
     "output_type": "stream",
     "text": [
      "Trial 29 Complete [01h 03m 36s]\n",
      "val_loss: 0.6493789553642273\n",
      "\n",
      "Best val_loss So Far: 0.6360958814620972\n",
      "Total elapsed time: 11h 04m 13s\n",
      "\n",
      "Search: Running Trial #30\n",
      "\n",
      "Hyperparameter    |Value             |Best Value So Far \n",
      "lr                |0.0095164         |0.0010391         \n",
      "r_units           |64                |96                \n",
      "d_units_1         |32                |80                \n",
      "d_units_2         |128               |64                \n",
      "tuner/epochs      |20                |3                 \n",
      "tuner/initial_e...|0                 |0                 \n",
      "tuner/bracket     |0                 |2                 \n",
      "tuner/round       |0                 |0                 \n",
      "\n",
      "Epoch 1/20\n",
      "14334/14334 [==============================] - 195s 13ms/step - loss: 0.6533 - accuracy: 0.6075 - val_loss: 0.6425 - val_accuracy: 0.6072\n",
      "Epoch 2/20\n",
      "14334/14334 [==============================] - 192s 13ms/step - loss: 0.6519 - accuracy: 0.6089 - val_loss: 0.6462 - val_accuracy: 0.6046\n",
      "Epoch 3/20\n",
      "14334/14334 [==============================] - 192s 13ms/step - loss: 0.6547 - accuracy: 0.6062 - val_loss: 0.6535 - val_accuracy: 0.6001\n",
      "Epoch 4/20\n",
      "14334/14334 [==============================] - 192s 13ms/step - loss: 0.6605 - accuracy: 0.6007 - val_loss: 0.6564 - val_accuracy: 0.5942\n",
      "Epoch 5/20\n",
      "14334/14334 [==============================] - 192s 13ms/step - loss: 0.6630 - accuracy: 0.5973 - val_loss: 0.6605 - val_accuracy: 0.5872\n",
      "Epoch 6/20\n",
      "14334/14334 [==============================] - 192s 13ms/step - loss: 0.6654 - accuracy: 0.5917 - val_loss: 0.6649 - val_accuracy: 0.5696\n",
      "Epoch 7/20\n",
      "14334/14334 [==============================] - 192s 13ms/step - loss: 0.6667 - accuracy: 0.5891 - val_loss: 0.6625 - val_accuracy: 0.5860\n",
      "Epoch 8/20\n",
      "14334/14334 [==============================] - 193s 13ms/step - loss: 0.6661 - accuracy: 0.5893 - val_loss: 0.6595 - val_accuracy: 0.5853\n",
      "Epoch 9/20\n",
      "14334/14334 [==============================] - 192s 13ms/step - loss: 0.6674 - accuracy: 0.5886 - val_loss: 0.6628 - val_accuracy: 0.5812\n",
      "Epoch 10/20\n",
      "14334/14334 [==============================] - 196s 14ms/step - loss: 0.6685 - accuracy: 0.5863 - val_loss: 0.6641 - val_accuracy: 0.5786\n",
      "Epoch 11/20\n",
      "14334/14334 [==============================] - 200s 14ms/step - loss: 0.6685 - accuracy: 0.5874 - val_loss: 0.6635 - val_accuracy: 0.5830\n",
      "Epoch 12/20\n",
      "14334/14334 [==============================] - 195s 14ms/step - loss: 0.6678 - accuracy: 0.5883 - val_loss: 0.6631 - val_accuracy: 0.5848\n",
      "Epoch 13/20\n",
      "14334/14334 [==============================] - 191s 13ms/step - loss: 0.6669 - accuracy: 0.5887 - val_loss: 0.6614 - val_accuracy: 0.5858\n",
      "Epoch 14/20\n",
      "14334/14334 [==============================] - 191s 13ms/step - loss: 0.6676 - accuracy: 0.5879 - val_loss: 0.6634 - val_accuracy: 0.5847\n",
      "Epoch 15/20\n",
      " 2413/14334 [====>.........................] - ETA: 2:23 - loss: 0.6687 - accuracy: 0.5885"
     ]
    }
   ],
   "source": [
    "# Convert to generator\n",
    "train_gen = DataGenerator(train_inputs, train_labels, batch_size)\n",
    "validation_gen = DataGenerator(validation_inputs, validation_labels, batch_size)\n",
    "\n",
    "tuner = kt.Hyperband(hypermodel=core.model_326_kt, objective='val_loss', max_epochs=max_epochs, hyperband_iterations=1, overwrite=True, directory=f'{ROOT_PATH}models/kt/v{kt_iter}/', project_name='_'.join(ticker_group))\n",
    "\n",
    "tuner.search(train_gen, validation_data=validation_gen, epochs=epochs, verbose=1)"
   ]
  },
  {
   "cell_type": "markdown",
   "id": "dc4b5f2c-fd63-40f1-8f9a-d44d98ce8d91",
   "metadata": {},
   "source": [
    "### Run with revised generator\n",
    "- Use 326 as early benchmark model, with world portion variation to find the optimal point"
   ]
  },
  {
   "cell_type": "code",
   "execution_count": null,
   "id": "f09165f5-4e55-43f6-8aa7-2173d329050c",
   "metadata": {},
   "outputs": [
    {
     "name": "stdout",
     "output_type": "stream",
     "text": [
      "Trial 3 Complete [00h 17m 32s]\n",
      "val_loss: 0.6559761762619019\n",
      "\n",
      "Best val_loss So Far: 0.6455338597297668\n",
      "Total elapsed time: 00h 52m 14s\n",
      "\n",
      "Search: Running Trial #4\n",
      "\n",
      "Hyperparameter    |Value             |Best Value So Far \n",
      "lr                |1.3451e-07        |0.0065233         \n",
      "r_units           |80                |96                \n",
      "d_units_1         |64                |96                \n",
      "d_units_2         |48                |64                \n",
      "tuner/epochs      |2                 |2                 \n",
      "tuner/initial_e...|0                 |0                 \n",
      "tuner/bracket     |3                 |3                 \n",
      "tuner/round       |0                 |0                 \n",
      "\n",
      "Epoch 1/2\n",
      "207/207 [==============================] - 472s 2s/step - loss: 0.8979 - accuracy: 0.5100 - val_loss: 0.9039 - val_accuracy: 0.5226\n",
      "Epoch 2/2\n",
      "187/207 [==========================>...] - ETA: 33s - loss: 0.8961 - accuracy: 0.5100"
     ]
    }
   ],
   "source": [
    "# RERUN WITH REVISED traintest slice code\n",
    "model_no = '326'\n",
    "constituent_limits = 0\n",
    "id_constituent = 1\n",
    "kt_iter = f'_model-{model_no}_wc-{constituent_limits}_ic-{id_constituent}'\n",
    "ticker_group = ['wsd']\n",
    "epochs = 40\n",
    "max_epochs = 40\n",
    "batch_size = 4096\n",
    "shuffle_buffer_size = 16\n",
    "generator = True\n",
    "\n",
    "# Train: `slice_from_beginning`=True\n",
    "train_gen = core.load_dataset_wsd(slice_from_beginning=True, ROOT_PATH='''J:\\#PROJECT\\idx''', db_ver='8', constituent_limits=constituent_limits, id_constituent=id_constituent, batch_size=batch_size, shuffle_buffer_size=shuffle_buffer_size, seed=0, generator=generator, model_no=model_no)\n",
    "# Validation: `slice_from_beginning`=False. constituent_limits in validation is always 0 (focus on idx performance progression only)\n",
    "validation_gen = core.load_dataset_wsd(slice_from_beginning=False, ROOT_PATH='''J:\\#PROJECT\\idx''', db_ver='8', constituent_limits=0, id_constituent=id_constituent, batch_size=batch_size, shuffle_buffer_size=shuffle_buffer_size, seed=0, generator=generator, model_no=model_no)\n",
    "\n",
    "tuner = kt.Hyperband(hypermodel=core.model_326_kt, objective='val_loss', max_epochs=max_epochs, hyperband_iterations=1, overwrite=True, directory=f'{ROOT_PATH}models/kt/v{kt_iter}/', project_name='_'.join(ticker_group))\n",
    "\n",
    "tuner.search(train_gen, validation_data=validation_gen, epochs=epochs, verbose=1)"
   ]
  },
  {
   "cell_type": "code",
   "execution_count": null,
   "id": "deac4271-d15f-4934-91a4-932ef6470f36",
   "metadata": {},
   "outputs": [],
   "source": []
  },
  {
   "cell_type": "code",
   "execution_count": null,
   "id": "ab44e920-64d0-4f80-a805-b1073dbfd3b8",
   "metadata": {},
   "outputs": [],
   "source": []
  },
  {
   "cell_type": "code",
   "execution_count": null,
   "id": "1a569eb4-4bd2-476e-9e27-0568341abd2b",
   "metadata": {},
   "outputs": [],
   "source": [
    "#"
   ]
  },
  {
   "cell_type": "code",
   "execution_count": null,
   "id": "367a3334-b74f-49fb-98dc-32a890f10f9b",
   "metadata": {},
   "outputs": [],
   "source": []
  },
  {
   "cell_type": "code",
   "execution_count": null,
   "id": "5fe4f5ca-9f4e-422c-a4d9-db44fea9812d",
   "metadata": {},
   "outputs": [],
   "source": []
  }
 ],
 "metadata": {
  "kernelspec": {
   "display_name": "Python [conda env:tensorflow]",
   "language": "python",
   "name": "conda-env-tensorflow-py"
  },
  "language_info": {
   "codemirror_mode": {
    "name": "ipython",
    "version": 3
   },
   "file_extension": ".py",
   "mimetype": "text/x-python",
   "name": "python",
   "nbconvert_exporter": "python",
   "pygments_lexer": "ipython3",
   "version": "3.9.7"
  }
 },
 "nbformat": 4,
 "nbformat_minor": 5
}
