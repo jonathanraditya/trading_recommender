{
 "cells": [
  {
   "cell_type": "code",
   "execution_count": 8,
   "id": "67371718-c239-4133-8fe4-ddb1e1dfe4f5",
   "metadata": {},
   "outputs": [],
   "source": [
    "# !pip install --upgrade tensorflow --quiet\n",
    "# !pip install keras_tuner --quiet\n",
    "# !pip install tensorflow-io --quiet\n",
    "# # Google colab modules\n",
    "# from google.colab import drive\n",
    "import sys, importlib\n",
    "\n",
    "# # Mount drive\n",
    "# drive.mount('/content/gdrive', force_remount=True)\n",
    "ROOT_PATH = './'\n",
    "# sys.path.append(ROOT_PATH)\n",
    "\n",
    "import coremlv2 as core\n",
    "core._init_ml()\n",
    "# core._init_models()\n",
    "# core.os.environ['CUDA_VISIBLE_DEVICES'] = '-1'\n",
    "\n",
    "# Reload coreml\n",
    "importlib.reload(core)\n",
    "import keras_tuner as kt"
   ]
  },
  {
   "cell_type": "code",
   "execution_count": 9,
   "id": "7b6ea153-d0e5-4648-9ad7-224b11bbdd11",
   "metadata": {},
   "outputs": [
    {
     "name": "stdout",
     "output_type": "stream",
     "text": [
      "1 Physical GPUs,  1 Logical GPUs\n"
     ]
    }
   ],
   "source": [
    "# Limiting GPU memory growth\n",
    "gpus = core.tf.config.list_physical_devices('GPU')\n",
    "if gpus:\n",
    "    try:\n",
    "        # Currently, memory growth needs to be the same across GPUs\n",
    "        for gpu in gpus:\n",
    "            core.tf.config.experimental.set_memory_growth(gpu, True)\n",
    "        logical_gpus = core.tf.config.list_logical_devices('GPU')\n",
    "        print(len(gpus), \"Physical GPUs, \", len(logical_gpus), \"Logical GPUs\")\n",
    "    except RuntimeError as e:\n",
    "        # Memory growth must be set before GPUs have been initialized\n",
    "        print(e)"
   ]
  },
  {
   "cell_type": "markdown",
   "id": "8252a88c-b102-4fa8-8d36-38135a252544",
   "metadata": {},
   "source": [
    "### v16-merged-shuffled-val_loss-32 whole data 650\n",
    "Target: 100 epochs, 1 epochs/session"
   ]
  },
  {
   "cell_type": "code",
   "execution_count": 2,
   "id": "181751a4-1d9f-4e97-b3b5-912c6ff38407",
   "metadata": {},
   "outputs": [
    {
     "name": "stdout",
     "output_type": "stream",
     "text": [
      "Total params: 402219\n",
      "Load model from keras_tuner\n",
      "46562/46562 [==============================] - 32163s 661ms/step - loss: 0.6917 - accuracy: 0.5306 - val_loss: 0.6872 - val_accuracy: 0.5558\n"
     ]
    }
   ],
   "source": [
    "model_base_id = '314'\n",
    "model_source = ['BBCA']\n",
    "model_ticker_target = ['MERGED-shuffled']\n",
    "shift = 0\n",
    "interval = 1\n",
    "recurrent = 120\n",
    "db_ver = '4'\n",
    "dataset_ver = '1'\n",
    "kt_iter = '16'\n",
    "split = 0.8\n",
    "retrain = True\n",
    "primary_metrics = 'val_loss'\n",
    "ascending = True\n",
    "verbose = 1\n",
    "generator = True\n",
    "batch_size = 32\n",
    "retrain_epochs = 1\n",
    "backtest = False\n",
    "\n",
    "# Load, retrain, and save model\n",
    "model, data_version = core.read_best_model(model_base_id, model_source, model_ticker_target, shift, interval, recurrent, db_ver, dataset_ver, kt_iter, split, ROOT_PATH=ROOT_PATH, retrain=retrain, primary_metrics=primary_metrics, ascending=ascending, verbose=verbose, generator=generator, batch_size=batch_size, retrain_epochs=retrain_epochs, backtest=backtest)"
   ]
  },
  {
   "cell_type": "code",
   "execution_count": null,
   "id": "03d62577-2be0-4ace-abf6-e3b3de2f8b16",
   "metadata": {},
   "outputs": [],
   "source": []
  },
  {
   "cell_type": "code",
   "execution_count": null,
   "id": "734533b8-0149-4c56-8230-53c7c7e0e8f7",
   "metadata": {},
   "outputs": [],
   "source": []
  },
  {
   "cell_type": "code",
   "execution_count": 3,
   "id": "3fcdfc73-781f-43d1-b1df-da7fd5b615b7",
   "metadata": {},
   "outputs": [
    {
     "name": "stdout",
     "output_type": "stream",
     "text": [
      "Total params: 402219\n",
      "Load weights from epoch 1\n",
      "46562/46562 [==============================] - 47909s 999ms/step - loss: 0.6900 - accuracy: 0.5405 - val_loss: 0.6861 - val_accuracy: 0.5558\n"
     ]
    }
   ],
   "source": [
    "model_base_id = '314'\n",
    "model_source = ['BBCA']\n",
    "model_ticker_target = ['MERGED-shuffled']\n",
    "shift = 0\n",
    "interval = 1\n",
    "recurrent = 120\n",
    "db_ver = '4'\n",
    "dataset_ver = '1'\n",
    "kt_iter = '16'\n",
    "split = 0.8\n",
    "retrain = True\n",
    "primary_metrics = 'val_loss'\n",
    "ascending = True\n",
    "verbose = 1\n",
    "generator = True\n",
    "batch_size = 32\n",
    "retrain_epochs = 1\n",
    "backtest = False\n",
    "\n",
    "# Load, retrain, and save model\n",
    "model, data_version = core.read_best_model(model_base_id, model_source, model_ticker_target, shift, interval, recurrent, db_ver, dataset_ver, kt_iter, split, ROOT_PATH=ROOT_PATH, retrain=retrain, primary_metrics=primary_metrics, ascending=ascending, verbose=verbose, generator=generator, batch_size=batch_size, retrain_epochs=retrain_epochs, backtest=backtest)"
   ]
  },
  {
   "cell_type": "code",
   "execution_count": null,
   "id": "110d0989-ba92-42b1-882c-025acfc279ba",
   "metadata": {},
   "outputs": [
    {
     "name": "stdout",
     "output_type": "stream",
     "text": [
      "Total params: 402219\n",
      "Load weights from epoch 2\n",
      "   2445/Unknown - 27544s 10s/step - loss: 0.6910 - accuracy: 0.5341"
     ]
    }
   ],
   "source": [
    "model_base_id = '314'\n",
    "model_source = ['BBCA']\n",
    "model_ticker_target = ['MERGED-shuffled']\n",
    "shift = 0\n",
    "interval = 1\n",
    "recurrent = 120\n",
    "db_ver = '4'\n",
    "dataset_ver = '1'\n",
    "kt_iter = '16'\n",
    "split = 0.8\n",
    "retrain = True\n",
    "primary_metrics = 'val_loss'\n",
    "ascending = True\n",
    "verbose = 1\n",
    "generator = True\n",
    "batch_size = 32\n",
    "retrain_epochs = 1\n",
    "backtest = False\n",
    "\n",
    "# Load, retrain, and save model\n",
    "model, data_version = core.read_best_model(model_base_id, model_source, model_ticker_target, shift, interval, recurrent, db_ver, dataset_ver, kt_iter, split, ROOT_PATH=ROOT_PATH, retrain=retrain, primary_metrics=primary_metrics, ascending=ascending, verbose=verbose, generator=generator, batch_size=batch_size, retrain_epochs=retrain_epochs, backtest=backtest)"
   ]
  },
  {
   "cell_type": "markdown",
   "id": "8d643785-f1c8-47ff-aa58-e897080fe067",
   "metadata": {},
   "source": [
    "### Retrain 321/23\n",
    "#### full_new_wsd (0 1 / 0 1)\n",
    "418/418/13240\n",
    "1. 614s 46ms/step - loss: 0.6543 - accuracy: 0.6112 - val_loss: 0.6797 - val_accuracy: 0.5847\n",
    "2. 601s 45ms/step - loss: 0.6438 - accuracy: 0.6174 - val_loss: 0.6732 - val_accuracy: 0.5857\n",
    "3. 709s 53ms/step - loss: 0.6408 - accuracy: 0.6193 - val_loss: 0.6704 - val_accuracy: 0.5870\n",
    "4. 772s 58ms/step - loss: 0.6392 - accuracy: 0.6204 - val_loss: 0.6706 - val_accuracy: 0.5876\n",
    "5. 705s 53ms/step - loss: 0.6378 - accuracy: 0.6217 - val_loss: 0.6699 - val_accuracy: 0.5871\n",
    "6. 691s 52ms/step - loss: 0.6361 - accuracy: 0.6228 - val_loss: 0.6663 - val_accuracy: 0.5888\n",
    "7. 791s 60ms/step - loss: 0.6350 - accuracy: 0.6233 - val_loss: 0.6672 - val_accuracy: 0.5887\n",
    "8. 915s 69ms/step - loss: 0.6337 - accuracy: 0.6242 - val_loss: 0.6679 - val_accuracy: 0.5883\n",
    "9. 912s 69ms/step - loss: 0.6327 - accuracy: 0.6250 - val_loss: 0.6642 - val_accuracy: 0.5900\n",
    "10.769s 58ms/step - loss: 0.6318 - accuracy: 0.6257 - val_loss: 0.6670 - val_accuracy: 0.5898\n",
    "11.715s 54ms/step - loss: 0.6308 - accuracy: 0.6266 - val_loss: 0.6639 - val_accuracy: 0.5907\n",
    "12.710s 53ms/step - loss: 0.6298 - accuracy: 0.6270 - val_loss: 0.6665 - val_accuracy: 0.5889\n",
    "13.698s 53ms/step - loss: 0.6292 - accuracy: 0.6276 - val_loss: 0.6646 - val_accuracy: 0.5901\n",
    "14.707s 53ms/step - loss: 0.6283 - accuracy: 0.6282 - val_loss: 0.6657 - val_accuracy: 0.5893\n",
    "15.716s 54ms/step - loss: 0.6274 - accuracy: 0.6284 - val_loss: 0.6650 - val_accuracy: 0.5898\n",
    "16.734s 55ms/step - loss: 0.6266 - accuracy: 0.6292 - val_loss: 0.6668 - val_accuracy: 0.5895\n",
    "17.714s 54ms/step - loss: 0.6260 - accuracy: 0.6297 - val_loss: 0.6669 - val_accuracy: 0.5900\n",
    "18.705s 53ms/step - loss: 0.6251 - accuracy: 0.6305 - val_loss: 0.6655 - val_accuracy: 0.5903\n",
    "19.824s 62ms/step - loss: 0.6244 - accuracy: 0.6310 - val_loss: 0.6637 - val_accuracy: 0.5916\n",
    "20.817s 61ms/step - loss: 0.6238 - accuracy: 0.6313 - val_loss: 0.6669 - val_accuracy: 0.5886"
   ]
  },
  {
   "cell_type": "code",
   "execution_count": 3,
   "id": "5b94b592-423d-4253-ae98-27c3ecdbde27",
   "metadata": {},
   "outputs": [],
   "source": [
    "model_base_id='321'\n",
    "kt_iter='23'\n",
    "db_ver='8'\n",
    "ROOT_PATH = './'\n",
    "DB_ROOT_PATH = 'J:\\#PROJECT\\idx'\n",
    "dataset_size = 'full_new_wsd'\n",
    "batch_size = 64\n",
    "shuffle_buffer_size = 2048\n",
    "retrain_epochs = 1\n",
    "generator = True"
   ]
  },
  {
   "cell_type": "code",
   "execution_count": 4,
   "id": "efaece47-1e11-4a0f-80f4-672d5676f47c",
   "metadata": {},
   "outputs": [
    {
     "name": "stdout",
     "output_type": "stream",
     "text": [
      "Total constituents: 418\n",
      "Total constituents: 418\n",
      "Load model from keras_tuner\n",
      "13240/13240 [==============================] - 614s 46ms/step - loss: 0.6543 - accuracy: 0.6112 - val_loss: 0.6797 - val_accuracy: 0.5847\n"
     ]
    }
   ],
   "source": [
    "core.retrain_model(model_base_id, kt_iter, db_ver, ROOT_PATH=ROOT_PATH, DB_ROOT_PATH=DB_ROOT_PATH, dataset_size=dataset_size, batch_size=batch_size, shuffle_buffer_size=shuffle_buffer_size, retrain_epochs=retrain_epochs, generator=generator)"
   ]
  },
  {
   "cell_type": "code",
   "execution_count": 5,
   "id": "23cd0b7b-54b6-4ab0-bc73-1b298b0ee415",
   "metadata": {},
   "outputs": [
    {
     "name": "stdout",
     "output_type": "stream",
     "text": [
      "Total constituents: 418\n",
      "Total constituents: 418\n",
      "Load weights from epoch 1\n",
      "13240/13240 [==============================] - 601s 45ms/step - loss: 0.6438 - accuracy: 0.6174 - val_loss: 0.6732 - val_accuracy: 0.5857\n"
     ]
    }
   ],
   "source": [
    "core.retrain_model(model_base_id, kt_iter, db_ver, ROOT_PATH=ROOT_PATH, DB_ROOT_PATH=DB_ROOT_PATH, dataset_size=dataset_size, batch_size=batch_size, shuffle_buffer_size=shuffle_buffer_size, retrain_epochs=retrain_epochs, generator=generator)"
   ]
  },
  {
   "cell_type": "code",
   "execution_count": 6,
   "id": "eff52260-0325-4407-925f-dc9d5d3229e3",
   "metadata": {},
   "outputs": [
    {
     "name": "stdout",
     "output_type": "stream",
     "text": [
      "Total constituents: 418\n",
      "Total constituents: 418\n",
      "Load weights from epoch 2\n",
      "13240/13240 [==============================] - 709s 53ms/step - loss: 0.6408 - accuracy: 0.6193 - val_loss: 0.6704 - val_accuracy: 0.5870\n"
     ]
    }
   ],
   "source": [
    "core.retrain_model(model_base_id, kt_iter, db_ver, ROOT_PATH=ROOT_PATH, DB_ROOT_PATH=DB_ROOT_PATH, dataset_size=dataset_size, batch_size=batch_size, shuffle_buffer_size=shuffle_buffer_size, retrain_epochs=retrain_epochs, generator=generator)"
   ]
  },
  {
   "cell_type": "code",
   "execution_count": 7,
   "id": "6a0b5590-dc01-471a-b245-9fbd2356aedd",
   "metadata": {},
   "outputs": [
    {
     "name": "stdout",
     "output_type": "stream",
     "text": [
      "Total constituents: 418\n",
      "Total constituents: 418\n",
      "Load weights from epoch 3\n",
      "13240/13240 [==============================] - 772s 58ms/step - loss: 0.6392 - accuracy: 0.6204 - val_loss: 0.6706 - val_accuracy: 0.5876\n"
     ]
    }
   ],
   "source": [
    "core.retrain_model(model_base_id, kt_iter, db_ver, ROOT_PATH=ROOT_PATH, DB_ROOT_PATH=DB_ROOT_PATH, dataset_size=dataset_size, batch_size=batch_size, shuffle_buffer_size=shuffle_buffer_size, retrain_epochs=retrain_epochs, generator=generator)"
   ]
  },
  {
   "cell_type": "code",
   "execution_count": 8,
   "id": "3df4f930-eeb5-41e1-b4a3-3922d58541e7",
   "metadata": {},
   "outputs": [
    {
     "name": "stdout",
     "output_type": "stream",
     "text": [
      "Total constituents: 418\n",
      "Total constituents: 418\n",
      "Load weights from epoch 4\n",
      "13240/13240 [==============================] - 705s 53ms/step - loss: 0.6378 - accuracy: 0.6217 - val_loss: 0.6699 - val_accuracy: 0.5871\n"
     ]
    }
   ],
   "source": [
    "core.retrain_model(model_base_id, kt_iter, db_ver, ROOT_PATH=ROOT_PATH, DB_ROOT_PATH=DB_ROOT_PATH, dataset_size=dataset_size, batch_size=batch_size, shuffle_buffer_size=shuffle_buffer_size, retrain_epochs=retrain_epochs, generator=generator)"
   ]
  },
  {
   "cell_type": "code",
   "execution_count": 4,
   "id": "82132c15-6f40-4152-b9fb-9364346f6a67",
   "metadata": {},
   "outputs": [
    {
     "name": "stdout",
     "output_type": "stream",
     "text": [
      "Total constituents: 418\n",
      "Total constituents: 418\n",
      "Load weights from epoch 5\n",
      "13240/13240 [==============================] - 691s 52ms/step - loss: 0.6361 - accuracy: 0.6228 - val_loss: 0.6663 - val_accuracy: 0.5888\n"
     ]
    }
   ],
   "source": [
    "core.retrain_model(model_base_id, kt_iter, db_ver, ROOT_PATH=ROOT_PATH, DB_ROOT_PATH=DB_ROOT_PATH, dataset_size=dataset_size, batch_size=batch_size, shuffle_buffer_size=shuffle_buffer_size, retrain_epochs=retrain_epochs, generator=generator)"
   ]
  },
  {
   "cell_type": "code",
   "execution_count": 5,
   "id": "79e6fcb2-28cd-4e06-9372-1c859bd7fd89",
   "metadata": {},
   "outputs": [
    {
     "name": "stdout",
     "output_type": "stream",
     "text": [
      "Total constituents: 418\n",
      "Total constituents: 418\n",
      "Load weights from epoch 6\n",
      "13240/13240 [==============================] - 791s 60ms/step - loss: 0.6350 - accuracy: 0.6233 - val_loss: 0.6672 - val_accuracy: 0.5887\n"
     ]
    }
   ],
   "source": [
    "core.retrain_model(model_base_id, kt_iter, db_ver, ROOT_PATH=ROOT_PATH, DB_ROOT_PATH=DB_ROOT_PATH, dataset_size=dataset_size, batch_size=batch_size, shuffle_buffer_size=shuffle_buffer_size, retrain_epochs=retrain_epochs, generator=generator)"
   ]
  },
  {
   "cell_type": "code",
   "execution_count": 6,
   "id": "ca185e26-9b1e-4c33-b601-f3173ba9e5ee",
   "metadata": {},
   "outputs": [
    {
     "name": "stdout",
     "output_type": "stream",
     "text": [
      "Total constituents: 418\n",
      "Total constituents: 418\n",
      "Load weights from epoch 7\n",
      "13240/13240 [==============================] - 915s 69ms/step - loss: 0.6337 - accuracy: 0.6242 - val_loss: 0.6679 - val_accuracy: 0.5883\n"
     ]
    }
   ],
   "source": [
    "core.retrain_model(model_base_id, kt_iter, db_ver, ROOT_PATH=ROOT_PATH, DB_ROOT_PATH=DB_ROOT_PATH, dataset_size=dataset_size, batch_size=batch_size, shuffle_buffer_size=shuffle_buffer_size, retrain_epochs=retrain_epochs, generator=generator)"
   ]
  },
  {
   "cell_type": "code",
   "execution_count": 7,
   "id": "63225858-11f0-41c6-92a3-a60a5d7eb6e9",
   "metadata": {},
   "outputs": [
    {
     "name": "stdout",
     "output_type": "stream",
     "text": [
      "Total constituents: 418\n",
      "Total constituents: 418\n",
      "Load weights from epoch 8\n",
      "13240/13240 [==============================] - 912s 69ms/step - loss: 0.6327 - accuracy: 0.6250 - val_loss: 0.6642 - val_accuracy: 0.5900\n"
     ]
    }
   ],
   "source": [
    "core.retrain_model(model_base_id, kt_iter, db_ver, ROOT_PATH=ROOT_PATH, DB_ROOT_PATH=DB_ROOT_PATH, dataset_size=dataset_size, batch_size=batch_size, shuffle_buffer_size=shuffle_buffer_size, retrain_epochs=retrain_epochs, generator=generator)"
   ]
  },
  {
   "cell_type": "code",
   "execution_count": 8,
   "id": "b0252ba0-ca77-44f8-a3e8-012afd96e2e2",
   "metadata": {},
   "outputs": [
    {
     "name": "stdout",
     "output_type": "stream",
     "text": [
      "Total constituents: 418\n",
      "Total constituents: 418\n",
      "Load weights from epoch 9\n",
      "13240/13240 [==============================] - 769s 58ms/step - loss: 0.6318 - accuracy: 0.6257 - val_loss: 0.6670 - val_accuracy: 0.5898\n"
     ]
    }
   ],
   "source": [
    "core.retrain_model(model_base_id, kt_iter, db_ver, ROOT_PATH=ROOT_PATH, DB_ROOT_PATH=DB_ROOT_PATH, dataset_size=dataset_size, batch_size=batch_size, shuffle_buffer_size=shuffle_buffer_size, retrain_epochs=retrain_epochs, generator=generator)"
   ]
  },
  {
   "cell_type": "code",
   "execution_count": 9,
   "id": "326ea420-a94a-46e9-9907-3ccc4ea081c9",
   "metadata": {},
   "outputs": [
    {
     "name": "stdout",
     "output_type": "stream",
     "text": [
      "Total constituents: 418\n",
      "Total constituents: 418\n",
      "Load weights from epoch 10\n",
      "13240/13240 [==============================] - 715s 54ms/step - loss: 0.6308 - accuracy: 0.6266 - val_loss: 0.6639 - val_accuracy: 0.5907\n"
     ]
    }
   ],
   "source": [
    "core.retrain_model(model_base_id, kt_iter, db_ver, ROOT_PATH=ROOT_PATH, DB_ROOT_PATH=DB_ROOT_PATH, dataset_size=dataset_size, batch_size=batch_size, shuffle_buffer_size=shuffle_buffer_size, retrain_epochs=retrain_epochs, generator=generator)"
   ]
  },
  {
   "cell_type": "code",
   "execution_count": 10,
   "id": "5e6f783f-5c40-4125-abe5-7172d2b0c8b0",
   "metadata": {},
   "outputs": [
    {
     "name": "stdout",
     "output_type": "stream",
     "text": [
      "Total constituents: 418\n",
      "Total constituents: 418\n",
      "Load weights from epoch 11\n",
      "13240/13240 [==============================] - 710s 53ms/step - loss: 0.6298 - accuracy: 0.6270 - val_loss: 0.6665 - val_accuracy: 0.5889\n"
     ]
    }
   ],
   "source": [
    "core.retrain_model(model_base_id, kt_iter, db_ver, ROOT_PATH=ROOT_PATH, DB_ROOT_PATH=DB_ROOT_PATH, dataset_size=dataset_size, batch_size=batch_size, shuffle_buffer_size=shuffle_buffer_size, retrain_epochs=retrain_epochs, generator=generator)"
   ]
  },
  {
   "cell_type": "code",
   "execution_count": 11,
   "id": "bcc747e0-92ef-4348-bc49-4d68be441279",
   "metadata": {},
   "outputs": [
    {
     "name": "stdout",
     "output_type": "stream",
     "text": [
      "Total constituents: 418\n",
      "Total constituents: 418\n",
      "Load weights from epoch 12\n",
      "13240/13240 [==============================] - 698s 53ms/step - loss: 0.6292 - accuracy: 0.6276 - val_loss: 0.6646 - val_accuracy: 0.5901\n"
     ]
    }
   ],
   "source": [
    "core.retrain_model(model_base_id, kt_iter, db_ver, ROOT_PATH=ROOT_PATH, DB_ROOT_PATH=DB_ROOT_PATH, dataset_size=dataset_size, batch_size=batch_size, shuffle_buffer_size=shuffle_buffer_size, retrain_epochs=retrain_epochs, generator=generator)"
   ]
  },
  {
   "cell_type": "code",
   "execution_count": 12,
   "id": "887f82d7-e063-4ba8-93bd-849b9a935e6c",
   "metadata": {},
   "outputs": [
    {
     "name": "stdout",
     "output_type": "stream",
     "text": [
      "Total constituents: 418\n",
      "Total constituents: 418\n",
      "Load weights from epoch 13\n",
      "13240/13240 [==============================] - 707s 53ms/step - loss: 0.6283 - accuracy: 0.6282 - val_loss: 0.6657 - val_accuracy: 0.5893\n"
     ]
    }
   ],
   "source": [
    "core.retrain_model(model_base_id, kt_iter, db_ver, ROOT_PATH=ROOT_PATH, DB_ROOT_PATH=DB_ROOT_PATH, dataset_size=dataset_size, batch_size=batch_size, shuffle_buffer_size=shuffle_buffer_size, retrain_epochs=retrain_epochs, generator=generator)"
   ]
  },
  {
   "cell_type": "code",
   "execution_count": 13,
   "id": "a576cc5c-c84c-47dc-b152-9d87da2aa6da",
   "metadata": {},
   "outputs": [
    {
     "name": "stdout",
     "output_type": "stream",
     "text": [
      "Total constituents: 418\n",
      "Total constituents: 418\n",
      "Load weights from epoch 14\n",
      "13240/13240 [==============================] - 716s 54ms/step - loss: 0.6274 - accuracy: 0.6284 - val_loss: 0.6650 - val_accuracy: 0.5898\n"
     ]
    }
   ],
   "source": [
    "core.retrain_model(model_base_id, kt_iter, db_ver, ROOT_PATH=ROOT_PATH, DB_ROOT_PATH=DB_ROOT_PATH, dataset_size=dataset_size, batch_size=batch_size, shuffle_buffer_size=shuffle_buffer_size, retrain_epochs=retrain_epochs, generator=generator)"
   ]
  },
  {
   "cell_type": "code",
   "execution_count": 14,
   "id": "90477430-504a-48d2-aeaf-0e4852fa2118",
   "metadata": {},
   "outputs": [
    {
     "name": "stdout",
     "output_type": "stream",
     "text": [
      "Total constituents: 418\n",
      "Total constituents: 418\n",
      "Load weights from epoch 15\n",
      "13240/13240 [==============================] - 734s 55ms/step - loss: 0.6266 - accuracy: 0.6292 - val_loss: 0.6668 - val_accuracy: 0.5895\n"
     ]
    }
   ],
   "source": [
    "core.retrain_model(model_base_id, kt_iter, db_ver, ROOT_PATH=ROOT_PATH, DB_ROOT_PATH=DB_ROOT_PATH, dataset_size=dataset_size, batch_size=batch_size, shuffle_buffer_size=shuffle_buffer_size, retrain_epochs=retrain_epochs, generator=generator)"
   ]
  },
  {
   "cell_type": "code",
   "execution_count": 15,
   "id": "db232dc4-ef69-4f12-b58a-cf8cfa1a5ab1",
   "metadata": {},
   "outputs": [
    {
     "name": "stdout",
     "output_type": "stream",
     "text": [
      "Total constituents: 418\n",
      "Total constituents: 418\n",
      "Load weights from epoch 16\n",
      "13240/13240 [==============================] - 714s 54ms/step - loss: 0.6260 - accuracy: 0.6297 - val_loss: 0.6669 - val_accuracy: 0.5900\n"
     ]
    }
   ],
   "source": [
    "core.retrain_model(model_base_id, kt_iter, db_ver, ROOT_PATH=ROOT_PATH, DB_ROOT_PATH=DB_ROOT_PATH, dataset_size=dataset_size, batch_size=batch_size, shuffle_buffer_size=shuffle_buffer_size, retrain_epochs=retrain_epochs, generator=generator)"
   ]
  },
  {
   "cell_type": "code",
   "execution_count": 16,
   "id": "d50a88e2-7503-439f-a6bb-e6be57402207",
   "metadata": {},
   "outputs": [
    {
     "name": "stdout",
     "output_type": "stream",
     "text": [
      "Total constituents: 418\n",
      "Total constituents: 418\n",
      "Load weights from epoch 17\n",
      "13240/13240 [==============================] - 705s 53ms/step - loss: 0.6251 - accuracy: 0.6305 - val_loss: 0.6655 - val_accuracy: 0.5903\n"
     ]
    }
   ],
   "source": [
    "core.retrain_model(model_base_id, kt_iter, db_ver, ROOT_PATH=ROOT_PATH, DB_ROOT_PATH=DB_ROOT_PATH, dataset_size=dataset_size, batch_size=batch_size, shuffle_buffer_size=shuffle_buffer_size, retrain_epochs=retrain_epochs, generator=generator)"
   ]
  },
  {
   "cell_type": "code",
   "execution_count": 17,
   "id": "19d3d610-f429-44c0-93ca-2cf57932ac1f",
   "metadata": {},
   "outputs": [
    {
     "name": "stdout",
     "output_type": "stream",
     "text": [
      "Total constituents: 418\n",
      "Total constituents: 418\n",
      "Load weights from epoch 18\n",
      "13240/13240 [==============================] - 824s 62ms/step - loss: 0.6244 - accuracy: 0.6310 - val_loss: 0.6637 - val_accuracy: 0.5916\n"
     ]
    }
   ],
   "source": [
    "core.retrain_model(model_base_id, kt_iter, db_ver, ROOT_PATH=ROOT_PATH, DB_ROOT_PATH=DB_ROOT_PATH, dataset_size=dataset_size, batch_size=batch_size, shuffle_buffer_size=shuffle_buffer_size, retrain_epochs=retrain_epochs, generator=generator)"
   ]
  },
  {
   "cell_type": "code",
   "execution_count": 18,
   "id": "3b6b8e40-2e1c-4fed-b5e9-670a6ac63bc5",
   "metadata": {},
   "outputs": [
    {
     "name": "stdout",
     "output_type": "stream",
     "text": [
      "Total constituents: 418\n",
      "Total constituents: 418\n",
      "Load weights from epoch 19\n",
      "13240/13240 [==============================] - 817s 61ms/step - loss: 0.6238 - accuracy: 0.6313 - val_loss: 0.6669 - val_accuracy: 0.5886\n"
     ]
    }
   ],
   "source": [
    "core.retrain_model(model_base_id, kt_iter, db_ver, ROOT_PATH=ROOT_PATH, DB_ROOT_PATH=DB_ROOT_PATH, dataset_size=dataset_size, batch_size=batch_size, shuffle_buffer_size=shuffle_buffer_size, retrain_epochs=retrain_epochs, generator=generator)"
   ]
  },
  {
   "cell_type": "code",
   "execution_count": null,
   "id": "de79342b-966e-4b88-ae1b-5f4b06a69a7d",
   "metadata": {},
   "outputs": [],
   "source": []
  },
  {
   "cell_type": "markdown",
   "id": "52769f7b-7c7c-4237-835a-f455a1e45cfc",
   "metadata": {},
   "source": [
    "### Retrain 324/27\n",
    "#### full_new_wsd_mix (0.2 1 / 0 1)\n",
    "1299/418/24799\n",
    "1. 1763s 71ms/step - loss: 0.6576 - accuracy: 0.6051 - val_loss: 0.6709 - val_accuracy: 0.5899\n",
    "2. 1853s 74ms/step - loss: 0.6496 - accuracy: 0.6125 - val_loss: 0.6717 - val_accuracy: 0.5898\n",
    "3. 1883s 76ms/step - loss: 0.6464 - accuracy: 0.6143 - val_loss: 0.7009 - val_accuracy: 0.5820\n",
    "4. 1703s 68ms/step - loss: 0.6443 - accuracy: 0.6162 - val_loss: 0.6682 - val_accuracy: 0.5901\n",
    "5. 1738s 70ms/step - loss: 0.6424 - accuracy: 0.6177 - val_loss: 0.6717 - val_accuracy: 0.5879\n",
    "\n",
    "#### full_new_wsd (0 1 / 0 1)\n",
    "418/418/13240(64)\n",
    "1. 1196s 90ms/step - loss: 0.6563 - accuracy: 0.6068 - val_loss: 0.6570 - val_accuracy: 0.5942\n",
    "2. 1187s 89ms/step - loss: 0.6424 - accuracy: 0.6178 - val_loss: 0.6588 - val_accuracy: 0.5942\n",
    "3. 1189s 89ms/step - loss: 0.6381 - accuracy: 0.6211 - val_loss: 0.6641 - val_accuracy: 0.5927\n",
    "4. 1203s 90ms/step - loss: 0.6352 - accuracy: 0.6237 - val_loss: 0.6666 - val_accuracy: 0.5911\n",
    "5. 1176s 88ms/step - loss: 0.6328 - accuracy: 0.6252 - val_loss: 0.6690 - val_accuracy: 0.5904\n",
    "6. 1168s 88ms/step - loss: 0.6309 - accuracy: 0.6269 - val_loss: 0.6711 - val_accuracy: 0.5856\n",
    "7. 1175s 88ms/step - loss: 0.6287 - accuracy: 0.6286 - val_loss: 0.6672 - val_accuracy: 0.5884\n",
    "8. 947s 71ms/step - loss: 0.6269 - accuracy: 0.6297 - val_loss: 0.6689 - val_accuracy: 0.5871\n",
    "9. 866s 65ms/step - loss: 0.6253 - accuracy: 0.6306 - val_loss: 0.6740 - val_accuracy: 0.5874\n",
    "10.871s 65ms/step - loss: 0.6238 - accuracy: 0.6319 - val_loss: 0.6775 - val_accuracy: 0.5874\n",
    "11.882s 66ms/step - loss: 0.6223 - accuracy: 0.6331 - val_loss: 0.6891 - val_accuracy: 0.5794\n",
    "12.885s 66ms/step - loss: 0.6210 - accuracy: 0.6338 - val_loss: 0.6803 - val_accuracy: 0.5801\n",
    "13.911s 68ms/step - loss: 0.6197 - accuracy: 0.6355 - val_loss: 0.6770 - val_accuracy: 0.5820\n",
    "14.913s 69ms/step - loss: 0.6185 - accuracy: 0.6363 - val_loss: 0.6769 - val_accuracy: 0.5837\n",
    "15.877s 66ms/step - loss: 0.6176 - accuracy: 0.6370 - val_loss: 0.6779 - val_accuracy: 0.5830\n",
    "16.883s 66ms/step - loss: 0.6164 - accuracy: 0.6380 - val_loss: 0.6838 - val_accuracy: 0.5793\n",
    "17.881s 66ms/step - loss: 0.6157 - accuracy: 0.6385 - val_loss: 0.6810 - val_accuracy: 0.5800\n",
    "18.885s 66ms/step - loss: 0.6145 - accuracy: 0.6396 - val_loss: 0.6868 - val_accuracy: 0.5764\n",
    "19.894s 67ms/step - loss: 0.6133 - accuracy: 0.6407 - val_loss: 0.6881 - val_accuracy: 0.5769\n",
    "20.887s 67ms/step - loss: 0.6121 - accuracy: 0.6415 - val_loss: 0.6847 - val_accuracy: 0.5771\n",
    "\n",
    "### Retrain 326/32\n",
    "#### full_new_wsd (0 1 / 0 1)"
   ]
  },
  {
   "cell_type": "code",
   "execution_count": 2,
   "id": "13c10300-9eb5-4557-b810-d8d9017fa513",
   "metadata": {},
   "outputs": [],
   "source": [
    "model_base_id='326'\n",
    "kt_iter='32'\n",
    "db_ver='8'\n",
    "ROOT_PATH = './'\n",
    "DB_ROOT_PATH = 'J:\\#PROJECT\\idx'\n",
    "dataset_size = 'full_new_wsd'\n",
    "batch_size = 64\n",
    "shuffle_buffer_size = 2048\n",
    "retrain_epochs = 1\n",
    "generator = False"
   ]
  },
  {
   "cell_type": "code",
   "execution_count": 3,
   "id": "41ab0fe6-d6df-49fa-9433-03e112eac019",
   "metadata": {},
   "outputs": [
    {
     "name": "stdout",
     "output_type": "stream",
     "text": [
      "Total constituents: 423\n",
      "Total constituents: 423\n",
      "Load model from keras_tuner\n",
      "5416/5416 [==============================] - 143s 25ms/step - loss: 0.6543 - accuracy: 0.5897 - val_loss: 0.6371 - val_accuracy: 0.6108\n",
      "Total constituents: 423\n",
      "Total constituents: 423\n",
      "Load weights from epoch 1\n"
     ]
    },
    {
     "ename": "InternalError",
     "evalue": "Failed copying input tensor from /job:localhost/replica:0/task:0/device:CPU:0 to /job:localhost/replica:0/task:0/device:GPU:0 in order to run _EagerConst: Dst tensor is not initialized.",
     "output_type": "error",
     "traceback": [
      "\u001b[1;31m---------------------------------------------------------------------------\u001b[0m",
      "\u001b[1;31mInternalError\u001b[0m                             Traceback (most recent call last)",
      "\u001b[1;32mC:\\Users\\JONATH~1\\AppData\\Local\\Temp/ipykernel_14256/1411390783.py\u001b[0m in \u001b[0;36m<module>\u001b[1;34m\u001b[0m\n\u001b[0;32m      1\u001b[0m \u001b[1;31m# 20\u001b[0m\u001b[1;33m\u001b[0m\u001b[1;33m\u001b[0m\u001b[0m\n\u001b[0;32m      2\u001b[0m \u001b[0mcore\u001b[0m\u001b[1;33m.\u001b[0m\u001b[0mretrain_model\u001b[0m\u001b[1;33m(\u001b[0m\u001b[0mmodel_base_id\u001b[0m\u001b[1;33m,\u001b[0m \u001b[0mkt_iter\u001b[0m\u001b[1;33m,\u001b[0m \u001b[0mdb_ver\u001b[0m\u001b[1;33m,\u001b[0m \u001b[0mROOT_PATH\u001b[0m\u001b[1;33m=\u001b[0m\u001b[0mROOT_PATH\u001b[0m\u001b[1;33m,\u001b[0m \u001b[0mDB_ROOT_PATH\u001b[0m\u001b[1;33m=\u001b[0m\u001b[0mDB_ROOT_PATH\u001b[0m\u001b[1;33m,\u001b[0m \u001b[0mdataset_size\u001b[0m\u001b[1;33m=\u001b[0m\u001b[0mdataset_size\u001b[0m\u001b[1;33m,\u001b[0m \u001b[0mbatch_size\u001b[0m\u001b[1;33m=\u001b[0m\u001b[0mbatch_size\u001b[0m\u001b[1;33m,\u001b[0m \u001b[0mshuffle_buffer_size\u001b[0m\u001b[1;33m=\u001b[0m\u001b[0mshuffle_buffer_size\u001b[0m\u001b[1;33m,\u001b[0m \u001b[0mretrain_epochs\u001b[0m\u001b[1;33m=\u001b[0m\u001b[0mretrain_epochs\u001b[0m\u001b[1;33m,\u001b[0m \u001b[0mgenerator\u001b[0m\u001b[1;33m=\u001b[0m\u001b[0mgenerator\u001b[0m\u001b[1;33m)\u001b[0m\u001b[1;33m\u001b[0m\u001b[1;33m\u001b[0m\u001b[0m\n\u001b[1;32m----> 3\u001b[1;33m \u001b[0mcore\u001b[0m\u001b[1;33m.\u001b[0m\u001b[0mretrain_model\u001b[0m\u001b[1;33m(\u001b[0m\u001b[0mmodel_base_id\u001b[0m\u001b[1;33m,\u001b[0m \u001b[0mkt_iter\u001b[0m\u001b[1;33m,\u001b[0m \u001b[0mdb_ver\u001b[0m\u001b[1;33m,\u001b[0m \u001b[0mROOT_PATH\u001b[0m\u001b[1;33m=\u001b[0m\u001b[0mROOT_PATH\u001b[0m\u001b[1;33m,\u001b[0m \u001b[0mDB_ROOT_PATH\u001b[0m\u001b[1;33m=\u001b[0m\u001b[0mDB_ROOT_PATH\u001b[0m\u001b[1;33m,\u001b[0m \u001b[0mdataset_size\u001b[0m\u001b[1;33m=\u001b[0m\u001b[0mdataset_size\u001b[0m\u001b[1;33m,\u001b[0m \u001b[0mbatch_size\u001b[0m\u001b[1;33m=\u001b[0m\u001b[0mbatch_size\u001b[0m\u001b[1;33m,\u001b[0m \u001b[0mshuffle_buffer_size\u001b[0m\u001b[1;33m=\u001b[0m\u001b[0mshuffle_buffer_size\u001b[0m\u001b[1;33m,\u001b[0m \u001b[0mretrain_epochs\u001b[0m\u001b[1;33m=\u001b[0m\u001b[0mretrain_epochs\u001b[0m\u001b[1;33m,\u001b[0m \u001b[0mgenerator\u001b[0m\u001b[1;33m=\u001b[0m\u001b[0mgenerator\u001b[0m\u001b[1;33m)\u001b[0m\u001b[1;33m\u001b[0m\u001b[1;33m\u001b[0m\u001b[0m\n\u001b[0m\u001b[0;32m      4\u001b[0m \u001b[0mcore\u001b[0m\u001b[1;33m.\u001b[0m\u001b[0mretrain_model\u001b[0m\u001b[1;33m(\u001b[0m\u001b[0mmodel_base_id\u001b[0m\u001b[1;33m,\u001b[0m \u001b[0mkt_iter\u001b[0m\u001b[1;33m,\u001b[0m \u001b[0mdb_ver\u001b[0m\u001b[1;33m,\u001b[0m \u001b[0mROOT_PATH\u001b[0m\u001b[1;33m=\u001b[0m\u001b[0mROOT_PATH\u001b[0m\u001b[1;33m,\u001b[0m \u001b[0mDB_ROOT_PATH\u001b[0m\u001b[1;33m=\u001b[0m\u001b[0mDB_ROOT_PATH\u001b[0m\u001b[1;33m,\u001b[0m \u001b[0mdataset_size\u001b[0m\u001b[1;33m=\u001b[0m\u001b[0mdataset_size\u001b[0m\u001b[1;33m,\u001b[0m \u001b[0mbatch_size\u001b[0m\u001b[1;33m=\u001b[0m\u001b[0mbatch_size\u001b[0m\u001b[1;33m,\u001b[0m \u001b[0mshuffle_buffer_size\u001b[0m\u001b[1;33m=\u001b[0m\u001b[0mshuffle_buffer_size\u001b[0m\u001b[1;33m,\u001b[0m \u001b[0mretrain_epochs\u001b[0m\u001b[1;33m=\u001b[0m\u001b[0mretrain_epochs\u001b[0m\u001b[1;33m,\u001b[0m \u001b[0mgenerator\u001b[0m\u001b[1;33m=\u001b[0m\u001b[0mgenerator\u001b[0m\u001b[1;33m)\u001b[0m\u001b[1;33m\u001b[0m\u001b[1;33m\u001b[0m\u001b[0m\n\u001b[0;32m      5\u001b[0m \u001b[0mcore\u001b[0m\u001b[1;33m.\u001b[0m\u001b[0mretrain_model\u001b[0m\u001b[1;33m(\u001b[0m\u001b[0mmodel_base_id\u001b[0m\u001b[1;33m,\u001b[0m \u001b[0mkt_iter\u001b[0m\u001b[1;33m,\u001b[0m \u001b[0mdb_ver\u001b[0m\u001b[1;33m,\u001b[0m \u001b[0mROOT_PATH\u001b[0m\u001b[1;33m=\u001b[0m\u001b[0mROOT_PATH\u001b[0m\u001b[1;33m,\u001b[0m \u001b[0mDB_ROOT_PATH\u001b[0m\u001b[1;33m=\u001b[0m\u001b[0mDB_ROOT_PATH\u001b[0m\u001b[1;33m,\u001b[0m \u001b[0mdataset_size\u001b[0m\u001b[1;33m=\u001b[0m\u001b[0mdataset_size\u001b[0m\u001b[1;33m,\u001b[0m \u001b[0mbatch_size\u001b[0m\u001b[1;33m=\u001b[0m\u001b[0mbatch_size\u001b[0m\u001b[1;33m,\u001b[0m \u001b[0mshuffle_buffer_size\u001b[0m\u001b[1;33m=\u001b[0m\u001b[0mshuffle_buffer_size\u001b[0m\u001b[1;33m,\u001b[0m \u001b[0mretrain_epochs\u001b[0m\u001b[1;33m=\u001b[0m\u001b[0mretrain_epochs\u001b[0m\u001b[1;33m,\u001b[0m \u001b[0mgenerator\u001b[0m\u001b[1;33m=\u001b[0m\u001b[0mgenerator\u001b[0m\u001b[1;33m)\u001b[0m\u001b[1;33m\u001b[0m\u001b[1;33m\u001b[0m\u001b[0m\n",
      "\u001b[1;32m~\\documents\\#PROJECT\\idx\\coremlv2.py\u001b[0m in \u001b[0;36mretrain_model\u001b[1;34m(model_base_id, kt_iter, db_ver, ROOT_PATH, DB_ROOT_PATH, dataset_size, batch_size, shuffle_buffer_size, retrain_epochs, generator)\u001b[0m\n\u001b[0;32m   3633\u001b[0m         \u001b[0mtrain_inputs\u001b[0m\u001b[1;33m,\u001b[0m \u001b[0mtrain_labels\u001b[0m \u001b[1;33m=\u001b[0m \u001b[0mtrain_gen\u001b[0m\u001b[1;33m\u001b[0m\u001b[1;33m\u001b[0m\u001b[0m\n\u001b[0;32m   3634\u001b[0m         \u001b[0mvalidation_inputs\u001b[0m\u001b[1;33m,\u001b[0m \u001b[0mvalidation_labels\u001b[0m \u001b[1;33m=\u001b[0m \u001b[0mvalidation_gen\u001b[0m\u001b[1;33m\u001b[0m\u001b[1;33m\u001b[0m\u001b[0m\n\u001b[1;32m-> 3635\u001b[1;33m         \u001b[0mmodel\u001b[0m\u001b[1;33m.\u001b[0m\u001b[0mfit\u001b[0m\u001b[1;33m(\u001b[0m\u001b[0mtrain_inputs\u001b[0m\u001b[1;33m,\u001b[0m \u001b[0mtrain_labels\u001b[0m\u001b[1;33m,\u001b[0m \u001b[0mvalidation_data\u001b[0m\u001b[1;33m=\u001b[0m\u001b[1;33m(\u001b[0m\u001b[0mvalidation_inputs\u001b[0m\u001b[1;33m,\u001b[0m \u001b[0mvalidation_labels\u001b[0m\u001b[1;33m)\u001b[0m\u001b[1;33m,\u001b[0m \u001b[0mepochs\u001b[0m\u001b[1;33m=\u001b[0m\u001b[0mretrain_epochs\u001b[0m\u001b[1;33m,\u001b[0m \u001b[0mverbose\u001b[0m\u001b[1;33m=\u001b[0m\u001b[1;36m1\u001b[0m\u001b[1;33m)\u001b[0m\u001b[1;33m\u001b[0m\u001b[1;33m\u001b[0m\u001b[0m\n\u001b[0m\u001b[0;32m   3636\u001b[0m \u001b[1;33m\u001b[0m\u001b[0m\n\u001b[0;32m   3637\u001b[0m     \u001b[0msave_path\u001b[0m \u001b[1;33m=\u001b[0m \u001b[0mos\u001b[0m\u001b[1;33m.\u001b[0m\u001b[0mpath\u001b[0m\u001b[1;33m.\u001b[0m\u001b[0mjoin\u001b[0m\u001b[1;33m(\u001b[0m\u001b[0mROOT_PATH\u001b[0m\u001b[1;33m,\u001b[0m \u001b[1;34mf'models/kt/v{kt_iter}/wsd_retrain-epochs{last_epochs + retrain_epochs}/'\u001b[0m\u001b[1;33m)\u001b[0m\u001b[1;33m\u001b[0m\u001b[1;33m\u001b[0m\u001b[0m\n",
      "\u001b[1;32m~\\AppData\\Roaming\\Python\\Python39\\site-packages\\keras\\utils\\traceback_utils.py\u001b[0m in \u001b[0;36merror_handler\u001b[1;34m(*args, **kwargs)\u001b[0m\n\u001b[0;32m     65\u001b[0m     \u001b[1;32mexcept\u001b[0m \u001b[0mException\u001b[0m \u001b[1;32mas\u001b[0m \u001b[0me\u001b[0m\u001b[1;33m:\u001b[0m  \u001b[1;31m# pylint: disable=broad-except\u001b[0m\u001b[1;33m\u001b[0m\u001b[1;33m\u001b[0m\u001b[0m\n\u001b[0;32m     66\u001b[0m       \u001b[0mfiltered_tb\u001b[0m \u001b[1;33m=\u001b[0m \u001b[0m_process_traceback_frames\u001b[0m\u001b[1;33m(\u001b[0m\u001b[0me\u001b[0m\u001b[1;33m.\u001b[0m\u001b[0m__traceback__\u001b[0m\u001b[1;33m)\u001b[0m\u001b[1;33m\u001b[0m\u001b[1;33m\u001b[0m\u001b[0m\n\u001b[1;32m---> 67\u001b[1;33m       \u001b[1;32mraise\u001b[0m \u001b[0me\u001b[0m\u001b[1;33m.\u001b[0m\u001b[0mwith_traceback\u001b[0m\u001b[1;33m(\u001b[0m\u001b[0mfiltered_tb\u001b[0m\u001b[1;33m)\u001b[0m \u001b[1;32mfrom\u001b[0m \u001b[1;32mNone\u001b[0m\u001b[1;33m\u001b[0m\u001b[1;33m\u001b[0m\u001b[0m\n\u001b[0m\u001b[0;32m     68\u001b[0m     \u001b[1;32mfinally\u001b[0m\u001b[1;33m:\u001b[0m\u001b[1;33m\u001b[0m\u001b[1;33m\u001b[0m\u001b[0m\n\u001b[0;32m     69\u001b[0m       \u001b[1;32mdel\u001b[0m \u001b[0mfiltered_tb\u001b[0m\u001b[1;33m\u001b[0m\u001b[1;33m\u001b[0m\u001b[0m\n",
      "\u001b[1;32m~\\AppData\\Roaming\\Python\\Python39\\site-packages\\tensorflow\\python\\framework\\constant_op.py\u001b[0m in \u001b[0;36mconvert_to_eager_tensor\u001b[1;34m(value, ctx, dtype)\u001b[0m\n\u001b[0;32m    104\u001b[0m       \u001b[0mdtype\u001b[0m \u001b[1;33m=\u001b[0m \u001b[0mdtypes\u001b[0m\u001b[1;33m.\u001b[0m\u001b[0mas_dtype\u001b[0m\u001b[1;33m(\u001b[0m\u001b[0mdtype\u001b[0m\u001b[1;33m)\u001b[0m\u001b[1;33m.\u001b[0m\u001b[0mas_datatype_enum\u001b[0m\u001b[1;33m\u001b[0m\u001b[1;33m\u001b[0m\u001b[0m\n\u001b[0;32m    105\u001b[0m   \u001b[0mctx\u001b[0m\u001b[1;33m.\u001b[0m\u001b[0mensure_initialized\u001b[0m\u001b[1;33m(\u001b[0m\u001b[1;33m)\u001b[0m\u001b[1;33m\u001b[0m\u001b[1;33m\u001b[0m\u001b[0m\n\u001b[1;32m--> 106\u001b[1;33m   \u001b[1;32mreturn\u001b[0m \u001b[0mops\u001b[0m\u001b[1;33m.\u001b[0m\u001b[0mEagerTensor\u001b[0m\u001b[1;33m(\u001b[0m\u001b[0mvalue\u001b[0m\u001b[1;33m,\u001b[0m \u001b[0mctx\u001b[0m\u001b[1;33m.\u001b[0m\u001b[0mdevice_name\u001b[0m\u001b[1;33m,\u001b[0m \u001b[0mdtype\u001b[0m\u001b[1;33m)\u001b[0m\u001b[1;33m\u001b[0m\u001b[1;33m\u001b[0m\u001b[0m\n\u001b[0m\u001b[0;32m    107\u001b[0m \u001b[1;33m\u001b[0m\u001b[0m\n\u001b[0;32m    108\u001b[0m \u001b[1;33m\u001b[0m\u001b[0m\n",
      "\u001b[1;31mInternalError\u001b[0m: Failed copying input tensor from /job:localhost/replica:0/task:0/device:CPU:0 to /job:localhost/replica:0/task:0/device:GPU:0 in order to run _EagerConst: Dst tensor is not initialized."
     ]
    }
   ],
   "source": [
    "# 20\n",
    "core.retrain_model(model_base_id, kt_iter, db_ver, ROOT_PATH=ROOT_PATH, DB_ROOT_PATH=DB_ROOT_PATH, dataset_size=dataset_size, batch_size=batch_size, shuffle_buffer_size=shuffle_buffer_size, retrain_epochs=retrain_epochs, generator=generator)\n",
    "core.retrain_model(model_base_id, kt_iter, db_ver, ROOT_PATH=ROOT_PATH, DB_ROOT_PATH=DB_ROOT_PATH, dataset_size=dataset_size, batch_size=batch_size, shuffle_buffer_size=shuffle_buffer_size, retrain_epochs=retrain_epochs, generator=generator)\n",
    "core.retrain_model(model_base_id, kt_iter, db_ver, ROOT_PATH=ROOT_PATH, DB_ROOT_PATH=DB_ROOT_PATH, dataset_size=dataset_size, batch_size=batch_size, shuffle_buffer_size=shuffle_buffer_size, retrain_epochs=retrain_epochs, generator=generator)\n",
    "core.retrain_model(model_base_id, kt_iter, db_ver, ROOT_PATH=ROOT_PATH, DB_ROOT_PATH=DB_ROOT_PATH, dataset_size=dataset_size, batch_size=batch_size, shuffle_buffer_size=shuffle_buffer_size, retrain_epochs=retrain_epochs, generator=generator)\n",
    "core.retrain_model(model_base_id, kt_iter, db_ver, ROOT_PATH=ROOT_PATH, DB_ROOT_PATH=DB_ROOT_PATH, dataset_size=dataset_size, batch_size=batch_size, shuffle_buffer_size=shuffle_buffer_size, retrain_epochs=retrain_epochs, generator=generator)\n",
    "core.retrain_model(model_base_id, kt_iter, db_ver, ROOT_PATH=ROOT_PATH, DB_ROOT_PATH=DB_ROOT_PATH, dataset_size=dataset_size, batch_size=batch_size, shuffle_buffer_size=shuffle_buffer_size, retrain_epochs=retrain_epochs, generator=generator)\n",
    "core.retrain_model(model_base_id, kt_iter, db_ver, ROOT_PATH=ROOT_PATH, DB_ROOT_PATH=DB_ROOT_PATH, dataset_size=dataset_size, batch_size=batch_size, shuffle_buffer_size=shuffle_buffer_size, retrain_epochs=retrain_epochs, generator=generator)\n",
    "core.retrain_model(model_base_id, kt_iter, db_ver, ROOT_PATH=ROOT_PATH, DB_ROOT_PATH=DB_ROOT_PATH, dataset_size=dataset_size, batch_size=batch_size, shuffle_buffer_size=shuffle_buffer_size, retrain_epochs=retrain_epochs, generator=generator)\n",
    "core.retrain_model(model_base_id, kt_iter, db_ver, ROOT_PATH=ROOT_PATH, DB_ROOT_PATH=DB_ROOT_PATH, dataset_size=dataset_size, batch_size=batch_size, shuffle_buffer_size=shuffle_buffer_size, retrain_epochs=retrain_epochs, generator=generator)\n",
    "core.retrain_model(model_base_id, kt_iter, db_ver, ROOT_PATH=ROOT_PATH, DB_ROOT_PATH=DB_ROOT_PATH, dataset_size=dataset_size, batch_size=batch_size, shuffle_buffer_size=shuffle_buffer_size, retrain_epochs=retrain_epochs, generator=generator)\n",
    "core.retrain_model(model_base_id, kt_iter, db_ver, ROOT_PATH=ROOT_PATH, DB_ROOT_PATH=DB_ROOT_PATH, dataset_size=dataset_size, batch_size=batch_size, shuffle_buffer_size=shuffle_buffer_size, retrain_epochs=retrain_epochs, generator=generator)\n",
    "core.retrain_model(model_base_id, kt_iter, db_ver, ROOT_PATH=ROOT_PATH, DB_ROOT_PATH=DB_ROOT_PATH, dataset_size=dataset_size, batch_size=batch_size, shuffle_buffer_size=shuffle_buffer_size, retrain_epochs=retrain_epochs, generator=generator)\n",
    "core.retrain_model(model_base_id, kt_iter, db_ver, ROOT_PATH=ROOT_PATH, DB_ROOT_PATH=DB_ROOT_PATH, dataset_size=dataset_size, batch_size=batch_size, shuffle_buffer_size=shuffle_buffer_size, retrain_epochs=retrain_epochs, generator=generator)\n",
    "core.retrain_model(model_base_id, kt_iter, db_ver, ROOT_PATH=ROOT_PATH, DB_ROOT_PATH=DB_ROOT_PATH, dataset_size=dataset_size, batch_size=batch_size, shuffle_buffer_size=shuffle_buffer_size, retrain_epochs=retrain_epochs, generator=generator)\n",
    "core.retrain_model(model_base_id, kt_iter, db_ver, ROOT_PATH=ROOT_PATH, DB_ROOT_PATH=DB_ROOT_PATH, dataset_size=dataset_size, batch_size=batch_size, shuffle_buffer_size=shuffle_buffer_size, retrain_epochs=retrain_epochs, generator=generator)\n",
    "core.retrain_model(model_base_id, kt_iter, db_ver, ROOT_PATH=ROOT_PATH, DB_ROOT_PATH=DB_ROOT_PATH, dataset_size=dataset_size, batch_size=batch_size, shuffle_buffer_size=shuffle_buffer_size, retrain_epochs=retrain_epochs, generator=generator)\n",
    "core.retrain_model(model_base_id, kt_iter, db_ver, ROOT_PATH=ROOT_PATH, DB_ROOT_PATH=DB_ROOT_PATH, dataset_size=dataset_size, batch_size=batch_size, shuffle_buffer_size=shuffle_buffer_size, retrain_epochs=retrain_epochs, generator=generator)\n",
    "core.retrain_model(model_base_id, kt_iter, db_ver, ROOT_PATH=ROOT_PATH, DB_ROOT_PATH=DB_ROOT_PATH, dataset_size=dataset_size, batch_size=batch_size, shuffle_buffer_size=shuffle_buffer_size, retrain_epochs=retrain_epochs, generator=generator)\n",
    "core.retrain_model(model_base_id, kt_iter, db_ver, ROOT_PATH=ROOT_PATH, DB_ROOT_PATH=DB_ROOT_PATH, dataset_size=dataset_size, batch_size=batch_size, shuffle_buffer_size=shuffle_buffer_size, retrain_epochs=retrain_epochs, generator=generator)\n",
    "core.retrain_model(model_base_id, kt_iter, db_ver, ROOT_PATH=ROOT_PATH, DB_ROOT_PATH=DB_ROOT_PATH, dataset_size=dataset_size, batch_size=batch_size, shuffle_buffer_size=shuffle_buffer_size, retrain_epochs=retrain_epochs, generator=generator)"
   ]
  },
  {
   "cell_type": "code",
   "execution_count": null,
   "id": "f0898448-0f35-40df-bcce-e337debda629",
   "metadata": {},
   "outputs": [],
   "source": [
    "# 40\n",
    "core.retrain_model(model_base_id, kt_iter, db_ver, ROOT_PATH=ROOT_PATH, DB_ROOT_PATH=DB_ROOT_PATH, dataset_size=dataset_size, batch_size=batch_size, shuffle_buffer_size=shuffle_buffer_size, retrain_epochs=retrain_epochs, generator=generator)\n",
    "core.retrain_model(model_base_id, kt_iter, db_ver, ROOT_PATH=ROOT_PATH, DB_ROOT_PATH=DB_ROOT_PATH, dataset_size=dataset_size, batch_size=batch_size, shuffle_buffer_size=shuffle_buffer_size, retrain_epochs=retrain_epochs, generator=generator)\n",
    "core.retrain_model(model_base_id, kt_iter, db_ver, ROOT_PATH=ROOT_PATH, DB_ROOT_PATH=DB_ROOT_PATH, dataset_size=dataset_size, batch_size=batch_size, shuffle_buffer_size=shuffle_buffer_size, retrain_epochs=retrain_epochs, generator=generator)\n",
    "core.retrain_model(model_base_id, kt_iter, db_ver, ROOT_PATH=ROOT_PATH, DB_ROOT_PATH=DB_ROOT_PATH, dataset_size=dataset_size, batch_size=batch_size, shuffle_buffer_size=shuffle_buffer_size, retrain_epochs=retrain_epochs, generator=generator)\n",
    "core.retrain_model(model_base_id, kt_iter, db_ver, ROOT_PATH=ROOT_PATH, DB_ROOT_PATH=DB_ROOT_PATH, dataset_size=dataset_size, batch_size=batch_size, shuffle_buffer_size=shuffle_buffer_size, retrain_epochs=retrain_epochs, generator=generator)\n",
    "core.retrain_model(model_base_id, kt_iter, db_ver, ROOT_PATH=ROOT_PATH, DB_ROOT_PATH=DB_ROOT_PATH, dataset_size=dataset_size, batch_size=batch_size, shuffle_buffer_size=shuffle_buffer_size, retrain_epochs=retrain_epochs, generator=generator)\n",
    "core.retrain_model(model_base_id, kt_iter, db_ver, ROOT_PATH=ROOT_PATH, DB_ROOT_PATH=DB_ROOT_PATH, dataset_size=dataset_size, batch_size=batch_size, shuffle_buffer_size=shuffle_buffer_size, retrain_epochs=retrain_epochs, generator=generator)\n",
    "core.retrain_model(model_base_id, kt_iter, db_ver, ROOT_PATH=ROOT_PATH, DB_ROOT_PATH=DB_ROOT_PATH, dataset_size=dataset_size, batch_size=batch_size, shuffle_buffer_size=shuffle_buffer_size, retrain_epochs=retrain_epochs, generator=generator)\n",
    "core.retrain_model(model_base_id, kt_iter, db_ver, ROOT_PATH=ROOT_PATH, DB_ROOT_PATH=DB_ROOT_PATH, dataset_size=dataset_size, batch_size=batch_size, shuffle_buffer_size=shuffle_buffer_size, retrain_epochs=retrain_epochs, generator=generator)\n",
    "core.retrain_model(model_base_id, kt_iter, db_ver, ROOT_PATH=ROOT_PATH, DB_ROOT_PATH=DB_ROOT_PATH, dataset_size=dataset_size, batch_size=batch_size, shuffle_buffer_size=shuffle_buffer_size, retrain_epochs=retrain_epochs, generator=generator)\n",
    "core.retrain_model(model_base_id, kt_iter, db_ver, ROOT_PATH=ROOT_PATH, DB_ROOT_PATH=DB_ROOT_PATH, dataset_size=dataset_size, batch_size=batch_size, shuffle_buffer_size=shuffle_buffer_size, retrain_epochs=retrain_epochs, generator=generator)\n",
    "core.retrain_model(model_base_id, kt_iter, db_ver, ROOT_PATH=ROOT_PATH, DB_ROOT_PATH=DB_ROOT_PATH, dataset_size=dataset_size, batch_size=batch_size, shuffle_buffer_size=shuffle_buffer_size, retrain_epochs=retrain_epochs, generator=generator)\n",
    "core.retrain_model(model_base_id, kt_iter, db_ver, ROOT_PATH=ROOT_PATH, DB_ROOT_PATH=DB_ROOT_PATH, dataset_size=dataset_size, batch_size=batch_size, shuffle_buffer_size=shuffle_buffer_size, retrain_epochs=retrain_epochs, generator=generator)\n",
    "core.retrain_model(model_base_id, kt_iter, db_ver, ROOT_PATH=ROOT_PATH, DB_ROOT_PATH=DB_ROOT_PATH, dataset_size=dataset_size, batch_size=batch_size, shuffle_buffer_size=shuffle_buffer_size, retrain_epochs=retrain_epochs, generator=generator)\n",
    "core.retrain_model(model_base_id, kt_iter, db_ver, ROOT_PATH=ROOT_PATH, DB_ROOT_PATH=DB_ROOT_PATH, dataset_size=dataset_size, batch_size=batch_size, shuffle_buffer_size=shuffle_buffer_size, retrain_epochs=retrain_epochs, generator=generator)\n",
    "core.retrain_model(model_base_id, kt_iter, db_ver, ROOT_PATH=ROOT_PATH, DB_ROOT_PATH=DB_ROOT_PATH, dataset_size=dataset_size, batch_size=batch_size, shuffle_buffer_size=shuffle_buffer_size, retrain_epochs=retrain_epochs, generator=generator)\n",
    "core.retrain_model(model_base_id, kt_iter, db_ver, ROOT_PATH=ROOT_PATH, DB_ROOT_PATH=DB_ROOT_PATH, dataset_size=dataset_size, batch_size=batch_size, shuffle_buffer_size=shuffle_buffer_size, retrain_epochs=retrain_epochs, generator=generator)\n",
    "core.retrain_model(model_base_id, kt_iter, db_ver, ROOT_PATH=ROOT_PATH, DB_ROOT_PATH=DB_ROOT_PATH, dataset_size=dataset_size, batch_size=batch_size, shuffle_buffer_size=shuffle_buffer_size, retrain_epochs=retrain_epochs, generator=generator)\n",
    "core.retrain_model(model_base_id, kt_iter, db_ver, ROOT_PATH=ROOT_PATH, DB_ROOT_PATH=DB_ROOT_PATH, dataset_size=dataset_size, batch_size=batch_size, shuffle_buffer_size=shuffle_buffer_size, retrain_epochs=retrain_epochs, generator=generator)\n",
    "core.retrain_model(model_base_id, kt_iter, db_ver, ROOT_PATH=ROOT_PATH, DB_ROOT_PATH=DB_ROOT_PATH, dataset_size=dataset_size, batch_size=batch_size, shuffle_buffer_size=shuffle_buffer_size, retrain_epochs=retrain_epochs, generator=generator)"
   ]
  },
  {
   "cell_type": "code",
   "execution_count": null,
   "id": "943feda2-c6e4-4c5f-ad94-68e37566ce19",
   "metadata": {},
   "outputs": [],
   "source": [
    "# 60\n",
    "core.retrain_model(model_base_id, kt_iter, db_ver, ROOT_PATH=ROOT_PATH, DB_ROOT_PATH=DB_ROOT_PATH, dataset_size=dataset_size, batch_size=batch_size, shuffle_buffer_size=shuffle_buffer_size, retrain_epochs=retrain_epochs, generator=generator)\n",
    "core.retrain_model(model_base_id, kt_iter, db_ver, ROOT_PATH=ROOT_PATH, DB_ROOT_PATH=DB_ROOT_PATH, dataset_size=dataset_size, batch_size=batch_size, shuffle_buffer_size=shuffle_buffer_size, retrain_epochs=retrain_epochs, generator=generator)\n",
    "core.retrain_model(model_base_id, kt_iter, db_ver, ROOT_PATH=ROOT_PATH, DB_ROOT_PATH=DB_ROOT_PATH, dataset_size=dataset_size, batch_size=batch_size, shuffle_buffer_size=shuffle_buffer_size, retrain_epochs=retrain_epochs, generator=generator)\n",
    "core.retrain_model(model_base_id, kt_iter, db_ver, ROOT_PATH=ROOT_PATH, DB_ROOT_PATH=DB_ROOT_PATH, dataset_size=dataset_size, batch_size=batch_size, shuffle_buffer_size=shuffle_buffer_size, retrain_epochs=retrain_epochs, generator=generator)\n",
    "core.retrain_model(model_base_id, kt_iter, db_ver, ROOT_PATH=ROOT_PATH, DB_ROOT_PATH=DB_ROOT_PATH, dataset_size=dataset_size, batch_size=batch_size, shuffle_buffer_size=shuffle_buffer_size, retrain_epochs=retrain_epochs, generator=generator)\n",
    "core.retrain_model(model_base_id, kt_iter, db_ver, ROOT_PATH=ROOT_PATH, DB_ROOT_PATH=DB_ROOT_PATH, dataset_size=dataset_size, batch_size=batch_size, shuffle_buffer_size=shuffle_buffer_size, retrain_epochs=retrain_epochs, generator=generator)\n",
    "core.retrain_model(model_base_id, kt_iter, db_ver, ROOT_PATH=ROOT_PATH, DB_ROOT_PATH=DB_ROOT_PATH, dataset_size=dataset_size, batch_size=batch_size, shuffle_buffer_size=shuffle_buffer_size, retrain_epochs=retrain_epochs, generator=generator)\n",
    "core.retrain_model(model_base_id, kt_iter, db_ver, ROOT_PATH=ROOT_PATH, DB_ROOT_PATH=DB_ROOT_PATH, dataset_size=dataset_size, batch_size=batch_size, shuffle_buffer_size=shuffle_buffer_size, retrain_epochs=retrain_epochs, generator=generator)\n",
    "core.retrain_model(model_base_id, kt_iter, db_ver, ROOT_PATH=ROOT_PATH, DB_ROOT_PATH=DB_ROOT_PATH, dataset_size=dataset_size, batch_size=batch_size, shuffle_buffer_size=shuffle_buffer_size, retrain_epochs=retrain_epochs, generator=generator)\n",
    "core.retrain_model(model_base_id, kt_iter, db_ver, ROOT_PATH=ROOT_PATH, DB_ROOT_PATH=DB_ROOT_PATH, dataset_size=dataset_size, batch_size=batch_size, shuffle_buffer_size=shuffle_buffer_size, retrain_epochs=retrain_epochs, generator=generator)\n",
    "core.retrain_model(model_base_id, kt_iter, db_ver, ROOT_PATH=ROOT_PATH, DB_ROOT_PATH=DB_ROOT_PATH, dataset_size=dataset_size, batch_size=batch_size, shuffle_buffer_size=shuffle_buffer_size, retrain_epochs=retrain_epochs, generator=generator)\n",
    "core.retrain_model(model_base_id, kt_iter, db_ver, ROOT_PATH=ROOT_PATH, DB_ROOT_PATH=DB_ROOT_PATH, dataset_size=dataset_size, batch_size=batch_size, shuffle_buffer_size=shuffle_buffer_size, retrain_epochs=retrain_epochs, generator=generator)\n",
    "core.retrain_model(model_base_id, kt_iter, db_ver, ROOT_PATH=ROOT_PATH, DB_ROOT_PATH=DB_ROOT_PATH, dataset_size=dataset_size, batch_size=batch_size, shuffle_buffer_size=shuffle_buffer_size, retrain_epochs=retrain_epochs, generator=generator)\n",
    "core.retrain_model(model_base_id, kt_iter, db_ver, ROOT_PATH=ROOT_PATH, DB_ROOT_PATH=DB_ROOT_PATH, dataset_size=dataset_size, batch_size=batch_size, shuffle_buffer_size=shuffle_buffer_size, retrain_epochs=retrain_epochs, generator=generator)\n",
    "core.retrain_model(model_base_id, kt_iter, db_ver, ROOT_PATH=ROOT_PATH, DB_ROOT_PATH=DB_ROOT_PATH, dataset_size=dataset_size, batch_size=batch_size, shuffle_buffer_size=shuffle_buffer_size, retrain_epochs=retrain_epochs, generator=generator)\n",
    "core.retrain_model(model_base_id, kt_iter, db_ver, ROOT_PATH=ROOT_PATH, DB_ROOT_PATH=DB_ROOT_PATH, dataset_size=dataset_size, batch_size=batch_size, shuffle_buffer_size=shuffle_buffer_size, retrain_epochs=retrain_epochs, generator=generator)\n",
    "core.retrain_model(model_base_id, kt_iter, db_ver, ROOT_PATH=ROOT_PATH, DB_ROOT_PATH=DB_ROOT_PATH, dataset_size=dataset_size, batch_size=batch_size, shuffle_buffer_size=shuffle_buffer_size, retrain_epochs=retrain_epochs, generator=generator)\n",
    "core.retrain_model(model_base_id, kt_iter, db_ver, ROOT_PATH=ROOT_PATH, DB_ROOT_PATH=DB_ROOT_PATH, dataset_size=dataset_size, batch_size=batch_size, shuffle_buffer_size=shuffle_buffer_size, retrain_epochs=retrain_epochs, generator=generator)\n",
    "core.retrain_model(model_base_id, kt_iter, db_ver, ROOT_PATH=ROOT_PATH, DB_ROOT_PATH=DB_ROOT_PATH, dataset_size=dataset_size, batch_size=batch_size, shuffle_buffer_size=shuffle_buffer_size, retrain_epochs=retrain_epochs, generator=generator)\n",
    "core.retrain_model(model_base_id, kt_iter, db_ver, ROOT_PATH=ROOT_PATH, DB_ROOT_PATH=DB_ROOT_PATH, dataset_size=dataset_size, batch_size=batch_size, shuffle_buffer_size=shuffle_buffer_size, retrain_epochs=retrain_epochs, generator=generator)"
   ]
  },
  {
   "cell_type": "code",
   "execution_count": null,
   "id": "d85533df-e7b5-4f4f-90d7-5a6d9681f133",
   "metadata": {},
   "outputs": [],
   "source": [
    "# 80\n",
    "core.retrain_model(model_base_id, kt_iter, db_ver, ROOT_PATH=ROOT_PATH, DB_ROOT_PATH=DB_ROOT_PATH, dataset_size=dataset_size, batch_size=batch_size, shuffle_buffer_size=shuffle_buffer_size, retrain_epochs=retrain_epochs, generator=generator)\n",
    "core.retrain_model(model_base_id, kt_iter, db_ver, ROOT_PATH=ROOT_PATH, DB_ROOT_PATH=DB_ROOT_PATH, dataset_size=dataset_size, batch_size=batch_size, shuffle_buffer_size=shuffle_buffer_size, retrain_epochs=retrain_epochs, generator=generator)\n",
    "core.retrain_model(model_base_id, kt_iter, db_ver, ROOT_PATH=ROOT_PATH, DB_ROOT_PATH=DB_ROOT_PATH, dataset_size=dataset_size, batch_size=batch_size, shuffle_buffer_size=shuffle_buffer_size, retrain_epochs=retrain_epochs, generator=generator)\n",
    "core.retrain_model(model_base_id, kt_iter, db_ver, ROOT_PATH=ROOT_PATH, DB_ROOT_PATH=DB_ROOT_PATH, dataset_size=dataset_size, batch_size=batch_size, shuffle_buffer_size=shuffle_buffer_size, retrain_epochs=retrain_epochs, generator=generator)\n",
    "core.retrain_model(model_base_id, kt_iter, db_ver, ROOT_PATH=ROOT_PATH, DB_ROOT_PATH=DB_ROOT_PATH, dataset_size=dataset_size, batch_size=batch_size, shuffle_buffer_size=shuffle_buffer_size, retrain_epochs=retrain_epochs, generator=generator)\n",
    "core.retrain_model(model_base_id, kt_iter, db_ver, ROOT_PATH=ROOT_PATH, DB_ROOT_PATH=DB_ROOT_PATH, dataset_size=dataset_size, batch_size=batch_size, shuffle_buffer_size=shuffle_buffer_size, retrain_epochs=retrain_epochs, generator=generator)\n",
    "core.retrain_model(model_base_id, kt_iter, db_ver, ROOT_PATH=ROOT_PATH, DB_ROOT_PATH=DB_ROOT_PATH, dataset_size=dataset_size, batch_size=batch_size, shuffle_buffer_size=shuffle_buffer_size, retrain_epochs=retrain_epochs, generator=generator)\n",
    "core.retrain_model(model_base_id, kt_iter, db_ver, ROOT_PATH=ROOT_PATH, DB_ROOT_PATH=DB_ROOT_PATH, dataset_size=dataset_size, batch_size=batch_size, shuffle_buffer_size=shuffle_buffer_size, retrain_epochs=retrain_epochs, generator=generator)\n",
    "core.retrain_model(model_base_id, kt_iter, db_ver, ROOT_PATH=ROOT_PATH, DB_ROOT_PATH=DB_ROOT_PATH, dataset_size=dataset_size, batch_size=batch_size, shuffle_buffer_size=shuffle_buffer_size, retrain_epochs=retrain_epochs, generator=generator)\n",
    "core.retrain_model(model_base_id, kt_iter, db_ver, ROOT_PATH=ROOT_PATH, DB_ROOT_PATH=DB_ROOT_PATH, dataset_size=dataset_size, batch_size=batch_size, shuffle_buffer_size=shuffle_buffer_size, retrain_epochs=retrain_epochs, generator=generator)\n",
    "core.retrain_model(model_base_id, kt_iter, db_ver, ROOT_PATH=ROOT_PATH, DB_ROOT_PATH=DB_ROOT_PATH, dataset_size=dataset_size, batch_size=batch_size, shuffle_buffer_size=shuffle_buffer_size, retrain_epochs=retrain_epochs, generator=generator)\n",
    "core.retrain_model(model_base_id, kt_iter, db_ver, ROOT_PATH=ROOT_PATH, DB_ROOT_PATH=DB_ROOT_PATH, dataset_size=dataset_size, batch_size=batch_size, shuffle_buffer_size=shuffle_buffer_size, retrain_epochs=retrain_epochs, generator=generator)\n",
    "core.retrain_model(model_base_id, kt_iter, db_ver, ROOT_PATH=ROOT_PATH, DB_ROOT_PATH=DB_ROOT_PATH, dataset_size=dataset_size, batch_size=batch_size, shuffle_buffer_size=shuffle_buffer_size, retrain_epochs=retrain_epochs, generator=generator)\n",
    "core.retrain_model(model_base_id, kt_iter, db_ver, ROOT_PATH=ROOT_PATH, DB_ROOT_PATH=DB_ROOT_PATH, dataset_size=dataset_size, batch_size=batch_size, shuffle_buffer_size=shuffle_buffer_size, retrain_epochs=retrain_epochs, generator=generator)\n",
    "core.retrain_model(model_base_id, kt_iter, db_ver, ROOT_PATH=ROOT_PATH, DB_ROOT_PATH=DB_ROOT_PATH, dataset_size=dataset_size, batch_size=batch_size, shuffle_buffer_size=shuffle_buffer_size, retrain_epochs=retrain_epochs, generator=generator)\n",
    "core.retrain_model(model_base_id, kt_iter, db_ver, ROOT_PATH=ROOT_PATH, DB_ROOT_PATH=DB_ROOT_PATH, dataset_size=dataset_size, batch_size=batch_size, shuffle_buffer_size=shuffle_buffer_size, retrain_epochs=retrain_epochs, generator=generator)\n",
    "core.retrain_model(model_base_id, kt_iter, db_ver, ROOT_PATH=ROOT_PATH, DB_ROOT_PATH=DB_ROOT_PATH, dataset_size=dataset_size, batch_size=batch_size, shuffle_buffer_size=shuffle_buffer_size, retrain_epochs=retrain_epochs, generator=generator)\n",
    "core.retrain_model(model_base_id, kt_iter, db_ver, ROOT_PATH=ROOT_PATH, DB_ROOT_PATH=DB_ROOT_PATH, dataset_size=dataset_size, batch_size=batch_size, shuffle_buffer_size=shuffle_buffer_size, retrain_epochs=retrain_epochs, generator=generator)\n",
    "core.retrain_model(model_base_id, kt_iter, db_ver, ROOT_PATH=ROOT_PATH, DB_ROOT_PATH=DB_ROOT_PATH, dataset_size=dataset_size, batch_size=batch_size, shuffle_buffer_size=shuffle_buffer_size, retrain_epochs=retrain_epochs, generator=generator)\n",
    "core.retrain_model(model_base_id, kt_iter, db_ver, ROOT_PATH=ROOT_PATH, DB_ROOT_PATH=DB_ROOT_PATH, dataset_size=dataset_size, batch_size=batch_size, shuffle_buffer_size=shuffle_buffer_size, retrain_epochs=retrain_epochs, generator=generator)"
   ]
  },
  {
   "cell_type": "code",
   "execution_count": null,
   "id": "7dd3c31f-3cf9-4136-af31-0e8136b40875",
   "metadata": {},
   "outputs": [],
   "source": [
    "# 100\n",
    "core.retrain_model(model_base_id, kt_iter, db_ver, ROOT_PATH=ROOT_PATH, DB_ROOT_PATH=DB_ROOT_PATH, dataset_size=dataset_size, batch_size=batch_size, shuffle_buffer_size=shuffle_buffer_size, retrain_epochs=retrain_epochs, generator=generator)\n",
    "core.retrain_model(model_base_id, kt_iter, db_ver, ROOT_PATH=ROOT_PATH, DB_ROOT_PATH=DB_ROOT_PATH, dataset_size=dataset_size, batch_size=batch_size, shuffle_buffer_size=shuffle_buffer_size, retrain_epochs=retrain_epochs, generator=generator)\n",
    "core.retrain_model(model_base_id, kt_iter, db_ver, ROOT_PATH=ROOT_PATH, DB_ROOT_PATH=DB_ROOT_PATH, dataset_size=dataset_size, batch_size=batch_size, shuffle_buffer_size=shuffle_buffer_size, retrain_epochs=retrain_epochs, generator=generator)\n",
    "core.retrain_model(model_base_id, kt_iter, db_ver, ROOT_PATH=ROOT_PATH, DB_ROOT_PATH=DB_ROOT_PATH, dataset_size=dataset_size, batch_size=batch_size, shuffle_buffer_size=shuffle_buffer_size, retrain_epochs=retrain_epochs, generator=generator)\n",
    "core.retrain_model(model_base_id, kt_iter, db_ver, ROOT_PATH=ROOT_PATH, DB_ROOT_PATH=DB_ROOT_PATH, dataset_size=dataset_size, batch_size=batch_size, shuffle_buffer_size=shuffle_buffer_size, retrain_epochs=retrain_epochs, generator=generator)\n",
    "core.retrain_model(model_base_id, kt_iter, db_ver, ROOT_PATH=ROOT_PATH, DB_ROOT_PATH=DB_ROOT_PATH, dataset_size=dataset_size, batch_size=batch_size, shuffle_buffer_size=shuffle_buffer_size, retrain_epochs=retrain_epochs, generator=generator)\n",
    "core.retrain_model(model_base_id, kt_iter, db_ver, ROOT_PATH=ROOT_PATH, DB_ROOT_PATH=DB_ROOT_PATH, dataset_size=dataset_size, batch_size=batch_size, shuffle_buffer_size=shuffle_buffer_size, retrain_epochs=retrain_epochs, generator=generator)\n",
    "core.retrain_model(model_base_id, kt_iter, db_ver, ROOT_PATH=ROOT_PATH, DB_ROOT_PATH=DB_ROOT_PATH, dataset_size=dataset_size, batch_size=batch_size, shuffle_buffer_size=shuffle_buffer_size, retrain_epochs=retrain_epochs, generator=generator)\n",
    "core.retrain_model(model_base_id, kt_iter, db_ver, ROOT_PATH=ROOT_PATH, DB_ROOT_PATH=DB_ROOT_PATH, dataset_size=dataset_size, batch_size=batch_size, shuffle_buffer_size=shuffle_buffer_size, retrain_epochs=retrain_epochs, generator=generator)\n",
    "core.retrain_model(model_base_id, kt_iter, db_ver, ROOT_PATH=ROOT_PATH, DB_ROOT_PATH=DB_ROOT_PATH, dataset_size=dataset_size, batch_size=batch_size, shuffle_buffer_size=shuffle_buffer_size, retrain_epochs=retrain_epochs, generator=generator)\n",
    "core.retrain_model(model_base_id, kt_iter, db_ver, ROOT_PATH=ROOT_PATH, DB_ROOT_PATH=DB_ROOT_PATH, dataset_size=dataset_size, batch_size=batch_size, shuffle_buffer_size=shuffle_buffer_size, retrain_epochs=retrain_epochs, generator=generator)\n",
    "core.retrain_model(model_base_id, kt_iter, db_ver, ROOT_PATH=ROOT_PATH, DB_ROOT_PATH=DB_ROOT_PATH, dataset_size=dataset_size, batch_size=batch_size, shuffle_buffer_size=shuffle_buffer_size, retrain_epochs=retrain_epochs, generator=generator)\n",
    "core.retrain_model(model_base_id, kt_iter, db_ver, ROOT_PATH=ROOT_PATH, DB_ROOT_PATH=DB_ROOT_PATH, dataset_size=dataset_size, batch_size=batch_size, shuffle_buffer_size=shuffle_buffer_size, retrain_epochs=retrain_epochs, generator=generator)\n",
    "core.retrain_model(model_base_id, kt_iter, db_ver, ROOT_PATH=ROOT_PATH, DB_ROOT_PATH=DB_ROOT_PATH, dataset_size=dataset_size, batch_size=batch_size, shuffle_buffer_size=shuffle_buffer_size, retrain_epochs=retrain_epochs, generator=generator)\n",
    "core.retrain_model(model_base_id, kt_iter, db_ver, ROOT_PATH=ROOT_PATH, DB_ROOT_PATH=DB_ROOT_PATH, dataset_size=dataset_size, batch_size=batch_size, shuffle_buffer_size=shuffle_buffer_size, retrain_epochs=retrain_epochs, generator=generator)\n",
    "core.retrain_model(model_base_id, kt_iter, db_ver, ROOT_PATH=ROOT_PATH, DB_ROOT_PATH=DB_ROOT_PATH, dataset_size=dataset_size, batch_size=batch_size, shuffle_buffer_size=shuffle_buffer_size, retrain_epochs=retrain_epochs, generator=generator)\n",
    "core.retrain_model(model_base_id, kt_iter, db_ver, ROOT_PATH=ROOT_PATH, DB_ROOT_PATH=DB_ROOT_PATH, dataset_size=dataset_size, batch_size=batch_size, shuffle_buffer_size=shuffle_buffer_size, retrain_epochs=retrain_epochs, generator=generator)\n",
    "core.retrain_model(model_base_id, kt_iter, db_ver, ROOT_PATH=ROOT_PATH, DB_ROOT_PATH=DB_ROOT_PATH, dataset_size=dataset_size, batch_size=batch_size, shuffle_buffer_size=shuffle_buffer_size, retrain_epochs=retrain_epochs, generator=generator)\n",
    "core.retrain_model(model_base_id, kt_iter, db_ver, ROOT_PATH=ROOT_PATH, DB_ROOT_PATH=DB_ROOT_PATH, dataset_size=dataset_size, batch_size=batch_size, shuffle_buffer_size=shuffle_buffer_size, retrain_epochs=retrain_epochs, generator=generator)\n",
    "core.retrain_model(model_base_id, kt_iter, db_ver, ROOT_PATH=ROOT_PATH, DB_ROOT_PATH=DB_ROOT_PATH, dataset_size=dataset_size, batch_size=batch_size, shuffle_buffer_size=shuffle_buffer_size, retrain_epochs=retrain_epochs, generator=generator)"
   ]
  },
  {
   "cell_type": "code",
   "execution_count": null,
   "id": "6160e889-0a55-4af8-b3d6-6e3b445b22ff",
   "metadata": {},
   "outputs": [],
   "source": []
  },
  {
   "cell_type": "code",
   "execution_count": null,
   "id": "6659f7b0-04ef-49cd-b383-5ec849981104",
   "metadata": {},
   "outputs": [],
   "source": []
  },
  {
   "cell_type": "markdown",
   "id": "5b0d3c72-dce7-49d6-970e-734d10c0249f",
   "metadata": {},
   "source": [
    "### Load and evaluate existing model to predict idx data and find where the ticker would produce nan_loss"
   ]
  },
  {
   "cell_type": "code",
   "execution_count": 5,
   "id": "2c70f3e7-98e0-40bc-9b8a-d99eb6913b5a",
   "metadata": {},
   "outputs": [
    {
     "data": {
      "text/plain": [
       "<tensorflow.python.training.tracking.util.CheckpointLoadStatus at 0x1cbbf6e20d0>"
      ]
     },
     "execution_count": 5,
     "metadata": {},
     "output_type": "execute_result"
    }
   ],
   "source": [
    "ROOT_PATH = './'\n",
    "kt_iter = '23'\n",
    "\n",
    "base_path = os.path.join(ROOT_PATH, 'models/kt/', f'v{kt_iter}/')\n",
    "last_epochs = core.last_epochs_from_directory(base_path, 'wsd')\n",
    "model_source_path = core.os.path.join(base_path, 'wsd/')\n",
    "best_model = core.best_model_metadata(model_source_path, metrics=['val_loss','val_accuracy'], primary_metrics='val_loss', ascending=True)\n",
    "model = core.model_switcher_kt_build(model_base_id, core.hp_params(best_model), 0, 0)\n",
    "model.load_weights(os.path.join(base_path, f'wsd_retrain-epochs{last_epochs}/weights/checkpoint'))"
   ]
  },
  {
   "cell_type": "code",
   "execution_count": 21,
   "id": "708083cb-b7e3-4986-ba13-b7330d1e0309",
   "metadata": {},
   "outputs": [],
   "source": [
    "# Load idx data\n",
    "base_idx = 'J:\\\\#PROJECT\\\\idx\\\\db\\\\v8\\\\dataset\\\\vid'\n",
    "idx_listdir = core.os.listdir(base_idx)\n",
    "suffix = '_shift0_interval5_recurrent120_split0.8.hdf5'\n",
    "selected_ticker = 'BBRI.JK'\n",
    "selected_ticker_path = core.os.path.join(base_idx, selected_ticker + suffix)"
   ]
  },
  {
   "cell_type": "code",
   "execution_count": 31,
   "id": "e2efa68d-8746-45e0-93ec-922a3d63e69a",
   "metadata": {
    "collapsed": true,
    "jupyter": {
     "outputs_hidden": true
    },
    "tags": []
   },
   "outputs": [
    {
     "name": "stdout",
     "output_type": "stream",
     "text": [
      "AALI.JK nan\n",
      "ABBA.JK nan\n",
      "ABDA.JK nan\n",
      "ABMM.JK nan\n",
      "ACES.JK nan\n",
      "ACST.JK nan\n",
      "ADES.JK nan\n",
      "ADHI.JK nan\n",
      "ADMF.JK nan\n",
      "ADMG.JK nan\n",
      "ADRO.JK nan\n",
      "AGII.JK nan\n",
      "AGRO.JK nan\n",
      "AGRS.JK nan\n",
      "AHAP.JK nan\n",
      "AIMS.JK nan\n",
      "AISA.JK nan\n",
      "AKKU.JK nan\n",
      "AKPI.JK nan\n",
      "AKRA.JK nan\n",
      "AKSI.JK nan\n",
      "ALDO.JK nan\n",
      "ALKA.JK nan\n",
      "ALMI.JK nan\n",
      "ALTO.JK nan\n",
      "AMAG.JK nan\n",
      "AMFG.JK nan\n",
      "AMIN.JK nan\n",
      "AMRT.JK nan\n",
      "ANDI.JK nan\n",
      "ANJT.JK nan\n",
      "ANTM.JK nan\n",
      "APEX.JK nan\n",
      "APIC.JK nan\n",
      "APII.JK nan\n",
      "APLI.JK nan\n",
      "APLN.JK nan\n",
      "ARGO.JK nan\n",
      "ARII.JK nan\n",
      "ARKA.JK nan\n",
      "ARNA.JK nan\n",
      "ARTA.JK nan\n",
      "ARTO.JK nan\n",
      "ASBI.JK nan\n",
      "ASDM.JK nan\n",
      "ASGR.JK nan\n",
      "ASII.JK nan\n",
      "ASJT.JK nan\n",
      "ASMI.JK nan\n",
      "ASRI.JK nan\n",
      "ASRM.JK nan\n",
      "ASSA.JK nan\n",
      "ATIC.JK nan\n",
      "AUTO.JK nan\n",
      "BABP.JK nan\n",
      "BACA.JK nan\n",
      "BAJA.JK nan\n",
      "BALI.JK nan\n",
      "BAPA.JK nan\n",
      "BATA.JK nan\n",
      "BAYU.JK nan\n",
      "BBCA.JK nan\n",
      "BBHI.JK nan\n",
      "BBKP.JK nan\n",
      "BBLD.JK nan\n",
      "BBMD.JK nan\n",
      "BBNI.JK nan\n",
      "BBRI.JK nan\n",
      "BBRM.JK nan\n",
      "BBTN.JK nan\n",
      "BBYB.JK nan\n",
      "BCAP.JK nan\n",
      "BCIC.JK nan\n",
      "BCIP.JK nan\n",
      "BDMN.JK nan\n",
      "BEEF.JK nan\n",
      "BEKS.JK nan\n",
      "BELL.JK nan\n",
      "BEST.JK nan\n",
      "BFIN.JK nan\n",
      "BGTG.JK nan\n",
      "BHIT.JK nan\n",
      "BIKA.JK nan\n",
      "BIMA.JK nan\n",
      "BINA.JK nan\n",
      "BIPI.JK nan\n",
      "BIPP.JK nan\n",
      "BIRD.JK nan\n",
      "BISI.JK nan\n",
      "BJBR.JK nan\n",
      "BJTM.JK nan\n",
      "BKDP.JK nan\n",
      "BKSL.JK nan\n",
      "BKSW.JK nan\n",
      "BLTA.JK nan\n",
      "BLTZ.JK nan\n",
      "BLUE.JK nan\n",
      "BMAS.JK nan\n",
      "BMRI.JK nan\n",
      "BMSR.JK nan\n",
      "BMTR.JK nan\n",
      "BNBA.JK nan\n",
      "BNBR.JK nan\n",
      "BNGA.JK nan\n",
      "BNII.JK nan\n",
      "BNLI.JK nan\n",
      "BOGA.JK nan\n",
      "BOLA.JK nan\n",
      "BOLT.JK nan\n",
      "BOSS.JK nan\n",
      "BPFI.JK nan\n",
      "BPII.JK nan\n",
      "BPTR.JK nan\n",
      "BRAM.JK nan\n",
      "BRIS.JK nan\n",
      "BRMS.JK nan\n",
      "BRNA.JK nan\n",
      "BRPT.JK nan\n",
      "BSDE.JK nan\n",
      "BSIM.JK nan\n",
      "BSSR.JK nan\n",
      "BTEK.JK nan\n",
      "BTON.JK nan\n",
      "BTPN.JK nan\n",
      "BTPS.JK nan\n",
      "BUDI.JK nan\n",
      "BUKK.JK nan\n",
      "BULL.JK nan\n",
      "BUMI.JK nan\n",
      "BVIC.JK nan\n",
      "BWPT.JK nan\n",
      "BYAN.JK nan\n",
      "CAKK.JK nan\n",
      "CAMP.JK nan\n",
      "CANI.JK nan\n",
      "CARS.JK nan\n",
      "CASA.JK nan\n",
      "CASS.JK nan\n",
      "CCSI.JK nan\n",
      "CEKA.JK nan\n",
      "CENT.JK nan\n",
      "CFIN.JK nan\n",
      "CINT.JK nan\n",
      "CITA.JK nan\n",
      "CITY.JK nan\n",
      "CLAY.JK nan\n",
      "CLEO.JK nan\n",
      "CLPI.JK nan\n",
      "CMNP.JK nan\n",
      "CMPP.JK nan\n",
      "CNKO.JK nan\n",
      "CNTX.JK nan\n",
      "COCO.JK nan\n",
      "CPIN.JK nan\n",
      "CPRO.JK nan\n",
      "CSAP.JK nan\n",
      "CSIS.JK nan\n",
      "CTBN.JK nan\n",
      "CTRA.JK nan\n",
      "CTTH.JK nan\n",
      "DART.JK nan\n",
      "DAYA.JK nan\n",
      "DEAL.JK nan\n",
      "DEFI.JK nan\n",
      "DEWA.JK nan\n",
      "DFAM.JK nan\n",
      "DGIK.JK nan\n",
      "DIGI.JK nan\n",
      "DILD.JK nan\n",
      "DIVA.JK nan\n",
      "DKFT.JK nan\n",
      "DLTA.JK nan\n",
      "DMAS.JK nan\n",
      "DNAR.JK nan\n",
      "DNET.JK nan\n",
      "DOID.JK nan\n",
      "DPNS.JK nan\n",
      "DSFI.JK nan\n",
      "DSNG.JK nan\n",
      "DSSA.JK nan\n",
      "DUTI.JK nan\n",
      "DVLA.JK nan\n",
      "DWGL.JK nan\n",
      "DYAN.JK nan\n",
      "EAST.JK nan\n",
      "ECII.JK nan\n",
      "EKAD.JK nan\n",
      "ELSA.JK nan\n",
      "ELTY.JK nan\n",
      "EMDE.JK nan\n",
      "EMTK.JK nan\n",
      "ENRG.JK nan\n",
      "EPMT.JK nan\n",
      "ERAA.JK nan\n",
      "ERTX.JK nan\n",
      "ESSA.JK nan\n",
      "ESTI.JK nan\n",
      "EXCL.JK nan\n",
      "FAST.JK nan\n",
      "FASW.JK nan\n",
      "FILM.JK nan\n",
      "FIRE.JK nan\n",
      "FISH.JK nan\n",
      "FITT.JK nan\n",
      "FMII.JK nan\n",
      "FOOD.JK nan\n",
      "FORU.JK nan\n",
      "FPNI.JK nan\n",
      "FREN.JK nan\n",
      "FUJI.JK nan\n",
      "GAMA.JK nan\n",
      "GDST.JK nan\n",
      "GDYR.JK nan\n",
      "GEMA.JK nan\n",
      "GEMS.JK nan\n",
      "GGRM.JK nan\n",
      "GHON.JK nan\n",
      "GJTL.JK nan\n",
      "GLOB.JK nan\n",
      "GMFI.JK nan\n",
      "GOLD.JK nan\n",
      "GOOD.JK nan\n",
      "GPRA.JK nan\n",
      "GSMF.JK nan\n",
      "GWSA.JK nan\n",
      "GZCO.JK nan\n",
      "HADE.JK nan\n",
      "HDFA.JK nan\n",
      "HDIT.JK nan\n",
      "HEAL.JK nan\n",
      "HELI.JK nan\n",
      "HERO.JK nan\n",
      "HEXA.JK nan\n",
      "HITS.JK nan\n",
      "HKMU.JK nan\n",
      "HMSP.JK nan\n",
      "HOKI.JK nan\n",
      "HOTL.JK nan\n",
      "HRME.JK nan\n",
      "HRTA.JK nan\n",
      "HRUM.JK nan\n",
      "IATA.JK nan\n",
      "IBFN.JK nan\n",
      "IBST.JK nan\n",
      "ICBP.JK nan\n",
      "ICON.JK nan\n",
      "IDPR.JK nan\n",
      "IGAR.JK nan\n",
      "IKAI.JK nan\n",
      "IKBI.JK nan\n",
      "IMAS.JK nan\n",
      "IMJS.JK nan\n",
      "IMPC.JK nan\n",
      "INAF.JK nan\n",
      "INAI.JK nan\n",
      "INCF.JK nan\n",
      "INCI.JK nan\n",
      "INCO.JK nan\n",
      "INDF.JK nan\n",
      "INDR.JK nan\n",
      "INDS.JK nan\n",
      "INDX.JK nan\n",
      "INDY.JK nan\n",
      "INKP.JK nan\n",
      "INOV.JK nan\n",
      "INPC.JK nan\n",
      "INPP.JK nan\n",
      "INPS.JK nan\n",
      "INRU.JK nan\n",
      "INTA.JK nan\n",
      "INTD.JK nan\n",
      "INTP.JK nan\n",
      "IPCC.JK nan\n",
      "IPCM.JK nan\n",
      "IPOL.JK nan\n",
      "IPTV.JK nan\n",
      "ISAT.JK nan\n",
      "ISSP.JK nan\n",
      "ITIC.JK nan\n",
      "ITMA.JK nan\n",
      "ITMG.JK nan\n",
      "JAST.JK nan\n",
      "JAWA.JK nan\n",
      "JAYA.JK nan\n",
      "JECC.JK nan\n",
      "JGLE.JK nan\n",
      "JIHD.JK nan\n",
      "JKON.JK nan\n",
      "JMAS.JK nan\n",
      "JPFA.JK nan\n",
      "JRPT.JK nan\n",
      "JSKY.JK nan\n",
      "JSMR.JK nan\n",
      "JSPT.JK nan\n",
      "JTPE.JK nan\n",
      "KAEF.JK nan\n",
      "KARW.JK nan\n",
      "KAYU.JK nan\n",
      "KBLI.JK nan\n",
      "KBLM.JK nan\n",
      "KBLV.JK nan\n",
      "KDSI.JK nan\n",
      "KIAS.JK nan\n",
      "KICI.JK nan\n",
      "KIJA.JK nan\n",
      "KINO.JK nan\n",
      "KIOS.JK nan\n",
      "KJEN.JK nan\n",
      "KKGI.JK nan\n",
      "KLBF.JK nan\n",
      "KMTR.JK nan\n",
      "KOBX.JK nan\n",
      "KOIN.JK nan\n",
      "KONI.JK nan\n",
      "KOPI.JK nan\n",
      "KOTA.JK nan\n",
      "KPIG.JK nan\n",
      "KRAS.JK nan\n",
      "KREN.JK nan\n",
      "LAND.JK nan\n",
      "LCKM.JK nan\n",
      "LEAD.JK nan\n",
      "LIFE.JK nan\n",
      "LINK.JK nan\n",
      "LION.JK nan\n",
      "LMAS.JK nan\n",
      "LMPI.JK nan\n",
      "LMSH.JK nan\n",
      "LPCK.JK nan\n",
      "LPGI.JK nan\n",
      "LPIN.JK nan\n",
      "LPKR.JK nan\n",
      "LPLI.JK nan\n",
      "LPPF.JK nan\n",
      "LPPS.JK nan\n",
      "LRNA.JK nan\n",
      "LSIP.JK nan\n",
      "LTLS.JK nan\n",
      "LUCK.JK nan\n",
      "MAGP.JK nan\n",
      "MAIN.JK nan\n",
      "MAPA.JK nan\n",
      "MAPB.JK nan\n",
      "MAPI.JK nan\n",
      "MARI.JK nan\n",
      "MARK.JK nan\n",
      "MASA.JK nan\n",
      "MAYA.JK nan\n",
      "MBAP.JK nan\n",
      "MBSS.JK nan\n",
      "MBTO.JK nan\n",
      "MCAS.JK nan\n",
      "MCOR.JK nan\n",
      "MDIA.JK nan\n",
      "MDKA.JK nan\n",
      "MDKI.JK nan\n",
      "MDLN.JK nan\n",
      "MDRN.JK nan\n",
      "MEDC.JK nan\n",
      "MEGA.JK nan\n",
      "MERK.JK nan\n",
      "META.JK nan\n",
      "MFIN.JK nan\n",
      "MFMI.JK nan\n",
      "MGRO.JK nan\n",
      "MICE.JK nan\n",
      "MIDI.JK nan\n",
      "MIKA.JK nan\n",
      "MINA.JK nan\n",
      "MIRA.JK nan\n",
      "MITI.JK nan\n",
      "MKNT.JK nan\n",
      "MLBI.JK nan\n",
      "MLIA.JK nan\n",
      "MLPL.JK nan\n",
      "MLPT.JK nan\n",
      "MMLP.JK nan\n",
      "MNCN.JK nan\n",
      "MOLI.JK nan\n",
      "MPMX.JK nan\n",
      "MPOW.JK nan\n",
      "MPPA.JK nan\n",
      "MPRO.JK nan\n",
      "MRAT.JK nan\n",
      "MREI.JK nan\n",
      "MSIN.JK nan\n",
      "MSKY.JK nan\n",
      "MTDL.JK nan\n",
      "MTFN.JK nan\n",
      "MTLA.JK nan\n",
      "MTPS.JK nan\n",
      "MTSM.JK nan\n",
      "MTWI.JK nan\n",
      "MYOH.JK nan\n",
      "MYOR.JK nan\n",
      "MYTX.JK nan\n",
      "NASA.JK nan\n",
      "NATO.JK nan\n",
      "NELY.JK nan\n",
      "NFCX.JK nan\n",
      "NICK.JK nan\n",
      "NIKL.JK nan\n",
      "NIRO.JK nan\n",
      "NISP.JK nan\n",
      "NOBU.JK nan\n",
      "NRCA.JK nan\n",
      "OASA.JK nan\n",
      "OKAS.JK nan\n",
      "OMRE.JK nan\n",
      "PADI.JK nan\n",
      "PALM.JK nan\n",
      "PAMG.JK nan\n",
      "PANI.JK nan\n",
      "PANR.JK nan\n",
      "PANS.JK nan\n",
      "PBID.JK nan\n",
      "PBRX.JK nan\n",
      "PBSA.JK nan\n",
      "PCAR.JK nan\n",
      "PDES.JK nan\n",
      "PEGE.JK nan\n",
      "PEHA.JK nan\n",
      "PGAS.JK nan\n",
      "PGLI.JK nan\n",
      "PICO.JK nan\n",
      "PJAA.JK nan\n",
      "PKPK.JK nan\n",
      "PLIN.JK nan\n",
      "PNBN.JK nan\n",
      "PNBS.JK nan\n",
      "PNIN.JK nan\n",
      "PNLF.JK nan\n",
      "PNSE.JK nan\n",
      "POLA.JK nan\n",
      "POLI.JK nan\n",
      "POLL.JK nan\n",
      "POLU.JK nan\n",
      "POLY.JK nan\n",
      "PORT.JK nan\n",
      "POWR.JK nan\n",
      "PPRE.JK nan\n",
      "PPRO.JK nan\n",
      "PRAS.JK nan\n",
      "PRDA.JK nan\n",
      "PRIM.JK nan\n",
      "PSAB.JK nan\n",
      "PSDN.JK nan\n",
      "PSKT.JK nan\n",
      "PSSI.JK nan\n",
      "PTBA.JK nan\n",
      "PTIS.JK nan\n",
      "PTPP.JK nan\n",
      "PTRO.JK nan\n",
      "PTSN.JK nan\n",
      "PTSP.JK nan\n",
      "PUDP.JK nan\n",
      "PWON.JK nan\n",
      "PYFA.JK nan\n",
      "PZZA.JK nan\n",
      "RAJA.JK nan\n",
      "RALS.JK nan\n",
      "RANC.JK nan\n",
      "RBMS.JK nan\n",
      "RDTX.JK nan\n",
      "RELI.JK nan\n",
      "RICY.JK nan\n",
      "RIGS.JK nan\n",
      "RISE.JK nan\n",
      "RODA.JK nan\n",
      "ROTI.JK nan\n",
      "RUIS.JK nan\n",
      "SAFE.JK nan\n",
      "SAME.JK nan\n",
      "SAPX.JK nan\n",
      "SATU.JK nan\n",
      "SCCO.JK nan\n",
      "SCMA.JK nan\n",
      "SDMU.JK nan\n",
      "SDPC.JK nan\n",
      "SDRA.JK nan\n",
      "SFAN.JK nan\n",
      "SGRO.JK nan\n",
      "SHID.JK nan\n",
      "SHIP.JK nan\n",
      "SIDO.JK nan\n",
      "SILO.JK nan\n",
      "SIMP.JK nan\n",
      "SIPD.JK nan\n",
      "SKBM.JK nan\n",
      "SKLT.JK nan\n",
      "SKRN.JK nan\n",
      "SMAR.JK nan\n",
      "SMBR.JK nan\n",
      "SMCB.JK nan\n",
      "SMDM.JK nan\n",
      "SMDR.JK nan\n",
      "SMGR.JK nan\n",
      "SMKL.JK nan\n",
      "SMMA.JK nan\n",
      "SMMT.JK nan\n",
      "SMRA.JK nan\n",
      "SMSM.JK nan\n",
      "SOCI.JK nan\n",
      "SONA.JK nan\n",
      "SOSS.JK nan\n",
      "SOTS.JK nan\n",
      "SPMA.JK nan\n",
      "SPTO.JK nan\n",
      "SQMI.JK nan\n",
      "SRAJ.JK nan\n",
      "SRSN.JK nan\n",
      "SRTG.JK nan\n",
      "SSIA.JK nan\n",
      "SSMS.JK nan\n",
      "SSTM.JK nan\n",
      "STAR.JK nan\n",
      "STTP.JK nan\n",
      "SULI.JK nan\n",
      "SUPR.JK nan\n",
      "SURE.JK nan\n",
      "SWAT.JK nan\n",
      "TALF.JK nan\n",
      "TAMU.JK nan\n",
      "TARA.JK nan\n",
      "TAXI.JK nan\n",
      "TBIG.JK nan\n",
      "TBLA.JK nan\n",
      "TBMS.JK nan\n",
      "TCID.JK nan\n",
      "TCPI.JK nan\n",
      "TFCO.JK nan\n",
      "TGKA.JK nan\n",
      "TGRA.JK nan\n",
      "TIFA.JK nan\n",
      "TINS.JK nan\n",
      "TIRA.JK nan\n",
      "TIRT.JK nan\n",
      "TKIM.JK nan\n",
      "TLKM.JK nan\n",
      "TMAS.JK nan\n",
      "TMPO.JK nan\n",
      "TNCA.JK nan\n",
      "TOBA.JK nan\n",
      "TOPS.JK nan\n",
      "TOTL.JK nan\n",
      "TOTO.JK nan\n",
      "TOWR.JK nan\n",
      "TPIA.JK nan\n",
      "TPMA.JK nan\n",
      "TRIM.JK nan\n",
      "TRIS.JK nan\n",
      "TRST.JK nan\n",
      "TRUK.JK nan\n",
      "TRUS.JK nan\n",
      "TSPC.JK nan\n",
      "TUGU.JK nan\n",
      "TURI.JK nan\n",
      "ULTJ.JK nan\n",
      "UNIC.JK nan\n",
      "UNSP.JK nan\n",
      "UNTR.JK nan\n",
      "UNVR.JK nan\n",
      "URBN.JK nan\n",
      "VICO.JK nan\n",
      "VINS.JK nan\n",
      "VIVA.JK nan\n",
      "VOKS.JK nan\n",
      "VRNA.JK nan\n",
      "WAPO.JK nan\n",
      "WEGE.JK nan\n",
      "WEHA.JK nan\n",
      "WICO.JK nan\n",
      "WIIM.JK nan\n",
      "WIKA.JK nan\n",
      "WINS.JK nan\n",
      "WOMF.JK nan\n",
      "WOOD.JK nan\n",
      "WSBP.JK nan\n",
      "WSKT.JK nan\n",
      "WTON.JK nan\n",
      "YELO.JK nan\n",
      "YPAS.JK nan\n",
      "YULE.JK nan\n",
      "ZBRA.JK nan\n",
      "ZINC.JK nan\n",
      "ZONE.JK nan\n"
     ]
    }
   ],
   "source": [
    "for file in idx_listdir:\n",
    "    selected_ticker_path = core.os.path.join(base_idx, file)\n",
    "    with core.h5py.File(selected_ticker_path, 'r') as f:\n",
    "        inputs = f['test_inputs'][()]\n",
    "        labels = f['test_labels'][()]\n",
    "    history = model.evaluate(inputs, labels, verbose=0)\n",
    "    print(file.split('_')[0] + f' {history[0]}')"
   ]
  },
  {
   "cell_type": "code",
   "execution_count": 30,
   "id": "e69b42ce-c844-4f7c-9a39-7f308de4f410",
   "metadata": {},
   "outputs": [
    {
     "data": {
      "text/plain": [
       "'AALI.JK'"
      ]
     },
     "execution_count": 30,
     "metadata": {},
     "output_type": "execute_result"
    }
   ],
   "source": [
    "idx_listdir[0].split('_')[0]"
   ]
  },
  {
   "cell_type": "code",
   "execution_count": 28,
   "id": "8115fc8a-821b-432e-a952-0a12afe5d93d",
   "metadata": {},
   "outputs": [
    {
     "data": {
      "text/plain": [
       "nan"
      ]
     },
     "execution_count": 28,
     "metadata": {},
     "output_type": "execute_result"
    }
   ],
   "source": [
    "history[0]"
   ]
  },
  {
   "cell_type": "code",
   "execution_count": 6,
   "id": "4388611e-8818-48c6-8f10-69f06f9eeb1b",
   "metadata": {},
   "outputs": [
    {
     "name": "stdout",
     "output_type": "stream",
     "text": [
      "Total constituents: 396\n",
      "Total constituents: 396\n"
     ]
    }
   ],
   "source": [
    "model_no = model_base_id\n",
    "train_gen = core.load_dataset_wsd_traintest(subset='training', dataset_size=dataset_size, ROOT_PATH=DB_ROOT_PATH, db_ver=db_ver, batch_size=batch_size, shuffle_buffer_size=shuffle_buffer_size, seed=0, generator=generator, model_no=model_no)\n",
    "\n",
    "validation_gen = core.load_dataset_wsd_traintest(subset='validation', dataset_size=dataset_size, ROOT_PATH=DB_ROOT_PATH, db_ver=db_ver, batch_size=batch_size, shuffle_buffer_size=shuffle_buffer_size, seed=0, generator=generator, model_no=model_no)"
   ]
  },
  {
   "cell_type": "code",
   "execution_count": 8,
   "id": "00d80894-01e6-4b04-a5e0-5fa7f4650f37",
   "metadata": {},
   "outputs": [
    {
     "name": "stdout",
     "output_type": "stream",
     "text": [
      "Load model from keras_tuner\n"
     ]
    }
   ],
   "source": [
    "base_path = core.os.path.join(ROOT_PATH, 'models/kt/', f'v{kt_iter}/')\n",
    "\n",
    "last_epochs = core.last_epochs_from_directory(base_path, 'wsd')\n",
    "\n",
    "# Load model backbone\n",
    "model_source_path = core.os.path.join(base_path, 'wsd/')\n",
    "best_model = core.best_model_metadata(model_source_path, metrics=['val_loss','val_accuracy'], primary_metrics='val_loss', ascending=True)\n",
    "\n",
    "model = core.model_switcher_kt_build(model_base_id, core.hp_params(best_model), 0, 0)\n",
    "\n",
    "if last_epochs == 0:\n",
    "    print('Load model from keras_tuner')\n",
    "    # Load weights from keras_tuner directory\n",
    "    model.load_weights(core.os.path.join(model_source_path, f'{best_model.id}/', 'checkpoints/epoch_0/checkpoint'))\n",
    "    # If have been trained before, continue training for last epoch\n",
    "elif last_epochs > 0:\n",
    "    print(f'Load weights from epoch {last_epochs}')\n",
    "    # Load weights from previously trained model\n",
    "    model.load_weights(core.os.path.join(base_path, f'wsd_retrain-epochs{last_epochs}/weights/checkpoint'))"
   ]
  },
  {
   "cell_type": "code",
   "execution_count": 9,
   "id": "f4b3ed40-723b-48ff-b9c5-162b4766c6c6",
   "metadata": {},
   "outputs": [
    {
     "name": "stdout",
     "output_type": "stream",
     "text": [
      "3551/3551 [==============================] - 91s 24ms/step - loss: 0.6689 - accuracy: 0.5879 - val_loss: nan - val_accuracy: 0.5114\n"
     ]
    }
   ],
   "source": [
    "if generator:\n",
    "    model.fit(train_gen, validation_data=validation_gen, epochs=retrain_epochs, verbose=1)\n",
    "elif not generator:\n",
    "    train_inputs, train_labels = train_gen\n",
    "    validation_inputs, validation_labels = validation_gen\n",
    "    model.fit(train_inputs, train_labels, validation_data=(validation_inputs, validation_labels), epochs=retrain_epochs, verbose=1)"
   ]
  },
  {
   "cell_type": "code",
   "execution_count": null,
   "id": "6a7b8187-2af5-4779-8183-fc76315b021c",
   "metadata": {},
   "outputs": [],
   "source": []
  },
  {
   "cell_type": "code",
   "execution_count": null,
   "id": "c2516ab1-4632-4a22-86fa-2a25d4a57400",
   "metadata": {},
   "outputs": [],
   "source": []
  },
  {
   "cell_type": "code",
   "execution_count": null,
   "id": "46cc2fb6-7904-43f6-84bf-9667bca6ca28",
   "metadata": {},
   "outputs": [],
   "source": []
  },
  {
   "cell_type": "code",
   "execution_count": 6,
   "id": "14721a72-845d-4b88-9000-700c815ed7a4",
   "metadata": {},
   "outputs": [
    {
     "name": "stdout",
     "output_type": "stream",
     "text": [
      "Total constituents: 3114\n",
      "Total constituents: 362\n",
      "Load weights from epoch 1\n",
      "15688/15688 [==============================] - 1108s 70ms/step - loss: 0.6582 - accuracy: 0.6056 - val_loss: nan - val_accuracy: 0.5088\n"
     ]
    }
   ],
   "source": [
    "core.retrain_model(model_base_id, kt_iter, db_ver, ROOT_PATH=ROOT_PATH, DB_ROOT_PATH=DB_ROOT_PATH, dataset_size=dataset_size, batch_size=batch_size, shuffle_buffer_size=shuffle_buffer_size, retrain_epochs=retrain_epochs)"
   ]
  },
  {
   "cell_type": "code",
   "execution_count": 7,
   "id": "d970e3d8-d035-40de-8125-a5d358068ab8",
   "metadata": {},
   "outputs": [
    {
     "name": "stdout",
     "output_type": "stream",
     "text": [
      "Total constituents: 3114\n",
      "Total constituents: 362\n",
      "Load weights from epoch 2\n",
      "15688/15688 [==============================] - 1048s 67ms/step - loss: 0.6572 - accuracy: 0.6064 - val_loss: nan - val_accuracy: 0.5088\n"
     ]
    }
   ],
   "source": [
    "core.retrain_model(model_base_id, kt_iter, db_ver, ROOT_PATH=ROOT_PATH, DB_ROOT_PATH=DB_ROOT_PATH, dataset_size=dataset_size, batch_size=batch_size, shuffle_buffer_size=shuffle_buffer_size, retrain_epochs=retrain_epochs)"
   ]
  },
  {
   "cell_type": "code",
   "execution_count": null,
   "id": "94060cff-fdd9-490a-856b-a24b938ab8f4",
   "metadata": {},
   "outputs": [
    {
     "name": "stdout",
     "output_type": "stream",
     "text": [
      "Total constituents: 3114\n",
      "Total constituents: 362\n",
      "Load weights from epoch 3\n",
      "   8336/Unknown - 559s 67ms/step - loss: 0.6561 - accuracy: 0.6081"
     ]
    }
   ],
   "source": [
    "core.retrain_model(model_base_id, kt_iter, db_ver, ROOT_PATH=ROOT_PATH, DB_ROOT_PATH=DB_ROOT_PATH, dataset_size=dataset_size, batch_size=batch_size, shuffle_buffer_size=shuffle_buffer_size, retrain_epochs=retrain_epochs)"
   ]
  },
  {
   "cell_type": "code",
   "execution_count": null,
   "id": "3205e1ab-2fed-4ace-a1be-1525fe472a3d",
   "metadata": {},
   "outputs": [],
   "source": [
    "core.retrain_model(model_base_id, kt_iter, db_ver, ROOT_PATH=ROOT_PATH, DB_ROOT_PATH=DB_ROOT_PATH, dataset_size=dataset_size, batch_size=batch_size, shuffle_buffer_size=shuffle_buffer_size, retrain_epochs=retrain_epochs)"
   ]
  },
  {
   "cell_type": "code",
   "execution_count": 8,
   "id": "75e1d22e-14f1-43ad-b649-6f64a9cacdd1",
   "metadata": {},
   "outputs": [
    {
     "name": "stdout",
     "output_type": "stream",
     "text": [
      "Total constituents: 298\n",
      "Total constituents: 123\n",
      "Load weights from epoch 5\n",
      "2617/2617 [==============================] - 264s 100ms/step - loss: 0.6915 - accuracy: 0.5296 - val_loss: 0.7325 - val_accuracy: 0.5020\n"
     ]
    }
   ],
   "source": [
    "core.retrain_model(model_base_id, kt_iter, db_ver, ROOT_PATH=ROOT_PATH, DB_ROOT_PATH=DB_ROOT_PATH, dataset_size=dataset_size, batch_size=batch_size, shuffle_buffer_size=shuffle_buffer_size, retrain_epochs=retrain_epochs)"
   ]
  },
  {
   "cell_type": "code",
   "execution_count": 9,
   "id": "3d35eb46-a9ca-4b97-b3d8-99dcb48d91e7",
   "metadata": {},
   "outputs": [
    {
     "name": "stdout",
     "output_type": "stream",
     "text": [
      "Total constituents: 298\n",
      "Total constituents: 123\n",
      "Load weights from epoch 6\n",
      "2617/2617 [==============================] - 272s 102ms/step - loss: 0.6915 - accuracy: 0.5296 - val_loss: 0.7348 - val_accuracy: 0.5020\n"
     ]
    }
   ],
   "source": [
    "core.retrain_model(model_base_id, kt_iter, db_ver, ROOT_PATH=ROOT_PATH, DB_ROOT_PATH=DB_ROOT_PATH, dataset_size=dataset_size, batch_size=batch_size, shuffle_buffer_size=shuffle_buffer_size, retrain_epochs=retrain_epochs)"
   ]
  },
  {
   "cell_type": "code",
   "execution_count": 10,
   "id": "c53ddfff-5798-4117-a4b9-19902418fe25",
   "metadata": {},
   "outputs": [
    {
     "name": "stdout",
     "output_type": "stream",
     "text": [
      "Total constituents: 298\n",
      "Total constituents: 123\n",
      "Load weights from epoch 7\n",
      "2617/2617 [==============================] - 271s 102ms/step - loss: 0.6916 - accuracy: 0.5296 - val_loss: 0.7354 - val_accuracy: 0.5057\n"
     ]
    }
   ],
   "source": [
    "core.retrain_model(model_base_id, kt_iter, db_ver, ROOT_PATH=ROOT_PATH, DB_ROOT_PATH=DB_ROOT_PATH, dataset_size=dataset_size, batch_size=batch_size, shuffle_buffer_size=shuffle_buffer_size, retrain_epochs=retrain_epochs)"
   ]
  },
  {
   "cell_type": "code",
   "execution_count": 3,
   "id": "43dfeb87-ba6b-48a7-8645-fdd2ec39c954",
   "metadata": {},
   "outputs": [
    {
     "name": "stdout",
     "output_type": "stream",
     "text": [
      "Total constituents: 298\n",
      "Total constituents: 123\n",
      "Load weights from epoch 8\n",
      "2617/2617 [==============================] - 227s 86ms/step - loss: 0.6915 - accuracy: 0.5296 - val_loss: 0.7353 - val_accuracy: 0.5057\n"
     ]
    }
   ],
   "source": [
    "core.retrain_model(model_base_id, kt_iter, db_ver, ROOT_PATH=ROOT_PATH, DB_ROOT_PATH=DB_ROOT_PATH, dataset_size=dataset_size, batch_size=batch_size, shuffle_buffer_size=shuffle_buffer_size, retrain_epochs=retrain_epochs)"
   ]
  },
  {
   "cell_type": "code",
   "execution_count": 4,
   "id": "f68261d4-fafe-40e7-a0c6-27710d494855",
   "metadata": {},
   "outputs": [
    {
     "name": "stdout",
     "output_type": "stream",
     "text": [
      "Total constituents: 298\n",
      "Total constituents: 123\n",
      "Load weights from epoch 9\n",
      "2617/2617 [==============================] - 247s 93ms/step - loss: 0.6915 - accuracy: 0.5296 - val_loss: 0.7373 - val_accuracy: 0.5057\n"
     ]
    }
   ],
   "source": [
    "core.retrain_model(model_base_id, kt_iter, db_ver, ROOT_PATH=ROOT_PATH, DB_ROOT_PATH=DB_ROOT_PATH, dataset_size=dataset_size, batch_size=batch_size, shuffle_buffer_size=shuffle_buffer_size, retrain_epochs=retrain_epochs)"
   ]
  },
  {
   "cell_type": "markdown",
   "id": "cad77f2b-1df0-4ba9-8044-3f854fefd18b",
   "metadata": {},
   "source": [
    "### Retrain 323/26/medium"
   ]
  },
  {
   "cell_type": "code",
   "execution_count": 6,
   "id": "37b849ef-4653-45fe-a601-1a735893aa3e",
   "metadata": {},
   "outputs": [],
   "source": [
    "model_base_id='323'\n",
    "kt_iter='26'\n",
    "db_ver='8'\n",
    "ROOT_PATH = './'\n",
    "DB_ROOT_PATH = 'H:\\#PROJECT\\idx'\n",
    "dataset_size = 'medium'\n",
    "batch_size = 64\n",
    "shuffle_buffer_size = 8192\n",
    "retrain_epochs = 1"
   ]
  },
  {
   "cell_type": "code",
   "execution_count": 7,
   "id": "8494b089-3804-41e1-b09c-4e70ae74ebc8",
   "metadata": {},
   "outputs": [
    {
     "name": "stdout",
     "output_type": "stream",
     "text": [
      "Total constituents: 298\n",
      "Total constituents: 123\n",
      "Load model from keras_tuner\n",
      "2617/2617 [==============================] - 1029s 390ms/step - loss: 0.6927 - accuracy: 0.5251 - val_loss: 0.7218 - val_accuracy: 0.4943\n"
     ]
    }
   ],
   "source": [
    "core.retrain_model(model_base_id, kt_iter, db_ver, ROOT_PATH=ROOT_PATH, DB_ROOT_PATH=DB_ROOT_PATH, dataset_size=dataset_size, batch_size=batch_size, shuffle_buffer_size=shuffle_buffer_size, retrain_epochs=retrain_epochs)"
   ]
  },
  {
   "cell_type": "code",
   "execution_count": 8,
   "id": "98687452-757c-416b-af5f-1cd00b4f8556",
   "metadata": {},
   "outputs": [
    {
     "name": "stdout",
     "output_type": "stream",
     "text": [
      "Total constituents: 298\n",
      "Total constituents: 123\n",
      "Load weights from epoch 1\n",
      "2617/2617 [==============================] - 1033s 392ms/step - loss: 0.6921 - accuracy: 0.5296 - val_loss: 0.7202 - val_accuracy: 0.4943\n"
     ]
    }
   ],
   "source": [
    "core.retrain_model(model_base_id, kt_iter, db_ver, ROOT_PATH=ROOT_PATH, DB_ROOT_PATH=DB_ROOT_PATH, dataset_size=dataset_size, batch_size=batch_size, shuffle_buffer_size=shuffle_buffer_size, retrain_epochs=retrain_epochs)"
   ]
  },
  {
   "cell_type": "code",
   "execution_count": 9,
   "id": "9d90c51c-978a-43b3-95ae-a17d10eaeab6",
   "metadata": {},
   "outputs": [
    {
     "name": "stdout",
     "output_type": "stream",
     "text": [
      "Total constituents: 298\n",
      "Total constituents: 123\n",
      "Load weights from epoch 2\n",
      "2617/2617 [==============================] - 1082s 411ms/step - loss: 0.6917 - accuracy: 0.5296 - val_loss: 0.7163 - val_accuracy: 0.4924\n"
     ]
    }
   ],
   "source": [
    "core.retrain_model(model_base_id, kt_iter, db_ver, ROOT_PATH=ROOT_PATH, DB_ROOT_PATH=DB_ROOT_PATH, dataset_size=dataset_size, batch_size=batch_size, shuffle_buffer_size=shuffle_buffer_size, retrain_epochs=retrain_epochs)"
   ]
  },
  {
   "cell_type": "code",
   "execution_count": 10,
   "id": "fca723ed-7264-42fc-b07c-39f2c687497f",
   "metadata": {},
   "outputs": [
    {
     "name": "stdout",
     "output_type": "stream",
     "text": [
      "Total constituents: 298\n",
      "Total constituents: 123\n",
      "Load weights from epoch 3\n",
      "2617/2617 [==============================] - 1025s 389ms/step - loss: 0.6915 - accuracy: 0.5296 - val_loss: 0.7029 - val_accuracy: 0.4924\n"
     ]
    }
   ],
   "source": [
    "core.retrain_model(model_base_id, kt_iter, db_ver, ROOT_PATH=ROOT_PATH, DB_ROOT_PATH=DB_ROOT_PATH, dataset_size=dataset_size, batch_size=batch_size, shuffle_buffer_size=shuffle_buffer_size, retrain_epochs=retrain_epochs)"
   ]
  },
  {
   "cell_type": "code",
   "execution_count": 11,
   "id": "2d92a2a4-9e57-4e65-9925-f753da350da9",
   "metadata": {},
   "outputs": [
    {
     "name": "stdout",
     "output_type": "stream",
     "text": [
      "Total constituents: 298\n",
      "Total constituents: 123\n",
      "Load weights from epoch 4\n",
      "2617/2617 [==============================] - 1029s 391ms/step - loss: 0.6914 - accuracy: 0.5296 - val_loss: 0.7019 - val_accuracy: 0.4924\n"
     ]
    }
   ],
   "source": [
    "core.retrain_model(model_base_id, kt_iter, db_ver, ROOT_PATH=ROOT_PATH, DB_ROOT_PATH=DB_ROOT_PATH, dataset_size=dataset_size, batch_size=batch_size, shuffle_buffer_size=shuffle_buffer_size, retrain_epochs=retrain_epochs)"
   ]
  },
  {
   "cell_type": "code",
   "execution_count": 12,
   "id": "c77f37db-3597-4271-a507-8e93db19c52c",
   "metadata": {},
   "outputs": [
    {
     "name": "stdout",
     "output_type": "stream",
     "text": [
      "Total constituents: 298\n",
      "Total constituents: 123\n",
      "Load weights from epoch 5\n",
      "2617/2617 [==============================] - 1004s 381ms/step - loss: 0.6915 - accuracy: 0.5296 - val_loss: 0.6991 - val_accuracy: 0.4924\n"
     ]
    }
   ],
   "source": [
    "core.retrain_model(model_base_id, kt_iter, db_ver, ROOT_PATH=ROOT_PATH, DB_ROOT_PATH=DB_ROOT_PATH, dataset_size=dataset_size, batch_size=batch_size, shuffle_buffer_size=shuffle_buffer_size, retrain_epochs=retrain_epochs)"
   ]
  },
  {
   "cell_type": "code",
   "execution_count": 13,
   "id": "a21fd2e6-9673-45ee-8aee-09d5782dae7e",
   "metadata": {},
   "outputs": [
    {
     "name": "stdout",
     "output_type": "stream",
     "text": [
      "Total constituents: 298\n",
      "Total constituents: 123\n",
      "Load weights from epoch 6\n",
      "2617/2617 [==============================] - 1023s 389ms/step - loss: 0.6915 - accuracy: 0.5296 - val_loss: 0.7078 - val_accuracy: 0.4924\n"
     ]
    }
   ],
   "source": [
    "core.retrain_model(model_base_id, kt_iter, db_ver, ROOT_PATH=ROOT_PATH, DB_ROOT_PATH=DB_ROOT_PATH, dataset_size=dataset_size, batch_size=batch_size, shuffle_buffer_size=shuffle_buffer_size, retrain_epochs=retrain_epochs)"
   ]
  },
  {
   "cell_type": "code",
   "execution_count": 14,
   "id": "01fd4944-9164-43d2-8cb6-ba371efcba15",
   "metadata": {},
   "outputs": [
    {
     "name": "stdout",
     "output_type": "stream",
     "text": [
      "Total constituents: 298\n",
      "Total constituents: 123\n",
      "Load weights from epoch 7\n",
      "2617/2617 [==============================] - 1007s 382ms/step - loss: 0.6915 - accuracy: 0.5296 - val_loss: 0.7030 - val_accuracy: 0.4924\n"
     ]
    }
   ],
   "source": [
    "core.retrain_model(model_base_id, kt_iter, db_ver, ROOT_PATH=ROOT_PATH, DB_ROOT_PATH=DB_ROOT_PATH, dataset_size=dataset_size, batch_size=batch_size, shuffle_buffer_size=shuffle_buffer_size, retrain_epochs=retrain_epochs)"
   ]
  },
  {
   "cell_type": "code",
   "execution_count": 15,
   "id": "0d02e42b-4855-4bbb-9622-1146dcb72d1a",
   "metadata": {},
   "outputs": [
    {
     "name": "stdout",
     "output_type": "stream",
     "text": [
      "Total constituents: 298\n",
      "Total constituents: 123\n",
      "Load weights from epoch 8\n",
      "2617/2617 [==============================] - 1048s 398ms/step - loss: 0.6915 - accuracy: 0.5296 - val_loss: 0.7124 - val_accuracy: 0.4924\n"
     ]
    }
   ],
   "source": [
    "core.retrain_model(model_base_id, kt_iter, db_ver, ROOT_PATH=ROOT_PATH, DB_ROOT_PATH=DB_ROOT_PATH, dataset_size=dataset_size, batch_size=batch_size, shuffle_buffer_size=shuffle_buffer_size, retrain_epochs=retrain_epochs)"
   ]
  },
  {
   "cell_type": "code",
   "execution_count": 16,
   "id": "838c86f9-b4d6-49f8-a418-37d88c881ef9",
   "metadata": {},
   "outputs": [
    {
     "name": "stdout",
     "output_type": "stream",
     "text": [
      "Total constituents: 298\n",
      "Total constituents: 123\n",
      "Load weights from epoch 9\n",
      "2617/2617 [==============================] - 1111s 422ms/step - loss: 0.6915 - accuracy: 0.5296 - val_loss: 0.7168 - val_accuracy: 0.4924\n"
     ]
    }
   ],
   "source": [
    "core.retrain_model(model_base_id, kt_iter, db_ver, ROOT_PATH=ROOT_PATH, DB_ROOT_PATH=DB_ROOT_PATH, dataset_size=dataset_size, batch_size=batch_size, shuffle_buffer_size=shuffle_buffer_size, retrain_epochs=retrain_epochs)"
   ]
  },
  {
   "cell_type": "code",
   "execution_count": null,
   "id": "77f72d8f-1355-462c-9e15-db9e025899ff",
   "metadata": {},
   "outputs": [],
   "source": []
  },
  {
   "cell_type": "markdown",
   "id": "a3dcf756-2dfb-4547-9d23-f0d95b5bb55e",
   "metadata": {},
   "source": [
    "### Manually retrain model"
   ]
  },
  {
   "cell_type": "code",
   "execution_count": 23,
   "id": "9e802cb4-8644-44a9-a3f9-522ae6ec0c9f",
   "metadata": {},
   "outputs": [],
   "source": [
    "model_base_id = '327'\n",
    "version = '0'\n",
    "model_no = model_base_id\n",
    "constituent_limits = 0.025\n",
    "id_constituent = 1\n",
    "min_vid_constituents = 0.2\n",
    "epochs = 40\n",
    "iter_id = f'model-{model_no}-{version}_constituent_limits-{constituent_limits}_id_constituent-{id_constituent}_min_vid_constituents-{min_vid_constituents}_epochs-{epochs}'\n",
    "ROOT_PATH='./'\n",
    "DB_ROOT_PATH='J:\\#PROJECT\\idx'\n",
    "db_ver = '8'\n",
    "batch_size = 1024\n",
    "shuffle_buffer_size = 16\n",
    "generator=True"
   ]
  },
  {
   "cell_type": "code",
   "execution_count": 24,
   "id": "f69b938e-492b-415e-8d2f-fc1dbe57d17b",
   "metadata": {},
   "outputs": [
    {
     "name": "stdout",
     "output_type": "stream",
     "text": [
      "Total constituents: 1149\n",
      "Total constituents: 422\n",
      "Epoch 1/40\n",
      "1220/1220 [==============================] - 899s 723ms/step - loss: 0.6724 - accuracy: 0.5830 - val_loss: 0.6581 - val_accuracy: 0.6007\n",
      "Epoch 2/40\n",
      "1220/1220 [==============================] - 911s 737ms/step - loss: 0.6582 - accuracy: 0.6053 - val_loss: 0.6541 - val_accuracy: 0.6070\n",
      "Epoch 3/40\n",
      "1220/1220 [==============================] - 932s 754ms/step - loss: 0.6549 - accuracy: 0.6100 - val_loss: 0.6533 - val_accuracy: 0.6068\n",
      "Epoch 4/40\n",
      "1220/1220 [==============================] - 952s 770ms/step - loss: 0.6520 - accuracy: 0.6130 - val_loss: 0.6520 - val_accuracy: 0.6040\n",
      "Epoch 5/40\n",
      "1220/1220 [==============================] - 929s 751ms/step - loss: 0.6494 - accuracy: 0.6152 - val_loss: 0.6492 - val_accuracy: 0.6070\n",
      "Epoch 6/40\n",
      "1220/1220 [==============================] - 940s 761ms/step - loss: 0.6461 - accuracy: 0.6175 - val_loss: 0.6492 - val_accuracy: 0.6084\n",
      "Epoch 7/40\n",
      "1220/1220 [==============================] - 934s 756ms/step - loss: 0.6434 - accuracy: 0.6204 - val_loss: 0.6487 - val_accuracy: 0.6079\n",
      "Epoch 8/40\n",
      "1220/1220 [==============================] - 948s 767ms/step - loss: 0.6408 - accuracy: 0.6222 - val_loss: 0.6522 - val_accuracy: 0.6035\n",
      "Epoch 9/40\n",
      "1220/1220 [==============================] - 942s 762ms/step - loss: 0.6387 - accuracy: 0.6239 - val_loss: 0.6540 - val_accuracy: 0.6032\n",
      "Epoch 10/40\n",
      "1220/1220 [==============================] - 964s 780ms/step - loss: 0.6364 - accuracy: 0.6259 - val_loss: 0.6581 - val_accuracy: 0.6025\n",
      "Epoch 11/40\n",
      "1220/1220 [==============================] - 953s 771ms/step - loss: 0.6339 - accuracy: 0.6280 - val_loss: 0.6593 - val_accuracy: 0.5979\n",
      "Epoch 12/40\n",
      "1220/1220 [==============================] - 970s 785ms/step - loss: 0.6320 - accuracy: 0.6302 - val_loss: 0.6617 - val_accuracy: 0.5962\n",
      "Epoch 13/40\n",
      "1220/1220 [==============================] - 968s 784ms/step - loss: 0.6295 - accuracy: 0.6326 - val_loss: 0.6769 - val_accuracy: 0.5896\n",
      "Epoch 14/40\n",
      "1220/1220 [==============================] - 967s 782ms/step - loss: 0.6270 - accuracy: 0.6346 - val_loss: 0.6605 - val_accuracy: 0.5973\n",
      "Epoch 15/40\n",
      "1220/1220 [==============================] - 960s 777ms/step - loss: 0.6250 - accuracy: 0.6371 - val_loss: 0.6701 - val_accuracy: 0.5916\n",
      "Epoch 16/40\n",
      "1220/1220 [==============================] - 962s 778ms/step - loss: 0.6228 - accuracy: 0.6393 - val_loss: 0.6663 - val_accuracy: 0.5974\n",
      "Epoch 17/40\n",
      "1220/1220 [==============================] - 961s 778ms/step - loss: 0.6203 - accuracy: 0.6420 - val_loss: 0.6827 - val_accuracy: 0.5850\n",
      "Epoch 18/40\n",
      "1220/1220 [==============================] - 967s 782ms/step - loss: 0.6187 - accuracy: 0.6436 - val_loss: 0.6760 - val_accuracy: 0.5933\n",
      "Epoch 19/40\n",
      "1220/1220 [==============================] - 974s 788ms/step - loss: 0.6161 - accuracy: 0.6459 - val_loss: 0.6799 - val_accuracy: 0.5895\n",
      "Epoch 20/40\n",
      "1220/1220 [==============================] - 965s 781ms/step - loss: 0.6140 - accuracy: 0.6482 - val_loss: 0.6866 - val_accuracy: 0.5830\n",
      "Epoch 21/40\n",
      "1220/1220 [==============================] - 978s 792ms/step - loss: 0.6118 - accuracy: 0.6501 - val_loss: 0.6826 - val_accuracy: 0.5904\n",
      "Epoch 22/40\n",
      "1220/1220 [==============================] - 974s 788ms/step - loss: 0.6096 - accuracy: 0.6524 - val_loss: 0.6978 - val_accuracy: 0.5796\n",
      "Epoch 23/40\n",
      "1220/1220 [==============================] - 980s 793ms/step - loss: 0.6075 - accuracy: 0.6544 - val_loss: 0.6891 - val_accuracy: 0.5882\n",
      "Epoch 24/40\n",
      "1220/1220 [==============================] - 977s 791ms/step - loss: 0.6055 - accuracy: 0.6564 - val_loss: 0.7037 - val_accuracy: 0.5772\n",
      "Epoch 25/40\n",
      "1220/1220 [==============================] - 978s 792ms/step - loss: 0.6036 - accuracy: 0.6584 - val_loss: 0.6975 - val_accuracy: 0.5815\n",
      "Epoch 26/40\n",
      "1220/1220 [==============================] - 983s 795ms/step - loss: 0.6017 - accuracy: 0.6601 - val_loss: 0.7029 - val_accuracy: 0.5796\n",
      "Epoch 27/40\n",
      "1220/1220 [==============================] - 976s 790ms/step - loss: 0.5993 - accuracy: 0.6620 - val_loss: 0.7034 - val_accuracy: 0.5800\n",
      "Epoch 28/40\n",
      "1220/1220 [==============================] - 974s 789ms/step - loss: 0.5975 - accuracy: 0.6644 - val_loss: 0.7240 - val_accuracy: 0.5684\n",
      "Epoch 29/40\n",
      "1220/1220 [==============================] - 965s 781ms/step - loss: 0.5954 - accuracy: 0.6661 - val_loss: 0.7007 - val_accuracy: 0.5840\n",
      "Epoch 30/40\n",
      "1220/1220 [==============================] - 982s 794ms/step - loss: 0.5933 - accuracy: 0.6680 - val_loss: 0.7200 - val_accuracy: 0.5712\n",
      "Epoch 31/40\n",
      "1220/1220 [==============================] - 967s 782ms/step - loss: 0.5914 - accuracy: 0.6701 - val_loss: 0.7141 - val_accuracy: 0.5741\n",
      "Epoch 32/40\n",
      "1220/1220 [==============================] - 980s 793ms/step - loss: 0.5894 - accuracy: 0.6718 - val_loss: 0.7345 - val_accuracy: 0.5582\n",
      "Epoch 33/40\n",
      "1220/1220 [==============================] - 978s 792ms/step - loss: 0.5874 - accuracy: 0.6737 - val_loss: 0.7302 - val_accuracy: 0.5670\n",
      "Epoch 34/40\n",
      "1220/1220 [==============================] - 978s 792ms/step - loss: 0.5860 - accuracy: 0.6748 - val_loss: 0.7401 - val_accuracy: 0.5583\n",
      "Epoch 35/40\n",
      "1220/1220 [==============================] - 989s 800ms/step - loss: 0.5841 - accuracy: 0.6769 - val_loss: 0.7325 - val_accuracy: 0.5735\n",
      "Epoch 36/40\n",
      "1220/1220 [==============================] - 997s 807ms/step - loss: 0.5824 - accuracy: 0.6783 - val_loss: 0.7378 - val_accuracy: 0.5669\n",
      "Epoch 37/40\n",
      "1220/1220 [==============================] - 991s 802ms/step - loss: 0.5803 - accuracy: 0.6801 - val_loss: 0.7580 - val_accuracy: 0.5586\n",
      "Epoch 38/40\n",
      "1220/1220 [==============================] - 989s 800ms/step - loss: 0.5786 - accuracy: 0.6815 - val_loss: 0.7638 - val_accuracy: 0.5599\n",
      "Epoch 39/40\n",
      "1220/1220 [==============================] - 1003s 812ms/step - loss: 0.5768 - accuracy: 0.6836 - val_loss: 0.7629 - val_accuracy: 0.5585\n",
      "Epoch 40/40\n",
      "1220/1220 [==============================] - 995s 805ms/step - loss: 0.5751 - accuracy: 0.6850 - val_loss: 0.7530 - val_accuracy: 0.5611\n"
     ]
    },
    {
     "name": "stderr",
     "output_type": "stream",
     "text": [
      "WARNING:absl:Found untraced functions such as lstm_cell_12_layer_call_fn, lstm_cell_12_layer_call_and_return_conditional_losses, lstm_cell_13_layer_call_fn, lstm_cell_13_layer_call_and_return_conditional_losses, lstm_cell_12_layer_call_fn while saving (showing 5 of 10). These functions will not be directly callable after loading.\n",
      "WARNING:absl:<keras.layers.recurrent.LSTMCell object at 0x000001D47D5D4CA0> has the same name 'LSTMCell' as a built-in Keras object. Consider renaming <class 'keras.layers.recurrent.LSTMCell'> to avoid naming conflicts when loading with `tf.keras.models.load_model`. If renaming is not possible, pass the object in the `custom_objects` parameter of the load function.\n",
      "WARNING:absl:<keras.layers.recurrent.LSTMCell object at 0x000001D474C3EB20> has the same name 'LSTMCell' as a built-in Keras object. Consider renaming <class 'keras.layers.recurrent.LSTMCell'> to avoid naming conflicts when loading with `tf.keras.models.load_model`. If renaming is not possible, pass the object in the `custom_objects` parameter of the load function.\n"
     ]
    }
   ],
   "source": [
    "# Train: `slice_from_beginning`=True\n",
    "train_gen = core.load_dataset_wsd(slice_from_beginning=True, ROOT_PATH=DB_ROOT_PATH, db_ver=db_ver, constituent_limits=constituent_limits, id_constituent=id_constituent, batch_size=batch_size, shuffle_buffer_size=shuffle_buffer_size, seed=0, generator=generator, model_no=model_no)\n",
    "# Validation: `slice_from_beginning`=False. constituent_limits in validation is always 0 (focus on idx performance progression only)\n",
    "validation_gen = core.load_dataset_wsd(slice_from_beginning=False, ROOT_PATH=DB_ROOT_PATH, db_ver=db_ver, constituent_limits=0, id_constituent=id_constituent, batch_size=batch_size, shuffle_buffer_size=shuffle_buffer_size, seed=0, generator=generator, model_no=model_no)\n",
    "\n",
    "# Load model backbone\n",
    "model = core.model_switcher_preloaded(model_no, version=version)\n",
    "history = model.fit(train_gen, validation_data=validation_gen, epochs=epochs, verbose=1)\n",
    "\n",
    "save_path = core.os.path.join(ROOT_PATH, f'models/preloaded/{iter_id}/')\n",
    "model.save_weights(f'{save_path}/weights/checkpoint')\n",
    "model.save(f'{save_path}/model')\n",
    "\n",
    "history.history['batch_size'] = batch_size\n",
    "history.history['shuffle_buffer_size'] = shuffle_buffer_size\n",
    "\n",
    "with open(f'{save_path}/history.json', 'w') as f:\n",
    "    core.json.dump(history.history, f)"
   ]
  },
  {
   "cell_type": "code",
   "execution_count": null,
   "id": "deea8df6-3977-4d48-a7fa-25f38a0102b2",
   "metadata": {},
   "outputs": [],
   "source": []
  }
 ],
 "metadata": {
  "kernelspec": {
   "display_name": "Python [conda env:tensorflow]",
   "language": "python",
   "name": "conda-env-tensorflow-py"
  },
  "language_info": {
   "codemirror_mode": {
    "name": "ipython",
    "version": 3
   },
   "file_extension": ".py",
   "mimetype": "text/x-python",
   "name": "python",
   "nbconvert_exporter": "python",
   "pygments_lexer": "ipython3",
   "version": "3.9.7"
  }
 },
 "nbformat": 4,
 "nbformat_minor": 5
}
