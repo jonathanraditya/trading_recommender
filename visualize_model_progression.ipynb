{
 "cells": [
  {
   "cell_type": "markdown",
   "id": "f796638b-5b7b-4da3-8acc-7eab55018ed3",
   "metadata": {},
   "source": [
    "### Visualize model progression"
   ]
  },
  {
   "cell_type": "code",
   "execution_count": 1,
   "id": "e4c83951-c12d-4a90-8230-7e982dc8b7ad",
   "metadata": {},
   "outputs": [],
   "source": [
    "import coremlv2 as core\n",
    "import importlib\n",
    "importlib.reload(core)\n",
    "import matplotlib.pyplot as plt"
   ]
  },
  {
   "cell_type": "code",
   "execution_count": 2,
   "id": "83abe0ba-4f17-4e1d-a516-32f96c14be6a",
   "metadata": {},
   "outputs": [],
   "source": [
    "ROOT_PATH = './'\n",
    "kt_iters = ['32','33','34']\n",
    "metrics = ['loss','accuracy','val_loss','val_accuracy']\n",
    "best_models = []\n",
    "for kt_iter in kt_iters:\n",
    "    base_path = core.os.path.join(ROOT_PATH, 'models/kt/', f'v{kt_iter}/')\n",
    "    model_source_path = core.os.path.join(base_path, 'wsd/')\n",
    "    best_models.append(core.best_model_metadata(model_source_path, metrics=metrics, primary_metrics='val_loss', ascending=True, return_best_model_only=False))"
   ]
  },
  {
   "cell_type": "code",
   "execution_count": 3,
   "id": "3eade183-4252-4a36-8f9c-a7bc249916b4",
   "metadata": {},
   "outputs": [
    {
     "data": {
      "image/png": "[encoded data removed]",
      "text/plain": [
       "<Figure size 432x288 with 2 Axes>"
      ]
     },
     "metadata": {
      "needs_background": "light"
     },
     "output_type": "display_data"
    },
    {
     "name": "stdout",
     "output_type": "stream",
     "text": [
      "kt_iter   : ['32', '33', '34']\n",
      "train     : [0.5530476013819376, 0.569099485874176, 0.5823082784075796]\n",
      "validation: [0.5716524541378021, 0.585257480541865, 0.6013398428022125]\n"
     ]
    }
   ],
   "source": [
    "train = [best_model['accuracy'].values for best_model in best_models]\n",
    "validation = [best_model['val_accuracy'].values for best_model in best_models]\n",
    "\n",
    "fig, ax = plt.subplots(1, 2, sharey='row')\n",
    "ax[0].boxplot(train)\n",
    "ax[0].set_title('Train')\n",
    "ax[0].set_xticklabels(kt_iters)\n",
    "ax[0].set_xlabel('kt_iter')\n",
    "ax[1].boxplot(validation)\n",
    "ax[1].set_title('Validation')\n",
    "ax[1].set_xticklabels(kt_iters)\n",
    "ax[1].set_xlabel('kt_iter')\n",
    "fig.suptitle('Accuracy (higher is better)')\n",
    "plt.tight_layout()\n",
    "plt.show()\n",
    "print('kt_iter   :', kt_iters)\n",
    "print('train     :', [values.mean() for values in train])\n",
    "print('validation:', [values.mean() for values in validation])"
   ]
  },
  {
   "cell_type": "code",
   "execution_count": 4,
   "id": "59b245f4-2c4b-4cf3-aa67-730644a6af28",
   "metadata": {},
   "outputs": [
    {
     "data": {
      "image/png": "[encoded data removed]",
      "text/plain": [
       "<Figure size 432x288 with 2 Axes>"
      ]
     },
     "metadata": {
      "needs_background": "light"
     },
     "output_type": "display_data"
    },
    {
     "name": "stdout",
     "output_type": "stream",
     "text": [
      "kt_iter   : ['32', '33', '34']\n",
      "train     : [0.6614859382311503, 0.6540465427769555, 0.6344983474707898]\n",
      "validation: [0.6535740971565247, 0.6458096424738566, 0.6267338012471612]\n"
     ]
    }
   ],
   "source": [
    "train = [best_model['loss'].values for best_model in best_models]\n",
    "validation = [best_model['val_loss'].values for best_model in best_models]\n",
    "\n",
    "fig, ax = plt.subplots(1, 2, sharey='row')\n",
    "ax[0].boxplot(train)\n",
    "ax[0].set_title('Train')\n",
    "ax[0].set_xticklabels(kt_iters)\n",
    "ax[0].set_xlabel('kt_iter')\n",
    "ax[1].boxplot(validation)\n",
    "ax[1].set_title('Validation')\n",
    "ax[1].set_xticklabels(kt_iters)\n",
    "ax[1].set_xlabel('kt_iter')\n",
    "fig.suptitle('Loss (lower is better)')\n",
    "plt.tight_layout()\n",
    "plt.show()\n",
    "print('kt_iter   :', kt_iters)\n",
    "print('train     :', [values.mean() for values in train])\n",
    "print('validation:', [values.mean() for values in validation])"
   ]
  },
  {
   "cell_type": "markdown",
   "id": "e281c743-683d-4ee4-8e80-dc63f94f9cf4",
   "metadata": {},
   "source": [
    "#### Current best model"
   ]
  },
  {
   "cell_type": "code",
   "execution_count": 6,
   "id": "66d9cfd9-67dc-493d-91fc-207bb774830f",
   "metadata": {},
   "outputs": [
    {
     "name": "stdout",
     "output_type": "stream",
     "text": [
      "kt_iter: 32 ['loss', 'accuracy', 'val_loss', 'val_accuracy']\n",
      " [0.5981650352478027 0.5927723050117493 0.5836413502693176\n",
      " 0.6056686043739319\n",
      " {'lr': 0.00032710419889608736, 'r_units': 112, 'd_units_1': 96, 'd_units_2': 112, 'tuner/epochs': 20, 'tuner/initial_epoch': 0, 'tuner/bracket': 0, 'tuner/round': 0}] \n",
      "\n",
      "kt_iter: 33 ['loss', 'accuracy', 'val_loss', 'val_accuracy']\n",
      " [0.5764259099960327 0.5924665331840515 0.5548141002655029\n",
      " 0.599500298500061\n",
      " {'lr': 0.00024877369220755786, 'r_units': 112, 'd_units_1': 112, 'd_units_2': 96, 'tuner/epochs': 40, 'tuner/initial_epoch': 14, 'tuner/bracket': 3, 'tuner/round': 3, 'tuner/trial_id': 'c1cdea5ea2337a953dc85061d09a73ba'}] \n",
      "\n",
      "kt_iter: 34 ['loss', 'accuracy', 'val_loss', 'val_accuracy']\n",
      " [0.5341381430625916 0.5902796387672424 0.5051044821739197\n",
      " 0.6134005784988403\n",
      " {'lr': 0.00024057504258742833, 'r_units_1': 128, 'r_units_2': 96, 'd_units_1': 48, 'd_units_2': 96, 'tuner/epochs': 40, 'tuner/initial_epoch': 14, 'tuner/bracket': 2, 'tuner/round': 2, 'tuner/trial_id': '211279089f62c18f79e7a4bfcc6b71eb'}] \n",
      "\n"
     ]
    }
   ],
   "source": [
    "for i, best_model in enumerate(best_models):\n",
    "    print('kt_iter:', kt_iters[i], f'{metrics}\\n', best_model.sort_values(by='val_loss').values[0][1:], '\\n')"
   ]
  },
  {
   "cell_type": "markdown",
   "id": "e2d17c13-1023-4d47-ba64-e8f209a46655",
   "metadata": {},
   "source": [
    "#### Analysis\n",
    "\n",
    "Sampai kt_iter 34\n",
    "- Model masih undefit dari accuracy & loss\n",
    "- Penurunan loss tidak se signifikan accuracy (median value)\n",
    "- Meskipun median accuracy naik cukup signifikan, upper valuenya stagnan\n",
    "- Value range semakin sempit pada kt_iter 34 (lebih stabil)\n",
    "- Best val loss terus berkurang signifikan\n",
    "- Saran: tambahkan epoch, tambahkan 1 layer tapi dibuat bypass layer\n",
    "- coba retrain kt_iter 34 sampai 300 epoch terus save"
   ]
  },
  {
   "cell_type": "code",
   "execution_count": null,
   "id": "4e2e0f2c-5c37-4a72-9586-c508babac7fd",
   "metadata": {},
   "outputs": [],
   "source": []
  },
  {
   "cell_type": "code",
   "execution_count": null,
   "id": "389ff658-134e-4526-ad4f-52a2dc8305c2",
   "metadata": {},
   "outputs": [],
   "source": []
  },
  {
   "cell_type": "code",
   "execution_count": null,
   "id": "7eb0edb2-7d79-4e2c-99db-7a466a81f757",
   "metadata": {},
   "outputs": [],
   "source": []
  }
 ],
 "metadata": {
  "kernelspec": {
   "display_name": "Python 3 (ipykernel)",
   "language": "python",
   "name": "python3"
  },
  "language_info": {
   "codemirror_mode": {
    "name": "ipython",
    "version": 3
   },
   "file_extension": ".py",
   "mimetype": "text/x-python",
   "name": "python",
   "nbconvert_exporter": "python",
   "pygments_lexer": "ipython3",
   "version": "3.9.7"
  }
 },
 "nbformat": 4,
 "nbformat_minor": 5
}
