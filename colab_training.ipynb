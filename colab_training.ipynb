{
 "cells": [
  {
   "cell_type": "code",
   "execution_count": null,
   "id": "63718159-630f-43bc-8c11-f9ba56c3bc0a",
   "metadata": {},
   "outputs": [],
   "source": [
    "!pip install keras_tuner --quiet\n",
    "!pip install tensorflow-io --quiet\n",
    "# Google colab modules\n",
    "from google.colab import drive\n",
    "import sys, importlib\n",
    "\n",
    "# Mount drive\n",
    "drive._mount('/content/gdrive', force_remount=True)\n",
    "ROOT_PATH = './gdrive/MyDrive/#PROJECT/idx/'\n",
    "sys.path.append(ROOT_PATH)\n",
    "\n",
    "import coremlv2 as core\n",
    "core._init_ml()\n",
    "\n",
    "# Reload coreml\n",
    "importlib.reload(core)"
   ]
  },
  {
   "cell_type": "markdown",
   "id": "9ffa23fd-0ab5-466e-bd89-fec32708d495",
   "metadata": {},
   "source": [
    "# Training using whole data: hyperparam from keras tuner"
   ]
  },
  {
   "cell_type": "code",
   "execution_count": null,
   "id": "ea98f5bc-79c6-4cd9-9f28-f554b4529791",
   "metadata": {},
   "outputs": [],
   "source": [
    "# Load dataset\n",
    "\n",
    "# Load model\n",
    "\n",
    "# Load model_weights"
   ]
  },
  {
   "cell_type": "markdown",
   "id": "de635bd0-fe91-49d9-9cb9-62b0849611c8",
   "metadata": {},
   "source": [
    "# Recommendation algorithm v1 - model opt: Keras Tuner"
   ]
  },
  {
   "cell_type": "code",
   "execution_count": null,
   "id": "13204721-eb02-4535-ac83-d8f7833ccbba",
   "metadata": {},
   "outputs": [],
   "source": [
    "!pip install keras_tuner"
   ]
  },
  {
   "cell_type": "code",
   "execution_count": null,
   "id": "d7f95326-d7e6-424b-90c7-b3eb0908ce8f",
   "metadata": {},
   "outputs": [],
   "source": [
    "ticker_group = ['BMRI']\n",
    "shift = 0\n",
    "interval = 1\n",
    "recurrent = 120\n",
    "db_ver = '3'\n",
    "dataset_ver = '4'\n",
    "kt_iter = '1'\n",
    "split = 0.8\n",
    "\n",
    "import keras_tuner as kt"
   ]
  },
  {
   "cell_type": "code",
   "execution_count": null,
   "id": "7b269d0e-ee1b-401e-acfe-5bbb64c6c59e",
   "metadata": {},
   "outputs": [],
   "source": [
    "train_inputs, train_labels, train_changes, test_inputs, test_labels, test_changes, data_version = core.load_dataset(ticker_group=ticker_group, shift=shift, interval=interval, recurrent=recurrent, db_ver=db_ver, dataset_ver=dataset_ver, split=split, ROOT_PATH=ROOT_PATH)"
   ]
  },
  {
   "cell_type": "code",
   "execution_count": null,
   "id": "1e9560fa-c9c1-4714-be3b-beb38d115ad5",
   "metadata": {},
   "outputs": [],
   "source": [
    "tuner = kt.Hyperband(hypermodel=core.model_263_kt, objective='val_loss', max_epochs=100, hyperband_iterations=2, overwrite=True, directory=f'{ROOT_PATH}models/kt/v{kt_iter}/', project_name='_'.join(ticker_group))"
   ]
  },
  {
   "cell_type": "code",
   "execution_count": null,
   "id": "1eca00ef-3000-41c8-8114-4ef3c92db724",
   "metadata": {},
   "outputs": [],
   "source": [
    "tuner.search_space_summary()"
   ]
  },
  {
   "cell_type": "code",
   "execution_count": null,
   "id": "5a267826-49be-4efa-8bc1-27fe40f0a672",
   "metadata": {},
   "outputs": [],
   "source": [
    "tuner.search(core.np.nan_to_num(train_inputs, posinf=0.0, neginf=0.0), train_labels, validation_data=(core.np.nan_to_num(test_inputs, posinf=0.0, neginf=0.0), test_labels), epochs=50, verbose=2)"
   ]
  },
  {
   "cell_type": "code",
   "execution_count": null,
   "id": "d4fe1ffc-07b9-4965-9cf3-0c401a4aaed5",
   "metadata": {},
   "outputs": [],
   "source": []
  },
  {
   "cell_type": "markdown",
   "id": "fcddf874-e37c-4af3-9924-7f9fe2f4191b",
   "metadata": {},
   "source": [
    "# IDX Explore"
   ]
  },
  {
   "cell_type": "code",
   "execution_count": null,
   "id": "c2c6f3e8-8181-43a1-92f8-0eb0186c0b2e",
   "metadata": {},
   "outputs": [],
   "source": [
    "# Load all data\n",
    "df = core.load_all_data(ROOT_PATH)"
   ]
  },
  {
   "cell_type": "code",
   "execution_count": null,
   "id": "1cf1a61c-062d-4304-931b-c66b50208138",
   "metadata": {},
   "outputs": [],
   "source": [
    "# Model Engineering ####\n",
    "label_column = 'close_EMA3_G_s2'\n",
    "label_columns = ['close_EMA3_G_s1','close_EMA10_G_s2','close_EMA3_G_s2','close_EMA10_G_s1']\n",
    "recurrent = 5\n",
    "explore_version = 3\n",
    "epochs = 20\n",
    "batch_size = 128\n",
    "train_shuffle = True\n",
    "checkpoint_dir = core.os.path.join(ROOT_PATH, f'models/explore_idx/v{explore_version}/interim/checkpoint')\n",
    "model_no = '188'\n",
    "########################\n",
    "\n",
    "train_df, test_df, train_mean, train_std = core.split_traintest(df, split=0.8)\n",
    "train_df_input = core.drop_unallowed_columns(train_df)\n",
    "test_df_input = core.drop_unallowed_columns(test_df)\n",
    "\n",
    "input_c = [column for column in train_df_input.columns if column != label_column]\n",
    "\n",
    "# Resume from latest checkpoint\n",
    "checkpoint_dir = core.os.path.join(ROOT_PATH, f'models/explore_idx/v{explore_version}/interim/checkpoint/')\n",
    "model, latest_epoch, latest_label_column, latest_label_index, label_columns = core.resume_from_checkpoint(checkpoint_dir, model_no, recurrent, train_df_input, label_columns)\n",
    "\n",
    "if (len(label_columns) == 1) & (latest_epoch == epochs):\n",
    "    sys.exit('Training has been finished.')\n",
    "else:\n",
    "    pass\n",
    "\n",
    "histories = []\n",
    "first = True\n",
    "for label_column in label_columns:\n",
    "    if first:\n",
    "        current_epochs = epochs - latest_epoch\n",
    "        first = False\n",
    "    elif not first:\n",
    "        current_epochs = epochs\n",
    "    # Create checkpoint\n",
    "    checkpoint_path = checkpoint_dir + label_column + 'cp-{epoch:04d}.ckpt'\n",
    "    cp_callback = core.tf.keras.callbacks.ModelCheckpoint(filepath=checkpoint_path, verbose=1, save_weights_only=True)\n",
    "\n",
    "    train_dataset = core.TimeseriesGenerator(train_df[input_c], train_df[label_column], length=recurrent, batch_size=batch_size, shuffle=train_shuffle)\n",
    "    test_dataset = core.TimeseriesGenerator(test_df[input_c], test_df[label_column], length=recurrent, batch_size=batch_size)\n",
    "    history = model.fit(train_dataset, validation_data=test_dataset, epochs=current_epochs, verbose=1, callbacks=[cp_callback])\n",
    "    histories.append(history)\n",
    "\n",
    "    # Save model\n",
    "    model.save_weights(f'{ROOT_PATH}models/explore_idx/v{explore_version}/interim/weights/{label_column}')\n",
    "    model.save(f'{ROOT_PATH}models/explore_idx/v{explore_version}/interim/model/{label_column}')\n",
    "\n",
    "# Save model\n",
    "model.save_weights(f'{ROOT_PATH}models/explore_idx/v{explore_version}/final/weights/')\n",
    "model.save(f'{ROOT_PATH}models/explore_idx/v{explore_version}/final/model/')"
   ]
  },
  {
   "cell_type": "code",
   "execution_count": null,
   "id": "e5f12069-a7f8-4336-be9d-194dae7c5991",
   "metadata": {},
   "outputs": [],
   "source": []
  }
 ],
 "metadata": {
  "kernelspec": {
   "display_name": "Python [conda env:tensorflow]",
   "language": "python",
   "name": "conda-env-tensorflow-py"
  },
  "language_info": {
   "codemirror_mode": {
    "name": "ipython",
    "version": 3
   },
   "file_extension": ".py",
   "mimetype": "text/x-python",
   "name": "python",
   "nbconvert_exporter": "python",
   "pygments_lexer": "ipython3",
   "version": "3.9.7"
  }
 },
 "nbformat": 4,
 "nbformat_minor": 5
}
