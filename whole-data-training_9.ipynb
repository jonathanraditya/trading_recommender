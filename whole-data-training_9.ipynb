{
 "cells": [
  {
   "cell_type": "code",
   "execution_count": 1,
   "id": "64f07157-1fcd-461a-95ea-a4115c22e226",
   "metadata": {},
   "outputs": [
    {
     "data": {
      "text/plain": [
       "<module 'coremlv2' from 'C:\\\\Users\\\\Jonathan Raditya\\\\documents\\\\#PROJECT\\\\idx\\\\coremlv2.py'>"
      ]
     },
     "execution_count": 1,
     "metadata": {},
     "output_type": "execute_result"
    }
   ],
   "source": [
    "# !pip install --upgrade tensorflow --quiet\n",
    "# !pip install keras_tuner --quiet\n",
    "# !pip install tensorflow-io --quiet\n",
    "# # Google colab modules\n",
    "# from google.colab import drive\n",
    "# import sys, importlib\n",
    "import importlib\n",
    "\n",
    "# # Mount drive\n",
    "# drive.mount('/content/gdrive', force_remount=True)\n",
    "ROOT_PATH = './'\n",
    "# sys.path.append(ROOT_PATH)\n",
    "\n",
    "import coremlv2 as core\n",
    "core._init_ml()\n",
    "# core._init_models()\n",
    "core.os.environ['CUDA_VISIBLE_DEVICES'] = '-1'\n",
    "\n",
    "# Reload coreml\n",
    "importlib.reload(core)\n",
    "# import keras_tuner as kt"
   ]
  },
  {
   "cell_type": "code",
   "execution_count": 2,
   "id": "2a583625-77ed-459d-8128-23cf19ddbdc6",
   "metadata": {},
   "outputs": [],
   "source": [
    "# Limiting GPU memory growth\n",
    "gpus = core.tf.config.list_physical_devices('GPU')\n",
    "if gpus:\n",
    "    try:\n",
    "        # Currently, memory growth needs to be the same across GPUs\n",
    "        for gpu in gpus:\n",
    "            core.tf.config.experimental.set_memory_growth(gpu, True)\n",
    "        logical_gpus = core.tf.config.list_logical_devices('GPU')\n",
    "        print(len(gpus), \"Physical GPUs, \", len(logical_gpus), \"Logical GPUs\")\n",
    "    except RuntimeError as e:\n",
    "        # Memory growth must be set before GPUs have been initialized\n",
    "        print(e)"
   ]
  },
  {
   "cell_type": "markdown",
   "id": "cecde02a-6b6b-413a-86dc-045fabaa64e8",
   "metadata": {},
   "source": [
    "### Retrain 323/26\n",
    "#### full_new_wsd_mix(0.2 1 / 0 1)\n",
    "1299/418/24799\n",
    "1. 1528s 61ms/step - loss: 0.6544 - accuracy: 0.6086 - val_loss: 0.6721 - val_accuracy: 0.5930\n",
    "2. 1526s 61ms/step - loss: 0.6474 - accuracy: 0.6138 - val_loss: 0.6653 - val_accuracy: 0.5960\n",
    "3. 1541s 62ms/step - loss: 0.6442 - accuracy: 0.6164 - val_loss: 0.6689 - val_accuracy: 0.5891\n",
    "4. 1560s 63ms/step - loss: 0.6416 - accuracy: 0.6186 - val_loss: 0.6682 - val_accuracy: 0.5908\n",
    "5. 1563s 63ms/step - loss: 0.6394 - accuracy: 0.6205 - val_loss: 0.6724 - val_accuracy: 0.5875\n",
    "\n",
    "#### full_new_wsd (0 1 / 0 1)\n",
    "\n",
    "1. 913s 68ms/step - loss: 0.6501 - accuracy: 0.6124 - val_loss: 0.6667 - val_accuracy: 0.5863\n",
    "2. 1155s 87ms/step - loss: 0.6391 - accuracy: 0.6203 - val_loss: 0.6640 - val_accuracy: 0.5888\n",
    "3. 1163s 87ms/step - loss: 0.6351 - accuracy: 0.6234 - val_loss: 0.6654 - val_accuracy: 0.5881\n",
    "4. 903s 68ms/step - loss: 0.6319 - accuracy: 0.6261 - val_loss: 0.6686 - val_accuracy: 0.5873 \n",
    "5. 855s 64ms/step - loss: 0.6288 - accuracy: 0.6282 - val_loss: 0.6710 - val_accuracy: 0.5864 \n",
    "6. 866s 65ms/step - loss: 0.6266 - accuracy: 0.6300 - val_loss: 0.6786 - val_accuracy: 0.5831\n",
    "7. 860s 65ms/step - loss: 0.6237 - accuracy: 0.6321 - val_loss: 0.6765 - val_accuracy: 0.5813\n",
    "8. 876s 66ms/step - loss: 0.6215 - accuracy: 0.6340 - val_loss: 0.6821 - val_accuracy: 0.5769\n",
    "9. 902s 68ms/step - loss: 0.6190 - accuracy: 0.6360 - val_loss: 0.6831 - val_accuracy: 0.5666\n",
    "10.854s 64ms/step - loss: 0.6169 - accuracy: 0.6373 - val_loss: 0.6850 - val_accuracy: 0.5706\n",
    "11.991s 74ms/step - loss: 0.6149 - accuracy: 0.6394 - val_loss: 0.6923 - val_accuracy: 0.5567\n",
    "12.1037s 78ms/step - loss: 0.6126 - accuracy: 0.6409 - val_loss: 0.6902 - val_accuracy: 0.5654\n",
    "13.1113s 84ms/step - loss: 0.6106 - accuracy: 0.6430 - val_loss: 0.6947 - val_accuracy: 0.5546\n",
    "14.1094s 82ms/step - loss: 0.6087 - accuracy: 0.6444 - val_loss: 0.6966 - val_accuracy: 0.5583\n",
    "15.1102s 83ms/step - loss: 0.6065 - accuracy: 0.6461 - val_loss: 0.6970 - val_accuracy: 0.5576\n",
    "16.1120s 84ms/step - loss: 0.6042 - accuracy: 0.6482 - val_loss: 0.6989 - val_accuracy: 0.5562\n",
    "17.1099s 83ms/step - loss: 0.6021 - accuracy: 0.6500 - val_loss: 0.7104 - val_accuracy: 0.5501\n",
    "18.1096s 82ms/step - loss: 0.5999 - accuracy: 0.6524 - val_loss: 0.7109 - val_accuracy: 0.5542\n",
    "19.1130s 85ms/step - loss: 0.5973 - accuracy: 0.6542 - val_loss: 0.7080 - val_accuracy: 0.5515\n",
    "20.986s 74ms/step - loss: 0.5948 - accuracy: 0.6565 - val_loss: 0.7147 - val_accuracy: 0.5466"
   ]
  },
  {
   "cell_type": "code",
   "execution_count": 3,
   "id": "ef1bc3f1-180e-4133-890d-ba45595aaea9",
   "metadata": {},
   "outputs": [],
   "source": [
    "model_base_id='323'\n",
    "kt_iter='26'\n",
    "db_ver='8'\n",
    "ROOT_PATH = './'\n",
    "DB_ROOT_PATH = 'J:\\#PROJECT\\idx'\n",
    "dataset_size = 'full_new_wsd'\n",
    "batch_size = 64\n",
    "shuffle_buffer_size = 2048\n",
    "retrain_epochs = 1\n",
    "generator = True"
   ]
  },
  {
   "cell_type": "code",
   "execution_count": 4,
   "id": "7afae981-eab7-4c1e-a3a2-20d809ade506",
   "metadata": {},
   "outputs": [
    {
     "name": "stdout",
     "output_type": "stream",
     "text": [
      "Total constituents: 418\n",
      "Total constituents: 418\n",
      "Load model from keras_tuner\n",
      "13240/13240 [==============================] - 913s 68ms/step - loss: 0.6501 - accuracy: 0.6124 - val_loss: 0.6667 - val_accuracy: 0.5863\n"
     ]
    }
   ],
   "source": [
    "core.retrain_model(model_base_id, kt_iter, db_ver, ROOT_PATH=ROOT_PATH, DB_ROOT_PATH=DB_ROOT_PATH, dataset_size=dataset_size, batch_size=batch_size, shuffle_buffer_size=shuffle_buffer_size, retrain_epochs=retrain_epochs, generator=generator)"
   ]
  },
  {
   "cell_type": "code",
   "execution_count": 5,
   "id": "166401a3-df66-44ad-ae15-dc2de2b712c5",
   "metadata": {},
   "outputs": [
    {
     "name": "stdout",
     "output_type": "stream",
     "text": [
      "Total constituents: 418\n",
      "Total constituents: 418\n",
      "Load weights from epoch 1\n",
      "13240/13240 [==============================] - 1155s 87ms/step - loss: 0.6391 - accuracy: 0.6203 - val_loss: 0.6640 - val_accuracy: 0.5888\n"
     ]
    }
   ],
   "source": [
    "core.retrain_model(model_base_id, kt_iter, db_ver, ROOT_PATH=ROOT_PATH, DB_ROOT_PATH=DB_ROOT_PATH, dataset_size=dataset_size, batch_size=batch_size, shuffle_buffer_size=shuffle_buffer_size, retrain_epochs=retrain_epochs, generator=generator)"
   ]
  },
  {
   "cell_type": "code",
   "execution_count": 6,
   "id": "b572baf8-fabc-423a-a125-bcaaa49cbfa1",
   "metadata": {},
   "outputs": [
    {
     "name": "stdout",
     "output_type": "stream",
     "text": [
      "Total constituents: 418\n",
      "Total constituents: 418\n",
      "Load weights from epoch 2\n",
      "13240/13240 [==============================] - 1163s 87ms/step - loss: 0.6351 - accuracy: 0.6234 - val_loss: 0.6654 - val_accuracy: 0.5881\n"
     ]
    }
   ],
   "source": [
    "core.retrain_model(model_base_id, kt_iter, db_ver, ROOT_PATH=ROOT_PATH, DB_ROOT_PATH=DB_ROOT_PATH, dataset_size=dataset_size, batch_size=batch_size, shuffle_buffer_size=shuffle_buffer_size, retrain_epochs=retrain_epochs, generator=generator)"
   ]
  },
  {
   "cell_type": "code",
   "execution_count": 7,
   "id": "f6775699-e123-4219-b502-437c8c231a34",
   "metadata": {},
   "outputs": [
    {
     "name": "stdout",
     "output_type": "stream",
     "text": [
      "Total constituents: 418\n",
      "Total constituents: 418\n",
      "Load weights from epoch 3\n",
      "13240/13240 [==============================] - 903s 68ms/step - loss: 0.6319 - accuracy: 0.6261 - val_loss: 0.6686 - val_accuracy: 0.5873\n"
     ]
    }
   ],
   "source": [
    "core.retrain_model(model_base_id, kt_iter, db_ver, ROOT_PATH=ROOT_PATH, DB_ROOT_PATH=DB_ROOT_PATH, dataset_size=dataset_size, batch_size=batch_size, shuffle_buffer_size=shuffle_buffer_size, retrain_epochs=retrain_epochs, generator=generator)"
   ]
  },
  {
   "cell_type": "code",
   "execution_count": 8,
   "id": "385b9ab5-b5d4-43c0-a76a-f76a982f4959",
   "metadata": {},
   "outputs": [
    {
     "name": "stdout",
     "output_type": "stream",
     "text": [
      "Total constituents: 418\n",
      "Total constituents: 418\n",
      "Load weights from epoch 4\n",
      "13240/13240 [==============================] - 855s 64ms/step - loss: 0.6288 - accuracy: 0.6282 - val_loss: 0.6710 - val_accuracy: 0.5864\n"
     ]
    }
   ],
   "source": [
    "core.retrain_model(model_base_id, kt_iter, db_ver, ROOT_PATH=ROOT_PATH, DB_ROOT_PATH=DB_ROOT_PATH, dataset_size=dataset_size, batch_size=batch_size, shuffle_buffer_size=shuffle_buffer_size, retrain_epochs=retrain_epochs, generator=generator)"
   ]
  },
  {
   "cell_type": "code",
   "execution_count": 9,
   "id": "5f1f7bc3-33a1-4d3a-9dce-aafd9a6f029e",
   "metadata": {},
   "outputs": [
    {
     "name": "stdout",
     "output_type": "stream",
     "text": [
      "Total constituents: 418\n",
      "Total constituents: 418\n",
      "Load weights from epoch 5\n",
      "13240/13240 [==============================] - 866s 65ms/step - loss: 0.6266 - accuracy: 0.6300 - val_loss: 0.6786 - val_accuracy: 0.5831\n"
     ]
    }
   ],
   "source": [
    "core.retrain_model(model_base_id, kt_iter, db_ver, ROOT_PATH=ROOT_PATH, DB_ROOT_PATH=DB_ROOT_PATH, dataset_size=dataset_size, batch_size=batch_size, shuffle_buffer_size=shuffle_buffer_size, retrain_epochs=retrain_epochs, generator=generator)"
   ]
  },
  {
   "cell_type": "code",
   "execution_count": 10,
   "id": "140dd3ca-8e0e-4c5e-81ea-2b0e8664f1c6",
   "metadata": {},
   "outputs": [
    {
     "name": "stdout",
     "output_type": "stream",
     "text": [
      "Total constituents: 418\n",
      "Total constituents: 418\n",
      "Load weights from epoch 6\n",
      "13240/13240 [==============================] - 860s 65ms/step - loss: 0.6237 - accuracy: 0.6321 - val_loss: 0.6765 - val_accuracy: 0.5813\n"
     ]
    }
   ],
   "source": [
    "core.retrain_model(model_base_id, kt_iter, db_ver, ROOT_PATH=ROOT_PATH, DB_ROOT_PATH=DB_ROOT_PATH, dataset_size=dataset_size, batch_size=batch_size, shuffle_buffer_size=shuffle_buffer_size, retrain_epochs=retrain_epochs, generator=generator)"
   ]
  },
  {
   "cell_type": "code",
   "execution_count": 11,
   "id": "c6b2519f-6b41-490f-86b0-cf4f0cd0d08d",
   "metadata": {},
   "outputs": [
    {
     "name": "stdout",
     "output_type": "stream",
     "text": [
      "Total constituents: 418\n",
      "Total constituents: 418\n",
      "Load weights from epoch 7\n",
      "13240/13240 [==============================] - 876s 66ms/step - loss: 0.6215 - accuracy: 0.6340 - val_loss: 0.6821 - val_accuracy: 0.5769\n"
     ]
    }
   ],
   "source": [
    "core.retrain_model(model_base_id, kt_iter, db_ver, ROOT_PATH=ROOT_PATH, DB_ROOT_PATH=DB_ROOT_PATH, dataset_size=dataset_size, batch_size=batch_size, shuffle_buffer_size=shuffle_buffer_size, retrain_epochs=retrain_epochs, generator=generator)"
   ]
  },
  {
   "cell_type": "code",
   "execution_count": 12,
   "id": "59001b84-7b24-4c79-a0a8-712e3d580478",
   "metadata": {},
   "outputs": [
    {
     "name": "stdout",
     "output_type": "stream",
     "text": [
      "Total constituents: 418\n",
      "Total constituents: 418\n",
      "Load weights from epoch 8\n",
      "13240/13240 [==============================] - 902s 68ms/step - loss: 0.6190 - accuracy: 0.6360 - val_loss: 0.6831 - val_accuracy: 0.5666\n"
     ]
    }
   ],
   "source": [
    "core.retrain_model(model_base_id, kt_iter, db_ver, ROOT_PATH=ROOT_PATH, DB_ROOT_PATH=DB_ROOT_PATH, dataset_size=dataset_size, batch_size=batch_size, shuffle_buffer_size=shuffle_buffer_size, retrain_epochs=retrain_epochs, generator=generator)"
   ]
  },
  {
   "cell_type": "code",
   "execution_count": 13,
   "id": "5f68c839-5b45-4718-9891-72cbd664cd5a",
   "metadata": {},
   "outputs": [
    {
     "name": "stdout",
     "output_type": "stream",
     "text": [
      "Total constituents: 418\n",
      "Total constituents: 418\n",
      "Load weights from epoch 9\n",
      "13240/13240 [==============================] - 854s 64ms/step - loss: 0.6169 - accuracy: 0.6373 - val_loss: 0.6850 - val_accuracy: 0.5706\n"
     ]
    }
   ],
   "source": [
    "core.retrain_model(model_base_id, kt_iter, db_ver, ROOT_PATH=ROOT_PATH, DB_ROOT_PATH=DB_ROOT_PATH, dataset_size=dataset_size, batch_size=batch_size, shuffle_buffer_size=shuffle_buffer_size, retrain_epochs=retrain_epochs, generator=generator)"
   ]
  },
  {
   "cell_type": "code",
   "execution_count": 14,
   "id": "3308579a-9da6-4535-8741-10c897f97733",
   "metadata": {},
   "outputs": [
    {
     "name": "stdout",
     "output_type": "stream",
     "text": [
      "Total constituents: 418\n",
      "Total constituents: 418\n",
      "Load weights from epoch 10\n",
      "13240/13240 [==============================] - 991s 74ms/step - loss: 0.6149 - accuracy: 0.6394 - val_loss: 0.6923 - val_accuracy: 0.5567\n"
     ]
    }
   ],
   "source": [
    "core.retrain_model(model_base_id, kt_iter, db_ver, ROOT_PATH=ROOT_PATH, DB_ROOT_PATH=DB_ROOT_PATH, dataset_size=dataset_size, batch_size=batch_size, shuffle_buffer_size=shuffle_buffer_size, retrain_epochs=retrain_epochs, generator=generator)"
   ]
  },
  {
   "cell_type": "code",
   "execution_count": 15,
   "id": "24d0a184-fdf6-4626-9db3-e3caf3620b58",
   "metadata": {},
   "outputs": [
    {
     "name": "stdout",
     "output_type": "stream",
     "text": [
      "Total constituents: 418\n",
      "Total constituents: 418\n",
      "Load weights from epoch 11\n",
      "13240/13240 [==============================] - 1037s 78ms/step - loss: 0.6126 - accuracy: 0.6409 - val_loss: 0.6902 - val_accuracy: 0.5654\n"
     ]
    }
   ],
   "source": [
    "core.retrain_model(model_base_id, kt_iter, db_ver, ROOT_PATH=ROOT_PATH, DB_ROOT_PATH=DB_ROOT_PATH, dataset_size=dataset_size, batch_size=batch_size, shuffle_buffer_size=shuffle_buffer_size, retrain_epochs=retrain_epochs, generator=generator)"
   ]
  },
  {
   "cell_type": "code",
   "execution_count": 16,
   "id": "880b3a65-cdc4-4c90-af5b-4c10ff0df9c4",
   "metadata": {},
   "outputs": [
    {
     "name": "stdout",
     "output_type": "stream",
     "text": [
      "Total constituents: 418\n",
      "Total constituents: 418\n",
      "Load weights from epoch 12\n",
      "13240/13240 [==============================] - 1113s 84ms/step - loss: 0.6106 - accuracy: 0.6430 - val_loss: 0.6947 - val_accuracy: 0.5546\n"
     ]
    }
   ],
   "source": [
    "core.retrain_model(model_base_id, kt_iter, db_ver, ROOT_PATH=ROOT_PATH, DB_ROOT_PATH=DB_ROOT_PATH, dataset_size=dataset_size, batch_size=batch_size, shuffle_buffer_size=shuffle_buffer_size, retrain_epochs=retrain_epochs, generator=generator)"
   ]
  },
  {
   "cell_type": "code",
   "execution_count": 17,
   "id": "0ef033f0-b418-4089-8502-fe872b28cbb0",
   "metadata": {},
   "outputs": [
    {
     "name": "stdout",
     "output_type": "stream",
     "text": [
      "Total constituents: 418\n",
      "Total constituents: 418\n",
      "Load weights from epoch 13\n",
      "13240/13240 [==============================] - 1094s 82ms/step - loss: 0.6087 - accuracy: 0.6444 - val_loss: 0.6966 - val_accuracy: 0.5583\n"
     ]
    }
   ],
   "source": [
    "core.retrain_model(model_base_id, kt_iter, db_ver, ROOT_PATH=ROOT_PATH, DB_ROOT_PATH=DB_ROOT_PATH, dataset_size=dataset_size, batch_size=batch_size, shuffle_buffer_size=shuffle_buffer_size, retrain_epochs=retrain_epochs, generator=generator)"
   ]
  },
  {
   "cell_type": "code",
   "execution_count": 18,
   "id": "2ed60ec4-5356-48d9-b3f5-42749f53bad4",
   "metadata": {},
   "outputs": [
    {
     "name": "stdout",
     "output_type": "stream",
     "text": [
      "Total constituents: 418\n",
      "Total constituents: 418\n",
      "Load weights from epoch 14\n",
      "13240/13240 [==============================] - 1102s 83ms/step - loss: 0.6065 - accuracy: 0.6461 - val_loss: 0.6970 - val_accuracy: 0.5576\n"
     ]
    }
   ],
   "source": [
    "core.retrain_model(model_base_id, kt_iter, db_ver, ROOT_PATH=ROOT_PATH, DB_ROOT_PATH=DB_ROOT_PATH, dataset_size=dataset_size, batch_size=batch_size, shuffle_buffer_size=shuffle_buffer_size, retrain_epochs=retrain_epochs, generator=generator)"
   ]
  },
  {
   "cell_type": "code",
   "execution_count": 19,
   "id": "57772ba9-c257-41d7-ab42-df43e24b9b5f",
   "metadata": {},
   "outputs": [
    {
     "name": "stdout",
     "output_type": "stream",
     "text": [
      "Total constituents: 418\n",
      "Total constituents: 418\n",
      "Load weights from epoch 15\n",
      "13240/13240 [==============================] - 1120s 84ms/step - loss: 0.6042 - accuracy: 0.6482 - val_loss: 0.6989 - val_accuracy: 0.5562\n"
     ]
    }
   ],
   "source": [
    "core.retrain_model(model_base_id, kt_iter, db_ver, ROOT_PATH=ROOT_PATH, DB_ROOT_PATH=DB_ROOT_PATH, dataset_size=dataset_size, batch_size=batch_size, shuffle_buffer_size=shuffle_buffer_size, retrain_epochs=retrain_epochs, generator=generator)"
   ]
  },
  {
   "cell_type": "code",
   "execution_count": 20,
   "id": "3c7172e2-3ae2-41da-a8a0-7e7845a83bd8",
   "metadata": {},
   "outputs": [
    {
     "name": "stdout",
     "output_type": "stream",
     "text": [
      "Total constituents: 418\n",
      "Total constituents: 418\n",
      "Load weights from epoch 16\n",
      "13240/13240 [==============================] - 1099s 83ms/step - loss: 0.6021 - accuracy: 0.6500 - val_loss: 0.7104 - val_accuracy: 0.5501\n"
     ]
    }
   ],
   "source": [
    "core.retrain_model(model_base_id, kt_iter, db_ver, ROOT_PATH=ROOT_PATH, DB_ROOT_PATH=DB_ROOT_PATH, dataset_size=dataset_size, batch_size=batch_size, shuffle_buffer_size=shuffle_buffer_size, retrain_epochs=retrain_epochs, generator=generator)"
   ]
  },
  {
   "cell_type": "code",
   "execution_count": 21,
   "id": "83038a1a-12a7-4d72-8b5f-9f581c4f639f",
   "metadata": {},
   "outputs": [
    {
     "name": "stdout",
     "output_type": "stream",
     "text": [
      "Total constituents: 418\n",
      "Total constituents: 418\n",
      "Load weights from epoch 17\n",
      "13240/13240 [==============================] - 1096s 82ms/step - loss: 0.5999 - accuracy: 0.6524 - val_loss: 0.7109 - val_accuracy: 0.5542\n"
     ]
    }
   ],
   "source": [
    "core.retrain_model(model_base_id, kt_iter, db_ver, ROOT_PATH=ROOT_PATH, DB_ROOT_PATH=DB_ROOT_PATH, dataset_size=dataset_size, batch_size=batch_size, shuffle_buffer_size=shuffle_buffer_size, retrain_epochs=retrain_epochs, generator=generator)"
   ]
  },
  {
   "cell_type": "code",
   "execution_count": 22,
   "id": "92cce3b1-19f4-4ed4-9009-73acd2c30d6b",
   "metadata": {},
   "outputs": [
    {
     "name": "stdout",
     "output_type": "stream",
     "text": [
      "Total constituents: 418\n",
      "Total constituents: 418\n",
      "Load weights from epoch 18\n",
      "13240/13240 [==============================] - 1130s 85ms/step - loss: 0.5973 - accuracy: 0.6542 - val_loss: 0.7080 - val_accuracy: 0.5515\n"
     ]
    }
   ],
   "source": [
    "core.retrain_model(model_base_id, kt_iter, db_ver, ROOT_PATH=ROOT_PATH, DB_ROOT_PATH=DB_ROOT_PATH, dataset_size=dataset_size, batch_size=batch_size, shuffle_buffer_size=shuffle_buffer_size, retrain_epochs=retrain_epochs, generator=generator)"
   ]
  },
  {
   "cell_type": "code",
   "execution_count": 23,
   "id": "90f769fd-13bd-48f2-9ac2-67303cb13457",
   "metadata": {},
   "outputs": [
    {
     "name": "stdout",
     "output_type": "stream",
     "text": [
      "Total constituents: 418\n",
      "Total constituents: 418\n",
      "Load weights from epoch 19\n",
      "13240/13240 [==============================] - 986s 74ms/step - loss: 0.5948 - accuracy: 0.6565 - val_loss: 0.7147 - val_accuracy: 0.5466\n"
     ]
    }
   ],
   "source": [
    "core.retrain_model(model_base_id, kt_iter, db_ver, ROOT_PATH=ROOT_PATH, DB_ROOT_PATH=DB_ROOT_PATH, dataset_size=dataset_size, batch_size=batch_size, shuffle_buffer_size=shuffle_buffer_size, retrain_epochs=retrain_epochs, generator=generator)"
   ]
  },
  {
   "cell_type": "code",
   "execution_count": null,
   "id": "cdbf9c1a-73ed-42c5-a2a1-b8792f5496ee",
   "metadata": {},
   "outputs": [],
   "source": []
  },
  {
   "cell_type": "markdown",
   "id": "d9b5d773-bbc2-4c1d-8f49-54826f129060",
   "metadata": {},
   "source": [
    "### Manually retrain model"
   ]
  },
  {
   "cell_type": "code",
   "execution_count": 3,
   "id": "1bcc600a-1c6b-417b-aca7-a1d0ab46cc84",
   "metadata": {},
   "outputs": [],
   "source": [
    "model_base_id = '327'\n",
    "version = '1'\n",
    "model_no = model_base_id\n",
    "constituent_limits = 0.025\n",
    "id_constituent = 1\n",
    "min_vid_constituents = 0.5\n",
    "epochs = 5\n",
    "iter_id = f'model-{model_no}-{version}_constituent_limits-{constituent_limits}_id_constituent-{id_constituent}_min_vid_constituents-{min_vid_constituents}_epochs-{epochs}'\n",
    "ROOT_PATH='./'\n",
    "DB_ROOT_PATH='J:\\#PROJECT\\idx'\n",
    "db_ver = '8'\n",
    "batch_size = 1024\n",
    "shuffle_buffer_size = 1\n",
    "generator=True"
   ]
  },
  {
   "cell_type": "code",
   "execution_count": 4,
   "id": "8705f093-c1c8-42d1-8574-709a0818300c",
   "metadata": {
    "tags": []
   },
   "outputs": [
    {
     "name": "stdout",
     "output_type": "stream",
     "text": [
      "Total constituents: 1149\n",
      "Total constituents: 422\n",
      "Epoch 1/5\n",
      "1220/1220 [==============================] - 988s 804ms/step - loss: 0.6844 - accuracy: 0.5783 - val_loss: 0.6617 - val_accuracy: 0.5961\n",
      "Epoch 2/5\n",
      "1220/1220 [==============================] - 1171s 959ms/step - loss: 0.6590 - accuracy: 0.6032 - val_loss: 0.6556 - val_accuracy: 0.6025\n",
      "Epoch 3/5\n",
      "1220/1220 [==============================] - 1209s 990ms/step - loss: 0.6544 - accuracy: 0.6087 - val_loss: 0.6592 - val_accuracy: 0.6024\n",
      "Epoch 4/5\n",
      "1220/1220 [==============================] - 1143s 936ms/step - loss: 0.6517 - accuracy: 0.6115 - val_loss: 0.6545 - val_accuracy: 0.6049\n",
      "Epoch 5/5\n",
      "1220/1220 [==============================] - 1185s 970ms/step - loss: 0.6491 - accuracy: 0.6136 - val_loss: 0.6678 - val_accuracy: 0.6021\n"
     ]
    },
    {
     "name": "stderr",
     "output_type": "stream",
     "text": [
      "WARNING:absl:Found untraced functions such as lstm_cell_layer_call_fn, lstm_cell_layer_call_and_return_conditional_losses, lstm_cell_1_layer_call_fn, lstm_cell_1_layer_call_and_return_conditional_losses, lstm_cell_layer_call_fn while saving (showing 5 of 10). These functions will not be directly callable after loading.\n",
      "WARNING:absl:<keras.layers.recurrent.LSTMCell object at 0x000002280BF90760> has the same name 'LSTMCell' as a built-in Keras object. Consider renaming <class 'keras.layers.recurrent.LSTMCell'> to avoid naming conflicts when loading with `tf.keras.models.load_model`. If renaming is not possible, pass the object in the `custom_objects` parameter of the load function.\n",
      "WARNING:absl:<keras.layers.recurrent.LSTMCell object at 0x000002280CFFDDF0> has the same name 'LSTMCell' as a built-in Keras object. Consider renaming <class 'keras.layers.recurrent.LSTMCell'> to avoid naming conflicts when loading with `tf.keras.models.load_model`. If renaming is not possible, pass the object in the `custom_objects` parameter of the load function.\n"
     ]
    }
   ],
   "source": [
    "# Train: `slice_from_beginning`=True\n",
    "train_gen = core.load_dataset_wsd(slice_from_beginning=True, ROOT_PATH=DB_ROOT_PATH, db_ver=db_ver, constituent_limits=constituent_limits, id_constituent=id_constituent, batch_size=batch_size, shuffle_buffer_size=shuffle_buffer_size, seed=0, generator=generator, model_no=model_no)\n",
    "# Validation: `slice_from_beginning`=False. constituent_limits in validation is always 0 (focus on idx performance progression only)\n",
    "validation_gen = core.load_dataset_wsd(slice_from_beginning=False, ROOT_PATH=DB_ROOT_PATH, db_ver=db_ver, constituent_limits=0, id_constituent=id_constituent, batch_size=batch_size, shuffle_buffer_size=shuffle_buffer_size, seed=0, generator=generator, model_no=model_no)\n",
    "\n",
    "# Load model backbone\n",
    "model = core.model_switcher_preloaded(model_no, version=version)\n",
    "history = model.fit(train_gen, validation_data=validation_gen, epochs=epochs, verbose=1)\n",
    "\n",
    "save_path = core.os.path.join(ROOT_PATH, f'models/preloaded/{iter_id}/')\n",
    "model.save_weights(f'{save_path}/weights/checkpoint')\n",
    "model.save(f'{save_path}/model')\n",
    "\n",
    "history.history['batch_size'] = batch_size\n",
    "history.history['shuffle_buffer_size'] = shuffle_buffer_size\n",
    "\n",
    "with open(f'{save_path}/history.json', 'w') as f:\n",
    "    core.json.dump(history.history, f)"
   ]
  },
  {
   "cell_type": "code",
   "execution_count": 3,
   "id": "189dff2f-0ca8-4676-9a12-3c8ca705d7f3",
   "metadata": {},
   "outputs": [],
   "source": [
    "model_base_id = '327'\n",
    "version = '3'\n",
    "model_no = model_base_id\n",
    "constituent_limits = 0.025\n",
    "id_constituent = 1\n",
    "min_vid_constituents = 0.5\n",
    "epochs = 5\n",
    "iter_id = f'model-{model_no}-{version}_constituent_limits-{constituent_limits}_id_constituent-{id_constituent}_min_vid_constituents-{min_vid_constituents}_epochs-{epochs}'\n",
    "ROOT_PATH='./'\n",
    "DB_ROOT_PATH='J:\\#PROJECT\\idx'\n",
    "db_ver = '8'\n",
    "batch_size = 1024\n",
    "shuffle_buffer_size = 1\n",
    "generator=True"
   ]
  },
  {
   "cell_type": "code",
   "execution_count": 4,
   "id": "5c059341-7bc5-4806-97f1-66bbdc9a6dfb",
   "metadata": {},
   "outputs": [
    {
     "name": "stdout",
     "output_type": "stream",
     "text": [
      "Total constituents: 1149\n",
      "Total constituents: 422\n",
      "Epoch 1/5\n",
      "1220/1220 [==============================] - 986s 803ms/step - loss: 0.6894 - accuracy: 0.5699 - val_loss: 0.6713 - val_accuracy: 0.5836\n",
      "Epoch 2/5\n",
      "1220/1220 [==============================] - 1092s 894ms/step - loss: 0.6597 - accuracy: 0.6020 - val_loss: 0.6683 - val_accuracy: 0.5849\n",
      "Epoch 3/5\n",
      "1220/1220 [==============================] - 1158s 948ms/step - loss: 0.6536 - accuracy: 0.6098 - val_loss: 0.6669 - val_accuracy: 0.5864\n",
      "Epoch 4/5\n",
      "1220/1220 [==============================] - 1247s 1s/step - loss: 0.6499 - accuracy: 0.6146 - val_loss: 0.6662 - val_accuracy: 0.5904\n",
      "Epoch 5/5\n",
      "1220/1220 [==============================] - 1390s 1s/step - loss: 0.6465 - accuracy: 0.6181 - val_loss: 0.6661 - val_accuracy: 0.5903\n"
     ]
    },
    {
     "name": "stderr",
     "output_type": "stream",
     "text": [
      "WARNING:absl:Found untraced functions such as lstm_cell_layer_call_fn, lstm_cell_layer_call_and_return_conditional_losses, lstm_cell_1_layer_call_fn, lstm_cell_1_layer_call_and_return_conditional_losses, lstm_cell_layer_call_fn while saving (showing 5 of 10). These functions will not be directly callable after loading.\n",
      "WARNING:absl:<keras.layers.recurrent.LSTMCell object at 0x000001FD65E27A90> has the same name 'LSTMCell' as a built-in Keras object. Consider renaming <class 'keras.layers.recurrent.LSTMCell'> to avoid naming conflicts when loading with `tf.keras.models.load_model`. If renaming is not possible, pass the object in the `custom_objects` parameter of the load function.\n",
      "WARNING:absl:<keras.layers.recurrent.LSTMCell object at 0x000001FD65E90C70> has the same name 'LSTMCell' as a built-in Keras object. Consider renaming <class 'keras.layers.recurrent.LSTMCell'> to avoid naming conflicts when loading with `tf.keras.models.load_model`. If renaming is not possible, pass the object in the `custom_objects` parameter of the load function.\n"
     ]
    }
   ],
   "source": [
    "# Train: `slice_from_beginning`=True\n",
    "train_gen = core.load_dataset_wsd(slice_from_beginning=True, ROOT_PATH=DB_ROOT_PATH, db_ver=db_ver, constituent_limits=constituent_limits, id_constituent=id_constituent, batch_size=batch_size, shuffle_buffer_size=shuffle_buffer_size, seed=0, generator=generator, model_no=model_no)\n",
    "# Validation: `slice_from_beginning`=False. constituent_limits in validation is always 0 (focus on idx performance progression only)\n",
    "validation_gen = core.load_dataset_wsd(slice_from_beginning=False, ROOT_PATH=DB_ROOT_PATH, db_ver=db_ver, constituent_limits=0, id_constituent=id_constituent, batch_size=batch_size, shuffle_buffer_size=shuffle_buffer_size, seed=0, generator=generator, model_no=model_no)\n",
    "\n",
    "# Load model backbone\n",
    "model = core.model_switcher_preloaded(model_no, version=version)\n",
    "history = model.fit(train_gen, validation_data=validation_gen, epochs=epochs, verbose=1)\n",
    "\n",
    "save_path = core.os.path.join(ROOT_PATH, f'models/preloaded/{iter_id}/')\n",
    "model.save_weights(f'{save_path}/weights/checkpoint')\n",
    "model.save(f'{save_path}/model')\n",
    "\n",
    "history.history['batch_size'] = batch_size\n",
    "history.history['shuffle_buffer_size'] = shuffle_buffer_size\n",
    "\n",
    "with open(f'{save_path}/history.json', 'w') as f:\n",
    "    core.json.dump(history.history, f)"
   ]
  },
  {
   "cell_type": "code",
   "execution_count": 3,
   "id": "5398048b-656b-4881-b993-2d5ebe67f39c",
   "metadata": {},
   "outputs": [],
   "source": [
    "model_base_id = '326'\n",
    "version = '0'\n",
    "model_no = model_base_id\n",
    "constituent_limits = 0.025\n",
    "id_constituent = 1\n",
    "min_vid_constituents = 0.5\n",
    "epochs = 10\n",
    "batch_size = 512\n",
    "iter_id = f'model-{model_no}-{version}_constituentlimits-{constituent_limits}_idconstituent-{id_constituent}_minvidconstituents-{min_vid_constituents}_epochs-{epochs}_batchsize-{batch_size}'\n",
    "ROOT_PATH='./'\n",
    "DB_ROOT_PATH='J:\\#PROJECT\\idx'\n",
    "db_ver = '8'\n",
    "\n",
    "shuffle_buffer_size = 1\n",
    "generator=True"
   ]
  },
  {
   "cell_type": "code",
   "execution_count": 4,
   "id": "222a58f7-d359-42f1-a2f3-f0435c2c2c18",
   "metadata": {},
   "outputs": [
    {
     "name": "stdout",
     "output_type": "stream",
     "text": [
      "Total constituents: 1149\n",
      "Total constituents: 422\n",
      "Epoch 1/10\n",
      "2440/2440 [==============================] - 891s 363ms/step - loss: 0.6819 - accuracy: 0.5826 - val_loss: 0.6694 - val_accuracy: 0.5922\n",
      "Epoch 2/10\n",
      "2440/2440 [==============================] - 900s 369ms/step - loss: 0.6602 - accuracy: 0.6040 - val_loss: 0.6636 - val_accuracy: 0.5989\n",
      "Epoch 3/10\n",
      "2440/2440 [==============================] - 902s 370ms/step - loss: 0.6556 - accuracy: 0.6096 - val_loss: 0.6617 - val_accuracy: 0.6008\n",
      "Epoch 4/10\n",
      "2440/2440 [==============================] - 901s 369ms/step - loss: 0.6524 - accuracy: 0.6133 - val_loss: 0.6613 - val_accuracy: 0.6026\n",
      "Epoch 5/10\n",
      "2440/2440 [==============================] - 907s 372ms/step - loss: 0.6494 - accuracy: 0.6164 - val_loss: 0.6631 - val_accuracy: 0.6024\n",
      "Epoch 6/10\n",
      "2440/2440 [==============================] - 911s 373ms/step - loss: 0.6466 - accuracy: 0.6192 - val_loss: 0.6673 - val_accuracy: 0.5984\n",
      "Epoch 7/10\n",
      "2440/2440 [==============================] - 914s 374ms/step - loss: 0.6439 - accuracy: 0.6217 - val_loss: 0.6669 - val_accuracy: 0.6011\n",
      "Epoch 8/10\n",
      "2440/2440 [==============================] - 914s 375ms/step - loss: 0.6411 - accuracy: 0.6242 - val_loss: 0.6702 - val_accuracy: 0.5991\n",
      "Epoch 9/10\n",
      "2440/2440 [==============================] - 921s 377ms/step - loss: 0.6385 - accuracy: 0.6272 - val_loss: 0.6756 - val_accuracy: 0.5951\n",
      "Epoch 10/10\n",
      "2440/2440 [==============================] - 909s 373ms/step - loss: 0.6358 - accuracy: 0.6295 - val_loss: 0.6803 - val_accuracy: 0.5927\n"
     ]
    },
    {
     "name": "stderr",
     "output_type": "stream",
     "text": [
      "WARNING:absl:Found untraced functions such as lstm_cell_layer_call_fn, lstm_cell_layer_call_and_return_conditional_losses, lstm_cell_layer_call_fn, lstm_cell_layer_call_and_return_conditional_losses, lstm_cell_layer_call_and_return_conditional_losses while saving (showing 5 of 5). These functions will not be directly callable after loading.\n",
      "WARNING:absl:<keras.layers.recurrent.LSTMCell object at 0x0000027E8C7A8700> has the same name 'LSTMCell' as a built-in Keras object. Consider renaming <class 'keras.layers.recurrent.LSTMCell'> to avoid naming conflicts when loading with `tf.keras.models.load_model`. If renaming is not possible, pass the object in the `custom_objects` parameter of the load function.\n"
     ]
    }
   ],
   "source": [
    "# Train: `slice_from_beginning`=True\n",
    "train_gen = core.load_dataset_wsd(slice_from_beginning=True, ROOT_PATH=DB_ROOT_PATH, db_ver=db_ver, constituent_limits=constituent_limits, id_constituent=id_constituent, batch_size=batch_size, shuffle_buffer_size=shuffle_buffer_size, seed=0, generator=generator, model_no=model_no)\n",
    "# Validation: `slice_from_beginning`=False. constituent_limits in validation is always 0 (focus on idx performance progression only)\n",
    "validation_gen = core.load_dataset_wsd(slice_from_beginning=False, ROOT_PATH=DB_ROOT_PATH, db_ver=db_ver, constituent_limits=0, id_constituent=id_constituent, batch_size=batch_size, shuffle_buffer_size=shuffle_buffer_size, seed=0, generator=generator, model_no=model_no)\n",
    "\n",
    "# Load model backbone\n",
    "model = core.model_switcher_preloaded(model_no, version=version)\n",
    "history = model.fit(train_gen, validation_data=validation_gen, epochs=epochs, verbose=1)\n",
    "\n",
    "save_path = core.os.path.join(ROOT_PATH, f'models/preloaded/{iter_id}/')\n",
    "model.save_weights(f'{save_path}/weights/checkpoint')\n",
    "model.save(f'{save_path}/model')\n",
    "\n",
    "with open(f'{save_path}/history.json', 'w') as f:\n",
    "    core.json.dump(history.history, f)"
   ]
  },
  {
   "cell_type": "code",
   "execution_count": 3,
   "id": "2a51a7bc-b069-4003-a5dd-e0475c4ad47d",
   "metadata": {},
   "outputs": [],
   "source": [
    "model_base_id = '327'\n",
    "version = '4'\n",
    "model_no = model_base_id\n",
    "constituent_limits = 0.025\n",
    "id_constituent = 1\n",
    "min_vid_constituents = 0.5\n",
    "epochs = 10\n",
    "batch_size = 256\n",
    "iter_id = f'model-{model_no}-{version}_constituentlimits-{constituent_limits}_idconstituent-{id_constituent}_minvidconstituents-{min_vid_constituents}_epochs-{epochs}_batchsize-{batch_size}'\n",
    "ROOT_PATH='./'\n",
    "DB_ROOT_PATH='J:\\#PROJECT\\idx'\n",
    "db_ver = '8'\n",
    "\n",
    "shuffle_buffer_size = 1\n",
    "generator=True"
   ]
  },
  {
   "cell_type": "code",
   "execution_count": 4,
   "id": "b4dbf0af-dcac-450b-af95-3bb6fd381c11",
   "metadata": {},
   "outputs": [
    {
     "name": "stdout",
     "output_type": "stream",
     "text": [
      "Total constituents: 1149\n",
      "Total constituents: 422\n",
      "Epoch 1/10\n",
      "4879/4879 [==============================] - 1679s 342ms/step - loss: 0.6768 - accuracy: 0.5797 - val_loss: 0.6653 - val_accuracy: 0.5978\n",
      "Epoch 2/10\n",
      "4879/4879 [==============================] - 1636s 335ms/step - loss: 0.6597 - accuracy: 0.6062 - val_loss: 0.6637 - val_accuracy: 0.6056\n",
      "Epoch 3/10\n",
      "4879/4879 [==============================] - 1634s 335ms/step - loss: 0.6540 - accuracy: 0.6129 - val_loss: 0.6691 - val_accuracy: 0.5944\n",
      "Epoch 4/10\n",
      "4879/4879 [==============================] - 1611s 330ms/step - loss: 0.6471 - accuracy: 0.6188 - val_loss: 0.6807 - val_accuracy: 0.5805\n",
      "Epoch 5/10\n",
      "4879/4879 [==============================] - 1621s 332ms/step - loss: 0.6399 - accuracy: 0.6251 - val_loss: 0.6905 - val_accuracy: 0.5749\n",
      "Epoch 6/10\n",
      "4879/4879 [==============================] - 1637s 336ms/step - loss: 0.6326 - accuracy: 0.6309 - val_loss: 0.7134 - val_accuracy: 0.5695\n",
      "Epoch 7/10\n",
      "4879/4879 [==============================] - 1663s 341ms/step - loss: 0.6255 - accuracy: 0.6378 - val_loss: 0.7244 - val_accuracy: 0.5651\n",
      "Epoch 8/10\n",
      "4879/4879 [==============================] - 1643s 337ms/step - loss: 0.6171 - accuracy: 0.6462 - val_loss: 0.7517 - val_accuracy: 0.5584\n",
      "Epoch 9/10\n",
      "4879/4879 [==============================] - 1638s 336ms/step - loss: 0.6085 - accuracy: 0.6543 - val_loss: 0.7943 - val_accuracy: 0.5532\n",
      "Epoch 10/10\n",
      "4879/4879 [==============================] - 1551s 318ms/step - loss: 0.5997 - accuracy: 0.6631 - val_loss: 0.7909 - val_accuracy: 0.5524\n"
     ]
    },
    {
     "name": "stderr",
     "output_type": "stream",
     "text": [
      "WARNING:absl:Found untraced functions such as lstm_cell_layer_call_fn, lstm_cell_layer_call_and_return_conditional_losses, lstm_cell_1_layer_call_fn, lstm_cell_1_layer_call_and_return_conditional_losses, lstm_cell_2_layer_call_fn while saving (showing 5 of 15). These functions will not be directly callable after loading.\n",
      "WARNING:absl:<keras.layers.recurrent.LSTMCell object at 0x000001FC6D53F700> has the same name 'LSTMCell' as a built-in Keras object. Consider renaming <class 'keras.layers.recurrent.LSTMCell'> to avoid naming conflicts when loading with `tf.keras.models.load_model`. If renaming is not possible, pass the object in the `custom_objects` parameter of the load function.\n",
      "WARNING:absl:<keras.layers.recurrent.LSTMCell object at 0x000001FC6D59EDC0> has the same name 'LSTMCell' as a built-in Keras object. Consider renaming <class 'keras.layers.recurrent.LSTMCell'> to avoid naming conflicts when loading with `tf.keras.models.load_model`. If renaming is not possible, pass the object in the `custom_objects` parameter of the load function.\n",
      "WARNING:absl:<keras.layers.recurrent.LSTMCell object at 0x000001FC6D809D00> has the same name 'LSTMCell' as a built-in Keras object. Consider renaming <class 'keras.layers.recurrent.LSTMCell'> to avoid naming conflicts when loading with `tf.keras.models.load_model`. If renaming is not possible, pass the object in the `custom_objects` parameter of the load function.\n"
     ]
    }
   ],
   "source": [
    "# Train: `slice_from_beginning`=True\n",
    "train_gen = core.load_dataset_wsd(slice_from_beginning=True, ROOT_PATH=DB_ROOT_PATH, db_ver=db_ver, constituent_limits=constituent_limits, id_constituent=id_constituent, batch_size=batch_size, shuffle_buffer_size=shuffle_buffer_size, seed=0, generator=generator, model_no=model_no)\n",
    "# Validation: `slice_from_beginning`=False. constituent_limits in validation is always 0 (focus on idx performance progression only)\n",
    "validation_gen = core.load_dataset_wsd(slice_from_beginning=False, ROOT_PATH=DB_ROOT_PATH, db_ver=db_ver, constituent_limits=0, id_constituent=id_constituent, batch_size=batch_size, shuffle_buffer_size=shuffle_buffer_size, seed=0, generator=generator, model_no=model_no)\n",
    "\n",
    "# Load model backbone\n",
    "model = core.model_switcher_preloaded(model_no, version=version)\n",
    "history = model.fit(train_gen, validation_data=validation_gen, epochs=epochs, verbose=1)\n",
    "\n",
    "save_path = core.os.path.join(ROOT_PATH, f'models/preloaded/{iter_id}/')\n",
    "model.save_weights(f'{save_path}/weights/checkpoint')\n",
    "model.save(f'{save_path}/model')\n",
    "\n",
    "with open(f'{save_path}/history.json', 'w') as f:\n",
    "    core.json.dump(history.history, f)"
   ]
  },
  {
   "cell_type": "code",
   "execution_count": 3,
   "id": "9af78343-0cff-4bac-b8b7-44a9770af387",
   "metadata": {},
   "outputs": [],
   "source": [
    "model_base_id = '327'\n",
    "version = '3'\n",
    "model_no = model_base_id\n",
    "constituent_limits = 0\n",
    "id_constituent = 1\n",
    "min_vid_constituents = 0.5\n",
    "epochs = 10\n",
    "batch_size = 256\n",
    "iter_id = f'model-{model_no}-{version}_constituentlimits-{constituent_limits}_idconstituent-{id_constituent}_minvidconstituents-{min_vid_constituents}_epochs-{epochs}_batchsize-{batch_size}'\n",
    "ROOT_PATH='./'\n",
    "DB_ROOT_PATH='J:\\#PROJECT\\idx'\n",
    "db_ver = '8'\n",
    "\n",
    "shuffle_buffer_size = 1\n",
    "generator=True"
   ]
  },
  {
   "cell_type": "code",
   "execution_count": 4,
   "id": "1d306d48-2606-4dc8-80f5-3494afee0726",
   "metadata": {},
   "outputs": [
    {
     "name": "stdout",
     "output_type": "stream",
     "text": [
      "Total constituents: 422\n",
      "Total constituents: 422\n",
      "Epoch 1/10\n",
      "3300/3300 [==============================] - 835s 251ms/step - loss: 0.6817 - accuracy: 0.5824 - val_loss: 0.6652 - val_accuracy: 0.5941\n",
      "Epoch 2/10\n",
      "3300/3300 [==============================] - 835s 253ms/step - loss: 0.6591 - accuracy: 0.6078 - val_loss: 0.6630 - val_accuracy: 0.5951\n",
      "Epoch 3/10\n",
      "3300/3300 [==============================] - 829s 251ms/step - loss: 0.6523 - accuracy: 0.6155 - val_loss: 0.6628 - val_accuracy: 0.5943\n",
      "Epoch 4/10\n",
      "3300/3300 [==============================] - 836s 253ms/step - loss: 0.6459 - accuracy: 0.6217 - val_loss: 0.6670 - val_accuracy: 0.5933\n",
      "Epoch 5/10\n",
      "3300/3300 [==============================] - 844s 256ms/step - loss: 0.6391 - accuracy: 0.6274 - val_loss: 0.6726 - val_accuracy: 0.5917\n",
      "Epoch 6/10\n",
      "3300/3300 [==============================] - 782s 237ms/step - loss: 0.6315 - accuracy: 0.6341 - val_loss: 0.6788 - val_accuracy: 0.5899\n",
      "Epoch 7/10\n",
      "3300/3300 [==============================] - 794s 241ms/step - loss: 0.6234 - accuracy: 0.6418 - val_loss: 0.6917 - val_accuracy: 0.5836\n",
      "Epoch 8/10\n",
      "3300/3300 [==============================] - 773s 234ms/step - loss: 0.6151 - accuracy: 0.6493 - val_loss: 0.7065 - val_accuracy: 0.5777\n",
      "Epoch 9/10\n",
      "3300/3300 [==============================] - 731s 222ms/step - loss: 0.6065 - accuracy: 0.6569 - val_loss: 0.7234 - val_accuracy: 0.5657\n",
      "Epoch 10/10\n",
      "3300/3300 [==============================] - 815s 247ms/step - loss: 0.5974 - accuracy: 0.6652 - val_loss: 0.7330 - val_accuracy: 0.5591\n"
     ]
    },
    {
     "name": "stderr",
     "output_type": "stream",
     "text": [
      "WARNING:absl:Found untraced functions such as lstm_cell_layer_call_fn, lstm_cell_layer_call_and_return_conditional_losses, lstm_cell_1_layer_call_fn, lstm_cell_1_layer_call_and_return_conditional_losses, lstm_cell_layer_call_fn while saving (showing 5 of 10). These functions will not be directly callable after loading.\n",
      "WARNING:absl:<keras.layers.recurrent.LSTMCell object at 0x000001DACEF662B0> has the same name 'LSTMCell' as a built-in Keras object. Consider renaming <class 'keras.layers.recurrent.LSTMCell'> to avoid naming conflicts when loading with `tf.keras.models.load_model`. If renaming is not possible, pass the object in the `custom_objects` parameter of the load function.\n",
      "WARNING:absl:<keras.layers.recurrent.LSTMCell object at 0x000001DAE060AAF0> has the same name 'LSTMCell' as a built-in Keras object. Consider renaming <class 'keras.layers.recurrent.LSTMCell'> to avoid naming conflicts when loading with `tf.keras.models.load_model`. If renaming is not possible, pass the object in the `custom_objects` parameter of the load function.\n"
     ]
    }
   ],
   "source": [
    "# Train: `slice_from_beginning`=True\n",
    "train_gen = core.load_dataset_wsd(slice_from_beginning=True, ROOT_PATH=DB_ROOT_PATH, db_ver=db_ver, constituent_limits=constituent_limits, id_constituent=id_constituent, batch_size=batch_size, shuffle_buffer_size=shuffle_buffer_size, seed=0, generator=generator, model_no=model_no)\n",
    "# Validation: `slice_from_beginning`=False. constituent_limits in validation is always 0 (focus on idx performance progression only)\n",
    "validation_gen = core.load_dataset_wsd(slice_from_beginning=False, ROOT_PATH=DB_ROOT_PATH, db_ver=db_ver, constituent_limits=0, id_constituent=id_constituent, batch_size=batch_size, shuffle_buffer_size=shuffle_buffer_size, seed=0, generator=generator, model_no=model_no)\n",
    "\n",
    "# Load model backbone\n",
    "model = core.model_switcher_preloaded(model_no, version=version)\n",
    "history = model.fit(train_gen, validation_data=validation_gen, epochs=epochs, verbose=1)\n",
    "\n",
    "save_path = core.os.path.join(ROOT_PATH, f'models/preloaded/{iter_id}/')\n",
    "model.save_weights(f'{save_path}/weights/checkpoint')\n",
    "model.save(f'{save_path}/model')\n",
    "\n",
    "with open(f'{save_path}/history.json', 'w') as f:\n",
    "    core.json.dump(history.history, f)"
   ]
  },
  {
   "cell_type": "code",
   "execution_count": 3,
   "id": "edf913da-3c61-4664-8091-6769946f0bd2",
   "metadata": {},
   "outputs": [],
   "source": [
    "model_base_id = '327'\n",
    "version = '3'\n",
    "model_no = model_base_id\n",
    "constituent_limits = 0.025\n",
    "id_constituent = 1\n",
    "min_vid_constituents = 0.4\n",
    "epochs = 10\n",
    "batch_size = 512\n",
    "iter_id = f'model-{model_no}-{version}_constituentlimits-{constituent_limits}_idconstituent-{id_constituent}_minvidconstituents-{min_vid_constituents}_epochs-{epochs}_batchsize-{batch_size}_2'\n",
    "ROOT_PATH='./'\n",
    "DB_ROOT_PATH='J:\\#PROJECT\\idx'\n",
    "db_ver = '8'\n",
    "\n",
    "shuffle_buffer_size = 1\n",
    "generator=True"
   ]
  },
  {
   "cell_type": "code",
   "execution_count": 4,
   "id": "e37fe0dc-ec55-4788-bd4a-406cd47dfad0",
   "metadata": {},
   "outputs": [
    {
     "name": "stdout",
     "output_type": "stream",
     "text": [
      "Total constituents: 1149\n",
      "Total constituents: 422\n",
      "Epoch 1/10\n",
      "2440/2440 [==============================] - 1145s 466ms/step - loss: 0.6805 - accuracy: 0.5784 - val_loss: 0.6670 - val_accuracy: 0.5947\n",
      "Epoch 2/10\n",
      "2440/2440 [==============================] - 1130s 463ms/step - loss: 0.6595 - accuracy: 0.6053 - val_loss: 0.6666 - val_accuracy: 0.5963\n",
      "Epoch 3/10\n",
      "2440/2440 [==============================] - 1197s 491ms/step - loss: 0.6548 - accuracy: 0.6113 - val_loss: 0.6657 - val_accuracy: 0.6003\n",
      "Epoch 4/10\n",
      "2440/2440 [==============================] - 1175s 482ms/step - loss: 0.6509 - accuracy: 0.6154 - val_loss: 0.6692 - val_accuracy: 0.5935\n",
      "Epoch 5/10\n",
      "2440/2440 [==============================] - 1174s 481ms/step - loss: 0.6466 - accuracy: 0.6198 - val_loss: 0.6730 - val_accuracy: 0.5860\n",
      "Epoch 6/10\n",
      "2440/2440 [==============================] - 1220s 500ms/step - loss: 0.6420 - accuracy: 0.6246 - val_loss: 0.6759 - val_accuracy: 0.5820\n",
      "Epoch 7/10\n",
      "2440/2440 [==============================] - 1253s 514ms/step - loss: 0.6372 - accuracy: 0.6292 - val_loss: 0.6807 - val_accuracy: 0.5806\n",
      "Epoch 8/10\n",
      "2440/2440 [==============================] - 1307s 535ms/step - loss: 0.6322 - accuracy: 0.6338 - val_loss: 0.6920 - val_accuracy: 0.5736\n",
      "Epoch 9/10\n",
      "2440/2440 [==============================] - 1360s 557ms/step - loss: 0.6272 - accuracy: 0.6386 - val_loss: 0.6937 - val_accuracy: 0.5708\n",
      "Epoch 10/10\n",
      "2440/2440 [==============================] - 1245s 510ms/step - loss: 0.6218 - accuracy: 0.6440 - val_loss: 0.7084 - val_accuracy: 0.5627\n"
     ]
    },
    {
     "name": "stderr",
     "output_type": "stream",
     "text": [
      "WARNING:absl:Found untraced functions such as lstm_cell_layer_call_fn, lstm_cell_layer_call_and_return_conditional_losses, lstm_cell_1_layer_call_fn, lstm_cell_1_layer_call_and_return_conditional_losses while saving (showing 4 of 4). These functions will not be directly callable after loading.\n",
      "WARNING:absl:<keras.layers.recurrent.LSTMCell object at 0x00000280005AC3A0> has the same name 'LSTMCell' as a built-in Keras object. Consider renaming <class 'keras.layers.recurrent.LSTMCell'> to avoid naming conflicts when loading with `tf.keras.models.load_model`. If renaming is not possible, pass the object in the `custom_objects` parameter of the load function.\n",
      "WARNING:absl:<keras.layers.recurrent.LSTMCell object at 0x00000280005ADC30> has the same name 'LSTMCell' as a built-in Keras object. Consider renaming <class 'keras.layers.recurrent.LSTMCell'> to avoid naming conflicts when loading with `tf.keras.models.load_model`. If renaming is not possible, pass the object in the `custom_objects` parameter of the load function.\n"
     ]
    }
   ],
   "source": [
    "# Train: `slice_from_beginning`=True\n",
    "train_gen = core.load_dataset_wsd(slice_from_beginning=True, ROOT_PATH=DB_ROOT_PATH, db_ver=db_ver, constituent_limits=constituent_limits, id_constituent=id_constituent, batch_size=batch_size, shuffle_buffer_size=shuffle_buffer_size, seed=0, generator=generator, model_no=model_no)\n",
    "# Validation: `slice_from_beginning`=False. constituent_limits in validation is always 0 (focus on idx performance progression only)\n",
    "validation_gen = core.load_dataset_wsd(slice_from_beginning=False, ROOT_PATH=DB_ROOT_PATH, db_ver=db_ver, constituent_limits=0, id_constituent=id_constituent, batch_size=batch_size, shuffle_buffer_size=shuffle_buffer_size, seed=0, generator=generator, model_no=model_no)\n",
    "\n",
    "# Load model backbone\n",
    "model = core.model_switcher_preloaded(model_no, version=version)\n",
    "history = model.fit(train_gen, validation_data=validation_gen, epochs=epochs, verbose=1)\n",
    "\n",
    "save_path = core.os.path.join(ROOT_PATH, f'models/preloaded/{iter_id}/')\n",
    "model.save_weights(f'{save_path}/weights/checkpoint')\n",
    "model.save(f'{save_path}/model')\n",
    "\n",
    "with open(f'{save_path}/history.json', 'w') as f:\n",
    "    core.json.dump(history.history, f)"
   ]
  },
  {
   "cell_type": "code",
   "execution_count": 15,
   "id": "3d02c4ae-12a7-4148-b2aa-b30516e225b1",
   "metadata": {},
   "outputs": [],
   "source": [
    "model_base_id = '327'\n",
    "version = '3'\n",
    "model_no = model_base_id\n",
    "constituent_limits = 0.075\n",
    "id_constituent = 1\n",
    "min_vid_constituents = 0.2\n",
    "epochs = 10\n",
    "batch_size = 2048\n",
    "iter_id = f'model-{model_no}-{version}_constituentlimits-{constituent_limits}_idconstituent-{id_constituent}_minvidconstituents-{min_vid_constituents}_epochs-{epochs}_batchsize-{batch_size}_2'\n",
    "ROOT_PATH='./'\n",
    "DB_ROOT_PATH='J:\\#PROJECT\\idx'\n",
    "db_ver = '8'\n",
    "\n",
    "shuffle_buffer_size = 1\n",
    "generator=True"
   ]
  },
  {
   "cell_type": "code",
   "execution_count": 16,
   "id": "adf807f0-6d48-4cde-aac7-d0e8c792a8b3",
   "metadata": {},
   "outputs": [
    {
     "name": "stdout",
     "output_type": "stream",
     "text": [
      "Total constituents: 1\n",
      "Total constituents: 1\n"
     ]
    }
   ],
   "source": [
    "# Train: `slice_from_beginning`=True\n",
    "train_gen = core.load_dataset_wsd(slice_from_beginning=True, ROOT_PATH=DB_ROOT_PATH, db_ver=db_ver, constituent_limits=constituent_limits, id_constituent=id_constituent, batch_size=batch_size, shuffle_buffer_size=shuffle_buffer_size, seed=0, generator=generator, model_no=model_no)\n",
    "# Validation: `slice_from_beginning`=False. constituent_limits in validation is always 0 (focus on idx performance progression only)\n",
    "validation_gen = core.load_dataset_wsd(slice_from_beginning=False, ROOT_PATH=DB_ROOT_PATH, db_ver=db_ver, constituent_limits=0, id_constituent=id_constituent, batch_size=batch_size, shuffle_buffer_size=shuffle_buffer_size, seed=0, generator=generator, model_no=model_no)"
   ]
  },
  {
   "cell_type": "code",
   "execution_count": 17,
   "id": "57917422-e3df-4aa4-8e69-f2bf2a32f994",
   "metadata": {},
   "outputs": [
    {
     "name": "stdout",
     "output_type": "stream",
     "text": [
      "1239/1239 [==============================] - 2080s 2s/step - loss: 0.6771 - accuracy: 0.5826 - val_loss: 0.6573 - val_accuracy: 0.6026\n",
      "1267/1267 [==============================] - 2086s 2s/step - loss: 0.6577 - accuracy: 0.6038 - val_loss: 0.6517 - val_accuracy: 0.6097\n",
      "1239/1239 [==============================] - 2045s 2s/step - loss: 0.6552 - accuracy: 0.6069 - val_loss: 0.6509 - val_accuracy: 0.6117\n",
      "1267/1267 [==============================] - 2083s 2s/step - loss: 0.6530 - accuracy: 0.6103 - val_loss: 0.6489 - val_accuracy: 0.6141\n",
      "1239/1239 [==============================] - 2054s 2s/step - loss: 0.6527 - accuracy: 0.6099 - val_loss: 0.6479 - val_accuracy: 0.6153\n",
      "1267/1267 [==============================] - 2109s 2s/step - loss: 0.6508 - accuracy: 0.6126 - val_loss: 0.6458 - val_accuracy: 0.6169\n",
      "1239/1239 [==============================] - 2069s 2s/step - loss: 0.6509 - accuracy: 0.6119 - val_loss: 0.6458 - val_accuracy: 0.6167\n",
      "1267/1267 [==============================] - 2127s 2s/step - loss: 0.6491 - accuracy: 0.6140 - val_loss: 0.6444 - val_accuracy: 0.6173\n",
      "1239/1239 [==============================] - 2137s 2s/step - loss: 0.6496 - accuracy: 0.6131 - val_loss: 0.6445 - val_accuracy: 0.6175\n",
      "1267/1267 [==============================] - 2270s 2s/step - loss: 0.6475 - accuracy: 0.6155 - val_loss: 0.6437 - val_accuracy: 0.6189\n",
      "1239/1239 [==============================] - 2276s 2s/step - loss: 0.6484 - accuracy: 0.6142 - val_loss: 0.6445 - val_accuracy: 0.6177\n",
      "1267/1267 [==============================] - 2329s 2s/step - loss: 0.6464 - accuracy: 0.6166 - val_loss: 0.6432 - val_accuracy: 0.6196\n",
      "1239/1239 [==============================] - 2258s 2s/step - loss: 0.6471 - accuracy: 0.6153 - val_loss: 0.6439 - val_accuracy: 0.6185\n",
      "1267/1267 [==============================] - 2316s 2s/step - loss: 0.6450 - accuracy: 0.6177 - val_loss: 0.6417 - val_accuracy: 0.6207\n",
      "1239/1239 [==============================] - 2282s 2s/step - loss: 0.6459 - accuracy: 0.6166 - val_loss: 0.6442 - val_accuracy: 0.6190\n",
      "1267/1267 [==============================] - 2312s 2s/step - loss: 0.6438 - accuracy: 0.6186 - val_loss: 0.6424 - val_accuracy: 0.6210\n",
      "1239/1239 [==============================] - 2248s 2s/step - loss: 0.6446 - accuracy: 0.6177 - val_loss: 0.6448 - val_accuracy: 0.6186\n",
      "1267/1267 [==============================] - 2293s 2s/step - loss: 0.6426 - accuracy: 0.6196 - val_loss: 0.6422 - val_accuracy: 0.6215\n",
      "1239/1239 [==============================] - 2235s 2s/step - loss: 0.6433 - accuracy: 0.6189 - val_loss: 0.6450 - val_accuracy: 0.6176\n",
      "1267/1267 [==============================] - 2292s 2s/step - loss: 0.6415 - accuracy: 0.6208 - val_loss: 0.6437 - val_accuracy: 0.6212\n"
     ]
    },
    {
     "name": "stderr",
     "output_type": "stream",
     "text": [
      "WARNING:absl:Found untraced functions such as lstm_cell_layer_call_fn, lstm_cell_layer_call_and_return_conditional_losses, lstm_cell_1_layer_call_fn, lstm_cell_1_layer_call_and_return_conditional_losses, lstm_cell_layer_call_fn while saving (showing 5 of 10). These functions will not be directly callable after loading.\n",
      "WARNING:absl:<keras.layers.recurrent.LSTMCell object at 0x0000019819573DC0> has the same name 'LSTMCell' as a built-in Keras object. Consider renaming <class 'keras.layers.recurrent.LSTMCell'> to avoid naming conflicts when loading with `tf.keras.models.load_model`. If renaming is not possible, pass the object in the `custom_objects` parameter of the load function.\n",
      "WARNING:absl:<keras.layers.recurrent.LSTMCell object at 0x000001982B67D160> has the same name 'LSTMCell' as a built-in Keras object. Consider renaming <class 'keras.layers.recurrent.LSTMCell'> to avoid naming conflicts when loading with `tf.keras.models.load_model`. If renaming is not possible, pass the object in the `custom_objects` parameter of the load function.\n"
     ]
    }
   ],
   "source": [
    "# Load model backbone\n",
    "model = core.model_switcher_preloaded(model_no, version=version)\n",
    "if type(train_gen) == list:\n",
    "    for epoch in range(epochs):\n",
    "        for i, tg in enumerate(train_gen):\n",
    "            print(f'Epoch {epoch+1}-{i+1}/{epochs}')\n",
    "            history = model.fit(tg, validation_data=validation_gen, epochs=1, verbose=1)\n",
    "elif type(train_gen) != list:\n",
    "    history = model.fit(train_gen, validation_data=validation_gen, epochs=epochs, verbose=1)\n",
    "\n",
    "save_path = core.os.path.join(ROOT_PATH, f'models/preloaded/{iter_id}/')\n",
    "model.save_weights(f'{save_path}/weights/checkpoint')\n",
    "model.save(f'{save_path}/model')\n",
    "\n",
    "with open(f'{save_path}/history.json', 'w') as f:\n",
    "    core.json.dump(history.history, f)"
   ]
  },
  {
   "cell_type": "code",
   "execution_count": 3,
   "id": "77a47415-5a74-4313-a779-30020ab87c0e",
   "metadata": {},
   "outputs": [],
   "source": [
    "model_base_id = '327'\n",
    "version = '5'\n",
    "model_no = model_base_id\n",
    "constituent_limits = 0.1\n",
    "id_constituent = 1\n",
    "min_vid_constituents = 0.2\n",
    "epochs = 1\n",
    "batch_size = 512\n",
    "iter_id = f'model-{model_no}-{version}_constituentlimits-{constituent_limits}_idconstituent-{id_constituent}_minvidconstituents-{min_vid_constituents}_epochs-{epochs}_batchsize-{batch_size}_2'\n",
    "ROOT_PATH='./'\n",
    "DB_ROOT_PATH='J:\\#PROJECT\\idx'\n",
    "db_ver = '8'\n",
    "\n",
    "shuffle_buffer_size = 1\n",
    "generator=True"
   ]
  },
  {
   "cell_type": "code",
   "execution_count": 4,
   "id": "4b6acf57-177c-4f0b-9ed0-13018448c26c",
   "metadata": {},
   "outputs": [
    {
     "name": "stdout",
     "output_type": "stream",
     "text": [
      "Total constituents: 3637\n",
      "Total constituents: 422\n",
      "Epoch 1-1/1\n",
      "5184/5184 [==============================] - 2008s 386ms/step - loss: 0.8506 - accuracy: 0.5129 - val_loss: 0.7203 - val_accuracy: 0.5279\n",
      "Epoch 1-2/1\n",
      "4992/4992 [==============================] - 1963s 393ms/step - loss: 0.7003 - accuracy: 0.5424 - val_loss: 0.6902 - val_accuracy: 0.5504\n",
      "Epoch 1-3/1\n",
      "5155/5155 [==============================] - 1978s 384ms/step - loss: 0.6823 - accuracy: 0.5644 - val_loss: 0.6764 - val_accuracy: 0.5725\n"
     ]
    },
    {
     "name": "stderr",
     "output_type": "stream",
     "text": [
      "WARNING:absl:Found untraced functions such as lstm_cell_layer_call_fn, lstm_cell_layer_call_and_return_conditional_losses, lstm_cell_1_layer_call_fn, lstm_cell_1_layer_call_and_return_conditional_losses, lstm_cell_layer_call_fn while saving (showing 5 of 10). These functions will not be directly callable after loading.\n",
      "WARNING:absl:<keras.layers.recurrent.LSTMCell object at 0x000002BABB3592E0> has the same name 'LSTMCell' as a built-in Keras object. Consider renaming <class 'keras.layers.recurrent.LSTMCell'> to avoid naming conflicts when loading with `tf.keras.models.load_model`. If renaming is not possible, pass the object in the `custom_objects` parameter of the load function.\n",
      "WARNING:absl:<keras.layers.recurrent.LSTMCell object at 0x000002BAB9B0BFA0> has the same name 'LSTMCell' as a built-in Keras object. Consider renaming <class 'keras.layers.recurrent.LSTMCell'> to avoid naming conflicts when loading with `tf.keras.models.load_model`. If renaming is not possible, pass the object in the `custom_objects` parameter of the load function.\n"
     ]
    }
   ],
   "source": [
    "# Train: `slice_from_beginning`=True\n",
    "train_gen = core.load_dataset_wsd(slice_from_beginning=True, ROOT_PATH=DB_ROOT_PATH, db_ver=db_ver, constituent_limits=constituent_limits, id_constituent=id_constituent, batch_size=batch_size, shuffle_buffer_size=shuffle_buffer_size, seed=0, generator=generator, model_no=model_no)\n",
    "# Validation: `slice_from_beginning`=False. constituent_limits in validation is always 0 (focus on idx performance progression only)\n",
    "validation_gen = core.load_dataset_wsd(slice_from_beginning=False, ROOT_PATH=DB_ROOT_PATH, db_ver=db_ver, constituent_limits=0, id_constituent=id_constituent, batch_size=batch_size, shuffle_buffer_size=shuffle_buffer_size, seed=0, generator=generator, model_no=model_no)\n",
    "\n",
    "# Load model backbone\n",
    "model = core.model_switcher_preloaded(model_no, version=version)\n",
    "if type(train_gen) == list:\n",
    "    for epoch in range(epochs):\n",
    "        for i, tg in enumerate(train_gen):\n",
    "            print(f'Epoch {epoch+1}-{i+1}/{epochs}')\n",
    "            history = model.fit(tg, validation_data=validation_gen, epochs=1, verbose=1)\n",
    "elif type(train_gen) != list:\n",
    "    history = model.fit(train_gen, validation_data=validation_gen, epochs=epochs, verbose=1)\n",
    "\n",
    "save_path = core.os.path.join(ROOT_PATH, f'models/preloaded/{iter_id}/')\n",
    "model.save_weights(f'{save_path}/weights/checkpoint')\n",
    "model.save(f'{save_path}/model')\n",
    "\n",
    "with open(f'{save_path}/history.json', 'w') as f:\n",
    "    core.json.dump(history.history, f)"
   ]
  },
  {
   "cell_type": "code",
   "execution_count": 3,
   "id": "2508e316-2598-4333-88ef-a7e1e01d433a",
   "metadata": {},
   "outputs": [],
   "source": [
    "model_base_id = '327'\n",
    "version = '5'\n",
    "model_no = model_base_id\n",
    "constituent_limits = 0.1\n",
    "id_constituent = 1\n",
    "min_vid_constituents = 0.2\n",
    "epochs = 5\n",
    "batch_size = 1024\n",
    "iter_id = f'model-{model_no}-{version}_constituentlimits-{constituent_limits}_idconstituent-{id_constituent}_minvidconstituents-{min_vid_constituents}_epochs-{epochs}_batchsize-{batch_size}_2'\n",
    "ROOT_PATH='./'\n",
    "DB_ROOT_PATH='J:\\#PROJECT\\idx'\n",
    "db_ver = '8'\n",
    "\n",
    "shuffle_buffer_size = 1\n",
    "generator=True"
   ]
  },
  {
   "cell_type": "code",
   "execution_count": 4,
   "id": "da6605ef-4669-449f-a6c5-868514472bd0",
   "metadata": {},
   "outputs": [
    {
     "name": "stdout",
     "output_type": "stream",
     "text": [
      "Total constituents: 3637\n",
      "Total constituents: 422\n",
      "Epoch 1-1/5\n",
      "2586/2586 [==============================] - 1975s 761ms/step - loss: 0.7359 - accuracy: 0.5168 - val_loss: 0.7082 - val_accuracy: 0.5338\n",
      "Epoch 1-2/5\n",
      "2503/2503 [==============================] - 1969s 786ms/step - loss: 0.6955 - accuracy: 0.5427 - val_loss: 0.6884 - val_accuracy: 0.5550\n",
      "Epoch 1-3/5\n",
      "2567/2567 [==============================] - 1952s 760ms/step - loss: 0.6831 - accuracy: 0.5621 - val_loss: 0.6796 - val_accuracy: 0.5701\n",
      "Epoch 1-4/5\n",
      "1584/1584 [==============================] - 1248s 787ms/step - loss: 0.6765 - accuracy: 0.5737 - val_loss: 0.6754 - val_accuracy: 0.5770\n",
      "Epoch 2-1/5\n",
      "2586/2586 [==============================] - 1967s 760ms/step - loss: 0.6724 - accuracy: 0.5816 - val_loss: 0.6707 - val_accuracy: 0.5860\n",
      "Epoch 2-2/5\n",
      "2503/2503 [==============================] - 1922s 767ms/step - loss: 0.6694 - accuracy: 0.5871 - val_loss: 0.6675 - val_accuracy: 0.5915\n",
      "Epoch 2-3/5\n",
      "2567/2567 [==============================] - 1944s 757ms/step - loss: 0.6663 - accuracy: 0.5924 - val_loss: 0.6657 - val_accuracy: 0.5945\n",
      "Epoch 2-4/5\n",
      "1584/1584 [==============================] - 1280s 807ms/step - loss: 0.6642 - accuracy: 0.5966 - val_loss: 0.6643 - val_accuracy: 0.5970\n",
      "Epoch 3-1/5\n",
      "2586/2586 [==============================] - 1969s 761ms/step - loss: 0.6632 - accuracy: 0.5983 - val_loss: 0.6631 - val_accuracy: 0.5994\n",
      "Epoch 3-2/5\n",
      "2503/2503 [==============================] - 1948s 778ms/step - loss: 0.6628 - accuracy: 0.5987 - val_loss: 0.6617 - val_accuracy: 0.6014\n",
      "Epoch 3-3/5\n",
      "2567/2567 [==============================] - 1925s 750ms/step - loss: 0.6613 - accuracy: 0.6010 - val_loss: 0.6609 - val_accuracy: 0.6024\n",
      "Epoch 3-4/5\n",
      "1584/1584 [==============================] - 1241s 783ms/step - loss: 0.6601 - accuracy: 0.6034 - val_loss: 0.6602 - val_accuracy: 0.6039\n",
      "Epoch 4-1/5\n",
      "2586/2586 [==============================] - 1914s 740ms/step - loss: 0.6597 - accuracy: 0.6035 - val_loss: 0.6599 - val_accuracy: 0.6048\n",
      "Epoch 4-2/5\n",
      "2503/2503 [==============================] - 1890s 755ms/step - loss: 0.6600 - accuracy: 0.6031 - val_loss: 0.6590 - val_accuracy: 0.6059\n",
      "Epoch 4-3/5\n",
      "2567/2567 [==============================] - 1963s 764ms/step - loss: 0.6591 - accuracy: 0.6043 - val_loss: 0.6585 - val_accuracy: 0.6064\n",
      "Epoch 4-4/5\n",
      "1584/1584 [==============================] - 1272s 802ms/step - loss: 0.6583 - accuracy: 0.6060 - val_loss: 0.6580 - val_accuracy: 0.6074\n",
      "Epoch 5-1/5\n",
      "2586/2586 [==============================] - 1951s 754ms/step - loss: 0.6581 - accuracy: 0.6060 - val_loss: 0.6579 - val_accuracy: 0.6078\n",
      "Epoch 5-2/5\n",
      "2503/2503 [==============================] - 1933s 772ms/step - loss: 0.6585 - accuracy: 0.6052 - val_loss: 0.6572 - val_accuracy: 0.6087\n",
      "Epoch 5-3/5\n",
      "2567/2567 [==============================] - 1987s 774ms/step - loss: 0.6578 - accuracy: 0.6062 - val_loss: 0.6567 - val_accuracy: 0.6088\n",
      "Epoch 5-4/5\n",
      "1584/1584 [==============================] - 1291s 814ms/step - loss: 0.6571 - accuracy: 0.6073 - val_loss: 0.6563 - val_accuracy: 0.6095\n"
     ]
    },
    {
     "name": "stderr",
     "output_type": "stream",
     "text": [
      "WARNING:absl:Found untraced functions such as lstm_cell_layer_call_fn, lstm_cell_layer_call_and_return_conditional_losses, lstm_cell_1_layer_call_fn, lstm_cell_1_layer_call_and_return_conditional_losses, lstm_cell_layer_call_fn while saving (showing 5 of 10). These functions will not be directly callable after loading.\n",
      "WARNING:absl:<keras.layers.recurrent.LSTMCell object at 0x0000024B0A0BACA0> has the same name 'LSTMCell' as a built-in Keras object. Consider renaming <class 'keras.layers.recurrent.LSTMCell'> to avoid naming conflicts when loading with `tf.keras.models.load_model`. If renaming is not possible, pass the object in the `custom_objects` parameter of the load function.\n",
      "WARNING:absl:<keras.layers.recurrent.LSTMCell object at 0x0000024BDB150D30> has the same name 'LSTMCell' as a built-in Keras object. Consider renaming <class 'keras.layers.recurrent.LSTMCell'> to avoid naming conflicts when loading with `tf.keras.models.load_model`. If renaming is not possible, pass the object in the `custom_objects` parameter of the load function.\n"
     ]
    }
   ],
   "source": [
    "# Train: `slice_from_beginning`=True\n",
    "train_gen = core.load_dataset_wsd(slice_from_beginning=True, ROOT_PATH=DB_ROOT_PATH, db_ver=db_ver, constituent_limits=constituent_limits, id_constituent=id_constituent, batch_size=batch_size, shuffle_buffer_size=shuffle_buffer_size, seed=0, generator=generator, model_no=model_no)\n",
    "# Validation: `slice_from_beginning`=False. constituent_limits in validation is always 0 (focus on idx performance progression only)\n",
    "validation_gen = core.load_dataset_wsd(slice_from_beginning=False, ROOT_PATH=DB_ROOT_PATH, db_ver=db_ver, constituent_limits=0, id_constituent=id_constituent, batch_size=batch_size, shuffle_buffer_size=shuffle_buffer_size, seed=0, generator=generator, model_no=model_no)\n",
    "\n",
    "# Load model backbone\n",
    "model = core.model_switcher_preloaded(model_no, version=version)\n",
    "if type(train_gen) == list:\n",
    "    for epoch in range(epochs):\n",
    "        for i, tg in enumerate(train_gen):\n",
    "            print(f'Epoch {epoch+1}-{i+1}/{epochs}')\n",
    "            history = model.fit(tg, validation_data=validation_gen, epochs=1, verbose=1)\n",
    "elif type(train_gen) != list:\n",
    "    history = model.fit(train_gen, validation_data=validation_gen, epochs=epochs, verbose=1)\n",
    "\n",
    "save_path = core.os.path.join(ROOT_PATH, f'models/preloaded/{iter_id}/')\n",
    "model.save_weights(f'{save_path}/weights/checkpoint')\n",
    "model.save(f'{save_path}/model')\n",
    "\n",
    "with open(f'{save_path}/history.json', 'w') as f:\n",
    "    core.json.dump(history.history, f)"
   ]
  },
  {
   "cell_type": "code",
   "execution_count": 3,
   "id": "7ebb4c9d-3ea7-40db-af69-bfa411cb8ed5",
   "metadata": {},
   "outputs": [],
   "source": [
    "model_base_id = '327'\n",
    "version = '4'\n",
    "model_no = model_base_id\n",
    "constituent_limits = 0.3\n",
    "id_constituent = 1\n",
    "min_vid_constituents = 0.1\n",
    "epochs = 10\n",
    "batch_size = 512\n",
    "iter_id = f'model-{model_no}-{version}_constituentlimits-{constituent_limits}_idconstituent-{id_constituent}_minvidconstituents-{min_vid_constituents}_epochs-{epochs}_batchsize-{batch_size}_2'\n",
    "ROOT_PATH='./'\n",
    "DB_ROOT_PATH='J:\\#PROJECT\\idx'\n",
    "db_ver = '8'\n",
    "\n",
    "shuffle_buffer_size = 1\n",
    "generator=True"
   ]
  },
  {
   "cell_type": "code",
   "execution_count": null,
   "id": "231855f9-c985-48f6-b7eb-a47a9502815a",
   "metadata": {},
   "outputs": [
    {
     "name": "stdout",
     "output_type": "stream",
     "text": [
      "Total constituents: 9857\n",
      "Total constituents: 422\n",
      "Epoch 1-1/10\n",
      "5098/5098 [==============================] - 3282s 642ms/step - loss: 0.6712 - accuracy: 0.5891 - val_loss: 0.6602 - val_accuracy: 0.6056\n",
      "Epoch 1-2/10\n",
      "5280/5280 [==============================] - 3577s 677ms/step - loss: 0.6560 - accuracy: 0.6098 - val_loss: 0.6670 - val_accuracy: 0.6012\n",
      "Epoch 1-3/10\n",
      "5260/5260 [==============================] - 3339s 635ms/step - loss: 0.6541 - accuracy: 0.6105 - val_loss: 0.6563 - val_accuracy: 0.6121\n",
      "Epoch 1-4/10\n",
      "5105/5105 [==============================] - 3156s 618ms/step - loss: 0.6542 - accuracy: 0.6106 - val_loss: 0.6640 - val_accuracy: 0.5972\n",
      "Epoch 1-5/10\n",
      "5168/5168 [==============================] - 3210s 621ms/step - loss: 0.6515 - accuracy: 0.6131 - val_loss: 0.6669 - val_accuracy: 0.5859\n",
      "Epoch 1-6/10\n",
      "    544/Unknown - 326s 598ms/step - loss: 0.6481 - accuracy: 0.6161"
     ]
    }
   ],
   "source": [
    "# Train: `slice_from_beginning`=True\n",
    "train_gen = core.load_dataset_wsd(slice_from_beginning=True, ROOT_PATH=DB_ROOT_PATH, db_ver=db_ver, constituent_limits=constituent_limits, id_constituent=id_constituent, batch_size=batch_size, shuffle_buffer_size=shuffle_buffer_size, seed=0, generator=generator, model_no=model_no, min_vid_constituents=min_vid_constituents)\n",
    "# Validation: `slice_from_beginning`=False. constituent_limits in validation is always 0 (focus on idx performance progression only)\n",
    "validation_gen = core.load_dataset_wsd(slice_from_beginning=False, ROOT_PATH=DB_ROOT_PATH, db_ver=db_ver, constituent_limits=0, id_constituent=id_constituent, batch_size=batch_size, shuffle_buffer_size=shuffle_buffer_size, seed=0, generator=generator, model_no=model_no, min_vid_constituents=min_vid_constituents)\n",
    "\n",
    "# Load model backbone\n",
    "model = core.model_switcher_preloaded(model_no, version=version)\n",
    "if type(train_gen) == list:\n",
    "    for epoch in range(epochs):\n",
    "        for i, tg in enumerate(train_gen):\n",
    "            print(f'Epoch {epoch+1}-{i+1}/{epochs}')\n",
    "            history = model.fit(tg, validation_data=validation_gen, epochs=1, verbose=1)\n",
    "elif type(train_gen) != list:\n",
    "    history = model.fit(train_gen, validation_data=validation_gen, epochs=epochs, verbose=1)\n",
    "\n",
    "save_path = core.os.path.join(ROOT_PATH, f'models/preloaded/{iter_id}/')\n",
    "model.save_weights(f'{save_path}/weights/checkpoint')\n",
    "model.save(f'{save_path}/model')\n",
    "\n",
    "with open(f'{save_path}/history.json', 'w') as f:\n",
    "    core.json.dump(history.history, f)"
   ]
  },
  {
   "cell_type": "code",
   "execution_count": 3,
   "id": "52d63ec2-617f-4996-b520-46c6e8cb1574",
   "metadata": {},
   "outputs": [],
   "source": [
    "model_base_id = '327'\n",
    "version = '5'\n",
    "model_no = model_base_id\n",
    "constituent_limits = 0.05\n",
    "id_constituent = 1\n",
    "min_vid_constituents = 0.1\n",
    "epochs = 10\n",
    "batch_size = 1024\n",
    "iter_id = f'model-{model_no}-{version}_constituentlimits-{constituent_limits}_idconstituent-{id_constituent}_minvidconstituents-{min_vid_constituents}_epochs-{epochs}_batchsize-{batch_size}_2'\n",
    "ROOT_PATH='./'\n",
    "DB_ROOT_PATH='J:\\#PROJECT\\idx'\n",
    "db_ver = '8'\n",
    "\n",
    "shuffle_buffer_size = 1\n",
    "generator=True"
   ]
  },
  {
   "cell_type": "code",
   "execution_count": null,
   "id": "4ea9e91c-05cb-488e-8747-68d6f68b0beb",
   "metadata": {},
   "outputs": [
    {
     "name": "stdout",
     "output_type": "stream",
     "text": [
      "Total constituents: 1893\n",
      "Total constituents: 422\n",
      "Epoch 1-1/10\n",
      "2472/2472 [==============================] - 3498s 1s/step - loss: 0.7903 - accuracy: 0.5165 - val_loss: 0.7227 - val_accuracy: 0.5275\n",
      "Epoch 1-2/10\n"
     ]
    }
   ],
   "source": [
    "# Train: `slice_from_beginning`=True\n",
    "train_gen = core.load_dataset_wsd(slice_from_beginning=True, ROOT_PATH=DB_ROOT_PATH, db_ver=db_ver, constituent_limits=constituent_limits, id_constituent=id_constituent, batch_size=batch_size, shuffle_buffer_size=shuffle_buffer_size, seed=0, generator=generator, model_no=model_no, min_vid_constituents=min_vid_constituents)\n",
    "# Validation: `slice_from_beginning`=False. constituent_limits in validation is always 0 (focus on idx performance progression only)\n",
    "validation_gen = core.load_dataset_wsd(slice_from_beginning=False, ROOT_PATH=DB_ROOT_PATH, db_ver=db_ver, constituent_limits=0, id_constituent=id_constituent, batch_size=batch_size, shuffle_buffer_size=shuffle_buffer_size, seed=0, generator=generator, model_no=model_no, min_vid_constituents=min_vid_constituents)\n",
    "\n",
    "# Load model backbone\n",
    "model = core.model_switcher_preloaded(model_no, version=version)\n",
    "if type(train_gen) == list:\n",
    "    for epoch in range(epochs):\n",
    "        for i, tg in enumerate(train_gen):\n",
    "            print(f'Epoch {epoch+1}-{i+1}/{epochs}')\n",
    "            history = model.fit(tg, validation_data=validation_gen, epochs=1, verbose=1)\n",
    "elif type(train_gen) != list:\n",
    "    history = model.fit(train_gen, validation_data=validation_gen, epochs=epochs, verbose=1)\n",
    "\n",
    "save_path = core.os.path.join(ROOT_PATH, f'models/preloaded/{iter_id}/')\n",
    "model.save_weights(f'{save_path}/weights/checkpoint')\n",
    "model.save(f'{save_path}/model')\n",
    "\n",
    "with open(f'{save_path}/history.json', 'w') as f:\n",
    "    core.json.dump(history.history, f)"
   ]
  },
  {
   "cell_type": "code",
   "execution_count": null,
   "id": "9dcee524-3db2-4b14-81a7-3e9a5844fa95",
   "metadata": {},
   "outputs": [],
   "source": []
  },
  {
   "cell_type": "code",
   "execution_count": null,
   "id": "710b2dfd-d269-4ccd-b904-13f4e8784040",
   "metadata": {},
   "outputs": [],
   "source": []
  }
 ],
 "metadata": {
  "kernelspec": {
   "display_name": "Python [conda env:tensorflow]",
   "language": "python",
   "name": "conda-env-tensorflow-py"
  },
  "language_info": {
   "codemirror_mode": {
    "name": "ipython",
    "version": 3
   },
   "file_extension": ".py",
   "mimetype": "text/x-python",
   "name": "python",
   "nbconvert_exporter": "python",
   "pygments_lexer": "ipython3",
   "version": "3.9.7"
  }
 },
 "nbformat": 4,
 "nbformat_minor": 5
}
