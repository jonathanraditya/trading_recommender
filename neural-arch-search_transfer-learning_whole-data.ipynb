{
 "cells": [
  {
   "cell_type": "code",
   "execution_count": 1,
   "id": "07a01ef8-9fb1-457a-ac53-2272fe1bb7b4",
   "metadata": {},
   "outputs": [
    {
     "data": {
      "text/plain": [
       "<module 'coremlv2' from 'C:\\\\Users\\\\Jonathan Raditya\\\\documents\\\\#PROJECT\\\\idx\\\\coremlv2.py'>"
      ]
     },
     "execution_count": 1,
     "metadata": {},
     "output_type": "execute_result"
    }
   ],
   "source": [
    "import coremlv2 as core\n",
    "core._init_ml()\n",
    "core.os.environ['CUDA_VISIBLE_DEVICES'] = '-1'\n",
    "\n",
    "import copy\n",
    "core.tf.get_logger().setLevel('INFO')\n",
    "\n",
    "import importlib\n",
    "importlib.reload(core)"
   ]
  },
  {
   "cell_type": "code",
   "execution_count": 2,
   "id": "83227805-79a9-41d8-9a85-53b1e310c41d",
   "metadata": {},
   "outputs": [],
   "source": [
    "def set_nontrainable_except_dense(model):\n",
    "    for i, layer in enumerate(model.layers):\n",
    "        if not core.re.search('dense', layer.name):\n",
    "            # print(i, layer.name, ': Set to non-trainable.')\n",
    "            layer.trainable = False\n",
    "            \n",
    "def make_multiple_shot_input(idx_df, df, input_c, recurrent, train_mean, train_std):\n",
    "    '''Make multiple shot input dataset\n",
    "    \n",
    "    Params:\n",
    "        df_idx: idx available trading date\n",
    "        df: dataframe correspond to specified ticker\n",
    "        \n",
    "    Returns:\n",
    "        input_array\n",
    "        available_date\n",
    "    '''\n",
    "    available_date = []\n",
    "    first = True\n",
    "    for i, selected_date in enumerate(idx_df['time']):\n",
    "        try:\n",
    "            sel_input_index = df.loc[df['time'] == selected_date].index[0]\n",
    "        except IndexError:\n",
    "            continue\n",
    "\n",
    "        available_date.append(selected_date)\n",
    "\n",
    "        # Structure and normalize 1-shot input data\n",
    "        input_data = (df[sel_input_index - recurrent + 1: sel_input_index + 1][input_c] - train_mean) / train_std\n",
    "        input_data_np = input_data.to_numpy()\n",
    "        input_data_np = input_data_np.reshape(1, input_data_np.shape[0], input_data_np.shape[1])\n",
    "\n",
    "        if first:\n",
    "            multiple_shot_input_data = copy.deepcopy(input_data_np)\n",
    "            first = False\n",
    "        else:\n",
    "            multiple_shot_input_data = core.np.vstack((multiple_shot_input_data, input_data_np))\n",
    "    return multiple_shot_input_data, available_date"
   ]
  },
  {
   "cell_type": "markdown",
   "id": "03494cb6-097e-4197-95f7-429ea3d25dd5",
   "metadata": {},
   "source": [
    "# Trying to train from database the column have been selected through 'correlation test'\n",
    "Result: actually the performance very bad"
   ]
  },
  {
   "cell_type": "code",
   "execution_count": null,
   "id": "308c1e89-fa4e-4184-868c-982f450b5063",
   "metadata": {
    "tags": []
   },
   "outputs": [],
   "source": [
    "# INFO: Ater trying to build dnn over this dataset, it found\n",
    "# that even at baseline (LSTM+D+D) the model still hover\n",
    "# at 0.3631 huber_loss. Possible dataset fault.\n",
    "ticker = 'BBCA'\n",
    "db_ver = '3'\n",
    "DB_ROOT_PATH = f'{ROOT_PATH}db/v{db_ver}/'\n",
    "v2_db = f'{DB_ROOT_PATH}idx_{ticker}.db'\n",
    "v2_db_conn = core.sqlite3.connect(v2_db)\n",
    "\n",
    "df = core.restore_splitdf(v2_db_conn)\n",
    "df = df.fillna(0)"
   ]
  },
  {
   "cell_type": "code",
   "execution_count": null,
   "id": "52821fe9-6b06-48bb-bb00-3f2ec3b51744",
   "metadata": {},
   "outputs": [],
   "source": [
    "epochs = 10\n",
    "\n",
    "coremlv2.tf.keras.backend.clear_session()\n",
    "model = model_132(recurrent, train_df_input)\n",
    "history = model.fit(train_dataset, validation_data=test_dataset, epochs=epochs, verbose=1)\n",
    "\n",
    "model.summary()"
   ]
  },
  {
   "cell_type": "markdown",
   "id": "1b0b48ad-db32-4c4b-87bb-f924626e961e",
   "metadata": {},
   "source": [
    "# Aim: get best val performance: simple model\n",
    "Result: this is the current best possible way to construct the model"
   ]
  },
  {
   "cell_type": "code",
   "execution_count": 316,
   "id": "dcb03c70-c2be-42da-9546-22e8c0818096",
   "metadata": {},
   "outputs": [],
   "source": [
    "# Bring back simple dataset with 70+ features\n",
    "# and find the best possible architecture.\n",
    "# Build up additional features based on \n",
    "# performance of this benchmark dataset.\n",
    "\n",
    "# After digging a little more, it turns out that\n",
    "# `candle*` single handedly worsening the performance.\n",
    "ticker = 'PGAS'\n",
    "ROOT_PATH = './'\n",
    "DB_PATH = f'{ROOT_PATH}idx_indicators.db'\n",
    "db_conn = core.sqlite3.connect(DB_PATH)\n",
    "df = core.pd.read_sql(f'select * from {ticker}', db_conn)\n",
    "df = df.fillna(0)\n",
    "df = df[-500:] # select data from last 5 years (5*250td)\n",
    "df = df.reset_index(drop=True)"
   ]
  },
  {
   "cell_type": "code",
   "execution_count": 317,
   "id": "19e20eff-5b1e-4f06-8847-f152645f3583",
   "metadata": {},
   "outputs": [],
   "source": [
    "recurrent = 5\n",
    "label_column = 'close_EMA3_G_s2'\n",
    "\n",
    "train_df, test_df, train_mean, train_std = core.split_traintest(df, split=0.8)\n",
    "train_df_input = core.drop_unallowed_columns(train_df)\n",
    "test_df_input = core.drop_unallowed_columns(test_df)\n",
    "\n",
    "input_c = [column for column in train_df_input.columns if column != label_column]\n",
    "\n",
    "train_dataset = core.TimeseriesGenerator(train_df[input_c], train_df[label_column], length=recurrent, batch_size=128, shuffle=False)\n",
    "test_dataset = core.TimeseriesGenerator(test_df[input_c], test_df[label_column], length=recurrent, batch_size=128)"
   ]
  },
  {
   "cell_type": "code",
   "execution_count": null,
   "id": "efa22fd9-2032-45cf-b2e1-e7516b0589f1",
   "metadata": {},
   "outputs": [],
   "source": [
    "epochs = 20\n",
    "\n",
    "core.tf.keras.backend.clear_session()\n",
    "model = core.model_switcher('188', recurrent, train_df_input)\n",
    "model.summary()\n",
    "\n",
    "history = model.fit(train_dataset, validation_data=test_dataset, epochs=epochs, verbose=1)"
   ]
  },
  {
   "cell_type": "markdown",
   "id": "00fd6e12-5099-4c33-9b9e-ed137350315f",
   "metadata": {},
   "source": [
    "# Try transfer learning from whole idx data by freezing conv and recurrent layer\n",
    "Result: Work well enough"
   ]
  },
  {
   "cell_type": "code",
   "execution_count": 40,
   "id": "ac4d239c-b7c8-469a-9dcc-861e1f558061",
   "metadata": {},
   "outputs": [],
   "source": [
    "# Bring back simple dataset with 70+ features\n",
    "# and find the best possible architecture.\n",
    "# Build up additional features based on \n",
    "# performance of this benchmark dataset.\n",
    "\n",
    "# After digging a little more, it turns out that\n",
    "# `candle*` single handedly worsening the performance.\n",
    "ticker = 'BBCA'\n",
    "ROOT_PATH = './'\n",
    "DB_PATH = f'{ROOT_PATH}idx_indicators.db'\n",
    "db_conn = core.sqlite3.connect(DB_PATH)\n",
    "df = core.pd.read_sql(f'select * from {ticker}', db_conn)\n",
    "df = df.fillna(0)\n",
    "df = df[-500:] # select data from last 5 years (5*250td)\n",
    "df = df.reset_index(drop=True)"
   ]
  },
  {
   "cell_type": "code",
   "execution_count": 41,
   "id": "da3d9517-9cc6-4af2-836f-0885ed44351f",
   "metadata": {},
   "outputs": [
    {
     "name": "stdout",
     "output_type": "stream",
     "text": [
      "0 conv1d : Set to non-trainable.\n",
      "1 lstm : Set to non-trainable.\n",
      "Model: \"sequential\"\n",
      "_________________________________________________________________\n",
      " Layer (type)                Output Shape              Param #   \n",
      "=================================================================\n",
      " conv1d (Conv1D)             (None, 5, 32)             6176      \n",
      "                                                                 \n",
      " lstm (LSTM)                 (None, 1000)              4132000   \n",
      "                                                                 \n",
      " dense (Dense)               (None, 32)                32032     \n",
      "                                                                 \n",
      " dense_1 (Dense)             (None, 8)                 264       \n",
      "                                                                 \n",
      " dense_2 (Dense)             (None, 1)                 9         \n",
      "                                                                 \n",
      "=================================================================\n",
      "Total params: 4,170,481\n",
      "Trainable params: 32,305\n",
      "Non-trainable params: 4,138,176\n",
      "_________________________________________________________________\n"
     ]
    }
   ],
   "source": [
    "label_column = 'close_EMA3_G_s2'\n",
    "ROOT_PATH = core.os.path.join('./')\n",
    "interim_model = core.os.path.join(ROOT_PATH, 'models/explore_idx/v2/interim/model/')\n",
    "model_path = core.os.path.join(interim_model, label_column)\n",
    "model = core.tf.keras.models.load_model(model_path)\n",
    "set_nontrainable_except_dense(model)\n",
    "\n",
    "recurrent = model.layers[0].output.shape[1]\n",
    "model.summary()"
   ]
  },
  {
   "cell_type": "code",
   "execution_count": 43,
   "id": "a089cdb2-ccf5-4a82-8a75-779845becfde",
   "metadata": {},
   "outputs": [
    {
     "name": "stdout",
     "output_type": "stream",
     "text": [
      "Epoch 1/2\n",
      "4/4 [==============================] - 4s 417ms/step - loss: 0.3279 - mean_squared_error: 0.8346 - root_mean_squared_error: 0.9136 - val_loss: 0.2325 - val_mean_squared_error: 0.5786 - val_root_mean_squared_error: 0.7607\n",
      "Epoch 2/2\n",
      "4/4 [==============================] - 1s 164ms/step - loss: 0.3198 - mean_squared_error: 0.8113 - root_mean_squared_error: 0.9007 - val_loss: 0.2355 - val_mean_squared_error: 0.5883 - val_root_mean_squared_error: 0.7670\n"
     ]
    }
   ],
   "source": [
    "train_df, test_df, train_mean, train_std = core.split_traintest(df, split=0.8)\n",
    "train_df_input = core.drop_unallowed_columns(train_df)\n",
    "test_df_input = core.drop_unallowed_columns(test_df)\n",
    "\n",
    "input_c = [column for column in train_df_input.columns if column != label_column]\n",
    "\n",
    "train_dataset = core.TimeseriesGenerator(train_df[input_c], train_df[label_column], length=recurrent, batch_size=128, shuffle=False)\n",
    "test_dataset = core.TimeseriesGenerator(test_df[input_c], test_df[label_column], length=recurrent, batch_size=128)\n",
    "\n",
    "epochs = 2\n",
    "\n",
    "history = model.fit(train_dataset, validation_data=test_dataset, epochs=epochs, verbose=1)"
   ]
  },
  {
   "cell_type": "markdown",
   "id": "fb1d8244-43f5-401e-a25c-65cdb38df0b8",
   "metadata": {},
   "source": [
    "# Try to run whole data training in pc\n",
    "Result: Not possible with current computing power. There are 4 columns, for each column @10 epochs it getting about 15hrs, without prior knowledge that this method would work."
   ]
  },
  {
   "cell_type": "code",
   "execution_count": 8,
   "id": "6889a040-d4e9-4762-aabb-0765d5bbebdd",
   "metadata": {},
   "outputs": [],
   "source": [
    "# Using whole idx data to perform universal training\n",
    "# After the train has finished, freeze all layers\n",
    "# up to RNN, and replace the dense. \n",
    "# Retrain using last 5 years data every stock in idx\n",
    "ROOT_PATH = './'\n",
    "DB_PATH = f'{ROOT_PATH}idx_merges.db'\n",
    "db_conn = coremlv2.sqlite3.connect(DB_PATH)\n",
    "df = coremlv2.pd.read_sql(f'select * from idx', db_conn)\n",
    "df = df.fillna(0)"
   ]
  },
  {
   "cell_type": "code",
   "execution_count": null,
   "id": "5c2c44db-31bf-422f-a12a-b232a7f8d1d1",
   "metadata": {},
   "outputs": [],
   "source": [
    "# Model Engineering\n",
    "label_column = 'close_EMA3_G_s2'\n",
    "label_columns = ['close_EMA3_G_s1','close_EMA10_G_s2','close_EMA3_G_s2','close_EMA10_G_s1']\n",
    "recurrent = 60\n",
    "\n",
    "train_df, test_df, train_mean, train_std = coremlv2.split_traintest(df, split=0.8)\n",
    "train_df_input = drop_unallowed_columns(train_df)\n",
    "test_df_input = drop_unallowed_columns(test_df)\n",
    "\n",
    "input_c = [column for column in train_df_input.columns if column != label_column]\n",
    "\n",
    "epochs = 10\n",
    "model = model_132(recurrent, train_df_input)\n",
    "histories = []\n",
    "for label_column in label_columns:\n",
    "    coremlv2.tf.keras.backend.clear_session()\n",
    "    train_dataset = coremlv2.TimeseriesGenerator(train_df[input_c], train_df[label_column], length=recurrent, batch_size=64, shuffle=False)\n",
    "    test_dataset = coremlv2.TimeseriesGenerator(test_df[input_c], test_df[label_column], length=recurrent, batch_size=64)\n",
    "    history = model.fit(train_dataset, validation_data=test_dataset, epochs=epochs, verbose=1)\n",
    "    histories.append(history)"
   ]
  },
  {
   "cell_type": "markdown",
   "id": "518faab7-aab4-4f3f-a8d6-bfe1a107f23b",
   "metadata": {
    "tags": []
   },
   "source": [
    "# Try transfer learning at scale\n",
    "Freezing conv and recurrent layer\n",
    "\n",
    "retrain v2:\n",
    "- fix train output mean/std yang belum diganti referensinya ke label_column\n",
    "- change mkdir -> makedirs\n",
    "- perbaikan timpa predicted value (yang harusnya observed_date)"
   ]
  },
  {
   "cell_type": "code",
   "execution_count": 13,
   "id": "560cef10-3edb-4a91-a151-5febe3a6277b",
   "metadata": {},
   "outputs": [
    {
     "name": "stderr",
     "output_type": "stream",
     "text": [
      "WARNING:absl:Found untraced functions such as lstm_cell_5_layer_call_fn, lstm_cell_5_layer_call_and_return_conditional_losses, lstm_cell_5_layer_call_fn, lstm_cell_5_layer_call_and_return_conditional_losses, lstm_cell_5_layer_call_and_return_conditional_losses while saving (showing 5 of 5). These functions will not be directly callable after loading.\n"
     ]
    },
    {
     "name": "stdout",
     "output_type": "stream",
     "text": [
      "INFO:tensorflow:Assets written to: ./models/explore_idx/v2/retrained/v2/model/BBRI/close_EMA3_G_s2/assets\n"
     ]
    },
    {
     "name": "stderr",
     "output_type": "stream",
     "text": [
      "INFO:tensorflow:Assets written to: ./models/explore_idx/v2/retrained/v2/model/BBRI/close_EMA3_G_s2/assets\n",
      "WARNING:absl:<keras.layers.recurrent.LSTMCell object at 0x0000012683318880> has the same name 'LSTMCell' as a built-in Keras object. Consider renaming <class 'keras.layers.recurrent.LSTMCell'> to avoid naming conflicts when loading with `tf.keras.models.load_model`. If renaming is not possible, pass the object in the `custom_objects` parameter of the load function.\n"
     ]
    },
    {
     "name": "stdout",
     "output_type": "stream",
     "text": [
      "Current progress: 1/300 BBRI close_EMA3_G_s2, time: 0:00:32.319024\n"
     ]
    },
    {
     "name": "stderr",
     "output_type": "stream",
     "text": [
      "WARNING:absl:Found untraced functions such as lstm_cell_6_layer_call_fn, lstm_cell_6_layer_call_and_return_conditional_losses, lstm_cell_6_layer_call_fn, lstm_cell_6_layer_call_and_return_conditional_losses, lstm_cell_6_layer_call_and_return_conditional_losses while saving (showing 5 of 5). These functions will not be directly callable after loading.\n"
     ]
    },
    {
     "name": "stdout",
     "output_type": "stream",
     "text": [
      "INFO:tensorflow:Assets written to: ./models/explore_idx/v2/retrained/v2/model/BBRI/close_EMA3_G_s1/assets\n"
     ]
    },
    {
     "name": "stderr",
     "output_type": "stream",
     "text": [
      "INFO:tensorflow:Assets written to: ./models/explore_idx/v2/retrained/v2/model/BBRI/close_EMA3_G_s1/assets\n",
      "WARNING:absl:<keras.layers.recurrent.LSTMCell object at 0x00000126F3087E80> has the same name 'LSTMCell' as a built-in Keras object. Consider renaming <class 'keras.layers.recurrent.LSTMCell'> to avoid naming conflicts when loading with `tf.keras.models.load_model`. If renaming is not possible, pass the object in the `custom_objects` parameter of the load function.\n"
     ]
    },
    {
     "name": "stdout",
     "output_type": "stream",
     "text": [
      "Current progress: 2/300 BBRI close_EMA3_G_s1, time: 0:00:32.340084\n"
     ]
    },
    {
     "name": "stderr",
     "output_type": "stream",
     "text": [
      "WARNING:absl:Found untraced functions such as lstm_cell_7_layer_call_fn, lstm_cell_7_layer_call_and_return_conditional_losses, lstm_cell_7_layer_call_fn, lstm_cell_7_layer_call_and_return_conditional_losses, lstm_cell_7_layer_call_and_return_conditional_losses while saving (showing 5 of 5). These functions will not be directly callable after loading.\n"
     ]
    },
    {
     "name": "stdout",
     "output_type": "stream",
     "text": [
      "INFO:tensorflow:Assets written to: ./models/explore_idx/v2/retrained/v2/model/BBRI/close_EMA10_G_s2/assets\n"
     ]
    },
    {
     "name": "stderr",
     "output_type": "stream",
     "text": [
      "INFO:tensorflow:Assets written to: ./models/explore_idx/v2/retrained/v2/model/BBRI/close_EMA10_G_s2/assets\n",
      "WARNING:absl:<keras.layers.recurrent.LSTMCell object at 0x00000126903D3B50> has the same name 'LSTMCell' as a built-in Keras object. Consider renaming <class 'keras.layers.recurrent.LSTMCell'> to avoid naming conflicts when loading with `tf.keras.models.load_model`. If renaming is not possible, pass the object in the `custom_objects` parameter of the load function.\n"
     ]
    },
    {
     "name": "stdout",
     "output_type": "stream",
     "text": [
      "Current progress: 3/300 BBRI close_EMA10_G_s2, time: 0:00:32.446896\n"
     ]
    },
    {
     "name": "stderr",
     "output_type": "stream",
     "text": [
      "WARNING:absl:Found untraced functions such as lstm_cell_8_layer_call_fn, lstm_cell_8_layer_call_and_return_conditional_losses, lstm_cell_8_layer_call_fn, lstm_cell_8_layer_call_and_return_conditional_losses, lstm_cell_8_layer_call_and_return_conditional_losses while saving (showing 5 of 5). These functions will not be directly callable after loading.\n"
     ]
    },
    {
     "name": "stdout",
     "output_type": "stream",
     "text": [
      "INFO:tensorflow:Assets written to: ./models/explore_idx/v2/retrained/v2/model/BUMI/close_EMA3_G_s2/assets\n"
     ]
    },
    {
     "name": "stderr",
     "output_type": "stream",
     "text": [
      "INFO:tensorflow:Assets written to: ./models/explore_idx/v2/retrained/v2/model/BUMI/close_EMA3_G_s2/assets\n",
      "WARNING:absl:<keras.layers.recurrent.LSTMCell object at 0x0000012687998760> has the same name 'LSTMCell' as a built-in Keras object. Consider renaming <class 'keras.layers.recurrent.LSTMCell'> to avoid naming conflicts when loading with `tf.keras.models.load_model`. If renaming is not possible, pass the object in the `custom_objects` parameter of the load function.\n"
     ]
    },
    {
     "name": "stdout",
     "output_type": "stream",
     "text": [
      "Current progress: 4/300 BUMI close_EMA3_G_s2, time: 0:00:32.278085\n"
     ]
    },
    {
     "name": "stderr",
     "output_type": "stream",
     "text": [
      "WARNING:absl:Found untraced functions such as lstm_cell_9_layer_call_fn, lstm_cell_9_layer_call_and_return_conditional_losses, lstm_cell_9_layer_call_fn, lstm_cell_9_layer_call_and_return_conditional_losses, lstm_cell_9_layer_call_and_return_conditional_losses while saving (showing 5 of 5). These functions will not be directly callable after loading.\n"
     ]
    },
    {
     "name": "stdout",
     "output_type": "stream",
     "text": [
      "INFO:tensorflow:Assets written to: ./models/explore_idx/v2/retrained/v2/model/BUMI/close_EMA3_G_s1/assets\n"
     ]
    },
    {
     "name": "stderr",
     "output_type": "stream",
     "text": [
      "INFO:tensorflow:Assets written to: ./models/explore_idx/v2/retrained/v2/model/BUMI/close_EMA3_G_s1/assets\n",
      "WARNING:absl:<keras.layers.recurrent.LSTMCell object at 0x00000126F7439E50> has the same name 'LSTMCell' as a built-in Keras object. Consider renaming <class 'keras.layers.recurrent.LSTMCell'> to avoid naming conflicts when loading with `tf.keras.models.load_model`. If renaming is not possible, pass the object in the `custom_objects` parameter of the load function.\n"
     ]
    },
    {
     "name": "stdout",
     "output_type": "stream",
     "text": [
      "Current progress: 5/300 BUMI close_EMA3_G_s1, time: 0:00:32.900866\n"
     ]
    },
    {
     "name": "stderr",
     "output_type": "stream",
     "text": [
      "WARNING:absl:Found untraced functions such as lstm_cell_10_layer_call_fn, lstm_cell_10_layer_call_and_return_conditional_losses, lstm_cell_10_layer_call_fn, lstm_cell_10_layer_call_and_return_conditional_losses, lstm_cell_10_layer_call_and_return_conditional_losses while saving (showing 5 of 5). These functions will not be directly callable after loading.\n"
     ]
    },
    {
     "name": "stdout",
     "output_type": "stream",
     "text": [
      "INFO:tensorflow:Assets written to: ./models/explore_idx/v2/retrained/v2/model/BUMI/close_EMA10_G_s2/assets\n"
     ]
    },
    {
     "name": "stderr",
     "output_type": "stream",
     "text": [
      "INFO:tensorflow:Assets written to: ./models/explore_idx/v2/retrained/v2/model/BUMI/close_EMA10_G_s2/assets\n",
      "WARNING:absl:<keras.layers.recurrent.LSTMCell object at 0x00000126F2F9CD60> has the same name 'LSTMCell' as a built-in Keras object. Consider renaming <class 'keras.layers.recurrent.LSTMCell'> to avoid naming conflicts when loading with `tf.keras.models.load_model`. If renaming is not possible, pass the object in the `custom_objects` parameter of the load function.\n"
     ]
    },
    {
     "name": "stdout",
     "output_type": "stream",
     "text": [
      "Current progress: 6/300 BUMI close_EMA10_G_s2, time: 0:00:32.373200\n"
     ]
    },
    {
     "name": "stderr",
     "output_type": "stream",
     "text": [
      "WARNING:absl:Found untraced functions such as lstm_cell_11_layer_call_fn, lstm_cell_11_layer_call_and_return_conditional_losses, lstm_cell_11_layer_call_fn, lstm_cell_11_layer_call_and_return_conditional_losses, lstm_cell_11_layer_call_and_return_conditional_losses while saving (showing 5 of 5). These functions will not be directly callable after loading.\n"
     ]
    },
    {
     "name": "stdout",
     "output_type": "stream",
     "text": [
      "INFO:tensorflow:Assets written to: ./models/explore_idx/v2/retrained/v2/model/ELTY/close_EMA3_G_s2/assets\n"
     ]
    },
    {
     "name": "stderr",
     "output_type": "stream",
     "text": [
      "INFO:tensorflow:Assets written to: ./models/explore_idx/v2/retrained/v2/model/ELTY/close_EMA3_G_s2/assets\n",
      "WARNING:absl:<keras.layers.recurrent.LSTMCell object at 0x00000126F30FDC10> has the same name 'LSTMCell' as a built-in Keras object. Consider renaming <class 'keras.layers.recurrent.LSTMCell'> to avoid naming conflicts when loading with `tf.keras.models.load_model`. If renaming is not possible, pass the object in the `custom_objects` parameter of the load function.\n"
     ]
    },
    {
     "name": "stdout",
     "output_type": "stream",
     "text": [
      "Current progress: 7/300 ELTY close_EMA3_G_s2, time: 0:00:32.536948\n"
     ]
    },
    {
     "name": "stderr",
     "output_type": "stream",
     "text": [
      "WARNING:absl:Found untraced functions such as lstm_cell_12_layer_call_fn, lstm_cell_12_layer_call_and_return_conditional_losses, lstm_cell_12_layer_call_fn, lstm_cell_12_layer_call_and_return_conditional_losses, lstm_cell_12_layer_call_and_return_conditional_losses while saving (showing 5 of 5). These functions will not be directly callable after loading.\n"
     ]
    },
    {
     "name": "stdout",
     "output_type": "stream",
     "text": [
      "INFO:tensorflow:Assets written to: ./models/explore_idx/v2/retrained/v2/model/ELTY/close_EMA3_G_s1/assets\n"
     ]
    },
    {
     "name": "stderr",
     "output_type": "stream",
     "text": [
      "INFO:tensorflow:Assets written to: ./models/explore_idx/v2/retrained/v2/model/ELTY/close_EMA3_G_s1/assets\n",
      "WARNING:absl:<keras.layers.recurrent.LSTMCell object at 0x00000126F19E5D90> has the same name 'LSTMCell' as a built-in Keras object. Consider renaming <class 'keras.layers.recurrent.LSTMCell'> to avoid naming conflicts when loading with `tf.keras.models.load_model`. If renaming is not possible, pass the object in the `custom_objects` parameter of the load function.\n"
     ]
    },
    {
     "name": "stdout",
     "output_type": "stream",
     "text": [
      "Current progress: 8/300 ELTY close_EMA3_G_s1, time: 0:00:32.685204\n"
     ]
    },
    {
     "name": "stderr",
     "output_type": "stream",
     "text": [
      "WARNING:absl:Found untraced functions such as lstm_cell_13_layer_call_fn, lstm_cell_13_layer_call_and_return_conditional_losses, lstm_cell_13_layer_call_fn, lstm_cell_13_layer_call_and_return_conditional_losses, lstm_cell_13_layer_call_and_return_conditional_losses while saving (showing 5 of 5). These functions will not be directly callable after loading.\n"
     ]
    },
    {
     "name": "stdout",
     "output_type": "stream",
     "text": [
      "INFO:tensorflow:Assets written to: ./models/explore_idx/v2/retrained/v2/model/ELTY/close_EMA10_G_s2/assets\n"
     ]
    },
    {
     "name": "stderr",
     "output_type": "stream",
     "text": [
      "INFO:tensorflow:Assets written to: ./models/explore_idx/v2/retrained/v2/model/ELTY/close_EMA10_G_s2/assets\n",
      "WARNING:absl:<keras.layers.recurrent.LSTMCell object at 0x000001268B880D00> has the same name 'LSTMCell' as a built-in Keras object. Consider renaming <class 'keras.layers.recurrent.LSTMCell'> to avoid naming conflicts when loading with `tf.keras.models.load_model`. If renaming is not possible, pass the object in the `custom_objects` parameter of the load function.\n"
     ]
    },
    {
     "name": "stdout",
     "output_type": "stream",
     "text": [
      "Current progress: 9/300 ELTY close_EMA10_G_s2, time: 0:00:33.216161\n"
     ]
    },
    {
     "name": "stderr",
     "output_type": "stream",
     "text": [
      "WARNING:absl:Found untraced functions such as lstm_cell_14_layer_call_fn, lstm_cell_14_layer_call_and_return_conditional_losses, lstm_cell_14_layer_call_fn, lstm_cell_14_layer_call_and_return_conditional_losses, lstm_cell_14_layer_call_and_return_conditional_losses while saving (showing 5 of 5). These functions will not be directly callable after loading.\n"
     ]
    },
    {
     "name": "stdout",
     "output_type": "stream",
     "text": [
      "INFO:tensorflow:Assets written to: ./models/explore_idx/v2/retrained/v2/model/TLKM/close_EMA3_G_s2/assets\n"
     ]
    },
    {
     "name": "stderr",
     "output_type": "stream",
     "text": [
      "INFO:tensorflow:Assets written to: ./models/explore_idx/v2/retrained/v2/model/TLKM/close_EMA3_G_s2/assets\n",
      "WARNING:absl:<keras.layers.recurrent.LSTMCell object at 0x00000126EF831580> has the same name 'LSTMCell' as a built-in Keras object. Consider renaming <class 'keras.layers.recurrent.LSTMCell'> to avoid naming conflicts when loading with `tf.keras.models.load_model`. If renaming is not possible, pass the object in the `custom_objects` parameter of the load function.\n"
     ]
    },
    {
     "name": "stdout",
     "output_type": "stream",
     "text": [
      "Current progress: 10/300 TLKM close_EMA3_G_s2, time: 0:00:32.639774\n"
     ]
    },
    {
     "name": "stderr",
     "output_type": "stream",
     "text": [
      "WARNING:absl:Found untraced functions such as lstm_cell_15_layer_call_fn, lstm_cell_15_layer_call_and_return_conditional_losses, lstm_cell_15_layer_call_fn, lstm_cell_15_layer_call_and_return_conditional_losses, lstm_cell_15_layer_call_and_return_conditional_losses while saving (showing 5 of 5). These functions will not be directly callable after loading.\n"
     ]
    },
    {
     "name": "stdout",
     "output_type": "stream",
     "text": [
      "INFO:tensorflow:Assets written to: ./models/explore_idx/v2/retrained/v2/model/TLKM/close_EMA3_G_s1/assets\n"
     ]
    },
    {
     "name": "stderr",
     "output_type": "stream",
     "text": [
      "INFO:tensorflow:Assets written to: ./models/explore_idx/v2/retrained/v2/model/TLKM/close_EMA3_G_s1/assets\n",
      "WARNING:absl:<keras.layers.recurrent.LSTMCell object at 0x0000012691465400> has the same name 'LSTMCell' as a built-in Keras object. Consider renaming <class 'keras.layers.recurrent.LSTMCell'> to avoid naming conflicts when loading with `tf.keras.models.load_model`. If renaming is not possible, pass the object in the `custom_objects` parameter of the load function.\n"
     ]
    },
    {
     "name": "stdout",
     "output_type": "stream",
     "text": [
      "Current progress: 11/300 TLKM close_EMA3_G_s1, time: 0:00:32.749831\n"
     ]
    },
    {
     "name": "stderr",
     "output_type": "stream",
     "text": [
      "WARNING:absl:Found untraced functions such as lstm_cell_16_layer_call_fn, lstm_cell_16_layer_call_and_return_conditional_losses, lstm_cell_16_layer_call_fn, lstm_cell_16_layer_call_and_return_conditional_losses, lstm_cell_16_layer_call_and_return_conditional_losses while saving (showing 5 of 5). These functions will not be directly callable after loading.\n"
     ]
    },
    {
     "name": "stdout",
     "output_type": "stream",
     "text": [
      "INFO:tensorflow:Assets written to: ./models/explore_idx/v2/retrained/v2/model/TLKM/close_EMA10_G_s2/assets\n"
     ]
    },
    {
     "name": "stderr",
     "output_type": "stream",
     "text": [
      "INFO:tensorflow:Assets written to: ./models/explore_idx/v2/retrained/v2/model/TLKM/close_EMA10_G_s2/assets\n",
      "WARNING:absl:<keras.layers.recurrent.LSTMCell object at 0x000001268AF3E040> has the same name 'LSTMCell' as a built-in Keras object. Consider renaming <class 'keras.layers.recurrent.LSTMCell'> to avoid naming conflicts when loading with `tf.keras.models.load_model`. If renaming is not possible, pass the object in the `custom_objects` parameter of the load function.\n"
     ]
    },
    {
     "name": "stdout",
     "output_type": "stream",
     "text": [
      "Current progress: 12/300 TLKM close_EMA10_G_s2, time: 0:00:32.621450\n"
     ]
    },
    {
     "name": "stderr",
     "output_type": "stream",
     "text": [
      "WARNING:absl:Found untraced functions such as lstm_cell_17_layer_call_fn, lstm_cell_17_layer_call_and_return_conditional_losses, lstm_cell_17_layer_call_fn, lstm_cell_17_layer_call_and_return_conditional_losses, lstm_cell_17_layer_call_and_return_conditional_losses while saving (showing 5 of 5). These functions will not be directly callable after loading.\n"
     ]
    },
    {
     "name": "stdout",
     "output_type": "stream",
     "text": [
      "INFO:tensorflow:Assets written to: ./models/explore_idx/v2/retrained/v2/model/BRPT/close_EMA3_G_s2/assets\n"
     ]
    },
    {
     "name": "stderr",
     "output_type": "stream",
     "text": [
      "INFO:tensorflow:Assets written to: ./models/explore_idx/v2/retrained/v2/model/BRPT/close_EMA3_G_s2/assets\n",
      "WARNING:absl:<keras.layers.recurrent.LSTMCell object at 0x00000126F3204BE0> has the same name 'LSTMCell' as a built-in Keras object. Consider renaming <class 'keras.layers.recurrent.LSTMCell'> to avoid naming conflicts when loading with `tf.keras.models.load_model`. If renaming is not possible, pass the object in the `custom_objects` parameter of the load function.\n"
     ]
    },
    {
     "name": "stdout",
     "output_type": "stream",
     "text": [
      "Current progress: 13/300 BRPT close_EMA3_G_s2, time: 0:00:32.369511\n"
     ]
    },
    {
     "name": "stderr",
     "output_type": "stream",
     "text": [
      "WARNING:absl:Found untraced functions such as lstm_cell_18_layer_call_fn, lstm_cell_18_layer_call_and_return_conditional_losses, lstm_cell_18_layer_call_fn, lstm_cell_18_layer_call_and_return_conditional_losses, lstm_cell_18_layer_call_and_return_conditional_losses while saving (showing 5 of 5). These functions will not be directly callable after loading.\n"
     ]
    },
    {
     "name": "stdout",
     "output_type": "stream",
     "text": [
      "INFO:tensorflow:Assets written to: ./models/explore_idx/v2/retrained/v2/model/BRPT/close_EMA3_G_s1/assets\n"
     ]
    },
    {
     "name": "stderr",
     "output_type": "stream",
     "text": [
      "INFO:tensorflow:Assets written to: ./models/explore_idx/v2/retrained/v2/model/BRPT/close_EMA3_G_s1/assets\n",
      "WARNING:absl:<keras.layers.recurrent.LSTMCell object at 0x0000012689190AC0> has the same name 'LSTMCell' as a built-in Keras object. Consider renaming <class 'keras.layers.recurrent.LSTMCell'> to avoid naming conflicts when loading with `tf.keras.models.load_model`. If renaming is not possible, pass the object in the `custom_objects` parameter of the load function.\n"
     ]
    },
    {
     "name": "stdout",
     "output_type": "stream",
     "text": [
      "Current progress: 14/300 BRPT close_EMA3_G_s1, time: 0:00:32.276553\n"
     ]
    },
    {
     "name": "stderr",
     "output_type": "stream",
     "text": [
      "WARNING:absl:Found untraced functions such as lstm_cell_19_layer_call_fn, lstm_cell_19_layer_call_and_return_conditional_losses, lstm_cell_19_layer_call_fn, lstm_cell_19_layer_call_and_return_conditional_losses, lstm_cell_19_layer_call_and_return_conditional_losses while saving (showing 5 of 5). These functions will not be directly callable after loading.\n"
     ]
    },
    {
     "name": "stdout",
     "output_type": "stream",
     "text": [
      "INFO:tensorflow:Assets written to: ./models/explore_idx/v2/retrained/v2/model/BRPT/close_EMA10_G_s2/assets\n"
     ]
    },
    {
     "name": "stderr",
     "output_type": "stream",
     "text": [
      "INFO:tensorflow:Assets written to: ./models/explore_idx/v2/retrained/v2/model/BRPT/close_EMA10_G_s2/assets\n",
      "WARNING:absl:<keras.layers.recurrent.LSTMCell object at 0x00000126F307C880> has the same name 'LSTMCell' as a built-in Keras object. Consider renaming <class 'keras.layers.recurrent.LSTMCell'> to avoid naming conflicts when loading with `tf.keras.models.load_model`. If renaming is not possible, pass the object in the `custom_objects` parameter of the load function.\n"
     ]
    },
    {
     "name": "stdout",
     "output_type": "stream",
     "text": [
      "Current progress: 15/300 BRPT close_EMA10_G_s2, time: 0:00:33.081508\n"
     ]
    },
    {
     "name": "stderr",
     "output_type": "stream",
     "text": [
      "WARNING:absl:Found untraced functions such as lstm_cell_20_layer_call_fn, lstm_cell_20_layer_call_and_return_conditional_losses, lstm_cell_20_layer_call_fn, lstm_cell_20_layer_call_and_return_conditional_losses, lstm_cell_20_layer_call_and_return_conditional_losses while saving (showing 5 of 5). These functions will not be directly callable after loading.\n"
     ]
    },
    {
     "name": "stdout",
     "output_type": "stream",
     "text": [
      "INFO:tensorflow:Assets written to: ./models/explore_idx/v2/retrained/v2/model/LPKR/close_EMA3_G_s2/assets\n"
     ]
    },
    {
     "name": "stderr",
     "output_type": "stream",
     "text": [
      "INFO:tensorflow:Assets written to: ./models/explore_idx/v2/retrained/v2/model/LPKR/close_EMA3_G_s2/assets\n",
      "WARNING:absl:<keras.layers.recurrent.LSTMCell object at 0x0000012690DEB1C0> has the same name 'LSTMCell' as a built-in Keras object. Consider renaming <class 'keras.layers.recurrent.LSTMCell'> to avoid naming conflicts when loading with `tf.keras.models.load_model`. If renaming is not possible, pass the object in the `custom_objects` parameter of the load function.\n"
     ]
    },
    {
     "name": "stdout",
     "output_type": "stream",
     "text": [
      "Current progress: 16/300 LPKR close_EMA3_G_s2, time: 0:00:31.609242\n"
     ]
    },
    {
     "name": "stderr",
     "output_type": "stream",
     "text": [
      "WARNING:absl:Found untraced functions such as lstm_cell_21_layer_call_fn, lstm_cell_21_layer_call_and_return_conditional_losses, lstm_cell_21_layer_call_fn, lstm_cell_21_layer_call_and_return_conditional_losses, lstm_cell_21_layer_call_and_return_conditional_losses while saving (showing 5 of 5). These functions will not be directly callable after loading.\n"
     ]
    },
    {
     "name": "stdout",
     "output_type": "stream",
     "text": [
      "INFO:tensorflow:Assets written to: ./models/explore_idx/v2/retrained/v2/model/LPKR/close_EMA3_G_s1/assets\n"
     ]
    },
    {
     "name": "stderr",
     "output_type": "stream",
     "text": [
      "INFO:tensorflow:Assets written to: ./models/explore_idx/v2/retrained/v2/model/LPKR/close_EMA3_G_s1/assets\n",
      "WARNING:absl:<keras.layers.recurrent.LSTMCell object at 0x000001269018F1C0> has the same name 'LSTMCell' as a built-in Keras object. Consider renaming <class 'keras.layers.recurrent.LSTMCell'> to avoid naming conflicts when loading with `tf.keras.models.load_model`. If renaming is not possible, pass the object in the `custom_objects` parameter of the load function.\n"
     ]
    },
    {
     "name": "stdout",
     "output_type": "stream",
     "text": [
      "Current progress: 17/300 LPKR close_EMA3_G_s1, time: 0:00:32.672835\n"
     ]
    },
    {
     "name": "stderr",
     "output_type": "stream",
     "text": [
      "WARNING:absl:Found untraced functions such as lstm_cell_22_layer_call_fn, lstm_cell_22_layer_call_and_return_conditional_losses, lstm_cell_22_layer_call_fn, lstm_cell_22_layer_call_and_return_conditional_losses, lstm_cell_22_layer_call_and_return_conditional_losses while saving (showing 5 of 5). These functions will not be directly callable after loading.\n"
     ]
    },
    {
     "name": "stdout",
     "output_type": "stream",
     "text": [
      "INFO:tensorflow:Assets written to: ./models/explore_idx/v2/retrained/v2/model/LPKR/close_EMA10_G_s2/assets\n"
     ]
    },
    {
     "name": "stderr",
     "output_type": "stream",
     "text": [
      "INFO:tensorflow:Assets written to: ./models/explore_idx/v2/retrained/v2/model/LPKR/close_EMA10_G_s2/assets\n",
      "WARNING:absl:<keras.layers.recurrent.LSTMCell object at 0x0000012683170A90> has the same name 'LSTMCell' as a built-in Keras object. Consider renaming <class 'keras.layers.recurrent.LSTMCell'> to avoid naming conflicts when loading with `tf.keras.models.load_model`. If renaming is not possible, pass the object in the `custom_objects` parameter of the load function.\n"
     ]
    },
    {
     "name": "stdout",
     "output_type": "stream",
     "text": [
      "Current progress: 18/300 LPKR close_EMA10_G_s2, time: 0:00:32.479248\n"
     ]
    },
    {
     "name": "stderr",
     "output_type": "stream",
     "text": [
      "WARNING:absl:Found untraced functions such as lstm_cell_23_layer_call_fn, lstm_cell_23_layer_call_and_return_conditional_losses, lstm_cell_23_layer_call_fn, lstm_cell_23_layer_call_and_return_conditional_losses, lstm_cell_23_layer_call_and_return_conditional_losses while saving (showing 5 of 5). These functions will not be directly callable after loading.\n"
     ]
    },
    {
     "name": "stdout",
     "output_type": "stream",
     "text": [
      "INFO:tensorflow:Assets written to: ./models/explore_idx/v2/retrained/v2/model/BKSL/close_EMA3_G_s2/assets\n"
     ]
    },
    {
     "name": "stderr",
     "output_type": "stream",
     "text": [
      "INFO:tensorflow:Assets written to: ./models/explore_idx/v2/retrained/v2/model/BKSL/close_EMA3_G_s2/assets\n",
      "WARNING:absl:<keras.layers.recurrent.LSTMCell object at 0x000001268489A7C0> has the same name 'LSTMCell' as a built-in Keras object. Consider renaming <class 'keras.layers.recurrent.LSTMCell'> to avoid naming conflicts when loading with `tf.keras.models.load_model`. If renaming is not possible, pass the object in the `custom_objects` parameter of the load function.\n"
     ]
    },
    {
     "name": "stdout",
     "output_type": "stream",
     "text": [
      "Current progress: 19/300 BKSL close_EMA3_G_s2, time: 0:00:31.641016\n"
     ]
    },
    {
     "name": "stderr",
     "output_type": "stream",
     "text": [
      "WARNING:absl:Found untraced functions such as lstm_cell_24_layer_call_fn, lstm_cell_24_layer_call_and_return_conditional_losses, lstm_cell_24_layer_call_fn, lstm_cell_24_layer_call_and_return_conditional_losses, lstm_cell_24_layer_call_and_return_conditional_losses while saving (showing 5 of 5). These functions will not be directly callable after loading.\n"
     ]
    },
    {
     "name": "stdout",
     "output_type": "stream",
     "text": [
      "INFO:tensorflow:Assets written to: ./models/explore_idx/v2/retrained/v2/model/BKSL/close_EMA3_G_s1/assets\n"
     ]
    },
    {
     "name": "stderr",
     "output_type": "stream",
     "text": [
      "INFO:tensorflow:Assets written to: ./models/explore_idx/v2/retrained/v2/model/BKSL/close_EMA3_G_s1/assets\n",
      "WARNING:absl:<keras.layers.recurrent.LSTMCell object at 0x00000126F1BD17F0> has the same name 'LSTMCell' as a built-in Keras object. Consider renaming <class 'keras.layers.recurrent.LSTMCell'> to avoid naming conflicts when loading with `tf.keras.models.load_model`. If renaming is not possible, pass the object in the `custom_objects` parameter of the load function.\n"
     ]
    },
    {
     "name": "stdout",
     "output_type": "stream",
     "text": [
      "Current progress: 20/300 BKSL close_EMA3_G_s1, time: 0:00:32.531032\n"
     ]
    },
    {
     "name": "stderr",
     "output_type": "stream",
     "text": [
      "WARNING:absl:Found untraced functions such as lstm_cell_25_layer_call_fn, lstm_cell_25_layer_call_and_return_conditional_losses, lstm_cell_25_layer_call_fn, lstm_cell_25_layer_call_and_return_conditional_losses, lstm_cell_25_layer_call_and_return_conditional_losses while saving (showing 5 of 5). These functions will not be directly callable after loading.\n"
     ]
    },
    {
     "name": "stdout",
     "output_type": "stream",
     "text": [
      "INFO:tensorflow:Assets written to: ./models/explore_idx/v2/retrained/v2/model/BKSL/close_EMA10_G_s2/assets\n"
     ]
    },
    {
     "name": "stderr",
     "output_type": "stream",
     "text": [
      "INFO:tensorflow:Assets written to: ./models/explore_idx/v2/retrained/v2/model/BKSL/close_EMA10_G_s2/assets\n",
      "WARNING:absl:<keras.layers.recurrent.LSTMCell object at 0x000001268322C400> has the same name 'LSTMCell' as a built-in Keras object. Consider renaming <class 'keras.layers.recurrent.LSTMCell'> to avoid naming conflicts when loading with `tf.keras.models.load_model`. If renaming is not possible, pass the object in the `custom_objects` parameter of the load function.\n"
     ]
    },
    {
     "name": "stdout",
     "output_type": "stream",
     "text": [
      "Current progress: 21/300 BKSL close_EMA10_G_s2, time: 0:00:32.620431\n"
     ]
    },
    {
     "name": "stderr",
     "output_type": "stream",
     "text": [
      "WARNING:absl:Found untraced functions such as lstm_cell_26_layer_call_fn, lstm_cell_26_layer_call_and_return_conditional_losses, lstm_cell_26_layer_call_fn, lstm_cell_26_layer_call_and_return_conditional_losses, lstm_cell_26_layer_call_and_return_conditional_losses while saving (showing 5 of 5). These functions will not be directly callable after loading.\n"
     ]
    },
    {
     "name": "stdout",
     "output_type": "stream",
     "text": [
      "INFO:tensorflow:Assets written to: ./models/explore_idx/v2/retrained/v2/model/BMRI/close_EMA3_G_s2/assets\n"
     ]
    },
    {
     "name": "stderr",
     "output_type": "stream",
     "text": [
      "INFO:tensorflow:Assets written to: ./models/explore_idx/v2/retrained/v2/model/BMRI/close_EMA3_G_s2/assets\n",
      "WARNING:absl:<keras.layers.recurrent.LSTMCell object at 0x000001268B150490> has the same name 'LSTMCell' as a built-in Keras object. Consider renaming <class 'keras.layers.recurrent.LSTMCell'> to avoid naming conflicts when loading with `tf.keras.models.load_model`. If renaming is not possible, pass the object in the `custom_objects` parameter of the load function.\n"
     ]
    },
    {
     "name": "stdout",
     "output_type": "stream",
     "text": [
      "Current progress: 22/300 BMRI close_EMA3_G_s2, time: 0:00:32.122923\n"
     ]
    },
    {
     "name": "stderr",
     "output_type": "stream",
     "text": [
      "WARNING:absl:Found untraced functions such as lstm_cell_27_layer_call_fn, lstm_cell_27_layer_call_and_return_conditional_losses, lstm_cell_27_layer_call_fn, lstm_cell_27_layer_call_and_return_conditional_losses, lstm_cell_27_layer_call_and_return_conditional_losses while saving (showing 5 of 5). These functions will not be directly callable after loading.\n"
     ]
    },
    {
     "name": "stdout",
     "output_type": "stream",
     "text": [
      "INFO:tensorflow:Assets written to: ./models/explore_idx/v2/retrained/v2/model/BMRI/close_EMA3_G_s1/assets\n"
     ]
    },
    {
     "name": "stderr",
     "output_type": "stream",
     "text": [
      "INFO:tensorflow:Assets written to: ./models/explore_idx/v2/retrained/v2/model/BMRI/close_EMA3_G_s1/assets\n",
      "WARNING:absl:<keras.layers.recurrent.LSTMCell object at 0x000001268AA82B50> has the same name 'LSTMCell' as a built-in Keras object. Consider renaming <class 'keras.layers.recurrent.LSTMCell'> to avoid naming conflicts when loading with `tf.keras.models.load_model`. If renaming is not possible, pass the object in the `custom_objects` parameter of the load function.\n"
     ]
    },
    {
     "name": "stdout",
     "output_type": "stream",
     "text": [
      "Current progress: 23/300 BMRI close_EMA3_G_s1, time: 0:00:31.654043\n"
     ]
    },
    {
     "name": "stderr",
     "output_type": "stream",
     "text": [
      "WARNING:absl:Found untraced functions such as lstm_cell_28_layer_call_fn, lstm_cell_28_layer_call_and_return_conditional_losses, lstm_cell_28_layer_call_fn, lstm_cell_28_layer_call_and_return_conditional_losses, lstm_cell_28_layer_call_and_return_conditional_losses while saving (showing 5 of 5). These functions will not be directly callable after loading.\n"
     ]
    },
    {
     "name": "stdout",
     "output_type": "stream",
     "text": [
      "INFO:tensorflow:Assets written to: ./models/explore_idx/v2/retrained/v2/model/BMRI/close_EMA10_G_s2/assets\n"
     ]
    },
    {
     "name": "stderr",
     "output_type": "stream",
     "text": [
      "INFO:tensorflow:Assets written to: ./models/explore_idx/v2/retrained/v2/model/BMRI/close_EMA10_G_s2/assets\n",
      "WARNING:absl:<keras.layers.recurrent.LSTMCell object at 0x0000012699DDC8B0> has the same name 'LSTMCell' as a built-in Keras object. Consider renaming <class 'keras.layers.recurrent.LSTMCell'> to avoid naming conflicts when loading with `tf.keras.models.load_model`. If renaming is not possible, pass the object in the `custom_objects` parameter of the load function.\n"
     ]
    },
    {
     "name": "stdout",
     "output_type": "stream",
     "text": [
      "Current progress: 24/300 BMRI close_EMA10_G_s2, time: 0:00:33.810543\n"
     ]
    },
    {
     "name": "stderr",
     "output_type": "stream",
     "text": [
      "WARNING:absl:Found untraced functions such as lstm_cell_29_layer_call_fn, lstm_cell_29_layer_call_and_return_conditional_losses, lstm_cell_29_layer_call_fn, lstm_cell_29_layer_call_and_return_conditional_losses, lstm_cell_29_layer_call_and_return_conditional_losses while saving (showing 5 of 5). These functions will not be directly callable after loading.\n"
     ]
    },
    {
     "name": "stdout",
     "output_type": "stream",
     "text": [
      "INFO:tensorflow:Assets written to: ./models/explore_idx/v2/retrained/v2/model/KLBF/close_EMA3_G_s2/assets\n"
     ]
    },
    {
     "name": "stderr",
     "output_type": "stream",
     "text": [
      "INFO:tensorflow:Assets written to: ./models/explore_idx/v2/retrained/v2/model/KLBF/close_EMA3_G_s2/assets\n",
      "WARNING:absl:<keras.layers.recurrent.LSTMCell object at 0x00000126ECBD1BB0> has the same name 'LSTMCell' as a built-in Keras object. Consider renaming <class 'keras.layers.recurrent.LSTMCell'> to avoid naming conflicts when loading with `tf.keras.models.load_model`. If renaming is not possible, pass the object in the `custom_objects` parameter of the load function.\n"
     ]
    },
    {
     "name": "stdout",
     "output_type": "stream",
     "text": [
      "Current progress: 25/300 KLBF close_EMA3_G_s2, time: 0:00:32.046299\n"
     ]
    },
    {
     "name": "stderr",
     "output_type": "stream",
     "text": [
      "WARNING:absl:Found untraced functions such as lstm_cell_30_layer_call_fn, lstm_cell_30_layer_call_and_return_conditional_losses, lstm_cell_30_layer_call_fn, lstm_cell_30_layer_call_and_return_conditional_losses, lstm_cell_30_layer_call_and_return_conditional_losses while saving (showing 5 of 5). These functions will not be directly callable after loading.\n"
     ]
    },
    {
     "name": "stdout",
     "output_type": "stream",
     "text": [
      "INFO:tensorflow:Assets written to: ./models/explore_idx/v2/retrained/v2/model/KLBF/close_EMA3_G_s1/assets\n"
     ]
    },
    {
     "name": "stderr",
     "output_type": "stream",
     "text": [
      "INFO:tensorflow:Assets written to: ./models/explore_idx/v2/retrained/v2/model/KLBF/close_EMA3_G_s1/assets\n",
      "WARNING:absl:<keras.layers.recurrent.LSTMCell object at 0x00000126F2173100> has the same name 'LSTMCell' as a built-in Keras object. Consider renaming <class 'keras.layers.recurrent.LSTMCell'> to avoid naming conflicts when loading with `tf.keras.models.load_model`. If renaming is not possible, pass the object in the `custom_objects` parameter of the load function.\n"
     ]
    },
    {
     "name": "stdout",
     "output_type": "stream",
     "text": [
      "Current progress: 26/300 KLBF close_EMA3_G_s1, time: 0:00:32.828851\n"
     ]
    },
    {
     "name": "stderr",
     "output_type": "stream",
     "text": [
      "WARNING:absl:Found untraced functions such as lstm_cell_31_layer_call_fn, lstm_cell_31_layer_call_and_return_conditional_losses, lstm_cell_31_layer_call_fn, lstm_cell_31_layer_call_and_return_conditional_losses, lstm_cell_31_layer_call_and_return_conditional_losses while saving (showing 5 of 5). These functions will not be directly callable after loading.\n"
     ]
    },
    {
     "name": "stdout",
     "output_type": "stream",
     "text": [
      "INFO:tensorflow:Assets written to: ./models/explore_idx/v2/retrained/v2/model/KLBF/close_EMA10_G_s2/assets\n"
     ]
    },
    {
     "name": "stderr",
     "output_type": "stream",
     "text": [
      "INFO:tensorflow:Assets written to: ./models/explore_idx/v2/retrained/v2/model/KLBF/close_EMA10_G_s2/assets\n",
      "WARNING:absl:<keras.layers.recurrent.LSTMCell object at 0x00000126F37F9EB0> has the same name 'LSTMCell' as a built-in Keras object. Consider renaming <class 'keras.layers.recurrent.LSTMCell'> to avoid naming conflicts when loading with `tf.keras.models.load_model`. If renaming is not possible, pass the object in the `custom_objects` parameter of the load function.\n"
     ]
    },
    {
     "name": "stdout",
     "output_type": "stream",
     "text": [
      "Current progress: 27/300 KLBF close_EMA10_G_s2, time: 0:00:32.101726\n"
     ]
    },
    {
     "name": "stderr",
     "output_type": "stream",
     "text": [
      "WARNING:absl:Found untraced functions such as lstm_cell_32_layer_call_fn, lstm_cell_32_layer_call_and_return_conditional_losses, lstm_cell_32_layer_call_fn, lstm_cell_32_layer_call_and_return_conditional_losses, lstm_cell_32_layer_call_and_return_conditional_losses while saving (showing 5 of 5). These functions will not be directly callable after loading.\n"
     ]
    },
    {
     "name": "stdout",
     "output_type": "stream",
     "text": [
      "INFO:tensorflow:Assets written to: ./models/explore_idx/v2/retrained/v2/model/BTEK/close_EMA3_G_s2/assets\n"
     ]
    },
    {
     "name": "stderr",
     "output_type": "stream",
     "text": [
      "INFO:tensorflow:Assets written to: ./models/explore_idx/v2/retrained/v2/model/BTEK/close_EMA3_G_s2/assets\n",
      "WARNING:absl:<keras.layers.recurrent.LSTMCell object at 0x000001268C6DB880> has the same name 'LSTMCell' as a built-in Keras object. Consider renaming <class 'keras.layers.recurrent.LSTMCell'> to avoid naming conflicts when loading with `tf.keras.models.load_model`. If renaming is not possible, pass the object in the `custom_objects` parameter of the load function.\n"
     ]
    },
    {
     "name": "stdout",
     "output_type": "stream",
     "text": [
      "Current progress: 28/300 BTEK close_EMA3_G_s2, time: 0:00:31.708079\n"
     ]
    },
    {
     "name": "stderr",
     "output_type": "stream",
     "text": [
      "WARNING:absl:Found untraced functions such as lstm_cell_33_layer_call_fn, lstm_cell_33_layer_call_and_return_conditional_losses, lstm_cell_33_layer_call_fn, lstm_cell_33_layer_call_and_return_conditional_losses, lstm_cell_33_layer_call_and_return_conditional_losses while saving (showing 5 of 5). These functions will not be directly callable after loading.\n"
     ]
    },
    {
     "name": "stdout",
     "output_type": "stream",
     "text": [
      "INFO:tensorflow:Assets written to: ./models/explore_idx/v2/retrained/v2/model/BTEK/close_EMA3_G_s1/assets\n"
     ]
    },
    {
     "name": "stderr",
     "output_type": "stream",
     "text": [
      "INFO:tensorflow:Assets written to: ./models/explore_idx/v2/retrained/v2/model/BTEK/close_EMA3_G_s1/assets\n",
      "WARNING:absl:<keras.layers.recurrent.LSTMCell object at 0x000001268D634850> has the same name 'LSTMCell' as a built-in Keras object. Consider renaming <class 'keras.layers.recurrent.LSTMCell'> to avoid naming conflicts when loading with `tf.keras.models.load_model`. If renaming is not possible, pass the object in the `custom_objects` parameter of the load function.\n"
     ]
    },
    {
     "name": "stdout",
     "output_type": "stream",
     "text": [
      "Current progress: 29/300 BTEK close_EMA3_G_s1, time: 0:00:32.357249\n"
     ]
    },
    {
     "name": "stderr",
     "output_type": "stream",
     "text": [
      "WARNING:absl:Found untraced functions such as lstm_cell_34_layer_call_fn, lstm_cell_34_layer_call_and_return_conditional_losses, lstm_cell_34_layer_call_fn, lstm_cell_34_layer_call_and_return_conditional_losses, lstm_cell_34_layer_call_and_return_conditional_losses while saving (showing 5 of 5). These functions will not be directly callable after loading.\n"
     ]
    },
    {
     "name": "stdout",
     "output_type": "stream",
     "text": [
      "INFO:tensorflow:Assets written to: ./models/explore_idx/v2/retrained/v2/model/BTEK/close_EMA10_G_s2/assets\n"
     ]
    },
    {
     "name": "stderr",
     "output_type": "stream",
     "text": [
      "INFO:tensorflow:Assets written to: ./models/explore_idx/v2/retrained/v2/model/BTEK/close_EMA10_G_s2/assets\n",
      "WARNING:absl:<keras.layers.recurrent.LSTMCell object at 0x000001269150D430> has the same name 'LSTMCell' as a built-in Keras object. Consider renaming <class 'keras.layers.recurrent.LSTMCell'> to avoid naming conflicts when loading with `tf.keras.models.load_model`. If renaming is not possible, pass the object in the `custom_objects` parameter of the load function.\n"
     ]
    },
    {
     "name": "stdout",
     "output_type": "stream",
     "text": [
      "Current progress: 30/300 BTEK close_EMA10_G_s2, time: 0:00:32.764214\n"
     ]
    },
    {
     "name": "stderr",
     "output_type": "stream",
     "text": [
      "WARNING:absl:Found untraced functions such as lstm_cell_35_layer_call_fn, lstm_cell_35_layer_call_and_return_conditional_losses, lstm_cell_35_layer_call_fn, lstm_cell_35_layer_call_and_return_conditional_losses, lstm_cell_35_layer_call_and_return_conditional_losses while saving (showing 5 of 5). These functions will not be directly callable after loading.\n"
     ]
    },
    {
     "name": "stdout",
     "output_type": "stream",
     "text": [
      "INFO:tensorflow:Assets written to: ./models/explore_idx/v2/retrained/v2/model/ASRI/close_EMA3_G_s2/assets\n"
     ]
    },
    {
     "name": "stderr",
     "output_type": "stream",
     "text": [
      "INFO:tensorflow:Assets written to: ./models/explore_idx/v2/retrained/v2/model/ASRI/close_EMA3_G_s2/assets\n",
      "WARNING:absl:<keras.layers.recurrent.LSTMCell object at 0x00000126F19AFD90> has the same name 'LSTMCell' as a built-in Keras object. Consider renaming <class 'keras.layers.recurrent.LSTMCell'> to avoid naming conflicts when loading with `tf.keras.models.load_model`. If renaming is not possible, pass the object in the `custom_objects` parameter of the load function.\n"
     ]
    },
    {
     "name": "stdout",
     "output_type": "stream",
     "text": [
      "Current progress: 31/300 ASRI close_EMA3_G_s2, time: 0:00:31.513826\n"
     ]
    },
    {
     "name": "stderr",
     "output_type": "stream",
     "text": [
      "WARNING:absl:Found untraced functions such as lstm_cell_36_layer_call_fn, lstm_cell_36_layer_call_and_return_conditional_losses, lstm_cell_36_layer_call_fn, lstm_cell_36_layer_call_and_return_conditional_losses, lstm_cell_36_layer_call_and_return_conditional_losses while saving (showing 5 of 5). These functions will not be directly callable after loading.\n"
     ]
    },
    {
     "name": "stdout",
     "output_type": "stream",
     "text": [
      "INFO:tensorflow:Assets written to: ./models/explore_idx/v2/retrained/v2/model/ASRI/close_EMA3_G_s1/assets\n"
     ]
    },
    {
     "name": "stderr",
     "output_type": "stream",
     "text": [
      "INFO:tensorflow:Assets written to: ./models/explore_idx/v2/retrained/v2/model/ASRI/close_EMA3_G_s1/assets\n",
      "WARNING:absl:<keras.layers.recurrent.LSTMCell object at 0x0000012690CE27F0> has the same name 'LSTMCell' as a built-in Keras object. Consider renaming <class 'keras.layers.recurrent.LSTMCell'> to avoid naming conflicts when loading with `tf.keras.models.load_model`. If renaming is not possible, pass the object in the `custom_objects` parameter of the load function.\n"
     ]
    },
    {
     "name": "stdout",
     "output_type": "stream",
     "text": [
      "Current progress: 32/300 ASRI close_EMA3_G_s1, time: 0:00:32.217388\n"
     ]
    },
    {
     "name": "stderr",
     "output_type": "stream",
     "text": [
      "WARNING:absl:Found untraced functions such as lstm_cell_37_layer_call_fn, lstm_cell_37_layer_call_and_return_conditional_losses, lstm_cell_37_layer_call_fn, lstm_cell_37_layer_call_and_return_conditional_losses, lstm_cell_37_layer_call_and_return_conditional_losses while saving (showing 5 of 5). These functions will not be directly callable after loading.\n"
     ]
    },
    {
     "name": "stdout",
     "output_type": "stream",
     "text": [
      "INFO:tensorflow:Assets written to: ./models/explore_idx/v2/retrained/v2/model/ASRI/close_EMA10_G_s2/assets\n"
     ]
    },
    {
     "name": "stderr",
     "output_type": "stream",
     "text": [
      "INFO:tensorflow:Assets written to: ./models/explore_idx/v2/retrained/v2/model/ASRI/close_EMA10_G_s2/assets\n",
      "WARNING:absl:<keras.layers.recurrent.LSTMCell object at 0x0000012682229790> has the same name 'LSTMCell' as a built-in Keras object. Consider renaming <class 'keras.layers.recurrent.LSTMCell'> to avoid naming conflicts when loading with `tf.keras.models.load_model`. If renaming is not possible, pass the object in the `custom_objects` parameter of the load function.\n"
     ]
    },
    {
     "name": "stdout",
     "output_type": "stream",
     "text": [
      "Current progress: 33/300 ASRI close_EMA10_G_s2, time: 0:00:32.309869\n"
     ]
    },
    {
     "name": "stderr",
     "output_type": "stream",
     "text": [
      "WARNING:absl:Found untraced functions such as lstm_cell_38_layer_call_fn, lstm_cell_38_layer_call_and_return_conditional_losses, lstm_cell_38_layer_call_fn, lstm_cell_38_layer_call_and_return_conditional_losses, lstm_cell_38_layer_call_and_return_conditional_losses while saving (showing 5 of 5). These functions will not be directly callable after loading.\n"
     ]
    },
    {
     "name": "stdout",
     "output_type": "stream",
     "text": [
      "INFO:tensorflow:Assets written to: ./models/explore_idx/v2/retrained/v2/model/KIJA/close_EMA3_G_s2/assets\n"
     ]
    },
    {
     "name": "stderr",
     "output_type": "stream",
     "text": [
      "INFO:tensorflow:Assets written to: ./models/explore_idx/v2/retrained/v2/model/KIJA/close_EMA3_G_s2/assets\n",
      "WARNING:absl:<keras.layers.recurrent.LSTMCell object at 0x00000126EFE5CB20> has the same name 'LSTMCell' as a built-in Keras object. Consider renaming <class 'keras.layers.recurrent.LSTMCell'> to avoid naming conflicts when loading with `tf.keras.models.load_model`. If renaming is not possible, pass the object in the `custom_objects` parameter of the load function.\n"
     ]
    },
    {
     "name": "stdout",
     "output_type": "stream",
     "text": [
      "Current progress: 34/300 KIJA close_EMA3_G_s2, time: 0:00:33.738797\n"
     ]
    },
    {
     "name": "stderr",
     "output_type": "stream",
     "text": [
      "WARNING:absl:Found untraced functions such as lstm_cell_39_layer_call_fn, lstm_cell_39_layer_call_and_return_conditional_losses, lstm_cell_39_layer_call_fn, lstm_cell_39_layer_call_and_return_conditional_losses, lstm_cell_39_layer_call_and_return_conditional_losses while saving (showing 5 of 5). These functions will not be directly callable after loading.\n"
     ]
    },
    {
     "name": "stdout",
     "output_type": "stream",
     "text": [
      "INFO:tensorflow:Assets written to: ./models/explore_idx/v2/retrained/v2/model/KIJA/close_EMA3_G_s1/assets\n"
     ]
    },
    {
     "name": "stderr",
     "output_type": "stream",
     "text": [
      "INFO:tensorflow:Assets written to: ./models/explore_idx/v2/retrained/v2/model/KIJA/close_EMA3_G_s1/assets\n",
      "WARNING:absl:<keras.layers.recurrent.LSTMCell object at 0x000001268FF3B070> has the same name 'LSTMCell' as a built-in Keras object. Consider renaming <class 'keras.layers.recurrent.LSTMCell'> to avoid naming conflicts when loading with `tf.keras.models.load_model`. If renaming is not possible, pass the object in the `custom_objects` parameter of the load function.\n"
     ]
    },
    {
     "name": "stdout",
     "output_type": "stream",
     "text": [
      "Current progress: 35/300 KIJA close_EMA3_G_s1, time: 0:00:31.769324\n"
     ]
    },
    {
     "name": "stderr",
     "output_type": "stream",
     "text": [
      "WARNING:absl:Found untraced functions such as lstm_cell_40_layer_call_fn, lstm_cell_40_layer_call_and_return_conditional_losses, lstm_cell_40_layer_call_fn, lstm_cell_40_layer_call_and_return_conditional_losses, lstm_cell_40_layer_call_and_return_conditional_losses while saving (showing 5 of 5). These functions will not be directly callable after loading.\n"
     ]
    },
    {
     "name": "stdout",
     "output_type": "stream",
     "text": [
      "INFO:tensorflow:Assets written to: ./models/explore_idx/v2/retrained/v2/model/KIJA/close_EMA10_G_s2/assets\n"
     ]
    },
    {
     "name": "stderr",
     "output_type": "stream",
     "text": [
      "INFO:tensorflow:Assets written to: ./models/explore_idx/v2/retrained/v2/model/KIJA/close_EMA10_G_s2/assets\n",
      "WARNING:absl:<keras.layers.recurrent.LSTMCell object at 0x000001268D220E20> has the same name 'LSTMCell' as a built-in Keras object. Consider renaming <class 'keras.layers.recurrent.LSTMCell'> to avoid naming conflicts when loading with `tf.keras.models.load_model`. If renaming is not possible, pass the object in the `custom_objects` parameter of the load function.\n"
     ]
    },
    {
     "name": "stdout",
     "output_type": "stream",
     "text": [
      "Current progress: 36/300 KIJA close_EMA10_G_s2, time: 0:00:32.514851\n"
     ]
    },
    {
     "name": "stderr",
     "output_type": "stream",
     "text": [
      "WARNING:absl:Found untraced functions such as lstm_cell_41_layer_call_fn, lstm_cell_41_layer_call_and_return_conditional_losses, lstm_cell_41_layer_call_fn, lstm_cell_41_layer_call_and_return_conditional_losses, lstm_cell_41_layer_call_and_return_conditional_losses while saving (showing 5 of 5). These functions will not be directly callable after loading.\n"
     ]
    },
    {
     "name": "stdout",
     "output_type": "stream",
     "text": [
      "INFO:tensorflow:Assets written to: ./models/explore_idx/v2/retrained/v2/model/FREN/close_EMA3_G_s2/assets\n"
     ]
    },
    {
     "name": "stderr",
     "output_type": "stream",
     "text": [
      "INFO:tensorflow:Assets written to: ./models/explore_idx/v2/retrained/v2/model/FREN/close_EMA3_G_s2/assets\n",
      "WARNING:absl:<keras.layers.recurrent.LSTMCell object at 0x0000012695BC80D0> has the same name 'LSTMCell' as a built-in Keras object. Consider renaming <class 'keras.layers.recurrent.LSTMCell'> to avoid naming conflicts when loading with `tf.keras.models.load_model`. If renaming is not possible, pass the object in the `custom_objects` parameter of the load function.\n"
     ]
    },
    {
     "name": "stdout",
     "output_type": "stream",
     "text": [
      "Current progress: 37/300 FREN close_EMA3_G_s2, time: 0:00:31.918905\n"
     ]
    },
    {
     "name": "stderr",
     "output_type": "stream",
     "text": [
      "WARNING:absl:Found untraced functions such as lstm_cell_42_layer_call_fn, lstm_cell_42_layer_call_and_return_conditional_losses, lstm_cell_42_layer_call_fn, lstm_cell_42_layer_call_and_return_conditional_losses, lstm_cell_42_layer_call_and_return_conditional_losses while saving (showing 5 of 5). These functions will not be directly callable after loading.\n"
     ]
    },
    {
     "name": "stdout",
     "output_type": "stream",
     "text": [
      "INFO:tensorflow:Assets written to: ./models/explore_idx/v2/retrained/v2/model/FREN/close_EMA3_G_s1/assets\n"
     ]
    },
    {
     "name": "stderr",
     "output_type": "stream",
     "text": [
      "INFO:tensorflow:Assets written to: ./models/explore_idx/v2/retrained/v2/model/FREN/close_EMA3_G_s1/assets\n",
      "WARNING:absl:<keras.layers.recurrent.LSTMCell object at 0x00000126F367B760> has the same name 'LSTMCell' as a built-in Keras object. Consider renaming <class 'keras.layers.recurrent.LSTMCell'> to avoid naming conflicts when loading with `tf.keras.models.load_model`. If renaming is not possible, pass the object in the `custom_objects` parameter of the load function.\n"
     ]
    },
    {
     "name": "stdout",
     "output_type": "stream",
     "text": [
      "Current progress: 38/300 FREN close_EMA3_G_s1, time: 0:00:31.995260\n"
     ]
    },
    {
     "name": "stderr",
     "output_type": "stream",
     "text": [
      "WARNING:absl:Found untraced functions such as lstm_cell_43_layer_call_fn, lstm_cell_43_layer_call_and_return_conditional_losses, lstm_cell_43_layer_call_fn, lstm_cell_43_layer_call_and_return_conditional_losses, lstm_cell_43_layer_call_and_return_conditional_losses while saving (showing 5 of 5). These functions will not be directly callable after loading.\n"
     ]
    },
    {
     "name": "stdout",
     "output_type": "stream",
     "text": [
      "INFO:tensorflow:Assets written to: ./models/explore_idx/v2/retrained/v2/model/FREN/close_EMA10_G_s2/assets\n"
     ]
    },
    {
     "name": "stderr",
     "output_type": "stream",
     "text": [
      "INFO:tensorflow:Assets written to: ./models/explore_idx/v2/retrained/v2/model/FREN/close_EMA10_G_s2/assets\n",
      "WARNING:absl:<keras.layers.recurrent.LSTMCell object at 0x000001269048AB80> has the same name 'LSTMCell' as a built-in Keras object. Consider renaming <class 'keras.layers.recurrent.LSTMCell'> to avoid naming conflicts when loading with `tf.keras.models.load_model`. If renaming is not possible, pass the object in the `custom_objects` parameter of the load function.\n"
     ]
    },
    {
     "name": "stdout",
     "output_type": "stream",
     "text": [
      "Current progress: 39/300 FREN close_EMA10_G_s2, time: 0:00:32.251113\n"
     ]
    },
    {
     "name": "stderr",
     "output_type": "stream",
     "text": [
      "WARNING:absl:Found untraced functions such as lstm_cell_44_layer_call_fn, lstm_cell_44_layer_call_and_return_conditional_losses, lstm_cell_44_layer_call_fn, lstm_cell_44_layer_call_and_return_conditional_losses, lstm_cell_44_layer_call_and_return_conditional_losses while saving (showing 5 of 5). These functions will not be directly callable after loading.\n"
     ]
    },
    {
     "name": "stdout",
     "output_type": "stream",
     "text": [
      "INFO:tensorflow:Assets written to: ./models/explore_idx/v2/retrained/v2/model/ANTM/close_EMA3_G_s2/assets\n"
     ]
    },
    {
     "name": "stderr",
     "output_type": "stream",
     "text": [
      "INFO:tensorflow:Assets written to: ./models/explore_idx/v2/retrained/v2/model/ANTM/close_EMA3_G_s2/assets\n",
      "WARNING:absl:<keras.layers.recurrent.LSTMCell object at 0x00000126F3C20070> has the same name 'LSTMCell' as a built-in Keras object. Consider renaming <class 'keras.layers.recurrent.LSTMCell'> to avoid naming conflicts when loading with `tf.keras.models.load_model`. If renaming is not possible, pass the object in the `custom_objects` parameter of the load function.\n"
     ]
    },
    {
     "name": "stdout",
     "output_type": "stream",
     "text": [
      "Current progress: 40/300 ANTM close_EMA3_G_s2, time: 0:00:32.278953\n"
     ]
    },
    {
     "name": "stderr",
     "output_type": "stream",
     "text": [
      "WARNING:absl:Found untraced functions such as lstm_cell_45_layer_call_fn, lstm_cell_45_layer_call_and_return_conditional_losses, lstm_cell_45_layer_call_fn, lstm_cell_45_layer_call_and_return_conditional_losses, lstm_cell_45_layer_call_and_return_conditional_losses while saving (showing 5 of 5). These functions will not be directly callable after loading.\n"
     ]
    },
    {
     "name": "stdout",
     "output_type": "stream",
     "text": [
      "INFO:tensorflow:Assets written to: ./models/explore_idx/v2/retrained/v2/model/ANTM/close_EMA3_G_s1/assets\n"
     ]
    },
    {
     "name": "stderr",
     "output_type": "stream",
     "text": [
      "INFO:tensorflow:Assets written to: ./models/explore_idx/v2/retrained/v2/model/ANTM/close_EMA3_G_s1/assets\n",
      "WARNING:absl:<keras.layers.recurrent.LSTMCell object at 0x000001268C27AD90> has the same name 'LSTMCell' as a built-in Keras object. Consider renaming <class 'keras.layers.recurrent.LSTMCell'> to avoid naming conflicts when loading with `tf.keras.models.load_model`. If renaming is not possible, pass the object in the `custom_objects` parameter of the load function.\n"
     ]
    },
    {
     "name": "stdout",
     "output_type": "stream",
     "text": [
      "Current progress: 41/300 ANTM close_EMA3_G_s1, time: 0:00:32.619292\n"
     ]
    },
    {
     "name": "stderr",
     "output_type": "stream",
     "text": [
      "WARNING:absl:Found untraced functions such as lstm_cell_46_layer_call_fn, lstm_cell_46_layer_call_and_return_conditional_losses, lstm_cell_46_layer_call_fn, lstm_cell_46_layer_call_and_return_conditional_losses, lstm_cell_46_layer_call_and_return_conditional_losses while saving (showing 5 of 5). These functions will not be directly callable after loading.\n"
     ]
    },
    {
     "name": "stdout",
     "output_type": "stream",
     "text": [
      "INFO:tensorflow:Assets written to: ./models/explore_idx/v2/retrained/v2/model/ANTM/close_EMA10_G_s2/assets\n"
     ]
    },
    {
     "name": "stderr",
     "output_type": "stream",
     "text": [
      "INFO:tensorflow:Assets written to: ./models/explore_idx/v2/retrained/v2/model/ANTM/close_EMA10_G_s2/assets\n",
      "WARNING:absl:<keras.layers.recurrent.LSTMCell object at 0x00000126F818A790> has the same name 'LSTMCell' as a built-in Keras object. Consider renaming <class 'keras.layers.recurrent.LSTMCell'> to avoid naming conflicts when loading with `tf.keras.models.load_model`. If renaming is not possible, pass the object in the `custom_objects` parameter of the load function.\n"
     ]
    },
    {
     "name": "stdout",
     "output_type": "stream",
     "text": [
      "Current progress: 42/300 ANTM close_EMA10_G_s2, time: 0:00:31.893088\n"
     ]
    },
    {
     "name": "stderr",
     "output_type": "stream",
     "text": [
      "WARNING:absl:Found untraced functions such as lstm_cell_47_layer_call_fn, lstm_cell_47_layer_call_and_return_conditional_losses, lstm_cell_47_layer_call_fn, lstm_cell_47_layer_call_and_return_conditional_losses, lstm_cell_47_layer_call_and_return_conditional_losses while saving (showing 5 of 5). These functions will not be directly callable after loading.\n"
     ]
    },
    {
     "name": "stdout",
     "output_type": "stream",
     "text": [
      "INFO:tensorflow:Assets written to: ./models/explore_idx/v2/retrained/v2/model/ASII/close_EMA3_G_s2/assets\n"
     ]
    },
    {
     "name": "stderr",
     "output_type": "stream",
     "text": [
      "INFO:tensorflow:Assets written to: ./models/explore_idx/v2/retrained/v2/model/ASII/close_EMA3_G_s2/assets\n",
      "WARNING:absl:<keras.layers.recurrent.LSTMCell object at 0x00000126F3204550> has the same name 'LSTMCell' as a built-in Keras object. Consider renaming <class 'keras.layers.recurrent.LSTMCell'> to avoid naming conflicts when loading with `tf.keras.models.load_model`. If renaming is not possible, pass the object in the `custom_objects` parameter of the load function.\n"
     ]
    },
    {
     "name": "stdout",
     "output_type": "stream",
     "text": [
      "Current progress: 43/300 ASII close_EMA3_G_s2, time: 0:00:32.303489\n"
     ]
    },
    {
     "name": "stderr",
     "output_type": "stream",
     "text": [
      "WARNING:absl:Found untraced functions such as lstm_cell_48_layer_call_fn, lstm_cell_48_layer_call_and_return_conditional_losses, lstm_cell_48_layer_call_fn, lstm_cell_48_layer_call_and_return_conditional_losses, lstm_cell_48_layer_call_and_return_conditional_losses while saving (showing 5 of 5). These functions will not be directly callable after loading.\n"
     ]
    },
    {
     "name": "stdout",
     "output_type": "stream",
     "text": [
      "INFO:tensorflow:Assets written to: ./models/explore_idx/v2/retrained/v2/model/ASII/close_EMA3_G_s1/assets\n"
     ]
    },
    {
     "name": "stderr",
     "output_type": "stream",
     "text": [
      "INFO:tensorflow:Assets written to: ./models/explore_idx/v2/retrained/v2/model/ASII/close_EMA3_G_s1/assets\n",
      "WARNING:absl:<keras.layers.recurrent.LSTMCell object at 0x00000126F13A5100> has the same name 'LSTMCell' as a built-in Keras object. Consider renaming <class 'keras.layers.recurrent.LSTMCell'> to avoid naming conflicts when loading with `tf.keras.models.load_model`. If renaming is not possible, pass the object in the `custom_objects` parameter of the load function.\n"
     ]
    },
    {
     "name": "stdout",
     "output_type": "stream",
     "text": [
      "Current progress: 44/300 ASII close_EMA3_G_s1, time: 0:00:32.387234\n"
     ]
    },
    {
     "name": "stderr",
     "output_type": "stream",
     "text": [
      "WARNING:absl:Found untraced functions such as lstm_cell_49_layer_call_fn, lstm_cell_49_layer_call_and_return_conditional_losses, lstm_cell_49_layer_call_fn, lstm_cell_49_layer_call_and_return_conditional_losses, lstm_cell_49_layer_call_and_return_conditional_losses while saving (showing 5 of 5). These functions will not be directly callable after loading.\n"
     ]
    },
    {
     "name": "stdout",
     "output_type": "stream",
     "text": [
      "INFO:tensorflow:Assets written to: ./models/explore_idx/v2/retrained/v2/model/ASII/close_EMA10_G_s2/assets\n"
     ]
    },
    {
     "name": "stderr",
     "output_type": "stream",
     "text": [
      "INFO:tensorflow:Assets written to: ./models/explore_idx/v2/retrained/v2/model/ASII/close_EMA10_G_s2/assets\n",
      "WARNING:absl:<keras.layers.recurrent.LSTMCell object at 0x0000012688F776A0> has the same name 'LSTMCell' as a built-in Keras object. Consider renaming <class 'keras.layers.recurrent.LSTMCell'> to avoid naming conflicts when loading with `tf.keras.models.load_model`. If renaming is not possible, pass the object in the `custom_objects` parameter of the load function.\n"
     ]
    },
    {
     "name": "stdout",
     "output_type": "stream",
     "text": [
      "Current progress: 45/300 ASII close_EMA10_G_s2, time: 0:00:32.366103\n"
     ]
    },
    {
     "name": "stderr",
     "output_type": "stream",
     "text": [
      "WARNING:absl:Found untraced functions such as lstm_cell_50_layer_call_fn, lstm_cell_50_layer_call_and_return_conditional_losses, lstm_cell_50_layer_call_fn, lstm_cell_50_layer_call_and_return_conditional_losses, lstm_cell_50_layer_call_and_return_conditional_losses while saving (showing 5 of 5). These functions will not be directly callable after loading.\n"
     ]
    },
    {
     "name": "stdout",
     "output_type": "stream",
     "text": [
      "INFO:tensorflow:Assets written to: ./models/explore_idx/v2/retrained/v2/model/ADRO/close_EMA3_G_s2/assets\n"
     ]
    },
    {
     "name": "stderr",
     "output_type": "stream",
     "text": [
      "INFO:tensorflow:Assets written to: ./models/explore_idx/v2/retrained/v2/model/ADRO/close_EMA3_G_s2/assets\n",
      "WARNING:absl:<keras.layers.recurrent.LSTMCell object at 0x00000126F7244880> has the same name 'LSTMCell' as a built-in Keras object. Consider renaming <class 'keras.layers.recurrent.LSTMCell'> to avoid naming conflicts when loading with `tf.keras.models.load_model`. If renaming is not possible, pass the object in the `custom_objects` parameter of the load function.\n"
     ]
    },
    {
     "name": "stdout",
     "output_type": "stream",
     "text": [
      "Current progress: 46/300 ADRO close_EMA3_G_s2, time: 0:00:31.734900\n"
     ]
    },
    {
     "name": "stderr",
     "output_type": "stream",
     "text": [
      "WARNING:absl:Found untraced functions such as lstm_cell_51_layer_call_fn, lstm_cell_51_layer_call_and_return_conditional_losses, lstm_cell_51_layer_call_fn, lstm_cell_51_layer_call_and_return_conditional_losses, lstm_cell_51_layer_call_and_return_conditional_losses while saving (showing 5 of 5). These functions will not be directly callable after loading.\n"
     ]
    },
    {
     "name": "stdout",
     "output_type": "stream",
     "text": [
      "INFO:tensorflow:Assets written to: ./models/explore_idx/v2/retrained/v2/model/ADRO/close_EMA3_G_s1/assets\n"
     ]
    },
    {
     "name": "stderr",
     "output_type": "stream",
     "text": [
      "INFO:tensorflow:Assets written to: ./models/explore_idx/v2/retrained/v2/model/ADRO/close_EMA3_G_s1/assets\n",
      "WARNING:absl:<keras.layers.recurrent.LSTMCell object at 0x00000126F2035D30> has the same name 'LSTMCell' as a built-in Keras object. Consider renaming <class 'keras.layers.recurrent.LSTMCell'> to avoid naming conflicts when loading with `tf.keras.models.load_model`. If renaming is not possible, pass the object in the `custom_objects` parameter of the load function.\n"
     ]
    },
    {
     "name": "stdout",
     "output_type": "stream",
     "text": [
      "Current progress: 47/300 ADRO close_EMA3_G_s1, time: 0:00:32.752284\n"
     ]
    },
    {
     "name": "stderr",
     "output_type": "stream",
     "text": [
      "WARNING:absl:Found untraced functions such as lstm_cell_52_layer_call_fn, lstm_cell_52_layer_call_and_return_conditional_losses, lstm_cell_52_layer_call_fn, lstm_cell_52_layer_call_and_return_conditional_losses, lstm_cell_52_layer_call_and_return_conditional_losses while saving (showing 5 of 5). These functions will not be directly callable after loading.\n"
     ]
    },
    {
     "name": "stdout",
     "output_type": "stream",
     "text": [
      "INFO:tensorflow:Assets written to: ./models/explore_idx/v2/retrained/v2/model/ADRO/close_EMA10_G_s2/assets\n"
     ]
    },
    {
     "name": "stderr",
     "output_type": "stream",
     "text": [
      "INFO:tensorflow:Assets written to: ./models/explore_idx/v2/retrained/v2/model/ADRO/close_EMA10_G_s2/assets\n",
      "WARNING:absl:<keras.layers.recurrent.LSTMCell object at 0x000001268B29E0A0> has the same name 'LSTMCell' as a built-in Keras object. Consider renaming <class 'keras.layers.recurrent.LSTMCell'> to avoid naming conflicts when loading with `tf.keras.models.load_model`. If renaming is not possible, pass the object in the `custom_objects` parameter of the load function.\n"
     ]
    },
    {
     "name": "stdout",
     "output_type": "stream",
     "text": [
      "Current progress: 48/300 ADRO close_EMA10_G_s2, time: 0:00:32.204274\n"
     ]
    },
    {
     "name": "stderr",
     "output_type": "stream",
     "text": [
      "WARNING:absl:Found untraced functions such as lstm_cell_53_layer_call_fn, lstm_cell_53_layer_call_and_return_conditional_losses, lstm_cell_53_layer_call_fn, lstm_cell_53_layer_call_and_return_conditional_losses, lstm_cell_53_layer_call_and_return_conditional_losses while saving (showing 5 of 5). These functions will not be directly callable after loading.\n"
     ]
    },
    {
     "name": "stdout",
     "output_type": "stream",
     "text": [
      "INFO:tensorflow:Assets written to: ./models/explore_idx/v2/retrained/v2/model/MEDC/close_EMA3_G_s2/assets\n"
     ]
    },
    {
     "name": "stderr",
     "output_type": "stream",
     "text": [
      "INFO:tensorflow:Assets written to: ./models/explore_idx/v2/retrained/v2/model/MEDC/close_EMA3_G_s2/assets\n",
      "WARNING:absl:<keras.layers.recurrent.LSTMCell object at 0x00000126F34D0850> has the same name 'LSTMCell' as a built-in Keras object. Consider renaming <class 'keras.layers.recurrent.LSTMCell'> to avoid naming conflicts when loading with `tf.keras.models.load_model`. If renaming is not possible, pass the object in the `custom_objects` parameter of the load function.\n"
     ]
    },
    {
     "name": "stdout",
     "output_type": "stream",
     "text": [
      "Current progress: 49/300 MEDC close_EMA3_G_s2, time: 0:00:33.019488\n"
     ]
    },
    {
     "name": "stderr",
     "output_type": "stream",
     "text": [
      "WARNING:absl:Found untraced functions such as lstm_cell_54_layer_call_fn, lstm_cell_54_layer_call_and_return_conditional_losses, lstm_cell_54_layer_call_fn, lstm_cell_54_layer_call_and_return_conditional_losses, lstm_cell_54_layer_call_and_return_conditional_losses while saving (showing 5 of 5). These functions will not be directly callable after loading.\n"
     ]
    },
    {
     "name": "stdout",
     "output_type": "stream",
     "text": [
      "INFO:tensorflow:Assets written to: ./models/explore_idx/v2/retrained/v2/model/MEDC/close_EMA3_G_s1/assets\n"
     ]
    },
    {
     "name": "stderr",
     "output_type": "stream",
     "text": [
      "INFO:tensorflow:Assets written to: ./models/explore_idx/v2/retrained/v2/model/MEDC/close_EMA3_G_s1/assets\n",
      "WARNING:absl:<keras.layers.recurrent.LSTMCell object at 0x000001268BB207C0> has the same name 'LSTMCell' as a built-in Keras object. Consider renaming <class 'keras.layers.recurrent.LSTMCell'> to avoid naming conflicts when loading with `tf.keras.models.load_model`. If renaming is not possible, pass the object in the `custom_objects` parameter of the load function.\n"
     ]
    },
    {
     "name": "stdout",
     "output_type": "stream",
     "text": [
      "Current progress: 50/300 MEDC close_EMA3_G_s1, time: 0:00:33.666199\n"
     ]
    },
    {
     "name": "stderr",
     "output_type": "stream",
     "text": [
      "WARNING:absl:Found untraced functions such as lstm_cell_55_layer_call_fn, lstm_cell_55_layer_call_and_return_conditional_losses, lstm_cell_55_layer_call_fn, lstm_cell_55_layer_call_and_return_conditional_losses, lstm_cell_55_layer_call_and_return_conditional_losses while saving (showing 5 of 5). These functions will not be directly callable after loading.\n"
     ]
    },
    {
     "name": "stdout",
     "output_type": "stream",
     "text": [
      "INFO:tensorflow:Assets written to: ./models/explore_idx/v2/retrained/v2/model/MEDC/close_EMA10_G_s2/assets\n"
     ]
    },
    {
     "name": "stderr",
     "output_type": "stream",
     "text": [
      "INFO:tensorflow:Assets written to: ./models/explore_idx/v2/retrained/v2/model/MEDC/close_EMA10_G_s2/assets\n",
      "WARNING:absl:<keras.layers.recurrent.LSTMCell object at 0x0000012691465730> has the same name 'LSTMCell' as a built-in Keras object. Consider renaming <class 'keras.layers.recurrent.LSTMCell'> to avoid naming conflicts when loading with `tf.keras.models.load_model`. If renaming is not possible, pass the object in the `custom_objects` parameter of the load function.\n"
     ]
    },
    {
     "name": "stdout",
     "output_type": "stream",
     "text": [
      "Current progress: 51/300 MEDC close_EMA10_G_s2, time: 0:00:33.130925\n"
     ]
    },
    {
     "name": "stderr",
     "output_type": "stream",
     "text": [
      "WARNING:absl:Found untraced functions such as lstm_cell_56_layer_call_fn, lstm_cell_56_layer_call_and_return_conditional_losses, lstm_cell_56_layer_call_fn, lstm_cell_56_layer_call_and_return_conditional_losses, lstm_cell_56_layer_call_and_return_conditional_losses while saving (showing 5 of 5). These functions will not be directly callable after loading.\n"
     ]
    },
    {
     "name": "stdout",
     "output_type": "stream",
     "text": [
      "INFO:tensorflow:Assets written to: ./models/explore_idx/v2/retrained/v2/model/BHIT/close_EMA3_G_s2/assets\n"
     ]
    },
    {
     "name": "stderr",
     "output_type": "stream",
     "text": [
      "INFO:tensorflow:Assets written to: ./models/explore_idx/v2/retrained/v2/model/BHIT/close_EMA3_G_s2/assets\n",
      "WARNING:absl:<keras.layers.recurrent.LSTMCell object at 0x0000012693974490> has the same name 'LSTMCell' as a built-in Keras object. Consider renaming <class 'keras.layers.recurrent.LSTMCell'> to avoid naming conflicts when loading with `tf.keras.models.load_model`. If renaming is not possible, pass the object in the `custom_objects` parameter of the load function.\n"
     ]
    },
    {
     "name": "stdout",
     "output_type": "stream",
     "text": [
      "Current progress: 52/300 BHIT close_EMA3_G_s2, time: 0:00:33.139684\n"
     ]
    },
    {
     "name": "stderr",
     "output_type": "stream",
     "text": [
      "WARNING:absl:Found untraced functions such as lstm_cell_57_layer_call_fn, lstm_cell_57_layer_call_and_return_conditional_losses, lstm_cell_57_layer_call_fn, lstm_cell_57_layer_call_and_return_conditional_losses, lstm_cell_57_layer_call_and_return_conditional_losses while saving (showing 5 of 5). These functions will not be directly callable after loading.\n"
     ]
    },
    {
     "name": "stdout",
     "output_type": "stream",
     "text": [
      "INFO:tensorflow:Assets written to: ./models/explore_idx/v2/retrained/v2/model/BHIT/close_EMA3_G_s1/assets\n"
     ]
    },
    {
     "name": "stderr",
     "output_type": "stream",
     "text": [
      "INFO:tensorflow:Assets written to: ./models/explore_idx/v2/retrained/v2/model/BHIT/close_EMA3_G_s1/assets\n",
      "WARNING:absl:<keras.layers.recurrent.LSTMCell object at 0x00000126EFE350D0> has the same name 'LSTMCell' as a built-in Keras object. Consider renaming <class 'keras.layers.recurrent.LSTMCell'> to avoid naming conflicts when loading with `tf.keras.models.load_model`. If renaming is not possible, pass the object in the `custom_objects` parameter of the load function.\n"
     ]
    },
    {
     "name": "stdout",
     "output_type": "stream",
     "text": [
      "Current progress: 53/300 BHIT close_EMA3_G_s1, time: 0:00:33.164803\n"
     ]
    },
    {
     "name": "stderr",
     "output_type": "stream",
     "text": [
      "WARNING:absl:Found untraced functions such as lstm_cell_58_layer_call_fn, lstm_cell_58_layer_call_and_return_conditional_losses, lstm_cell_58_layer_call_fn, lstm_cell_58_layer_call_and_return_conditional_losses, lstm_cell_58_layer_call_and_return_conditional_losses while saving (showing 5 of 5). These functions will not be directly callable after loading.\n"
     ]
    },
    {
     "name": "stdout",
     "output_type": "stream",
     "text": [
      "INFO:tensorflow:Assets written to: ./models/explore_idx/v2/retrained/v2/model/BHIT/close_EMA10_G_s2/assets\n"
     ]
    },
    {
     "name": "stderr",
     "output_type": "stream",
     "text": [
      "INFO:tensorflow:Assets written to: ./models/explore_idx/v2/retrained/v2/model/BHIT/close_EMA10_G_s2/assets\n",
      "WARNING:absl:<keras.layers.recurrent.LSTMCell object at 0x000001268253A580> has the same name 'LSTMCell' as a built-in Keras object. Consider renaming <class 'keras.layers.recurrent.LSTMCell'> to avoid naming conflicts when loading with `tf.keras.models.load_model`. If renaming is not possible, pass the object in the `custom_objects` parameter of the load function.\n"
     ]
    },
    {
     "name": "stdout",
     "output_type": "stream",
     "text": [
      "Current progress: 54/300 BHIT close_EMA10_G_s2, time: 0:00:33.303882\n"
     ]
    },
    {
     "name": "stderr",
     "output_type": "stream",
     "text": [
      "WARNING:absl:Found untraced functions such as lstm_cell_59_layer_call_fn, lstm_cell_59_layer_call_and_return_conditional_losses, lstm_cell_59_layer_call_fn, lstm_cell_59_layer_call_and_return_conditional_losses, lstm_cell_59_layer_call_and_return_conditional_losses while saving (showing 5 of 5). These functions will not be directly callable after loading.\n"
     ]
    },
    {
     "name": "stdout",
     "output_type": "stream",
     "text": [
      "INFO:tensorflow:Assets written to: ./models/explore_idx/v2/retrained/v2/model/PWON/close_EMA3_G_s2/assets\n"
     ]
    },
    {
     "name": "stderr",
     "output_type": "stream",
     "text": [
      "INFO:tensorflow:Assets written to: ./models/explore_idx/v2/retrained/v2/model/PWON/close_EMA3_G_s2/assets\n",
      "WARNING:absl:<keras.layers.recurrent.LSTMCell object at 0x000001268B5AC0D0> has the same name 'LSTMCell' as a built-in Keras object. Consider renaming <class 'keras.layers.recurrent.LSTMCell'> to avoid naming conflicts when loading with `tf.keras.models.load_model`. If renaming is not possible, pass the object in the `custom_objects` parameter of the load function.\n"
     ]
    },
    {
     "name": "stdout",
     "output_type": "stream",
     "text": [
      "Current progress: 55/300 PWON close_EMA3_G_s2, time: 0:00:33.556385\n"
     ]
    },
    {
     "name": "stderr",
     "output_type": "stream",
     "text": [
      "WARNING:absl:Found untraced functions such as lstm_cell_60_layer_call_fn, lstm_cell_60_layer_call_and_return_conditional_losses, lstm_cell_60_layer_call_fn, lstm_cell_60_layer_call_and_return_conditional_losses, lstm_cell_60_layer_call_and_return_conditional_losses while saving (showing 5 of 5). These functions will not be directly callable after loading.\n"
     ]
    },
    {
     "name": "stdout",
     "output_type": "stream",
     "text": [
      "INFO:tensorflow:Assets written to: ./models/explore_idx/v2/retrained/v2/model/PWON/close_EMA3_G_s1/assets\n"
     ]
    },
    {
     "name": "stderr",
     "output_type": "stream",
     "text": [
      "INFO:tensorflow:Assets written to: ./models/explore_idx/v2/retrained/v2/model/PWON/close_EMA3_G_s1/assets\n",
      "WARNING:absl:<keras.layers.recurrent.LSTMCell object at 0x000001268A85F5B0> has the same name 'LSTMCell' as a built-in Keras object. Consider renaming <class 'keras.layers.recurrent.LSTMCell'> to avoid naming conflicts when loading with `tf.keras.models.load_model`. If renaming is not possible, pass the object in the `custom_objects` parameter of the load function.\n"
     ]
    },
    {
     "name": "stdout",
     "output_type": "stream",
     "text": [
      "Current progress: 56/300 PWON close_EMA3_G_s1, time: 0:00:33.295701\n"
     ]
    },
    {
     "name": "stderr",
     "output_type": "stream",
     "text": [
      "WARNING:absl:Found untraced functions such as lstm_cell_61_layer_call_fn, lstm_cell_61_layer_call_and_return_conditional_losses, lstm_cell_61_layer_call_fn, lstm_cell_61_layer_call_and_return_conditional_losses, lstm_cell_61_layer_call_and_return_conditional_losses while saving (showing 5 of 5). These functions will not be directly callable after loading.\n"
     ]
    },
    {
     "name": "stdout",
     "output_type": "stream",
     "text": [
      "INFO:tensorflow:Assets written to: ./models/explore_idx/v2/retrained/v2/model/PWON/close_EMA10_G_s2/assets\n"
     ]
    },
    {
     "name": "stderr",
     "output_type": "stream",
     "text": [
      "INFO:tensorflow:Assets written to: ./models/explore_idx/v2/retrained/v2/model/PWON/close_EMA10_G_s2/assets\n",
      "WARNING:absl:<keras.layers.recurrent.LSTMCell object at 0x000001268C5EC340> has the same name 'LSTMCell' as a built-in Keras object. Consider renaming <class 'keras.layers.recurrent.LSTMCell'> to avoid naming conflicts when loading with `tf.keras.models.load_model`. If renaming is not possible, pass the object in the `custom_objects` parameter of the load function.\n"
     ]
    },
    {
     "name": "stdout",
     "output_type": "stream",
     "text": [
      "Current progress: 57/300 PWON close_EMA10_G_s2, time: 0:00:32.272387\n"
     ]
    },
    {
     "name": "stderr",
     "output_type": "stream",
     "text": [
      "WARNING:absl:Found untraced functions such as lstm_cell_62_layer_call_fn, lstm_cell_62_layer_call_and_return_conditional_losses, lstm_cell_62_layer_call_fn, lstm_cell_62_layer_call_and_return_conditional_losses, lstm_cell_62_layer_call_and_return_conditional_losses while saving (showing 5 of 5). These functions will not be directly callable after loading.\n"
     ]
    },
    {
     "name": "stdout",
     "output_type": "stream",
     "text": [
      "INFO:tensorflow:Assets written to: ./models/explore_idx/v2/retrained/v2/model/PNLF/close_EMA3_G_s2/assets\n"
     ]
    },
    {
     "name": "stderr",
     "output_type": "stream",
     "text": [
      "INFO:tensorflow:Assets written to: ./models/explore_idx/v2/retrained/v2/model/PNLF/close_EMA3_G_s2/assets\n",
      "WARNING:absl:<keras.layers.recurrent.LSTMCell object at 0x00000126F5CEF7F0> has the same name 'LSTMCell' as a built-in Keras object. Consider renaming <class 'keras.layers.recurrent.LSTMCell'> to avoid naming conflicts when loading with `tf.keras.models.load_model`. If renaming is not possible, pass the object in the `custom_objects` parameter of the load function.\n"
     ]
    },
    {
     "name": "stdout",
     "output_type": "stream",
     "text": [
      "Current progress: 58/300 PNLF close_EMA3_G_s2, time: 0:00:33.632638\n"
     ]
    },
    {
     "name": "stderr",
     "output_type": "stream",
     "text": [
      "WARNING:absl:Found untraced functions such as lstm_cell_63_layer_call_fn, lstm_cell_63_layer_call_and_return_conditional_losses, lstm_cell_63_layer_call_fn, lstm_cell_63_layer_call_and_return_conditional_losses, lstm_cell_63_layer_call_and_return_conditional_losses while saving (showing 5 of 5). These functions will not be directly callable after loading.\n"
     ]
    },
    {
     "name": "stdout",
     "output_type": "stream",
     "text": [
      "INFO:tensorflow:Assets written to: ./models/explore_idx/v2/retrained/v2/model/PNLF/close_EMA3_G_s1/assets\n"
     ]
    },
    {
     "name": "stderr",
     "output_type": "stream",
     "text": [
      "INFO:tensorflow:Assets written to: ./models/explore_idx/v2/retrained/v2/model/PNLF/close_EMA3_G_s1/assets\n",
      "WARNING:absl:<keras.layers.recurrent.LSTMCell object at 0x00000126F3C1AC70> has the same name 'LSTMCell' as a built-in Keras object. Consider renaming <class 'keras.layers.recurrent.LSTMCell'> to avoid naming conflicts when loading with `tf.keras.models.load_model`. If renaming is not possible, pass the object in the `custom_objects` parameter of the load function.\n"
     ]
    },
    {
     "name": "stdout",
     "output_type": "stream",
     "text": [
      "Current progress: 59/300 PNLF close_EMA3_G_s1, time: 0:00:32.762739\n"
     ]
    },
    {
     "name": "stderr",
     "output_type": "stream",
     "text": [
      "WARNING:absl:Found untraced functions such as lstm_cell_64_layer_call_fn, lstm_cell_64_layer_call_and_return_conditional_losses, lstm_cell_64_layer_call_fn, lstm_cell_64_layer_call_and_return_conditional_losses, lstm_cell_64_layer_call_and_return_conditional_losses while saving (showing 5 of 5). These functions will not be directly callable after loading.\n"
     ]
    },
    {
     "name": "stdout",
     "output_type": "stream",
     "text": [
      "INFO:tensorflow:Assets written to: ./models/explore_idx/v2/retrained/v2/model/PNLF/close_EMA10_G_s2/assets\n"
     ]
    },
    {
     "name": "stderr",
     "output_type": "stream",
     "text": [
      "INFO:tensorflow:Assets written to: ./models/explore_idx/v2/retrained/v2/model/PNLF/close_EMA10_G_s2/assets\n",
      "WARNING:absl:<keras.layers.recurrent.LSTMCell object at 0x000001268DF4D6A0> has the same name 'LSTMCell' as a built-in Keras object. Consider renaming <class 'keras.layers.recurrent.LSTMCell'> to avoid naming conflicts when loading with `tf.keras.models.load_model`. If renaming is not possible, pass the object in the `custom_objects` parameter of the load function.\n"
     ]
    },
    {
     "name": "stdout",
     "output_type": "stream",
     "text": [
      "Current progress: 60/300 PNLF close_EMA10_G_s2, time: 0:00:33.185118\n"
     ]
    },
    {
     "name": "stderr",
     "output_type": "stream",
     "text": [
      "WARNING:absl:Found untraced functions such as lstm_cell_65_layer_call_fn, lstm_cell_65_layer_call_and_return_conditional_losses, lstm_cell_65_layer_call_fn, lstm_cell_65_layer_call_and_return_conditional_losses, lstm_cell_65_layer_call_and_return_conditional_losses while saving (showing 5 of 5). These functions will not be directly callable after loading.\n"
     ]
    },
    {
     "name": "stdout",
     "output_type": "stream",
     "text": [
      "INFO:tensorflow:Assets written to: ./models/explore_idx/v2/retrained/v2/model/BNII/close_EMA3_G_s2/assets\n"
     ]
    },
    {
     "name": "stderr",
     "output_type": "stream",
     "text": [
      "INFO:tensorflow:Assets written to: ./models/explore_idx/v2/retrained/v2/model/BNII/close_EMA3_G_s2/assets\n",
      "WARNING:absl:<keras.layers.recurrent.LSTMCell object at 0x00000126F27BA9A0> has the same name 'LSTMCell' as a built-in Keras object. Consider renaming <class 'keras.layers.recurrent.LSTMCell'> to avoid naming conflicts when loading with `tf.keras.models.load_model`. If renaming is not possible, pass the object in the `custom_objects` parameter of the load function.\n"
     ]
    },
    {
     "name": "stdout",
     "output_type": "stream",
     "text": [
      "Current progress: 61/300 BNII close_EMA3_G_s2, time: 0:00:34.542524\n"
     ]
    },
    {
     "name": "stderr",
     "output_type": "stream",
     "text": [
      "WARNING:absl:Found untraced functions such as lstm_cell_66_layer_call_fn, lstm_cell_66_layer_call_and_return_conditional_losses, lstm_cell_66_layer_call_fn, lstm_cell_66_layer_call_and_return_conditional_losses, lstm_cell_66_layer_call_and_return_conditional_losses while saving (showing 5 of 5). These functions will not be directly callable after loading.\n"
     ]
    },
    {
     "name": "stdout",
     "output_type": "stream",
     "text": [
      "INFO:tensorflow:Assets written to: ./models/explore_idx/v2/retrained/v2/model/BNII/close_EMA3_G_s1/assets\n"
     ]
    },
    {
     "name": "stderr",
     "output_type": "stream",
     "text": [
      "INFO:tensorflow:Assets written to: ./models/explore_idx/v2/retrained/v2/model/BNII/close_EMA3_G_s1/assets\n",
      "WARNING:absl:<keras.layers.recurrent.LSTMCell object at 0x000001268A2C52E0> has the same name 'LSTMCell' as a built-in Keras object. Consider renaming <class 'keras.layers.recurrent.LSTMCell'> to avoid naming conflicts when loading with `tf.keras.models.load_model`. If renaming is not possible, pass the object in the `custom_objects` parameter of the load function.\n"
     ]
    },
    {
     "name": "stdout",
     "output_type": "stream",
     "text": [
      "Current progress: 62/300 BNII close_EMA3_G_s1, time: 0:00:33.275316\n"
     ]
    },
    {
     "name": "stderr",
     "output_type": "stream",
     "text": [
      "WARNING:absl:Found untraced functions such as lstm_cell_67_layer_call_fn, lstm_cell_67_layer_call_and_return_conditional_losses, lstm_cell_67_layer_call_fn, lstm_cell_67_layer_call_and_return_conditional_losses, lstm_cell_67_layer_call_and_return_conditional_losses while saving (showing 5 of 5). These functions will not be directly callable after loading.\n"
     ]
    },
    {
     "name": "stdout",
     "output_type": "stream",
     "text": [
      "INFO:tensorflow:Assets written to: ./models/explore_idx/v2/retrained/v2/model/BNII/close_EMA10_G_s2/assets\n"
     ]
    },
    {
     "name": "stderr",
     "output_type": "stream",
     "text": [
      "INFO:tensorflow:Assets written to: ./models/explore_idx/v2/retrained/v2/model/BNII/close_EMA10_G_s2/assets\n",
      "WARNING:absl:<keras.layers.recurrent.LSTMCell object at 0x00000126EF1B7F70> has the same name 'LSTMCell' as a built-in Keras object. Consider renaming <class 'keras.layers.recurrent.LSTMCell'> to avoid naming conflicts when loading with `tf.keras.models.load_model`. If renaming is not possible, pass the object in the `custom_objects` parameter of the load function.\n"
     ]
    },
    {
     "name": "stdout",
     "output_type": "stream",
     "text": [
      "Current progress: 63/300 BNII close_EMA10_G_s2, time: 0:00:33.037860\n"
     ]
    },
    {
     "name": "stderr",
     "output_type": "stream",
     "text": [
      "WARNING:absl:Found untraced functions such as lstm_cell_68_layer_call_fn, lstm_cell_68_layer_call_and_return_conditional_losses, lstm_cell_68_layer_call_fn, lstm_cell_68_layer_call_and_return_conditional_losses, lstm_cell_68_layer_call_and_return_conditional_losses while saving (showing 5 of 5). These functions will not be directly callable after loading.\n"
     ]
    },
    {
     "name": "stdout",
     "output_type": "stream",
     "text": [
      "INFO:tensorflow:Assets written to: ./models/explore_idx/v2/retrained/v2/model/PTBA/close_EMA3_G_s2/assets\n"
     ]
    },
    {
     "name": "stderr",
     "output_type": "stream",
     "text": [
      "INFO:tensorflow:Assets written to: ./models/explore_idx/v2/retrained/v2/model/PTBA/close_EMA3_G_s2/assets\n",
      "WARNING:absl:<keras.layers.recurrent.LSTMCell object at 0x00000126823F07F0> has the same name 'LSTMCell' as a built-in Keras object. Consider renaming <class 'keras.layers.recurrent.LSTMCell'> to avoid naming conflicts when loading with `tf.keras.models.load_model`. If renaming is not possible, pass the object in the `custom_objects` parameter of the load function.\n"
     ]
    },
    {
     "name": "stdout",
     "output_type": "stream",
     "text": [
      "Current progress: 64/300 PTBA close_EMA3_G_s2, time: 0:00:32.379137\n"
     ]
    },
    {
     "name": "stderr",
     "output_type": "stream",
     "text": [
      "WARNING:absl:Found untraced functions such as lstm_cell_69_layer_call_fn, lstm_cell_69_layer_call_and_return_conditional_losses, lstm_cell_69_layer_call_fn, lstm_cell_69_layer_call_and_return_conditional_losses, lstm_cell_69_layer_call_and_return_conditional_losses while saving (showing 5 of 5). These functions will not be directly callable after loading.\n"
     ]
    },
    {
     "name": "stdout",
     "output_type": "stream",
     "text": [
      "INFO:tensorflow:Assets written to: ./models/explore_idx/v2/retrained/v2/model/PTBA/close_EMA3_G_s1/assets\n"
     ]
    },
    {
     "name": "stderr",
     "output_type": "stream",
     "text": [
      "INFO:tensorflow:Assets written to: ./models/explore_idx/v2/retrained/v2/model/PTBA/close_EMA3_G_s1/assets\n",
      "WARNING:absl:<keras.layers.recurrent.LSTMCell object at 0x00000126F33B4B80> has the same name 'LSTMCell' as a built-in Keras object. Consider renaming <class 'keras.layers.recurrent.LSTMCell'> to avoid naming conflicts when loading with `tf.keras.models.load_model`. If renaming is not possible, pass the object in the `custom_objects` parameter of the load function.\n"
     ]
    },
    {
     "name": "stdout",
     "output_type": "stream",
     "text": [
      "Current progress: 65/300 PTBA close_EMA3_G_s1, time: 0:00:34.803837\n"
     ]
    },
    {
     "name": "stderr",
     "output_type": "stream",
     "text": [
      "WARNING:absl:Found untraced functions such as lstm_cell_70_layer_call_fn, lstm_cell_70_layer_call_and_return_conditional_losses, lstm_cell_70_layer_call_fn, lstm_cell_70_layer_call_and_return_conditional_losses, lstm_cell_70_layer_call_and_return_conditional_losses while saving (showing 5 of 5). These functions will not be directly callable after loading.\n"
     ]
    },
    {
     "name": "stdout",
     "output_type": "stream",
     "text": [
      "INFO:tensorflow:Assets written to: ./models/explore_idx/v2/retrained/v2/model/PTBA/close_EMA10_G_s2/assets\n"
     ]
    },
    {
     "name": "stderr",
     "output_type": "stream",
     "text": [
      "INFO:tensorflow:Assets written to: ./models/explore_idx/v2/retrained/v2/model/PTBA/close_EMA10_G_s2/assets\n",
      "WARNING:absl:<keras.layers.recurrent.LSTMCell object at 0x0000012682D65AF0> has the same name 'LSTMCell' as a built-in Keras object. Consider renaming <class 'keras.layers.recurrent.LSTMCell'> to avoid naming conflicts when loading with `tf.keras.models.load_model`. If renaming is not possible, pass the object in the `custom_objects` parameter of the load function.\n"
     ]
    },
    {
     "name": "stdout",
     "output_type": "stream",
     "text": [
      "Current progress: 66/300 PTBA close_EMA10_G_s2, time: 0:00:34.199149\n"
     ]
    },
    {
     "name": "stderr",
     "output_type": "stream",
     "text": [
      "WARNING:absl:Found untraced functions such as lstm_cell_71_layer_call_fn, lstm_cell_71_layer_call_and_return_conditional_losses, lstm_cell_71_layer_call_fn, lstm_cell_71_layer_call_and_return_conditional_losses, lstm_cell_71_layer_call_and_return_conditional_losses while saving (showing 5 of 5). These functions will not be directly callable after loading.\n"
     ]
    },
    {
     "name": "stdout",
     "output_type": "stream",
     "text": [
      "INFO:tensorflow:Assets written to: ./models/explore_idx/v2/retrained/v2/model/TINS/close_EMA3_G_s2/assets\n"
     ]
    },
    {
     "name": "stderr",
     "output_type": "stream",
     "text": [
      "INFO:tensorflow:Assets written to: ./models/explore_idx/v2/retrained/v2/model/TINS/close_EMA3_G_s2/assets\n",
      "WARNING:absl:<keras.layers.recurrent.LSTMCell object at 0x0000012689014400> has the same name 'LSTMCell' as a built-in Keras object. Consider renaming <class 'keras.layers.recurrent.LSTMCell'> to avoid naming conflicts when loading with `tf.keras.models.load_model`. If renaming is not possible, pass the object in the `custom_objects` parameter of the load function.\n"
     ]
    },
    {
     "name": "stdout",
     "output_type": "stream",
     "text": [
      "Current progress: 67/300 TINS close_EMA3_G_s2, time: 0:00:32.693888\n"
     ]
    },
    {
     "name": "stderr",
     "output_type": "stream",
     "text": [
      "WARNING:absl:Found untraced functions such as lstm_cell_72_layer_call_fn, lstm_cell_72_layer_call_and_return_conditional_losses, lstm_cell_72_layer_call_fn, lstm_cell_72_layer_call_and_return_conditional_losses, lstm_cell_72_layer_call_and_return_conditional_losses while saving (showing 5 of 5). These functions will not be directly callable after loading.\n"
     ]
    },
    {
     "name": "stdout",
     "output_type": "stream",
     "text": [
      "INFO:tensorflow:Assets written to: ./models/explore_idx/v2/retrained/v2/model/TINS/close_EMA3_G_s1/assets\n"
     ]
    },
    {
     "name": "stderr",
     "output_type": "stream",
     "text": [
      "INFO:tensorflow:Assets written to: ./models/explore_idx/v2/retrained/v2/model/TINS/close_EMA3_G_s1/assets\n",
      "WARNING:absl:<keras.layers.recurrent.LSTMCell object at 0x00000126936AD970> has the same name 'LSTMCell' as a built-in Keras object. Consider renaming <class 'keras.layers.recurrent.LSTMCell'> to avoid naming conflicts when loading with `tf.keras.models.load_model`. If renaming is not possible, pass the object in the `custom_objects` parameter of the load function.\n"
     ]
    },
    {
     "name": "stdout",
     "output_type": "stream",
     "text": [
      "Current progress: 68/300 TINS close_EMA3_G_s1, time: 0:00:32.455000\n"
     ]
    },
    {
     "name": "stderr",
     "output_type": "stream",
     "text": [
      "WARNING:absl:Found untraced functions such as lstm_cell_73_layer_call_fn, lstm_cell_73_layer_call_and_return_conditional_losses, lstm_cell_73_layer_call_fn, lstm_cell_73_layer_call_and_return_conditional_losses, lstm_cell_73_layer_call_and_return_conditional_losses while saving (showing 5 of 5). These functions will not be directly callable after loading.\n"
     ]
    },
    {
     "name": "stdout",
     "output_type": "stream",
     "text": [
      "INFO:tensorflow:Assets written to: ./models/explore_idx/v2/retrained/v2/model/TINS/close_EMA10_G_s2/assets\n"
     ]
    },
    {
     "name": "stderr",
     "output_type": "stream",
     "text": [
      "INFO:tensorflow:Assets written to: ./models/explore_idx/v2/retrained/v2/model/TINS/close_EMA10_G_s2/assets\n",
      "WARNING:absl:<keras.layers.recurrent.LSTMCell object at 0x00000126913A17C0> has the same name 'LSTMCell' as a built-in Keras object. Consider renaming <class 'keras.layers.recurrent.LSTMCell'> to avoid naming conflicts when loading with `tf.keras.models.load_model`. If renaming is not possible, pass the object in the `custom_objects` parameter of the load function.\n"
     ]
    },
    {
     "name": "stdout",
     "output_type": "stream",
     "text": [
      "Current progress: 69/300 TINS close_EMA10_G_s2, time: 0:00:32.574560\n"
     ]
    },
    {
     "name": "stderr",
     "output_type": "stream",
     "text": [
      "WARNING:absl:Found untraced functions such as lstm_cell_74_layer_call_fn, lstm_cell_74_layer_call_and_return_conditional_losses, lstm_cell_74_layer_call_fn, lstm_cell_74_layer_call_and_return_conditional_losses, lstm_cell_74_layer_call_and_return_conditional_losses while saving (showing 5 of 5). These functions will not be directly callable after loading.\n"
     ]
    },
    {
     "name": "stdout",
     "output_type": "stream",
     "text": [
      "INFO:tensorflow:Assets written to: ./models/explore_idx/v2/retrained/v2/model/ELSA/close_EMA3_G_s2/assets\n"
     ]
    },
    {
     "name": "stderr",
     "output_type": "stream",
     "text": [
      "INFO:tensorflow:Assets written to: ./models/explore_idx/v2/retrained/v2/model/ELSA/close_EMA3_G_s2/assets\n",
      "WARNING:absl:<keras.layers.recurrent.LSTMCell object at 0x000001268304B610> has the same name 'LSTMCell' as a built-in Keras object. Consider renaming <class 'keras.layers.recurrent.LSTMCell'> to avoid naming conflicts when loading with `tf.keras.models.load_model`. If renaming is not possible, pass the object in the `custom_objects` parameter of the load function.\n"
     ]
    },
    {
     "name": "stdout",
     "output_type": "stream",
     "text": [
      "Current progress: 70/300 ELSA close_EMA3_G_s2, time: 0:00:32.874555\n"
     ]
    },
    {
     "name": "stderr",
     "output_type": "stream",
     "text": [
      "WARNING:absl:Found untraced functions such as lstm_cell_75_layer_call_fn, lstm_cell_75_layer_call_and_return_conditional_losses, lstm_cell_75_layer_call_fn, lstm_cell_75_layer_call_and_return_conditional_losses, lstm_cell_75_layer_call_and_return_conditional_losses while saving (showing 5 of 5). These functions will not be directly callable after loading.\n"
     ]
    },
    {
     "name": "stdout",
     "output_type": "stream",
     "text": [
      "INFO:tensorflow:Assets written to: ./models/explore_idx/v2/retrained/v2/model/ELSA/close_EMA3_G_s1/assets\n"
     ]
    },
    {
     "name": "stderr",
     "output_type": "stream",
     "text": [
      "INFO:tensorflow:Assets written to: ./models/explore_idx/v2/retrained/v2/model/ELSA/close_EMA3_G_s1/assets\n",
      "WARNING:absl:<keras.layers.recurrent.LSTMCell object at 0x000001268B0B61C0> has the same name 'LSTMCell' as a built-in Keras object. Consider renaming <class 'keras.layers.recurrent.LSTMCell'> to avoid naming conflicts when loading with `tf.keras.models.load_model`. If renaming is not possible, pass the object in the `custom_objects` parameter of the load function.\n"
     ]
    },
    {
     "name": "stdout",
     "output_type": "stream",
     "text": [
      "Current progress: 71/300 ELSA close_EMA3_G_s1, time: 0:00:33.210311\n"
     ]
    },
    {
     "name": "stderr",
     "output_type": "stream",
     "text": [
      "WARNING:absl:Found untraced functions such as lstm_cell_76_layer_call_fn, lstm_cell_76_layer_call_and_return_conditional_losses, lstm_cell_76_layer_call_fn, lstm_cell_76_layer_call_and_return_conditional_losses, lstm_cell_76_layer_call_and_return_conditional_losses while saving (showing 5 of 5). These functions will not be directly callable after loading.\n"
     ]
    },
    {
     "name": "stdout",
     "output_type": "stream",
     "text": [
      "INFO:tensorflow:Assets written to: ./models/explore_idx/v2/retrained/v2/model/ELSA/close_EMA10_G_s2/assets\n"
     ]
    },
    {
     "name": "stderr",
     "output_type": "stream",
     "text": [
      "INFO:tensorflow:Assets written to: ./models/explore_idx/v2/retrained/v2/model/ELSA/close_EMA10_G_s2/assets\n",
      "WARNING:absl:<keras.layers.recurrent.LSTMCell object at 0x0000012694C0EA00> has the same name 'LSTMCell' as a built-in Keras object. Consider renaming <class 'keras.layers.recurrent.LSTMCell'> to avoid naming conflicts when loading with `tf.keras.models.load_model`. If renaming is not possible, pass the object in the `custom_objects` parameter of the load function.\n"
     ]
    },
    {
     "name": "stdout",
     "output_type": "stream",
     "text": [
      "Current progress: 72/300 ELSA close_EMA10_G_s2, time: 0:00:33.924966\n"
     ]
    },
    {
     "name": "stderr",
     "output_type": "stream",
     "text": [
      "WARNING:absl:Found untraced functions such as lstm_cell_77_layer_call_fn, lstm_cell_77_layer_call_and_return_conditional_losses, lstm_cell_77_layer_call_fn, lstm_cell_77_layer_call_and_return_conditional_losses, lstm_cell_77_layer_call_and_return_conditional_losses while saving (showing 5 of 5). These functions will not be directly callable after loading.\n"
     ]
    },
    {
     "name": "stdout",
     "output_type": "stream",
     "text": [
      "INFO:tensorflow:Assets written to: ./models/explore_idx/v2/retrained/v2/model/MLPL/close_EMA3_G_s2/assets\n"
     ]
    },
    {
     "name": "stderr",
     "output_type": "stream",
     "text": [
      "INFO:tensorflow:Assets written to: ./models/explore_idx/v2/retrained/v2/model/MLPL/close_EMA3_G_s2/assets\n",
      "WARNING:absl:<keras.layers.recurrent.LSTMCell object at 0x000001268248E970> has the same name 'LSTMCell' as a built-in Keras object. Consider renaming <class 'keras.layers.recurrent.LSTMCell'> to avoid naming conflicts when loading with `tf.keras.models.load_model`. If renaming is not possible, pass the object in the `custom_objects` parameter of the load function.\n"
     ]
    },
    {
     "name": "stdout",
     "output_type": "stream",
     "text": [
      "Current progress: 73/300 MLPL close_EMA3_G_s2, time: 0:00:32.746955\n"
     ]
    },
    {
     "name": "stderr",
     "output_type": "stream",
     "text": [
      "WARNING:absl:Found untraced functions such as lstm_cell_78_layer_call_fn, lstm_cell_78_layer_call_and_return_conditional_losses, lstm_cell_78_layer_call_fn, lstm_cell_78_layer_call_and_return_conditional_losses, lstm_cell_78_layer_call_and_return_conditional_losses while saving (showing 5 of 5). These functions will not be directly callable after loading.\n"
     ]
    },
    {
     "name": "stdout",
     "output_type": "stream",
     "text": [
      "INFO:tensorflow:Assets written to: ./models/explore_idx/v2/retrained/v2/model/MLPL/close_EMA3_G_s1/assets\n"
     ]
    },
    {
     "name": "stderr",
     "output_type": "stream",
     "text": [
      "INFO:tensorflow:Assets written to: ./models/explore_idx/v2/retrained/v2/model/MLPL/close_EMA3_G_s1/assets\n",
      "WARNING:absl:<keras.layers.recurrent.LSTMCell object at 0x00000126F21255E0> has the same name 'LSTMCell' as a built-in Keras object. Consider renaming <class 'keras.layers.recurrent.LSTMCell'> to avoid naming conflicts when loading with `tf.keras.models.load_model`. If renaming is not possible, pass the object in the `custom_objects` parameter of the load function.\n"
     ]
    },
    {
     "name": "stdout",
     "output_type": "stream",
     "text": [
      "Current progress: 74/300 MLPL close_EMA3_G_s1, time: 0:00:32.960398\n"
     ]
    },
    {
     "name": "stderr",
     "output_type": "stream",
     "text": [
      "WARNING:absl:Found untraced functions such as lstm_cell_79_layer_call_fn, lstm_cell_79_layer_call_and_return_conditional_losses, lstm_cell_79_layer_call_fn, lstm_cell_79_layer_call_and_return_conditional_losses, lstm_cell_79_layer_call_and_return_conditional_losses while saving (showing 5 of 5). These functions will not be directly callable after loading.\n"
     ]
    },
    {
     "name": "stdout",
     "output_type": "stream",
     "text": [
      "INFO:tensorflow:Assets written to: ./models/explore_idx/v2/retrained/v2/model/MLPL/close_EMA10_G_s2/assets\n"
     ]
    },
    {
     "name": "stderr",
     "output_type": "stream",
     "text": [
      "INFO:tensorflow:Assets written to: ./models/explore_idx/v2/retrained/v2/model/MLPL/close_EMA10_G_s2/assets\n",
      "WARNING:absl:<keras.layers.recurrent.LSTMCell object at 0x00000126F397C0D0> has the same name 'LSTMCell' as a built-in Keras object. Consider renaming <class 'keras.layers.recurrent.LSTMCell'> to avoid naming conflicts when loading with `tf.keras.models.load_model`. If renaming is not possible, pass the object in the `custom_objects` parameter of the load function.\n"
     ]
    },
    {
     "name": "stdout",
     "output_type": "stream",
     "text": [
      "Current progress: 75/300 MLPL close_EMA10_G_s2, time: 0:00:34.145963\n"
     ]
    },
    {
     "name": "stderr",
     "output_type": "stream",
     "text": [
      "WARNING:absl:Found untraced functions such as lstm_cell_80_layer_call_fn, lstm_cell_80_layer_call_and_return_conditional_losses, lstm_cell_80_layer_call_fn, lstm_cell_80_layer_call_and_return_conditional_losses, lstm_cell_80_layer_call_and_return_conditional_losses while saving (showing 5 of 5). These functions will not be directly callable after loading.\n"
     ]
    },
    {
     "name": "stdout",
     "output_type": "stream",
     "text": [
      "INFO:tensorflow:Assets written to: ./models/explore_idx/v2/retrained/v2/model/DOID/close_EMA3_G_s2/assets\n"
     ]
    },
    {
     "name": "stderr",
     "output_type": "stream",
     "text": [
      "INFO:tensorflow:Assets written to: ./models/explore_idx/v2/retrained/v2/model/DOID/close_EMA3_G_s2/assets\n",
      "WARNING:absl:<keras.layers.recurrent.LSTMCell object at 0x00000126F926BD60> has the same name 'LSTMCell' as a built-in Keras object. Consider renaming <class 'keras.layers.recurrent.LSTMCell'> to avoid naming conflicts when loading with `tf.keras.models.load_model`. If renaming is not possible, pass the object in the `custom_objects` parameter of the load function.\n"
     ]
    },
    {
     "name": "stdout",
     "output_type": "stream",
     "text": [
      "Current progress: 76/300 DOID close_EMA3_G_s2, time: 0:00:33.477261\n"
     ]
    },
    {
     "name": "stderr",
     "output_type": "stream",
     "text": [
      "WARNING:absl:Found untraced functions such as lstm_cell_81_layer_call_fn, lstm_cell_81_layer_call_and_return_conditional_losses, lstm_cell_81_layer_call_fn, lstm_cell_81_layer_call_and_return_conditional_losses, lstm_cell_81_layer_call_and_return_conditional_losses while saving (showing 5 of 5). These functions will not be directly callable after loading.\n"
     ]
    },
    {
     "name": "stdout",
     "output_type": "stream",
     "text": [
      "INFO:tensorflow:Assets written to: ./models/explore_idx/v2/retrained/v2/model/DOID/close_EMA3_G_s1/assets\n"
     ]
    },
    {
     "name": "stderr",
     "output_type": "stream",
     "text": [
      "INFO:tensorflow:Assets written to: ./models/explore_idx/v2/retrained/v2/model/DOID/close_EMA3_G_s1/assets\n",
      "WARNING:absl:<keras.layers.recurrent.LSTMCell object at 0x000001268CA3B250> has the same name 'LSTMCell' as a built-in Keras object. Consider renaming <class 'keras.layers.recurrent.LSTMCell'> to avoid naming conflicts when loading with `tf.keras.models.load_model`. If renaming is not possible, pass the object in the `custom_objects` parameter of the load function.\n"
     ]
    },
    {
     "name": "stdout",
     "output_type": "stream",
     "text": [
      "Current progress: 77/300 DOID close_EMA3_G_s1, time: 0:00:33.505749\n"
     ]
    },
    {
     "name": "stderr",
     "output_type": "stream",
     "text": [
      "WARNING:absl:Found untraced functions such as lstm_cell_82_layer_call_fn, lstm_cell_82_layer_call_and_return_conditional_losses, lstm_cell_82_layer_call_fn, lstm_cell_82_layer_call_and_return_conditional_losses, lstm_cell_82_layer_call_and_return_conditional_losses while saving (showing 5 of 5). These functions will not be directly callable after loading.\n"
     ]
    },
    {
     "name": "stdout",
     "output_type": "stream",
     "text": [
      "INFO:tensorflow:Assets written to: ./models/explore_idx/v2/retrained/v2/model/DOID/close_EMA10_G_s2/assets\n"
     ]
    },
    {
     "name": "stderr",
     "output_type": "stream",
     "text": [
      "INFO:tensorflow:Assets written to: ./models/explore_idx/v2/retrained/v2/model/DOID/close_EMA10_G_s2/assets\n",
      "WARNING:absl:<keras.layers.recurrent.LSTMCell object at 0x00000126F6EC3880> has the same name 'LSTMCell' as a built-in Keras object. Consider renaming <class 'keras.layers.recurrent.LSTMCell'> to avoid naming conflicts when loading with `tf.keras.models.load_model`. If renaming is not possible, pass the object in the `custom_objects` parameter of the load function.\n"
     ]
    },
    {
     "name": "stdout",
     "output_type": "stream",
     "text": [
      "Current progress: 78/300 DOID close_EMA10_G_s2, time: 0:00:32.294702\n"
     ]
    },
    {
     "name": "stderr",
     "output_type": "stream",
     "text": [
      "WARNING:absl:Found untraced functions such as lstm_cell_83_layer_call_fn, lstm_cell_83_layer_call_and_return_conditional_losses, lstm_cell_83_layer_call_fn, lstm_cell_83_layer_call_and_return_conditional_losses, lstm_cell_83_layer_call_and_return_conditional_losses while saving (showing 5 of 5). These functions will not be directly callable after loading.\n"
     ]
    },
    {
     "name": "stdout",
     "output_type": "stream",
     "text": [
      "INFO:tensorflow:Assets written to: ./models/explore_idx/v2/retrained/v2/model/KREN/close_EMA3_G_s2/assets\n"
     ]
    },
    {
     "name": "stderr",
     "output_type": "stream",
     "text": [
      "INFO:tensorflow:Assets written to: ./models/explore_idx/v2/retrained/v2/model/KREN/close_EMA3_G_s2/assets\n",
      "WARNING:absl:<keras.layers.recurrent.LSTMCell object at 0x00000126917A8DC0> has the same name 'LSTMCell' as a built-in Keras object. Consider renaming <class 'keras.layers.recurrent.LSTMCell'> to avoid naming conflicts when loading with `tf.keras.models.load_model`. If renaming is not possible, pass the object in the `custom_objects` parameter of the load function.\n"
     ]
    },
    {
     "name": "stdout",
     "output_type": "stream",
     "text": [
      "Current progress: 79/300 KREN close_EMA3_G_s2, time: 0:00:34.072442\n"
     ]
    },
    {
     "name": "stderr",
     "output_type": "stream",
     "text": [
      "WARNING:absl:Found untraced functions such as lstm_cell_84_layer_call_fn, lstm_cell_84_layer_call_and_return_conditional_losses, lstm_cell_84_layer_call_fn, lstm_cell_84_layer_call_and_return_conditional_losses, lstm_cell_84_layer_call_and_return_conditional_losses while saving (showing 5 of 5). These functions will not be directly callable after loading.\n"
     ]
    },
    {
     "name": "stdout",
     "output_type": "stream",
     "text": [
      "INFO:tensorflow:Assets written to: ./models/explore_idx/v2/retrained/v2/model/KREN/close_EMA3_G_s1/assets\n"
     ]
    },
    {
     "name": "stderr",
     "output_type": "stream",
     "text": [
      "INFO:tensorflow:Assets written to: ./models/explore_idx/v2/retrained/v2/model/KREN/close_EMA3_G_s1/assets\n",
      "WARNING:absl:<keras.layers.recurrent.LSTMCell object at 0x0000012687AEC100> has the same name 'LSTMCell' as a built-in Keras object. Consider renaming <class 'keras.layers.recurrent.LSTMCell'> to avoid naming conflicts when loading with `tf.keras.models.load_model`. If renaming is not possible, pass the object in the `custom_objects` parameter of the load function.\n"
     ]
    },
    {
     "name": "stdout",
     "output_type": "stream",
     "text": [
      "Current progress: 80/300 KREN close_EMA3_G_s1, time: 0:00:32.605577\n"
     ]
    },
    {
     "name": "stderr",
     "output_type": "stream",
     "text": [
      "WARNING:absl:Found untraced functions such as lstm_cell_85_layer_call_fn, lstm_cell_85_layer_call_and_return_conditional_losses, lstm_cell_85_layer_call_fn, lstm_cell_85_layer_call_and_return_conditional_losses, lstm_cell_85_layer_call_and_return_conditional_losses while saving (showing 5 of 5). These functions will not be directly callable after loading.\n"
     ]
    },
    {
     "name": "stdout",
     "output_type": "stream",
     "text": [
      "INFO:tensorflow:Assets written to: ./models/explore_idx/v2/retrained/v2/model/KREN/close_EMA10_G_s2/assets\n"
     ]
    },
    {
     "name": "stderr",
     "output_type": "stream",
     "text": [
      "INFO:tensorflow:Assets written to: ./models/explore_idx/v2/retrained/v2/model/KREN/close_EMA10_G_s2/assets\n",
      "WARNING:absl:<keras.layers.recurrent.LSTMCell object at 0x000001268A917E50> has the same name 'LSTMCell' as a built-in Keras object. Consider renaming <class 'keras.layers.recurrent.LSTMCell'> to avoid naming conflicts when loading with `tf.keras.models.load_model`. If renaming is not possible, pass the object in the `custom_objects` parameter of the load function.\n"
     ]
    },
    {
     "name": "stdout",
     "output_type": "stream",
     "text": [
      "Current progress: 81/300 KREN close_EMA10_G_s2, time: 0:00:33.202670\n"
     ]
    },
    {
     "name": "stderr",
     "output_type": "stream",
     "text": [
      "WARNING:absl:Found untraced functions such as lstm_cell_86_layer_call_fn, lstm_cell_86_layer_call_and_return_conditional_losses, lstm_cell_86_layer_call_fn, lstm_cell_86_layer_call_and_return_conditional_losses, lstm_cell_86_layer_call_and_return_conditional_losses while saving (showing 5 of 5). These functions will not be directly callable after loading.\n"
     ]
    },
    {
     "name": "stdout",
     "output_type": "stream",
     "text": [
      "INFO:tensorflow:Assets written to: ./models/explore_idx/v2/retrained/v2/model/CNKO/close_EMA3_G_s2/assets\n"
     ]
    },
    {
     "name": "stderr",
     "output_type": "stream",
     "text": [
      "INFO:tensorflow:Assets written to: ./models/explore_idx/v2/retrained/v2/model/CNKO/close_EMA3_G_s2/assets\n",
      "WARNING:absl:<keras.layers.recurrent.LSTMCell object at 0x00000126909E5BB0> has the same name 'LSTMCell' as a built-in Keras object. Consider renaming <class 'keras.layers.recurrent.LSTMCell'> to avoid naming conflicts when loading with `tf.keras.models.load_model`. If renaming is not possible, pass the object in the `custom_objects` parameter of the load function.\n"
     ]
    },
    {
     "name": "stdout",
     "output_type": "stream",
     "text": [
      "Current progress: 82/300 CNKO close_EMA3_G_s2, time: 0:00:33.593206\n"
     ]
    },
    {
     "name": "stderr",
     "output_type": "stream",
     "text": [
      "WARNING:absl:Found untraced functions such as lstm_cell_87_layer_call_fn, lstm_cell_87_layer_call_and_return_conditional_losses, lstm_cell_87_layer_call_fn, lstm_cell_87_layer_call_and_return_conditional_losses, lstm_cell_87_layer_call_and_return_conditional_losses while saving (showing 5 of 5). These functions will not be directly callable after loading.\n"
     ]
    },
    {
     "name": "stdout",
     "output_type": "stream",
     "text": [
      "INFO:tensorflow:Assets written to: ./models/explore_idx/v2/retrained/v2/model/CNKO/close_EMA3_G_s1/assets\n"
     ]
    },
    {
     "name": "stderr",
     "output_type": "stream",
     "text": [
      "INFO:tensorflow:Assets written to: ./models/explore_idx/v2/retrained/v2/model/CNKO/close_EMA3_G_s1/assets\n",
      "WARNING:absl:<keras.layers.recurrent.LSTMCell object at 0x000001269009B730> has the same name 'LSTMCell' as a built-in Keras object. Consider renaming <class 'keras.layers.recurrent.LSTMCell'> to avoid naming conflicts when loading with `tf.keras.models.load_model`. If renaming is not possible, pass the object in the `custom_objects` parameter of the load function.\n"
     ]
    },
    {
     "name": "stdout",
     "output_type": "stream",
     "text": [
      "Current progress: 83/300 CNKO close_EMA3_G_s1, time: 0:00:32.758036\n"
     ]
    },
    {
     "name": "stderr",
     "output_type": "stream",
     "text": [
      "WARNING:absl:Found untraced functions such as lstm_cell_88_layer_call_fn, lstm_cell_88_layer_call_and_return_conditional_losses, lstm_cell_88_layer_call_fn, lstm_cell_88_layer_call_and_return_conditional_losses, lstm_cell_88_layer_call_and_return_conditional_losses while saving (showing 5 of 5). These functions will not be directly callable after loading.\n"
     ]
    },
    {
     "name": "stdout",
     "output_type": "stream",
     "text": [
      "INFO:tensorflow:Assets written to: ./models/explore_idx/v2/retrained/v2/model/CNKO/close_EMA10_G_s2/assets\n"
     ]
    },
    {
     "name": "stderr",
     "output_type": "stream",
     "text": [
      "INFO:tensorflow:Assets written to: ./models/explore_idx/v2/retrained/v2/model/CNKO/close_EMA10_G_s2/assets\n",
      "WARNING:absl:<keras.layers.recurrent.LSTMCell object at 0x000001268C222610> has the same name 'LSTMCell' as a built-in Keras object. Consider renaming <class 'keras.layers.recurrent.LSTMCell'> to avoid naming conflicts when loading with `tf.keras.models.load_model`. If renaming is not possible, pass the object in the `custom_objects` parameter of the load function.\n"
     ]
    },
    {
     "name": "stdout",
     "output_type": "stream",
     "text": [
      "Current progress: 84/300 CNKO close_EMA10_G_s2, time: 0:00:33.799653\n"
     ]
    },
    {
     "name": "stderr",
     "output_type": "stream",
     "text": [
      "WARNING:absl:Found untraced functions such as lstm_cell_89_layer_call_fn, lstm_cell_89_layer_call_and_return_conditional_losses, lstm_cell_89_layer_call_fn, lstm_cell_89_layer_call_and_return_conditional_losses, lstm_cell_89_layer_call_and_return_conditional_losses while saving (showing 5 of 5). These functions will not be directly callable after loading.\n"
     ]
    },
    {
     "name": "stdout",
     "output_type": "stream",
     "text": [
      "INFO:tensorflow:Assets written to: ./models/explore_idx/v2/retrained/v2/model/CTRA/close_EMA3_G_s2/assets\n"
     ]
    },
    {
     "name": "stderr",
     "output_type": "stream",
     "text": [
      "INFO:tensorflow:Assets written to: ./models/explore_idx/v2/retrained/v2/model/CTRA/close_EMA3_G_s2/assets\n",
      "WARNING:absl:<keras.layers.recurrent.LSTMCell object at 0x000001268CB09DC0> has the same name 'LSTMCell' as a built-in Keras object. Consider renaming <class 'keras.layers.recurrent.LSTMCell'> to avoid naming conflicts when loading with `tf.keras.models.load_model`. If renaming is not possible, pass the object in the `custom_objects` parameter of the load function.\n"
     ]
    },
    {
     "name": "stdout",
     "output_type": "stream",
     "text": [
      "Current progress: 85/300 CTRA close_EMA3_G_s2, time: 0:00:33.090010\n"
     ]
    },
    {
     "name": "stderr",
     "output_type": "stream",
     "text": [
      "WARNING:absl:Found untraced functions such as lstm_cell_90_layer_call_fn, lstm_cell_90_layer_call_and_return_conditional_losses, lstm_cell_90_layer_call_fn, lstm_cell_90_layer_call_and_return_conditional_losses, lstm_cell_90_layer_call_and_return_conditional_losses while saving (showing 5 of 5). These functions will not be directly callable after loading.\n"
     ]
    },
    {
     "name": "stdout",
     "output_type": "stream",
     "text": [
      "INFO:tensorflow:Assets written to: ./models/explore_idx/v2/retrained/v2/model/CTRA/close_EMA3_G_s1/assets\n"
     ]
    },
    {
     "name": "stderr",
     "output_type": "stream",
     "text": [
      "INFO:tensorflow:Assets written to: ./models/explore_idx/v2/retrained/v2/model/CTRA/close_EMA3_G_s1/assets\n",
      "WARNING:absl:<keras.layers.recurrent.LSTMCell object at 0x00000126F85B94F0> has the same name 'LSTMCell' as a built-in Keras object. Consider renaming <class 'keras.layers.recurrent.LSTMCell'> to avoid naming conflicts when loading with `tf.keras.models.load_model`. If renaming is not possible, pass the object in the `custom_objects` parameter of the load function.\n"
     ]
    },
    {
     "name": "stdout",
     "output_type": "stream",
     "text": [
      "Current progress: 86/300 CTRA close_EMA3_G_s1, time: 0:00:33.819039\n"
     ]
    },
    {
     "name": "stderr",
     "output_type": "stream",
     "text": [
      "WARNING:absl:Found untraced functions such as lstm_cell_91_layer_call_fn, lstm_cell_91_layer_call_and_return_conditional_losses, lstm_cell_91_layer_call_fn, lstm_cell_91_layer_call_and_return_conditional_losses, lstm_cell_91_layer_call_and_return_conditional_losses while saving (showing 5 of 5). These functions will not be directly callable after loading.\n"
     ]
    },
    {
     "name": "stdout",
     "output_type": "stream",
     "text": [
      "INFO:tensorflow:Assets written to: ./models/explore_idx/v2/retrained/v2/model/CTRA/close_EMA10_G_s2/assets\n"
     ]
    },
    {
     "name": "stderr",
     "output_type": "stream",
     "text": [
      "INFO:tensorflow:Assets written to: ./models/explore_idx/v2/retrained/v2/model/CTRA/close_EMA10_G_s2/assets\n",
      "WARNING:absl:<keras.layers.recurrent.LSTMCell object at 0x00000126901B7790> has the same name 'LSTMCell' as a built-in Keras object. Consider renaming <class 'keras.layers.recurrent.LSTMCell'> to avoid naming conflicts when loading with `tf.keras.models.load_model`. If renaming is not possible, pass the object in the `custom_objects` parameter of the load function.\n"
     ]
    },
    {
     "name": "stdout",
     "output_type": "stream",
     "text": [
      "Current progress: 87/300 CTRA close_EMA10_G_s2, time: 0:00:35.648468\n"
     ]
    },
    {
     "name": "stderr",
     "output_type": "stream",
     "text": [
      "WARNING:absl:Found untraced functions such as lstm_cell_92_layer_call_fn, lstm_cell_92_layer_call_and_return_conditional_losses, lstm_cell_92_layer_call_fn, lstm_cell_92_layer_call_and_return_conditional_losses, lstm_cell_92_layer_call_and_return_conditional_losses while saving (showing 5 of 5). These functions will not be directly callable after loading.\n"
     ]
    },
    {
     "name": "stdout",
     "output_type": "stream",
     "text": [
      "INFO:tensorflow:Assets written to: ./models/explore_idx/v2/retrained/v2/model/META/close_EMA3_G_s2/assets\n"
     ]
    },
    {
     "name": "stderr",
     "output_type": "stream",
     "text": [
      "INFO:tensorflow:Assets written to: ./models/explore_idx/v2/retrained/v2/model/META/close_EMA3_G_s2/assets\n",
      "WARNING:absl:<keras.layers.recurrent.LSTMCell object at 0x00000126F71822E0> has the same name 'LSTMCell' as a built-in Keras object. Consider renaming <class 'keras.layers.recurrent.LSTMCell'> to avoid naming conflicts when loading with `tf.keras.models.load_model`. If renaming is not possible, pass the object in the `custom_objects` parameter of the load function.\n"
     ]
    },
    {
     "name": "stdout",
     "output_type": "stream",
     "text": [
      "Current progress: 88/300 META close_EMA3_G_s2, time: 0:00:34.602117\n"
     ]
    },
    {
     "name": "stderr",
     "output_type": "stream",
     "text": [
      "WARNING:absl:Found untraced functions such as lstm_cell_93_layer_call_fn, lstm_cell_93_layer_call_and_return_conditional_losses, lstm_cell_93_layer_call_fn, lstm_cell_93_layer_call_and_return_conditional_losses, lstm_cell_93_layer_call_and_return_conditional_losses while saving (showing 5 of 5). These functions will not be directly callable after loading.\n"
     ]
    },
    {
     "name": "stdout",
     "output_type": "stream",
     "text": [
      "INFO:tensorflow:Assets written to: ./models/explore_idx/v2/retrained/v2/model/META/close_EMA3_G_s1/assets\n"
     ]
    },
    {
     "name": "stderr",
     "output_type": "stream",
     "text": [
      "INFO:tensorflow:Assets written to: ./models/explore_idx/v2/retrained/v2/model/META/close_EMA3_G_s1/assets\n",
      "WARNING:absl:<keras.layers.recurrent.LSTMCell object at 0x00000126893B0A60> has the same name 'LSTMCell' as a built-in Keras object. Consider renaming <class 'keras.layers.recurrent.LSTMCell'> to avoid naming conflicts when loading with `tf.keras.models.load_model`. If renaming is not possible, pass the object in the `custom_objects` parameter of the load function.\n"
     ]
    },
    {
     "name": "stdout",
     "output_type": "stream",
     "text": [
      "Current progress: 89/300 META close_EMA3_G_s1, time: 0:00:34.831865\n"
     ]
    },
    {
     "name": "stderr",
     "output_type": "stream",
     "text": [
      "WARNING:absl:Found untraced functions such as lstm_cell_94_layer_call_fn, lstm_cell_94_layer_call_and_return_conditional_losses, lstm_cell_94_layer_call_fn, lstm_cell_94_layer_call_and_return_conditional_losses, lstm_cell_94_layer_call_and_return_conditional_losses while saving (showing 5 of 5). These functions will not be directly callable after loading.\n"
     ]
    },
    {
     "name": "stdout",
     "output_type": "stream",
     "text": [
      "INFO:tensorflow:Assets written to: ./models/explore_idx/v2/retrained/v2/model/META/close_EMA10_G_s2/assets\n"
     ]
    },
    {
     "name": "stderr",
     "output_type": "stream",
     "text": [
      "INFO:tensorflow:Assets written to: ./models/explore_idx/v2/retrained/v2/model/META/close_EMA10_G_s2/assets\n",
      "WARNING:absl:<keras.layers.recurrent.LSTMCell object at 0x000001268A207C70> has the same name 'LSTMCell' as a built-in Keras object. Consider renaming <class 'keras.layers.recurrent.LSTMCell'> to avoid naming conflicts when loading with `tf.keras.models.load_model`. If renaming is not possible, pass the object in the `custom_objects` parameter of the load function.\n"
     ]
    },
    {
     "name": "stdout",
     "output_type": "stream",
     "text": [
      "Current progress: 90/300 META close_EMA10_G_s2, time: 0:00:34.485480\n"
     ]
    },
    {
     "name": "stderr",
     "output_type": "stream",
     "text": [
      "WARNING:absl:Found untraced functions such as lstm_cell_95_layer_call_fn, lstm_cell_95_layer_call_and_return_conditional_losses, lstm_cell_95_layer_call_fn, lstm_cell_95_layer_call_and_return_conditional_losses, lstm_cell_95_layer_call_and_return_conditional_losses while saving (showing 5 of 5). These functions will not be directly callable after loading.\n"
     ]
    },
    {
     "name": "stdout",
     "output_type": "stream",
     "text": [
      "INFO:tensorflow:Assets written to: ./models/explore_idx/v2/retrained/v2/model/ENRG/close_EMA3_G_s2/assets\n"
     ]
    },
    {
     "name": "stderr",
     "output_type": "stream",
     "text": [
      "INFO:tensorflow:Assets written to: ./models/explore_idx/v2/retrained/v2/model/ENRG/close_EMA3_G_s2/assets\n",
      "WARNING:absl:<keras.layers.recurrent.LSTMCell object at 0x000001269103C880> has the same name 'LSTMCell' as a built-in Keras object. Consider renaming <class 'keras.layers.recurrent.LSTMCell'> to avoid naming conflicts when loading with `tf.keras.models.load_model`. If renaming is not possible, pass the object in the `custom_objects` parameter of the load function.\n"
     ]
    },
    {
     "name": "stdout",
     "output_type": "stream",
     "text": [
      "Current progress: 91/300 ENRG close_EMA3_G_s2, time: 0:00:33.975287\n"
     ]
    },
    {
     "name": "stderr",
     "output_type": "stream",
     "text": [
      "WARNING:absl:Found untraced functions such as lstm_cell_96_layer_call_fn, lstm_cell_96_layer_call_and_return_conditional_losses, lstm_cell_96_layer_call_fn, lstm_cell_96_layer_call_and_return_conditional_losses, lstm_cell_96_layer_call_and_return_conditional_losses while saving (showing 5 of 5). These functions will not be directly callable after loading.\n"
     ]
    },
    {
     "name": "stdout",
     "output_type": "stream",
     "text": [
      "INFO:tensorflow:Assets written to: ./models/explore_idx/v2/retrained/v2/model/ENRG/close_EMA3_G_s1/assets\n"
     ]
    },
    {
     "name": "stderr",
     "output_type": "stream",
     "text": [
      "INFO:tensorflow:Assets written to: ./models/explore_idx/v2/retrained/v2/model/ENRG/close_EMA3_G_s1/assets\n",
      "WARNING:absl:<keras.layers.recurrent.LSTMCell object at 0x00000126831115B0> has the same name 'LSTMCell' as a built-in Keras object. Consider renaming <class 'keras.layers.recurrent.LSTMCell'> to avoid naming conflicts when loading with `tf.keras.models.load_model`. If renaming is not possible, pass the object in the `custom_objects` parameter of the load function.\n"
     ]
    },
    {
     "name": "stdout",
     "output_type": "stream",
     "text": [
      "Current progress: 92/300 ENRG close_EMA3_G_s1, time: 0:00:33.597647\n"
     ]
    },
    {
     "name": "stderr",
     "output_type": "stream",
     "text": [
      "WARNING:absl:Found untraced functions such as lstm_cell_97_layer_call_fn, lstm_cell_97_layer_call_and_return_conditional_losses, lstm_cell_97_layer_call_fn, lstm_cell_97_layer_call_and_return_conditional_losses, lstm_cell_97_layer_call_and_return_conditional_losses while saving (showing 5 of 5). These functions will not be directly callable after loading.\n"
     ]
    },
    {
     "name": "stdout",
     "output_type": "stream",
     "text": [
      "INFO:tensorflow:Assets written to: ./models/explore_idx/v2/retrained/v2/model/ENRG/close_EMA10_G_s2/assets\n"
     ]
    },
    {
     "name": "stderr",
     "output_type": "stream",
     "text": [
      "INFO:tensorflow:Assets written to: ./models/explore_idx/v2/retrained/v2/model/ENRG/close_EMA10_G_s2/assets\n",
      "WARNING:absl:<keras.layers.recurrent.LSTMCell object at 0x00000126F1CCE550> has the same name 'LSTMCell' as a built-in Keras object. Consider renaming <class 'keras.layers.recurrent.LSTMCell'> to avoid naming conflicts when loading with `tf.keras.models.load_model`. If renaming is not possible, pass the object in the `custom_objects` parameter of the load function.\n"
     ]
    },
    {
     "name": "stdout",
     "output_type": "stream",
     "text": [
      "Current progress: 93/300 ENRG close_EMA10_G_s2, time: 0:00:33.252590\n"
     ]
    },
    {
     "name": "stderr",
     "output_type": "stream",
     "text": [
      "WARNING:absl:Found untraced functions such as lstm_cell_98_layer_call_fn, lstm_cell_98_layer_call_and_return_conditional_losses, lstm_cell_98_layer_call_fn, lstm_cell_98_layer_call_and_return_conditional_losses, lstm_cell_98_layer_call_and_return_conditional_losses while saving (showing 5 of 5). These functions will not be directly callable after loading.\n"
     ]
    },
    {
     "name": "stdout",
     "output_type": "stream",
     "text": [
      "INFO:tensorflow:Assets written to: ./models/explore_idx/v2/retrained/v2/model/SMRA/close_EMA3_G_s2/assets\n"
     ]
    },
    {
     "name": "stderr",
     "output_type": "stream",
     "text": [
      "INFO:tensorflow:Assets written to: ./models/explore_idx/v2/retrained/v2/model/SMRA/close_EMA3_G_s2/assets\n",
      "WARNING:absl:<keras.layers.recurrent.LSTMCell object at 0x0000012691425400> has the same name 'LSTMCell' as a built-in Keras object. Consider renaming <class 'keras.layers.recurrent.LSTMCell'> to avoid naming conflicts when loading with `tf.keras.models.load_model`. If renaming is not possible, pass the object in the `custom_objects` parameter of the load function.\n"
     ]
    },
    {
     "name": "stdout",
     "output_type": "stream",
     "text": [
      "Current progress: 94/300 SMRA close_EMA3_G_s2, time: 0:00:34.148379\n"
     ]
    },
    {
     "name": "stderr",
     "output_type": "stream",
     "text": [
      "WARNING:absl:Found untraced functions such as lstm_cell_99_layer_call_fn, lstm_cell_99_layer_call_and_return_conditional_losses, lstm_cell_99_layer_call_fn, lstm_cell_99_layer_call_and_return_conditional_losses, lstm_cell_99_layer_call_and_return_conditional_losses while saving (showing 5 of 5). These functions will not be directly callable after loading.\n"
     ]
    },
    {
     "name": "stdout",
     "output_type": "stream",
     "text": [
      "INFO:tensorflow:Assets written to: ./models/explore_idx/v2/retrained/v2/model/SMRA/close_EMA3_G_s1/assets\n"
     ]
    },
    {
     "name": "stderr",
     "output_type": "stream",
     "text": [
      "INFO:tensorflow:Assets written to: ./models/explore_idx/v2/retrained/v2/model/SMRA/close_EMA3_G_s1/assets\n",
      "WARNING:absl:<keras.layers.recurrent.LSTMCell object at 0x00000126F2F584F0> has the same name 'LSTMCell' as a built-in Keras object. Consider renaming <class 'keras.layers.recurrent.LSTMCell'> to avoid naming conflicts when loading with `tf.keras.models.load_model`. If renaming is not possible, pass the object in the `custom_objects` parameter of the load function.\n"
     ]
    },
    {
     "name": "stdout",
     "output_type": "stream",
     "text": [
      "Current progress: 95/300 SMRA close_EMA3_G_s1, time: 0:00:33.761344\n"
     ]
    },
    {
     "name": "stderr",
     "output_type": "stream",
     "text": [
      "WARNING:absl:Found untraced functions such as lstm_cell_100_layer_call_fn, lstm_cell_100_layer_call_and_return_conditional_losses, lstm_cell_100_layer_call_fn, lstm_cell_100_layer_call_and_return_conditional_losses, lstm_cell_100_layer_call_and_return_conditional_losses while saving (showing 5 of 5). These functions will not be directly callable after loading.\n"
     ]
    },
    {
     "name": "stdout",
     "output_type": "stream",
     "text": [
      "INFO:tensorflow:Assets written to: ./models/explore_idx/v2/retrained/v2/model/SMRA/close_EMA10_G_s2/assets\n"
     ]
    },
    {
     "name": "stderr",
     "output_type": "stream",
     "text": [
      "INFO:tensorflow:Assets written to: ./models/explore_idx/v2/retrained/v2/model/SMRA/close_EMA10_G_s2/assets\n",
      "WARNING:absl:<keras.layers.recurrent.LSTMCell object at 0x000001268BBF1610> has the same name 'LSTMCell' as a built-in Keras object. Consider renaming <class 'keras.layers.recurrent.LSTMCell'> to avoid naming conflicts when loading with `tf.keras.models.load_model`. If renaming is not possible, pass the object in the `custom_objects` parameter of the load function.\n"
     ]
    },
    {
     "name": "stdout",
     "output_type": "stream",
     "text": [
      "Current progress: 96/300 SMRA close_EMA10_G_s2, time: 0:00:32.893292\n"
     ]
    },
    {
     "name": "stderr",
     "output_type": "stream",
     "text": [
      "WARNING:absl:Found untraced functions such as lstm_cell_101_layer_call_fn, lstm_cell_101_layer_call_and_return_conditional_losses, lstm_cell_101_layer_call_fn, lstm_cell_101_layer_call_and_return_conditional_losses, lstm_cell_101_layer_call_and_return_conditional_losses while saving (showing 5 of 5). These functions will not be directly callable after loading.\n"
     ]
    },
    {
     "name": "stdout",
     "output_type": "stream",
     "text": [
      "INFO:tensorflow:Assets written to: ./models/explore_idx/v2/retrained/v2/model/MDLN/close_EMA3_G_s2/assets\n"
     ]
    },
    {
     "name": "stderr",
     "output_type": "stream",
     "text": [
      "INFO:tensorflow:Assets written to: ./models/explore_idx/v2/retrained/v2/model/MDLN/close_EMA3_G_s2/assets\n",
      "WARNING:absl:<keras.layers.recurrent.LSTMCell object at 0x000001268AE09250> has the same name 'LSTMCell' as a built-in Keras object. Consider renaming <class 'keras.layers.recurrent.LSTMCell'> to avoid naming conflicts when loading with `tf.keras.models.load_model`. If renaming is not possible, pass the object in the `custom_objects` parameter of the load function.\n"
     ]
    },
    {
     "name": "stdout",
     "output_type": "stream",
     "text": [
      "Current progress: 97/300 MDLN close_EMA3_G_s2, time: 0:00:34.566019\n"
     ]
    },
    {
     "name": "stderr",
     "output_type": "stream",
     "text": [
      "WARNING:absl:Found untraced functions such as lstm_cell_102_layer_call_fn, lstm_cell_102_layer_call_and_return_conditional_losses, lstm_cell_102_layer_call_fn, lstm_cell_102_layer_call_and_return_conditional_losses, lstm_cell_102_layer_call_and_return_conditional_losses while saving (showing 5 of 5). These functions will not be directly callable after loading.\n"
     ]
    },
    {
     "name": "stdout",
     "output_type": "stream",
     "text": [
      "INFO:tensorflow:Assets written to: ./models/explore_idx/v2/retrained/v2/model/MDLN/close_EMA3_G_s1/assets\n"
     ]
    },
    {
     "name": "stderr",
     "output_type": "stream",
     "text": [
      "INFO:tensorflow:Assets written to: ./models/explore_idx/v2/retrained/v2/model/MDLN/close_EMA3_G_s1/assets\n",
      "WARNING:absl:<keras.layers.recurrent.LSTMCell object at 0x000001268318AEE0> has the same name 'LSTMCell' as a built-in Keras object. Consider renaming <class 'keras.layers.recurrent.LSTMCell'> to avoid naming conflicts when loading with `tf.keras.models.load_model`. If renaming is not possible, pass the object in the `custom_objects` parameter of the load function.\n"
     ]
    },
    {
     "name": "stdout",
     "output_type": "stream",
     "text": [
      "Current progress: 98/300 MDLN close_EMA3_G_s1, time: 0:00:32.765926\n"
     ]
    },
    {
     "name": "stderr",
     "output_type": "stream",
     "text": [
      "WARNING:absl:Found untraced functions such as lstm_cell_103_layer_call_fn, lstm_cell_103_layer_call_and_return_conditional_losses, lstm_cell_103_layer_call_fn, lstm_cell_103_layer_call_and_return_conditional_losses, lstm_cell_103_layer_call_and_return_conditional_losses while saving (showing 5 of 5). These functions will not be directly callable after loading.\n"
     ]
    },
    {
     "name": "stdout",
     "output_type": "stream",
     "text": [
      "INFO:tensorflow:Assets written to: ./models/explore_idx/v2/retrained/v2/model/MDLN/close_EMA10_G_s2/assets\n"
     ]
    },
    {
     "name": "stderr",
     "output_type": "stream",
     "text": [
      "INFO:tensorflow:Assets written to: ./models/explore_idx/v2/retrained/v2/model/MDLN/close_EMA10_G_s2/assets\n",
      "WARNING:absl:<keras.layers.recurrent.LSTMCell object at 0x00000126827D5BB0> has the same name 'LSTMCell' as a built-in Keras object. Consider renaming <class 'keras.layers.recurrent.LSTMCell'> to avoid naming conflicts when loading with `tf.keras.models.load_model`. If renaming is not possible, pass the object in the `custom_objects` parameter of the load function.\n"
     ]
    },
    {
     "name": "stdout",
     "output_type": "stream",
     "text": [
      "Current progress: 99/300 MDLN close_EMA10_G_s2, time: 0:00:34.947043\n"
     ]
    },
    {
     "name": "stderr",
     "output_type": "stream",
     "text": [
      "WARNING:absl:Found untraced functions such as lstm_cell_104_layer_call_fn, lstm_cell_104_layer_call_and_return_conditional_losses, lstm_cell_104_layer_call_fn, lstm_cell_104_layer_call_and_return_conditional_losses, lstm_cell_104_layer_call_and_return_conditional_losses while saving (showing 5 of 5). These functions will not be directly callable after loading.\n"
     ]
    },
    {
     "name": "stdout",
     "output_type": "stream",
     "text": [
      "INFO:tensorflow:Assets written to: ./models/explore_idx/v2/retrained/v2/model/BBNI/close_EMA3_G_s2/assets\n"
     ]
    },
    {
     "name": "stderr",
     "output_type": "stream",
     "text": [
      "INFO:tensorflow:Assets written to: ./models/explore_idx/v2/retrained/v2/model/BBNI/close_EMA3_G_s2/assets\n",
      "WARNING:absl:<keras.layers.recurrent.LSTMCell object at 0x00000126F3458AF0> has the same name 'LSTMCell' as a built-in Keras object. Consider renaming <class 'keras.layers.recurrent.LSTMCell'> to avoid naming conflicts when loading with `tf.keras.models.load_model`. If renaming is not possible, pass the object in the `custom_objects` parameter of the load function.\n"
     ]
    },
    {
     "name": "stdout",
     "output_type": "stream",
     "text": [
      "Current progress: 100/300 BBNI close_EMA3_G_s2, time: 0:00:33.732345\n"
     ]
    },
    {
     "name": "stderr",
     "output_type": "stream",
     "text": [
      "WARNING:absl:Found untraced functions such as lstm_cell_105_layer_call_fn, lstm_cell_105_layer_call_and_return_conditional_losses, lstm_cell_105_layer_call_fn, lstm_cell_105_layer_call_and_return_conditional_losses, lstm_cell_105_layer_call_and_return_conditional_losses while saving (showing 5 of 5). These functions will not be directly callable after loading.\n"
     ]
    },
    {
     "name": "stdout",
     "output_type": "stream",
     "text": [
      "INFO:tensorflow:Assets written to: ./models/explore_idx/v2/retrained/v2/model/BBNI/close_EMA3_G_s1/assets\n"
     ]
    },
    {
     "name": "stderr",
     "output_type": "stream",
     "text": [
      "INFO:tensorflow:Assets written to: ./models/explore_idx/v2/retrained/v2/model/BBNI/close_EMA3_G_s1/assets\n",
      "WARNING:absl:<keras.layers.recurrent.LSTMCell object at 0x000001268283B490> has the same name 'LSTMCell' as a built-in Keras object. Consider renaming <class 'keras.layers.recurrent.LSTMCell'> to avoid naming conflicts when loading with `tf.keras.models.load_model`. If renaming is not possible, pass the object in the `custom_objects` parameter of the load function.\n"
     ]
    },
    {
     "name": "stdout",
     "output_type": "stream",
     "text": [
      "Current progress: 101/300 BBNI close_EMA3_G_s1, time: 0:00:35.058007\n"
     ]
    },
    {
     "name": "stderr",
     "output_type": "stream",
     "text": [
      "WARNING:absl:Found untraced functions such as lstm_cell_106_layer_call_fn, lstm_cell_106_layer_call_and_return_conditional_losses, lstm_cell_106_layer_call_fn, lstm_cell_106_layer_call_and_return_conditional_losses, lstm_cell_106_layer_call_and_return_conditional_losses while saving (showing 5 of 5). These functions will not be directly callable after loading.\n"
     ]
    },
    {
     "name": "stdout",
     "output_type": "stream",
     "text": [
      "INFO:tensorflow:Assets written to: ./models/explore_idx/v2/retrained/v2/model/BBNI/close_EMA10_G_s2/assets\n"
     ]
    },
    {
     "name": "stderr",
     "output_type": "stream",
     "text": [
      "INFO:tensorflow:Assets written to: ./models/explore_idx/v2/retrained/v2/model/BBNI/close_EMA10_G_s2/assets\n",
      "WARNING:absl:<keras.layers.recurrent.LSTMCell object at 0x000001268D3B4190> has the same name 'LSTMCell' as a built-in Keras object. Consider renaming <class 'keras.layers.recurrent.LSTMCell'> to avoid naming conflicts when loading with `tf.keras.models.load_model`. If renaming is not possible, pass the object in the `custom_objects` parameter of the load function.\n"
     ]
    },
    {
     "name": "stdout",
     "output_type": "stream",
     "text": [
      "Current progress: 102/300 BBNI close_EMA10_G_s2, time: 0:00:33.413612\n"
     ]
    },
    {
     "name": "stderr",
     "output_type": "stream",
     "text": [
      "WARNING:absl:Found untraced functions such as lstm_cell_107_layer_call_fn, lstm_cell_107_layer_call_and_return_conditional_losses, lstm_cell_107_layer_call_fn, lstm_cell_107_layer_call_and_return_conditional_losses, lstm_cell_107_layer_call_and_return_conditional_losses while saving (showing 5 of 5). These functions will not be directly callable after loading.\n"
     ]
    },
    {
     "name": "stdout",
     "output_type": "stream",
     "text": [
      "INFO:tensorflow:Assets written to: ./models/explore_idx/v2/retrained/v2/model/APIC/close_EMA3_G_s2/assets\n"
     ]
    },
    {
     "name": "stderr",
     "output_type": "stream",
     "text": [
      "INFO:tensorflow:Assets written to: ./models/explore_idx/v2/retrained/v2/model/APIC/close_EMA3_G_s2/assets\n",
      "WARNING:absl:<keras.layers.recurrent.LSTMCell object at 0x00000126F37AA5B0> has the same name 'LSTMCell' as a built-in Keras object. Consider renaming <class 'keras.layers.recurrent.LSTMCell'> to avoid naming conflicts when loading with `tf.keras.models.load_model`. If renaming is not possible, pass the object in the `custom_objects` parameter of the load function.\n"
     ]
    },
    {
     "name": "stdout",
     "output_type": "stream",
     "text": [
      "Current progress: 103/300 APIC close_EMA3_G_s2, time: 0:00:34.491732\n"
     ]
    },
    {
     "name": "stderr",
     "output_type": "stream",
     "text": [
      "WARNING:absl:Found untraced functions such as lstm_cell_108_layer_call_fn, lstm_cell_108_layer_call_and_return_conditional_losses, lstm_cell_108_layer_call_fn, lstm_cell_108_layer_call_and_return_conditional_losses, lstm_cell_108_layer_call_and_return_conditional_losses while saving (showing 5 of 5). These functions will not be directly callable after loading.\n"
     ]
    },
    {
     "name": "stdout",
     "output_type": "stream",
     "text": [
      "INFO:tensorflow:Assets written to: ./models/explore_idx/v2/retrained/v2/model/APIC/close_EMA3_G_s1/assets\n"
     ]
    },
    {
     "name": "stderr",
     "output_type": "stream",
     "text": [
      "INFO:tensorflow:Assets written to: ./models/explore_idx/v2/retrained/v2/model/APIC/close_EMA3_G_s1/assets\n",
      "WARNING:absl:<keras.layers.recurrent.LSTMCell object at 0x0000012691212190> has the same name 'LSTMCell' as a built-in Keras object. Consider renaming <class 'keras.layers.recurrent.LSTMCell'> to avoid naming conflicts when loading with `tf.keras.models.load_model`. If renaming is not possible, pass the object in the `custom_objects` parameter of the load function.\n"
     ]
    },
    {
     "name": "stdout",
     "output_type": "stream",
     "text": [
      "Current progress: 104/300 APIC close_EMA3_G_s1, time: 0:00:34.327058\n"
     ]
    },
    {
     "name": "stderr",
     "output_type": "stream",
     "text": [
      "WARNING:absl:Found untraced functions such as lstm_cell_109_layer_call_fn, lstm_cell_109_layer_call_and_return_conditional_losses, lstm_cell_109_layer_call_fn, lstm_cell_109_layer_call_and_return_conditional_losses, lstm_cell_109_layer_call_and_return_conditional_losses while saving (showing 5 of 5). These functions will not be directly callable after loading.\n"
     ]
    },
    {
     "name": "stdout",
     "output_type": "stream",
     "text": [
      "INFO:tensorflow:Assets written to: ./models/explore_idx/v2/retrained/v2/model/APIC/close_EMA10_G_s2/assets\n"
     ]
    },
    {
     "name": "stderr",
     "output_type": "stream",
     "text": [
      "INFO:tensorflow:Assets written to: ./models/explore_idx/v2/retrained/v2/model/APIC/close_EMA10_G_s2/assets\n",
      "WARNING:absl:<keras.layers.recurrent.LSTMCell object at 0x00000126EEB0C430> has the same name 'LSTMCell' as a built-in Keras object. Consider renaming <class 'keras.layers.recurrent.LSTMCell'> to avoid naming conflicts when loading with `tf.keras.models.load_model`. If renaming is not possible, pass the object in the `custom_objects` parameter of the load function.\n"
     ]
    },
    {
     "name": "stdout",
     "output_type": "stream",
     "text": [
      "Current progress: 105/300 APIC close_EMA10_G_s2, time: 0:00:33.986470\n"
     ]
    },
    {
     "name": "stderr",
     "output_type": "stream",
     "text": [
      "WARNING:absl:Found untraced functions such as lstm_cell_110_layer_call_fn, lstm_cell_110_layer_call_and_return_conditional_losses, lstm_cell_110_layer_call_fn, lstm_cell_110_layer_call_and_return_conditional_losses, lstm_cell_110_layer_call_and_return_conditional_losses while saving (showing 5 of 5). These functions will not be directly callable after loading.\n"
     ]
    },
    {
     "name": "stdout",
     "output_type": "stream",
     "text": [
      "INFO:tensorflow:Assets written to: ./models/explore_idx/v2/retrained/v2/model/BMTR/close_EMA3_G_s2/assets\n"
     ]
    },
    {
     "name": "stderr",
     "output_type": "stream",
     "text": [
      "INFO:tensorflow:Assets written to: ./models/explore_idx/v2/retrained/v2/model/BMTR/close_EMA3_G_s2/assets\n",
      "WARNING:absl:<keras.layers.recurrent.LSTMCell object at 0x00000126EF170D60> has the same name 'LSTMCell' as a built-in Keras object. Consider renaming <class 'keras.layers.recurrent.LSTMCell'> to avoid naming conflicts when loading with `tf.keras.models.load_model`. If renaming is not possible, pass the object in the `custom_objects` parameter of the load function.\n"
     ]
    },
    {
     "name": "stdout",
     "output_type": "stream",
     "text": [
      "Current progress: 106/300 BMTR close_EMA3_G_s2, time: 0:00:33.125692\n"
     ]
    },
    {
     "name": "stderr",
     "output_type": "stream",
     "text": [
      "WARNING:absl:Found untraced functions such as lstm_cell_111_layer_call_fn, lstm_cell_111_layer_call_and_return_conditional_losses, lstm_cell_111_layer_call_fn, lstm_cell_111_layer_call_and_return_conditional_losses, lstm_cell_111_layer_call_and_return_conditional_losses while saving (showing 5 of 5). These functions will not be directly callable after loading.\n"
     ]
    },
    {
     "name": "stdout",
     "output_type": "stream",
     "text": [
      "INFO:tensorflow:Assets written to: ./models/explore_idx/v2/retrained/v2/model/BMTR/close_EMA3_G_s1/assets\n"
     ]
    },
    {
     "name": "stderr",
     "output_type": "stream",
     "text": [
      "INFO:tensorflow:Assets written to: ./models/explore_idx/v2/retrained/v2/model/BMTR/close_EMA3_G_s1/assets\n",
      "WARNING:absl:<keras.layers.recurrent.LSTMCell object at 0x000001268A924DF0> has the same name 'LSTMCell' as a built-in Keras object. Consider renaming <class 'keras.layers.recurrent.LSTMCell'> to avoid naming conflicts when loading with `tf.keras.models.load_model`. If renaming is not possible, pass the object in the `custom_objects` parameter of the load function.\n"
     ]
    },
    {
     "name": "stdout",
     "output_type": "stream",
     "text": [
      "Current progress: 107/300 BMTR close_EMA3_G_s1, time: 0:00:32.500539\n"
     ]
    },
    {
     "name": "stderr",
     "output_type": "stream",
     "text": [
      "WARNING:absl:Found untraced functions such as lstm_cell_112_layer_call_fn, lstm_cell_112_layer_call_and_return_conditional_losses, lstm_cell_112_layer_call_fn, lstm_cell_112_layer_call_and_return_conditional_losses, lstm_cell_112_layer_call_and_return_conditional_losses while saving (showing 5 of 5). These functions will not be directly callable after loading.\n"
     ]
    },
    {
     "name": "stdout",
     "output_type": "stream",
     "text": [
      "INFO:tensorflow:Assets written to: ./models/explore_idx/v2/retrained/v2/model/BMTR/close_EMA10_G_s2/assets\n"
     ]
    },
    {
     "name": "stderr",
     "output_type": "stream",
     "text": [
      "INFO:tensorflow:Assets written to: ./models/explore_idx/v2/retrained/v2/model/BMTR/close_EMA10_G_s2/assets\n",
      "WARNING:absl:<keras.layers.recurrent.LSTMCell object at 0x00000126F23158E0> has the same name 'LSTMCell' as a built-in Keras object. Consider renaming <class 'keras.layers.recurrent.LSTMCell'> to avoid naming conflicts when loading with `tf.keras.models.load_model`. If renaming is not possible, pass the object in the `custom_objects` parameter of the load function.\n"
     ]
    },
    {
     "name": "stdout",
     "output_type": "stream",
     "text": [
      "Current progress: 108/300 BMTR close_EMA10_G_s2, time: 0:00:33.495463\n"
     ]
    },
    {
     "name": "stderr",
     "output_type": "stream",
     "text": [
      "WARNING:absl:Found untraced functions such as lstm_cell_113_layer_call_fn, lstm_cell_113_layer_call_and_return_conditional_losses, lstm_cell_113_layer_call_fn, lstm_cell_113_layer_call_and_return_conditional_losses, lstm_cell_113_layer_call_and_return_conditional_losses while saving (showing 5 of 5). These functions will not be directly callable after loading.\n"
     ]
    },
    {
     "name": "stdout",
     "output_type": "stream",
     "text": [
      "INFO:tensorflow:Assets written to: ./models/explore_idx/v2/retrained/v2/model/LSIP/close_EMA3_G_s2/assets\n"
     ]
    },
    {
     "name": "stderr",
     "output_type": "stream",
     "text": [
      "INFO:tensorflow:Assets written to: ./models/explore_idx/v2/retrained/v2/model/LSIP/close_EMA3_G_s2/assets\n",
      "WARNING:absl:<keras.layers.recurrent.LSTMCell object at 0x00000126939216A0> has the same name 'LSTMCell' as a built-in Keras object. Consider renaming <class 'keras.layers.recurrent.LSTMCell'> to avoid naming conflicts when loading with `tf.keras.models.load_model`. If renaming is not possible, pass the object in the `custom_objects` parameter of the load function.\n"
     ]
    },
    {
     "name": "stdout",
     "output_type": "stream",
     "text": [
      "Current progress: 109/300 LSIP close_EMA3_G_s2, time: 0:00:33.380634\n"
     ]
    },
    {
     "name": "stderr",
     "output_type": "stream",
     "text": [
      "WARNING:absl:Found untraced functions such as lstm_cell_114_layer_call_fn, lstm_cell_114_layer_call_and_return_conditional_losses, lstm_cell_114_layer_call_fn, lstm_cell_114_layer_call_and_return_conditional_losses, lstm_cell_114_layer_call_and_return_conditional_losses while saving (showing 5 of 5). These functions will not be directly callable after loading.\n"
     ]
    },
    {
     "name": "stdout",
     "output_type": "stream",
     "text": [
      "INFO:tensorflow:Assets written to: ./models/explore_idx/v2/retrained/v2/model/LSIP/close_EMA3_G_s1/assets\n"
     ]
    },
    {
     "name": "stderr",
     "output_type": "stream",
     "text": [
      "INFO:tensorflow:Assets written to: ./models/explore_idx/v2/retrained/v2/model/LSIP/close_EMA3_G_s1/assets\n",
      "WARNING:absl:<keras.layers.recurrent.LSTMCell object at 0x00000126F233B3A0> has the same name 'LSTMCell' as a built-in Keras object. Consider renaming <class 'keras.layers.recurrent.LSTMCell'> to avoid naming conflicts when loading with `tf.keras.models.load_model`. If renaming is not possible, pass the object in the `custom_objects` parameter of the load function.\n"
     ]
    },
    {
     "name": "stdout",
     "output_type": "stream",
     "text": [
      "Current progress: 110/300 LSIP close_EMA3_G_s1, time: 0:00:33.634534\n"
     ]
    },
    {
     "name": "stderr",
     "output_type": "stream",
     "text": [
      "WARNING:absl:Found untraced functions such as lstm_cell_115_layer_call_fn, lstm_cell_115_layer_call_and_return_conditional_losses, lstm_cell_115_layer_call_fn, lstm_cell_115_layer_call_and_return_conditional_losses, lstm_cell_115_layer_call_and_return_conditional_losses while saving (showing 5 of 5). These functions will not be directly callable after loading.\n"
     ]
    },
    {
     "name": "stdout",
     "output_type": "stream",
     "text": [
      "INFO:tensorflow:Assets written to: ./models/explore_idx/v2/retrained/v2/model/LSIP/close_EMA10_G_s2/assets\n"
     ]
    },
    {
     "name": "stderr",
     "output_type": "stream",
     "text": [
      "INFO:tensorflow:Assets written to: ./models/explore_idx/v2/retrained/v2/model/LSIP/close_EMA10_G_s2/assets\n",
      "WARNING:absl:<keras.layers.recurrent.LSTMCell object at 0x00000126F7439D90> has the same name 'LSTMCell' as a built-in Keras object. Consider renaming <class 'keras.layers.recurrent.LSTMCell'> to avoid naming conflicts when loading with `tf.keras.models.load_model`. If renaming is not possible, pass the object in the `custom_objects` parameter of the load function.\n"
     ]
    },
    {
     "name": "stdout",
     "output_type": "stream",
     "text": [
      "Current progress: 111/300 LSIP close_EMA10_G_s2, time: 0:00:34.644784\n"
     ]
    },
    {
     "name": "stderr",
     "output_type": "stream",
     "text": [
      "WARNING:absl:Found untraced functions such as lstm_cell_116_layer_call_fn, lstm_cell_116_layer_call_and_return_conditional_losses, lstm_cell_116_layer_call_fn, lstm_cell_116_layer_call_and_return_conditional_losses, lstm_cell_116_layer_call_and_return_conditional_losses while saving (showing 5 of 5). These functions will not be directly callable after loading.\n"
     ]
    },
    {
     "name": "stdout",
     "output_type": "stream",
     "text": [
      "INFO:tensorflow:Assets written to: ./models/explore_idx/v2/retrained/v2/model/MAPI/close_EMA3_G_s2/assets\n"
     ]
    },
    {
     "name": "stderr",
     "output_type": "stream",
     "text": [
      "INFO:tensorflow:Assets written to: ./models/explore_idx/v2/retrained/v2/model/MAPI/close_EMA3_G_s2/assets\n",
      "WARNING:absl:<keras.layers.recurrent.LSTMCell object at 0x00000126F170EA30> has the same name 'LSTMCell' as a built-in Keras object. Consider renaming <class 'keras.layers.recurrent.LSTMCell'> to avoid naming conflicts when loading with `tf.keras.models.load_model`. If renaming is not possible, pass the object in the `custom_objects` parameter of the load function.\n"
     ]
    },
    {
     "name": "stdout",
     "output_type": "stream",
     "text": [
      "Current progress: 112/300 MAPI close_EMA3_G_s2, time: 0:00:34.939643\n"
     ]
    },
    {
     "name": "stderr",
     "output_type": "stream",
     "text": [
      "WARNING:absl:Found untraced functions such as lstm_cell_117_layer_call_fn, lstm_cell_117_layer_call_and_return_conditional_losses, lstm_cell_117_layer_call_fn, lstm_cell_117_layer_call_and_return_conditional_losses, lstm_cell_117_layer_call_and_return_conditional_losses while saving (showing 5 of 5). These functions will not be directly callable after loading.\n"
     ]
    },
    {
     "name": "stdout",
     "output_type": "stream",
     "text": [
      "INFO:tensorflow:Assets written to: ./models/explore_idx/v2/retrained/v2/model/MAPI/close_EMA3_G_s1/assets\n"
     ]
    },
    {
     "name": "stderr",
     "output_type": "stream",
     "text": [
      "INFO:tensorflow:Assets written to: ./models/explore_idx/v2/retrained/v2/model/MAPI/close_EMA3_G_s1/assets\n",
      "WARNING:absl:<keras.layers.recurrent.LSTMCell object at 0x00000126932425E0> has the same name 'LSTMCell' as a built-in Keras object. Consider renaming <class 'keras.layers.recurrent.LSTMCell'> to avoid naming conflicts when loading with `tf.keras.models.load_model`. If renaming is not possible, pass the object in the `custom_objects` parameter of the load function.\n"
     ]
    },
    {
     "name": "stdout",
     "output_type": "stream",
     "text": [
      "Current progress: 113/300 MAPI close_EMA3_G_s1, time: 0:00:34.106487\n"
     ]
    },
    {
     "name": "stderr",
     "output_type": "stream",
     "text": [
      "WARNING:absl:Found untraced functions such as lstm_cell_118_layer_call_fn, lstm_cell_118_layer_call_and_return_conditional_losses, lstm_cell_118_layer_call_fn, lstm_cell_118_layer_call_and_return_conditional_losses, lstm_cell_118_layer_call_and_return_conditional_losses while saving (showing 5 of 5). These functions will not be directly callable after loading.\n"
     ]
    },
    {
     "name": "stdout",
     "output_type": "stream",
     "text": [
      "INFO:tensorflow:Assets written to: ./models/explore_idx/v2/retrained/v2/model/MAPI/close_EMA10_G_s2/assets\n"
     ]
    },
    {
     "name": "stderr",
     "output_type": "stream",
     "text": [
      "INFO:tensorflow:Assets written to: ./models/explore_idx/v2/retrained/v2/model/MAPI/close_EMA10_G_s2/assets\n",
      "WARNING:absl:<keras.layers.recurrent.LSTMCell object at 0x000001269B504400> has the same name 'LSTMCell' as a built-in Keras object. Consider renaming <class 'keras.layers.recurrent.LSTMCell'> to avoid naming conflicts when loading with `tf.keras.models.load_model`. If renaming is not possible, pass the object in the `custom_objects` parameter of the load function.\n"
     ]
    },
    {
     "name": "stdout",
     "output_type": "stream",
     "text": [
      "Current progress: 114/300 MAPI close_EMA10_G_s2, time: 0:00:34.179546\n"
     ]
    },
    {
     "name": "stderr",
     "output_type": "stream",
     "text": [
      "WARNING:absl:Found untraced functions such as lstm_cell_119_layer_call_fn, lstm_cell_119_layer_call_and_return_conditional_losses, lstm_cell_119_layer_call_fn, lstm_cell_119_layer_call_and_return_conditional_losses, lstm_cell_119_layer_call_and_return_conditional_losses while saving (showing 5 of 5). These functions will not be directly callable after loading.\n"
     ]
    },
    {
     "name": "stdout",
     "output_type": "stream",
     "text": [
      "INFO:tensorflow:Assets written to: ./models/explore_idx/v2/retrained/v2/model/BSDE/close_EMA3_G_s2/assets\n"
     ]
    },
    {
     "name": "stderr",
     "output_type": "stream",
     "text": [
      "INFO:tensorflow:Assets written to: ./models/explore_idx/v2/retrained/v2/model/BSDE/close_EMA3_G_s2/assets\n",
      "WARNING:absl:<keras.layers.recurrent.LSTMCell object at 0x000001268B628CD0> has the same name 'LSTMCell' as a built-in Keras object. Consider renaming <class 'keras.layers.recurrent.LSTMCell'> to avoid naming conflicts when loading with `tf.keras.models.load_model`. If renaming is not possible, pass the object in the `custom_objects` parameter of the load function.\n"
     ]
    },
    {
     "name": "stdout",
     "output_type": "stream",
     "text": [
      "Current progress: 115/300 BSDE close_EMA3_G_s2, time: 0:00:32.819585\n"
     ]
    },
    {
     "name": "stderr",
     "output_type": "stream",
     "text": [
      "WARNING:absl:Found untraced functions such as lstm_cell_120_layer_call_fn, lstm_cell_120_layer_call_and_return_conditional_losses, lstm_cell_120_layer_call_fn, lstm_cell_120_layer_call_and_return_conditional_losses, lstm_cell_120_layer_call_and_return_conditional_losses while saving (showing 5 of 5). These functions will not be directly callable after loading.\n"
     ]
    },
    {
     "name": "stdout",
     "output_type": "stream",
     "text": [
      "INFO:tensorflow:Assets written to: ./models/explore_idx/v2/retrained/v2/model/BSDE/close_EMA3_G_s1/assets\n"
     ]
    },
    {
     "name": "stderr",
     "output_type": "stream",
     "text": [
      "INFO:tensorflow:Assets written to: ./models/explore_idx/v2/retrained/v2/model/BSDE/close_EMA3_G_s1/assets\n",
      "WARNING:absl:<keras.layers.recurrent.LSTMCell object at 0x00000126EF1A6DC0> has the same name 'LSTMCell' as a built-in Keras object. Consider renaming <class 'keras.layers.recurrent.LSTMCell'> to avoid naming conflicts when loading with `tf.keras.models.load_model`. If renaming is not possible, pass the object in the `custom_objects` parameter of the load function.\n"
     ]
    },
    {
     "name": "stdout",
     "output_type": "stream",
     "text": [
      "Current progress: 116/300 BSDE close_EMA3_G_s1, time: 0:00:32.742355\n"
     ]
    },
    {
     "name": "stderr",
     "output_type": "stream",
     "text": [
      "WARNING:absl:Found untraced functions such as lstm_cell_121_layer_call_fn, lstm_cell_121_layer_call_and_return_conditional_losses, lstm_cell_121_layer_call_fn, lstm_cell_121_layer_call_and_return_conditional_losses, lstm_cell_121_layer_call_and_return_conditional_losses while saving (showing 5 of 5). These functions will not be directly callable after loading.\n"
     ]
    },
    {
     "name": "stdout",
     "output_type": "stream",
     "text": [
      "INFO:tensorflow:Assets written to: ./models/explore_idx/v2/retrained/v2/model/BSDE/close_EMA10_G_s2/assets\n"
     ]
    },
    {
     "name": "stderr",
     "output_type": "stream",
     "text": [
      "INFO:tensorflow:Assets written to: ./models/explore_idx/v2/retrained/v2/model/BSDE/close_EMA10_G_s2/assets\n",
      "WARNING:absl:<keras.layers.recurrent.LSTMCell object at 0x00000126F7CE2730> has the same name 'LSTMCell' as a built-in Keras object. Consider renaming <class 'keras.layers.recurrent.LSTMCell'> to avoid naming conflicts when loading with `tf.keras.models.load_model`. If renaming is not possible, pass the object in the `custom_objects` parameter of the load function.\n"
     ]
    },
    {
     "name": "stdout",
     "output_type": "stream",
     "text": [
      "Current progress: 117/300 BSDE close_EMA10_G_s2, time: 0:00:32.808178\n"
     ]
    },
    {
     "name": "stderr",
     "output_type": "stream",
     "text": [
      "WARNING:absl:Found untraced functions such as lstm_cell_122_layer_call_fn, lstm_cell_122_layer_call_and_return_conditional_losses, lstm_cell_122_layer_call_fn, lstm_cell_122_layer_call_and_return_conditional_losses, lstm_cell_122_layer_call_and_return_conditional_losses while saving (showing 5 of 5). These functions will not be directly callable after loading.\n"
     ]
    },
    {
     "name": "stdout",
     "output_type": "stream",
     "text": [
      "INFO:tensorflow:Assets written to: ./models/explore_idx/v2/retrained/v2/model/INDF/close_EMA3_G_s2/assets\n"
     ]
    },
    {
     "name": "stderr",
     "output_type": "stream",
     "text": [
      "INFO:tensorflow:Assets written to: ./models/explore_idx/v2/retrained/v2/model/INDF/close_EMA3_G_s2/assets\n",
      "WARNING:absl:<keras.layers.recurrent.LSTMCell object at 0x0000012694FF79A0> has the same name 'LSTMCell' as a built-in Keras object. Consider renaming <class 'keras.layers.recurrent.LSTMCell'> to avoid naming conflicts when loading with `tf.keras.models.load_model`. If renaming is not possible, pass the object in the `custom_objects` parameter of the load function.\n"
     ]
    },
    {
     "name": "stdout",
     "output_type": "stream",
     "text": [
      "Current progress: 118/300 INDF close_EMA3_G_s2, time: 0:00:33.426163\n"
     ]
    },
    {
     "name": "stderr",
     "output_type": "stream",
     "text": [
      "WARNING:absl:Found untraced functions such as lstm_cell_123_layer_call_fn, lstm_cell_123_layer_call_and_return_conditional_losses, lstm_cell_123_layer_call_fn, lstm_cell_123_layer_call_and_return_conditional_losses, lstm_cell_123_layer_call_and_return_conditional_losses while saving (showing 5 of 5). These functions will not be directly callable after loading.\n"
     ]
    },
    {
     "name": "stdout",
     "output_type": "stream",
     "text": [
      "INFO:tensorflow:Assets written to: ./models/explore_idx/v2/retrained/v2/model/INDF/close_EMA3_G_s1/assets\n"
     ]
    },
    {
     "name": "stderr",
     "output_type": "stream",
     "text": [
      "INFO:tensorflow:Assets written to: ./models/explore_idx/v2/retrained/v2/model/INDF/close_EMA3_G_s1/assets\n",
      "WARNING:absl:<keras.layers.recurrent.LSTMCell object at 0x0000012689A6D310> has the same name 'LSTMCell' as a built-in Keras object. Consider renaming <class 'keras.layers.recurrent.LSTMCell'> to avoid naming conflicts when loading with `tf.keras.models.load_model`. If renaming is not possible, pass the object in the `custom_objects` parameter of the load function.\n"
     ]
    },
    {
     "name": "stdout",
     "output_type": "stream",
     "text": [
      "Current progress: 119/300 INDF close_EMA3_G_s1, time: 0:00:32.871193\n"
     ]
    },
    {
     "name": "stderr",
     "output_type": "stream",
     "text": [
      "WARNING:absl:Found untraced functions such as lstm_cell_124_layer_call_fn, lstm_cell_124_layer_call_and_return_conditional_losses, lstm_cell_124_layer_call_fn, lstm_cell_124_layer_call_and_return_conditional_losses, lstm_cell_124_layer_call_and_return_conditional_losses while saving (showing 5 of 5). These functions will not be directly callable after loading.\n"
     ]
    },
    {
     "name": "stdout",
     "output_type": "stream",
     "text": [
      "INFO:tensorflow:Assets written to: ./models/explore_idx/v2/retrained/v2/model/INDF/close_EMA10_G_s2/assets\n"
     ]
    },
    {
     "name": "stderr",
     "output_type": "stream",
     "text": [
      "INFO:tensorflow:Assets written to: ./models/explore_idx/v2/retrained/v2/model/INDF/close_EMA10_G_s2/assets\n",
      "WARNING:absl:<keras.layers.recurrent.LSTMCell object at 0x00000126F7091D60> has the same name 'LSTMCell' as a built-in Keras object. Consider renaming <class 'keras.layers.recurrent.LSTMCell'> to avoid naming conflicts when loading with `tf.keras.models.load_model`. If renaming is not possible, pass the object in the `custom_objects` parameter of the load function.\n"
     ]
    },
    {
     "name": "stdout",
     "output_type": "stream",
     "text": [
      "Current progress: 120/300 INDF close_EMA10_G_s2, time: 0:00:32.596204\n"
     ]
    },
    {
     "name": "stderr",
     "output_type": "stream",
     "text": [
      "WARNING:absl:Found untraced functions such as lstm_cell_125_layer_call_fn, lstm_cell_125_layer_call_and_return_conditional_losses, lstm_cell_125_layer_call_fn, lstm_cell_125_layer_call_and_return_conditional_losses, lstm_cell_125_layer_call_and_return_conditional_losses while saving (showing 5 of 5). These functions will not be directly callable after loading.\n"
     ]
    },
    {
     "name": "stdout",
     "output_type": "stream",
     "text": [
      "INFO:tensorflow:Assets written to: ./models/explore_idx/v2/retrained/v2/model/BBKP/close_EMA3_G_s2/assets\n"
     ]
    },
    {
     "name": "stderr",
     "output_type": "stream",
     "text": [
      "INFO:tensorflow:Assets written to: ./models/explore_idx/v2/retrained/v2/model/BBKP/close_EMA3_G_s2/assets\n",
      "WARNING:absl:<keras.layers.recurrent.LSTMCell object at 0x000001268DC89880> has the same name 'LSTMCell' as a built-in Keras object. Consider renaming <class 'keras.layers.recurrent.LSTMCell'> to avoid naming conflicts when loading with `tf.keras.models.load_model`. If renaming is not possible, pass the object in the `custom_objects` parameter of the load function.\n"
     ]
    },
    {
     "name": "stdout",
     "output_type": "stream",
     "text": [
      "Current progress: 121/300 BBKP close_EMA3_G_s2, time: 0:00:32.702898\n"
     ]
    },
    {
     "name": "stderr",
     "output_type": "stream",
     "text": [
      "WARNING:absl:Found untraced functions such as lstm_cell_126_layer_call_fn, lstm_cell_126_layer_call_and_return_conditional_losses, lstm_cell_126_layer_call_fn, lstm_cell_126_layer_call_and_return_conditional_losses, lstm_cell_126_layer_call_and_return_conditional_losses while saving (showing 5 of 5). These functions will not be directly callable after loading.\n"
     ]
    },
    {
     "name": "stdout",
     "output_type": "stream",
     "text": [
      "INFO:tensorflow:Assets written to: ./models/explore_idx/v2/retrained/v2/model/BBKP/close_EMA3_G_s1/assets\n"
     ]
    },
    {
     "name": "stderr",
     "output_type": "stream",
     "text": [
      "INFO:tensorflow:Assets written to: ./models/explore_idx/v2/retrained/v2/model/BBKP/close_EMA3_G_s1/assets\n",
      "WARNING:absl:<keras.layers.recurrent.LSTMCell object at 0x000001268A5566A0> has the same name 'LSTMCell' as a built-in Keras object. Consider renaming <class 'keras.layers.recurrent.LSTMCell'> to avoid naming conflicts when loading with `tf.keras.models.load_model`. If renaming is not possible, pass the object in the `custom_objects` parameter of the load function.\n"
     ]
    },
    {
     "name": "stdout",
     "output_type": "stream",
     "text": [
      "Current progress: 122/300 BBKP close_EMA3_G_s1, time: 0:00:33.015817\n"
     ]
    },
    {
     "name": "stderr",
     "output_type": "stream",
     "text": [
      "WARNING:absl:Found untraced functions such as lstm_cell_127_layer_call_fn, lstm_cell_127_layer_call_and_return_conditional_losses, lstm_cell_127_layer_call_fn, lstm_cell_127_layer_call_and_return_conditional_losses, lstm_cell_127_layer_call_and_return_conditional_losses while saving (showing 5 of 5). These functions will not be directly callable after loading.\n"
     ]
    },
    {
     "name": "stdout",
     "output_type": "stream",
     "text": [
      "INFO:tensorflow:Assets written to: ./models/explore_idx/v2/retrained/v2/model/BBKP/close_EMA10_G_s2/assets\n"
     ]
    },
    {
     "name": "stderr",
     "output_type": "stream",
     "text": [
      "INFO:tensorflow:Assets written to: ./models/explore_idx/v2/retrained/v2/model/BBKP/close_EMA10_G_s2/assets\n",
      "WARNING:absl:<keras.layers.recurrent.LSTMCell object at 0x000001268BEF51C0> has the same name 'LSTMCell' as a built-in Keras object. Consider renaming <class 'keras.layers.recurrent.LSTMCell'> to avoid naming conflicts when loading with `tf.keras.models.load_model`. If renaming is not possible, pass the object in the `custom_objects` parameter of the load function.\n"
     ]
    },
    {
     "name": "stdout",
     "output_type": "stream",
     "text": [
      "Current progress: 123/300 BBKP close_EMA10_G_s2, time: 0:00:32.623988\n"
     ]
    },
    {
     "name": "stderr",
     "output_type": "stream",
     "text": [
      "WARNING:absl:Found untraced functions such as lstm_cell_128_layer_call_fn, lstm_cell_128_layer_call_and_return_conditional_losses, lstm_cell_128_layer_call_fn, lstm_cell_128_layer_call_and_return_conditional_losses, lstm_cell_128_layer_call_and_return_conditional_losses while saving (showing 5 of 5). These functions will not be directly callable after loading.\n"
     ]
    },
    {
     "name": "stdout",
     "output_type": "stream",
     "text": [
      "INFO:tensorflow:Assets written to: ./models/explore_idx/v2/retrained/v2/model/MNCN/close_EMA3_G_s2/assets\n"
     ]
    },
    {
     "name": "stderr",
     "output_type": "stream",
     "text": [
      "INFO:tensorflow:Assets written to: ./models/explore_idx/v2/retrained/v2/model/MNCN/close_EMA3_G_s2/assets\n",
      "WARNING:absl:<keras.layers.recurrent.LSTMCell object at 0x000001268D203EE0> has the same name 'LSTMCell' as a built-in Keras object. Consider renaming <class 'keras.layers.recurrent.LSTMCell'> to avoid naming conflicts when loading with `tf.keras.models.load_model`. If renaming is not possible, pass the object in the `custom_objects` parameter of the load function.\n"
     ]
    },
    {
     "name": "stdout",
     "output_type": "stream",
     "text": [
      "Current progress: 124/300 MNCN close_EMA3_G_s2, time: 0:00:33.030025\n"
     ]
    },
    {
     "name": "stderr",
     "output_type": "stream",
     "text": [
      "WARNING:absl:Found untraced functions such as lstm_cell_129_layer_call_fn, lstm_cell_129_layer_call_and_return_conditional_losses, lstm_cell_129_layer_call_fn, lstm_cell_129_layer_call_and_return_conditional_losses, lstm_cell_129_layer_call_and_return_conditional_losses while saving (showing 5 of 5). These functions will not be directly callable after loading.\n"
     ]
    },
    {
     "name": "stdout",
     "output_type": "stream",
     "text": [
      "INFO:tensorflow:Assets written to: ./models/explore_idx/v2/retrained/v2/model/MNCN/close_EMA3_G_s1/assets\n"
     ]
    },
    {
     "name": "stderr",
     "output_type": "stream",
     "text": [
      "INFO:tensorflow:Assets written to: ./models/explore_idx/v2/retrained/v2/model/MNCN/close_EMA3_G_s1/assets\n",
      "WARNING:absl:<keras.layers.recurrent.LSTMCell object at 0x000001268996AE50> has the same name 'LSTMCell' as a built-in Keras object. Consider renaming <class 'keras.layers.recurrent.LSTMCell'> to avoid naming conflicts when loading with `tf.keras.models.load_model`. If renaming is not possible, pass the object in the `custom_objects` parameter of the load function.\n"
     ]
    },
    {
     "name": "stdout",
     "output_type": "stream",
     "text": [
      "Current progress: 125/300 MNCN close_EMA3_G_s1, time: 0:00:33.122623\n"
     ]
    },
    {
     "name": "stderr",
     "output_type": "stream",
     "text": [
      "WARNING:absl:Found untraced functions such as lstm_cell_130_layer_call_fn, lstm_cell_130_layer_call_and_return_conditional_losses, lstm_cell_130_layer_call_fn, lstm_cell_130_layer_call_and_return_conditional_losses, lstm_cell_130_layer_call_and_return_conditional_losses while saving (showing 5 of 5). These functions will not be directly callable after loading.\n"
     ]
    },
    {
     "name": "stdout",
     "output_type": "stream",
     "text": [
      "INFO:tensorflow:Assets written to: ./models/explore_idx/v2/retrained/v2/model/MNCN/close_EMA10_G_s2/assets\n"
     ]
    },
    {
     "name": "stderr",
     "output_type": "stream",
     "text": [
      "INFO:tensorflow:Assets written to: ./models/explore_idx/v2/retrained/v2/model/MNCN/close_EMA10_G_s2/assets\n",
      "WARNING:absl:<keras.layers.recurrent.LSTMCell object at 0x00000126F1A8AF40> has the same name 'LSTMCell' as a built-in Keras object. Consider renaming <class 'keras.layers.recurrent.LSTMCell'> to avoid naming conflicts when loading with `tf.keras.models.load_model`. If renaming is not possible, pass the object in the `custom_objects` parameter of the load function.\n"
     ]
    },
    {
     "name": "stdout",
     "output_type": "stream",
     "text": [
      "Current progress: 126/300 MNCN close_EMA10_G_s2, time: 0:00:32.950721\n"
     ]
    },
    {
     "name": "stderr",
     "output_type": "stream",
     "text": [
      "WARNING:absl:Found untraced functions such as lstm_cell_131_layer_call_fn, lstm_cell_131_layer_call_and_return_conditional_losses, lstm_cell_131_layer_call_fn, lstm_cell_131_layer_call_and_return_conditional_losses, lstm_cell_131_layer_call_and_return_conditional_losses while saving (showing 5 of 5). These functions will not be directly callable after loading.\n"
     ]
    },
    {
     "name": "stdout",
     "output_type": "stream",
     "text": [
      "INFO:tensorflow:Assets written to: ./models/explore_idx/v2/retrained/v2/model/CPIN/close_EMA3_G_s2/assets\n"
     ]
    },
    {
     "name": "stderr",
     "output_type": "stream",
     "text": [
      "INFO:tensorflow:Assets written to: ./models/explore_idx/v2/retrained/v2/model/CPIN/close_EMA3_G_s2/assets\n",
      "WARNING:absl:<keras.layers.recurrent.LSTMCell object at 0x000001269ABE7040> has the same name 'LSTMCell' as a built-in Keras object. Consider renaming <class 'keras.layers.recurrent.LSTMCell'> to avoid naming conflicts when loading with `tf.keras.models.load_model`. If renaming is not possible, pass the object in the `custom_objects` parameter of the load function.\n"
     ]
    },
    {
     "name": "stdout",
     "output_type": "stream",
     "text": [
      "Current progress: 127/300 CPIN close_EMA3_G_s2, time: 0:00:33.924843\n"
     ]
    },
    {
     "name": "stderr",
     "output_type": "stream",
     "text": [
      "WARNING:absl:Found untraced functions such as lstm_cell_132_layer_call_fn, lstm_cell_132_layer_call_and_return_conditional_losses, lstm_cell_132_layer_call_fn, lstm_cell_132_layer_call_and_return_conditional_losses, lstm_cell_132_layer_call_and_return_conditional_losses while saving (showing 5 of 5). These functions will not be directly callable after loading.\n"
     ]
    },
    {
     "name": "stdout",
     "output_type": "stream",
     "text": [
      "INFO:tensorflow:Assets written to: ./models/explore_idx/v2/retrained/v2/model/CPIN/close_EMA3_G_s1/assets\n"
     ]
    },
    {
     "name": "stderr",
     "output_type": "stream",
     "text": [
      "INFO:tensorflow:Assets written to: ./models/explore_idx/v2/retrained/v2/model/CPIN/close_EMA3_G_s1/assets\n",
      "WARNING:absl:<keras.layers.recurrent.LSTMCell object at 0x00000126F12911F0> has the same name 'LSTMCell' as a built-in Keras object. Consider renaming <class 'keras.layers.recurrent.LSTMCell'> to avoid naming conflicts when loading with `tf.keras.models.load_model`. If renaming is not possible, pass the object in the `custom_objects` parameter of the load function.\n"
     ]
    },
    {
     "name": "stdout",
     "output_type": "stream",
     "text": [
      "Current progress: 128/300 CPIN close_EMA3_G_s1, time: 0:00:33.565805\n"
     ]
    },
    {
     "name": "stderr",
     "output_type": "stream",
     "text": [
      "WARNING:absl:Found untraced functions such as lstm_cell_133_layer_call_fn, lstm_cell_133_layer_call_and_return_conditional_losses, lstm_cell_133_layer_call_fn, lstm_cell_133_layer_call_and_return_conditional_losses, lstm_cell_133_layer_call_and_return_conditional_losses while saving (showing 5 of 5). These functions will not be directly callable after loading.\n"
     ]
    },
    {
     "name": "stdout",
     "output_type": "stream",
     "text": [
      "INFO:tensorflow:Assets written to: ./models/explore_idx/v2/retrained/v2/model/CPIN/close_EMA10_G_s2/assets\n"
     ]
    },
    {
     "name": "stderr",
     "output_type": "stream",
     "text": [
      "INFO:tensorflow:Assets written to: ./models/explore_idx/v2/retrained/v2/model/CPIN/close_EMA10_G_s2/assets\n",
      "WARNING:absl:<keras.layers.recurrent.LSTMCell object at 0x0000012692DB7C10> has the same name 'LSTMCell' as a built-in Keras object. Consider renaming <class 'keras.layers.recurrent.LSTMCell'> to avoid naming conflicts when loading with `tf.keras.models.load_model`. If renaming is not possible, pass the object in the `custom_objects` parameter of the load function.\n"
     ]
    },
    {
     "name": "stdout",
     "output_type": "stream",
     "text": [
      "Current progress: 129/300 CPIN close_EMA10_G_s2, time: 0:00:34.091286\n"
     ]
    },
    {
     "name": "stderr",
     "output_type": "stream",
     "text": [
      "WARNING:absl:Found untraced functions such as lstm_cell_134_layer_call_fn, lstm_cell_134_layer_call_and_return_conditional_losses, lstm_cell_134_layer_call_fn, lstm_cell_134_layer_call_and_return_conditional_losses, lstm_cell_134_layer_call_and_return_conditional_losses while saving (showing 5 of 5). These functions will not be directly callable after loading.\n"
     ]
    },
    {
     "name": "stdout",
     "output_type": "stream",
     "text": [
      "INFO:tensorflow:Assets written to: ./models/explore_idx/v2/retrained/v2/model/WIKA/close_EMA3_G_s2/assets\n"
     ]
    },
    {
     "name": "stderr",
     "output_type": "stream",
     "text": [
      "INFO:tensorflow:Assets written to: ./models/explore_idx/v2/retrained/v2/model/WIKA/close_EMA3_G_s2/assets\n",
      "WARNING:absl:<keras.layers.recurrent.LSTMCell object at 0x0000012682670730> has the same name 'LSTMCell' as a built-in Keras object. Consider renaming <class 'keras.layers.recurrent.LSTMCell'> to avoid naming conflicts when loading with `tf.keras.models.load_model`. If renaming is not possible, pass the object in the `custom_objects` parameter of the load function.\n"
     ]
    },
    {
     "name": "stdout",
     "output_type": "stream",
     "text": [
      "Current progress: 130/300 WIKA close_EMA3_G_s2, time: 0:00:34.028930\n"
     ]
    },
    {
     "name": "stderr",
     "output_type": "stream",
     "text": [
      "WARNING:absl:Found untraced functions such as lstm_cell_135_layer_call_fn, lstm_cell_135_layer_call_and_return_conditional_losses, lstm_cell_135_layer_call_fn, lstm_cell_135_layer_call_and_return_conditional_losses, lstm_cell_135_layer_call_and_return_conditional_losses while saving (showing 5 of 5). These functions will not be directly callable after loading.\n"
     ]
    },
    {
     "name": "stdout",
     "output_type": "stream",
     "text": [
      "INFO:tensorflow:Assets written to: ./models/explore_idx/v2/retrained/v2/model/WIKA/close_EMA3_G_s1/assets\n"
     ]
    },
    {
     "name": "stderr",
     "output_type": "stream",
     "text": [
      "INFO:tensorflow:Assets written to: ./models/explore_idx/v2/retrained/v2/model/WIKA/close_EMA3_G_s1/assets\n",
      "WARNING:absl:<keras.layers.recurrent.LSTMCell object at 0x000001268BFE3550> has the same name 'LSTMCell' as a built-in Keras object. Consider renaming <class 'keras.layers.recurrent.LSTMCell'> to avoid naming conflicts when loading with `tf.keras.models.load_model`. If renaming is not possible, pass the object in the `custom_objects` parameter of the load function.\n"
     ]
    },
    {
     "name": "stdout",
     "output_type": "stream",
     "text": [
      "Current progress: 131/300 WIKA close_EMA3_G_s1, time: 0:00:33.241029\n"
     ]
    },
    {
     "name": "stderr",
     "output_type": "stream",
     "text": [
      "WARNING:absl:Found untraced functions such as lstm_cell_136_layer_call_fn, lstm_cell_136_layer_call_and_return_conditional_losses, lstm_cell_136_layer_call_fn, lstm_cell_136_layer_call_and_return_conditional_losses, lstm_cell_136_layer_call_and_return_conditional_losses while saving (showing 5 of 5). These functions will not be directly callable after loading.\n"
     ]
    },
    {
     "name": "stdout",
     "output_type": "stream",
     "text": [
      "INFO:tensorflow:Assets written to: ./models/explore_idx/v2/retrained/v2/model/WIKA/close_EMA10_G_s2/assets\n"
     ]
    },
    {
     "name": "stderr",
     "output_type": "stream",
     "text": [
      "INFO:tensorflow:Assets written to: ./models/explore_idx/v2/retrained/v2/model/WIKA/close_EMA10_G_s2/assets\n",
      "WARNING:absl:<keras.layers.recurrent.LSTMCell object at 0x00000126956E70D0> has the same name 'LSTMCell' as a built-in Keras object. Consider renaming <class 'keras.layers.recurrent.LSTMCell'> to avoid naming conflicts when loading with `tf.keras.models.load_model`. If renaming is not possible, pass the object in the `custom_objects` parameter of the load function.\n"
     ]
    },
    {
     "name": "stdout",
     "output_type": "stream",
     "text": [
      "Current progress: 132/300 WIKA close_EMA10_G_s2, time: 0:00:34.792592\n"
     ]
    },
    {
     "name": "stderr",
     "output_type": "stream",
     "text": [
      "WARNING:absl:Found untraced functions such as lstm_cell_137_layer_call_fn, lstm_cell_137_layer_call_and_return_conditional_losses, lstm_cell_137_layer_call_fn, lstm_cell_137_layer_call_and_return_conditional_losses, lstm_cell_137_layer_call_and_return_conditional_losses while saving (showing 5 of 5). These functions will not be directly callable after loading.\n"
     ]
    },
    {
     "name": "stdout",
     "output_type": "stream",
     "text": [
      "INFO:tensorflow:Assets written to: ./models/explore_idx/v2/retrained/v2/model/BNBR/close_EMA3_G_s2/assets\n"
     ]
    },
    {
     "name": "stderr",
     "output_type": "stream",
     "text": [
      "INFO:tensorflow:Assets written to: ./models/explore_idx/v2/retrained/v2/model/BNBR/close_EMA3_G_s2/assets\n",
      "WARNING:absl:<keras.layers.recurrent.LSTMCell object at 0x000001269C17CBE0> has the same name 'LSTMCell' as a built-in Keras object. Consider renaming <class 'keras.layers.recurrent.LSTMCell'> to avoid naming conflicts when loading with `tf.keras.models.load_model`. If renaming is not possible, pass the object in the `custom_objects` parameter of the load function.\n"
     ]
    },
    {
     "name": "stdout",
     "output_type": "stream",
     "text": [
      "Current progress: 133/300 BNBR close_EMA3_G_s2, time: 0:00:33.606795\n"
     ]
    },
    {
     "name": "stderr",
     "output_type": "stream",
     "text": [
      "WARNING:absl:Found untraced functions such as lstm_cell_138_layer_call_fn, lstm_cell_138_layer_call_and_return_conditional_losses, lstm_cell_138_layer_call_fn, lstm_cell_138_layer_call_and_return_conditional_losses, lstm_cell_138_layer_call_and_return_conditional_losses while saving (showing 5 of 5). These functions will not be directly callable after loading.\n"
     ]
    },
    {
     "name": "stdout",
     "output_type": "stream",
     "text": [
      "INFO:tensorflow:Assets written to: ./models/explore_idx/v2/retrained/v2/model/BNBR/close_EMA3_G_s1/assets\n"
     ]
    },
    {
     "name": "stderr",
     "output_type": "stream",
     "text": [
      "INFO:tensorflow:Assets written to: ./models/explore_idx/v2/retrained/v2/model/BNBR/close_EMA3_G_s1/assets\n",
      "WARNING:absl:<keras.layers.recurrent.LSTMCell object at 0x000001268D589340> has the same name 'LSTMCell' as a built-in Keras object. Consider renaming <class 'keras.layers.recurrent.LSTMCell'> to avoid naming conflicts when loading with `tf.keras.models.load_model`. If renaming is not possible, pass the object in the `custom_objects` parameter of the load function.\n"
     ]
    },
    {
     "name": "stdout",
     "output_type": "stream",
     "text": [
      "Current progress: 134/300 BNBR close_EMA3_G_s1, time: 0:00:34.239556\n"
     ]
    },
    {
     "name": "stderr",
     "output_type": "stream",
     "text": [
      "WARNING:absl:Found untraced functions such as lstm_cell_139_layer_call_fn, lstm_cell_139_layer_call_and_return_conditional_losses, lstm_cell_139_layer_call_fn, lstm_cell_139_layer_call_and_return_conditional_losses, lstm_cell_139_layer_call_and_return_conditional_losses while saving (showing 5 of 5). These functions will not be directly callable after loading.\n"
     ]
    },
    {
     "name": "stdout",
     "output_type": "stream",
     "text": [
      "INFO:tensorflow:Assets written to: ./models/explore_idx/v2/retrained/v2/model/BNBR/close_EMA10_G_s2/assets\n"
     ]
    },
    {
     "name": "stderr",
     "output_type": "stream",
     "text": [
      "INFO:tensorflow:Assets written to: ./models/explore_idx/v2/retrained/v2/model/BNBR/close_EMA10_G_s2/assets\n",
      "WARNING:absl:<keras.layers.recurrent.LSTMCell object at 0x0000012699E0C340> has the same name 'LSTMCell' as a built-in Keras object. Consider renaming <class 'keras.layers.recurrent.LSTMCell'> to avoid naming conflicts when loading with `tf.keras.models.load_model`. If renaming is not possible, pass the object in the `custom_objects` parameter of the load function.\n"
     ]
    },
    {
     "name": "stdout",
     "output_type": "stream",
     "text": [
      "Current progress: 135/300 BNBR close_EMA10_G_s2, time: 0:00:33.076403\n"
     ]
    },
    {
     "name": "stderr",
     "output_type": "stream",
     "text": [
      "WARNING:absl:Found untraced functions such as lstm_cell_140_layer_call_fn, lstm_cell_140_layer_call_and_return_conditional_losses, lstm_cell_140_layer_call_fn, lstm_cell_140_layer_call_and_return_conditional_losses, lstm_cell_140_layer_call_and_return_conditional_losses while saving (showing 5 of 5). These functions will not be directly callable after loading.\n"
     ]
    },
    {
     "name": "stdout",
     "output_type": "stream",
     "text": [
      "INFO:tensorflow:Assets written to: ./models/explore_idx/v2/retrained/v2/model/SSIA/close_EMA3_G_s2/assets\n"
     ]
    },
    {
     "name": "stderr",
     "output_type": "stream",
     "text": [
      "INFO:tensorflow:Assets written to: ./models/explore_idx/v2/retrained/v2/model/SSIA/close_EMA3_G_s2/assets\n",
      "WARNING:absl:<keras.layers.recurrent.LSTMCell object at 0x000001269BAE8E50> has the same name 'LSTMCell' as a built-in Keras object. Consider renaming <class 'keras.layers.recurrent.LSTMCell'> to avoid naming conflicts when loading with `tf.keras.models.load_model`. If renaming is not possible, pass the object in the `custom_objects` parameter of the load function.\n"
     ]
    },
    {
     "name": "stdout",
     "output_type": "stream",
     "text": [
      "Current progress: 136/300 SSIA close_EMA3_G_s2, time: 0:00:32.594208\n"
     ]
    },
    {
     "name": "stderr",
     "output_type": "stream",
     "text": [
      "WARNING:absl:Found untraced functions such as lstm_cell_141_layer_call_fn, lstm_cell_141_layer_call_and_return_conditional_losses, lstm_cell_141_layer_call_fn, lstm_cell_141_layer_call_and_return_conditional_losses, lstm_cell_141_layer_call_and_return_conditional_losses while saving (showing 5 of 5). These functions will not be directly callable after loading.\n"
     ]
    },
    {
     "name": "stdout",
     "output_type": "stream",
     "text": [
      "INFO:tensorflow:Assets written to: ./models/explore_idx/v2/retrained/v2/model/SSIA/close_EMA3_G_s1/assets\n"
     ]
    },
    {
     "name": "stderr",
     "output_type": "stream",
     "text": [
      "INFO:tensorflow:Assets written to: ./models/explore_idx/v2/retrained/v2/model/SSIA/close_EMA3_G_s1/assets\n",
      "WARNING:absl:<keras.layers.recurrent.LSTMCell object at 0x000001268C0CCB20> has the same name 'LSTMCell' as a built-in Keras object. Consider renaming <class 'keras.layers.recurrent.LSTMCell'> to avoid naming conflicts when loading with `tf.keras.models.load_model`. If renaming is not possible, pass the object in the `custom_objects` parameter of the load function.\n"
     ]
    },
    {
     "name": "stdout",
     "output_type": "stream",
     "text": [
      "Current progress: 137/300 SSIA close_EMA3_G_s1, time: 0:00:32.891069\n"
     ]
    },
    {
     "name": "stderr",
     "output_type": "stream",
     "text": [
      "WARNING:absl:Found untraced functions such as lstm_cell_142_layer_call_fn, lstm_cell_142_layer_call_and_return_conditional_losses, lstm_cell_142_layer_call_fn, lstm_cell_142_layer_call_and_return_conditional_losses, lstm_cell_142_layer_call_and_return_conditional_losses while saving (showing 5 of 5). These functions will not be directly callable after loading.\n"
     ]
    },
    {
     "name": "stdout",
     "output_type": "stream",
     "text": [
      "INFO:tensorflow:Assets written to: ./models/explore_idx/v2/retrained/v2/model/SSIA/close_EMA10_G_s2/assets\n"
     ]
    },
    {
     "name": "stderr",
     "output_type": "stream",
     "text": [
      "INFO:tensorflow:Assets written to: ./models/explore_idx/v2/retrained/v2/model/SSIA/close_EMA10_G_s2/assets\n",
      "WARNING:absl:<keras.layers.recurrent.LSTMCell object at 0x00000126953BF580> has the same name 'LSTMCell' as a built-in Keras object. Consider renaming <class 'keras.layers.recurrent.LSTMCell'> to avoid naming conflicts when loading with `tf.keras.models.load_model`. If renaming is not possible, pass the object in the `custom_objects` parameter of the load function.\n"
     ]
    },
    {
     "name": "stdout",
     "output_type": "stream",
     "text": [
      "Current progress: 138/300 SSIA close_EMA10_G_s2, time: 0:00:32.723408\n"
     ]
    },
    {
     "name": "stderr",
     "output_type": "stream",
     "text": [
      "WARNING:absl:Found untraced functions such as lstm_cell_143_layer_call_fn, lstm_cell_143_layer_call_and_return_conditional_losses, lstm_cell_143_layer_call_fn, lstm_cell_143_layer_call_and_return_conditional_losses, lstm_cell_143_layer_call_and_return_conditional_losses while saving (showing 5 of 5). These functions will not be directly callable after loading.\n"
     ]
    },
    {
     "name": "stdout",
     "output_type": "stream",
     "text": [
      "INFO:tensorflow:Assets written to: ./models/explore_idx/v2/retrained/v2/model/BNGA/close_EMA3_G_s2/assets\n"
     ]
    },
    {
     "name": "stderr",
     "output_type": "stream",
     "text": [
      "INFO:tensorflow:Assets written to: ./models/explore_idx/v2/retrained/v2/model/BNGA/close_EMA3_G_s2/assets\n",
      "WARNING:absl:<keras.layers.recurrent.LSTMCell object at 0x000001268C567EE0> has the same name 'LSTMCell' as a built-in Keras object. Consider renaming <class 'keras.layers.recurrent.LSTMCell'> to avoid naming conflicts when loading with `tf.keras.models.load_model`. If renaming is not possible, pass the object in the `custom_objects` parameter of the load function.\n"
     ]
    },
    {
     "name": "stdout",
     "output_type": "stream",
     "text": [
      "Current progress: 139/300 BNGA close_EMA3_G_s2, time: 0:00:33.175700\n"
     ]
    },
    {
     "name": "stderr",
     "output_type": "stream",
     "text": [
      "WARNING:absl:Found untraced functions such as lstm_cell_144_layer_call_fn, lstm_cell_144_layer_call_and_return_conditional_losses, lstm_cell_144_layer_call_fn, lstm_cell_144_layer_call_and_return_conditional_losses, lstm_cell_144_layer_call_and_return_conditional_losses while saving (showing 5 of 5). These functions will not be directly callable after loading.\n"
     ]
    },
    {
     "name": "stdout",
     "output_type": "stream",
     "text": [
      "INFO:tensorflow:Assets written to: ./models/explore_idx/v2/retrained/v2/model/BNGA/close_EMA3_G_s1/assets\n"
     ]
    },
    {
     "name": "stderr",
     "output_type": "stream",
     "text": [
      "INFO:tensorflow:Assets written to: ./models/explore_idx/v2/retrained/v2/model/BNGA/close_EMA3_G_s1/assets\n",
      "WARNING:absl:<keras.layers.recurrent.LSTMCell object at 0x00000126F2115BE0> has the same name 'LSTMCell' as a built-in Keras object. Consider renaming <class 'keras.layers.recurrent.LSTMCell'> to avoid naming conflicts when loading with `tf.keras.models.load_model`. If renaming is not possible, pass the object in the `custom_objects` parameter of the load function.\n"
     ]
    },
    {
     "name": "stdout",
     "output_type": "stream",
     "text": [
      "Current progress: 140/300 BNGA close_EMA3_G_s1, time: 0:00:33.102150\n"
     ]
    },
    {
     "name": "stderr",
     "output_type": "stream",
     "text": [
      "WARNING:absl:Found untraced functions such as lstm_cell_145_layer_call_fn, lstm_cell_145_layer_call_and_return_conditional_losses, lstm_cell_145_layer_call_fn, lstm_cell_145_layer_call_and_return_conditional_losses, lstm_cell_145_layer_call_and_return_conditional_losses while saving (showing 5 of 5). These functions will not be directly callable after loading.\n"
     ]
    },
    {
     "name": "stdout",
     "output_type": "stream",
     "text": [
      "INFO:tensorflow:Assets written to: ./models/explore_idx/v2/retrained/v2/model/BNGA/close_EMA10_G_s2/assets\n"
     ]
    },
    {
     "name": "stderr",
     "output_type": "stream",
     "text": [
      "INFO:tensorflow:Assets written to: ./models/explore_idx/v2/retrained/v2/model/BNGA/close_EMA10_G_s2/assets\n",
      "WARNING:absl:<keras.layers.recurrent.LSTMCell object at 0x000001269B925460> has the same name 'LSTMCell' as a built-in Keras object. Consider renaming <class 'keras.layers.recurrent.LSTMCell'> to avoid naming conflicts when loading with `tf.keras.models.load_model`. If renaming is not possible, pass the object in the `custom_objects` parameter of the load function.\n"
     ]
    },
    {
     "name": "stdout",
     "output_type": "stream",
     "text": [
      "Current progress: 141/300 BNGA close_EMA10_G_s2, time: 0:00:32.723980\n"
     ]
    },
    {
     "name": "stderr",
     "output_type": "stream",
     "text": [
      "WARNING:absl:Found untraced functions such as lstm_cell_146_layer_call_fn, lstm_cell_146_layer_call_and_return_conditional_losses, lstm_cell_146_layer_call_fn, lstm_cell_146_layer_call_and_return_conditional_losses, lstm_cell_146_layer_call_and_return_conditional_losses while saving (showing 5 of 5). These functions will not be directly callable after loading.\n"
     ]
    },
    {
     "name": "stdout",
     "output_type": "stream",
     "text": [
      "INFO:tensorflow:Assets written to: ./models/explore_idx/v2/retrained/v2/model/BEKS/close_EMA3_G_s2/assets\n"
     ]
    },
    {
     "name": "stderr",
     "output_type": "stream",
     "text": [
      "INFO:tensorflow:Assets written to: ./models/explore_idx/v2/retrained/v2/model/BEKS/close_EMA3_G_s2/assets\n",
      "WARNING:absl:<keras.layers.recurrent.LSTMCell object at 0x0000012692FB6C70> has the same name 'LSTMCell' as a built-in Keras object. Consider renaming <class 'keras.layers.recurrent.LSTMCell'> to avoid naming conflicts when loading with `tf.keras.models.load_model`. If renaming is not possible, pass the object in the `custom_objects` parameter of the load function.\n"
     ]
    },
    {
     "name": "stdout",
     "output_type": "stream",
     "text": [
      "Current progress: 142/300 BEKS close_EMA3_G_s2, time: 0:00:34.056622\n"
     ]
    },
    {
     "name": "stderr",
     "output_type": "stream",
     "text": [
      "WARNING:absl:Found untraced functions such as lstm_cell_147_layer_call_fn, lstm_cell_147_layer_call_and_return_conditional_losses, lstm_cell_147_layer_call_fn, lstm_cell_147_layer_call_and_return_conditional_losses, lstm_cell_147_layer_call_and_return_conditional_losses while saving (showing 5 of 5). These functions will not be directly callable after loading.\n"
     ]
    },
    {
     "name": "stdout",
     "output_type": "stream",
     "text": [
      "INFO:tensorflow:Assets written to: ./models/explore_idx/v2/retrained/v2/model/BEKS/close_EMA3_G_s1/assets\n"
     ]
    },
    {
     "name": "stderr",
     "output_type": "stream",
     "text": [
      "INFO:tensorflow:Assets written to: ./models/explore_idx/v2/retrained/v2/model/BEKS/close_EMA3_G_s1/assets\n",
      "WARNING:absl:<keras.layers.recurrent.LSTMCell object at 0x000001268B25BE20> has the same name 'LSTMCell' as a built-in Keras object. Consider renaming <class 'keras.layers.recurrent.LSTMCell'> to avoid naming conflicts when loading with `tf.keras.models.load_model`. If renaming is not possible, pass the object in the `custom_objects` parameter of the load function.\n"
     ]
    },
    {
     "name": "stdout",
     "output_type": "stream",
     "text": [
      "Current progress: 143/300 BEKS close_EMA3_G_s1, time: 0:00:33.335505\n"
     ]
    },
    {
     "name": "stderr",
     "output_type": "stream",
     "text": [
      "WARNING:absl:Found untraced functions such as lstm_cell_148_layer_call_fn, lstm_cell_148_layer_call_and_return_conditional_losses, lstm_cell_148_layer_call_fn, lstm_cell_148_layer_call_and_return_conditional_losses, lstm_cell_148_layer_call_and_return_conditional_losses while saving (showing 5 of 5). These functions will not be directly callable after loading.\n"
     ]
    },
    {
     "name": "stdout",
     "output_type": "stream",
     "text": [
      "INFO:tensorflow:Assets written to: ./models/explore_idx/v2/retrained/v2/model/BEKS/close_EMA10_G_s2/assets\n"
     ]
    },
    {
     "name": "stderr",
     "output_type": "stream",
     "text": [
      "INFO:tensorflow:Assets written to: ./models/explore_idx/v2/retrained/v2/model/BEKS/close_EMA10_G_s2/assets\n",
      "WARNING:absl:<keras.layers.recurrent.LSTMCell object at 0x0000012682B98B50> has the same name 'LSTMCell' as a built-in Keras object. Consider renaming <class 'keras.layers.recurrent.LSTMCell'> to avoid naming conflicts when loading with `tf.keras.models.load_model`. If renaming is not possible, pass the object in the `custom_objects` parameter of the load function.\n"
     ]
    },
    {
     "name": "stdout",
     "output_type": "stream",
     "text": [
      "Current progress: 144/300 BEKS close_EMA10_G_s2, time: 0:00:33.705504\n"
     ]
    },
    {
     "name": "stderr",
     "output_type": "stream",
     "text": [
      "WARNING:absl:Found untraced functions such as lstm_cell_149_layer_call_fn, lstm_cell_149_layer_call_and_return_conditional_losses, lstm_cell_149_layer_call_fn, lstm_cell_149_layer_call_and_return_conditional_losses, lstm_cell_149_layer_call_and_return_conditional_losses while saving (showing 5 of 5). These functions will not be directly callable after loading.\n"
     ]
    },
    {
     "name": "stdout",
     "output_type": "stream",
     "text": [
      "INFO:tensorflow:Assets written to: ./models/explore_idx/v2/retrained/v2/model/ADHI/close_EMA3_G_s2/assets\n"
     ]
    },
    {
     "name": "stderr",
     "output_type": "stream",
     "text": [
      "INFO:tensorflow:Assets written to: ./models/explore_idx/v2/retrained/v2/model/ADHI/close_EMA3_G_s2/assets\n",
      "WARNING:absl:<keras.layers.recurrent.LSTMCell object at 0x00000126F29B12B0> has the same name 'LSTMCell' as a built-in Keras object. Consider renaming <class 'keras.layers.recurrent.LSTMCell'> to avoid naming conflicts when loading with `tf.keras.models.load_model`. If renaming is not possible, pass the object in the `custom_objects` parameter of the load function.\n"
     ]
    },
    {
     "name": "stdout",
     "output_type": "stream",
     "text": [
      "Current progress: 145/300 ADHI close_EMA3_G_s2, time: 0:00:33.075194\n"
     ]
    },
    {
     "name": "stderr",
     "output_type": "stream",
     "text": [
      "WARNING:absl:Found untraced functions such as lstm_cell_150_layer_call_fn, lstm_cell_150_layer_call_and_return_conditional_losses, lstm_cell_150_layer_call_fn, lstm_cell_150_layer_call_and_return_conditional_losses, lstm_cell_150_layer_call_and_return_conditional_losses while saving (showing 5 of 5). These functions will not be directly callable after loading.\n"
     ]
    },
    {
     "name": "stdout",
     "output_type": "stream",
     "text": [
      "INFO:tensorflow:Assets written to: ./models/explore_idx/v2/retrained/v2/model/ADHI/close_EMA3_G_s1/assets\n"
     ]
    },
    {
     "name": "stderr",
     "output_type": "stream",
     "text": [
      "INFO:tensorflow:Assets written to: ./models/explore_idx/v2/retrained/v2/model/ADHI/close_EMA3_G_s1/assets\n",
      "WARNING:absl:<keras.layers.recurrent.LSTMCell object at 0x00000126937B1DF0> has the same name 'LSTMCell' as a built-in Keras object. Consider renaming <class 'keras.layers.recurrent.LSTMCell'> to avoid naming conflicts when loading with `tf.keras.models.load_model`. If renaming is not possible, pass the object in the `custom_objects` parameter of the load function.\n"
     ]
    },
    {
     "name": "stdout",
     "output_type": "stream",
     "text": [
      "Current progress: 146/300 ADHI close_EMA3_G_s1, time: 0:00:33.068472\n"
     ]
    },
    {
     "name": "stderr",
     "output_type": "stream",
     "text": [
      "WARNING:absl:Found untraced functions such as lstm_cell_151_layer_call_fn, lstm_cell_151_layer_call_and_return_conditional_losses, lstm_cell_151_layer_call_fn, lstm_cell_151_layer_call_and_return_conditional_losses, lstm_cell_151_layer_call_and_return_conditional_losses while saving (showing 5 of 5). These functions will not be directly callable after loading.\n"
     ]
    },
    {
     "name": "stdout",
     "output_type": "stream",
     "text": [
      "INFO:tensorflow:Assets written to: ./models/explore_idx/v2/retrained/v2/model/ADHI/close_EMA10_G_s2/assets\n"
     ]
    },
    {
     "name": "stderr",
     "output_type": "stream",
     "text": [
      "INFO:tensorflow:Assets written to: ./models/explore_idx/v2/retrained/v2/model/ADHI/close_EMA10_G_s2/assets\n",
      "WARNING:absl:<keras.layers.recurrent.LSTMCell object at 0x0000012693799850> has the same name 'LSTMCell' as a built-in Keras object. Consider renaming <class 'keras.layers.recurrent.LSTMCell'> to avoid naming conflicts when loading with `tf.keras.models.load_model`. If renaming is not possible, pass the object in the `custom_objects` parameter of the load function.\n"
     ]
    },
    {
     "name": "stdout",
     "output_type": "stream",
     "text": [
      "Current progress: 147/300 ADHI close_EMA10_G_s2, time: 0:00:33.066180\n"
     ]
    },
    {
     "name": "stderr",
     "output_type": "stream",
     "text": [
      "WARNING:absl:Found untraced functions such as lstm_cell_152_layer_call_fn, lstm_cell_152_layer_call_and_return_conditional_losses, lstm_cell_152_layer_call_fn, lstm_cell_152_layer_call_and_return_conditional_losses, lstm_cell_152_layer_call_and_return_conditional_losses while saving (showing 5 of 5). These functions will not be directly callable after loading.\n"
     ]
    },
    {
     "name": "stdout",
     "output_type": "stream",
     "text": [
      "INFO:tensorflow:Assets written to: ./models/explore_idx/v2/retrained/v2/model/RAJA/close_EMA3_G_s2/assets\n"
     ]
    },
    {
     "name": "stderr",
     "output_type": "stream",
     "text": [
      "INFO:tensorflow:Assets written to: ./models/explore_idx/v2/retrained/v2/model/RAJA/close_EMA3_G_s2/assets\n",
      "WARNING:absl:<keras.layers.recurrent.LSTMCell object at 0x0000012699D5A100> has the same name 'LSTMCell' as a built-in Keras object. Consider renaming <class 'keras.layers.recurrent.LSTMCell'> to avoid naming conflicts when loading with `tf.keras.models.load_model`. If renaming is not possible, pass the object in the `custom_objects` parameter of the load function.\n"
     ]
    },
    {
     "name": "stdout",
     "output_type": "stream",
     "text": [
      "Current progress: 148/300 RAJA close_EMA3_G_s2, time: 0:00:33.168710\n"
     ]
    },
    {
     "name": "stderr",
     "output_type": "stream",
     "text": [
      "WARNING:absl:Found untraced functions such as lstm_cell_153_layer_call_fn, lstm_cell_153_layer_call_and_return_conditional_losses, lstm_cell_153_layer_call_fn, lstm_cell_153_layer_call_and_return_conditional_losses, lstm_cell_153_layer_call_and_return_conditional_losses while saving (showing 5 of 5). These functions will not be directly callable after loading.\n"
     ]
    },
    {
     "name": "stdout",
     "output_type": "stream",
     "text": [
      "INFO:tensorflow:Assets written to: ./models/explore_idx/v2/retrained/v2/model/RAJA/close_EMA3_G_s1/assets\n"
     ]
    },
    {
     "name": "stderr",
     "output_type": "stream",
     "text": [
      "INFO:tensorflow:Assets written to: ./models/explore_idx/v2/retrained/v2/model/RAJA/close_EMA3_G_s1/assets\n",
      "WARNING:absl:<keras.layers.recurrent.LSTMCell object at 0x000001269196EEB0> has the same name 'LSTMCell' as a built-in Keras object. Consider renaming <class 'keras.layers.recurrent.LSTMCell'> to avoid naming conflicts when loading with `tf.keras.models.load_model`. If renaming is not possible, pass the object in the `custom_objects` parameter of the load function.\n"
     ]
    },
    {
     "name": "stdout",
     "output_type": "stream",
     "text": [
      "Current progress: 149/300 RAJA close_EMA3_G_s1, time: 0:00:32.263785\n"
     ]
    },
    {
     "name": "stderr",
     "output_type": "stream",
     "text": [
      "WARNING:absl:Found untraced functions such as lstm_cell_154_layer_call_fn, lstm_cell_154_layer_call_and_return_conditional_losses, lstm_cell_154_layer_call_fn, lstm_cell_154_layer_call_and_return_conditional_losses, lstm_cell_154_layer_call_and_return_conditional_losses while saving (showing 5 of 5). These functions will not be directly callable after loading.\n"
     ]
    },
    {
     "name": "stdout",
     "output_type": "stream",
     "text": [
      "INFO:tensorflow:Assets written to: ./models/explore_idx/v2/retrained/v2/model/RAJA/close_EMA10_G_s2/assets\n"
     ]
    },
    {
     "name": "stderr",
     "output_type": "stream",
     "text": [
      "INFO:tensorflow:Assets written to: ./models/explore_idx/v2/retrained/v2/model/RAJA/close_EMA10_G_s2/assets\n",
      "WARNING:absl:<keras.layers.recurrent.LSTMCell object at 0x000001268258E850> has the same name 'LSTMCell' as a built-in Keras object. Consider renaming <class 'keras.layers.recurrent.LSTMCell'> to avoid naming conflicts when loading with `tf.keras.models.load_model`. If renaming is not possible, pass the object in the `custom_objects` parameter of the load function.\n"
     ]
    },
    {
     "name": "stdout",
     "output_type": "stream",
     "text": [
      "Current progress: 150/300 RAJA close_EMA10_G_s2, time: 0:00:33.622252\n"
     ]
    },
    {
     "name": "stderr",
     "output_type": "stream",
     "text": [
      "WARNING:absl:Found untraced functions such as lstm_cell_155_layer_call_fn, lstm_cell_155_layer_call_and_return_conditional_losses, lstm_cell_155_layer_call_fn, lstm_cell_155_layer_call_and_return_conditional_losses, lstm_cell_155_layer_call_and_return_conditional_losses while saving (showing 5 of 5). These functions will not be directly callable after loading.\n"
     ]
    },
    {
     "name": "stdout",
     "output_type": "stream",
     "text": [
      "INFO:tensorflow:Assets written to: ./models/explore_idx/v2/retrained/v2/model/DILD/close_EMA3_G_s2/assets\n"
     ]
    },
    {
     "name": "stderr",
     "output_type": "stream",
     "text": [
      "INFO:tensorflow:Assets written to: ./models/explore_idx/v2/retrained/v2/model/DILD/close_EMA3_G_s2/assets\n",
      "WARNING:absl:<keras.layers.recurrent.LSTMCell object at 0x00000126F1C200A0> has the same name 'LSTMCell' as a built-in Keras object. Consider renaming <class 'keras.layers.recurrent.LSTMCell'> to avoid naming conflicts when loading with `tf.keras.models.load_model`. If renaming is not possible, pass the object in the `custom_objects` parameter of the load function.\n"
     ]
    },
    {
     "name": "stdout",
     "output_type": "stream",
     "text": [
      "Current progress: 151/300 DILD close_EMA3_G_s2, time: 0:00:33.377408\n"
     ]
    },
    {
     "name": "stderr",
     "output_type": "stream",
     "text": [
      "WARNING:absl:Found untraced functions such as lstm_cell_156_layer_call_fn, lstm_cell_156_layer_call_and_return_conditional_losses, lstm_cell_156_layer_call_fn, lstm_cell_156_layer_call_and_return_conditional_losses, lstm_cell_156_layer_call_and_return_conditional_losses while saving (showing 5 of 5). These functions will not be directly callable after loading.\n"
     ]
    },
    {
     "name": "stdout",
     "output_type": "stream",
     "text": [
      "INFO:tensorflow:Assets written to: ./models/explore_idx/v2/retrained/v2/model/DILD/close_EMA3_G_s1/assets\n"
     ]
    },
    {
     "name": "stderr",
     "output_type": "stream",
     "text": [
      "INFO:tensorflow:Assets written to: ./models/explore_idx/v2/retrained/v2/model/DILD/close_EMA3_G_s1/assets\n",
      "WARNING:absl:<keras.layers.recurrent.LSTMCell object at 0x000001268C461D00> has the same name 'LSTMCell' as a built-in Keras object. Consider renaming <class 'keras.layers.recurrent.LSTMCell'> to avoid naming conflicts when loading with `tf.keras.models.load_model`. If renaming is not possible, pass the object in the `custom_objects` parameter of the load function.\n"
     ]
    },
    {
     "name": "stdout",
     "output_type": "stream",
     "text": [
      "Current progress: 152/300 DILD close_EMA3_G_s1, time: 0:00:33.268345\n"
     ]
    },
    {
     "name": "stderr",
     "output_type": "stream",
     "text": [
      "WARNING:absl:Found untraced functions such as lstm_cell_157_layer_call_fn, lstm_cell_157_layer_call_and_return_conditional_losses, lstm_cell_157_layer_call_fn, lstm_cell_157_layer_call_and_return_conditional_losses, lstm_cell_157_layer_call_and_return_conditional_losses while saving (showing 5 of 5). These functions will not be directly callable after loading.\n"
     ]
    },
    {
     "name": "stdout",
     "output_type": "stream",
     "text": [
      "INFO:tensorflow:Assets written to: ./models/explore_idx/v2/retrained/v2/model/DILD/close_EMA10_G_s2/assets\n"
     ]
    },
    {
     "name": "stderr",
     "output_type": "stream",
     "text": [
      "INFO:tensorflow:Assets written to: ./models/explore_idx/v2/retrained/v2/model/DILD/close_EMA10_G_s2/assets\n",
      "WARNING:absl:<keras.layers.recurrent.LSTMCell object at 0x000001268B0B6370> has the same name 'LSTMCell' as a built-in Keras object. Consider renaming <class 'keras.layers.recurrent.LSTMCell'> to avoid naming conflicts when loading with `tf.keras.models.load_model`. If renaming is not possible, pass the object in the `custom_objects` parameter of the load function.\n"
     ]
    },
    {
     "name": "stdout",
     "output_type": "stream",
     "text": [
      "Current progress: 153/300 DILD close_EMA10_G_s2, time: 0:00:33.934148\n"
     ]
    },
    {
     "name": "stderr",
     "output_type": "stream",
     "text": [
      "WARNING:absl:Found untraced functions such as lstm_cell_158_layer_call_fn, lstm_cell_158_layer_call_and_return_conditional_losses, lstm_cell_158_layer_call_fn, lstm_cell_158_layer_call_and_return_conditional_losses, lstm_cell_158_layer_call_and_return_conditional_losses while saving (showing 5 of 5). These functions will not be directly callable after loading.\n"
     ]
    },
    {
     "name": "stdout",
     "output_type": "stream",
     "text": [
      "INFO:tensorflow:Assets written to: ./models/explore_idx/v2/retrained/v2/model/BBCA/close_EMA3_G_s2/assets\n"
     ]
    },
    {
     "name": "stderr",
     "output_type": "stream",
     "text": [
      "INFO:tensorflow:Assets written to: ./models/explore_idx/v2/retrained/v2/model/BBCA/close_EMA3_G_s2/assets\n",
      "WARNING:absl:<keras.layers.recurrent.LSTMCell object at 0x000001269356B3A0> has the same name 'LSTMCell' as a built-in Keras object. Consider renaming <class 'keras.layers.recurrent.LSTMCell'> to avoid naming conflicts when loading with `tf.keras.models.load_model`. If renaming is not possible, pass the object in the `custom_objects` parameter of the load function.\n"
     ]
    },
    {
     "name": "stdout",
     "output_type": "stream",
     "text": [
      "Current progress: 154/300 BBCA close_EMA3_G_s2, time: 0:00:31.587242\n"
     ]
    },
    {
     "name": "stderr",
     "output_type": "stream",
     "text": [
      "WARNING:absl:Found untraced functions such as lstm_cell_159_layer_call_fn, lstm_cell_159_layer_call_and_return_conditional_losses, lstm_cell_159_layer_call_fn, lstm_cell_159_layer_call_and_return_conditional_losses, lstm_cell_159_layer_call_and_return_conditional_losses while saving (showing 5 of 5). These functions will not be directly callable after loading.\n"
     ]
    },
    {
     "name": "stdout",
     "output_type": "stream",
     "text": [
      "INFO:tensorflow:Assets written to: ./models/explore_idx/v2/retrained/v2/model/BBCA/close_EMA3_G_s1/assets\n"
     ]
    },
    {
     "name": "stderr",
     "output_type": "stream",
     "text": [
      "INFO:tensorflow:Assets written to: ./models/explore_idx/v2/retrained/v2/model/BBCA/close_EMA3_G_s1/assets\n",
      "WARNING:absl:<keras.layers.recurrent.LSTMCell object at 0x000001268D22B130> has the same name 'LSTMCell' as a built-in Keras object. Consider renaming <class 'keras.layers.recurrent.LSTMCell'> to avoid naming conflicts when loading with `tf.keras.models.load_model`. If renaming is not possible, pass the object in the `custom_objects` parameter of the load function.\n"
     ]
    },
    {
     "name": "stdout",
     "output_type": "stream",
     "text": [
      "Current progress: 155/300 BBCA close_EMA3_G_s1, time: 0:00:33.226190\n"
     ]
    },
    {
     "name": "stderr",
     "output_type": "stream",
     "text": [
      "WARNING:absl:Found untraced functions such as lstm_cell_160_layer_call_fn, lstm_cell_160_layer_call_and_return_conditional_losses, lstm_cell_160_layer_call_fn, lstm_cell_160_layer_call_and_return_conditional_losses, lstm_cell_160_layer_call_and_return_conditional_losses while saving (showing 5 of 5). These functions will not be directly callable after loading.\n"
     ]
    },
    {
     "name": "stdout",
     "output_type": "stream",
     "text": [
      "INFO:tensorflow:Assets written to: ./models/explore_idx/v2/retrained/v2/model/BBCA/close_EMA10_G_s2/assets\n"
     ]
    },
    {
     "name": "stderr",
     "output_type": "stream",
     "text": [
      "INFO:tensorflow:Assets written to: ./models/explore_idx/v2/retrained/v2/model/BBCA/close_EMA10_G_s2/assets\n",
      "WARNING:absl:<keras.layers.recurrent.LSTMCell object at 0x000001269A33F400> has the same name 'LSTMCell' as a built-in Keras object. Consider renaming <class 'keras.layers.recurrent.LSTMCell'> to avoid naming conflicts when loading with `tf.keras.models.load_model`. If renaming is not possible, pass the object in the `custom_objects` parameter of the load function.\n"
     ]
    },
    {
     "name": "stdout",
     "output_type": "stream",
     "text": [
      "Current progress: 156/300 BBCA close_EMA10_G_s2, time: 0:00:31.303003\n"
     ]
    },
    {
     "name": "stderr",
     "output_type": "stream",
     "text": [
      "WARNING:absl:Found untraced functions such as lstm_cell_161_layer_call_fn, lstm_cell_161_layer_call_and_return_conditional_losses, lstm_cell_161_layer_call_fn, lstm_cell_161_layer_call_and_return_conditional_losses, lstm_cell_161_layer_call_and_return_conditional_losses while saving (showing 5 of 5). These functions will not be directly callable after loading.\n"
     ]
    },
    {
     "name": "stdout",
     "output_type": "stream",
     "text": [
      "INFO:tensorflow:Assets written to: ./models/explore_idx/v2/retrained/v2/model/PBRX/close_EMA3_G_s2/assets\n"
     ]
    },
    {
     "name": "stderr",
     "output_type": "stream",
     "text": [
      "INFO:tensorflow:Assets written to: ./models/explore_idx/v2/retrained/v2/model/PBRX/close_EMA3_G_s2/assets\n",
      "WARNING:absl:<keras.layers.recurrent.LSTMCell object at 0x000001268BF4DC70> has the same name 'LSTMCell' as a built-in Keras object. Consider renaming <class 'keras.layers.recurrent.LSTMCell'> to avoid naming conflicts when loading with `tf.keras.models.load_model`. If renaming is not possible, pass the object in the `custom_objects` parameter of the load function.\n"
     ]
    },
    {
     "name": "stdout",
     "output_type": "stream",
     "text": [
      "Current progress: 157/300 PBRX close_EMA3_G_s2, time: 0:00:33.110630\n"
     ]
    },
    {
     "name": "stderr",
     "output_type": "stream",
     "text": [
      "WARNING:absl:Found untraced functions such as lstm_cell_162_layer_call_fn, lstm_cell_162_layer_call_and_return_conditional_losses, lstm_cell_162_layer_call_fn, lstm_cell_162_layer_call_and_return_conditional_losses, lstm_cell_162_layer_call_and_return_conditional_losses while saving (showing 5 of 5). These functions will not be directly callable after loading.\n"
     ]
    },
    {
     "name": "stdout",
     "output_type": "stream",
     "text": [
      "INFO:tensorflow:Assets written to: ./models/explore_idx/v2/retrained/v2/model/PBRX/close_EMA3_G_s1/assets\n"
     ]
    },
    {
     "name": "stderr",
     "output_type": "stream",
     "text": [
      "INFO:tensorflow:Assets written to: ./models/explore_idx/v2/retrained/v2/model/PBRX/close_EMA3_G_s1/assets\n",
      "WARNING:absl:<keras.layers.recurrent.LSTMCell object at 0x00000126EF62E8E0> has the same name 'LSTMCell' as a built-in Keras object. Consider renaming <class 'keras.layers.recurrent.LSTMCell'> to avoid naming conflicts when loading with `tf.keras.models.load_model`. If renaming is not possible, pass the object in the `custom_objects` parameter of the load function.\n"
     ]
    },
    {
     "name": "stdout",
     "output_type": "stream",
     "text": [
      "Current progress: 158/300 PBRX close_EMA3_G_s1, time: 0:00:34.533823\n"
     ]
    },
    {
     "name": "stderr",
     "output_type": "stream",
     "text": [
      "WARNING:absl:Found untraced functions such as lstm_cell_163_layer_call_fn, lstm_cell_163_layer_call_and_return_conditional_losses, lstm_cell_163_layer_call_fn, lstm_cell_163_layer_call_and_return_conditional_losses, lstm_cell_163_layer_call_and_return_conditional_losses while saving (showing 5 of 5). These functions will not be directly callable after loading.\n"
     ]
    },
    {
     "name": "stdout",
     "output_type": "stream",
     "text": [
      "INFO:tensorflow:Assets written to: ./models/explore_idx/v2/retrained/v2/model/PBRX/close_EMA10_G_s2/assets\n"
     ]
    },
    {
     "name": "stderr",
     "output_type": "stream",
     "text": [
      "INFO:tensorflow:Assets written to: ./models/explore_idx/v2/retrained/v2/model/PBRX/close_EMA10_G_s2/assets\n",
      "WARNING:absl:<keras.layers.recurrent.LSTMCell object at 0x000001269A7D23D0> has the same name 'LSTMCell' as a built-in Keras object. Consider renaming <class 'keras.layers.recurrent.LSTMCell'> to avoid naming conflicts when loading with `tf.keras.models.load_model`. If renaming is not possible, pass the object in the `custom_objects` parameter of the load function.\n"
     ]
    },
    {
     "name": "stdout",
     "output_type": "stream",
     "text": [
      "Current progress: 159/300 PBRX close_EMA10_G_s2, time: 0:00:32.951858\n"
     ]
    },
    {
     "name": "stderr",
     "output_type": "stream",
     "text": [
      "WARNING:absl:Found untraced functions such as lstm_cell_164_layer_call_fn, lstm_cell_164_layer_call_and_return_conditional_losses, lstm_cell_164_layer_call_fn, lstm_cell_164_layer_call_and_return_conditional_losses, lstm_cell_164_layer_call_and_return_conditional_losses while saving (showing 5 of 5). These functions will not be directly callable after loading.\n"
     ]
    },
    {
     "name": "stdout",
     "output_type": "stream",
     "text": [
      "INFO:tensorflow:Assets written to: ./models/explore_idx/v2/retrained/v2/model/DGIK/close_EMA3_G_s2/assets\n"
     ]
    },
    {
     "name": "stderr",
     "output_type": "stream",
     "text": [
      "INFO:tensorflow:Assets written to: ./models/explore_idx/v2/retrained/v2/model/DGIK/close_EMA3_G_s2/assets\n",
      "WARNING:absl:<keras.layers.recurrent.LSTMCell object at 0x000001269565C190> has the same name 'LSTMCell' as a built-in Keras object. Consider renaming <class 'keras.layers.recurrent.LSTMCell'> to avoid naming conflicts when loading with `tf.keras.models.load_model`. If renaming is not possible, pass the object in the `custom_objects` parameter of the load function.\n"
     ]
    },
    {
     "name": "stdout",
     "output_type": "stream",
     "text": [
      "Current progress: 160/300 DGIK close_EMA3_G_s2, time: 0:00:33.866376\n"
     ]
    },
    {
     "name": "stderr",
     "output_type": "stream",
     "text": [
      "WARNING:absl:Found untraced functions such as lstm_cell_165_layer_call_fn, lstm_cell_165_layer_call_and_return_conditional_losses, lstm_cell_165_layer_call_fn, lstm_cell_165_layer_call_and_return_conditional_losses, lstm_cell_165_layer_call_and_return_conditional_losses while saving (showing 5 of 5). These functions will not be directly callable after loading.\n"
     ]
    },
    {
     "name": "stdout",
     "output_type": "stream",
     "text": [
      "INFO:tensorflow:Assets written to: ./models/explore_idx/v2/retrained/v2/model/DGIK/close_EMA3_G_s1/assets\n"
     ]
    },
    {
     "name": "stderr",
     "output_type": "stream",
     "text": [
      "INFO:tensorflow:Assets written to: ./models/explore_idx/v2/retrained/v2/model/DGIK/close_EMA3_G_s1/assets\n",
      "WARNING:absl:<keras.layers.recurrent.LSTMCell object at 0x0000012694DE7310> has the same name 'LSTMCell' as a built-in Keras object. Consider renaming <class 'keras.layers.recurrent.LSTMCell'> to avoid naming conflicts when loading with `tf.keras.models.load_model`. If renaming is not possible, pass the object in the `custom_objects` parameter of the load function.\n"
     ]
    },
    {
     "name": "stdout",
     "output_type": "stream",
     "text": [
      "Current progress: 161/300 DGIK close_EMA3_G_s1, time: 0:00:32.501245\n"
     ]
    },
    {
     "name": "stderr",
     "output_type": "stream",
     "text": [
      "WARNING:absl:Found untraced functions such as lstm_cell_166_layer_call_fn, lstm_cell_166_layer_call_and_return_conditional_losses, lstm_cell_166_layer_call_fn, lstm_cell_166_layer_call_and_return_conditional_losses, lstm_cell_166_layer_call_and_return_conditional_losses while saving (showing 5 of 5). These functions will not be directly callable after loading.\n"
     ]
    },
    {
     "name": "stdout",
     "output_type": "stream",
     "text": [
      "INFO:tensorflow:Assets written to: ./models/explore_idx/v2/retrained/v2/model/DGIK/close_EMA10_G_s2/assets\n"
     ]
    },
    {
     "name": "stderr",
     "output_type": "stream",
     "text": [
      "INFO:tensorflow:Assets written to: ./models/explore_idx/v2/retrained/v2/model/DGIK/close_EMA10_G_s2/assets\n",
      "WARNING:absl:<keras.layers.recurrent.LSTMCell object at 0x000001268B4D8AF0> has the same name 'LSTMCell' as a built-in Keras object. Consider renaming <class 'keras.layers.recurrent.LSTMCell'> to avoid naming conflicts when loading with `tf.keras.models.load_model`. If renaming is not possible, pass the object in the `custom_objects` parameter of the load function.\n"
     ]
    },
    {
     "name": "stdout",
     "output_type": "stream",
     "text": [
      "Current progress: 162/300 DGIK close_EMA10_G_s2, time: 0:00:33.432583\n"
     ]
    },
    {
     "name": "stderr",
     "output_type": "stream",
     "text": [
      "WARNING:absl:Found untraced functions such as lstm_cell_167_layer_call_fn, lstm_cell_167_layer_call_and_return_conditional_losses, lstm_cell_167_layer_call_fn, lstm_cell_167_layer_call_and_return_conditional_losses, lstm_cell_167_layer_call_and_return_conditional_losses while saving (showing 5 of 5). These functions will not be directly callable after loading.\n"
     ]
    },
    {
     "name": "stdout",
     "output_type": "stream",
     "text": [
      "INFO:tensorflow:Assets written to: ./models/explore_idx/v2/retrained/v2/model/PNBN/close_EMA3_G_s2/assets\n"
     ]
    },
    {
     "name": "stderr",
     "output_type": "stream",
     "text": [
      "INFO:tensorflow:Assets written to: ./models/explore_idx/v2/retrained/v2/model/PNBN/close_EMA3_G_s2/assets\n",
      "WARNING:absl:<keras.layers.recurrent.LSTMCell object at 0x00000126825C7E50> has the same name 'LSTMCell' as a built-in Keras object. Consider renaming <class 'keras.layers.recurrent.LSTMCell'> to avoid naming conflicts when loading with `tf.keras.models.load_model`. If renaming is not possible, pass the object in the `custom_objects` parameter of the load function.\n"
     ]
    },
    {
     "name": "stdout",
     "output_type": "stream",
     "text": [
      "Current progress: 163/300 PNBN close_EMA3_G_s2, time: 0:00:34.323055\n"
     ]
    },
    {
     "name": "stderr",
     "output_type": "stream",
     "text": [
      "WARNING:absl:Found untraced functions such as lstm_cell_168_layer_call_fn, lstm_cell_168_layer_call_and_return_conditional_losses, lstm_cell_168_layer_call_fn, lstm_cell_168_layer_call_and_return_conditional_losses, lstm_cell_168_layer_call_and_return_conditional_losses while saving (showing 5 of 5). These functions will not be directly callable after loading.\n"
     ]
    },
    {
     "name": "stdout",
     "output_type": "stream",
     "text": [
      "INFO:tensorflow:Assets written to: ./models/explore_idx/v2/retrained/v2/model/PNBN/close_EMA3_G_s1/assets\n"
     ]
    },
    {
     "name": "stderr",
     "output_type": "stream",
     "text": [
      "INFO:tensorflow:Assets written to: ./models/explore_idx/v2/retrained/v2/model/PNBN/close_EMA3_G_s1/assets\n",
      "WARNING:absl:<keras.layers.recurrent.LSTMCell object at 0x00000126EF15A100> has the same name 'LSTMCell' as a built-in Keras object. Consider renaming <class 'keras.layers.recurrent.LSTMCell'> to avoid naming conflicts when loading with `tf.keras.models.load_model`. If renaming is not possible, pass the object in the `custom_objects` parameter of the load function.\n"
     ]
    },
    {
     "name": "stdout",
     "output_type": "stream",
     "text": [
      "Current progress: 164/300 PNBN close_EMA3_G_s1, time: 0:00:32.772716\n"
     ]
    },
    {
     "name": "stderr",
     "output_type": "stream",
     "text": [
      "WARNING:absl:Found untraced functions such as lstm_cell_169_layer_call_fn, lstm_cell_169_layer_call_and_return_conditional_losses, lstm_cell_169_layer_call_fn, lstm_cell_169_layer_call_and_return_conditional_losses, lstm_cell_169_layer_call_and_return_conditional_losses while saving (showing 5 of 5). These functions will not be directly callable after loading.\n"
     ]
    },
    {
     "name": "stdout",
     "output_type": "stream",
     "text": [
      "INFO:tensorflow:Assets written to: ./models/explore_idx/v2/retrained/v2/model/PNBN/close_EMA10_G_s2/assets\n"
     ]
    },
    {
     "name": "stderr",
     "output_type": "stream",
     "text": [
      "INFO:tensorflow:Assets written to: ./models/explore_idx/v2/retrained/v2/model/PNBN/close_EMA10_G_s2/assets\n",
      "WARNING:absl:<keras.layers.recurrent.LSTMCell object at 0x000001269047DD90> has the same name 'LSTMCell' as a built-in Keras object. Consider renaming <class 'keras.layers.recurrent.LSTMCell'> to avoid naming conflicts when loading with `tf.keras.models.load_model`. If renaming is not possible, pass the object in the `custom_objects` parameter of the load function.\n"
     ]
    },
    {
     "name": "stdout",
     "output_type": "stream",
     "text": [
      "Current progress: 165/300 PNBN close_EMA10_G_s2, time: 0:00:34.365027\n"
     ]
    },
    {
     "name": "stderr",
     "output_type": "stream",
     "text": [
      "WARNING:absl:Found untraced functions such as lstm_cell_170_layer_call_fn, lstm_cell_170_layer_call_and_return_conditional_losses, lstm_cell_170_layer_call_fn, lstm_cell_170_layer_call_and_return_conditional_losses, lstm_cell_170_layer_call_and_return_conditional_losses while saving (showing 5 of 5). These functions will not be directly callable after loading.\n"
     ]
    },
    {
     "name": "stdout",
     "output_type": "stream",
     "text": [
      "INFO:tensorflow:Assets written to: ./models/explore_idx/v2/retrained/v2/model/INDY/close_EMA3_G_s2/assets\n"
     ]
    },
    {
     "name": "stderr",
     "output_type": "stream",
     "text": [
      "INFO:tensorflow:Assets written to: ./models/explore_idx/v2/retrained/v2/model/INDY/close_EMA3_G_s2/assets\n",
      "WARNING:absl:<keras.layers.recurrent.LSTMCell object at 0x0000012682B6B6A0> has the same name 'LSTMCell' as a built-in Keras object. Consider renaming <class 'keras.layers.recurrent.LSTMCell'> to avoid naming conflicts when loading with `tf.keras.models.load_model`. If renaming is not possible, pass the object in the `custom_objects` parameter of the load function.\n"
     ]
    },
    {
     "name": "stdout",
     "output_type": "stream",
     "text": [
      "Current progress: 166/300 INDY close_EMA3_G_s2, time: 0:00:32.852097\n"
     ]
    },
    {
     "name": "stderr",
     "output_type": "stream",
     "text": [
      "WARNING:absl:Found untraced functions such as lstm_cell_171_layer_call_fn, lstm_cell_171_layer_call_and_return_conditional_losses, lstm_cell_171_layer_call_fn, lstm_cell_171_layer_call_and_return_conditional_losses, lstm_cell_171_layer_call_and_return_conditional_losses while saving (showing 5 of 5). These functions will not be directly callable after loading.\n"
     ]
    },
    {
     "name": "stdout",
     "output_type": "stream",
     "text": [
      "INFO:tensorflow:Assets written to: ./models/explore_idx/v2/retrained/v2/model/INDY/close_EMA3_G_s1/assets\n"
     ]
    },
    {
     "name": "stderr",
     "output_type": "stream",
     "text": [
      "INFO:tensorflow:Assets written to: ./models/explore_idx/v2/retrained/v2/model/INDY/close_EMA3_G_s1/assets\n",
      "WARNING:absl:<keras.layers.recurrent.LSTMCell object at 0x00000126F85CB7F0> has the same name 'LSTMCell' as a built-in Keras object. Consider renaming <class 'keras.layers.recurrent.LSTMCell'> to avoid naming conflicts when loading with `tf.keras.models.load_model`. If renaming is not possible, pass the object in the `custom_objects` parameter of the load function.\n"
     ]
    },
    {
     "name": "stdout",
     "output_type": "stream",
     "text": [
      "Current progress: 167/300 INDY close_EMA3_G_s1, time: 0:00:34.451313\n"
     ]
    },
    {
     "name": "stderr",
     "output_type": "stream",
     "text": [
      "WARNING:absl:Found untraced functions such as lstm_cell_172_layer_call_fn, lstm_cell_172_layer_call_and_return_conditional_losses, lstm_cell_172_layer_call_fn, lstm_cell_172_layer_call_and_return_conditional_losses, lstm_cell_172_layer_call_and_return_conditional_losses while saving (showing 5 of 5). These functions will not be directly callable after loading.\n"
     ]
    },
    {
     "name": "stdout",
     "output_type": "stream",
     "text": [
      "INFO:tensorflow:Assets written to: ./models/explore_idx/v2/retrained/v2/model/INDY/close_EMA10_G_s2/assets\n"
     ]
    },
    {
     "name": "stderr",
     "output_type": "stream",
     "text": [
      "INFO:tensorflow:Assets written to: ./models/explore_idx/v2/retrained/v2/model/INDY/close_EMA10_G_s2/assets\n",
      "WARNING:absl:<keras.layers.recurrent.LSTMCell object at 0x000001269C18DDF0> has the same name 'LSTMCell' as a built-in Keras object. Consider renaming <class 'keras.layers.recurrent.LSTMCell'> to avoid naming conflicts when loading with `tf.keras.models.load_model`. If renaming is not possible, pass the object in the `custom_objects` parameter of the load function.\n"
     ]
    },
    {
     "name": "stdout",
     "output_type": "stream",
     "text": [
      "Current progress: 168/300 INDY close_EMA10_G_s2, time: 0:00:33.851790\n"
     ]
    },
    {
     "name": "stderr",
     "output_type": "stream",
     "text": [
      "WARNING:absl:Found untraced functions such as lstm_cell_173_layer_call_fn, lstm_cell_173_layer_call_and_return_conditional_losses, lstm_cell_173_layer_call_fn, lstm_cell_173_layer_call_and_return_conditional_losses, lstm_cell_173_layer_call_and_return_conditional_losses while saving (showing 5 of 5). These functions will not be directly callable after loading.\n"
     ]
    },
    {
     "name": "stdout",
     "output_type": "stream",
     "text": [
      "INFO:tensorflow:Assets written to: ./models/explore_idx/v2/retrained/v2/model/ACES/close_EMA3_G_s2/assets\n"
     ]
    },
    {
     "name": "stderr",
     "output_type": "stream",
     "text": [
      "INFO:tensorflow:Assets written to: ./models/explore_idx/v2/retrained/v2/model/ACES/close_EMA3_G_s2/assets\n",
      "WARNING:absl:<keras.layers.recurrent.LSTMCell object at 0x0000012689C36DF0> has the same name 'LSTMCell' as a built-in Keras object. Consider renaming <class 'keras.layers.recurrent.LSTMCell'> to avoid naming conflicts when loading with `tf.keras.models.load_model`. If renaming is not possible, pass the object in the `custom_objects` parameter of the load function.\n"
     ]
    },
    {
     "name": "stdout",
     "output_type": "stream",
     "text": [
      "Current progress: 169/300 ACES close_EMA3_G_s2, time: 0:00:34.558511\n"
     ]
    },
    {
     "name": "stderr",
     "output_type": "stream",
     "text": [
      "WARNING:absl:Found untraced functions such as lstm_cell_174_layer_call_fn, lstm_cell_174_layer_call_and_return_conditional_losses, lstm_cell_174_layer_call_fn, lstm_cell_174_layer_call_and_return_conditional_losses, lstm_cell_174_layer_call_and_return_conditional_losses while saving (showing 5 of 5). These functions will not be directly callable after loading.\n"
     ]
    },
    {
     "name": "stdout",
     "output_type": "stream",
     "text": [
      "INFO:tensorflow:Assets written to: ./models/explore_idx/v2/retrained/v2/model/ACES/close_EMA3_G_s1/assets\n"
     ]
    },
    {
     "name": "stderr",
     "output_type": "stream",
     "text": [
      "INFO:tensorflow:Assets written to: ./models/explore_idx/v2/retrained/v2/model/ACES/close_EMA3_G_s1/assets\n",
      "WARNING:absl:<keras.layers.recurrent.LSTMCell object at 0x00000126F381C730> has the same name 'LSTMCell' as a built-in Keras object. Consider renaming <class 'keras.layers.recurrent.LSTMCell'> to avoid naming conflicts when loading with `tf.keras.models.load_model`. If renaming is not possible, pass the object in the `custom_objects` parameter of the load function.\n"
     ]
    },
    {
     "name": "stdout",
     "output_type": "stream",
     "text": [
      "Current progress: 170/300 ACES close_EMA3_G_s1, time: 0:00:33.682435\n"
     ]
    },
    {
     "name": "stderr",
     "output_type": "stream",
     "text": [
      "WARNING:absl:Found untraced functions such as lstm_cell_175_layer_call_fn, lstm_cell_175_layer_call_and_return_conditional_losses, lstm_cell_175_layer_call_fn, lstm_cell_175_layer_call_and_return_conditional_losses, lstm_cell_175_layer_call_and_return_conditional_losses while saving (showing 5 of 5). These functions will not be directly callable after loading.\n"
     ]
    },
    {
     "name": "stdout",
     "output_type": "stream",
     "text": [
      "INFO:tensorflow:Assets written to: ./models/explore_idx/v2/retrained/v2/model/ACES/close_EMA10_G_s2/assets\n"
     ]
    },
    {
     "name": "stderr",
     "output_type": "stream",
     "text": [
      "INFO:tensorflow:Assets written to: ./models/explore_idx/v2/retrained/v2/model/ACES/close_EMA10_G_s2/assets\n",
      "WARNING:absl:<keras.layers.recurrent.LSTMCell object at 0x00000126F8D30D60> has the same name 'LSTMCell' as a built-in Keras object. Consider renaming <class 'keras.layers.recurrent.LSTMCell'> to avoid naming conflicts when loading with `tf.keras.models.load_model`. If renaming is not possible, pass the object in the `custom_objects` parameter of the load function.\n"
     ]
    },
    {
     "name": "stdout",
     "output_type": "stream",
     "text": [
      "Current progress: 171/300 ACES close_EMA10_G_s2, time: 0:00:35.079971\n"
     ]
    },
    {
     "name": "stderr",
     "output_type": "stream",
     "text": [
      "WARNING:absl:Found untraced functions such as lstm_cell_176_layer_call_fn, lstm_cell_176_layer_call_and_return_conditional_losses, lstm_cell_176_layer_call_fn, lstm_cell_176_layer_call_and_return_conditional_losses, lstm_cell_176_layer_call_and_return_conditional_losses while saving (showing 5 of 5). These functions will not be directly callable after loading.\n"
     ]
    },
    {
     "name": "stdout",
     "output_type": "stream",
     "text": [
      "INFO:tensorflow:Assets written to: ./models/explore_idx/v2/retrained/v2/model/MYOR/close_EMA3_G_s2/assets\n"
     ]
    },
    {
     "name": "stderr",
     "output_type": "stream",
     "text": [
      "INFO:tensorflow:Assets written to: ./models/explore_idx/v2/retrained/v2/model/MYOR/close_EMA3_G_s2/assets\n",
      "WARNING:absl:<keras.layers.recurrent.LSTMCell object at 0x000001268DD30BE0> has the same name 'LSTMCell' as a built-in Keras object. Consider renaming <class 'keras.layers.recurrent.LSTMCell'> to avoid naming conflicts when loading with `tf.keras.models.load_model`. If renaming is not possible, pass the object in the `custom_objects` parameter of the load function.\n"
     ]
    },
    {
     "name": "stdout",
     "output_type": "stream",
     "text": [
      "Current progress: 172/300 MYOR close_EMA3_G_s2, time: 0:00:35.051924\n"
     ]
    },
    {
     "name": "stderr",
     "output_type": "stream",
     "text": [
      "WARNING:absl:Found untraced functions such as lstm_cell_177_layer_call_fn, lstm_cell_177_layer_call_and_return_conditional_losses, lstm_cell_177_layer_call_fn, lstm_cell_177_layer_call_and_return_conditional_losses, lstm_cell_177_layer_call_and_return_conditional_losses while saving (showing 5 of 5). These functions will not be directly callable after loading.\n"
     ]
    },
    {
     "name": "stdout",
     "output_type": "stream",
     "text": [
      "INFO:tensorflow:Assets written to: ./models/explore_idx/v2/retrained/v2/model/MYOR/close_EMA3_G_s1/assets\n"
     ]
    },
    {
     "name": "stderr",
     "output_type": "stream",
     "text": [
      "INFO:tensorflow:Assets written to: ./models/explore_idx/v2/retrained/v2/model/MYOR/close_EMA3_G_s1/assets\n",
      "WARNING:absl:<keras.layers.recurrent.LSTMCell object at 0x0000012690E878E0> has the same name 'LSTMCell' as a built-in Keras object. Consider renaming <class 'keras.layers.recurrent.LSTMCell'> to avoid naming conflicts when loading with `tf.keras.models.load_model`. If renaming is not possible, pass the object in the `custom_objects` parameter of the load function.\n"
     ]
    },
    {
     "name": "stdout",
     "output_type": "stream",
     "text": [
      "Current progress: 173/300 MYOR close_EMA3_G_s1, time: 0:00:34.080773\n"
     ]
    },
    {
     "name": "stderr",
     "output_type": "stream",
     "text": [
      "WARNING:absl:Found untraced functions such as lstm_cell_178_layer_call_fn, lstm_cell_178_layer_call_and_return_conditional_losses, lstm_cell_178_layer_call_fn, lstm_cell_178_layer_call_and_return_conditional_losses, lstm_cell_178_layer_call_and_return_conditional_losses while saving (showing 5 of 5). These functions will not be directly callable after loading.\n"
     ]
    },
    {
     "name": "stdout",
     "output_type": "stream",
     "text": [
      "INFO:tensorflow:Assets written to: ./models/explore_idx/v2/retrained/v2/model/MYOR/close_EMA10_G_s2/assets\n"
     ]
    },
    {
     "name": "stderr",
     "output_type": "stream",
     "text": [
      "INFO:tensorflow:Assets written to: ./models/explore_idx/v2/retrained/v2/model/MYOR/close_EMA10_G_s2/assets\n",
      "WARNING:absl:<keras.layers.recurrent.LSTMCell object at 0x000001268AD24940> has the same name 'LSTMCell' as a built-in Keras object. Consider renaming <class 'keras.layers.recurrent.LSTMCell'> to avoid naming conflicts when loading with `tf.keras.models.load_model`. If renaming is not possible, pass the object in the `custom_objects` parameter of the load function.\n"
     ]
    },
    {
     "name": "stdout",
     "output_type": "stream",
     "text": [
      "Current progress: 174/300 MYOR close_EMA10_G_s2, time: 0:00:35.563173\n"
     ]
    },
    {
     "name": "stderr",
     "output_type": "stream",
     "text": [
      "WARNING:absl:Found untraced functions such as lstm_cell_179_layer_call_fn, lstm_cell_179_layer_call_and_return_conditional_losses, lstm_cell_179_layer_call_fn, lstm_cell_179_layer_call_and_return_conditional_losses, lstm_cell_179_layer_call_and_return_conditional_losses while saving (showing 5 of 5). These functions will not be directly callable after loading.\n"
     ]
    },
    {
     "name": "stdout",
     "output_type": "stream",
     "text": [
      "INFO:tensorflow:Assets written to: ./models/explore_idx/v2/retrained/v2/model/INCO/close_EMA3_G_s2/assets\n"
     ]
    },
    {
     "name": "stderr",
     "output_type": "stream",
     "text": [
      "INFO:tensorflow:Assets written to: ./models/explore_idx/v2/retrained/v2/model/INCO/close_EMA3_G_s2/assets\n",
      "WARNING:absl:<keras.layers.recurrent.LSTMCell object at 0x00000126F772EE50> has the same name 'LSTMCell' as a built-in Keras object. Consider renaming <class 'keras.layers.recurrent.LSTMCell'> to avoid naming conflicts when loading with `tf.keras.models.load_model`. If renaming is not possible, pass the object in the `custom_objects` parameter of the load function.\n"
     ]
    },
    {
     "name": "stdout",
     "output_type": "stream",
     "text": [
      "Current progress: 175/300 INCO close_EMA3_G_s2, time: 0:00:35.164867\n"
     ]
    },
    {
     "name": "stderr",
     "output_type": "stream",
     "text": [
      "WARNING:absl:Found untraced functions such as lstm_cell_180_layer_call_fn, lstm_cell_180_layer_call_and_return_conditional_losses, lstm_cell_180_layer_call_fn, lstm_cell_180_layer_call_and_return_conditional_losses, lstm_cell_180_layer_call_and_return_conditional_losses while saving (showing 5 of 5). These functions will not be directly callable after loading.\n"
     ]
    },
    {
     "name": "stdout",
     "output_type": "stream",
     "text": [
      "INFO:tensorflow:Assets written to: ./models/explore_idx/v2/retrained/v2/model/INCO/close_EMA3_G_s1/assets\n"
     ]
    },
    {
     "name": "stderr",
     "output_type": "stream",
     "text": [
      "INFO:tensorflow:Assets written to: ./models/explore_idx/v2/retrained/v2/model/INCO/close_EMA3_G_s1/assets\n",
      "WARNING:absl:<keras.layers.recurrent.LSTMCell object at 0x0000012692CCE8B0> has the same name 'LSTMCell' as a built-in Keras object. Consider renaming <class 'keras.layers.recurrent.LSTMCell'> to avoid naming conflicts when loading with `tf.keras.models.load_model`. If renaming is not possible, pass the object in the `custom_objects` parameter of the load function.\n"
     ]
    },
    {
     "name": "stdout",
     "output_type": "stream",
     "text": [
      "Current progress: 176/300 INCO close_EMA3_G_s1, time: 0:00:34.709023\n"
     ]
    },
    {
     "name": "stderr",
     "output_type": "stream",
     "text": [
      "WARNING:absl:Found untraced functions such as lstm_cell_181_layer_call_fn, lstm_cell_181_layer_call_and_return_conditional_losses, lstm_cell_181_layer_call_fn, lstm_cell_181_layer_call_and_return_conditional_losses, lstm_cell_181_layer_call_and_return_conditional_losses while saving (showing 5 of 5). These functions will not be directly callable after loading.\n"
     ]
    },
    {
     "name": "stdout",
     "output_type": "stream",
     "text": [
      "INFO:tensorflow:Assets written to: ./models/explore_idx/v2/retrained/v2/model/INCO/close_EMA10_G_s2/assets\n"
     ]
    },
    {
     "name": "stderr",
     "output_type": "stream",
     "text": [
      "INFO:tensorflow:Assets written to: ./models/explore_idx/v2/retrained/v2/model/INCO/close_EMA10_G_s2/assets\n",
      "WARNING:absl:<keras.layers.recurrent.LSTMCell object at 0x00000126F143C7F0> has the same name 'LSTMCell' as a built-in Keras object. Consider renaming <class 'keras.layers.recurrent.LSTMCell'> to avoid naming conflicts when loading with `tf.keras.models.load_model`. If renaming is not possible, pass the object in the `custom_objects` parameter of the load function.\n"
     ]
    },
    {
     "name": "stdout",
     "output_type": "stream",
     "text": [
      "Current progress: 177/300 INCO close_EMA10_G_s2, time: 0:00:34.718798\n"
     ]
    },
    {
     "name": "stderr",
     "output_type": "stream",
     "text": [
      "WARNING:absl:Found untraced functions such as lstm_cell_182_layer_call_fn, lstm_cell_182_layer_call_and_return_conditional_losses, lstm_cell_182_layer_call_fn, lstm_cell_182_layer_call_and_return_conditional_losses, lstm_cell_182_layer_call_and_return_conditional_losses while saving (showing 5 of 5). These functions will not be directly callable after loading.\n"
     ]
    },
    {
     "name": "stdout",
     "output_type": "stream",
     "text": [
      "INFO:tensorflow:Assets written to: ./models/explore_idx/v2/retrained/v2/model/AKRA/close_EMA3_G_s2/assets\n"
     ]
    },
    {
     "name": "stderr",
     "output_type": "stream",
     "text": [
      "INFO:tensorflow:Assets written to: ./models/explore_idx/v2/retrained/v2/model/AKRA/close_EMA3_G_s2/assets\n",
      "WARNING:absl:<keras.layers.recurrent.LSTMCell object at 0x00000126937444F0> has the same name 'LSTMCell' as a built-in Keras object. Consider renaming <class 'keras.layers.recurrent.LSTMCell'> to avoid naming conflicts when loading with `tf.keras.models.load_model`. If renaming is not possible, pass the object in the `custom_objects` parameter of the load function.\n"
     ]
    },
    {
     "name": "stdout",
     "output_type": "stream",
     "text": [
      "Current progress: 178/300 AKRA close_EMA3_G_s2, time: 0:00:34.903945\n"
     ]
    },
    {
     "name": "stderr",
     "output_type": "stream",
     "text": [
      "WARNING:absl:Found untraced functions such as lstm_cell_183_layer_call_fn, lstm_cell_183_layer_call_and_return_conditional_losses, lstm_cell_183_layer_call_fn, lstm_cell_183_layer_call_and_return_conditional_losses, lstm_cell_183_layer_call_and_return_conditional_losses while saving (showing 5 of 5). These functions will not be directly callable after loading.\n"
     ]
    },
    {
     "name": "stdout",
     "output_type": "stream",
     "text": [
      "INFO:tensorflow:Assets written to: ./models/explore_idx/v2/retrained/v2/model/AKRA/close_EMA3_G_s1/assets\n"
     ]
    },
    {
     "name": "stderr",
     "output_type": "stream",
     "text": [
      "INFO:tensorflow:Assets written to: ./models/explore_idx/v2/retrained/v2/model/AKRA/close_EMA3_G_s1/assets\n",
      "WARNING:absl:<keras.layers.recurrent.LSTMCell object at 0x00000126F39E2DF0> has the same name 'LSTMCell' as a built-in Keras object. Consider renaming <class 'keras.layers.recurrent.LSTMCell'> to avoid naming conflicts when loading with `tf.keras.models.load_model`. If renaming is not possible, pass the object in the `custom_objects` parameter of the load function.\n"
     ]
    },
    {
     "name": "stdout",
     "output_type": "stream",
     "text": [
      "Current progress: 179/300 AKRA close_EMA3_G_s1, time: 0:00:35.159022\n"
     ]
    },
    {
     "name": "stderr",
     "output_type": "stream",
     "text": [
      "WARNING:absl:Found untraced functions such as lstm_cell_184_layer_call_fn, lstm_cell_184_layer_call_and_return_conditional_losses, lstm_cell_184_layer_call_fn, lstm_cell_184_layer_call_and_return_conditional_losses, lstm_cell_184_layer_call_and_return_conditional_losses while saving (showing 5 of 5). These functions will not be directly callable after loading.\n"
     ]
    },
    {
     "name": "stdout",
     "output_type": "stream",
     "text": [
      "INFO:tensorflow:Assets written to: ./models/explore_idx/v2/retrained/v2/model/AKRA/close_EMA10_G_s2/assets\n"
     ]
    },
    {
     "name": "stderr",
     "output_type": "stream",
     "text": [
      "INFO:tensorflow:Assets written to: ./models/explore_idx/v2/retrained/v2/model/AKRA/close_EMA10_G_s2/assets\n",
      "WARNING:absl:<keras.layers.recurrent.LSTMCell object at 0x00000126F818C4C0> has the same name 'LSTMCell' as a built-in Keras object. Consider renaming <class 'keras.layers.recurrent.LSTMCell'> to avoid naming conflicts when loading with `tf.keras.models.load_model`. If renaming is not possible, pass the object in the `custom_objects` parameter of the load function.\n"
     ]
    },
    {
     "name": "stdout",
     "output_type": "stream",
     "text": [
      "Current progress: 180/300 AKRA close_EMA10_G_s2, time: 0:00:35.564951\n"
     ]
    },
    {
     "name": "stderr",
     "output_type": "stream",
     "text": [
      "WARNING:absl:Found untraced functions such as lstm_cell_185_layer_call_fn, lstm_cell_185_layer_call_and_return_conditional_losses, lstm_cell_185_layer_call_fn, lstm_cell_185_layer_call_and_return_conditional_losses, lstm_cell_185_layer_call_and_return_conditional_losses while saving (showing 5 of 5). These functions will not be directly callable after loading.\n"
     ]
    },
    {
     "name": "stdout",
     "output_type": "stream",
     "text": [
      "INFO:tensorflow:Assets written to: ./models/explore_idx/v2/retrained/v2/model/TBLA/close_EMA3_G_s2/assets\n"
     ]
    },
    {
     "name": "stderr",
     "output_type": "stream",
     "text": [
      "INFO:tensorflow:Assets written to: ./models/explore_idx/v2/retrained/v2/model/TBLA/close_EMA3_G_s2/assets\n",
      "WARNING:absl:<keras.layers.recurrent.LSTMCell object at 0x000001268ADF9D60> has the same name 'LSTMCell' as a built-in Keras object. Consider renaming <class 'keras.layers.recurrent.LSTMCell'> to avoid naming conflicts when loading with `tf.keras.models.load_model`. If renaming is not possible, pass the object in the `custom_objects` parameter of the load function.\n"
     ]
    },
    {
     "name": "stdout",
     "output_type": "stream",
     "text": [
      "Current progress: 181/300 TBLA close_EMA3_G_s2, time: 0:00:34.942044\n"
     ]
    },
    {
     "name": "stderr",
     "output_type": "stream",
     "text": [
      "WARNING:absl:Found untraced functions such as lstm_cell_186_layer_call_fn, lstm_cell_186_layer_call_and_return_conditional_losses, lstm_cell_186_layer_call_fn, lstm_cell_186_layer_call_and_return_conditional_losses, lstm_cell_186_layer_call_and_return_conditional_losses while saving (showing 5 of 5). These functions will not be directly callable after loading.\n"
     ]
    },
    {
     "name": "stdout",
     "output_type": "stream",
     "text": [
      "INFO:tensorflow:Assets written to: ./models/explore_idx/v2/retrained/v2/model/TBLA/close_EMA3_G_s1/assets\n"
     ]
    },
    {
     "name": "stderr",
     "output_type": "stream",
     "text": [
      "INFO:tensorflow:Assets written to: ./models/explore_idx/v2/retrained/v2/model/TBLA/close_EMA3_G_s1/assets\n",
      "WARNING:absl:<keras.layers.recurrent.LSTMCell object at 0x000001269B96BA30> has the same name 'LSTMCell' as a built-in Keras object. Consider renaming <class 'keras.layers.recurrent.LSTMCell'> to avoid naming conflicts when loading with `tf.keras.models.load_model`. If renaming is not possible, pass the object in the `custom_objects` parameter of the load function.\n"
     ]
    },
    {
     "name": "stdout",
     "output_type": "stream",
     "text": [
      "Current progress: 182/300 TBLA close_EMA3_G_s1, time: 0:00:34.722007\n"
     ]
    },
    {
     "name": "stderr",
     "output_type": "stream",
     "text": [
      "WARNING:absl:Found untraced functions such as lstm_cell_187_layer_call_fn, lstm_cell_187_layer_call_and_return_conditional_losses, lstm_cell_187_layer_call_fn, lstm_cell_187_layer_call_and_return_conditional_losses, lstm_cell_187_layer_call_and_return_conditional_losses while saving (showing 5 of 5). These functions will not be directly callable after loading.\n"
     ]
    },
    {
     "name": "stdout",
     "output_type": "stream",
     "text": [
      "INFO:tensorflow:Assets written to: ./models/explore_idx/v2/retrained/v2/model/TBLA/close_EMA10_G_s2/assets\n"
     ]
    },
    {
     "name": "stderr",
     "output_type": "stream",
     "text": [
      "INFO:tensorflow:Assets written to: ./models/explore_idx/v2/retrained/v2/model/TBLA/close_EMA10_G_s2/assets\n",
      "WARNING:absl:<keras.layers.recurrent.LSTMCell object at 0x00000126F2794190> has the same name 'LSTMCell' as a built-in Keras object. Consider renaming <class 'keras.layers.recurrent.LSTMCell'> to avoid naming conflicts when loading with `tf.keras.models.load_model`. If renaming is not possible, pass the object in the `custom_objects` parameter of the load function.\n"
     ]
    },
    {
     "name": "stdout",
     "output_type": "stream",
     "text": [
      "Current progress: 183/300 TBLA close_EMA10_G_s2, time: 0:00:34.709928\n"
     ]
    },
    {
     "name": "stderr",
     "output_type": "stream",
     "text": [
      "WARNING:absl:Found untraced functions such as lstm_cell_188_layer_call_fn, lstm_cell_188_layer_call_and_return_conditional_losses, lstm_cell_188_layer_call_fn, lstm_cell_188_layer_call_and_return_conditional_losses, lstm_cell_188_layer_call_and_return_conditional_losses while saving (showing 5 of 5). These functions will not be directly callable after loading.\n"
     ]
    },
    {
     "name": "stdout",
     "output_type": "stream",
     "text": [
      "INFO:tensorflow:Assets written to: ./models/explore_idx/v2/retrained/v2/model/KPIG/close_EMA3_G_s2/assets\n"
     ]
    },
    {
     "name": "stderr",
     "output_type": "stream",
     "text": [
      "INFO:tensorflow:Assets written to: ./models/explore_idx/v2/retrained/v2/model/KPIG/close_EMA3_G_s2/assets\n",
      "WARNING:absl:<keras.layers.recurrent.LSTMCell object at 0x000001268FF36340> has the same name 'LSTMCell' as a built-in Keras object. Consider renaming <class 'keras.layers.recurrent.LSTMCell'> to avoid naming conflicts when loading with `tf.keras.models.load_model`. If renaming is not possible, pass the object in the `custom_objects` parameter of the load function.\n"
     ]
    },
    {
     "name": "stdout",
     "output_type": "stream",
     "text": [
      "Current progress: 184/300 KPIG close_EMA3_G_s2, time: 0:00:34.304646\n"
     ]
    },
    {
     "name": "stderr",
     "output_type": "stream",
     "text": [
      "WARNING:absl:Found untraced functions such as lstm_cell_189_layer_call_fn, lstm_cell_189_layer_call_and_return_conditional_losses, lstm_cell_189_layer_call_fn, lstm_cell_189_layer_call_and_return_conditional_losses, lstm_cell_189_layer_call_and_return_conditional_losses while saving (showing 5 of 5). These functions will not be directly callable after loading.\n"
     ]
    },
    {
     "name": "stdout",
     "output_type": "stream",
     "text": [
      "INFO:tensorflow:Assets written to: ./models/explore_idx/v2/retrained/v2/model/KPIG/close_EMA3_G_s1/assets\n"
     ]
    },
    {
     "name": "stderr",
     "output_type": "stream",
     "text": [
      "INFO:tensorflow:Assets written to: ./models/explore_idx/v2/retrained/v2/model/KPIG/close_EMA3_G_s1/assets\n",
      "WARNING:absl:<keras.layers.recurrent.LSTMCell object at 0x00000126F77282E0> has the same name 'LSTMCell' as a built-in Keras object. Consider renaming <class 'keras.layers.recurrent.LSTMCell'> to avoid naming conflicts when loading with `tf.keras.models.load_model`. If renaming is not possible, pass the object in the `custom_objects` parameter of the load function.\n"
     ]
    },
    {
     "name": "stdout",
     "output_type": "stream",
     "text": [
      "Current progress: 185/300 KPIG close_EMA3_G_s1, time: 0:00:34.360337\n"
     ]
    },
    {
     "name": "stderr",
     "output_type": "stream",
     "text": [
      "WARNING:absl:Found untraced functions such as lstm_cell_190_layer_call_fn, lstm_cell_190_layer_call_and_return_conditional_losses, lstm_cell_190_layer_call_fn, lstm_cell_190_layer_call_and_return_conditional_losses, lstm_cell_190_layer_call_and_return_conditional_losses while saving (showing 5 of 5). These functions will not be directly callable after loading.\n"
     ]
    },
    {
     "name": "stdout",
     "output_type": "stream",
     "text": [
      "INFO:tensorflow:Assets written to: ./models/explore_idx/v2/retrained/v2/model/KPIG/close_EMA10_G_s2/assets\n"
     ]
    },
    {
     "name": "stderr",
     "output_type": "stream",
     "text": [
      "INFO:tensorflow:Assets written to: ./models/explore_idx/v2/retrained/v2/model/KPIG/close_EMA10_G_s2/assets\n",
      "WARNING:absl:<keras.layers.recurrent.LSTMCell object at 0x000001268B5972B0> has the same name 'LSTMCell' as a built-in Keras object. Consider renaming <class 'keras.layers.recurrent.LSTMCell'> to avoid naming conflicts when loading with `tf.keras.models.load_model`. If renaming is not possible, pass the object in the `custom_objects` parameter of the load function.\n"
     ]
    },
    {
     "name": "stdout",
     "output_type": "stream",
     "text": [
      "Current progress: 186/300 KPIG close_EMA10_G_s2, time: 0:00:34.785676\n"
     ]
    },
    {
     "name": "stderr",
     "output_type": "stream",
     "text": [
      "WARNING:absl:Found untraced functions such as lstm_cell_191_layer_call_fn, lstm_cell_191_layer_call_and_return_conditional_losses, lstm_cell_191_layer_call_fn, lstm_cell_191_layer_call_and_return_conditional_losses, lstm_cell_191_layer_call_and_return_conditional_losses while saving (showing 5 of 5). These functions will not be directly callable after loading.\n"
     ]
    },
    {
     "name": "stdout",
     "output_type": "stream",
     "text": [
      "INFO:tensorflow:Assets written to: ./models/explore_idx/v2/retrained/v2/model/GZCO/close_EMA3_G_s2/assets\n"
     ]
    },
    {
     "name": "stderr",
     "output_type": "stream",
     "text": [
      "INFO:tensorflow:Assets written to: ./models/explore_idx/v2/retrained/v2/model/GZCO/close_EMA3_G_s2/assets\n",
      "WARNING:absl:<keras.layers.recurrent.LSTMCell object at 0x00000126F29B1D60> has the same name 'LSTMCell' as a built-in Keras object. Consider renaming <class 'keras.layers.recurrent.LSTMCell'> to avoid naming conflicts when loading with `tf.keras.models.load_model`. If renaming is not possible, pass the object in the `custom_objects` parameter of the load function.\n"
     ]
    },
    {
     "name": "stdout",
     "output_type": "stream",
     "text": [
      "Current progress: 187/300 GZCO close_EMA3_G_s2, time: 0:00:34.658332\n"
     ]
    },
    {
     "name": "stderr",
     "output_type": "stream",
     "text": [
      "WARNING:absl:Found untraced functions such as lstm_cell_192_layer_call_fn, lstm_cell_192_layer_call_and_return_conditional_losses, lstm_cell_192_layer_call_fn, lstm_cell_192_layer_call_and_return_conditional_losses, lstm_cell_192_layer_call_and_return_conditional_losses while saving (showing 5 of 5). These functions will not be directly callable after loading.\n"
     ]
    },
    {
     "name": "stdout",
     "output_type": "stream",
     "text": [
      "INFO:tensorflow:Assets written to: ./models/explore_idx/v2/retrained/v2/model/GZCO/close_EMA3_G_s1/assets\n"
     ]
    },
    {
     "name": "stderr",
     "output_type": "stream",
     "text": [
      "INFO:tensorflow:Assets written to: ./models/explore_idx/v2/retrained/v2/model/GZCO/close_EMA3_G_s1/assets\n",
      "WARNING:absl:<keras.layers.recurrent.LSTMCell object at 0x000001268AE29100> has the same name 'LSTMCell' as a built-in Keras object. Consider renaming <class 'keras.layers.recurrent.LSTMCell'> to avoid naming conflicts when loading with `tf.keras.models.load_model`. If renaming is not possible, pass the object in the `custom_objects` parameter of the load function.\n"
     ]
    },
    {
     "name": "stdout",
     "output_type": "stream",
     "text": [
      "Current progress: 188/300 GZCO close_EMA3_G_s1, time: 0:00:34.159402\n"
     ]
    },
    {
     "name": "stderr",
     "output_type": "stream",
     "text": [
      "WARNING:absl:Found untraced functions such as lstm_cell_193_layer_call_fn, lstm_cell_193_layer_call_and_return_conditional_losses, lstm_cell_193_layer_call_fn, lstm_cell_193_layer_call_and_return_conditional_losses, lstm_cell_193_layer_call_and_return_conditional_losses while saving (showing 5 of 5). These functions will not be directly callable after loading.\n"
     ]
    },
    {
     "name": "stdout",
     "output_type": "stream",
     "text": [
      "INFO:tensorflow:Assets written to: ./models/explore_idx/v2/retrained/v2/model/GZCO/close_EMA10_G_s2/assets\n"
     ]
    },
    {
     "name": "stderr",
     "output_type": "stream",
     "text": [
      "INFO:tensorflow:Assets written to: ./models/explore_idx/v2/retrained/v2/model/GZCO/close_EMA10_G_s2/assets\n",
      "WARNING:absl:<keras.layers.recurrent.LSTMCell object at 0x00000126EF15AA90> has the same name 'LSTMCell' as a built-in Keras object. Consider renaming <class 'keras.layers.recurrent.LSTMCell'> to avoid naming conflicts when loading with `tf.keras.models.load_model`. If renaming is not possible, pass the object in the `custom_objects` parameter of the load function.\n"
     ]
    },
    {
     "name": "stdout",
     "output_type": "stream",
     "text": [
      "Current progress: 189/300 GZCO close_EMA10_G_s2, time: 0:00:33.633023\n"
     ]
    },
    {
     "name": "stderr",
     "output_type": "stream",
     "text": [
      "WARNING:absl:Found untraced functions such as lstm_cell_194_layer_call_fn, lstm_cell_194_layer_call_and_return_conditional_losses, lstm_cell_194_layer_call_fn, lstm_cell_194_layer_call_and_return_conditional_losses, lstm_cell_194_layer_call_and_return_conditional_losses while saving (showing 5 of 5). These functions will not be directly callable after loading.\n"
     ]
    },
    {
     "name": "stdout",
     "output_type": "stream",
     "text": [
      "INFO:tensorflow:Assets written to: ./models/explore_idx/v2/retrained/v2/model/TOTL/close_EMA3_G_s2/assets\n"
     ]
    },
    {
     "name": "stderr",
     "output_type": "stream",
     "text": [
      "INFO:tensorflow:Assets written to: ./models/explore_idx/v2/retrained/v2/model/TOTL/close_EMA3_G_s2/assets\n",
      "WARNING:absl:<keras.layers.recurrent.LSTMCell object at 0x000001269C2B3DF0> has the same name 'LSTMCell' as a built-in Keras object. Consider renaming <class 'keras.layers.recurrent.LSTMCell'> to avoid naming conflicts when loading with `tf.keras.models.load_model`. If renaming is not possible, pass the object in the `custom_objects` parameter of the load function.\n"
     ]
    },
    {
     "name": "stdout",
     "output_type": "stream",
     "text": [
      "Current progress: 190/300 TOTL close_EMA3_G_s2, time: 0:00:34.087839\n"
     ]
    },
    {
     "name": "stderr",
     "output_type": "stream",
     "text": [
      "WARNING:absl:Found untraced functions such as lstm_cell_195_layer_call_fn, lstm_cell_195_layer_call_and_return_conditional_losses, lstm_cell_195_layer_call_fn, lstm_cell_195_layer_call_and_return_conditional_losses, lstm_cell_195_layer_call_and_return_conditional_losses while saving (showing 5 of 5). These functions will not be directly callable after loading.\n"
     ]
    },
    {
     "name": "stdout",
     "output_type": "stream",
     "text": [
      "INFO:tensorflow:Assets written to: ./models/explore_idx/v2/retrained/v2/model/TOTL/close_EMA3_G_s1/assets\n"
     ]
    },
    {
     "name": "stderr",
     "output_type": "stream",
     "text": [
      "INFO:tensorflow:Assets written to: ./models/explore_idx/v2/retrained/v2/model/TOTL/close_EMA3_G_s1/assets\n",
      "WARNING:absl:<keras.layers.recurrent.LSTMCell object at 0x0000012694C06C70> has the same name 'LSTMCell' as a built-in Keras object. Consider renaming <class 'keras.layers.recurrent.LSTMCell'> to avoid naming conflicts when loading with `tf.keras.models.load_model`. If renaming is not possible, pass the object in the `custom_objects` parameter of the load function.\n"
     ]
    },
    {
     "name": "stdout",
     "output_type": "stream",
     "text": [
      "Current progress: 191/300 TOTL close_EMA3_G_s1, time: 0:00:33.250141\n"
     ]
    },
    {
     "name": "stderr",
     "output_type": "stream",
     "text": [
      "WARNING:absl:Found untraced functions such as lstm_cell_196_layer_call_fn, lstm_cell_196_layer_call_and_return_conditional_losses, lstm_cell_196_layer_call_fn, lstm_cell_196_layer_call_and_return_conditional_losses, lstm_cell_196_layer_call_and_return_conditional_losses while saving (showing 5 of 5). These functions will not be directly callable after loading.\n"
     ]
    },
    {
     "name": "stdout",
     "output_type": "stream",
     "text": [
      "INFO:tensorflow:Assets written to: ./models/explore_idx/v2/retrained/v2/model/TOTL/close_EMA10_G_s2/assets\n"
     ]
    },
    {
     "name": "stderr",
     "output_type": "stream",
     "text": [
      "INFO:tensorflow:Assets written to: ./models/explore_idx/v2/retrained/v2/model/TOTL/close_EMA10_G_s2/assets\n",
      "WARNING:absl:<keras.layers.recurrent.LSTMCell object at 0x000001268C5F0EE0> has the same name 'LSTMCell' as a built-in Keras object. Consider renaming <class 'keras.layers.recurrent.LSTMCell'> to avoid naming conflicts when loading with `tf.keras.models.load_model`. If renaming is not possible, pass the object in the `custom_objects` parameter of the load function.\n"
     ]
    },
    {
     "name": "stdout",
     "output_type": "stream",
     "text": [
      "Current progress: 192/300 TOTL close_EMA10_G_s2, time: 0:00:34.222827\n"
     ]
    },
    {
     "name": "stderr",
     "output_type": "stream",
     "text": [
      "WARNING:absl:Found untraced functions such as lstm_cell_197_layer_call_fn, lstm_cell_197_layer_call_and_return_conditional_losses, lstm_cell_197_layer_call_fn, lstm_cell_197_layer_call_and_return_conditional_losses, lstm_cell_197_layer_call_and_return_conditional_losses while saving (showing 5 of 5). These functions will not be directly callable after loading.\n"
     ]
    },
    {
     "name": "stdout",
     "output_type": "stream",
     "text": [
      "INFO:tensorflow:Assets written to: ./models/explore_idx/v2/retrained/v2/model/UNVR/close_EMA3_G_s2/assets\n"
     ]
    },
    {
     "name": "stderr",
     "output_type": "stream",
     "text": [
      "INFO:tensorflow:Assets written to: ./models/explore_idx/v2/retrained/v2/model/UNVR/close_EMA3_G_s2/assets\n",
      "WARNING:absl:<keras.layers.recurrent.LSTMCell object at 0x0000012689DB59D0> has the same name 'LSTMCell' as a built-in Keras object. Consider renaming <class 'keras.layers.recurrent.LSTMCell'> to avoid naming conflicts when loading with `tf.keras.models.load_model`. If renaming is not possible, pass the object in the `custom_objects` parameter of the load function.\n"
     ]
    },
    {
     "name": "stdout",
     "output_type": "stream",
     "text": [
      "Current progress: 193/300 UNVR close_EMA3_G_s2, time: 0:00:35.824573\n"
     ]
    },
    {
     "name": "stderr",
     "output_type": "stream",
     "text": [
      "WARNING:absl:Found untraced functions such as lstm_cell_198_layer_call_fn, lstm_cell_198_layer_call_and_return_conditional_losses, lstm_cell_198_layer_call_fn, lstm_cell_198_layer_call_and_return_conditional_losses, lstm_cell_198_layer_call_and_return_conditional_losses while saving (showing 5 of 5). These functions will not be directly callable after loading.\n"
     ]
    },
    {
     "name": "stdout",
     "output_type": "stream",
     "text": [
      "INFO:tensorflow:Assets written to: ./models/explore_idx/v2/retrained/v2/model/UNVR/close_EMA3_G_s1/assets\n"
     ]
    },
    {
     "name": "stderr",
     "output_type": "stream",
     "text": [
      "INFO:tensorflow:Assets written to: ./models/explore_idx/v2/retrained/v2/model/UNVR/close_EMA3_G_s1/assets\n",
      "WARNING:absl:<keras.layers.recurrent.LSTMCell object at 0x000001269B7D2D30> has the same name 'LSTMCell' as a built-in Keras object. Consider renaming <class 'keras.layers.recurrent.LSTMCell'> to avoid naming conflicts when loading with `tf.keras.models.load_model`. If renaming is not possible, pass the object in the `custom_objects` parameter of the load function.\n"
     ]
    },
    {
     "name": "stdout",
     "output_type": "stream",
     "text": [
      "Current progress: 194/300 UNVR close_EMA3_G_s1, time: 0:00:33.930473\n"
     ]
    },
    {
     "name": "stderr",
     "output_type": "stream",
     "text": [
      "WARNING:absl:Found untraced functions such as lstm_cell_199_layer_call_fn, lstm_cell_199_layer_call_and_return_conditional_losses, lstm_cell_199_layer_call_fn, lstm_cell_199_layer_call_and_return_conditional_losses, lstm_cell_199_layer_call_and_return_conditional_losses while saving (showing 5 of 5). These functions will not be directly callable after loading.\n"
     ]
    },
    {
     "name": "stdout",
     "output_type": "stream",
     "text": [
      "INFO:tensorflow:Assets written to: ./models/explore_idx/v2/retrained/v2/model/UNVR/close_EMA10_G_s2/assets\n"
     ]
    },
    {
     "name": "stderr",
     "output_type": "stream",
     "text": [
      "INFO:tensorflow:Assets written to: ./models/explore_idx/v2/retrained/v2/model/UNVR/close_EMA10_G_s2/assets\n",
      "WARNING:absl:<keras.layers.recurrent.LSTMCell object at 0x0000012687A14070> has the same name 'LSTMCell' as a built-in Keras object. Consider renaming <class 'keras.layers.recurrent.LSTMCell'> to avoid naming conflicts when loading with `tf.keras.models.load_model`. If renaming is not possible, pass the object in the `custom_objects` parameter of the load function.\n"
     ]
    },
    {
     "name": "stdout",
     "output_type": "stream",
     "text": [
      "Current progress: 195/300 UNVR close_EMA10_G_s2, time: 0:00:34.054391\n"
     ]
    },
    {
     "name": "stderr",
     "output_type": "stream",
     "text": [
      "WARNING:absl:Found untraced functions such as lstm_cell_200_layer_call_fn, lstm_cell_200_layer_call_and_return_conditional_losses, lstm_cell_200_layer_call_fn, lstm_cell_200_layer_call_and_return_conditional_losses, lstm_cell_200_layer_call_and_return_conditional_losses while saving (showing 5 of 5). These functions will not be directly callable after loading.\n"
     ]
    },
    {
     "name": "stdout",
     "output_type": "stream",
     "text": [
      "INFO:tensorflow:Assets written to: ./models/explore_idx/v2/retrained/v2/model/INKP/close_EMA3_G_s2/assets\n"
     ]
    },
    {
     "name": "stderr",
     "output_type": "stream",
     "text": [
      "INFO:tensorflow:Assets written to: ./models/explore_idx/v2/retrained/v2/model/INKP/close_EMA3_G_s2/assets\n",
      "WARNING:absl:<keras.layers.recurrent.LSTMCell object at 0x00000126843D0070> has the same name 'LSTMCell' as a built-in Keras object. Consider renaming <class 'keras.layers.recurrent.LSTMCell'> to avoid naming conflicts when loading with `tf.keras.models.load_model`. If renaming is not possible, pass the object in the `custom_objects` parameter of the load function.\n"
     ]
    },
    {
     "name": "stdout",
     "output_type": "stream",
     "text": [
      "Current progress: 196/300 INKP close_EMA3_G_s2, time: 0:00:34.548051\n"
     ]
    },
    {
     "name": "stderr",
     "output_type": "stream",
     "text": [
      "WARNING:absl:Found untraced functions such as lstm_cell_201_layer_call_fn, lstm_cell_201_layer_call_and_return_conditional_losses, lstm_cell_201_layer_call_fn, lstm_cell_201_layer_call_and_return_conditional_losses, lstm_cell_201_layer_call_and_return_conditional_losses while saving (showing 5 of 5). These functions will not be directly callable after loading.\n"
     ]
    },
    {
     "name": "stdout",
     "output_type": "stream",
     "text": [
      "INFO:tensorflow:Assets written to: ./models/explore_idx/v2/retrained/v2/model/INKP/close_EMA3_G_s1/assets\n"
     ]
    },
    {
     "name": "stderr",
     "output_type": "stream",
     "text": [
      "INFO:tensorflow:Assets written to: ./models/explore_idx/v2/retrained/v2/model/INKP/close_EMA3_G_s1/assets\n",
      "WARNING:absl:<keras.layers.recurrent.LSTMCell object at 0x000001269E3A0760> has the same name 'LSTMCell' as a built-in Keras object. Consider renaming <class 'keras.layers.recurrent.LSTMCell'> to avoid naming conflicts when loading with `tf.keras.models.load_model`. If renaming is not possible, pass the object in the `custom_objects` parameter of the load function.\n"
     ]
    },
    {
     "name": "stdout",
     "output_type": "stream",
     "text": [
      "Current progress: 197/300 INKP close_EMA3_G_s1, time: 0:00:34.635923\n"
     ]
    },
    {
     "name": "stderr",
     "output_type": "stream",
     "text": [
      "WARNING:absl:Found untraced functions such as lstm_cell_202_layer_call_fn, lstm_cell_202_layer_call_and_return_conditional_losses, lstm_cell_202_layer_call_fn, lstm_cell_202_layer_call_and_return_conditional_losses, lstm_cell_202_layer_call_and_return_conditional_losses while saving (showing 5 of 5). These functions will not be directly callable after loading.\n"
     ]
    },
    {
     "name": "stdout",
     "output_type": "stream",
     "text": [
      "INFO:tensorflow:Assets written to: ./models/explore_idx/v2/retrained/v2/model/INKP/close_EMA10_G_s2/assets\n"
     ]
    },
    {
     "name": "stderr",
     "output_type": "stream",
     "text": [
      "INFO:tensorflow:Assets written to: ./models/explore_idx/v2/retrained/v2/model/INKP/close_EMA10_G_s2/assets\n",
      "WARNING:absl:<keras.layers.recurrent.LSTMCell object at 0x000001269C655C40> has the same name 'LSTMCell' as a built-in Keras object. Consider renaming <class 'keras.layers.recurrent.LSTMCell'> to avoid naming conflicts when loading with `tf.keras.models.load_model`. If renaming is not possible, pass the object in the `custom_objects` parameter of the load function.\n"
     ]
    },
    {
     "name": "stdout",
     "output_type": "stream",
     "text": [
      "Current progress: 198/300 INKP close_EMA10_G_s2, time: 0:00:33.857038\n"
     ]
    },
    {
     "name": "stderr",
     "output_type": "stream",
     "text": [
      "WARNING:absl:Found untraced functions such as lstm_cell_203_layer_call_fn, lstm_cell_203_layer_call_and_return_conditional_losses, lstm_cell_203_layer_call_fn, lstm_cell_203_layer_call_and_return_conditional_losses, lstm_cell_203_layer_call_and_return_conditional_losses while saving (showing 5 of 5). These functions will not be directly callable after loading.\n"
     ]
    },
    {
     "name": "stdout",
     "output_type": "stream",
     "text": [
      "INFO:tensorflow:Assets written to: ./models/explore_idx/v2/retrained/v2/model/SMCB/close_EMA3_G_s2/assets\n"
     ]
    },
    {
     "name": "stderr",
     "output_type": "stream",
     "text": [
      "INFO:tensorflow:Assets written to: ./models/explore_idx/v2/retrained/v2/model/SMCB/close_EMA3_G_s2/assets\n",
      "WARNING:absl:<keras.layers.recurrent.LSTMCell object at 0x00000126F39AED90> has the same name 'LSTMCell' as a built-in Keras object. Consider renaming <class 'keras.layers.recurrent.LSTMCell'> to avoid naming conflicts when loading with `tf.keras.models.load_model`. If renaming is not possible, pass the object in the `custom_objects` parameter of the load function.\n"
     ]
    },
    {
     "name": "stdout",
     "output_type": "stream",
     "text": [
      "Current progress: 199/300 SMCB close_EMA3_G_s2, time: 0:00:34.291721\n"
     ]
    },
    {
     "name": "stderr",
     "output_type": "stream",
     "text": [
      "WARNING:absl:Found untraced functions such as lstm_cell_204_layer_call_fn, lstm_cell_204_layer_call_and_return_conditional_losses, lstm_cell_204_layer_call_fn, lstm_cell_204_layer_call_and_return_conditional_losses, lstm_cell_204_layer_call_and_return_conditional_losses while saving (showing 5 of 5). These functions will not be directly callable after loading.\n"
     ]
    },
    {
     "name": "stdout",
     "output_type": "stream",
     "text": [
      "INFO:tensorflow:Assets written to: ./models/explore_idx/v2/retrained/v2/model/SMCB/close_EMA3_G_s1/assets\n"
     ]
    },
    {
     "name": "stderr",
     "output_type": "stream",
     "text": [
      "INFO:tensorflow:Assets written to: ./models/explore_idx/v2/retrained/v2/model/SMCB/close_EMA3_G_s1/assets\n",
      "WARNING:absl:<keras.layers.recurrent.LSTMCell object at 0x0000012699C2DCD0> has the same name 'LSTMCell' as a built-in Keras object. Consider renaming <class 'keras.layers.recurrent.LSTMCell'> to avoid naming conflicts when loading with `tf.keras.models.load_model`. If renaming is not possible, pass the object in the `custom_objects` parameter of the load function.\n"
     ]
    },
    {
     "name": "stdout",
     "output_type": "stream",
     "text": [
      "Current progress: 200/300 SMCB close_EMA3_G_s1, time: 0:00:34.619007\n"
     ]
    },
    {
     "name": "stderr",
     "output_type": "stream",
     "text": [
      "WARNING:absl:Found untraced functions such as lstm_cell_205_layer_call_fn, lstm_cell_205_layer_call_and_return_conditional_losses, lstm_cell_205_layer_call_fn, lstm_cell_205_layer_call_and_return_conditional_losses, lstm_cell_205_layer_call_and_return_conditional_losses while saving (showing 5 of 5). These functions will not be directly callable after loading.\n"
     ]
    },
    {
     "name": "stdout",
     "output_type": "stream",
     "text": [
      "INFO:tensorflow:Assets written to: ./models/explore_idx/v2/retrained/v2/model/SMCB/close_EMA10_G_s2/assets\n"
     ]
    },
    {
     "name": "stderr",
     "output_type": "stream",
     "text": [
      "INFO:tensorflow:Assets written to: ./models/explore_idx/v2/retrained/v2/model/SMCB/close_EMA10_G_s2/assets\n",
      "WARNING:absl:<keras.layers.recurrent.LSTMCell object at 0x0000012692E1E640> has the same name 'LSTMCell' as a built-in Keras object. Consider renaming <class 'keras.layers.recurrent.LSTMCell'> to avoid naming conflicts when loading with `tf.keras.models.load_model`. If renaming is not possible, pass the object in the `custom_objects` parameter of the load function.\n"
     ]
    },
    {
     "name": "stdout",
     "output_type": "stream",
     "text": [
      "Current progress: 201/300 SMCB close_EMA10_G_s2, time: 0:00:34.743320\n"
     ]
    },
    {
     "name": "stderr",
     "output_type": "stream",
     "text": [
      "WARNING:absl:Found untraced functions such as lstm_cell_206_layer_call_fn, lstm_cell_206_layer_call_and_return_conditional_losses, lstm_cell_206_layer_call_fn, lstm_cell_206_layer_call_and_return_conditional_losses, lstm_cell_206_layer_call_and_return_conditional_losses while saving (showing 5 of 5). These functions will not be directly callable after loading.\n"
     ]
    },
    {
     "name": "stdout",
     "output_type": "stream",
     "text": [
      "INFO:tensorflow:Assets written to: ./models/explore_idx/v2/retrained/v2/model/MPPA/close_EMA3_G_s2/assets\n"
     ]
    },
    {
     "name": "stderr",
     "output_type": "stream",
     "text": [
      "INFO:tensorflow:Assets written to: ./models/explore_idx/v2/retrained/v2/model/MPPA/close_EMA3_G_s2/assets\n",
      "WARNING:absl:<keras.layers.recurrent.LSTMCell object at 0x000001269A2EC9A0> has the same name 'LSTMCell' as a built-in Keras object. Consider renaming <class 'keras.layers.recurrent.LSTMCell'> to avoid naming conflicts when loading with `tf.keras.models.load_model`. If renaming is not possible, pass the object in the `custom_objects` parameter of the load function.\n"
     ]
    },
    {
     "name": "stdout",
     "output_type": "stream",
     "text": [
      "Current progress: 202/300 MPPA close_EMA3_G_s2, time: 0:00:35.213817\n"
     ]
    },
    {
     "name": "stderr",
     "output_type": "stream",
     "text": [
      "WARNING:absl:Found untraced functions such as lstm_cell_207_layer_call_fn, lstm_cell_207_layer_call_and_return_conditional_losses, lstm_cell_207_layer_call_fn, lstm_cell_207_layer_call_and_return_conditional_losses, lstm_cell_207_layer_call_and_return_conditional_losses while saving (showing 5 of 5). These functions will not be directly callable after loading.\n"
     ]
    },
    {
     "name": "stdout",
     "output_type": "stream",
     "text": [
      "INFO:tensorflow:Assets written to: ./models/explore_idx/v2/retrained/v2/model/MPPA/close_EMA3_G_s1/assets\n"
     ]
    },
    {
     "name": "stderr",
     "output_type": "stream",
     "text": [
      "INFO:tensorflow:Assets written to: ./models/explore_idx/v2/retrained/v2/model/MPPA/close_EMA3_G_s1/assets\n",
      "WARNING:absl:<keras.layers.recurrent.LSTMCell object at 0x000001268920E1F0> has the same name 'LSTMCell' as a built-in Keras object. Consider renaming <class 'keras.layers.recurrent.LSTMCell'> to avoid naming conflicts when loading with `tf.keras.models.load_model`. If renaming is not possible, pass the object in the `custom_objects` parameter of the load function.\n"
     ]
    },
    {
     "name": "stdout",
     "output_type": "stream",
     "text": [
      "Current progress: 203/300 MPPA close_EMA3_G_s1, time: 0:00:35.207525\n"
     ]
    },
    {
     "name": "stderr",
     "output_type": "stream",
     "text": [
      "WARNING:absl:Found untraced functions such as lstm_cell_208_layer_call_fn, lstm_cell_208_layer_call_and_return_conditional_losses, lstm_cell_208_layer_call_fn, lstm_cell_208_layer_call_and_return_conditional_losses, lstm_cell_208_layer_call_and_return_conditional_losses while saving (showing 5 of 5). These functions will not be directly callable after loading.\n"
     ]
    },
    {
     "name": "stdout",
     "output_type": "stream",
     "text": [
      "INFO:tensorflow:Assets written to: ./models/explore_idx/v2/retrained/v2/model/MPPA/close_EMA10_G_s2/assets\n"
     ]
    },
    {
     "name": "stderr",
     "output_type": "stream",
     "text": [
      "INFO:tensorflow:Assets written to: ./models/explore_idx/v2/retrained/v2/model/MPPA/close_EMA10_G_s2/assets\n",
      "WARNING:absl:<keras.layers.recurrent.LSTMCell object at 0x000001269A3EAFA0> has the same name 'LSTMCell' as a built-in Keras object. Consider renaming <class 'keras.layers.recurrent.LSTMCell'> to avoid naming conflicts when loading with `tf.keras.models.load_model`. If renaming is not possible, pass the object in the `custom_objects` parameter of the load function.\n"
     ]
    },
    {
     "name": "stdout",
     "output_type": "stream",
     "text": [
      "Current progress: 204/300 MPPA close_EMA10_G_s2, time: 0:00:35.410635\n"
     ]
    },
    {
     "name": "stderr",
     "output_type": "stream",
     "text": [
      "WARNING:absl:Found untraced functions such as lstm_cell_209_layer_call_fn, lstm_cell_209_layer_call_and_return_conditional_losses, lstm_cell_209_layer_call_fn, lstm_cell_209_layer_call_and_return_conditional_losses, lstm_cell_209_layer_call_and_return_conditional_losses while saving (showing 5 of 5). These functions will not be directly callable after loading.\n"
     ]
    },
    {
     "name": "stdout",
     "output_type": "stream",
     "text": [
      "INFO:tensorflow:Assets written to: ./models/explore_idx/v2/retrained/v2/model/GJTL/close_EMA3_G_s2/assets\n"
     ]
    },
    {
     "name": "stderr",
     "output_type": "stream",
     "text": [
      "INFO:tensorflow:Assets written to: ./models/explore_idx/v2/retrained/v2/model/GJTL/close_EMA3_G_s2/assets\n",
      "WARNING:absl:<keras.layers.recurrent.LSTMCell object at 0x000001269E2A9490> has the same name 'LSTMCell' as a built-in Keras object. Consider renaming <class 'keras.layers.recurrent.LSTMCell'> to avoid naming conflicts when loading with `tf.keras.models.load_model`. If renaming is not possible, pass the object in the `custom_objects` parameter of the load function.\n"
     ]
    },
    {
     "name": "stdout",
     "output_type": "stream",
     "text": [
      "Current progress: 205/300 GJTL close_EMA3_G_s2, time: 0:00:34.298372\n"
     ]
    },
    {
     "name": "stderr",
     "output_type": "stream",
     "text": [
      "WARNING:absl:Found untraced functions such as lstm_cell_210_layer_call_fn, lstm_cell_210_layer_call_and_return_conditional_losses, lstm_cell_210_layer_call_fn, lstm_cell_210_layer_call_and_return_conditional_losses, lstm_cell_210_layer_call_and_return_conditional_losses while saving (showing 5 of 5). These functions will not be directly callable after loading.\n"
     ]
    },
    {
     "name": "stdout",
     "output_type": "stream",
     "text": [
      "INFO:tensorflow:Assets written to: ./models/explore_idx/v2/retrained/v2/model/GJTL/close_EMA3_G_s1/assets\n"
     ]
    },
    {
     "name": "stderr",
     "output_type": "stream",
     "text": [
      "INFO:tensorflow:Assets written to: ./models/explore_idx/v2/retrained/v2/model/GJTL/close_EMA3_G_s1/assets\n",
      "WARNING:absl:<keras.layers.recurrent.LSTMCell object at 0x00000126897232B0> has the same name 'LSTMCell' as a built-in Keras object. Consider renaming <class 'keras.layers.recurrent.LSTMCell'> to avoid naming conflicts when loading with `tf.keras.models.load_model`. If renaming is not possible, pass the object in the `custom_objects` parameter of the load function.\n"
     ]
    },
    {
     "name": "stdout",
     "output_type": "stream",
     "text": [
      "Current progress: 206/300 GJTL close_EMA3_G_s1, time: 0:00:35.699234\n"
     ]
    },
    {
     "name": "stderr",
     "output_type": "stream",
     "text": [
      "WARNING:absl:Found untraced functions such as lstm_cell_211_layer_call_fn, lstm_cell_211_layer_call_and_return_conditional_losses, lstm_cell_211_layer_call_fn, lstm_cell_211_layer_call_and_return_conditional_losses, lstm_cell_211_layer_call_and_return_conditional_losses while saving (showing 5 of 5). These functions will not be directly callable after loading.\n"
     ]
    },
    {
     "name": "stdout",
     "output_type": "stream",
     "text": [
      "INFO:tensorflow:Assets written to: ./models/explore_idx/v2/retrained/v2/model/GJTL/close_EMA10_G_s2/assets\n"
     ]
    },
    {
     "name": "stderr",
     "output_type": "stream",
     "text": [
      "INFO:tensorflow:Assets written to: ./models/explore_idx/v2/retrained/v2/model/GJTL/close_EMA10_G_s2/assets\n",
      "WARNING:absl:<keras.layers.recurrent.LSTMCell object at 0x0000012683111D30> has the same name 'LSTMCell' as a built-in Keras object. Consider renaming <class 'keras.layers.recurrent.LSTMCell'> to avoid naming conflicts when loading with `tf.keras.models.load_model`. If renaming is not possible, pass the object in the `custom_objects` parameter of the load function.\n"
     ]
    },
    {
     "name": "stdout",
     "output_type": "stream",
     "text": [
      "Current progress: 207/300 GJTL close_EMA10_G_s2, time: 0:00:34.884312\n"
     ]
    },
    {
     "name": "stderr",
     "output_type": "stream",
     "text": [
      "WARNING:absl:Found untraced functions such as lstm_cell_212_layer_call_fn, lstm_cell_212_layer_call_and_return_conditional_losses, lstm_cell_212_layer_call_fn, lstm_cell_212_layer_call_and_return_conditional_losses, lstm_cell_212_layer_call_and_return_conditional_losses while saving (showing 5 of 5). These functions will not be directly callable after loading.\n"
     ]
    },
    {
     "name": "stdout",
     "output_type": "stream",
     "text": [
      "INFO:tensorflow:Assets written to: ./models/explore_idx/v2/retrained/v2/model/INTA/close_EMA3_G_s2/assets\n"
     ]
    },
    {
     "name": "stderr",
     "output_type": "stream",
     "text": [
      "INFO:tensorflow:Assets written to: ./models/explore_idx/v2/retrained/v2/model/INTA/close_EMA3_G_s2/assets\n",
      "WARNING:absl:<keras.layers.recurrent.LSTMCell object at 0x0000012689DE8550> has the same name 'LSTMCell' as a built-in Keras object. Consider renaming <class 'keras.layers.recurrent.LSTMCell'> to avoid naming conflicts when loading with `tf.keras.models.load_model`. If renaming is not possible, pass the object in the `custom_objects` parameter of the load function.\n"
     ]
    },
    {
     "name": "stdout",
     "output_type": "stream",
     "text": [
      "Current progress: 208/300 INTA close_EMA3_G_s2, time: 0:00:34.083609\n"
     ]
    },
    {
     "name": "stderr",
     "output_type": "stream",
     "text": [
      "WARNING:absl:Found untraced functions such as lstm_cell_213_layer_call_fn, lstm_cell_213_layer_call_and_return_conditional_losses, lstm_cell_213_layer_call_fn, lstm_cell_213_layer_call_and_return_conditional_losses, lstm_cell_213_layer_call_and_return_conditional_losses while saving (showing 5 of 5). These functions will not be directly callable after loading.\n"
     ]
    },
    {
     "name": "stdout",
     "output_type": "stream",
     "text": [
      "INFO:tensorflow:Assets written to: ./models/explore_idx/v2/retrained/v2/model/INTA/close_EMA3_G_s1/assets\n"
     ]
    },
    {
     "name": "stderr",
     "output_type": "stream",
     "text": [
      "INFO:tensorflow:Assets written to: ./models/explore_idx/v2/retrained/v2/model/INTA/close_EMA3_G_s1/assets\n",
      "WARNING:absl:<keras.layers.recurrent.LSTMCell object at 0x000001269305F550> has the same name 'LSTMCell' as a built-in Keras object. Consider renaming <class 'keras.layers.recurrent.LSTMCell'> to avoid naming conflicts when loading with `tf.keras.models.load_model`. If renaming is not possible, pass the object in the `custom_objects` parameter of the load function.\n"
     ]
    },
    {
     "name": "stdout",
     "output_type": "stream",
     "text": [
      "Current progress: 209/300 INTA close_EMA3_G_s1, time: 0:00:34.117360\n"
     ]
    },
    {
     "name": "stderr",
     "output_type": "stream",
     "text": [
      "WARNING:absl:Found untraced functions such as lstm_cell_214_layer_call_fn, lstm_cell_214_layer_call_and_return_conditional_losses, lstm_cell_214_layer_call_fn, lstm_cell_214_layer_call_and_return_conditional_losses, lstm_cell_214_layer_call_and_return_conditional_losses while saving (showing 5 of 5). These functions will not be directly callable after loading.\n"
     ]
    },
    {
     "name": "stdout",
     "output_type": "stream",
     "text": [
      "INFO:tensorflow:Assets written to: ./models/explore_idx/v2/retrained/v2/model/INTA/close_EMA10_G_s2/assets\n"
     ]
    },
    {
     "name": "stderr",
     "output_type": "stream",
     "text": [
      "INFO:tensorflow:Assets written to: ./models/explore_idx/v2/retrained/v2/model/INTA/close_EMA10_G_s2/assets\n",
      "WARNING:absl:<keras.layers.recurrent.LSTMCell object at 0x000001268DD69DC0> has the same name 'LSTMCell' as a built-in Keras object. Consider renaming <class 'keras.layers.recurrent.LSTMCell'> to avoid naming conflicts when loading with `tf.keras.models.load_model`. If renaming is not possible, pass the object in the `custom_objects` parameter of the load function.\n"
     ]
    },
    {
     "name": "stdout",
     "output_type": "stream",
     "text": [
      "Current progress: 210/300 INTA close_EMA10_G_s2, time: 0:00:35.105198\n"
     ]
    },
    {
     "name": "stderr",
     "output_type": "stream",
     "text": [
      "WARNING:absl:Found untraced functions such as lstm_cell_215_layer_call_fn, lstm_cell_215_layer_call_and_return_conditional_losses, lstm_cell_215_layer_call_fn, lstm_cell_215_layer_call_and_return_conditional_losses, lstm_cell_215_layer_call_and_return_conditional_losses while saving (showing 5 of 5). These functions will not be directly callable after loading.\n"
     ]
    },
    {
     "name": "stdout",
     "output_type": "stream",
     "text": [
      "INFO:tensorflow:Assets written to: ./models/explore_idx/v2/retrained/v2/model/JSMR/close_EMA3_G_s2/assets\n"
     ]
    },
    {
     "name": "stderr",
     "output_type": "stream",
     "text": [
      "INFO:tensorflow:Assets written to: ./models/explore_idx/v2/retrained/v2/model/JSMR/close_EMA3_G_s2/assets\n",
      "WARNING:absl:<keras.layers.recurrent.LSTMCell object at 0x000001269CD9F1F0> has the same name 'LSTMCell' as a built-in Keras object. Consider renaming <class 'keras.layers.recurrent.LSTMCell'> to avoid naming conflicts when loading with `tf.keras.models.load_model`. If renaming is not possible, pass the object in the `custom_objects` parameter of the load function.\n"
     ]
    },
    {
     "name": "stdout",
     "output_type": "stream",
     "text": [
      "Current progress: 211/300 JSMR close_EMA3_G_s2, time: 0:00:36.253324\n"
     ]
    },
    {
     "name": "stderr",
     "output_type": "stream",
     "text": [
      "WARNING:absl:Found untraced functions such as lstm_cell_216_layer_call_fn, lstm_cell_216_layer_call_and_return_conditional_losses, lstm_cell_216_layer_call_fn, lstm_cell_216_layer_call_and_return_conditional_losses, lstm_cell_216_layer_call_and_return_conditional_losses while saving (showing 5 of 5). These functions will not be directly callable after loading.\n"
     ]
    },
    {
     "name": "stdout",
     "output_type": "stream",
     "text": [
      "INFO:tensorflow:Assets written to: ./models/explore_idx/v2/retrained/v2/model/JSMR/close_EMA3_G_s1/assets\n"
     ]
    },
    {
     "name": "stderr",
     "output_type": "stream",
     "text": [
      "INFO:tensorflow:Assets written to: ./models/explore_idx/v2/retrained/v2/model/JSMR/close_EMA3_G_s1/assets\n",
      "WARNING:absl:<keras.layers.recurrent.LSTMCell object at 0x000001269AD00A00> has the same name 'LSTMCell' as a built-in Keras object. Consider renaming <class 'keras.layers.recurrent.LSTMCell'> to avoid naming conflicts when loading with `tf.keras.models.load_model`. If renaming is not possible, pass the object in the `custom_objects` parameter of the load function.\n"
     ]
    },
    {
     "name": "stdout",
     "output_type": "stream",
     "text": [
      "Current progress: 212/300 JSMR close_EMA3_G_s1, time: 0:00:35.165952\n"
     ]
    },
    {
     "name": "stderr",
     "output_type": "stream",
     "text": [
      "WARNING:absl:Found untraced functions such as lstm_cell_217_layer_call_fn, lstm_cell_217_layer_call_and_return_conditional_losses, lstm_cell_217_layer_call_fn, lstm_cell_217_layer_call_and_return_conditional_losses, lstm_cell_217_layer_call_and_return_conditional_losses while saving (showing 5 of 5). These functions will not be directly callable after loading.\n"
     ]
    },
    {
     "name": "stdout",
     "output_type": "stream",
     "text": [
      "INFO:tensorflow:Assets written to: ./models/explore_idx/v2/retrained/v2/model/JSMR/close_EMA10_G_s2/assets\n"
     ]
    },
    {
     "name": "stderr",
     "output_type": "stream",
     "text": [
      "INFO:tensorflow:Assets written to: ./models/explore_idx/v2/retrained/v2/model/JSMR/close_EMA10_G_s2/assets\n",
      "WARNING:absl:<keras.layers.recurrent.LSTMCell object at 0x000001269BED7D00> has the same name 'LSTMCell' as a built-in Keras object. Consider renaming <class 'keras.layers.recurrent.LSTMCell'> to avoid naming conflicts when loading with `tf.keras.models.load_model`. If renaming is not possible, pass the object in the `custom_objects` parameter of the load function.\n"
     ]
    },
    {
     "name": "stdout",
     "output_type": "stream",
     "text": [
      "Current progress: 213/300 JSMR close_EMA10_G_s2, time: 0:00:33.727517\n"
     ]
    },
    {
     "name": "stderr",
     "output_type": "stream",
     "text": [
      "WARNING:absl:Found untraced functions such as lstm_cell_218_layer_call_fn, lstm_cell_218_layer_call_and_return_conditional_losses, lstm_cell_218_layer_call_fn, lstm_cell_218_layer_call_and_return_conditional_losses, lstm_cell_218_layer_call_and_return_conditional_losses while saving (showing 5 of 5). These functions will not be directly callable after loading.\n"
     ]
    },
    {
     "name": "stdout",
     "output_type": "stream",
     "text": [
      "INFO:tensorflow:Assets written to: ./models/explore_idx/v2/retrained/v2/model/HMSP/close_EMA3_G_s2/assets\n"
     ]
    },
    {
     "name": "stderr",
     "output_type": "stream",
     "text": [
      "INFO:tensorflow:Assets written to: ./models/explore_idx/v2/retrained/v2/model/HMSP/close_EMA3_G_s2/assets\n",
      "WARNING:absl:<keras.layers.recurrent.LSTMCell object at 0x000001269C9D06D0> has the same name 'LSTMCell' as a built-in Keras object. Consider renaming <class 'keras.layers.recurrent.LSTMCell'> to avoid naming conflicts when loading with `tf.keras.models.load_model`. If renaming is not possible, pass the object in the `custom_objects` parameter of the load function.\n"
     ]
    },
    {
     "name": "stdout",
     "output_type": "stream",
     "text": [
      "Current progress: 214/300 HMSP close_EMA3_G_s2, time: 0:00:34.726578\n"
     ]
    },
    {
     "name": "stderr",
     "output_type": "stream",
     "text": [
      "WARNING:absl:Found untraced functions such as lstm_cell_219_layer_call_fn, lstm_cell_219_layer_call_and_return_conditional_losses, lstm_cell_219_layer_call_fn, lstm_cell_219_layer_call_and_return_conditional_losses, lstm_cell_219_layer_call_and_return_conditional_losses while saving (showing 5 of 5). These functions will not be directly callable after loading.\n"
     ]
    },
    {
     "name": "stdout",
     "output_type": "stream",
     "text": [
      "INFO:tensorflow:Assets written to: ./models/explore_idx/v2/retrained/v2/model/HMSP/close_EMA3_G_s1/assets\n"
     ]
    },
    {
     "name": "stderr",
     "output_type": "stream",
     "text": [
      "INFO:tensorflow:Assets written to: ./models/explore_idx/v2/retrained/v2/model/HMSP/close_EMA3_G_s1/assets\n",
      "WARNING:absl:<keras.layers.recurrent.LSTMCell object at 0x000001269A67ECA0> has the same name 'LSTMCell' as a built-in Keras object. Consider renaming <class 'keras.layers.recurrent.LSTMCell'> to avoid naming conflicts when loading with `tf.keras.models.load_model`. If renaming is not possible, pass the object in the `custom_objects` parameter of the load function.\n"
     ]
    },
    {
     "name": "stdout",
     "output_type": "stream",
     "text": [
      "Current progress: 215/300 HMSP close_EMA3_G_s1, time: 0:00:34.105292\n"
     ]
    },
    {
     "name": "stderr",
     "output_type": "stream",
     "text": [
      "WARNING:absl:Found untraced functions such as lstm_cell_220_layer_call_fn, lstm_cell_220_layer_call_and_return_conditional_losses, lstm_cell_220_layer_call_fn, lstm_cell_220_layer_call_and_return_conditional_losses, lstm_cell_220_layer_call_and_return_conditional_losses while saving (showing 5 of 5). These functions will not be directly callable after loading.\n"
     ]
    },
    {
     "name": "stdout",
     "output_type": "stream",
     "text": [
      "INFO:tensorflow:Assets written to: ./models/explore_idx/v2/retrained/v2/model/HMSP/close_EMA10_G_s2/assets\n"
     ]
    },
    {
     "name": "stderr",
     "output_type": "stream",
     "text": [
      "INFO:tensorflow:Assets written to: ./models/explore_idx/v2/retrained/v2/model/HMSP/close_EMA10_G_s2/assets\n",
      "WARNING:absl:<keras.layers.recurrent.LSTMCell object at 0x000001269C98BDC0> has the same name 'LSTMCell' as a built-in Keras object. Consider renaming <class 'keras.layers.recurrent.LSTMCell'> to avoid naming conflicts when loading with `tf.keras.models.load_model`. If renaming is not possible, pass the object in the `custom_objects` parameter of the load function.\n"
     ]
    },
    {
     "name": "stdout",
     "output_type": "stream",
     "text": [
      "Current progress: 216/300 HMSP close_EMA10_G_s2, time: 0:00:33.783246\n"
     ]
    },
    {
     "name": "stderr",
     "output_type": "stream",
     "text": [
      "WARNING:absl:Found untraced functions such as lstm_cell_221_layer_call_fn, lstm_cell_221_layer_call_and_return_conditional_losses, lstm_cell_221_layer_call_fn, lstm_cell_221_layer_call_and_return_conditional_losses, lstm_cell_221_layer_call_and_return_conditional_losses while saving (showing 5 of 5). These functions will not be directly callable after loading.\n"
     ]
    },
    {
     "name": "stdout",
     "output_type": "stream",
     "text": [
      "INFO:tensorflow:Assets written to: ./models/explore_idx/v2/retrained/v2/model/CMNP/close_EMA3_G_s2/assets\n"
     ]
    },
    {
     "name": "stderr",
     "output_type": "stream",
     "text": [
      "INFO:tensorflow:Assets written to: ./models/explore_idx/v2/retrained/v2/model/CMNP/close_EMA3_G_s2/assets\n",
      "WARNING:absl:<keras.layers.recurrent.LSTMCell object at 0x0000012692E282E0> has the same name 'LSTMCell' as a built-in Keras object. Consider renaming <class 'keras.layers.recurrent.LSTMCell'> to avoid naming conflicts when loading with `tf.keras.models.load_model`. If renaming is not possible, pass the object in the `custom_objects` parameter of the load function.\n"
     ]
    },
    {
     "name": "stdout",
     "output_type": "stream",
     "text": [
      "Current progress: 217/300 CMNP close_EMA3_G_s2, time: 0:00:34.498931\n"
     ]
    },
    {
     "name": "stderr",
     "output_type": "stream",
     "text": [
      "WARNING:absl:Found untraced functions such as lstm_cell_222_layer_call_fn, lstm_cell_222_layer_call_and_return_conditional_losses, lstm_cell_222_layer_call_fn, lstm_cell_222_layer_call_and_return_conditional_losses, lstm_cell_222_layer_call_and_return_conditional_losses while saving (showing 5 of 5). These functions will not be directly callable after loading.\n"
     ]
    },
    {
     "name": "stdout",
     "output_type": "stream",
     "text": [
      "INFO:tensorflow:Assets written to: ./models/explore_idx/v2/retrained/v2/model/CMNP/close_EMA3_G_s1/assets\n"
     ]
    },
    {
     "name": "stderr",
     "output_type": "stream",
     "text": [
      "INFO:tensorflow:Assets written to: ./models/explore_idx/v2/retrained/v2/model/CMNP/close_EMA3_G_s1/assets\n",
      "WARNING:absl:<keras.layers.recurrent.LSTMCell object at 0x000001269B738460> has the same name 'LSTMCell' as a built-in Keras object. Consider renaming <class 'keras.layers.recurrent.LSTMCell'> to avoid naming conflicts when loading with `tf.keras.models.load_model`. If renaming is not possible, pass the object in the `custom_objects` parameter of the load function.\n"
     ]
    },
    {
     "name": "stdout",
     "output_type": "stream",
     "text": [
      "Current progress: 218/300 CMNP close_EMA3_G_s1, time: 0:00:33.865969\n"
     ]
    },
    {
     "name": "stderr",
     "output_type": "stream",
     "text": [
      "WARNING:absl:Found untraced functions such as lstm_cell_223_layer_call_fn, lstm_cell_223_layer_call_and_return_conditional_losses, lstm_cell_223_layer_call_fn, lstm_cell_223_layer_call_and_return_conditional_losses, lstm_cell_223_layer_call_and_return_conditional_losses while saving (showing 5 of 5). These functions will not be directly callable after loading.\n"
     ]
    },
    {
     "name": "stdout",
     "output_type": "stream",
     "text": [
      "INFO:tensorflow:Assets written to: ./models/explore_idx/v2/retrained/v2/model/CMNP/close_EMA10_G_s2/assets\n"
     ]
    },
    {
     "name": "stderr",
     "output_type": "stream",
     "text": [
      "INFO:tensorflow:Assets written to: ./models/explore_idx/v2/retrained/v2/model/CMNP/close_EMA10_G_s2/assets\n",
      "WARNING:absl:<keras.layers.recurrent.LSTMCell object at 0x000001269DC9C190> has the same name 'LSTMCell' as a built-in Keras object. Consider renaming <class 'keras.layers.recurrent.LSTMCell'> to avoid naming conflicts when loading with `tf.keras.models.load_model`. If renaming is not possible, pass the object in the `custom_objects` parameter of the load function.\n"
     ]
    },
    {
     "name": "stdout",
     "output_type": "stream",
     "text": [
      "Current progress: 219/300 CMNP close_EMA10_G_s2, time: 0:00:34.753405\n"
     ]
    },
    {
     "name": "stderr",
     "output_type": "stream",
     "text": [
      "WARNING:absl:Found untraced functions such as lstm_cell_224_layer_call_fn, lstm_cell_224_layer_call_and_return_conditional_losses, lstm_cell_224_layer_call_fn, lstm_cell_224_layer_call_and_return_conditional_losses, lstm_cell_224_layer_call_and_return_conditional_losses while saving (showing 5 of 5). These functions will not be directly callable after loading.\n"
     ]
    },
    {
     "name": "stdout",
     "output_type": "stream",
     "text": [
      "INFO:tensorflow:Assets written to: ./models/explore_idx/v2/retrained/v2/model/MASA/close_EMA3_G_s2/assets\n"
     ]
    },
    {
     "name": "stderr",
     "output_type": "stream",
     "text": [
      "INFO:tensorflow:Assets written to: ./models/explore_idx/v2/retrained/v2/model/MASA/close_EMA3_G_s2/assets\n",
      "WARNING:absl:<keras.layers.recurrent.LSTMCell object at 0x00000126821BB850> has the same name 'LSTMCell' as a built-in Keras object. Consider renaming <class 'keras.layers.recurrent.LSTMCell'> to avoid naming conflicts when loading with `tf.keras.models.load_model`. If renaming is not possible, pass the object in the `custom_objects` parameter of the load function.\n"
     ]
    },
    {
     "name": "stdout",
     "output_type": "stream",
     "text": [
      "Current progress: 220/300 MASA close_EMA3_G_s2, time: 0:00:33.751907\n"
     ]
    },
    {
     "name": "stderr",
     "output_type": "stream",
     "text": [
      "WARNING:absl:Found untraced functions such as lstm_cell_225_layer_call_fn, lstm_cell_225_layer_call_and_return_conditional_losses, lstm_cell_225_layer_call_fn, lstm_cell_225_layer_call_and_return_conditional_losses, lstm_cell_225_layer_call_and_return_conditional_losses while saving (showing 5 of 5). These functions will not be directly callable after loading.\n"
     ]
    },
    {
     "name": "stdout",
     "output_type": "stream",
     "text": [
      "INFO:tensorflow:Assets written to: ./models/explore_idx/v2/retrained/v2/model/MASA/close_EMA3_G_s1/assets\n"
     ]
    },
    {
     "name": "stderr",
     "output_type": "stream",
     "text": [
      "INFO:tensorflow:Assets written to: ./models/explore_idx/v2/retrained/v2/model/MASA/close_EMA3_G_s1/assets\n",
      "WARNING:absl:<keras.layers.recurrent.LSTMCell object at 0x000001269BFBB340> has the same name 'LSTMCell' as a built-in Keras object. Consider renaming <class 'keras.layers.recurrent.LSTMCell'> to avoid naming conflicts when loading with `tf.keras.models.load_model`. If renaming is not possible, pass the object in the `custom_objects` parameter of the load function.\n"
     ]
    },
    {
     "name": "stdout",
     "output_type": "stream",
     "text": [
      "Current progress: 221/300 MASA close_EMA3_G_s1, time: 0:00:35.650339\n"
     ]
    },
    {
     "name": "stderr",
     "output_type": "stream",
     "text": [
      "WARNING:absl:Found untraced functions such as lstm_cell_226_layer_call_fn, lstm_cell_226_layer_call_and_return_conditional_losses, lstm_cell_226_layer_call_fn, lstm_cell_226_layer_call_and_return_conditional_losses, lstm_cell_226_layer_call_and_return_conditional_losses while saving (showing 5 of 5). These functions will not be directly callable after loading.\n"
     ]
    },
    {
     "name": "stdout",
     "output_type": "stream",
     "text": [
      "INFO:tensorflow:Assets written to: ./models/explore_idx/v2/retrained/v2/model/MASA/close_EMA10_G_s2/assets\n"
     ]
    },
    {
     "name": "stderr",
     "output_type": "stream",
     "text": [
      "INFO:tensorflow:Assets written to: ./models/explore_idx/v2/retrained/v2/model/MASA/close_EMA10_G_s2/assets\n",
      "WARNING:absl:<keras.layers.recurrent.LSTMCell object at 0x0000012693807DF0> has the same name 'LSTMCell' as a built-in Keras object. Consider renaming <class 'keras.layers.recurrent.LSTMCell'> to avoid naming conflicts when loading with `tf.keras.models.load_model`. If renaming is not possible, pass the object in the `custom_objects` parameter of the load function.\n"
     ]
    },
    {
     "name": "stdout",
     "output_type": "stream",
     "text": [
      "Current progress: 222/300 MASA close_EMA10_G_s2, time: 0:00:34.362568\n"
     ]
    },
    {
     "name": "stderr",
     "output_type": "stream",
     "text": [
      "WARNING:absl:Found untraced functions such as lstm_cell_227_layer_call_fn, lstm_cell_227_layer_call_and_return_conditional_losses, lstm_cell_227_layer_call_fn, lstm_cell_227_layer_call_and_return_conditional_losses, lstm_cell_227_layer_call_and_return_conditional_losses while saving (showing 5 of 5). These functions will not be directly callable after loading.\n"
     ]
    },
    {
     "name": "stdout",
     "output_type": "stream",
     "text": [
      "INFO:tensorflow:Assets written to: ./models/explore_idx/v2/retrained/v2/model/SRSN/close_EMA3_G_s2/assets\n"
     ]
    },
    {
     "name": "stderr",
     "output_type": "stream",
     "text": [
      "INFO:tensorflow:Assets written to: ./models/explore_idx/v2/retrained/v2/model/SRSN/close_EMA3_G_s2/assets\n",
      "WARNING:absl:<keras.layers.recurrent.LSTMCell object at 0x000001269C55F400> has the same name 'LSTMCell' as a built-in Keras object. Consider renaming <class 'keras.layers.recurrent.LSTMCell'> to avoid naming conflicts when loading with `tf.keras.models.load_model`. If renaming is not possible, pass the object in the `custom_objects` parameter of the load function.\n"
     ]
    },
    {
     "name": "stdout",
     "output_type": "stream",
     "text": [
      "Current progress: 223/300 SRSN close_EMA3_G_s2, time: 0:00:34.611926\n"
     ]
    },
    {
     "name": "stderr",
     "output_type": "stream",
     "text": [
      "WARNING:absl:Found untraced functions such as lstm_cell_228_layer_call_fn, lstm_cell_228_layer_call_and_return_conditional_losses, lstm_cell_228_layer_call_fn, lstm_cell_228_layer_call_and_return_conditional_losses, lstm_cell_228_layer_call_and_return_conditional_losses while saving (showing 5 of 5). These functions will not be directly callable after loading.\n"
     ]
    },
    {
     "name": "stdout",
     "output_type": "stream",
     "text": [
      "INFO:tensorflow:Assets written to: ./models/explore_idx/v2/retrained/v2/model/SRSN/close_EMA3_G_s1/assets\n"
     ]
    },
    {
     "name": "stderr",
     "output_type": "stream",
     "text": [
      "INFO:tensorflow:Assets written to: ./models/explore_idx/v2/retrained/v2/model/SRSN/close_EMA3_G_s1/assets\n",
      "WARNING:absl:<keras.layers.recurrent.LSTMCell object at 0x000001268DA5E5E0> has the same name 'LSTMCell' as a built-in Keras object. Consider renaming <class 'keras.layers.recurrent.LSTMCell'> to avoid naming conflicts when loading with `tf.keras.models.load_model`. If renaming is not possible, pass the object in the `custom_objects` parameter of the load function.\n"
     ]
    },
    {
     "name": "stdout",
     "output_type": "stream",
     "text": [
      "Current progress: 224/300 SRSN close_EMA3_G_s1, time: 0:00:34.983904\n"
     ]
    },
    {
     "name": "stderr",
     "output_type": "stream",
     "text": [
      "WARNING:absl:Found untraced functions such as lstm_cell_229_layer_call_fn, lstm_cell_229_layer_call_and_return_conditional_losses, lstm_cell_229_layer_call_fn, lstm_cell_229_layer_call_and_return_conditional_losses, lstm_cell_229_layer_call_and_return_conditional_losses while saving (showing 5 of 5). These functions will not be directly callable after loading.\n"
     ]
    },
    {
     "name": "stdout",
     "output_type": "stream",
     "text": [
      "INFO:tensorflow:Assets written to: ./models/explore_idx/v2/retrained/v2/model/SRSN/close_EMA10_G_s2/assets\n"
     ]
    },
    {
     "name": "stderr",
     "output_type": "stream",
     "text": [
      "INFO:tensorflow:Assets written to: ./models/explore_idx/v2/retrained/v2/model/SRSN/close_EMA10_G_s2/assets\n",
      "WARNING:absl:<keras.layers.recurrent.LSTMCell object at 0x00000126827136A0> has the same name 'LSTMCell' as a built-in Keras object. Consider renaming <class 'keras.layers.recurrent.LSTMCell'> to avoid naming conflicts when loading with `tf.keras.models.load_model`. If renaming is not possible, pass the object in the `custom_objects` parameter of the load function.\n"
     ]
    },
    {
     "name": "stdout",
     "output_type": "stream",
     "text": [
      "Current progress: 225/300 SRSN close_EMA10_G_s2, time: 0:00:33.945051\n"
     ]
    },
    {
     "name": "stderr",
     "output_type": "stream",
     "text": [
      "WARNING:absl:Found untraced functions such as lstm_cell_230_layer_call_fn, lstm_cell_230_layer_call_and_return_conditional_losses, lstm_cell_230_layer_call_fn, lstm_cell_230_layer_call_and_return_conditional_losses, lstm_cell_230_layer_call_and_return_conditional_losses while saving (showing 5 of 5). These functions will not be directly callable after loading.\n"
     ]
    },
    {
     "name": "stdout",
     "output_type": "stream",
     "text": [
      "INFO:tensorflow:Assets written to: ./models/explore_idx/v2/retrained/v2/model/BNLI/close_EMA3_G_s2/assets\n"
     ]
    },
    {
     "name": "stderr",
     "output_type": "stream",
     "text": [
      "INFO:tensorflow:Assets written to: ./models/explore_idx/v2/retrained/v2/model/BNLI/close_EMA3_G_s2/assets\n",
      "WARNING:absl:<keras.layers.recurrent.LSTMCell object at 0x000001268C102D90> has the same name 'LSTMCell' as a built-in Keras object. Consider renaming <class 'keras.layers.recurrent.LSTMCell'> to avoid naming conflicts when loading with `tf.keras.models.load_model`. If renaming is not possible, pass the object in the `custom_objects` parameter of the load function.\n"
     ]
    },
    {
     "name": "stdout",
     "output_type": "stream",
     "text": [
      "Current progress: 226/300 BNLI close_EMA3_G_s2, time: 0:00:34.629457\n"
     ]
    },
    {
     "name": "stderr",
     "output_type": "stream",
     "text": [
      "WARNING:absl:Found untraced functions such as lstm_cell_231_layer_call_fn, lstm_cell_231_layer_call_and_return_conditional_losses, lstm_cell_231_layer_call_fn, lstm_cell_231_layer_call_and_return_conditional_losses, lstm_cell_231_layer_call_and_return_conditional_losses while saving (showing 5 of 5). These functions will not be directly callable after loading.\n"
     ]
    },
    {
     "name": "stdout",
     "output_type": "stream",
     "text": [
      "INFO:tensorflow:Assets written to: ./models/explore_idx/v2/retrained/v2/model/BNLI/close_EMA3_G_s1/assets\n"
     ]
    },
    {
     "name": "stderr",
     "output_type": "stream",
     "text": [
      "INFO:tensorflow:Assets written to: ./models/explore_idx/v2/retrained/v2/model/BNLI/close_EMA3_G_s1/assets\n",
      "WARNING:absl:<keras.layers.recurrent.LSTMCell object at 0x000001268AE986A0> has the same name 'LSTMCell' as a built-in Keras object. Consider renaming <class 'keras.layers.recurrent.LSTMCell'> to avoid naming conflicts when loading with `tf.keras.models.load_model`. If renaming is not possible, pass the object in the `custom_objects` parameter of the load function.\n"
     ]
    },
    {
     "name": "stdout",
     "output_type": "stream",
     "text": [
      "Current progress: 227/300 BNLI close_EMA3_G_s1, time: 0:00:34.945449\n"
     ]
    },
    {
     "name": "stderr",
     "output_type": "stream",
     "text": [
      "WARNING:absl:Found untraced functions such as lstm_cell_232_layer_call_fn, lstm_cell_232_layer_call_and_return_conditional_losses, lstm_cell_232_layer_call_fn, lstm_cell_232_layer_call_and_return_conditional_losses, lstm_cell_232_layer_call_and_return_conditional_losses while saving (showing 5 of 5). These functions will not be directly callable after loading.\n"
     ]
    },
    {
     "name": "stdout",
     "output_type": "stream",
     "text": [
      "INFO:tensorflow:Assets written to: ./models/explore_idx/v2/retrained/v2/model/BNLI/close_EMA10_G_s2/assets\n"
     ]
    },
    {
     "name": "stderr",
     "output_type": "stream",
     "text": [
      "INFO:tensorflow:Assets written to: ./models/explore_idx/v2/retrained/v2/model/BNLI/close_EMA10_G_s2/assets\n",
      "WARNING:absl:<keras.layers.recurrent.LSTMCell object at 0x00000126EDD597F0> has the same name 'LSTMCell' as a built-in Keras object. Consider renaming <class 'keras.layers.recurrent.LSTMCell'> to avoid naming conflicts when loading with `tf.keras.models.load_model`. If renaming is not possible, pass the object in the `custom_objects` parameter of the load function.\n"
     ]
    },
    {
     "name": "stdout",
     "output_type": "stream",
     "text": [
      "Current progress: 228/300 BNLI close_EMA10_G_s2, time: 0:00:35.056701\n"
     ]
    },
    {
     "name": "stderr",
     "output_type": "stream",
     "text": [
      "WARNING:absl:Found untraced functions such as lstm_cell_233_layer_call_fn, lstm_cell_233_layer_call_and_return_conditional_losses, lstm_cell_233_layer_call_fn, lstm_cell_233_layer_call_and_return_conditional_losses, lstm_cell_233_layer_call_and_return_conditional_losses while saving (showing 5 of 5). These functions will not be directly callable after loading.\n"
     ]
    },
    {
     "name": "stdout",
     "output_type": "stream",
     "text": [
      "INFO:tensorflow:Assets written to: ./models/explore_idx/v2/retrained/v2/model/INAF/close_EMA3_G_s2/assets\n"
     ]
    },
    {
     "name": "stderr",
     "output_type": "stream",
     "text": [
      "INFO:tensorflow:Assets written to: ./models/explore_idx/v2/retrained/v2/model/INAF/close_EMA3_G_s2/assets\n",
      "WARNING:absl:<keras.layers.recurrent.LSTMCell object at 0x000001268470DA90> has the same name 'LSTMCell' as a built-in Keras object. Consider renaming <class 'keras.layers.recurrent.LSTMCell'> to avoid naming conflicts when loading with `tf.keras.models.load_model`. If renaming is not possible, pass the object in the `custom_objects` parameter of the load function.\n"
     ]
    },
    {
     "name": "stdout",
     "output_type": "stream",
     "text": [
      "Current progress: 229/300 INAF close_EMA3_G_s2, time: 0:00:34.602026\n"
     ]
    },
    {
     "name": "stderr",
     "output_type": "stream",
     "text": [
      "WARNING:absl:Found untraced functions such as lstm_cell_234_layer_call_fn, lstm_cell_234_layer_call_and_return_conditional_losses, lstm_cell_234_layer_call_fn, lstm_cell_234_layer_call_and_return_conditional_losses, lstm_cell_234_layer_call_and_return_conditional_losses while saving (showing 5 of 5). These functions will not be directly callable after loading.\n"
     ]
    },
    {
     "name": "stdout",
     "output_type": "stream",
     "text": [
      "INFO:tensorflow:Assets written to: ./models/explore_idx/v2/retrained/v2/model/INAF/close_EMA3_G_s1/assets\n"
     ]
    },
    {
     "name": "stderr",
     "output_type": "stream",
     "text": [
      "INFO:tensorflow:Assets written to: ./models/explore_idx/v2/retrained/v2/model/INAF/close_EMA3_G_s1/assets\n",
      "WARNING:absl:<keras.layers.recurrent.LSTMCell object at 0x000001268CA87760> has the same name 'LSTMCell' as a built-in Keras object. Consider renaming <class 'keras.layers.recurrent.LSTMCell'> to avoid naming conflicts when loading with `tf.keras.models.load_model`. If renaming is not possible, pass the object in the `custom_objects` parameter of the load function.\n"
     ]
    },
    {
     "name": "stdout",
     "output_type": "stream",
     "text": [
      "Current progress: 230/300 INAF close_EMA3_G_s1, time: 0:00:33.775464\n"
     ]
    },
    {
     "name": "stderr",
     "output_type": "stream",
     "text": [
      "WARNING:absl:Found untraced functions such as lstm_cell_235_layer_call_fn, lstm_cell_235_layer_call_and_return_conditional_losses, lstm_cell_235_layer_call_fn, lstm_cell_235_layer_call_and_return_conditional_losses, lstm_cell_235_layer_call_and_return_conditional_losses while saving (showing 5 of 5). These functions will not be directly callable after loading.\n"
     ]
    },
    {
     "name": "stdout",
     "output_type": "stream",
     "text": [
      "INFO:tensorflow:Assets written to: ./models/explore_idx/v2/retrained/v2/model/INAF/close_EMA10_G_s2/assets\n"
     ]
    },
    {
     "name": "stderr",
     "output_type": "stream",
     "text": [
      "INFO:tensorflow:Assets written to: ./models/explore_idx/v2/retrained/v2/model/INAF/close_EMA10_G_s2/assets\n",
      "WARNING:absl:<keras.layers.recurrent.LSTMCell object at 0x000001269085B9D0> has the same name 'LSTMCell' as a built-in Keras object. Consider renaming <class 'keras.layers.recurrent.LSTMCell'> to avoid naming conflicts when loading with `tf.keras.models.load_model`. If renaming is not possible, pass the object in the `custom_objects` parameter of the load function.\n"
     ]
    },
    {
     "name": "stdout",
     "output_type": "stream",
     "text": [
      "Current progress: 231/300 INAF close_EMA10_G_s2, time: 0:00:33.935249\n"
     ]
    },
    {
     "name": "stderr",
     "output_type": "stream",
     "text": [
      "WARNING:absl:Found untraced functions such as lstm_cell_236_layer_call_fn, lstm_cell_236_layer_call_and_return_conditional_losses, lstm_cell_236_layer_call_fn, lstm_cell_236_layer_call_and_return_conditional_losses, lstm_cell_236_layer_call_and_return_conditional_losses while saving (showing 5 of 5). These functions will not be directly callable after loading.\n"
     ]
    },
    {
     "name": "stdout",
     "output_type": "stream",
     "text": [
      "INFO:tensorflow:Assets written to: ./models/explore_idx/v2/retrained/v2/model/RALS/close_EMA3_G_s2/assets\n"
     ]
    },
    {
     "name": "stderr",
     "output_type": "stream",
     "text": [
      "INFO:tensorflow:Assets written to: ./models/explore_idx/v2/retrained/v2/model/RALS/close_EMA3_G_s2/assets\n",
      "WARNING:absl:<keras.layers.recurrent.LSTMCell object at 0x0000012699DADB50> has the same name 'LSTMCell' as a built-in Keras object. Consider renaming <class 'keras.layers.recurrent.LSTMCell'> to avoid naming conflicts when loading with `tf.keras.models.load_model`. If renaming is not possible, pass the object in the `custom_objects` parameter of the load function.\n"
     ]
    },
    {
     "name": "stdout",
     "output_type": "stream",
     "text": [
      "Current progress: 232/300 RALS close_EMA3_G_s2, time: 0:00:33.805349\n"
     ]
    },
    {
     "name": "stderr",
     "output_type": "stream",
     "text": [
      "WARNING:absl:Found untraced functions such as lstm_cell_237_layer_call_fn, lstm_cell_237_layer_call_and_return_conditional_losses, lstm_cell_237_layer_call_fn, lstm_cell_237_layer_call_and_return_conditional_losses, lstm_cell_237_layer_call_and_return_conditional_losses while saving (showing 5 of 5). These functions will not be directly callable after loading.\n"
     ]
    },
    {
     "name": "stdout",
     "output_type": "stream",
     "text": [
      "INFO:tensorflow:Assets written to: ./models/explore_idx/v2/retrained/v2/model/RALS/close_EMA3_G_s1/assets\n"
     ]
    },
    {
     "name": "stderr",
     "output_type": "stream",
     "text": [
      "INFO:tensorflow:Assets written to: ./models/explore_idx/v2/retrained/v2/model/RALS/close_EMA3_G_s1/assets\n",
      "WARNING:absl:<keras.layers.recurrent.LSTMCell object at 0x000001268B91D7F0> has the same name 'LSTMCell' as a built-in Keras object. Consider renaming <class 'keras.layers.recurrent.LSTMCell'> to avoid naming conflicts when loading with `tf.keras.models.load_model`. If renaming is not possible, pass the object in the `custom_objects` parameter of the load function.\n"
     ]
    },
    {
     "name": "stdout",
     "output_type": "stream",
     "text": [
      "Current progress: 233/300 RALS close_EMA3_G_s1, time: 0:00:35.837474\n"
     ]
    },
    {
     "name": "stderr",
     "output_type": "stream",
     "text": [
      "WARNING:absl:Found untraced functions such as lstm_cell_238_layer_call_fn, lstm_cell_238_layer_call_and_return_conditional_losses, lstm_cell_238_layer_call_fn, lstm_cell_238_layer_call_and_return_conditional_losses, lstm_cell_238_layer_call_and_return_conditional_losses while saving (showing 5 of 5). These functions will not be directly callable after loading.\n"
     ]
    },
    {
     "name": "stdout",
     "output_type": "stream",
     "text": [
      "INFO:tensorflow:Assets written to: ./models/explore_idx/v2/retrained/v2/model/RALS/close_EMA10_G_s2/assets\n"
     ]
    },
    {
     "name": "stderr",
     "output_type": "stream",
     "text": [
      "INFO:tensorflow:Assets written to: ./models/explore_idx/v2/retrained/v2/model/RALS/close_EMA10_G_s2/assets\n",
      "WARNING:absl:<keras.layers.recurrent.LSTMCell object at 0x00000126824A94C0> has the same name 'LSTMCell' as a built-in Keras object. Consider renaming <class 'keras.layers.recurrent.LSTMCell'> to avoid naming conflicts when loading with `tf.keras.models.load_model`. If renaming is not possible, pass the object in the `custom_objects` parameter of the load function.\n"
     ]
    },
    {
     "name": "stdout",
     "output_type": "stream",
     "text": [
      "Current progress: 234/300 RALS close_EMA10_G_s2, time: 0:00:34.608403\n"
     ]
    },
    {
     "name": "stderr",
     "output_type": "stream",
     "text": [
      "WARNING:absl:Found untraced functions such as lstm_cell_239_layer_call_fn, lstm_cell_239_layer_call_and_return_conditional_losses, lstm_cell_239_layer_call_fn, lstm_cell_239_layer_call_and_return_conditional_losses, lstm_cell_239_layer_call_and_return_conditional_losses while saving (showing 5 of 5). These functions will not be directly callable after loading.\n"
     ]
    },
    {
     "name": "stdout",
     "output_type": "stream",
     "text": [
      "INFO:tensorflow:Assets written to: ./models/explore_idx/v2/retrained/v2/model/ADMG/close_EMA3_G_s2/assets\n"
     ]
    },
    {
     "name": "stderr",
     "output_type": "stream",
     "text": [
      "INFO:tensorflow:Assets written to: ./models/explore_idx/v2/retrained/v2/model/ADMG/close_EMA3_G_s2/assets\n",
      "WARNING:absl:<keras.layers.recurrent.LSTMCell object at 0x000001269BAB0220> has the same name 'LSTMCell' as a built-in Keras object. Consider renaming <class 'keras.layers.recurrent.LSTMCell'> to avoid naming conflicts when loading with `tf.keras.models.load_model`. If renaming is not possible, pass the object in the `custom_objects` parameter of the load function.\n"
     ]
    },
    {
     "name": "stdout",
     "output_type": "stream",
     "text": [
      "Current progress: 235/300 ADMG close_EMA3_G_s2, time: 0:00:36.058424\n"
     ]
    },
    {
     "name": "stderr",
     "output_type": "stream",
     "text": [
      "WARNING:absl:Found untraced functions such as lstm_cell_240_layer_call_fn, lstm_cell_240_layer_call_and_return_conditional_losses, lstm_cell_240_layer_call_fn, lstm_cell_240_layer_call_and_return_conditional_losses, lstm_cell_240_layer_call_and_return_conditional_losses while saving (showing 5 of 5). These functions will not be directly callable after loading.\n"
     ]
    },
    {
     "name": "stdout",
     "output_type": "stream",
     "text": [
      "INFO:tensorflow:Assets written to: ./models/explore_idx/v2/retrained/v2/model/ADMG/close_EMA3_G_s1/assets\n"
     ]
    },
    {
     "name": "stderr",
     "output_type": "stream",
     "text": [
      "INFO:tensorflow:Assets written to: ./models/explore_idx/v2/retrained/v2/model/ADMG/close_EMA3_G_s1/assets\n",
      "WARNING:absl:<keras.layers.recurrent.LSTMCell object at 0x00000126F8D438E0> has the same name 'LSTMCell' as a built-in Keras object. Consider renaming <class 'keras.layers.recurrent.LSTMCell'> to avoid naming conflicts when loading with `tf.keras.models.load_model`. If renaming is not possible, pass the object in the `custom_objects` parameter of the load function.\n"
     ]
    },
    {
     "name": "stdout",
     "output_type": "stream",
     "text": [
      "Current progress: 236/300 ADMG close_EMA3_G_s1, time: 0:00:34.530254\n"
     ]
    },
    {
     "name": "stderr",
     "output_type": "stream",
     "text": [
      "WARNING:absl:Found untraced functions such as lstm_cell_241_layer_call_fn, lstm_cell_241_layer_call_and_return_conditional_losses, lstm_cell_241_layer_call_fn, lstm_cell_241_layer_call_and_return_conditional_losses, lstm_cell_241_layer_call_and_return_conditional_losses while saving (showing 5 of 5). These functions will not be directly callable after loading.\n"
     ]
    },
    {
     "name": "stdout",
     "output_type": "stream",
     "text": [
      "INFO:tensorflow:Assets written to: ./models/explore_idx/v2/retrained/v2/model/ADMG/close_EMA10_G_s2/assets\n"
     ]
    },
    {
     "name": "stderr",
     "output_type": "stream",
     "text": [
      "INFO:tensorflow:Assets written to: ./models/explore_idx/v2/retrained/v2/model/ADMG/close_EMA10_G_s2/assets\n",
      "WARNING:absl:<keras.layers.recurrent.LSTMCell object at 0x000001269B35C340> has the same name 'LSTMCell' as a built-in Keras object. Consider renaming <class 'keras.layers.recurrent.LSTMCell'> to avoid naming conflicts when loading with `tf.keras.models.load_model`. If renaming is not possible, pass the object in the `custom_objects` parameter of the load function.\n"
     ]
    },
    {
     "name": "stdout",
     "output_type": "stream",
     "text": [
      "Current progress: 237/300 ADMG close_EMA10_G_s2, time: 0:00:34.058719\n"
     ]
    },
    {
     "name": "stderr",
     "output_type": "stream",
     "text": [
      "WARNING:absl:Found untraced functions such as lstm_cell_242_layer_call_fn, lstm_cell_242_layer_call_and_return_conditional_losses, lstm_cell_242_layer_call_fn, lstm_cell_242_layer_call_and_return_conditional_losses, lstm_cell_242_layer_call_and_return_conditional_losses while saving (showing 5 of 5). These functions will not be directly callable after loading.\n"
     ]
    },
    {
     "name": "stdout",
     "output_type": "stream",
     "text": [
      "INFO:tensorflow:Assets written to: ./models/explore_idx/v2/retrained/v2/model/UNTR/close_EMA3_G_s2/assets\n"
     ]
    },
    {
     "name": "stderr",
     "output_type": "stream",
     "text": [
      "INFO:tensorflow:Assets written to: ./models/explore_idx/v2/retrained/v2/model/UNTR/close_EMA3_G_s2/assets\n",
      "WARNING:absl:<keras.layers.recurrent.LSTMCell object at 0x000001268DA62040> has the same name 'LSTMCell' as a built-in Keras object. Consider renaming <class 'keras.layers.recurrent.LSTMCell'> to avoid naming conflicts when loading with `tf.keras.models.load_model`. If renaming is not possible, pass the object in the `custom_objects` parameter of the load function.\n"
     ]
    },
    {
     "name": "stdout",
     "output_type": "stream",
     "text": [
      "Current progress: 238/300 UNTR close_EMA3_G_s2, time: 0:00:34.548929\n"
     ]
    },
    {
     "name": "stderr",
     "output_type": "stream",
     "text": [
      "WARNING:absl:Found untraced functions such as lstm_cell_243_layer_call_fn, lstm_cell_243_layer_call_and_return_conditional_losses, lstm_cell_243_layer_call_fn, lstm_cell_243_layer_call_and_return_conditional_losses, lstm_cell_243_layer_call_and_return_conditional_losses while saving (showing 5 of 5). These functions will not be directly callable after loading.\n"
     ]
    },
    {
     "name": "stdout",
     "output_type": "stream",
     "text": [
      "INFO:tensorflow:Assets written to: ./models/explore_idx/v2/retrained/v2/model/UNTR/close_EMA3_G_s1/assets\n"
     ]
    },
    {
     "name": "stderr",
     "output_type": "stream",
     "text": [
      "INFO:tensorflow:Assets written to: ./models/explore_idx/v2/retrained/v2/model/UNTR/close_EMA3_G_s1/assets\n",
      "WARNING:absl:<keras.layers.recurrent.LSTMCell object at 0x000001269E37A460> has the same name 'LSTMCell' as a built-in Keras object. Consider renaming <class 'keras.layers.recurrent.LSTMCell'> to avoid naming conflicts when loading with `tf.keras.models.load_model`. If renaming is not possible, pass the object in the `custom_objects` parameter of the load function.\n"
     ]
    },
    {
     "name": "stdout",
     "output_type": "stream",
     "text": [
      "Current progress: 239/300 UNTR close_EMA3_G_s1, time: 0:00:34.071958\n"
     ]
    },
    {
     "name": "stderr",
     "output_type": "stream",
     "text": [
      "WARNING:absl:Found untraced functions such as lstm_cell_244_layer_call_fn, lstm_cell_244_layer_call_and_return_conditional_losses, lstm_cell_244_layer_call_fn, lstm_cell_244_layer_call_and_return_conditional_losses, lstm_cell_244_layer_call_and_return_conditional_losses while saving (showing 5 of 5). These functions will not be directly callable after loading.\n"
     ]
    },
    {
     "name": "stdout",
     "output_type": "stream",
     "text": [
      "INFO:tensorflow:Assets written to: ./models/explore_idx/v2/retrained/v2/model/UNTR/close_EMA10_G_s2/assets\n"
     ]
    },
    {
     "name": "stderr",
     "output_type": "stream",
     "text": [
      "INFO:tensorflow:Assets written to: ./models/explore_idx/v2/retrained/v2/model/UNTR/close_EMA10_G_s2/assets\n",
      "WARNING:absl:<keras.layers.recurrent.LSTMCell object at 0x000001269AC0C520> has the same name 'LSTMCell' as a built-in Keras object. Consider renaming <class 'keras.layers.recurrent.LSTMCell'> to avoid naming conflicts when loading with `tf.keras.models.load_model`. If renaming is not possible, pass the object in the `custom_objects` parameter of the load function.\n"
     ]
    },
    {
     "name": "stdout",
     "output_type": "stream",
     "text": [
      "Current progress: 240/300 UNTR close_EMA10_G_s2, time: 0:00:35.474474\n"
     ]
    },
    {
     "name": "stderr",
     "output_type": "stream",
     "text": [
      "WARNING:absl:Found untraced functions such as lstm_cell_245_layer_call_fn, lstm_cell_245_layer_call_and_return_conditional_losses, lstm_cell_245_layer_call_fn, lstm_cell_245_layer_call_and_return_conditional_losses, lstm_cell_245_layer_call_and_return_conditional_losses while saving (showing 5 of 5). These functions will not be directly callable after loading.\n"
     ]
    },
    {
     "name": "stdout",
     "output_type": "stream",
     "text": [
      "INFO:tensorflow:Assets written to: ./models/explore_idx/v2/retrained/v2/model/SCMA/close_EMA3_G_s2/assets\n"
     ]
    },
    {
     "name": "stderr",
     "output_type": "stream",
     "text": [
      "INFO:tensorflow:Assets written to: ./models/explore_idx/v2/retrained/v2/model/SCMA/close_EMA3_G_s2/assets\n",
      "WARNING:absl:<keras.layers.recurrent.LSTMCell object at 0x00000126951D46D0> has the same name 'LSTMCell' as a built-in Keras object. Consider renaming <class 'keras.layers.recurrent.LSTMCell'> to avoid naming conflicts when loading with `tf.keras.models.load_model`. If renaming is not possible, pass the object in the `custom_objects` parameter of the load function.\n"
     ]
    },
    {
     "name": "stdout",
     "output_type": "stream",
     "text": [
      "Current progress: 241/300 SCMA close_EMA3_G_s2, time: 0:00:34.338178\n"
     ]
    },
    {
     "name": "stderr",
     "output_type": "stream",
     "text": [
      "WARNING:absl:Found untraced functions such as lstm_cell_246_layer_call_fn, lstm_cell_246_layer_call_and_return_conditional_losses, lstm_cell_246_layer_call_fn, lstm_cell_246_layer_call_and_return_conditional_losses, lstm_cell_246_layer_call_and_return_conditional_losses while saving (showing 5 of 5). These functions will not be directly callable after loading.\n"
     ]
    },
    {
     "name": "stdout",
     "output_type": "stream",
     "text": [
      "INFO:tensorflow:Assets written to: ./models/explore_idx/v2/retrained/v2/model/SCMA/close_EMA3_G_s1/assets\n"
     ]
    },
    {
     "name": "stderr",
     "output_type": "stream",
     "text": [
      "INFO:tensorflow:Assets written to: ./models/explore_idx/v2/retrained/v2/model/SCMA/close_EMA3_G_s1/assets\n",
      "WARNING:absl:<keras.layers.recurrent.LSTMCell object at 0x00000126A0126A60> has the same name 'LSTMCell' as a built-in Keras object. Consider renaming <class 'keras.layers.recurrent.LSTMCell'> to avoid naming conflicts when loading with `tf.keras.models.load_model`. If renaming is not possible, pass the object in the `custom_objects` parameter of the load function.\n"
     ]
    },
    {
     "name": "stdout",
     "output_type": "stream",
     "text": [
      "Current progress: 242/300 SCMA close_EMA3_G_s1, time: 0:00:34.451126\n"
     ]
    },
    {
     "name": "stderr",
     "output_type": "stream",
     "text": [
      "WARNING:absl:Found untraced functions such as lstm_cell_247_layer_call_fn, lstm_cell_247_layer_call_and_return_conditional_losses, lstm_cell_247_layer_call_fn, lstm_cell_247_layer_call_and_return_conditional_losses, lstm_cell_247_layer_call_and_return_conditional_losses while saving (showing 5 of 5). These functions will not be directly callable after loading.\n"
     ]
    },
    {
     "name": "stdout",
     "output_type": "stream",
     "text": [
      "INFO:tensorflow:Assets written to: ./models/explore_idx/v2/retrained/v2/model/SCMA/close_EMA10_G_s2/assets\n"
     ]
    },
    {
     "name": "stderr",
     "output_type": "stream",
     "text": [
      "INFO:tensorflow:Assets written to: ./models/explore_idx/v2/retrained/v2/model/SCMA/close_EMA10_G_s2/assets\n",
      "WARNING:absl:<keras.layers.recurrent.LSTMCell object at 0x000001269AE285E0> has the same name 'LSTMCell' as a built-in Keras object. Consider renaming <class 'keras.layers.recurrent.LSTMCell'> to avoid naming conflicts when loading with `tf.keras.models.load_model`. If renaming is not possible, pass the object in the `custom_objects` parameter of the load function.\n"
     ]
    },
    {
     "name": "stdout",
     "output_type": "stream",
     "text": [
      "Current progress: 243/300 SCMA close_EMA10_G_s2, time: 0:00:33.860916\n"
     ]
    },
    {
     "name": "stderr",
     "output_type": "stream",
     "text": [
      "WARNING:absl:Found untraced functions such as lstm_cell_248_layer_call_fn, lstm_cell_248_layer_call_and_return_conditional_losses, lstm_cell_248_layer_call_fn, lstm_cell_248_layer_call_and_return_conditional_losses, lstm_cell_248_layer_call_and_return_conditional_losses while saving (showing 5 of 5). These functions will not be directly callable after loading.\n"
     ]
    },
    {
     "name": "stdout",
     "output_type": "stream",
     "text": [
      "INFO:tensorflow:Assets written to: ./models/explore_idx/v2/retrained/v2/model/ISAT/close_EMA3_G_s2/assets\n"
     ]
    },
    {
     "name": "stderr",
     "output_type": "stream",
     "text": [
      "INFO:tensorflow:Assets written to: ./models/explore_idx/v2/retrained/v2/model/ISAT/close_EMA3_G_s2/assets\n",
      "WARNING:absl:<keras.layers.recurrent.LSTMCell object at 0x000001268C0FBE50> has the same name 'LSTMCell' as a built-in Keras object. Consider renaming <class 'keras.layers.recurrent.LSTMCell'> to avoid naming conflicts when loading with `tf.keras.models.load_model`. If renaming is not possible, pass the object in the `custom_objects` parameter of the load function.\n"
     ]
    },
    {
     "name": "stdout",
     "output_type": "stream",
     "text": [
      "Current progress: 244/300 ISAT close_EMA3_G_s2, time: 0:00:33.981769\n"
     ]
    },
    {
     "name": "stderr",
     "output_type": "stream",
     "text": [
      "WARNING:absl:Found untraced functions such as lstm_cell_249_layer_call_fn, lstm_cell_249_layer_call_and_return_conditional_losses, lstm_cell_249_layer_call_fn, lstm_cell_249_layer_call_and_return_conditional_losses, lstm_cell_249_layer_call_and_return_conditional_losses while saving (showing 5 of 5). These functions will not be directly callable after loading.\n"
     ]
    },
    {
     "name": "stdout",
     "output_type": "stream",
     "text": [
      "INFO:tensorflow:Assets written to: ./models/explore_idx/v2/retrained/v2/model/ISAT/close_EMA3_G_s1/assets\n"
     ]
    },
    {
     "name": "stderr",
     "output_type": "stream",
     "text": [
      "INFO:tensorflow:Assets written to: ./models/explore_idx/v2/retrained/v2/model/ISAT/close_EMA3_G_s1/assets\n",
      "WARNING:absl:<keras.layers.recurrent.LSTMCell object at 0x0000012690D37C70> has the same name 'LSTMCell' as a built-in Keras object. Consider renaming <class 'keras.layers.recurrent.LSTMCell'> to avoid naming conflicts when loading with `tf.keras.models.load_model`. If renaming is not possible, pass the object in the `custom_objects` parameter of the load function.\n"
     ]
    },
    {
     "name": "stdout",
     "output_type": "stream",
     "text": [
      "Current progress: 245/300 ISAT close_EMA3_G_s1, time: 0:00:34.210167\n"
     ]
    },
    {
     "name": "stderr",
     "output_type": "stream",
     "text": [
      "WARNING:absl:Found untraced functions such as lstm_cell_250_layer_call_fn, lstm_cell_250_layer_call_and_return_conditional_losses, lstm_cell_250_layer_call_fn, lstm_cell_250_layer_call_and_return_conditional_losses, lstm_cell_250_layer_call_and_return_conditional_losses while saving (showing 5 of 5). These functions will not be directly callable after loading.\n"
     ]
    },
    {
     "name": "stdout",
     "output_type": "stream",
     "text": [
      "INFO:tensorflow:Assets written to: ./models/explore_idx/v2/retrained/v2/model/ISAT/close_EMA10_G_s2/assets\n"
     ]
    },
    {
     "name": "stderr",
     "output_type": "stream",
     "text": [
      "INFO:tensorflow:Assets written to: ./models/explore_idx/v2/retrained/v2/model/ISAT/close_EMA10_G_s2/assets\n",
      "WARNING:absl:<keras.layers.recurrent.LSTMCell object at 0x00000126A0E6E820> has the same name 'LSTMCell' as a built-in Keras object. Consider renaming <class 'keras.layers.recurrent.LSTMCell'> to avoid naming conflicts when loading with `tf.keras.models.load_model`. If renaming is not possible, pass the object in the `custom_objects` parameter of the load function.\n"
     ]
    },
    {
     "name": "stdout",
     "output_type": "stream",
     "text": [
      "Current progress: 246/300 ISAT close_EMA10_G_s2, time: 0:00:34.281908\n"
     ]
    },
    {
     "name": "stderr",
     "output_type": "stream",
     "text": [
      "WARNING:absl:Found untraced functions such as lstm_cell_251_layer_call_fn, lstm_cell_251_layer_call_and_return_conditional_losses, lstm_cell_251_layer_call_fn, lstm_cell_251_layer_call_and_return_conditional_losses, lstm_cell_251_layer_call_and_return_conditional_losses while saving (showing 5 of 5). These functions will not be directly callable after loading.\n"
     ]
    },
    {
     "name": "stdout",
     "output_type": "stream",
     "text": [
      "INFO:tensorflow:Assets written to: ./models/explore_idx/v2/retrained/v2/model/DSFI/close_EMA3_G_s2/assets\n"
     ]
    },
    {
     "name": "stderr",
     "output_type": "stream",
     "text": [
      "INFO:tensorflow:Assets written to: ./models/explore_idx/v2/retrained/v2/model/DSFI/close_EMA3_G_s2/assets\n",
      "WARNING:absl:<keras.layers.recurrent.LSTMCell object at 0x00000126F6F1ACA0> has the same name 'LSTMCell' as a built-in Keras object. Consider renaming <class 'keras.layers.recurrent.LSTMCell'> to avoid naming conflicts when loading with `tf.keras.models.load_model`. If renaming is not possible, pass the object in the `custom_objects` parameter of the load function.\n"
     ]
    },
    {
     "name": "stdout",
     "output_type": "stream",
     "text": [
      "Current progress: 247/300 DSFI close_EMA3_G_s2, time: 0:00:33.766864\n"
     ]
    },
    {
     "name": "stderr",
     "output_type": "stream",
     "text": [
      "WARNING:absl:Found untraced functions such as lstm_cell_252_layer_call_fn, lstm_cell_252_layer_call_and_return_conditional_losses, lstm_cell_252_layer_call_fn, lstm_cell_252_layer_call_and_return_conditional_losses, lstm_cell_252_layer_call_and_return_conditional_losses while saving (showing 5 of 5). These functions will not be directly callable after loading.\n"
     ]
    },
    {
     "name": "stdout",
     "output_type": "stream",
     "text": [
      "INFO:tensorflow:Assets written to: ./models/explore_idx/v2/retrained/v2/model/DSFI/close_EMA3_G_s1/assets\n"
     ]
    },
    {
     "name": "stderr",
     "output_type": "stream",
     "text": [
      "INFO:tensorflow:Assets written to: ./models/explore_idx/v2/retrained/v2/model/DSFI/close_EMA3_G_s1/assets\n",
      "WARNING:absl:<keras.layers.recurrent.LSTMCell object at 0x00000126823576A0> has the same name 'LSTMCell' as a built-in Keras object. Consider renaming <class 'keras.layers.recurrent.LSTMCell'> to avoid naming conflicts when loading with `tf.keras.models.load_model`. If renaming is not possible, pass the object in the `custom_objects` parameter of the load function.\n"
     ]
    },
    {
     "name": "stdout",
     "output_type": "stream",
     "text": [
      "Current progress: 248/300 DSFI close_EMA3_G_s1, time: 0:00:34.210842\n"
     ]
    },
    {
     "name": "stderr",
     "output_type": "stream",
     "text": [
      "WARNING:absl:Found untraced functions such as lstm_cell_253_layer_call_fn, lstm_cell_253_layer_call_and_return_conditional_losses, lstm_cell_253_layer_call_fn, lstm_cell_253_layer_call_and_return_conditional_losses, lstm_cell_253_layer_call_and_return_conditional_losses while saving (showing 5 of 5). These functions will not be directly callable after loading.\n"
     ]
    },
    {
     "name": "stdout",
     "output_type": "stream",
     "text": [
      "INFO:tensorflow:Assets written to: ./models/explore_idx/v2/retrained/v2/model/DSFI/close_EMA10_G_s2/assets\n"
     ]
    },
    {
     "name": "stderr",
     "output_type": "stream",
     "text": [
      "INFO:tensorflow:Assets written to: ./models/explore_idx/v2/retrained/v2/model/DSFI/close_EMA10_G_s2/assets\n",
      "WARNING:absl:<keras.layers.recurrent.LSTMCell object at 0x0000012683200160> has the same name 'LSTMCell' as a built-in Keras object. Consider renaming <class 'keras.layers.recurrent.LSTMCell'> to avoid naming conflicts when loading with `tf.keras.models.load_model`. If renaming is not possible, pass the object in the `custom_objects` parameter of the load function.\n"
     ]
    },
    {
     "name": "stdout",
     "output_type": "stream",
     "text": [
      "Current progress: 249/300 DSFI close_EMA10_G_s2, time: 0:00:34.710351\n"
     ]
    },
    {
     "name": "stderr",
     "output_type": "stream",
     "text": [
      "WARNING:absl:Found untraced functions such as lstm_cell_254_layer_call_fn, lstm_cell_254_layer_call_and_return_conditional_losses, lstm_cell_254_layer_call_fn, lstm_cell_254_layer_call_and_return_conditional_losses, lstm_cell_254_layer_call_and_return_conditional_losses while saving (showing 5 of 5). These functions will not be directly callable after loading.\n"
     ]
    },
    {
     "name": "stdout",
     "output_type": "stream",
     "text": [
      "INFO:tensorflow:Assets written to: ./models/explore_idx/v2/retrained/v2/model/BDMN/close_EMA3_G_s2/assets\n"
     ]
    },
    {
     "name": "stderr",
     "output_type": "stream",
     "text": [
      "INFO:tensorflow:Assets written to: ./models/explore_idx/v2/retrained/v2/model/BDMN/close_EMA3_G_s2/assets\n",
      "WARNING:absl:<keras.layers.recurrent.LSTMCell object at 0x0000012695C0B1C0> has the same name 'LSTMCell' as a built-in Keras object. Consider renaming <class 'keras.layers.recurrent.LSTMCell'> to avoid naming conflicts when loading with `tf.keras.models.load_model`. If renaming is not possible, pass the object in the `custom_objects` parameter of the load function.\n"
     ]
    },
    {
     "name": "stdout",
     "output_type": "stream",
     "text": [
      "Current progress: 250/300 BDMN close_EMA3_G_s2, time: 0:00:34.608263\n"
     ]
    },
    {
     "name": "stderr",
     "output_type": "stream",
     "text": [
      "WARNING:absl:Found untraced functions such as lstm_cell_255_layer_call_fn, lstm_cell_255_layer_call_and_return_conditional_losses, lstm_cell_255_layer_call_fn, lstm_cell_255_layer_call_and_return_conditional_losses, lstm_cell_255_layer_call_and_return_conditional_losses while saving (showing 5 of 5). These functions will not be directly callable after loading.\n"
     ]
    },
    {
     "name": "stdout",
     "output_type": "stream",
     "text": [
      "INFO:tensorflow:Assets written to: ./models/explore_idx/v2/retrained/v2/model/BDMN/close_EMA3_G_s1/assets\n"
     ]
    },
    {
     "name": "stderr",
     "output_type": "stream",
     "text": [
      "INFO:tensorflow:Assets written to: ./models/explore_idx/v2/retrained/v2/model/BDMN/close_EMA3_G_s1/assets\n",
      "WARNING:absl:<keras.layers.recurrent.LSTMCell object at 0x00000126829E65B0> has the same name 'LSTMCell' as a built-in Keras object. Consider renaming <class 'keras.layers.recurrent.LSTMCell'> to avoid naming conflicts when loading with `tf.keras.models.load_model`. If renaming is not possible, pass the object in the `custom_objects` parameter of the load function.\n"
     ]
    },
    {
     "name": "stdout",
     "output_type": "stream",
     "text": [
      "Current progress: 251/300 BDMN close_EMA3_G_s1, time: 0:00:35.679787\n"
     ]
    },
    {
     "name": "stderr",
     "output_type": "stream",
     "text": [
      "WARNING:absl:Found untraced functions such as lstm_cell_256_layer_call_fn, lstm_cell_256_layer_call_and_return_conditional_losses, lstm_cell_256_layer_call_fn, lstm_cell_256_layer_call_and_return_conditional_losses, lstm_cell_256_layer_call_and_return_conditional_losses while saving (showing 5 of 5). These functions will not be directly callable after loading.\n"
     ]
    },
    {
     "name": "stdout",
     "output_type": "stream",
     "text": [
      "INFO:tensorflow:Assets written to: ./models/explore_idx/v2/retrained/v2/model/BDMN/close_EMA10_G_s2/assets\n"
     ]
    },
    {
     "name": "stderr",
     "output_type": "stream",
     "text": [
      "INFO:tensorflow:Assets written to: ./models/explore_idx/v2/retrained/v2/model/BDMN/close_EMA10_G_s2/assets\n",
      "WARNING:absl:<keras.layers.recurrent.LSTMCell object at 0x000001269CAF1D90> has the same name 'LSTMCell' as a built-in Keras object. Consider renaming <class 'keras.layers.recurrent.LSTMCell'> to avoid naming conflicts when loading with `tf.keras.models.load_model`. If renaming is not possible, pass the object in the `custom_objects` parameter of the load function.\n"
     ]
    },
    {
     "name": "stdout",
     "output_type": "stream",
     "text": [
      "Current progress: 252/300 BDMN close_EMA10_G_s2, time: 0:00:36.482700\n"
     ]
    },
    {
     "name": "stderr",
     "output_type": "stream",
     "text": [
      "WARNING:absl:Found untraced functions such as lstm_cell_257_layer_call_fn, lstm_cell_257_layer_call_and_return_conditional_losses, lstm_cell_257_layer_call_fn, lstm_cell_257_layer_call_and_return_conditional_losses, lstm_cell_257_layer_call_and_return_conditional_losses while saving (showing 5 of 5). These functions will not be directly callable after loading.\n"
     ]
    },
    {
     "name": "stdout",
     "output_type": "stream",
     "text": [
      "INFO:tensorflow:Assets written to: ./models/explore_idx/v2/retrained/v2/model/MTDL/close_EMA3_G_s2/assets\n"
     ]
    },
    {
     "name": "stderr",
     "output_type": "stream",
     "text": [
      "INFO:tensorflow:Assets written to: ./models/explore_idx/v2/retrained/v2/model/MTDL/close_EMA3_G_s2/assets\n",
      "WARNING:absl:<keras.layers.recurrent.LSTMCell object at 0x000001269B736460> has the same name 'LSTMCell' as a built-in Keras object. Consider renaming <class 'keras.layers.recurrent.LSTMCell'> to avoid naming conflicts when loading with `tf.keras.models.load_model`. If renaming is not possible, pass the object in the `custom_objects` parameter of the load function.\n"
     ]
    },
    {
     "name": "stdout",
     "output_type": "stream",
     "text": [
      "Current progress: 253/300 MTDL close_EMA3_G_s2, time: 0:00:34.865322\n"
     ]
    },
    {
     "name": "stderr",
     "output_type": "stream",
     "text": [
      "WARNING:absl:Found untraced functions such as lstm_cell_258_layer_call_fn, lstm_cell_258_layer_call_and_return_conditional_losses, lstm_cell_258_layer_call_fn, lstm_cell_258_layer_call_and_return_conditional_losses, lstm_cell_258_layer_call_and_return_conditional_losses while saving (showing 5 of 5). These functions will not be directly callable after loading.\n"
     ]
    },
    {
     "name": "stdout",
     "output_type": "stream",
     "text": [
      "INFO:tensorflow:Assets written to: ./models/explore_idx/v2/retrained/v2/model/MTDL/close_EMA3_G_s1/assets\n"
     ]
    },
    {
     "name": "stderr",
     "output_type": "stream",
     "text": [
      "INFO:tensorflow:Assets written to: ./models/explore_idx/v2/retrained/v2/model/MTDL/close_EMA3_G_s1/assets\n",
      "WARNING:absl:<keras.layers.recurrent.LSTMCell object at 0x000001269BABD0A0> has the same name 'LSTMCell' as a built-in Keras object. Consider renaming <class 'keras.layers.recurrent.LSTMCell'> to avoid naming conflicts when loading with `tf.keras.models.load_model`. If renaming is not possible, pass the object in the `custom_objects` parameter of the load function.\n"
     ]
    },
    {
     "name": "stdout",
     "output_type": "stream",
     "text": [
      "Current progress: 254/300 MTDL close_EMA3_G_s1, time: 0:00:36.485621\n"
     ]
    },
    {
     "name": "stderr",
     "output_type": "stream",
     "text": [
      "WARNING:absl:Found untraced functions such as lstm_cell_259_layer_call_fn, lstm_cell_259_layer_call_and_return_conditional_losses, lstm_cell_259_layer_call_fn, lstm_cell_259_layer_call_and_return_conditional_losses, lstm_cell_259_layer_call_and_return_conditional_losses while saving (showing 5 of 5). These functions will not be directly callable after loading.\n"
     ]
    },
    {
     "name": "stdout",
     "output_type": "stream",
     "text": [
      "INFO:tensorflow:Assets written to: ./models/explore_idx/v2/retrained/v2/model/MTDL/close_EMA10_G_s2/assets\n"
     ]
    },
    {
     "name": "stderr",
     "output_type": "stream",
     "text": [
      "INFO:tensorflow:Assets written to: ./models/explore_idx/v2/retrained/v2/model/MTDL/close_EMA10_G_s2/assets\n",
      "WARNING:absl:<keras.layers.recurrent.LSTMCell object at 0x000001268302EDF0> has the same name 'LSTMCell' as a built-in Keras object. Consider renaming <class 'keras.layers.recurrent.LSTMCell'> to avoid naming conflicts when loading with `tf.keras.models.load_model`. If renaming is not possible, pass the object in the `custom_objects` parameter of the load function.\n"
     ]
    },
    {
     "name": "stdout",
     "output_type": "stream",
     "text": [
      "Current progress: 255/300 MTDL close_EMA10_G_s2, time: 0:00:36.509876\n"
     ]
    },
    {
     "name": "stderr",
     "output_type": "stream",
     "text": [
      "WARNING:absl:Found untraced functions such as lstm_cell_260_layer_call_fn, lstm_cell_260_layer_call_and_return_conditional_losses, lstm_cell_260_layer_call_fn, lstm_cell_260_layer_call_and_return_conditional_losses, lstm_cell_260_layer_call_and_return_conditional_losses while saving (showing 5 of 5). These functions will not be directly callable after loading.\n"
     ]
    },
    {
     "name": "stdout",
     "output_type": "stream",
     "text": [
      "INFO:tensorflow:Assets written to: ./models/explore_idx/v2/retrained/v2/model/SULI/close_EMA3_G_s2/assets\n"
     ]
    },
    {
     "name": "stderr",
     "output_type": "stream",
     "text": [
      "INFO:tensorflow:Assets written to: ./models/explore_idx/v2/retrained/v2/model/SULI/close_EMA3_G_s2/assets\n",
      "WARNING:absl:<keras.layers.recurrent.LSTMCell object at 0x000001268D277370> has the same name 'LSTMCell' as a built-in Keras object. Consider renaming <class 'keras.layers.recurrent.LSTMCell'> to avoid naming conflicts when loading with `tf.keras.models.load_model`. If renaming is not possible, pass the object in the `custom_objects` parameter of the load function.\n"
     ]
    },
    {
     "name": "stdout",
     "output_type": "stream",
     "text": [
      "Current progress: 256/300 SULI close_EMA3_G_s2, time: 0:00:35.763890\n"
     ]
    },
    {
     "name": "stderr",
     "output_type": "stream",
     "text": [
      "WARNING:absl:Found untraced functions such as lstm_cell_261_layer_call_fn, lstm_cell_261_layer_call_and_return_conditional_losses, lstm_cell_261_layer_call_fn, lstm_cell_261_layer_call_and_return_conditional_losses, lstm_cell_261_layer_call_and_return_conditional_losses while saving (showing 5 of 5). These functions will not be directly callable after loading.\n"
     ]
    },
    {
     "name": "stdout",
     "output_type": "stream",
     "text": [
      "INFO:tensorflow:Assets written to: ./models/explore_idx/v2/retrained/v2/model/SULI/close_EMA3_G_s1/assets\n"
     ]
    },
    {
     "name": "stderr",
     "output_type": "stream",
     "text": [
      "INFO:tensorflow:Assets written to: ./models/explore_idx/v2/retrained/v2/model/SULI/close_EMA3_G_s1/assets\n",
      "WARNING:absl:<keras.layers.recurrent.LSTMCell object at 0x00000126F238CA90> has the same name 'LSTMCell' as a built-in Keras object. Consider renaming <class 'keras.layers.recurrent.LSTMCell'> to avoid naming conflicts when loading with `tf.keras.models.load_model`. If renaming is not possible, pass the object in the `custom_objects` parameter of the load function.\n"
     ]
    },
    {
     "name": "stdout",
     "output_type": "stream",
     "text": [
      "Current progress: 257/300 SULI close_EMA3_G_s1, time: 0:00:35.520155\n"
     ]
    },
    {
     "name": "stderr",
     "output_type": "stream",
     "text": [
      "WARNING:absl:Found untraced functions such as lstm_cell_262_layer_call_fn, lstm_cell_262_layer_call_and_return_conditional_losses, lstm_cell_262_layer_call_fn, lstm_cell_262_layer_call_and_return_conditional_losses, lstm_cell_262_layer_call_and_return_conditional_losses while saving (showing 5 of 5). These functions will not be directly callable after loading.\n"
     ]
    },
    {
     "name": "stdout",
     "output_type": "stream",
     "text": [
      "INFO:tensorflow:Assets written to: ./models/explore_idx/v2/retrained/v2/model/SULI/close_EMA10_G_s2/assets\n"
     ]
    },
    {
     "name": "stderr",
     "output_type": "stream",
     "text": [
      "INFO:tensorflow:Assets written to: ./models/explore_idx/v2/retrained/v2/model/SULI/close_EMA10_G_s2/assets\n",
      "WARNING:absl:<keras.layers.recurrent.LSTMCell object at 0x000001269FE67B20> has the same name 'LSTMCell' as a built-in Keras object. Consider renaming <class 'keras.layers.recurrent.LSTMCell'> to avoid naming conflicts when loading with `tf.keras.models.load_model`. If renaming is not possible, pass the object in the `custom_objects` parameter of the load function.\n"
     ]
    },
    {
     "name": "stdout",
     "output_type": "stream",
     "text": [
      "Current progress: 258/300 SULI close_EMA10_G_s2, time: 0:00:36.650063\n"
     ]
    },
    {
     "name": "stderr",
     "output_type": "stream",
     "text": [
      "WARNING:absl:Found untraced functions such as lstm_cell_263_layer_call_fn, lstm_cell_263_layer_call_and_return_conditional_losses, lstm_cell_263_layer_call_fn, lstm_cell_263_layer_call_and_return_conditional_losses, lstm_cell_263_layer_call_and_return_conditional_losses while saving (showing 5 of 5). These functions will not be directly callable after loading.\n"
     ]
    },
    {
     "name": "stdout",
     "output_type": "stream",
     "text": [
      "INFO:tensorflow:Assets written to: ./models/explore_idx/v2/retrained/v2/model/TURI/close_EMA3_G_s2/assets\n"
     ]
    },
    {
     "name": "stderr",
     "output_type": "stream",
     "text": [
      "INFO:tensorflow:Assets written to: ./models/explore_idx/v2/retrained/v2/model/TURI/close_EMA3_G_s2/assets\n",
      "WARNING:absl:<keras.layers.recurrent.LSTMCell object at 0x00000126822A35E0> has the same name 'LSTMCell' as a built-in Keras object. Consider renaming <class 'keras.layers.recurrent.LSTMCell'> to avoid naming conflicts when loading with `tf.keras.models.load_model`. If renaming is not possible, pass the object in the `custom_objects` parameter of the load function.\n"
     ]
    },
    {
     "name": "stdout",
     "output_type": "stream",
     "text": [
      "Current progress: 259/300 TURI close_EMA3_G_s2, time: 0:00:34.082082\n"
     ]
    },
    {
     "name": "stderr",
     "output_type": "stream",
     "text": [
      "WARNING:absl:Found untraced functions such as lstm_cell_264_layer_call_fn, lstm_cell_264_layer_call_and_return_conditional_losses, lstm_cell_264_layer_call_fn, lstm_cell_264_layer_call_and_return_conditional_losses, lstm_cell_264_layer_call_and_return_conditional_losses while saving (showing 5 of 5). These functions will not be directly callable after loading.\n"
     ]
    },
    {
     "name": "stdout",
     "output_type": "stream",
     "text": [
      "INFO:tensorflow:Assets written to: ./models/explore_idx/v2/retrained/v2/model/TURI/close_EMA3_G_s1/assets\n"
     ]
    },
    {
     "name": "stderr",
     "output_type": "stream",
     "text": [
      "INFO:tensorflow:Assets written to: ./models/explore_idx/v2/retrained/v2/model/TURI/close_EMA3_G_s1/assets\n",
      "WARNING:absl:<keras.layers.recurrent.LSTMCell object at 0x00000126820FDB80> has the same name 'LSTMCell' as a built-in Keras object. Consider renaming <class 'keras.layers.recurrent.LSTMCell'> to avoid naming conflicts when loading with `tf.keras.models.load_model`. If renaming is not possible, pass the object in the `custom_objects` parameter of the load function.\n"
     ]
    },
    {
     "name": "stdout",
     "output_type": "stream",
     "text": [
      "Current progress: 260/300 TURI close_EMA3_G_s1, time: 0:00:35.709244\n"
     ]
    },
    {
     "name": "stderr",
     "output_type": "stream",
     "text": [
      "WARNING:absl:Found untraced functions such as lstm_cell_265_layer_call_fn, lstm_cell_265_layer_call_and_return_conditional_losses, lstm_cell_265_layer_call_fn, lstm_cell_265_layer_call_and_return_conditional_losses, lstm_cell_265_layer_call_and_return_conditional_losses while saving (showing 5 of 5). These functions will not be directly callable after loading.\n"
     ]
    },
    {
     "name": "stdout",
     "output_type": "stream",
     "text": [
      "INFO:tensorflow:Assets written to: ./models/explore_idx/v2/retrained/v2/model/TURI/close_EMA10_G_s2/assets\n"
     ]
    },
    {
     "name": "stderr",
     "output_type": "stream",
     "text": [
      "INFO:tensorflow:Assets written to: ./models/explore_idx/v2/retrained/v2/model/TURI/close_EMA10_G_s2/assets\n",
      "WARNING:absl:<keras.layers.recurrent.LSTMCell object at 0x000001268BA88850> has the same name 'LSTMCell' as a built-in Keras object. Consider renaming <class 'keras.layers.recurrent.LSTMCell'> to avoid naming conflicts when loading with `tf.keras.models.load_model`. If renaming is not possible, pass the object in the `custom_objects` parameter of the load function.\n"
     ]
    },
    {
     "name": "stdout",
     "output_type": "stream",
     "text": [
      "Current progress: 261/300 TURI close_EMA10_G_s2, time: 0:00:35.011182\n"
     ]
    },
    {
     "name": "stderr",
     "output_type": "stream",
     "text": [
      "WARNING:absl:Found untraced functions such as lstm_cell_266_layer_call_fn, lstm_cell_266_layer_call_and_return_conditional_losses, lstm_cell_266_layer_call_fn, lstm_cell_266_layer_call_and_return_conditional_losses, lstm_cell_266_layer_call_and_return_conditional_losses while saving (showing 5 of 5). These functions will not be directly callable after loading.\n"
     ]
    },
    {
     "name": "stdout",
     "output_type": "stream",
     "text": [
      "INFO:tensorflow:Assets written to: ./models/explore_idx/v2/retrained/v2/model/SMGR/close_EMA3_G_s2/assets\n"
     ]
    },
    {
     "name": "stderr",
     "output_type": "stream",
     "text": [
      "INFO:tensorflow:Assets written to: ./models/explore_idx/v2/retrained/v2/model/SMGR/close_EMA3_G_s2/assets\n",
      "WARNING:absl:<keras.layers.recurrent.LSTMCell object at 0x00000126935056A0> has the same name 'LSTMCell' as a built-in Keras object. Consider renaming <class 'keras.layers.recurrent.LSTMCell'> to avoid naming conflicts when loading with `tf.keras.models.load_model`. If renaming is not possible, pass the object in the `custom_objects` parameter of the load function.\n"
     ]
    },
    {
     "name": "stdout",
     "output_type": "stream",
     "text": [
      "Current progress: 262/300 SMGR close_EMA3_G_s2, time: 0:00:36.044800\n"
     ]
    },
    {
     "name": "stderr",
     "output_type": "stream",
     "text": [
      "WARNING:absl:Found untraced functions such as lstm_cell_267_layer_call_fn, lstm_cell_267_layer_call_and_return_conditional_losses, lstm_cell_267_layer_call_fn, lstm_cell_267_layer_call_and_return_conditional_losses, lstm_cell_267_layer_call_and_return_conditional_losses while saving (showing 5 of 5). These functions will not be directly callable after loading.\n"
     ]
    },
    {
     "name": "stdout",
     "output_type": "stream",
     "text": [
      "INFO:tensorflow:Assets written to: ./models/explore_idx/v2/retrained/v2/model/SMGR/close_EMA3_G_s1/assets\n"
     ]
    },
    {
     "name": "stderr",
     "output_type": "stream",
     "text": [
      "INFO:tensorflow:Assets written to: ./models/explore_idx/v2/retrained/v2/model/SMGR/close_EMA3_G_s1/assets\n",
      "WARNING:absl:<keras.layers.recurrent.LSTMCell object at 0x00000126A05EB370> has the same name 'LSTMCell' as a built-in Keras object. Consider renaming <class 'keras.layers.recurrent.LSTMCell'> to avoid naming conflicts when loading with `tf.keras.models.load_model`. If renaming is not possible, pass the object in the `custom_objects` parameter of the load function.\n"
     ]
    },
    {
     "name": "stdout",
     "output_type": "stream",
     "text": [
      "Current progress: 263/300 SMGR close_EMA3_G_s1, time: 0:00:36.098424\n"
     ]
    },
    {
     "name": "stderr",
     "output_type": "stream",
     "text": [
      "WARNING:absl:Found untraced functions such as lstm_cell_268_layer_call_fn, lstm_cell_268_layer_call_and_return_conditional_losses, lstm_cell_268_layer_call_fn, lstm_cell_268_layer_call_and_return_conditional_losses, lstm_cell_268_layer_call_and_return_conditional_losses while saving (showing 5 of 5). These functions will not be directly callable after loading.\n"
     ]
    },
    {
     "name": "stdout",
     "output_type": "stream",
     "text": [
      "INFO:tensorflow:Assets written to: ./models/explore_idx/v2/retrained/v2/model/SMGR/close_EMA10_G_s2/assets\n"
     ]
    },
    {
     "name": "stderr",
     "output_type": "stream",
     "text": [
      "INFO:tensorflow:Assets written to: ./models/explore_idx/v2/retrained/v2/model/SMGR/close_EMA10_G_s2/assets\n",
      "WARNING:absl:<keras.layers.recurrent.LSTMCell object at 0x000001268B80A640> has the same name 'LSTMCell' as a built-in Keras object. Consider renaming <class 'keras.layers.recurrent.LSTMCell'> to avoid naming conflicts when loading with `tf.keras.models.load_model`. If renaming is not possible, pass the object in the `custom_objects` parameter of the load function.\n"
     ]
    },
    {
     "name": "stdout",
     "output_type": "stream",
     "text": [
      "Current progress: 264/300 SMGR close_EMA10_G_s2, time: 0:00:36.034125\n"
     ]
    },
    {
     "name": "stderr",
     "output_type": "stream",
     "text": [
      "WARNING:absl:Found untraced functions such as lstm_cell_269_layer_call_fn, lstm_cell_269_layer_call_and_return_conditional_losses, lstm_cell_269_layer_call_fn, lstm_cell_269_layer_call_and_return_conditional_losses, lstm_cell_269_layer_call_and_return_conditional_losses while saving (showing 5 of 5). These functions will not be directly callable after loading.\n"
     ]
    },
    {
     "name": "stdout",
     "output_type": "stream",
     "text": [
      "INFO:tensorflow:Assets written to: ./models/explore_idx/v2/retrained/v2/model/TMAS/close_EMA3_G_s2/assets\n"
     ]
    },
    {
     "name": "stderr",
     "output_type": "stream",
     "text": [
      "INFO:tensorflow:Assets written to: ./models/explore_idx/v2/retrained/v2/model/TMAS/close_EMA3_G_s2/assets\n",
      "WARNING:absl:<keras.layers.recurrent.LSTMCell object at 0x000001269AE79760> has the same name 'LSTMCell' as a built-in Keras object. Consider renaming <class 'keras.layers.recurrent.LSTMCell'> to avoid naming conflicts when loading with `tf.keras.models.load_model`. If renaming is not possible, pass the object in the `custom_objects` parameter of the load function.\n"
     ]
    },
    {
     "name": "stdout",
     "output_type": "stream",
     "text": [
      "Current progress: 265/300 TMAS close_EMA3_G_s2, time: 0:00:35.294161\n"
     ]
    },
    {
     "name": "stderr",
     "output_type": "stream",
     "text": [
      "WARNING:absl:Found untraced functions such as lstm_cell_270_layer_call_fn, lstm_cell_270_layer_call_and_return_conditional_losses, lstm_cell_270_layer_call_fn, lstm_cell_270_layer_call_and_return_conditional_losses, lstm_cell_270_layer_call_and_return_conditional_losses while saving (showing 5 of 5). These functions will not be directly callable after loading.\n"
     ]
    },
    {
     "name": "stdout",
     "output_type": "stream",
     "text": [
      "INFO:tensorflow:Assets written to: ./models/explore_idx/v2/retrained/v2/model/TMAS/close_EMA3_G_s1/assets\n"
     ]
    },
    {
     "name": "stderr",
     "output_type": "stream",
     "text": [
      "INFO:tensorflow:Assets written to: ./models/explore_idx/v2/retrained/v2/model/TMAS/close_EMA3_G_s1/assets\n",
      "WARNING:absl:<keras.layers.recurrent.LSTMCell object at 0x000001269D303FA0> has the same name 'LSTMCell' as a built-in Keras object. Consider renaming <class 'keras.layers.recurrent.LSTMCell'> to avoid naming conflicts when loading with `tf.keras.models.load_model`. If renaming is not possible, pass the object in the `custom_objects` parameter of the load function.\n"
     ]
    },
    {
     "name": "stdout",
     "output_type": "stream",
     "text": [
      "Current progress: 266/300 TMAS close_EMA3_G_s1, time: 0:00:36.669155\n"
     ]
    },
    {
     "name": "stderr",
     "output_type": "stream",
     "text": [
      "WARNING:absl:Found untraced functions such as lstm_cell_271_layer_call_fn, lstm_cell_271_layer_call_and_return_conditional_losses, lstm_cell_271_layer_call_fn, lstm_cell_271_layer_call_and_return_conditional_losses, lstm_cell_271_layer_call_and_return_conditional_losses while saving (showing 5 of 5). These functions will not be directly callable after loading.\n"
     ]
    },
    {
     "name": "stdout",
     "output_type": "stream",
     "text": [
      "INFO:tensorflow:Assets written to: ./models/explore_idx/v2/retrained/v2/model/TMAS/close_EMA10_G_s2/assets\n"
     ]
    },
    {
     "name": "stderr",
     "output_type": "stream",
     "text": [
      "INFO:tensorflow:Assets written to: ./models/explore_idx/v2/retrained/v2/model/TMAS/close_EMA10_G_s2/assets\n",
      "WARNING:absl:<keras.layers.recurrent.LSTMCell object at 0x000001269529B100> has the same name 'LSTMCell' as a built-in Keras object. Consider renaming <class 'keras.layers.recurrent.LSTMCell'> to avoid naming conflicts when loading with `tf.keras.models.load_model`. If renaming is not possible, pass the object in the `custom_objects` parameter of the load function.\n"
     ]
    },
    {
     "name": "stdout",
     "output_type": "stream",
     "text": [
      "Current progress: 267/300 TMAS close_EMA10_G_s2, time: 0:00:34.972316\n"
     ]
    },
    {
     "name": "stderr",
     "output_type": "stream",
     "text": [
      "WARNING:absl:Found untraced functions such as lstm_cell_272_layer_call_fn, lstm_cell_272_layer_call_and_return_conditional_losses, lstm_cell_272_layer_call_fn, lstm_cell_272_layer_call_and_return_conditional_losses, lstm_cell_272_layer_call_and_return_conditional_losses while saving (showing 5 of 5). These functions will not be directly callable after loading.\n"
     ]
    },
    {
     "name": "stdout",
     "output_type": "stream",
     "text": [
      "INFO:tensorflow:Assets written to: ./models/explore_idx/v2/retrained/v2/model/MAIN/close_EMA3_G_s2/assets\n"
     ]
    },
    {
     "name": "stderr",
     "output_type": "stream",
     "text": [
      "INFO:tensorflow:Assets written to: ./models/explore_idx/v2/retrained/v2/model/MAIN/close_EMA3_G_s2/assets\n",
      "WARNING:absl:<keras.layers.recurrent.LSTMCell object at 0x00000126933E9850> has the same name 'LSTMCell' as a built-in Keras object. Consider renaming <class 'keras.layers.recurrent.LSTMCell'> to avoid naming conflicts when loading with `tf.keras.models.load_model`. If renaming is not possible, pass the object in the `custom_objects` parameter of the load function.\n"
     ]
    },
    {
     "name": "stdout",
     "output_type": "stream",
     "text": [
      "Current progress: 268/300 MAIN close_EMA3_G_s2, time: 0:00:36.176898\n"
     ]
    },
    {
     "name": "stderr",
     "output_type": "stream",
     "text": [
      "WARNING:absl:Found untraced functions such as lstm_cell_273_layer_call_fn, lstm_cell_273_layer_call_and_return_conditional_losses, lstm_cell_273_layer_call_fn, lstm_cell_273_layer_call_and_return_conditional_losses, lstm_cell_273_layer_call_and_return_conditional_losses while saving (showing 5 of 5). These functions will not be directly callable after loading.\n"
     ]
    },
    {
     "name": "stdout",
     "output_type": "stream",
     "text": [
      "INFO:tensorflow:Assets written to: ./models/explore_idx/v2/retrained/v2/model/MAIN/close_EMA3_G_s1/assets\n"
     ]
    },
    {
     "name": "stderr",
     "output_type": "stream",
     "text": [
      "INFO:tensorflow:Assets written to: ./models/explore_idx/v2/retrained/v2/model/MAIN/close_EMA3_G_s1/assets\n",
      "WARNING:absl:<keras.layers.recurrent.LSTMCell object at 0x00000126A0BBE130> has the same name 'LSTMCell' as a built-in Keras object. Consider renaming <class 'keras.layers.recurrent.LSTMCell'> to avoid naming conflicts when loading with `tf.keras.models.load_model`. If renaming is not possible, pass the object in the `custom_objects` parameter of the load function.\n"
     ]
    },
    {
     "name": "stdout",
     "output_type": "stream",
     "text": [
      "Current progress: 269/300 MAIN close_EMA3_G_s1, time: 0:00:34.292342\n"
     ]
    },
    {
     "name": "stderr",
     "output_type": "stream",
     "text": [
      "WARNING:absl:Found untraced functions such as lstm_cell_274_layer_call_fn, lstm_cell_274_layer_call_and_return_conditional_losses, lstm_cell_274_layer_call_fn, lstm_cell_274_layer_call_and_return_conditional_losses, lstm_cell_274_layer_call_and_return_conditional_losses while saving (showing 5 of 5). These functions will not be directly callable after loading.\n"
     ]
    },
    {
     "name": "stdout",
     "output_type": "stream",
     "text": [
      "INFO:tensorflow:Assets written to: ./models/explore_idx/v2/retrained/v2/model/MAIN/close_EMA10_G_s2/assets\n"
     ]
    },
    {
     "name": "stderr",
     "output_type": "stream",
     "text": [
      "INFO:tensorflow:Assets written to: ./models/explore_idx/v2/retrained/v2/model/MAIN/close_EMA10_G_s2/assets\n",
      "WARNING:absl:<keras.layers.recurrent.LSTMCell object at 0x000001269304D9A0> has the same name 'LSTMCell' as a built-in Keras object. Consider renaming <class 'keras.layers.recurrent.LSTMCell'> to avoid naming conflicts when loading with `tf.keras.models.load_model`. If renaming is not possible, pass the object in the `custom_objects` parameter of the load function.\n"
     ]
    },
    {
     "name": "stdout",
     "output_type": "stream",
     "text": [
      "Current progress: 270/300 MAIN close_EMA10_G_s2, time: 0:00:35.905702\n"
     ]
    },
    {
     "name": "stderr",
     "output_type": "stream",
     "text": [
      "WARNING:absl:Found untraced functions such as lstm_cell_275_layer_call_fn, lstm_cell_275_layer_call_and_return_conditional_losses, lstm_cell_275_layer_call_fn, lstm_cell_275_layer_call_and_return_conditional_losses, lstm_cell_275_layer_call_and_return_conditional_losses while saving (showing 5 of 5). These functions will not be directly callable after loading.\n"
     ]
    },
    {
     "name": "stdout",
     "output_type": "stream",
     "text": [
      "INFO:tensorflow:Assets written to: ./models/explore_idx/v2/retrained/v2/model/KAEF/close_EMA3_G_s2/assets\n"
     ]
    },
    {
     "name": "stderr",
     "output_type": "stream",
     "text": [
      "INFO:tensorflow:Assets written to: ./models/explore_idx/v2/retrained/v2/model/KAEF/close_EMA3_G_s2/assets\n",
      "WARNING:absl:<keras.layers.recurrent.LSTMCell object at 0x00000126908A48E0> has the same name 'LSTMCell' as a built-in Keras object. Consider renaming <class 'keras.layers.recurrent.LSTMCell'> to avoid naming conflicts when loading with `tf.keras.models.load_model`. If renaming is not possible, pass the object in the `custom_objects` parameter of the load function.\n"
     ]
    },
    {
     "name": "stdout",
     "output_type": "stream",
     "text": [
      "Current progress: 271/300 KAEF close_EMA3_G_s2, time: 0:00:36.202274\n"
     ]
    },
    {
     "name": "stderr",
     "output_type": "stream",
     "text": [
      "WARNING:absl:Found untraced functions such as lstm_cell_276_layer_call_fn, lstm_cell_276_layer_call_and_return_conditional_losses, lstm_cell_276_layer_call_fn, lstm_cell_276_layer_call_and_return_conditional_losses, lstm_cell_276_layer_call_and_return_conditional_losses while saving (showing 5 of 5). These functions will not be directly callable after loading.\n"
     ]
    },
    {
     "name": "stdout",
     "output_type": "stream",
     "text": [
      "INFO:tensorflow:Assets written to: ./models/explore_idx/v2/retrained/v2/model/KAEF/close_EMA3_G_s1/assets\n"
     ]
    },
    {
     "name": "stderr",
     "output_type": "stream",
     "text": [
      "INFO:tensorflow:Assets written to: ./models/explore_idx/v2/retrained/v2/model/KAEF/close_EMA3_G_s1/assets\n",
      "WARNING:absl:<keras.layers.recurrent.LSTMCell object at 0x0000012699C255B0> has the same name 'LSTMCell' as a built-in Keras object. Consider renaming <class 'keras.layers.recurrent.LSTMCell'> to avoid naming conflicts when loading with `tf.keras.models.load_model`. If renaming is not possible, pass the object in the `custom_objects` parameter of the load function.\n"
     ]
    },
    {
     "name": "stdout",
     "output_type": "stream",
     "text": [
      "Current progress: 272/300 KAEF close_EMA3_G_s1, time: 0:00:37.147798\n"
     ]
    },
    {
     "name": "stderr",
     "output_type": "stream",
     "text": [
      "WARNING:absl:Found untraced functions such as lstm_cell_277_layer_call_fn, lstm_cell_277_layer_call_and_return_conditional_losses, lstm_cell_277_layer_call_fn, lstm_cell_277_layer_call_and_return_conditional_losses, lstm_cell_277_layer_call_and_return_conditional_losses while saving (showing 5 of 5). These functions will not be directly callable after loading.\n"
     ]
    },
    {
     "name": "stdout",
     "output_type": "stream",
     "text": [
      "INFO:tensorflow:Assets written to: ./models/explore_idx/v2/retrained/v2/model/KAEF/close_EMA10_G_s2/assets\n"
     ]
    },
    {
     "name": "stderr",
     "output_type": "stream",
     "text": [
      "INFO:tensorflow:Assets written to: ./models/explore_idx/v2/retrained/v2/model/KAEF/close_EMA10_G_s2/assets\n",
      "WARNING:absl:<keras.layers.recurrent.LSTMCell object at 0x000001268DC95D60> has the same name 'LSTMCell' as a built-in Keras object. Consider renaming <class 'keras.layers.recurrent.LSTMCell'> to avoid naming conflicts when loading with `tf.keras.models.load_model`. If renaming is not possible, pass the object in the `custom_objects` parameter of the load function.\n"
     ]
    },
    {
     "name": "stdout",
     "output_type": "stream",
     "text": [
      "Current progress: 273/300 KAEF close_EMA10_G_s2, time: 0:00:35.212232\n"
     ]
    },
    {
     "name": "stderr",
     "output_type": "stream",
     "text": [
      "WARNING:absl:Found untraced functions such as lstm_cell_278_layer_call_fn, lstm_cell_278_layer_call_and_return_conditional_losses, lstm_cell_278_layer_call_fn, lstm_cell_278_layer_call_and_return_conditional_losses, lstm_cell_278_layer_call_and_return_conditional_losses while saving (showing 5 of 5). These functions will not be directly callable after loading.\n"
     ]
    },
    {
     "name": "stdout",
     "output_type": "stream",
     "text": [
      "INFO:tensorflow:Assets written to: ./models/explore_idx/v2/retrained/v2/model/EXCL/close_EMA3_G_s2/assets\n"
     ]
    },
    {
     "name": "stderr",
     "output_type": "stream",
     "text": [
      "INFO:tensorflow:Assets written to: ./models/explore_idx/v2/retrained/v2/model/EXCL/close_EMA3_G_s2/assets\n",
      "WARNING:absl:<keras.layers.recurrent.LSTMCell object at 0x000001268AB85A30> has the same name 'LSTMCell' as a built-in Keras object. Consider renaming <class 'keras.layers.recurrent.LSTMCell'> to avoid naming conflicts when loading with `tf.keras.models.load_model`. If renaming is not possible, pass the object in the `custom_objects` parameter of the load function.\n"
     ]
    },
    {
     "name": "stdout",
     "output_type": "stream",
     "text": [
      "Current progress: 274/300 EXCL close_EMA3_G_s2, time: 0:00:37.116255\n"
     ]
    },
    {
     "name": "stderr",
     "output_type": "stream",
     "text": [
      "WARNING:absl:Found untraced functions such as lstm_cell_279_layer_call_fn, lstm_cell_279_layer_call_and_return_conditional_losses, lstm_cell_279_layer_call_fn, lstm_cell_279_layer_call_and_return_conditional_losses, lstm_cell_279_layer_call_and_return_conditional_losses while saving (showing 5 of 5). These functions will not be directly callable after loading.\n"
     ]
    },
    {
     "name": "stdout",
     "output_type": "stream",
     "text": [
      "INFO:tensorflow:Assets written to: ./models/explore_idx/v2/retrained/v2/model/EXCL/close_EMA3_G_s1/assets\n"
     ]
    },
    {
     "name": "stderr",
     "output_type": "stream",
     "text": [
      "INFO:tensorflow:Assets written to: ./models/explore_idx/v2/retrained/v2/model/EXCL/close_EMA3_G_s1/assets\n",
      "WARNING:absl:<keras.layers.recurrent.LSTMCell object at 0x000001268DA2A460> has the same name 'LSTMCell' as a built-in Keras object. Consider renaming <class 'keras.layers.recurrent.LSTMCell'> to avoid naming conflicts when loading with `tf.keras.models.load_model`. If renaming is not possible, pass the object in the `custom_objects` parameter of the load function.\n"
     ]
    },
    {
     "name": "stdout",
     "output_type": "stream",
     "text": [
      "Current progress: 275/300 EXCL close_EMA3_G_s1, time: 0:00:37.558541\n"
     ]
    },
    {
     "name": "stderr",
     "output_type": "stream",
     "text": [
      "WARNING:absl:Found untraced functions such as lstm_cell_280_layer_call_fn, lstm_cell_280_layer_call_and_return_conditional_losses, lstm_cell_280_layer_call_fn, lstm_cell_280_layer_call_and_return_conditional_losses, lstm_cell_280_layer_call_and_return_conditional_losses while saving (showing 5 of 5). These functions will not be directly callable after loading.\n"
     ]
    },
    {
     "name": "stdout",
     "output_type": "stream",
     "text": [
      "INFO:tensorflow:Assets written to: ./models/explore_idx/v2/retrained/v2/model/EXCL/close_EMA10_G_s2/assets\n"
     ]
    },
    {
     "name": "stderr",
     "output_type": "stream",
     "text": [
      "INFO:tensorflow:Assets written to: ./models/explore_idx/v2/retrained/v2/model/EXCL/close_EMA10_G_s2/assets\n",
      "WARNING:absl:<keras.layers.recurrent.LSTMCell object at 0x00000126F7E4D040> has the same name 'LSTMCell' as a built-in Keras object. Consider renaming <class 'keras.layers.recurrent.LSTMCell'> to avoid naming conflicts when loading with `tf.keras.models.load_model`. If renaming is not possible, pass the object in the `custom_objects` parameter of the load function.\n"
     ]
    },
    {
     "name": "stdout",
     "output_type": "stream",
     "text": [
      "Current progress: 276/300 EXCL close_EMA10_G_s2, time: 0:00:35.716620\n"
     ]
    },
    {
     "name": "stderr",
     "output_type": "stream",
     "text": [
      "WARNING:absl:Found untraced functions such as lstm_cell_281_layer_call_fn, lstm_cell_281_layer_call_and_return_conditional_losses, lstm_cell_281_layer_call_fn, lstm_cell_281_layer_call_and_return_conditional_losses, lstm_cell_281_layer_call_and_return_conditional_losses while saving (showing 5 of 5). These functions will not be directly callable after loading.\n"
     ]
    },
    {
     "name": "stdout",
     "output_type": "stream",
     "text": [
      "INFO:tensorflow:Assets written to: ./models/explore_idx/v2/retrained/v2/model/SMSM/close_EMA3_G_s2/assets\n"
     ]
    },
    {
     "name": "stderr",
     "output_type": "stream",
     "text": [
      "INFO:tensorflow:Assets written to: ./models/explore_idx/v2/retrained/v2/model/SMSM/close_EMA3_G_s2/assets\n",
      "WARNING:absl:<keras.layers.recurrent.LSTMCell object at 0x000001269BA177F0> has the same name 'LSTMCell' as a built-in Keras object. Consider renaming <class 'keras.layers.recurrent.LSTMCell'> to avoid naming conflicts when loading with `tf.keras.models.load_model`. If renaming is not possible, pass the object in the `custom_objects` parameter of the load function.\n"
     ]
    },
    {
     "name": "stdout",
     "output_type": "stream",
     "text": [
      "Current progress: 277/300 SMSM close_EMA3_G_s2, time: 0:00:37.324832\n"
     ]
    },
    {
     "name": "stderr",
     "output_type": "stream",
     "text": [
      "WARNING:absl:Found untraced functions such as lstm_cell_282_layer_call_fn, lstm_cell_282_layer_call_and_return_conditional_losses, lstm_cell_282_layer_call_fn, lstm_cell_282_layer_call_and_return_conditional_losses, lstm_cell_282_layer_call_and_return_conditional_losses while saving (showing 5 of 5). These functions will not be directly callable after loading.\n"
     ]
    },
    {
     "name": "stdout",
     "output_type": "stream",
     "text": [
      "INFO:tensorflow:Assets written to: ./models/explore_idx/v2/retrained/v2/model/SMSM/close_EMA3_G_s1/assets\n"
     ]
    },
    {
     "name": "stderr",
     "output_type": "stream",
     "text": [
      "INFO:tensorflow:Assets written to: ./models/explore_idx/v2/retrained/v2/model/SMSM/close_EMA3_G_s1/assets\n",
      "WARNING:absl:<keras.layers.recurrent.LSTMCell object at 0x0000012699D26C70> has the same name 'LSTMCell' as a built-in Keras object. Consider renaming <class 'keras.layers.recurrent.LSTMCell'> to avoid naming conflicts when loading with `tf.keras.models.load_model`. If renaming is not possible, pass the object in the `custom_objects` parameter of the load function.\n"
     ]
    },
    {
     "name": "stdout",
     "output_type": "stream",
     "text": [
      "Current progress: 278/300 SMSM close_EMA3_G_s1, time: 0:00:36.595719\n"
     ]
    },
    {
     "name": "stderr",
     "output_type": "stream",
     "text": [
      "WARNING:absl:Found untraced functions such as lstm_cell_283_layer_call_fn, lstm_cell_283_layer_call_and_return_conditional_losses, lstm_cell_283_layer_call_fn, lstm_cell_283_layer_call_and_return_conditional_losses, lstm_cell_283_layer_call_and_return_conditional_losses while saving (showing 5 of 5). These functions will not be directly callable after loading.\n"
     ]
    },
    {
     "name": "stdout",
     "output_type": "stream",
     "text": [
      "INFO:tensorflow:Assets written to: ./models/explore_idx/v2/retrained/v2/model/SMSM/close_EMA10_G_s2/assets\n"
     ]
    },
    {
     "name": "stderr",
     "output_type": "stream",
     "text": [
      "INFO:tensorflow:Assets written to: ./models/explore_idx/v2/retrained/v2/model/SMSM/close_EMA10_G_s2/assets\n",
      "WARNING:absl:<keras.layers.recurrent.LSTMCell object at 0x000001269E2F5280> has the same name 'LSTMCell' as a built-in Keras object. Consider renaming <class 'keras.layers.recurrent.LSTMCell'> to avoid naming conflicts when loading with `tf.keras.models.load_model`. If renaming is not possible, pass the object in the `custom_objects` parameter of the load function.\n"
     ]
    },
    {
     "name": "stdout",
     "output_type": "stream",
     "text": [
      "Current progress: 279/300 SMSM close_EMA10_G_s2, time: 0:00:36.232225\n"
     ]
    },
    {
     "name": "stderr",
     "output_type": "stream",
     "text": [
      "WARNING:absl:Found untraced functions such as lstm_cell_284_layer_call_fn, lstm_cell_284_layer_call_and_return_conditional_losses, lstm_cell_284_layer_call_fn, lstm_cell_284_layer_call_and_return_conditional_losses, lstm_cell_284_layer_call_and_return_conditional_losses while saving (showing 5 of 5). These functions will not be directly callable after loading.\n"
     ]
    },
    {
     "name": "stdout",
     "output_type": "stream",
     "text": [
      "INFO:tensorflow:Assets written to: ./models/explore_idx/v2/retrained/v2/model/LPPS/close_EMA3_G_s2/assets\n"
     ]
    },
    {
     "name": "stderr",
     "output_type": "stream",
     "text": [
      "INFO:tensorflow:Assets written to: ./models/explore_idx/v2/retrained/v2/model/LPPS/close_EMA3_G_s2/assets\n",
      "WARNING:absl:<keras.layers.recurrent.LSTMCell object at 0x000001268D14C550> has the same name 'LSTMCell' as a built-in Keras object. Consider renaming <class 'keras.layers.recurrent.LSTMCell'> to avoid naming conflicts when loading with `tf.keras.models.load_model`. If renaming is not possible, pass the object in the `custom_objects` parameter of the load function.\n"
     ]
    },
    {
     "name": "stdout",
     "output_type": "stream",
     "text": [
      "Current progress: 280/300 LPPS close_EMA3_G_s2, time: 0:00:37.384932\n"
     ]
    },
    {
     "name": "stderr",
     "output_type": "stream",
     "text": [
      "WARNING:absl:Found untraced functions such as lstm_cell_285_layer_call_fn, lstm_cell_285_layer_call_and_return_conditional_losses, lstm_cell_285_layer_call_fn, lstm_cell_285_layer_call_and_return_conditional_losses, lstm_cell_285_layer_call_and_return_conditional_losses while saving (showing 5 of 5). These functions will not be directly callable after loading.\n"
     ]
    },
    {
     "name": "stdout",
     "output_type": "stream",
     "text": [
      "INFO:tensorflow:Assets written to: ./models/explore_idx/v2/retrained/v2/model/LPPS/close_EMA3_G_s1/assets\n"
     ]
    },
    {
     "name": "stderr",
     "output_type": "stream",
     "text": [
      "INFO:tensorflow:Assets written to: ./models/explore_idx/v2/retrained/v2/model/LPPS/close_EMA3_G_s1/assets\n",
      "WARNING:absl:<keras.layers.recurrent.LSTMCell object at 0x000001268D1F2C10> has the same name 'LSTMCell' as a built-in Keras object. Consider renaming <class 'keras.layers.recurrent.LSTMCell'> to avoid naming conflicts when loading with `tf.keras.models.load_model`. If renaming is not possible, pass the object in the `custom_objects` parameter of the load function.\n"
     ]
    },
    {
     "name": "stdout",
     "output_type": "stream",
     "text": [
      "Current progress: 281/300 LPPS close_EMA3_G_s1, time: 0:00:36.107547\n"
     ]
    },
    {
     "name": "stderr",
     "output_type": "stream",
     "text": [
      "WARNING:absl:Found untraced functions such as lstm_cell_286_layer_call_fn, lstm_cell_286_layer_call_and_return_conditional_losses, lstm_cell_286_layer_call_fn, lstm_cell_286_layer_call_and_return_conditional_losses, lstm_cell_286_layer_call_and_return_conditional_losses while saving (showing 5 of 5). These functions will not be directly callable after loading.\n"
     ]
    },
    {
     "name": "stdout",
     "output_type": "stream",
     "text": [
      "INFO:tensorflow:Assets written to: ./models/explore_idx/v2/retrained/v2/model/LPPS/close_EMA10_G_s2/assets\n"
     ]
    },
    {
     "name": "stderr",
     "output_type": "stream",
     "text": [
      "INFO:tensorflow:Assets written to: ./models/explore_idx/v2/retrained/v2/model/LPPS/close_EMA10_G_s2/assets\n",
      "WARNING:absl:<keras.layers.recurrent.LSTMCell object at 0x00000126EFE35F70> has the same name 'LSTMCell' as a built-in Keras object. Consider renaming <class 'keras.layers.recurrent.LSTMCell'> to avoid naming conflicts when loading with `tf.keras.models.load_model`. If renaming is not possible, pass the object in the `custom_objects` parameter of the load function.\n"
     ]
    },
    {
     "name": "stdout",
     "output_type": "stream",
     "text": [
      "Current progress: 282/300 LPPS close_EMA10_G_s2, time: 0:00:38.221661\n"
     ]
    },
    {
     "name": "stderr",
     "output_type": "stream",
     "text": [
      "WARNING:absl:Found untraced functions such as lstm_cell_287_layer_call_fn, lstm_cell_287_layer_call_and_return_conditional_losses, lstm_cell_287_layer_call_fn, lstm_cell_287_layer_call_and_return_conditional_losses, lstm_cell_287_layer_call_and_return_conditional_losses while saving (showing 5 of 5). These functions will not be directly callable after loading.\n"
     ]
    },
    {
     "name": "stdout",
     "output_type": "stream",
     "text": [
      "INFO:tensorflow:Assets written to: ./models/explore_idx/v2/retrained/v2/model/POLY/close_EMA3_G_s2/assets\n"
     ]
    },
    {
     "name": "stderr",
     "output_type": "stream",
     "text": [
      "INFO:tensorflow:Assets written to: ./models/explore_idx/v2/retrained/v2/model/POLY/close_EMA3_G_s2/assets\n",
      "WARNING:absl:<keras.layers.recurrent.LSTMCell object at 0x0000012682D12AC0> has the same name 'LSTMCell' as a built-in Keras object. Consider renaming <class 'keras.layers.recurrent.LSTMCell'> to avoid naming conflicts when loading with `tf.keras.models.load_model`. If renaming is not possible, pass the object in the `custom_objects` parameter of the load function.\n"
     ]
    },
    {
     "name": "stdout",
     "output_type": "stream",
     "text": [
      "Current progress: 283/300 POLY close_EMA3_G_s2, time: 0:00:35.354754\n"
     ]
    },
    {
     "name": "stderr",
     "output_type": "stream",
     "text": [
      "WARNING:absl:Found untraced functions such as lstm_cell_288_layer_call_fn, lstm_cell_288_layer_call_and_return_conditional_losses, lstm_cell_288_layer_call_fn, lstm_cell_288_layer_call_and_return_conditional_losses, lstm_cell_288_layer_call_and_return_conditional_losses while saving (showing 5 of 5). These functions will not be directly callable after loading.\n"
     ]
    },
    {
     "name": "stdout",
     "output_type": "stream",
     "text": [
      "INFO:tensorflow:Assets written to: ./models/explore_idx/v2/retrained/v2/model/POLY/close_EMA3_G_s1/assets\n"
     ]
    },
    {
     "name": "stderr",
     "output_type": "stream",
     "text": [
      "INFO:tensorflow:Assets written to: ./models/explore_idx/v2/retrained/v2/model/POLY/close_EMA3_G_s1/assets\n",
      "WARNING:absl:<keras.layers.recurrent.LSTMCell object at 0x000001269B768DF0> has the same name 'LSTMCell' as a built-in Keras object. Consider renaming <class 'keras.layers.recurrent.LSTMCell'> to avoid naming conflicts when loading with `tf.keras.models.load_model`. If renaming is not possible, pass the object in the `custom_objects` parameter of the load function.\n"
     ]
    },
    {
     "name": "stdout",
     "output_type": "stream",
     "text": [
      "Current progress: 284/300 POLY close_EMA3_G_s1, time: 0:00:36.341491\n"
     ]
    },
    {
     "name": "stderr",
     "output_type": "stream",
     "text": [
      "WARNING:absl:Found untraced functions such as lstm_cell_289_layer_call_fn, lstm_cell_289_layer_call_and_return_conditional_losses, lstm_cell_289_layer_call_fn, lstm_cell_289_layer_call_and_return_conditional_losses, lstm_cell_289_layer_call_and_return_conditional_losses while saving (showing 5 of 5). These functions will not be directly callable after loading.\n"
     ]
    },
    {
     "name": "stdout",
     "output_type": "stream",
     "text": [
      "INFO:tensorflow:Assets written to: ./models/explore_idx/v2/retrained/v2/model/POLY/close_EMA10_G_s2/assets\n"
     ]
    },
    {
     "name": "stderr",
     "output_type": "stream",
     "text": [
      "INFO:tensorflow:Assets written to: ./models/explore_idx/v2/retrained/v2/model/POLY/close_EMA10_G_s2/assets\n",
      "WARNING:absl:<keras.layers.recurrent.LSTMCell object at 0x000001269E3B3C40> has the same name 'LSTMCell' as a built-in Keras object. Consider renaming <class 'keras.layers.recurrent.LSTMCell'> to avoid naming conflicts when loading with `tf.keras.models.load_model`. If renaming is not possible, pass the object in the `custom_objects` parameter of the load function.\n"
     ]
    },
    {
     "name": "stdout",
     "output_type": "stream",
     "text": [
      "Current progress: 285/300 POLY close_EMA10_G_s2, time: 0:00:37.459783\n"
     ]
    },
    {
     "name": "stderr",
     "output_type": "stream",
     "text": [
      "WARNING:absl:Found untraced functions such as lstm_cell_290_layer_call_fn, lstm_cell_290_layer_call_and_return_conditional_losses, lstm_cell_290_layer_call_fn, lstm_cell_290_layer_call_and_return_conditional_losses, lstm_cell_290_layer_call_and_return_conditional_losses while saving (showing 5 of 5). These functions will not be directly callable after loading.\n"
     ]
    },
    {
     "name": "stdout",
     "output_type": "stream",
     "text": [
      "INFO:tensorflow:Assets written to: ./models/explore_idx/v2/retrained/v2/model/KBLI/close_EMA3_G_s2/assets\n"
     ]
    },
    {
     "name": "stderr",
     "output_type": "stream",
     "text": [
      "INFO:tensorflow:Assets written to: ./models/explore_idx/v2/retrained/v2/model/KBLI/close_EMA3_G_s2/assets\n",
      "WARNING:absl:<keras.layers.recurrent.LSTMCell object at 0x000001269DEFF8B0> has the same name 'LSTMCell' as a built-in Keras object. Consider renaming <class 'keras.layers.recurrent.LSTMCell'> to avoid naming conflicts when loading with `tf.keras.models.load_model`. If renaming is not possible, pass the object in the `custom_objects` parameter of the load function.\n"
     ]
    },
    {
     "name": "stdout",
     "output_type": "stream",
     "text": [
      "Current progress: 286/300 KBLI close_EMA3_G_s2, time: 0:00:37.890934\n"
     ]
    },
    {
     "name": "stderr",
     "output_type": "stream",
     "text": [
      "WARNING:absl:Found untraced functions such as lstm_cell_291_layer_call_fn, lstm_cell_291_layer_call_and_return_conditional_losses, lstm_cell_291_layer_call_fn, lstm_cell_291_layer_call_and_return_conditional_losses, lstm_cell_291_layer_call_and_return_conditional_losses while saving (showing 5 of 5). These functions will not be directly callable after loading.\n"
     ]
    },
    {
     "name": "stdout",
     "output_type": "stream",
     "text": [
      "INFO:tensorflow:Assets written to: ./models/explore_idx/v2/retrained/v2/model/KBLI/close_EMA3_G_s1/assets\n"
     ]
    },
    {
     "name": "stderr",
     "output_type": "stream",
     "text": [
      "INFO:tensorflow:Assets written to: ./models/explore_idx/v2/retrained/v2/model/KBLI/close_EMA3_G_s1/assets\n",
      "WARNING:absl:<keras.layers.recurrent.LSTMCell object at 0x00000126898D8280> has the same name 'LSTMCell' as a built-in Keras object. Consider renaming <class 'keras.layers.recurrent.LSTMCell'> to avoid naming conflicts when loading with `tf.keras.models.load_model`. If renaming is not possible, pass the object in the `custom_objects` parameter of the load function.\n"
     ]
    },
    {
     "name": "stdout",
     "output_type": "stream",
     "text": [
      "Current progress: 287/300 KBLI close_EMA3_G_s1, time: 0:00:36.235533\n"
     ]
    },
    {
     "name": "stderr",
     "output_type": "stream",
     "text": [
      "WARNING:absl:Found untraced functions such as lstm_cell_292_layer_call_fn, lstm_cell_292_layer_call_and_return_conditional_losses, lstm_cell_292_layer_call_fn, lstm_cell_292_layer_call_and_return_conditional_losses, lstm_cell_292_layer_call_and_return_conditional_losses while saving (showing 5 of 5). These functions will not be directly callable after loading.\n"
     ]
    },
    {
     "name": "stdout",
     "output_type": "stream",
     "text": [
      "INFO:tensorflow:Assets written to: ./models/explore_idx/v2/retrained/v2/model/KBLI/close_EMA10_G_s2/assets\n"
     ]
    },
    {
     "name": "stderr",
     "output_type": "stream",
     "text": [
      "INFO:tensorflow:Assets written to: ./models/explore_idx/v2/retrained/v2/model/KBLI/close_EMA10_G_s2/assets\n",
      "WARNING:absl:<keras.layers.recurrent.LSTMCell object at 0x00000126951A45B0> has the same name 'LSTMCell' as a built-in Keras object. Consider renaming <class 'keras.layers.recurrent.LSTMCell'> to avoid naming conflicts when loading with `tf.keras.models.load_model`. If renaming is not possible, pass the object in the `custom_objects` parameter of the load function.\n"
     ]
    },
    {
     "name": "stdout",
     "output_type": "stream",
     "text": [
      "Current progress: 288/300 KBLI close_EMA10_G_s2, time: 0:00:36.408301\n"
     ]
    },
    {
     "name": "stderr",
     "output_type": "stream",
     "text": [
      "WARNING:absl:Found untraced functions such as lstm_cell_293_layer_call_fn, lstm_cell_293_layer_call_and_return_conditional_losses, lstm_cell_293_layer_call_fn, lstm_cell_293_layer_call_and_return_conditional_losses, lstm_cell_293_layer_call_and_return_conditional_losses while saving (showing 5 of 5). These functions will not be directly callable after loading.\n"
     ]
    },
    {
     "name": "stdout",
     "output_type": "stream",
     "text": [
      "INFO:tensorflow:Assets written to: ./models/explore_idx/v2/retrained/v2/model/UNSP/close_EMA3_G_s2/assets\n"
     ]
    },
    {
     "name": "stderr",
     "output_type": "stream",
     "text": [
      "INFO:tensorflow:Assets written to: ./models/explore_idx/v2/retrained/v2/model/UNSP/close_EMA3_G_s2/assets\n",
      "WARNING:absl:<keras.layers.recurrent.LSTMCell object at 0x0000012694E12820> has the same name 'LSTMCell' as a built-in Keras object. Consider renaming <class 'keras.layers.recurrent.LSTMCell'> to avoid naming conflicts when loading with `tf.keras.models.load_model`. If renaming is not possible, pass the object in the `custom_objects` parameter of the load function.\n"
     ]
    },
    {
     "name": "stdout",
     "output_type": "stream",
     "text": [
      "Current progress: 289/300 UNSP close_EMA3_G_s2, time: 0:00:36.670538\n"
     ]
    },
    {
     "name": "stderr",
     "output_type": "stream",
     "text": [
      "WARNING:absl:Found untraced functions such as lstm_cell_294_layer_call_fn, lstm_cell_294_layer_call_and_return_conditional_losses, lstm_cell_294_layer_call_fn, lstm_cell_294_layer_call_and_return_conditional_losses, lstm_cell_294_layer_call_and_return_conditional_losses while saving (showing 5 of 5). These functions will not be directly callable after loading.\n"
     ]
    },
    {
     "name": "stdout",
     "output_type": "stream",
     "text": [
      "INFO:tensorflow:Assets written to: ./models/explore_idx/v2/retrained/v2/model/UNSP/close_EMA3_G_s1/assets\n"
     ]
    },
    {
     "name": "stderr",
     "output_type": "stream",
     "text": [
      "INFO:tensorflow:Assets written to: ./models/explore_idx/v2/retrained/v2/model/UNSP/close_EMA3_G_s1/assets\n",
      "WARNING:absl:<keras.layers.recurrent.LSTMCell object at 0x00000126898979A0> has the same name 'LSTMCell' as a built-in Keras object. Consider renaming <class 'keras.layers.recurrent.LSTMCell'> to avoid naming conflicts when loading with `tf.keras.models.load_model`. If renaming is not possible, pass the object in the `custom_objects` parameter of the load function.\n"
     ]
    },
    {
     "name": "stdout",
     "output_type": "stream",
     "text": [
      "Current progress: 290/300 UNSP close_EMA3_G_s1, time: 0:00:36.289417\n"
     ]
    },
    {
     "name": "stderr",
     "output_type": "stream",
     "text": [
      "WARNING:absl:Found untraced functions such as lstm_cell_295_layer_call_fn, lstm_cell_295_layer_call_and_return_conditional_losses, lstm_cell_295_layer_call_fn, lstm_cell_295_layer_call_and_return_conditional_losses, lstm_cell_295_layer_call_and_return_conditional_losses while saving (showing 5 of 5). These functions will not be directly callable after loading.\n"
     ]
    },
    {
     "name": "stdout",
     "output_type": "stream",
     "text": [
      "INFO:tensorflow:Assets written to: ./models/explore_idx/v2/retrained/v2/model/UNSP/close_EMA10_G_s2/assets\n"
     ]
    },
    {
     "name": "stderr",
     "output_type": "stream",
     "text": [
      "INFO:tensorflow:Assets written to: ./models/explore_idx/v2/retrained/v2/model/UNSP/close_EMA10_G_s2/assets\n",
      "WARNING:absl:<keras.layers.recurrent.LSTMCell object at 0x00000126EF1A6070> has the same name 'LSTMCell' as a built-in Keras object. Consider renaming <class 'keras.layers.recurrent.LSTMCell'> to avoid naming conflicts when loading with `tf.keras.models.load_model`. If renaming is not possible, pass the object in the `custom_objects` parameter of the load function.\n"
     ]
    },
    {
     "name": "stdout",
     "output_type": "stream",
     "text": [
      "Current progress: 291/300 UNSP close_EMA10_G_s2, time: 0:00:36.195302\n"
     ]
    },
    {
     "name": "stderr",
     "output_type": "stream",
     "text": [
      "WARNING:absl:Found untraced functions such as lstm_cell_296_layer_call_fn, lstm_cell_296_layer_call_and_return_conditional_losses, lstm_cell_296_layer_call_fn, lstm_cell_296_layer_call_and_return_conditional_losses, lstm_cell_296_layer_call_and_return_conditional_losses while saving (showing 5 of 5). These functions will not be directly callable after loading.\n"
     ]
    },
    {
     "name": "stdout",
     "output_type": "stream",
     "text": [
      "INFO:tensorflow:Assets written to: ./models/explore_idx/v2/retrained/v2/model/PKPK/close_EMA3_G_s2/assets\n"
     ]
    },
    {
     "name": "stderr",
     "output_type": "stream",
     "text": [
      "INFO:tensorflow:Assets written to: ./models/explore_idx/v2/retrained/v2/model/PKPK/close_EMA3_G_s2/assets\n",
      "WARNING:absl:<keras.layers.recurrent.LSTMCell object at 0x000001269B738430> has the same name 'LSTMCell' as a built-in Keras object. Consider renaming <class 'keras.layers.recurrent.LSTMCell'> to avoid naming conflicts when loading with `tf.keras.models.load_model`. If renaming is not possible, pass the object in the `custom_objects` parameter of the load function.\n"
     ]
    },
    {
     "name": "stdout",
     "output_type": "stream",
     "text": [
      "Current progress: 292/300 PKPK close_EMA3_G_s2, time: 0:00:36.225309\n"
     ]
    },
    {
     "name": "stderr",
     "output_type": "stream",
     "text": [
      "WARNING:absl:Found untraced functions such as lstm_cell_297_layer_call_fn, lstm_cell_297_layer_call_and_return_conditional_losses, lstm_cell_297_layer_call_fn, lstm_cell_297_layer_call_and_return_conditional_losses, lstm_cell_297_layer_call_and_return_conditional_losses while saving (showing 5 of 5). These functions will not be directly callable after loading.\n"
     ]
    },
    {
     "name": "stdout",
     "output_type": "stream",
     "text": [
      "INFO:tensorflow:Assets written to: ./models/explore_idx/v2/retrained/v2/model/PKPK/close_EMA3_G_s1/assets\n"
     ]
    },
    {
     "name": "stderr",
     "output_type": "stream",
     "text": [
      "INFO:tensorflow:Assets written to: ./models/explore_idx/v2/retrained/v2/model/PKPK/close_EMA3_G_s1/assets\n",
      "WARNING:absl:<keras.layers.recurrent.LSTMCell object at 0x000001268D437610> has the same name 'LSTMCell' as a built-in Keras object. Consider renaming <class 'keras.layers.recurrent.LSTMCell'> to avoid naming conflicts when loading with `tf.keras.models.load_model`. If renaming is not possible, pass the object in the `custom_objects` parameter of the load function.\n"
     ]
    },
    {
     "name": "stdout",
     "output_type": "stream",
     "text": [
      "Current progress: 293/300 PKPK close_EMA3_G_s1, time: 0:00:36.427631\n"
     ]
    },
    {
     "name": "stderr",
     "output_type": "stream",
     "text": [
      "WARNING:absl:Found untraced functions such as lstm_cell_298_layer_call_fn, lstm_cell_298_layer_call_and_return_conditional_losses, lstm_cell_298_layer_call_fn, lstm_cell_298_layer_call_and_return_conditional_losses, lstm_cell_298_layer_call_and_return_conditional_losses while saving (showing 5 of 5). These functions will not be directly callable after loading.\n"
     ]
    },
    {
     "name": "stdout",
     "output_type": "stream",
     "text": [
      "INFO:tensorflow:Assets written to: ./models/explore_idx/v2/retrained/v2/model/PKPK/close_EMA10_G_s2/assets\n"
     ]
    },
    {
     "name": "stderr",
     "output_type": "stream",
     "text": [
      "INFO:tensorflow:Assets written to: ./models/explore_idx/v2/retrained/v2/model/PKPK/close_EMA10_G_s2/assets\n",
      "WARNING:absl:<keras.layers.recurrent.LSTMCell object at 0x000001269CE266D0> has the same name 'LSTMCell' as a built-in Keras object. Consider renaming <class 'keras.layers.recurrent.LSTMCell'> to avoid naming conflicts when loading with `tf.keras.models.load_model`. If renaming is not possible, pass the object in the `custom_objects` parameter of the load function.\n"
     ]
    },
    {
     "name": "stdout",
     "output_type": "stream",
     "text": [
      "Current progress: 294/300 PKPK close_EMA10_G_s2, time: 0:00:36.455990\n"
     ]
    },
    {
     "name": "stderr",
     "output_type": "stream",
     "text": [
      "WARNING:absl:Found untraced functions such as lstm_cell_299_layer_call_fn, lstm_cell_299_layer_call_and_return_conditional_losses, lstm_cell_299_layer_call_fn, lstm_cell_299_layer_call_and_return_conditional_losses, lstm_cell_299_layer_call_and_return_conditional_losses while saving (showing 5 of 5). These functions will not be directly callable after loading.\n"
     ]
    },
    {
     "name": "stdout",
     "output_type": "stream",
     "text": [
      "INFO:tensorflow:Assets written to: ./models/explore_idx/v2/retrained/v2/model/BUDI/close_EMA3_G_s2/assets\n"
     ]
    },
    {
     "name": "stderr",
     "output_type": "stream",
     "text": [
      "INFO:tensorflow:Assets written to: ./models/explore_idx/v2/retrained/v2/model/BUDI/close_EMA3_G_s2/assets\n",
      "WARNING:absl:<keras.layers.recurrent.LSTMCell object at 0x0000012682356E80> has the same name 'LSTMCell' as a built-in Keras object. Consider renaming <class 'keras.layers.recurrent.LSTMCell'> to avoid naming conflicts when loading with `tf.keras.models.load_model`. If renaming is not possible, pass the object in the `custom_objects` parameter of the load function.\n"
     ]
    },
    {
     "name": "stdout",
     "output_type": "stream",
     "text": [
      "Current progress: 295/300 BUDI close_EMA3_G_s2, time: 0:00:36.431756\n"
     ]
    },
    {
     "name": "stderr",
     "output_type": "stream",
     "text": [
      "WARNING:absl:Found untraced functions such as lstm_cell_300_layer_call_fn, lstm_cell_300_layer_call_and_return_conditional_losses, lstm_cell_300_layer_call_fn, lstm_cell_300_layer_call_and_return_conditional_losses, lstm_cell_300_layer_call_and_return_conditional_losses while saving (showing 5 of 5). These functions will not be directly callable after loading.\n"
     ]
    },
    {
     "name": "stdout",
     "output_type": "stream",
     "text": [
      "INFO:tensorflow:Assets written to: ./models/explore_idx/v2/retrained/v2/model/BUDI/close_EMA3_G_s1/assets\n"
     ]
    },
    {
     "name": "stderr",
     "output_type": "stream",
     "text": [
      "INFO:tensorflow:Assets written to: ./models/explore_idx/v2/retrained/v2/model/BUDI/close_EMA3_G_s1/assets\n",
      "WARNING:absl:<keras.layers.recurrent.LSTMCell object at 0x000001269AC9FA60> has the same name 'LSTMCell' as a built-in Keras object. Consider renaming <class 'keras.layers.recurrent.LSTMCell'> to avoid naming conflicts when loading with `tf.keras.models.load_model`. If renaming is not possible, pass the object in the `custom_objects` parameter of the load function.\n"
     ]
    },
    {
     "name": "stdout",
     "output_type": "stream",
     "text": [
      "Current progress: 296/300 BUDI close_EMA3_G_s1, time: 0:00:37.838585\n"
     ]
    },
    {
     "name": "stderr",
     "output_type": "stream",
     "text": [
      "WARNING:absl:Found untraced functions such as lstm_cell_301_layer_call_fn, lstm_cell_301_layer_call_and_return_conditional_losses, lstm_cell_301_layer_call_fn, lstm_cell_301_layer_call_and_return_conditional_losses, lstm_cell_301_layer_call_and_return_conditional_losses while saving (showing 5 of 5). These functions will not be directly callable after loading.\n"
     ]
    },
    {
     "name": "stdout",
     "output_type": "stream",
     "text": [
      "INFO:tensorflow:Assets written to: ./models/explore_idx/v2/retrained/v2/model/BUDI/close_EMA10_G_s2/assets\n"
     ]
    },
    {
     "name": "stderr",
     "output_type": "stream",
     "text": [
      "INFO:tensorflow:Assets written to: ./models/explore_idx/v2/retrained/v2/model/BUDI/close_EMA10_G_s2/assets\n",
      "WARNING:absl:<keras.layers.recurrent.LSTMCell object at 0x000001269C8EE070> has the same name 'LSTMCell' as a built-in Keras object. Consider renaming <class 'keras.layers.recurrent.LSTMCell'> to avoid naming conflicts when loading with `tf.keras.models.load_model`. If renaming is not possible, pass the object in the `custom_objects` parameter of the load function.\n"
     ]
    },
    {
     "name": "stdout",
     "output_type": "stream",
     "text": [
      "Current progress: 297/300 BUDI close_EMA10_G_s2, time: 0:00:36.681618\n"
     ]
    },
    {
     "name": "stderr",
     "output_type": "stream",
     "text": [
      "WARNING:absl:Found untraced functions such as lstm_cell_302_layer_call_fn, lstm_cell_302_layer_call_and_return_conditional_losses, lstm_cell_302_layer_call_fn, lstm_cell_302_layer_call_and_return_conditional_losses, lstm_cell_302_layer_call_and_return_conditional_losses while saving (showing 5 of 5). These functions will not be directly callable after loading.\n"
     ]
    },
    {
     "name": "stdout",
     "output_type": "stream",
     "text": [
      "INFO:tensorflow:Assets written to: ./models/explore_idx/v2/retrained/v2/model/CSAP/close_EMA3_G_s2/assets\n"
     ]
    },
    {
     "name": "stderr",
     "output_type": "stream",
     "text": [
      "INFO:tensorflow:Assets written to: ./models/explore_idx/v2/retrained/v2/model/CSAP/close_EMA3_G_s2/assets\n",
      "WARNING:absl:<keras.layers.recurrent.LSTMCell object at 0x0000012695777460> has the same name 'LSTMCell' as a built-in Keras object. Consider renaming <class 'keras.layers.recurrent.LSTMCell'> to avoid naming conflicts when loading with `tf.keras.models.load_model`. If renaming is not possible, pass the object in the `custom_objects` parameter of the load function.\n"
     ]
    },
    {
     "name": "stdout",
     "output_type": "stream",
     "text": [
      "Current progress: 298/300 CSAP close_EMA3_G_s2, time: 0:00:36.753134\n"
     ]
    },
    {
     "name": "stderr",
     "output_type": "stream",
     "text": [
      "WARNING:absl:Found untraced functions such as lstm_cell_303_layer_call_fn, lstm_cell_303_layer_call_and_return_conditional_losses, lstm_cell_303_layer_call_fn, lstm_cell_303_layer_call_and_return_conditional_losses, lstm_cell_303_layer_call_and_return_conditional_losses while saving (showing 5 of 5). These functions will not be directly callable after loading.\n"
     ]
    },
    {
     "name": "stdout",
     "output_type": "stream",
     "text": [
      "INFO:tensorflow:Assets written to: ./models/explore_idx/v2/retrained/v2/model/CSAP/close_EMA3_G_s1/assets\n"
     ]
    },
    {
     "name": "stderr",
     "output_type": "stream",
     "text": [
      "INFO:tensorflow:Assets written to: ./models/explore_idx/v2/retrained/v2/model/CSAP/close_EMA3_G_s1/assets\n",
      "WARNING:absl:<keras.layers.recurrent.LSTMCell object at 0x000001268B8CB7C0> has the same name 'LSTMCell' as a built-in Keras object. Consider renaming <class 'keras.layers.recurrent.LSTMCell'> to avoid naming conflicts when loading with `tf.keras.models.load_model`. If renaming is not possible, pass the object in the `custom_objects` parameter of the load function.\n"
     ]
    },
    {
     "name": "stdout",
     "output_type": "stream",
     "text": [
      "Current progress: 299/300 CSAP close_EMA3_G_s1, time: 0:00:37.356533\n"
     ]
    },
    {
     "name": "stderr",
     "output_type": "stream",
     "text": [
      "WARNING:absl:Found untraced functions such as lstm_cell_304_layer_call_fn, lstm_cell_304_layer_call_and_return_conditional_losses, lstm_cell_304_layer_call_fn, lstm_cell_304_layer_call_and_return_conditional_losses, lstm_cell_304_layer_call_and_return_conditional_losses while saving (showing 5 of 5). These functions will not be directly callable after loading.\n"
     ]
    },
    {
     "name": "stdout",
     "output_type": "stream",
     "text": [
      "INFO:tensorflow:Assets written to: ./models/explore_idx/v2/retrained/v2/model/CSAP/close_EMA10_G_s2/assets\n"
     ]
    },
    {
     "name": "stderr",
     "output_type": "stream",
     "text": [
      "INFO:tensorflow:Assets written to: ./models/explore_idx/v2/retrained/v2/model/CSAP/close_EMA10_G_s2/assets\n",
      "WARNING:absl:<keras.layers.recurrent.LSTMCell object at 0x000001269E307B80> has the same name 'LSTMCell' as a built-in Keras object. Consider renaming <class 'keras.layers.recurrent.LSTMCell'> to avoid naming conflicts when loading with `tf.keras.models.load_model`. If renaming is not possible, pass the object in the `custom_objects` parameter of the load function.\n"
     ]
    },
    {
     "name": "stdout",
     "output_type": "stream",
     "text": [
      "Current progress: 300/300 CSAP close_EMA10_G_s2, time: 0:00:37.072571\n"
     ]
    }
   ],
   "source": [
    "ROOT_PATH = core.os.path.join('./')\n",
    "DB_PATH = core.os.path.join(ROOT_PATH, 'idx_indicators.db')\n",
    "explore_version = 2\n",
    "retrain_version = 2\n",
    "interim_model = core.os.path.join(ROOT_PATH, f'models/explore_idx/v{explore_version}/interim/model/')\n",
    "interim_retrained = core.os.path.join(ROOT_PATH, f'models/explore_idx/v{explore_version}/retrained/v{retrain_version}/')\n",
    "label_columns = ['close_EMA3_G_s2', 'close_EMA3_G_s1', 'close_EMA10_G_s2']\n",
    "batch_size = 128\n",
    "train_shuffle = False\n",
    "data_limit = 5 # last x years\n",
    "epochs = 2\n",
    "\n",
    "db_conn = core.sqlite3.connect(DB_PATH)\n",
    "tickers = core.stock_list_100_highestrank_and_availability()\n",
    "\n",
    "# Fetch idx df for backtest\n",
    "start_date = core.datetime.datetime(2021,1,1)\n",
    "end_date = core.datetime.datetime(2021,8,31)\n",
    "idx_df = core.pd.read_sql('select * from IDX', db_conn)\n",
    "idx_df = idx_df.loc[(idx_df['time'] >= core.pd.Timestamp(start_date).value) & (idx_df['time'] <= core.pd.Timestamp(end_date).value)]\n",
    "idx_df = idx_df[['time']]\n",
    "\n",
    "histories = {}\n",
    "histories_path = core.os.path.join(interim_retrained, 'histories/')\n",
    "if not core.os.path.exists(histories_path):\n",
    "    core.os.makedirs(histories_path, mode=0o777)\n",
    "\n",
    "count = 0\n",
    "for ticker in tickers:\n",
    "    histories[ticker] = {}\n",
    "    \n",
    "    df = core.pd.read_sql(f'select * from {ticker}', db_conn)\n",
    "    df = df.fillna(0)\n",
    "    df = df[-250 * data_limit:]\n",
    "    df = df.reset_index(drop=True)\n",
    "    \n",
    "    train_df, test_df, train_mean, train_std = core.split_traintest(df, split=0.8)\n",
    "    train_df_input = core.drop_unallowed_columns(train_df)\n",
    "    test_df_input = core.drop_unallowed_columns(test_df)\n",
    "    \n",
    "    for label_column in label_columns:\n",
    "        tick = core.datetime.datetime.now()\n",
    "        histories[ticker][label_column] = {}\n",
    "        histories[ticker][label_column]['backtest'] = {}\n",
    "        model_path = core.os.path.join(interim_model, label_column)\n",
    "        model = core.tf.keras.models.load_model(model_path)\n",
    "        set_nontrainable_except_dense(model)\n",
    "        recurrent = model.layers[0].output.shape[1]\n",
    "        \n",
    "        input_c = [column for column in train_df_input.columns if column != label_column]\n",
    "        \n",
    "        train_dataset = core.TimeseriesGenerator(train_df[input_c], train_df[label_column], length=recurrent, batch_size=batch_size, shuffle=train_shuffle)\n",
    "        test_dataset = core.TimeseriesGenerator(test_df[input_c], test_df[label_column], length=recurrent, batch_size=batch_size)\n",
    "        \n",
    "        history = model.fit(train_dataset, validation_data=test_dataset, epochs=epochs, verbose=0)\n",
    "        \n",
    "        ## Backtest ##\n",
    "        # Fetch observed data\n",
    "        offset = int(label_column[-1])\n",
    "        obs_output_c = df.loc[((df['time'] >= core.pd.Timestamp(start_date).value) & (df['time'] <= core.pd.Timestamp(end_date).value))][label_column]\n",
    "        obs_change_plus1 = df.loc[((df['time'].shift(offset) >= core.pd.Timestamp(start_date).value) & (df['time'].shift(offset) <= core.pd.Timestamp(end_date).value))]['change']\n",
    "        \n",
    "        # Skip if no records exists during selected date\n",
    "        if len(obs_output_c) == 0:\n",
    "            pass\n",
    "        else:\n",
    "            # Make input dataset\n",
    "            train_mean_sliced = list(train_mean[train_df_input.columns].values)\n",
    "            train_std_sliced = list(train_std[train_df_input.columns].values)\n",
    "            train_output_mean = train_mean[label_column]\n",
    "            train_output_std = train_std[label_column]\n",
    "            multiple_shot_input_data, available_date = make_multiple_shot_input(idx_df, df, input_c, recurrent, train_mean_sliced, train_std_sliced)\n",
    "            \n",
    "            predicted = model.predict(multiple_shot_input_data)\n",
    "            predicted_unnormalize = predicted * train_output_std + train_output_mean\n",
    "            \n",
    "            histories[ticker][label_column]['backtest']['predicted_value'] = predicted_unnormalize.tolist()\n",
    "            histories[ticker][label_column]['backtest']['predicted_date'] = available_date\n",
    "            histories[ticker][label_column]['backtest']['observed_value'] = (obs_output_c.to_numpy()).tolist()\n",
    "            histories[ticker][label_column]['backtest']['observed_date'] = available_date\n",
    "            histories[ticker][label_column]['backtest']['start_date'] = start_date.strftime('%Y%m%d')\n",
    "            histories[ticker][label_column]['backtest']['end_date'] = end_date.strftime('%Y%m%d')\n",
    "            \n",
    "            if offset > 1:\n",
    "                histories[ticker][label_column]['backtest'][f'change_{offset}'] = (obs_change_plus1.to_numpy()).tolist()\n",
    "                histories[ticker][label_column]['backtest'][f'change_{offset}_date'] = available_date \n",
    "        \n",
    "        # Store to histories\n",
    "        histories[ticker][label_column]['params'] = history.params\n",
    "        histories[ticker][label_column]['history'] = history.history\n",
    "        histories[ticker][label_column]['train_mean'] = train_mean_sliced\n",
    "        histories[ticker][label_column]['train_std'] = train_std_sliced\n",
    "        \n",
    "        # Save model\n",
    "        model.save_weights(core.os.path.join(interim_retrained, f'weights/{ticker}/{label_column}/'))\n",
    "        model.save(core.os.path.join(interim_retrained, f'model/{ticker}/{label_column}/'))\n",
    "        \n",
    "        # Save histories to drive\n",
    "        with open(core.os.path.join(histories_path, 'histories.json'), 'w') as f:\n",
    "            core.json.dump(histories, f)\n",
    "            \n",
    "        count+=1\n",
    "        tock = core.datetime.datetime.now()\n",
    "        print(f'Current progress: {count}/{len(tickers) * len(label_columns)} {ticker} {label_column}, time: {tock - tick}')"
   ]
  },
  {
   "cell_type": "code",
   "execution_count": null,
   "id": "300a7457-6786-4884-a537-7900dc8d5d68",
   "metadata": {},
   "outputs": [],
   "source": [
    "predicted_unnormalize.tolist()"
   ]
  },
  {
   "cell_type": "code",
   "execution_count": null,
   "id": "a4d1b76c-16a4-4813-a5b2-dfdf7d63c4af",
   "metadata": {},
   "outputs": [],
   "source": []
  },
  {
   "cell_type": "code",
   "execution_count": null,
   "id": "ad49261d-1f81-484c-b387-369f9fec33c0",
   "metadata": {},
   "outputs": [],
   "source": []
  },
  {
   "cell_type": "code",
   "execution_count": null,
   "id": "4a795122-66fc-4078-ac01-872fc76149a2",
   "metadata": {},
   "outputs": [],
   "source": []
  },
  {
   "cell_type": "code",
   "execution_count": 36,
   "id": "a2480d1f-57b1-4cf5-8ad3-5fc6dc81fc2c",
   "metadata": {},
   "outputs": [
    {
     "data": {
      "text/plain": [
       "{'verbose': 1, 'epochs': 2, 'steps': 4}"
      ]
     },
     "execution_count": 36,
     "metadata": {},
     "output_type": "execute_result"
    }
   ],
   "source": [
    "history.params"
   ]
  },
  {
   "cell_type": "code",
   "execution_count": 38,
   "id": "86737721-85ca-45d4-be34-21b7a75b8e12",
   "metadata": {},
   "outputs": [
    {
     "data": {
      "text/plain": [
       "{'loss': [0.37176406383514404, 0.35951536893844604],\n",
       " 'mean_squared_error': [0.9626070857048035, 0.9239258766174316],\n",
       " 'root_mean_squared_error': [0.9811254143714905, 0.9612106084823608],\n",
       " 'val_loss': [0.2879769802093506, 0.2936418652534485],\n",
       " 'val_mean_squared_error': [0.6900486350059509, 0.704744279384613],\n",
       " 'val_root_mean_squared_error': [0.8306916356086731, 0.8394904732704163]}"
      ]
     },
     "execution_count": 38,
     "metadata": {},
     "output_type": "execute_result"
    }
   ],
   "source": [
    "history.history"
   ]
  },
  {
   "cell_type": "code",
   "execution_count": 54,
   "id": "2a523971-c031-4ae3-88bd-06f75a0b8124",
   "metadata": {},
   "outputs": [
    {
     "data": {
      "text/plain": [
       "1.494290644748844"
      ]
     },
     "execution_count": 54,
     "metadata": {},
     "output_type": "execute_result"
    }
   ],
   "source": [
    "train_mean['close_EMA3_G_s1']"
   ]
  },
  {
   "cell_type": "code",
   "execution_count": 53,
   "id": "644327b1-783f-4ad9-9e6f-57a2246583bb",
   "metadata": {},
   "outputs": [
    {
     "name": "stdout",
     "output_type": "stream",
     "text": [
      "2\n",
      "1\n",
      "2\n",
      "1\n"
     ]
    }
   ],
   "source": [
    "label_columns = ['close_EMA3_G_s2', 'close_EMA3_G_s1', 'close_EMA10_G_s2', 'close_EMA10_G_s1']\n",
    "for label_column in label_columns:\n",
    "    print(label_column[-1])"
   ]
  },
  {
   "cell_type": "code",
   "execution_count": null,
   "id": "50df8c48-c63e-4114-a0c6-c4bdeed0a3a2",
   "metadata": {},
   "outputs": [],
   "source": []
  },
  {
   "cell_type": "code",
   "execution_count": null,
   "id": "0e70bdda-a19e-4788-8d52-abb8724e8e9e",
   "metadata": {},
   "outputs": [],
   "source": []
  },
  {
   "cell_type": "code",
   "execution_count": null,
   "id": "17359452-c5e8-4481-8ecd-371a6b5f5779",
   "metadata": {},
   "outputs": [],
   "source": []
  },
  {
   "cell_type": "code",
   "execution_count": null,
   "id": "ec5e7512-697c-4b40-914c-c31a1eee6929",
   "metadata": {},
   "outputs": [],
   "source": []
  },
  {
   "cell_type": "code",
   "execution_count": 55,
   "id": "118def63-aafe-4b8c-b459-453fd450f79d",
   "metadata": {},
   "outputs": [],
   "source": [
    "start_date = core.datetime.datetime(2021,1,1)"
   ]
  },
  {
   "cell_type": "code",
   "execution_count": 51,
   "id": "20b7e3c5-8c85-42db-b45d-ec179846d962",
   "metadata": {},
   "outputs": [
    {
     "data": {
      "text/plain": [
       "Timestamp('2021-10-29 00:00:00')"
      ]
     },
     "execution_count": 51,
     "metadata": {},
     "output_type": "execute_result"
    }
   ],
   "source": [
    "core.pd.Timestamp(1635465600000000000)"
   ]
  },
  {
   "cell_type": "code",
   "execution_count": 57,
   "id": "fb540db6-4777-46cf-bfe9-5d5699ef9528",
   "metadata": {},
   "outputs": [
    {
     "data": {
      "text/plain": [
       "'20210101'"
      ]
     },
     "execution_count": 57,
     "metadata": {},
     "output_type": "execute_result"
    }
   ],
   "source": [
    "start_date.strftime('%Y%m%d')"
   ]
  },
  {
   "cell_type": "code",
   "execution_count": null,
   "id": "d9c39c55-8f15-4a9b-b439-e576722bbb42",
   "metadata": {},
   "outputs": [],
   "source": []
  }
 ],
 "metadata": {
  "kernelspec": {
   "display_name": "Python [conda env:tensorflow]",
   "language": "python",
   "name": "conda-env-tensorflow-py"
  },
  "language_info": {
   "codemirror_mode": {
    "name": "ipython",
    "version": 3
   },
   "file_extension": ".py",
   "mimetype": "text/x-python",
   "name": "python",
   "nbconvert_exporter": "python",
   "pygments_lexer": "ipython3",
   "version": "3.9.7"
  }
 },
 "nbformat": 4,
 "nbformat_minor": 5
}
