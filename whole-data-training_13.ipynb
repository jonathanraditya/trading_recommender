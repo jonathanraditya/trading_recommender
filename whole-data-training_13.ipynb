{
 "cells": [
  {
   "cell_type": "code",
   "execution_count": 1,
   "id": "93de18e2-07b7-444a-9c46-0ae98747a865",
   "metadata": {},
   "outputs": [],
   "source": [
    "# !pip install --upgrade tensorflow --quiet\n",
    "# !pip install keras_tuner --quiet\n",
    "# !pip install tensorflow-io --quiet\n",
    "# # Google colab modules\n",
    "# from google.colab import drive\n",
    "import sys, importlib\n",
    "\n",
    "# # Mount drive\n",
    "# drive.mount('/content/gdrive', force_remount=True)\n",
    "ROOT_PATH = './'\n",
    "# sys.path.append(ROOT_PATH)\n",
    "\n",
    "import coremlv2 as core\n",
    "core._init_ml()\n",
    "# core._init_models()\n",
    "# core.os.environ['CUDA_VISIBLE_DEVICES'] = '-1'\n",
    "\n",
    "# Reload coreml\n",
    "importlib.reload(core)\n",
    "import keras_tuner as kt"
   ]
  },
  {
   "cell_type": "code",
   "execution_count": 2,
   "id": "49596d61-578f-4308-8bba-b4af88869232",
   "metadata": {},
   "outputs": [
    {
     "name": "stdout",
     "output_type": "stream",
     "text": [
      "1 Physical GPUs,  1 Logical GPUs\n"
     ]
    }
   ],
   "source": [
    "# Limiting GPU memory growth\n",
    "gpus = core.tf.config.list_physical_devices('GPU')\n",
    "if gpus:\n",
    "    try:\n",
    "        # Currently, memory growth needs to be the same across GPUs\n",
    "        for gpu in gpus:\n",
    "            core.tf.config.experimental.set_memory_growth(gpu, True)\n",
    "        logical_gpus = core.tf.config.list_logical_devices('GPU')\n",
    "        print(len(gpus), \"Physical GPUs, \", len(logical_gpus), \"Logical GPUs\")\n",
    "    except RuntimeError as e:\n",
    "        # Memory growth must be set before GPUs have been initialized\n",
    "        print(e)"
   ]
  },
  {
   "cell_type": "markdown",
   "id": "8cc2bef4-b7f0-4163-b2bb-ef1a7022ae28",
   "metadata": {},
   "source": [
    "### Manually retrain model"
   ]
  },
  {
   "cell_type": "code",
   "execution_count": 3,
   "id": "73f1929b-208f-4455-a8ba-321b4af198a6",
   "metadata": {},
   "outputs": [],
   "source": [
    "model_base_id = '327'\n",
    "version = '3'\n",
    "model_no = model_base_id\n",
    "constituent_limits = 0.025\n",
    "id_constituent = 1\n",
    "min_vid_constituents = 0.5\n",
    "epochs = 5\n",
    "iter_id = f'model-{model_no}-{version}_constituent_limits-{constituent_limits}_id_constituent-{id_constituent}_min_vid_constituents-{min_vid_constituents}_epochs-{epochs}'\n",
    "ROOT_PATH='./'\n",
    "DB_ROOT_PATH='J:\\#PROJECT\\idx'\n",
    "db_ver = '8'\n",
    "batch_size = 64\n",
    "shuffle_buffer_size = 1\n",
    "generator=True"
   ]
  },
  {
   "cell_type": "code",
   "execution_count": 4,
   "id": "ce82ba4c-c045-4b6e-91d1-9b08c41c4f7d",
   "metadata": {},
   "outputs": [
    {
     "name": "stdout",
     "output_type": "stream",
     "text": [
      "Total constituents: 1149\n",
      "Total constituents: 422\n",
      "Epoch 1/5\n",
      "19515/19515 [==============================] - 2102s 107ms/step - loss: 0.6646 - accuracy: 0.6034 - val_loss: 0.7395 - val_accuracy: 0.5617\n",
      "Epoch 2/5\n",
      "19515/19515 [==============================] - 1996s 102ms/step - loss: 0.6165 - accuracy: 0.6564 - val_loss: 0.9229 - val_accuracy: 0.5365\n",
      "Epoch 3/5\n",
      "19515/19515 [==============================] - 1440s 74ms/step - loss: 0.5655 - accuracy: 0.7037 - val_loss: 1.0950 - val_accuracy: 0.5045\n",
      "Epoch 4/5\n",
      "19515/19515 [==============================] - 2122s 109ms/step - loss: 0.5348 - accuracy: 0.7280 - val_loss: 1.1303 - val_accuracy: 0.5009\n",
      "Epoch 5/5\n",
      "19515/19515 [==============================] - 1403s 72ms/step - loss: 0.5148 - accuracy: 0.7427 - val_loss: 1.2824 - val_accuracy: 0.4905\n"
     ]
    },
    {
     "name": "stderr",
     "output_type": "stream",
     "text": [
      "WARNING:absl:Found untraced functions such as lstm_cell_layer_call_fn, lstm_cell_layer_call_and_return_conditional_losses, lstm_cell_1_layer_call_fn, lstm_cell_1_layer_call_and_return_conditional_losses, lstm_cell_layer_call_fn while saving (showing 5 of 10). These functions will not be directly callable after loading.\n",
      "WARNING:absl:<keras.layers.recurrent.LSTMCell object at 0x00000216D45FE880> has the same name 'LSTMCell' as a built-in Keras object. Consider renaming <class 'keras.layers.recurrent.LSTMCell'> to avoid naming conflicts when loading with `tf.keras.models.load_model`. If renaming is not possible, pass the object in the `custom_objects` parameter of the load function.\n",
      "WARNING:absl:<keras.layers.recurrent.LSTMCell object at 0x00000216D4665E50> has the same name 'LSTMCell' as a built-in Keras object. Consider renaming <class 'keras.layers.recurrent.LSTMCell'> to avoid naming conflicts when loading with `tf.keras.models.load_model`. If renaming is not possible, pass the object in the `custom_objects` parameter of the load function.\n"
     ]
    }
   ],
   "source": [
    "# Train: `slice_from_beginning`=True\n",
    "train_gen = core.load_dataset_wsd(slice_from_beginning=True, ROOT_PATH=DB_ROOT_PATH, db_ver=db_ver, constituent_limits=constituent_limits, id_constituent=id_constituent, batch_size=batch_size, shuffle_buffer_size=shuffle_buffer_size, seed=0, generator=generator, model_no=model_no)\n",
    "# Validation: `slice_from_beginning`=False. constituent_limits in validation is always 0 (focus on idx performance progression only)\n",
    "validation_gen = core.load_dataset_wsd(slice_from_beginning=False, ROOT_PATH=DB_ROOT_PATH, db_ver=db_ver, constituent_limits=0, id_constituent=id_constituent, batch_size=batch_size, shuffle_buffer_size=shuffle_buffer_size, seed=0, generator=generator, model_no=model_no)\n",
    "\n",
    "# Load model backbone\n",
    "model = core.model_switcher_preloaded(model_no, version=version)\n",
    "history = model.fit(train_gen, validation_data=validation_gen, epochs=epochs, verbose=1)\n",
    "\n",
    "save_path = core.os.path.join(ROOT_PATH, f'models/preloaded/{iter_id}/')\n",
    "model.save_weights(f'{save_path}/weights/checkpoint')\n",
    "model.save(f'{save_path}/model')\n",
    "\n",
    "history.history['batch_size'] = batch_size\n",
    "history.history['shuffle_buffer_size'] = shuffle_buffer_size\n",
    "\n",
    "with open(f'{save_path}/history.json', 'w') as f:\n",
    "    core.json.dump(history.history, f)"
   ]
  },
  {
   "cell_type": "code",
   "execution_count": 3,
   "id": "dc47e590-c86c-443d-ad5a-bd1b1cb38247",
   "metadata": {},
   "outputs": [],
   "source": [
    "model_base_id = '327'\n",
    "version = '3'\n",
    "model_no = model_base_id\n",
    "constituent_limits = 0.025\n",
    "id_constituent = 1\n",
    "min_vid_constituents = 0.7\n",
    "epochs = 10\n",
    "batch_size = 512\n",
    "iter_id = f'model-{model_no}-{version}_constituentlimits-{constituent_limits}_idconstituent-{id_constituent}_minvidconstituents-{min_vid_constituents}_epochs-{epochs}_batchsize-{batch_size}_2'\n",
    "ROOT_PATH='./'\n",
    "DB_ROOT_PATH='J:\\#PROJECT\\idx'\n",
    "db_ver = '8'\n",
    "\n",
    "shuffle_buffer_size = 1\n",
    "generator=True"
   ]
  },
  {
   "cell_type": "code",
   "execution_count": 4,
   "id": "15ea264f-c303-4235-bea6-953114070b47",
   "metadata": {},
   "outputs": [
    {
     "name": "stdout",
     "output_type": "stream",
     "text": [
      "Total constituents: 1531\n",
      "Total constituents: 422\n",
      "Epoch 1/10\n",
      "3892/3892 [==============================] - 1958s 501ms/step - loss: 0.6803 - accuracy: 0.5843 - val_loss: 0.6730 - val_accuracy: 0.5826\n",
      "Epoch 2/10\n",
      "3892/3892 [==============================] - 1982s 509ms/step - loss: 0.6556 - accuracy: 0.6084 - val_loss: 0.6762 - val_accuracy: 0.5743\n",
      "Epoch 3/10\n",
      "3892/3892 [==============================] - 1939s 498ms/step - loss: 0.6488 - accuracy: 0.6148 - val_loss: 0.6756 - val_accuracy: 0.5802\n",
      "Epoch 4/10\n",
      "3892/3892 [==============================] - 1894s 487ms/step - loss: 0.6424 - accuracy: 0.6209 - val_loss: 0.6843 - val_accuracy: 0.5713\n",
      "Epoch 5/10\n",
      "3892/3892 [==============================] - 1780s 457ms/step - loss: 0.6365 - accuracy: 0.6263 - val_loss: 0.6882 - val_accuracy: 0.5714\n",
      "Epoch 6/10\n",
      "3892/3892 [==============================] - 1717s 441ms/step - loss: 0.6305 - accuracy: 0.6319 - val_loss: 0.7007 - val_accuracy: 0.5659\n",
      "Epoch 7/10\n",
      "3892/3892 [==============================] - 1702s 437ms/step - loss: 0.6243 - accuracy: 0.6378 - val_loss: 0.7232 - val_accuracy: 0.5593\n",
      "Epoch 8/10\n",
      "3892/3892 [==============================] - 1719s 442ms/step - loss: 0.6178 - accuracy: 0.6444 - val_loss: 0.7294 - val_accuracy: 0.5595\n",
      "Epoch 9/10\n",
      "3892/3892 [==============================] - 1703s 437ms/step - loss: 0.6109 - accuracy: 0.6509 - val_loss: 0.7528 - val_accuracy: 0.5536\n",
      "Epoch 10/10\n",
      "3892/3892 [==============================] - 1721s 442ms/step - loss: 0.6040 - accuracy: 0.6576 - val_loss: 0.7656 - val_accuracy: 0.5533\n"
     ]
    },
    {
     "name": "stderr",
     "output_type": "stream",
     "text": [
      "WARNING:absl:Found untraced functions such as lstm_cell_layer_call_fn, lstm_cell_layer_call_and_return_conditional_losses, lstm_cell_1_layer_call_fn, lstm_cell_1_layer_call_and_return_conditional_losses, lstm_cell_layer_call_fn while saving (showing 5 of 10). These functions will not be directly callable after loading.\n",
      "WARNING:absl:<keras.layers.recurrent.LSTMCell object at 0x0000027D3EB7F310> has the same name 'LSTMCell' as a built-in Keras object. Consider renaming <class 'keras.layers.recurrent.LSTMCell'> to avoid naming conflicts when loading with `tf.keras.models.load_model`. If renaming is not possible, pass the object in the `custom_objects` parameter of the load function.\n",
      "WARNING:absl:<keras.layers.recurrent.LSTMCell object at 0x0000027D8A19FB50> has the same name 'LSTMCell' as a built-in Keras object. Consider renaming <class 'keras.layers.recurrent.LSTMCell'> to avoid naming conflicts when loading with `tf.keras.models.load_model`. If renaming is not possible, pass the object in the `custom_objects` parameter of the load function.\n"
     ]
    }
   ],
   "source": [
    "# Train: `slice_from_beginning`=True\n",
    "train_gen = core.load_dataset_wsd(slice_from_beginning=True, ROOT_PATH=DB_ROOT_PATH, db_ver=db_ver, constituent_limits=constituent_limits, id_constituent=id_constituent, batch_size=batch_size, shuffle_buffer_size=shuffle_buffer_size, seed=0, generator=generator, model_no=model_no, min_vid_constituents=min_vid_constituents)\n",
    "# Validation: `slice_from_beginning`=False. constituent_limits in validation is always 0 (focus on idx performance progression only)\n",
    "validation_gen = core.load_dataset_wsd(slice_from_beginning=False, ROOT_PATH=DB_ROOT_PATH, db_ver=db_ver, constituent_limits=0, id_constituent=id_constituent, batch_size=batch_size, shuffle_buffer_size=shuffle_buffer_size, seed=0, generator=generator, model_no=model_no, min_vid_constituents=min_vid_constituents)\n",
    "\n",
    "# Load model backbone\n",
    "model = core.model_switcher_preloaded(model_no, version=version)\n",
    "history = model.fit(train_gen, validation_data=validation_gen, epochs=epochs, verbose=1)\n",
    "\n",
    "save_path = core.os.path.join(ROOT_PATH, f'models/preloaded/{iter_id}/')\n",
    "model.save_weights(f'{save_path}/weights/checkpoint')\n",
    "model.save(f'{save_path}/model')\n",
    "\n",
    "with open(f'{save_path}/history.json', 'w') as f:\n",
    "    core.json.dump(history.history, f)"
   ]
  },
  {
   "cell_type": "code",
   "execution_count": 3,
   "id": "e3a7d5ce-4dbf-42fa-92b5-e59f44dd2a06",
   "metadata": {},
   "outputs": [],
   "source": [
    "model_base_id = '327'\n",
    "version = '5'\n",
    "model_no = model_base_id\n",
    "constituent_limits = 0.25\n",
    "id_constituent = 1\n",
    "min_vid_constituents = 0.2\n",
    "epochs = 1\n",
    "batch_size = 512\n",
    "iter_id = f'model-{model_no}-{version}_constituentlimits-{constituent_limits}_idconstituent-{id_constituent}_minvidconstituents-{min_vid_constituents}_epochs-{epochs}_batchsize-{batch_size}_2'\n",
    "ROOT_PATH='./'\n",
    "DB_ROOT_PATH='J:\\#PROJECT\\idx'\n",
    "db_ver = '8'\n",
    "\n",
    "shuffle_buffer_size = 1\n",
    "generator=True"
   ]
  },
  {
   "cell_type": "code",
   "execution_count": null,
   "id": "e49dd6b1-05a9-4191-9415-ed171c16c444",
   "metadata": {},
   "outputs": [
    {
     "name": "stdout",
     "output_type": "stream",
     "text": [
      "Total constituents: 9006\n",
      "Total constituents: 422\n",
      "Epoch 1-1/1\n",
      "5036/5036 [==============================] - 1939s 384ms/step - loss: 0.7248 - accuracy: 0.5221 - val_loss: 0.6996 - val_accuracy: 0.5409\n",
      "Epoch 1-2/1\n",
      "5164/5164 [==============================] - 2002s 388ms/step - loss: 0.6909 - accuracy: 0.5460 - val_loss: 0.6836 - val_accuracy: 0.5615\n",
      "Epoch 1-3/1\n",
      "4974/4974 [==============================] - 1924s 387ms/step - loss: 0.6790 - accuracy: 0.5676 - val_loss: 0.6757 - val_accuracy: 0.5772\n",
      "Epoch 1-4/1\n",
      "5283/5283 [==============================] - 2331s 441ms/step - loss: 0.6725 - accuracy: 0.5806 - val_loss: 0.6701 - val_accuracy: 0.5870\n",
      "Epoch 1-5/1\n",
      "5029/5029 [==============================] - 2198s 437ms/step - loss: 0.6681 - accuracy: 0.5889 - val_loss: 0.6670 - val_accuracy: 0.5924\n",
      "Epoch 1-6/1\n",
      "    809/Unknown - 334s 412ms/step - loss: 0.6642 - accuracy: 0.5944"
     ]
    }
   ],
   "source": [
    "# Train: `slice_from_beginning`=True\n",
    "train_gen = core.load_dataset_wsd(slice_from_beginning=True, ROOT_PATH=DB_ROOT_PATH, db_ver=db_ver, constituent_limits=constituent_limits, id_constituent=id_constituent, batch_size=batch_size, shuffle_buffer_size=shuffle_buffer_size, seed=0, generator=generator, model_no=model_no)\n",
    "# Validation: `slice_from_beginning`=False. constituent_limits in validation is always 0 (focus on idx performance progression only)\n",
    "validation_gen = core.load_dataset_wsd(slice_from_beginning=False, ROOT_PATH=DB_ROOT_PATH, db_ver=db_ver, constituent_limits=0, id_constituent=id_constituent, batch_size=batch_size, shuffle_buffer_size=shuffle_buffer_size, seed=0, generator=generator, model_no=model_no)\n",
    "\n",
    "# Load model backbone\n",
    "model = core.model_switcher_preloaded(model_no, version=version)\n",
    "if type(train_gen) == list:\n",
    "    for epoch in range(epochs):\n",
    "        for i, tg in enumerate(train_gen):\n",
    "            print(f'Epoch {epoch+1}-{i+1}/{epochs}')\n",
    "            history = model.fit(tg, validation_data=validation_gen, epochs=1, verbose=1)\n",
    "elif type(train_gen) != list:\n",
    "    history = model.fit(train_gen, validation_data=validation_gen, epochs=epochs, verbose=1)\n",
    "\n",
    "save_path = core.os.path.join(ROOT_PATH, f'models/preloaded/{iter_id}/')\n",
    "model.save_weights(f'{save_path}/weights/checkpoint')\n",
    "model.save(f'{save_path}/model')\n",
    "\n",
    "with open(f'{save_path}/history.json', 'w') as f:\n",
    "    core.json.dump(history.history, f)"
   ]
  },
  {
   "cell_type": "code",
   "execution_count": 3,
   "id": "1673d17b-483e-4465-acfc-01b3eb832a86",
   "metadata": {},
   "outputs": [],
   "source": [
    "model_base_id = '327'\n",
    "version = '5'\n",
    "model_no = model_base_id\n",
    "constituent_limits = 0.25\n",
    "id_constituent = 1\n",
    "min_vid_constituents = 0.2\n",
    "epochs = 5\n",
    "batch_size = 1024\n",
    "iter_id = f'model-{model_no}-{version}_constituentlimits-{constituent_limits}_idconstituent-{id_constituent}_minvidconstituents-{min_vid_constituents}_epochs-{epochs}_batchsize-{batch_size}_2'\n",
    "ROOT_PATH='./'\n",
    "DB_ROOT_PATH='J:\\#PROJECT\\idx'\n",
    "db_ver = '8'\n",
    "\n",
    "shuffle_buffer_size = 1\n",
    "generator=True"
   ]
  },
  {
   "cell_type": "code",
   "execution_count": null,
   "id": "2ac57ff3-95dd-4a06-8440-4e31acb336a1",
   "metadata": {},
   "outputs": [
    {
     "name": "stdout",
     "output_type": "stream",
     "text": [
      "Total constituents: 9006\n",
      "Total constituents: 422\n",
      "Epoch 1-1/5\n",
      "2510/2510 [==============================] - 1935s 768ms/step - loss: 0.8095 - accuracy: 0.5124 - val_loss: 0.7287 - val_accuracy: 0.5333\n",
      "Epoch 1-2/5\n",
      "2589/2589 [==============================] - 2001s 773ms/step - loss: 0.7166 - accuracy: 0.5312 - val_loss: 0.6951 - val_accuracy: 0.5491\n",
      "Epoch 1-3/5\n",
      "2482/2482 [==============================] - 1905s 767ms/step - loss: 0.6920 - accuracy: 0.5518 - val_loss: 0.6819 - val_accuracy: 0.5647\n",
      "Epoch 1-4/5\n",
      "2625/2625 [==============================] - 2087s 795ms/step - loss: 0.6815 - accuracy: 0.5663 - val_loss: 0.6737 - val_accuracy: 0.5778\n",
      "Epoch 1-5/5\n",
      "2501/2501 [==============================] - 1923s 769ms/step - loss: 0.6740 - accuracy: 0.5796 - val_loss: 0.6694 - val_accuracy: 0.5865\n",
      "Epoch 1-6/5\n",
      "2554/2554 [==============================] - 1935s 757ms/step - loss: 0.6698 - accuracy: 0.5859 - val_loss: 0.6662 - val_accuracy: 0.5923\n",
      "Epoch 1-7/5\n",
      "2508/2508 [==============================] - 1900s 757ms/step - loss: 0.6665 - accuracy: 0.5927 - val_loss: 0.6640 - val_accuracy: 0.5973\n",
      "Epoch 1-8/5\n",
      "2519/2519 [==============================] - 1922s 763ms/step - loss: 0.6646 - accuracy: 0.5954 - val_loss: 0.6623 - val_accuracy: 0.6000\n",
      "Epoch 1-9/5\n",
      "2571/2571 [==============================] - 1958s 761ms/step - loss: 0.6634 - accuracy: 0.5983 - val_loss: 0.6616 - val_accuracy: 0.6013\n",
      "Epoch 1-10/5\n",
      "40/40 [==============================] - 459s 12s/step - loss: 0.6586 - accuracy: 0.6089 - val_loss: 0.6616 - val_accuracy: 0.6014\n",
      "Epoch 2-1/5\n",
      "2510/2510 [==============================] - 1879s 748ms/step - loss: 0.6624 - accuracy: 0.5997 - val_loss: 0.6603 - val_accuracy: 0.6037\n",
      "Epoch 2-2/5\n",
      "2589/2589 [==============================] - 1942s 750ms/step - loss: 0.6614 - accuracy: 0.6005 - val_loss: 0.6597 - val_accuracy: 0.6051\n",
      "Epoch 2-3/5\n",
      "2482/2482 [==============================] - 1867s 752ms/step - loss: 0.6606 - accuracy: 0.6030 - val_loss: 0.6587 - val_accuracy: 0.6060\n",
      "Epoch 2-4/5\n",
      "2625/2625 [==============================] - 2014s 767ms/step - loss: 0.6604 - accuracy: 0.6031 - val_loss: 0.6580 - val_accuracy: 0.6071\n",
      "Epoch 2-5/5\n",
      "2501/2501 [==============================] - 1919s 767ms/step - loss: 0.6597 - accuracy: 0.6039 - val_loss: 0.6576 - val_accuracy: 0.6076\n",
      "Epoch 2-6/5\n",
      "2554/2554 [==============================] - 1935s 757ms/step - loss: 0.6596 - accuracy: 0.6035 - val_loss: 0.6572 - val_accuracy: 0.6083\n",
      "Epoch 2-7/5\n",
      "2508/2508 [==============================] - 1902s 758ms/step - loss: 0.6585 - accuracy: 0.6062 - val_loss: 0.6568 - val_accuracy: 0.6093\n",
      "Epoch 2-8/5\n",
      "2519/2519 [==============================] - 1963s 779ms/step - loss: 0.6582 - accuracy: 0.6064 - val_loss: 0.6564 - val_accuracy: 0.6096\n",
      "Epoch 2-9/5\n",
      "2571/2571 [==============================] - 2018s 784ms/step - loss: 0.6580 - accuracy: 0.6064 - val_loss: 0.6564 - val_accuracy: 0.6100\n",
      "Epoch 2-10/5\n",
      "40/40 [==============================] - 458s 12s/step - loss: 0.6538 - accuracy: 0.6142 - val_loss: 0.6565 - val_accuracy: 0.6101\n",
      "Epoch 3-1/5\n",
      "2510/2510 [==============================] - 1915s 763ms/step - loss: 0.6579 - accuracy: 0.6068 - val_loss: 0.6557 - val_accuracy: 0.6106\n",
      "Epoch 3-2/5\n",
      "2589/2589 [==============================] - 1964s 758ms/step - loss: 0.6578 - accuracy: 0.6064 - val_loss: 0.6555 - val_accuracy: 0.6109\n",
      "Epoch 3-3/5\n",
      "2482/2482 [==============================] - 1957s 788ms/step - loss: 0.6572 - accuracy: 0.6074 - val_loss: 0.6551 - val_accuracy: 0.6108\n",
      "Epoch 3-4/5\n",
      "2625/2625 [==============================] - 2019s 769ms/step - loss: 0.6574 - accuracy: 0.6068 - val_loss: 0.6547 - val_accuracy: 0.6112\n",
      "Epoch 3-5/5\n",
      "2501/2501 [==============================] - 1945s 778ms/step - loss: 0.6569 - accuracy: 0.6073 - val_loss: 0.6545 - val_accuracy: 0.6114\n",
      "Epoch 3-6/5\n",
      "2554/2554 [==============================] - 1986s 777ms/step - loss: 0.6573 - accuracy: 0.6064 - val_loss: 0.6544 - val_accuracy: 0.6116\n",
      "Epoch 3-7/5\n",
      "2508/2508 [==============================] - 1904s 759ms/step - loss: 0.6564 - accuracy: 0.6091 - val_loss: 0.6541 - val_accuracy: 0.6120\n",
      "Epoch 3-8/5\n",
      "2519/2519 [==============================] - 1929s 766ms/step - loss: 0.6561 - accuracy: 0.6088 - val_loss: 0.6539 - val_accuracy: 0.6120\n",
      "Epoch 3-9/5\n",
      "2571/2571 [==============================] - 1936s 753ms/step - loss: 0.6560 - accuracy: 0.6086 - val_loss: 0.6541 - val_accuracy: 0.6118\n",
      "Epoch 3-10/5\n",
      "40/40 [==============================] - 451s 12s/step - loss: 0.6520 - accuracy: 0.6156 - val_loss: 0.6542 - val_accuracy: 0.6118\n",
      "Epoch 4-1/5\n",
      "2510/2510 [==============================] - 1949s 776ms/step - loss: 0.6561 - accuracy: 0.6090 - val_loss: 0.6535 - val_accuracy: 0.6123\n",
      "Epoch 4-2/5\n",
      "2589/2589 [==============================] - 1938s 748ms/step - loss: 0.6561 - accuracy: 0.6083 - val_loss: 0.6533 - val_accuracy: 0.6128\n",
      "Epoch 4-3/5\n",
      "2482/2482 [==============================] - 1883s 759ms/step - loss: 0.6556 - accuracy: 0.6091 - val_loss: 0.6529 - val_accuracy: 0.6127\n",
      "Epoch 4-4/5\n",
      "2625/2625 [==============================] - 1924s 733ms/step - loss: 0.6559 - accuracy: 0.6084 - val_loss: 0.6526 - val_accuracy: 0.6130\n",
      "Epoch 4-5/5\n",
      "2501/2501 [==============================] - 1866s 746ms/step - loss: 0.6555 - accuracy: 0.6085 - val_loss: 0.6526 - val_accuracy: 0.6130\n",
      "Epoch 4-6/5\n",
      "2554/2554 [==============================] - 1878s 735ms/step - loss: 0.6561 - accuracy: 0.6081 - val_loss: 0.6524 - val_accuracy: 0.6136\n",
      "Epoch 4-7/5\n",
      "2508/2508 [==============================] - 1841s 734ms/step - loss: 0.6551 - accuracy: 0.6104 - val_loss: 0.6521 - val_accuracy: 0.6136\n",
      "Epoch 4-8/5\n",
      "2519/2519 [==============================] - 1863s 739ms/step - loss: 0.6548 - accuracy: 0.6100 - val_loss: 0.6520 - val_accuracy: 0.6137\n",
      "Epoch 4-9/5\n",
      "2571/2571 [==============================] - 1891s 735ms/step - loss: 0.6547 - accuracy: 0.6100 - val_loss: 0.6524 - val_accuracy: 0.6136\n",
      "Epoch 4-10/5\n",
      "40/40 [==============================] - 425s 11s/step - loss: 0.6512 - accuracy: 0.6171 - val_loss: 0.6525 - val_accuracy: 0.6135\n",
      "Epoch 5-1/5\n",
      "    790/Unknown - 588s 744ms/step - loss: 0.6554 - accuracy: 0.6094"
     ]
    }
   ],
   "source": [
    "# Train: `slice_from_beginning`=True\n",
    "train_gen = core.load_dataset_wsd(slice_from_beginning=True, ROOT_PATH=DB_ROOT_PATH, db_ver=db_ver, constituent_limits=constituent_limits, id_constituent=id_constituent, batch_size=batch_size, shuffle_buffer_size=shuffle_buffer_size, seed=0, generator=generator, model_no=model_no)\n",
    "# Validation: `slice_from_beginning`=False. constituent_limits in validation is always 0 (focus on idx performance progression only)\n",
    "validation_gen = core.load_dataset_wsd(slice_from_beginning=False, ROOT_PATH=DB_ROOT_PATH, db_ver=db_ver, constituent_limits=0, id_constituent=id_constituent, batch_size=batch_size, shuffle_buffer_size=shuffle_buffer_size, seed=0, generator=generator, model_no=model_no)\n",
    "\n",
    "# Load model backbone\n",
    "model = core.model_switcher_preloaded(model_no, version=version)\n",
    "if type(train_gen) == list:\n",
    "    for epoch in range(epochs):\n",
    "        for i, tg in enumerate(train_gen):\n",
    "            print(f'Epoch {epoch+1}-{i+1}/{epochs}')\n",
    "            history = model.fit(tg, validation_data=validation_gen, epochs=1, verbose=1)\n",
    "elif type(train_gen) != list:\n",
    "    history = model.fit(train_gen, validation_data=validation_gen, epochs=epochs, verbose=1)\n",
    "\n",
    "save_path = core.os.path.join(ROOT_PATH, f'models/preloaded/{iter_id}/')\n",
    "model.save_weights(f'{save_path}/weights/checkpoint')\n",
    "model.save(f'{save_path}/model')\n",
    "\n",
    "with open(f'{save_path}/history.json', 'w') as f:\n",
    "    core.json.dump(history.history, f)"
   ]
  },
  {
   "cell_type": "code",
   "execution_count": 3,
   "id": "2253bd40-8125-4245-8cf6-1f55cf440608",
   "metadata": {},
   "outputs": [],
   "source": [
    "model_base_id = '327'\n",
    "version = '5'\n",
    "model_no = model_base_id\n",
    "constituent_limits = 0.5\n",
    "id_constituent = 1\n",
    "min_vid_constituents = 0.3\n",
    "epochs = 10\n",
    "batch_size = 1024\n",
    "iter_id = f'model-{model_no}-{version}_constituentlimits-{constituent_limits}_idconstituent-{id_constituent}_minvidconstituents-{min_vid_constituents}_epochs-{epochs}_batchsize-{batch_size}_2'\n",
    "ROOT_PATH='./'\n",
    "DB_ROOT_PATH='J:\\#PROJECT\\idx'\n",
    "db_ver = '8'\n",
    "\n",
    "shuffle_buffer_size = 1\n",
    "generator=True"
   ]
  },
  {
   "cell_type": "code",
   "execution_count": null,
   "id": "5a74cec1-65df-49d5-a3be-7ccd47398c1d",
   "metadata": {},
   "outputs": [
    {
     "name": "stdout",
     "output_type": "stream",
     "text": [
      "Total constituents: 19482\n",
      "Total constituents: 422\n",
      "Epoch 1-1/10\n",
      "2416/2416 [==============================] - 1813s 748ms/step - loss: 0.8080 - accuracy: 0.5154 - val_loss: 0.7305 - val_accuracy: 0.5185\n",
      "Epoch 1-2/10\n",
      "2404/2404 [==============================] - 1779s 740ms/step - loss: 0.7073 - accuracy: 0.5324 - val_loss: 0.7005 - val_accuracy: 0.5359\n",
      "Epoch 1-3/10\n",
      "2424/2424 [==============================] - 1800s 742ms/step - loss: 0.6903 - accuracy: 0.5502 - val_loss: 0.6875 - val_accuracy: 0.5539\n",
      "Epoch 1-4/10\n",
      "    820/Unknown - 581s 706ms/step - loss: 0.6850 - accuracy: 0.5584"
     ]
    }
   ],
   "source": [
    "# Train: `slice_from_beginning`=True\n",
    "train_gen = core.load_dataset_wsd(slice_from_beginning=True, ROOT_PATH=DB_ROOT_PATH, db_ver=db_ver, constituent_limits=constituent_limits, id_constituent=id_constituent, batch_size=batch_size, shuffle_buffer_size=shuffle_buffer_size, seed=0, generator=generator, model_no=model_no, min_vid_constituents=min_vid_constituents)\n",
    "# Validation: `slice_from_beginning`=False. constituent_limits in validation is always 0 (focus on idx performance progression only)\n",
    "validation_gen = core.load_dataset_wsd(slice_from_beginning=False, ROOT_PATH=DB_ROOT_PATH, db_ver=db_ver, constituent_limits=0, id_constituent=id_constituent, batch_size=batch_size, shuffle_buffer_size=shuffle_buffer_size, seed=0, generator=generator, model_no=model_no, min_vid_constituents=min_vid_constituents)\n",
    "\n",
    "# Load model backbone\n",
    "model = core.model_switcher_preloaded(model_no, version=version)\n",
    "if type(train_gen) == list:\n",
    "    for epoch in range(epochs):\n",
    "        for i, tg in enumerate(train_gen):\n",
    "            print(f'Epoch {epoch+1}-{i+1}/{epochs}')\n",
    "            history = model.fit(tg, validation_data=validation_gen, epochs=1, verbose=1)\n",
    "elif type(train_gen) != list:\n",
    "    history = model.fit(train_gen, validation_data=validation_gen, epochs=epochs, verbose=1)\n",
    "\n",
    "save_path = core.os.path.join(ROOT_PATH, f'models/preloaded/{iter_id}/')\n",
    "model.save_weights(f'{save_path}/weights/checkpoint')\n",
    "model.save(f'{save_path}/model')\n",
    "\n",
    "with open(f'{save_path}/history.json', 'w') as f:\n",
    "    core.json.dump(history.history, f)"
   ]
  },
  {
   "cell_type": "code",
   "execution_count": null,
   "id": "96394fbe-9ce9-4c39-a894-1620289cb9e6",
   "metadata": {},
   "outputs": [],
   "source": []
  },
  {
   "cell_type": "code",
   "execution_count": null,
   "id": "ef3e63fc-a290-4fc6-885c-fec6d973a256",
   "metadata": {},
   "outputs": [],
   "source": []
  },
  {
   "cell_type": "code",
   "execution_count": null,
   "id": "11b67d40-1086-4920-a187-7ff512e44dec",
   "metadata": {},
   "outputs": [],
   "source": []
  },
  {
   "cell_type": "code",
   "execution_count": null,
   "id": "c165e0bc-cd7e-4627-9b47-c1d8bcb54a37",
   "metadata": {},
   "outputs": [],
   "source": []
  },
  {
   "cell_type": "code",
   "execution_count": null,
   "id": "0ac471f7-cc7c-4d33-bc92-ac2ec7c3d8ad",
   "metadata": {},
   "outputs": [],
   "source": []
  },
  {
   "cell_type": "code",
   "execution_count": null,
   "id": "97f00d9b-87ba-4c43-b96a-f82e7cad3b48",
   "metadata": {},
   "outputs": [],
   "source": []
  },
  {
   "cell_type": "code",
   "execution_count": null,
   "id": "b4d06cb8-348c-4526-b5f6-286d6d6ffa0c",
   "metadata": {},
   "outputs": [],
   "source": []
  }
 ],
 "metadata": {
  "kernelspec": {
   "display_name": "Python [conda env:tensorflow]",
   "language": "python",
   "name": "conda-env-tensorflow-py"
  },
  "language_info": {
   "codemirror_mode": {
    "name": "ipython",
    "version": 3
   },
   "file_extension": ".py",
   "mimetype": "text/x-python",
   "name": "python",
   "nbconvert_exporter": "python",
   "pygments_lexer": "ipython3",
   "version": "3.9.7"
  }
 },
 "nbformat": 4,
 "nbformat_minor": 5
}
