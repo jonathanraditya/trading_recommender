{
 "cells": [
  {
   "cell_type": "code",
   "execution_count": 5,
   "id": "cd5cbed2-146a-4f95-9ed5-31a481130498",
   "metadata": {},
   "outputs": [],
   "source": [
    "import tensorflow as tf\n",
    "import numpy as np\n",
    "import pandas as pd\n",
    "import sqlite3\n",
    "import os\n",
    "import re"
   ]
  },
  {
   "cell_type": "code",
   "execution_count": 10,
   "id": "be6ae090-d5f4-4423-b829-3622a8c226f3",
   "metadata": {},
   "outputs": [],
   "source": []
  },
  {
   "cell_type": "code",
   "execution_count": 2,
   "id": "b25af795-5234-4734-a8da-232e4cd1b2e0",
   "metadata": {},
   "outputs": [],
   "source": [
    "ROOT_PATH = os.path.join('./')\n",
    "interim_model = os.path.join(ROOT_PATH, 'models/explore_idx/v1/interim/model/')\n",
    "model_path = os.path.join(interim_model, 'close_EMA3_G_s2')"
   ]
  },
  {
   "cell_type": "code",
   "execution_count": 11,
   "id": "e23a7652-1dd5-43e1-931e-5f829afd7d03",
   "metadata": {},
   "outputs": [
    {
     "name": "stdout",
     "output_type": "stream",
     "text": [
      "0 conv1d : Set to non-trainable.\n",
      "1 conv1d_1 : Set to non-trainable.\n",
      "2 conv1d_2 : Set to non-trainable.\n",
      "3 conv1d_3 : Set to non-trainable.\n",
      "4 bidirectional : Set to non-trainable.\n",
      "5 bidirectional_1 : Set to non-trainable.\n",
      "6 bidirectional_2 : Set to non-trainable.\n",
      "Model: \"sequential\"\n",
      "_________________________________________________________________\n",
      " Layer (type)                Output Shape              Param #   \n",
      "=================================================================\n",
      " conv1d (Conv1D)             (None, 60, 4)             260       \n",
      "                                                                 \n",
      " conv1d_1 (Conv1D)           (None, 60, 8)             296       \n",
      "                                                                 \n",
      " conv1d_2 (Conv1D)           (None, 6, 64)             3648      \n",
      "                                                                 \n",
      " conv1d_3 (Conv1D)           (None, 3, 64)             12352     \n",
      "                                                                 \n",
      " bidirectional (Bidirectiona  (None, 3, 512)           657408    \n",
      " l)                                                              \n",
      "                                                                 \n",
      " bidirectional_1 (Bidirectio  (None, 3, 16)            33344     \n",
      " nal)                                                            \n",
      "                                                                 \n",
      " bidirectional_2 (Bidirectio  (None, 64)               12544     \n",
      " nal)                                                            \n",
      "                                                                 \n",
      " dense (Dense)               (None, 1024)              66560     \n",
      "                                                                 \n",
      " dense_1 (Dense)             (None, 64)                65600     \n",
      "                                                                 \n",
      " dense_2 (Dense)             (None, 1)                 65        \n",
      "                                                                 \n",
      "=================================================================\n",
      "Total params: 852,077\n",
      "Trainable params: 132,225\n",
      "Non-trainable params: 719,852\n",
      "_________________________________________________________________\n"
     ]
    }
   ],
   "source": [
    "del model\n",
    "model = tf.keras.models.load_model(model_path)\n",
    "set_nontrainable_except_dense(model)\n",
    "model.summary()"
   ]
  },
  {
   "cell_type": "code",
   "execution_count": 21,
   "id": "6e2ce452-9606-4f09-85de-2c0c330f3b19",
   "metadata": {},
   "outputs": [
    {
     "data": {
      "text/plain": [
       "60"
      ]
     },
     "execution_count": 21,
     "metadata": {},
     "output_type": "execute_result"
    }
   ],
   "source": [
    "model.layers[0].output.shape[1]"
   ]
  },
  {
   "cell_type": "code",
   "execution_count": null,
   "id": "a2d42bcf-08b9-4c30-a5f8-bb59fae0338d",
   "metadata": {},
   "outputs": [],
   "source": []
  }
 ],
 "metadata": {
  "kernelspec": {
   "display_name": "Python [conda env:tensorflow]",
   "language": "python",
   "name": "conda-env-tensorflow-py"
  },
  "language_info": {
   "codemirror_mode": {
    "name": "ipython",
    "version": 3
   },
   "file_extension": ".py",
   "mimetype": "text/x-python",
   "name": "python",
   "nbconvert_exporter": "python",
   "pygments_lexer": "ipython3",
   "version": "3.9.7"
  }
 },
 "nbformat": 4,
 "nbformat_minor": 5
}
