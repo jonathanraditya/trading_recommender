{
 "cells": [
  {
   "cell_type": "code",
   "execution_count": 7,
   "id": "c5cce59d-4103-4e30-90d7-e5bba9a2e398",
   "metadata": {},
   "outputs": [],
   "source": [
    "# !pip install --upgrade tensorflow --quiet\n",
    "# !pip install keras_tuner --quiet\n",
    "# !pip install tensorflow-io --quiet\n",
    "# # Google colab modules\n",
    "# from google.colab import drive\n",
    "import sys, importlib\n",
    "\n",
    "# # Mount drive\n",
    "# drive.mount('/content/gdrive', force_remount=True)\n",
    "ROOT_PATH = './'\n",
    "# sys.path.append(ROOT_PATH)\n",
    "\n",
    "import coremlv2 as core\n",
    "core._init_ml()\n",
    "# core._init_models()\n",
    "# core.os.environ['CUDA_VISIBLE_DEVICES'] = '-1'\n",
    "\n",
    "# Reload coreml\n",
    "importlib.reload(core)\n",
    "import keras_tuner as kt"
   ]
  },
  {
   "cell_type": "code",
   "execution_count": 8,
   "id": "432d9fd4-089d-422b-be0f-a43d92f60f22",
   "metadata": {},
   "outputs": [
    {
     "name": "stdout",
     "output_type": "stream",
     "text": [
      "1 Physical GPUs,  1 Logical GPUs\n"
     ]
    }
   ],
   "source": [
    "# Limiting GPU memory growth\n",
    "gpus = core.tf.config.list_physical_devices('GPU')\n",
    "if gpus:\n",
    "    try:\n",
    "        # Currently, memory growth needs to be the same across GPUs\n",
    "        for gpu in gpus:\n",
    "            core.tf.config.experimental.set_memory_growth(gpu, True)\n",
    "        logical_gpus = core.tf.config.list_logical_devices('GPU')\n",
    "        print(len(gpus), \"Physical GPUs, \", len(logical_gpus), \"Logical GPUs\")\n",
    "    except RuntimeError as e:\n",
    "        # Memory growth must be set before GPUs have been initialized\n",
    "        print(e)"
   ]
  },
  {
   "cell_type": "markdown",
   "id": "beba1664-943b-42ad-a0c9-567c7c0480b8",
   "metadata": {},
   "source": [
    "### model_307_kt - world stock data (small)\n",
    "best model trained with whole idx data."
   ]
  },
  {
   "cell_type": "code",
   "execution_count": 2,
   "id": "d3a34ef7-c1cb-4a0f-95a2-27694d6b41e0",
   "metadata": {},
   "outputs": [],
   "source": [
    "kt_iter = '24'\n",
    "ticker_group = ['wsd']\n",
    "epochs = 20\n",
    "max_epochs = 20\n",
    "batch_size = 64"
   ]
  },
  {
   "cell_type": "code",
   "execution_count": 3,
   "id": "57688da3-41df-49d9-beed-5a4708c98605",
   "metadata": {},
   "outputs": [
    {
     "name": "stdout",
     "output_type": "stream",
     "text": [
      "Total constituents: 22\n",
      "Total constituents: 8\n"
     ]
    }
   ],
   "source": [
    "dataset_size = 'small'\n",
    "shuffle_buffer_size = 1024\n",
    "generator = False\n",
    "\n",
    "train_inputs, train_labels = core.load_dataset_wsd_traintest(subset='training', dataset_size=dataset_size, ROOT_PATH='''H:\\#PROJECT\\idx''', db_ver='8', batch_size=batch_size, shuffle_buffer_size=shuffle_buffer_size, seed=0, generator=generator)\n",
    "\n",
    "validation_inputs, validation_labels = core.load_dataset_wsd_traintest(subset='validation', dataset_size=dataset_size, ROOT_PATH='''H:\\#PROJECT\\idx''', db_ver='8', batch_size=batch_size, shuffle_buffer_size=shuffle_buffer_size, seed=0, generator=generator)"
   ]
  },
  {
   "cell_type": "code",
   "execution_count": null,
   "id": "81da83d1-e0e9-426c-93af-d6055a18e1b5",
   "metadata": {},
   "outputs": [
    {
     "name": "stdout",
     "output_type": "stream",
     "text": [
      "Trial 11 Complete [01h 22m 00s]\n",
      "val_loss: 0.694129228591919\n",
      "\n",
      "Best val_loss So Far: 0.6928533911705017\n",
      "Total elapsed time: 10h 50m 56s\n",
      "\n",
      "Search: Running Trial #12\n",
      "\n",
      "Hyperparameter    |Value             |Best Value So Far \n",
      "superblock_fina...|2                 |4                 \n",
      "lr                |6.7657e-05        |7.1545e-05        \n",
      "comp2             |15                |26                \n",
      "comp3             |17                |24                \n",
      "comp5             |18                |10                \n",
      "comp7             |4                 |10                \n",
      "comp11            |4                 |5                 \n",
      "comp13            |7                 |8                 \n",
      "comp17            |5                 |5                 \n",
      "comp19            |6                 |6                 \n",
      "comp23            |4                 |5                 \n",
      "comp29            |4                 |4                 \n",
      "comp31            |4                 |4                 \n",
      "comp37            |4                 |4                 \n",
      "comp41            |4                 |4                 \n",
      "comp43            |4                 |4                 \n",
      "comp47            |4                 |4                 \n",
      "comp53            |4                 |4                 \n",
      "comp59            |4                 |4                 \n",
      "comp61            |4                 |4                 \n",
      "comp67            |4                 |4                 \n",
      "comp71            |4                 |4                 \n",
      "comp73            |4                 |4                 \n",
      "comp79            |4                 |4                 \n",
      "comp83            |4                 |4                 \n",
      "comp89            |4                 |4                 \n",
      "comp97            |4                 |4                 \n",
      "comp101           |4                 |4                 \n",
      "comp103           |4                 |4                 \n",
      "comp107           |4                 |4                 \n",
      "comp109           |4                 |4                 \n",
      "comp113           |4                 |4                 \n",
      "tuner/epochs      |3                 |3                 \n",
      "tuner/initial_e...|0                 |0                 \n",
      "tuner/bracket     |2                 |2                 \n",
      "tuner/round       |0                 |0                 \n",
      "\n",
      "Epoch 1/3\n",
      "363/363 [==============================] - 1399s 2s/step - loss: 0.6945 - accuracy: 0.4934 - val_loss: 0.6935 - val_accuracy: 0.5025\n",
      "Epoch 2/3\n",
      "363/363 [==============================] - 849s 2s/step - loss: 0.6932 - accuracy: 0.5081 - val_loss: 0.6928 - val_accuracy: 0.5103\n",
      "Epoch 3/3\n",
      "279/363 [======================>.......] - ETA: 3:09 - loss: 0.6932 - accuracy: 0.5034"
     ]
    }
   ],
   "source": [
    "tuner = kt.Hyperband(hypermodel=core.model_307_kt, objective='val_loss', max_epochs=max_epochs, hyperband_iterations=1, overwrite=True, directory=f'{ROOT_PATH}models/kt/v{kt_iter}/', project_name='_'.join(ticker_group))\n",
    "\n",
    "tuner.search(train_inputs, train_labels, validation_data=(validation_inputs, validation_labels), epochs=epochs, verbose=1)"
   ]
  },
  {
   "cell_type": "markdown",
   "id": "9de73f13-ffcb-4396-8943-4352df61e29e",
   "metadata": {},
   "source": [
    "### 324/30 v8 full_new_wsd"
   ]
  },
  {
   "cell_type": "code",
   "execution_count": null,
   "id": "4cb9b459-092c-41aa-bf7d-7cc11f201edd",
   "metadata": {},
   "outputs": [
    {
     "name": "stdout",
     "output_type": "stream",
     "text": [
      "Trial 29 Complete [01h 01m 07s]\n",
      "val_loss: 0.6918690204620361\n",
      "\n",
      "Best val_loss So Far: 0.691201388835907\n",
      "Total elapsed time: 10h 30m 50s\n",
      "\n",
      "Search: Running Trial #30\n",
      "\n",
      "Hyperparameter    |Value             |Best Value So Far \n",
      "lr                |1.0189e-06        |2.4931e-05        \n",
      "c_filters         |48                |48                \n",
      "r_units           |64                |64                \n",
      "tuner/epochs      |20                |20                \n",
      "tuner/initial_e...|0                 |0                 \n",
      "tuner/bracket     |0                 |0                 \n",
      "tuner/round       |0                 |0                 \n",
      "\n",
      "Epoch 1/20\n",
      "5345/5345 [==============================] - 180s 34ms/step - loss: 0.6948 - accuracy: 0.5265 - val_loss: 0.6917 - val_accuracy: 0.5306\n",
      "Epoch 4/20\n",
      "5345/5345 [==============================] - 181s 34ms/step - loss: 0.6909 - accuracy: 0.5301 - val_loss: 0.6931 - val_accuracy: 0.5306\n",
      "Epoch 6/20\n",
      "5345/5345 [==============================] - 182s 34ms/step - loss: 0.6894 - accuracy: 0.5325 - val_loss: 0.6927 - val_accuracy: 0.5305\n",
      "Epoch 7/20\n",
      "5345/5345 [==============================] - 180s 34ms/step - loss: 0.6878 - accuracy: 0.5335 - val_loss: 0.6920 - val_accuracy: 0.5307\n",
      "Epoch 9/20\n",
      "5345/5345 [==============================] - 180s 34ms/step - loss: 0.6869 - accuracy: 0.5345 - val_loss: 0.6926 - val_accuracy: 0.5307\n",
      "Epoch 10/20\n",
      "5345/5345 [==============================] - 183s 34ms/step - loss: 0.6849 - accuracy: 0.5375 - val_loss: 0.6923 - val_accuracy: 0.5307\n",
      "Epoch 13/20\n",
      "5345/5345 [==============================] - 182s 34ms/step - loss: 0.6833 - accuracy: 0.5408 - val_loss: 0.6927 - val_accuracy: 0.5307\n",
      "Epoch 15/20\n",
      "5345/5345 [==============================] - 182s 34ms/step - loss: 0.6818 - accuracy: 0.5426 - val_loss: 0.6924 - val_accuracy: 0.5307\n",
      "Epoch 18/20\n",
      "5345/5345 [==============================] - 183s 34ms/step - loss: 0.6814 - accuracy: 0.5425 - val_loss: 0.6919 - val_accuracy: 0.5307\n",
      "Epoch 19/20\n",
      "4364/5345 [=======================>......] - ETA: 24s - loss: 0.6801 - accuracy: 0.544"
     ]
    }
   ],
   "source": [
    "model_no = '324'\n",
    "kt_iter = '30'\n",
    "ticker_group = ['wsd']\n",
    "epochs = 20\n",
    "max_epochs = 20\n",
    "batch_size = 64\n",
    "\n",
    "dataset_size = 'full_new_wsd'\n",
    "shuffle_buffer_size = 2048\n",
    "generator = False\n",
    "\n",
    "train_inputs, train_labels = core.load_dataset_wsd_traintest(subset='training', dataset_size=dataset_size, ROOT_PATH='''J:\\#PROJECT\\idx''', db_ver='8', batch_size=batch_size, shuffle_buffer_size=shuffle_buffer_size, seed=0, generator=generator, model_no=model_no)\n",
    "\n",
    "validation_inputs, validation_labels = core.load_dataset_wsd_traintest(subset='validation', dataset_size=dataset_size, ROOT_PATH='''J:\\#PROJECT\\idx''', db_ver='8', batch_size=batch_size, shuffle_buffer_size=shuffle_buffer_size, seed=0, generator=generator, model_no=model_no)\n",
    "\n",
    "tuner = kt.Hyperband(hypermodel=core.model_324_kt, objective='val_loss', max_epochs=max_epochs, hyperband_iterations=1, overwrite=True, directory=f'{ROOT_PATH}models/kt/v{kt_iter}/', project_name='_'.join(ticker_group))\n",
    "\n",
    "tuner.search(train_inputs, train_labels, validation_data=(validation_inputs, validation_labels), epochs=epochs, verbose=1)"
   ]
  },
  {
   "cell_type": "markdown",
   "id": "87bd9cb4-5b93-43d9-9bf4-c2f34886aa42",
   "metadata": {},
   "source": [
    "### Run with revised generator\n",
    "- Use 326 as early benchmark model, with world portion variation to find the optimal point"
   ]
  },
  {
   "cell_type": "code",
   "execution_count": null,
   "id": "79b27902-20e6-4df2-93cc-f3e174e71cc2",
   "metadata": {},
   "outputs": [
    {
     "name": "stdout",
     "output_type": "stream",
     "text": [
      "Trial 5 Complete [00h 59m 40s]\n",
      "val_loss: 0.6479974985122681\n",
      "\n",
      "Best val_loss So Far: 0.6461509466171265\n",
      "Total elapsed time: 04h 51m 48s\n",
      "\n",
      "Search: Running Trial #6\n",
      "\n",
      "Hyperparameter    |Value             |Best Value So Far \n",
      "lr                |4.8071e-07        |0.0003832         \n",
      "r_units           |64                |96                \n",
      "d_units_1         |64                |128               \n",
      "d_units_2         |64                |96                \n",
      "tuner/epochs      |3                 |3                 \n",
      "tuner/initial_e...|0                 |0                 \n",
      "tuner/bracket     |2                 |2                 \n",
      "tuner/round       |0                 |0                 \n",
      "\n",
      "Epoch 1/3\n",
      "1220/1220 [==============================] - 837s 674ms/step - loss: 0.9184 - accuracy: 0.5195 - val_loss: 0.9966 - val_accuracy: 0.5317\n",
      "Epoch 2/3\n",
      "1220/1220 [==============================] - 834s 674ms/step - loss: 0.8717 - accuracy: 0.5225 - val_loss: 0.9305 - val_accuracy: 0.5333\n",
      "Epoch 3/3\n",
      " 532/1220 [============>.................] - ETA: 8:08 - loss: 0.8433 - accuracy: 0.5251"
     ]
    }
   ],
   "source": [
    "# RERUN WITH REVISED traintest slice code\n",
    "model_no = '326'\n",
    "constituent_limits = 0.025\n",
    "id_constituent = 1\n",
    "kt_iter = f'_model-{model_no}_wc-{constituent_limits}_ic-{id_constituent}'\n",
    "ticker_group = ['wsd']\n",
    "epochs = 20\n",
    "max_epochs = 20\n",
    "batch_size = 1024\n",
    "shuffle_buffer_size = 16\n",
    "generator = True\n",
    "\n",
    "# Train: `slice_from_beginning`=True\n",
    "train_gen = core.load_dataset_wsd(slice_from_beginning=True, ROOT_PATH='''J:\\#PROJECT\\idx''', db_ver='8', constituent_limits=constituent_limits, id_constituent=id_constituent, batch_size=batch_size, shuffle_buffer_size=shuffle_buffer_size, seed=0, generator=generator, model_no=model_no)\n",
    "# Validation: `slice_from_beginning`=False. constituent_limits in validation is always 0 (focus on idx performance progression only)\n",
    "validation_gen = core.load_dataset_wsd(slice_from_beginning=False, ROOT_PATH='''J:\\#PROJECT\\idx''', db_ver='8', constituent_limits=0, id_constituent=id_constituent, batch_size=batch_size, shuffle_buffer_size=shuffle_buffer_size, seed=0, generator=generator, model_no=model_no)\n",
    "\n",
    "tuner = kt.Hyperband(hypermodel=core.model_326_kt, objective='val_loss', max_epochs=max_epochs, hyperband_iterations=1, overwrite=True, directory=f'{ROOT_PATH}models/kt/v{kt_iter}/', project_name='_'.join(ticker_group))\n",
    "\n",
    "tuner.search(train_gen, validation_data=validation_gen, epochs=epochs, verbose=1)"
   ]
  },
  {
   "cell_type": "code",
   "execution_count": null,
   "id": "2ea54133-a1c7-49d6-bbc1-773fcbebd594",
   "metadata": {},
   "outputs": [],
   "source": []
  }
 ],
 "metadata": {
  "kernelspec": {
   "display_name": "Python [conda env:tensorflow]",
   "language": "python",
   "name": "conda-env-tensorflow-py"
  },
  "language_info": {
   "codemirror_mode": {
    "name": "ipython",
    "version": 3
   },
   "file_extension": ".py",
   "mimetype": "text/x-python",
   "name": "python",
   "nbconvert_exporter": "python",
   "pygments_lexer": "ipython3",
   "version": "3.9.7"
  }
 },
 "nbformat": 4,
 "nbformat_minor": 5
}
