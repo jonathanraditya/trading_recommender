{
 "cells": [
  {
   "cell_type": "code",
   "execution_count": 5,
   "id": "a18bfa0e-0f01-478e-b5c7-fd7ca83de10c",
   "metadata": {},
   "outputs": [
    {
     "data": {
      "text/plain": [
       "<module 'coremlv2' from 'C:\\\\Users\\\\Jonathan Raditya\\\\documents\\\\#PROJECT\\\\idx\\\\coremlv2.py'>"
      ]
     },
     "execution_count": 5,
     "metadata": {},
     "output_type": "execute_result"
    }
   ],
   "source": [
    "ROOT_PATH = './'\n",
    "\n",
    "import coremlv2 as core\n",
    "import importlib\n",
    "core._init_ml()\n",
    "\n",
    "core.os.environ['CUDA_VISIBLE_DEVICES'] = '-1'\n",
    "\n",
    "# Reload coreml\n",
    "importlib.reload(core)"
   ]
  },
  {
   "cell_type": "markdown",
   "id": "a14ad8f9-7b7c-4273-974a-ac92d7bee7aa",
   "metadata": {},
   "source": [
    "### Whole data training for MERGED-shuffled. Model 307 are used as a base\n",
    "Additional info: primary_metrics='val_loss'"
   ]
  },
  {
   "cell_type": "code",
   "execution_count": 6,
   "id": "696893fb-c7ce-4780-b8c3-a09618365e12",
   "metadata": {},
   "outputs": [
    {
     "name": "stdout",
     "output_type": "stream",
     "text": [
      "Epoch 1/30\n",
      "10467/10467 - 14986s - loss: 0.6910 - accuracy: 0.5141 - val_loss: 0.6791 - val_accuracy: 0.5358 - 14986s/epoch - 1s/step\n",
      "Epoch 2/30\n",
      "10467/10467 - 13802s - loss: 0.6850 - accuracy: 0.5210 - val_loss: 0.6742 - val_accuracy: 0.5369 - 13802s/epoch - 1s/step\n",
      "Epoch 3/30\n",
      "10467/10467 - 13222s - loss: 0.6802 - accuracy: 0.5244 - val_loss: 0.6695 - val_accuracy: 0.5419 - 13222s/epoch - 1s/step\n",
      "Epoch 4/30\n",
      "10467/10467 - 13289s - loss: 0.6770 - accuracy: 0.5271 - val_loss: 0.6676 - val_accuracy: 0.5485 - 13289s/epoch - 1s/step\n",
      "Epoch 5/30\n",
      "10467/10467 - 13622s - loss: 0.6748 - accuracy: 0.5336 - val_loss: 0.6581 - val_accuracy: 0.5540 - 13622s/epoch - 1s/step\n",
      "Epoch 6/30\n",
      "10467/10467 - 13679s - loss: 0.6725 - accuracy: 0.5423 - val_loss: 0.6584 - val_accuracy: 0.5581 - 13679s/epoch - 1s/step\n",
      "Epoch 7/30\n",
      "10467/10467 - 13576s - loss: 0.6694 - accuracy: 0.5526 - val_loss: 0.6526 - val_accuracy: 0.5656 - 13576s/epoch - 1s/step\n",
      "Epoch 8/30\n",
      "10467/10467 - 13512s - loss: 0.6657 - accuracy: 0.5666 - val_loss: 0.6500 - val_accuracy: 0.5727 - 13512s/epoch - 1s/step\n",
      "Epoch 9/30\n",
      "10467/10467 - 13245s - loss: 0.6627 - accuracy: 0.5760 - val_loss: 0.6469 - val_accuracy: 0.5796 - 13245s/epoch - 1s/step\n",
      "Epoch 10/30\n",
      "10467/10467 - 13306s - loss: 0.6603 - accuracy: 0.5836 - val_loss: 0.6436 - val_accuracy: 0.5859 - 13306s/epoch - 1s/step\n",
      "Epoch 11/30\n",
      "10467/10467 - 13416s - loss: 0.6586 - accuracy: 0.5881 - val_loss: 0.6419 - val_accuracy: 0.5880 - 13416s/epoch - 1s/step\n",
      "Epoch 12/30\n",
      "10467/10467 - 13769s - loss: 0.6573 - accuracy: 0.5910 - val_loss: 0.6432 - val_accuracy: 0.5924 - 13769s/epoch - 1s/step\n",
      "Epoch 13/30\n",
      "10467/10467 - 13723s - loss: 0.6558 - accuracy: 0.5943 - val_loss: 0.6474 - val_accuracy: 0.5941 - 13723s/epoch - 1s/step\n",
      "Epoch 14/30\n",
      "10467/10467 - 13472s - loss: 0.6550 - accuracy: 0.5960 - val_loss: 0.6390 - val_accuracy: 0.5959 - 13472s/epoch - 1s/step\n",
      "Epoch 15/30\n",
      "10467/10467 - 13412s - loss: 0.6540 - accuracy: 0.5976 - val_loss: 0.6403 - val_accuracy: 0.5965 - 13412s/epoch - 1s/step\n",
      "Epoch 16/30\n",
      "10467/10467 - 13273s - loss: 0.6532 - accuracy: 0.5983 - val_loss: 0.6438 - val_accuracy: 0.5973 - 13273s/epoch - 1s/step\n",
      "Epoch 17/30\n",
      "10467/10467 - 13504s - loss: 0.6526 - accuracy: 0.5999 - val_loss: 0.6440 - val_accuracy: 0.5982 - 13504s/epoch - 1s/step\n",
      "Epoch 18/30\n",
      "10467/10467 - 13864s - loss: 0.6517 - accuracy: 0.6019 - val_loss: 0.6406 - val_accuracy: 0.5991 - 13864s/epoch - 1s/step\n",
      "Epoch 19/30\n",
      "10467/10467 - 13541s - loss: 0.6514 - accuracy: 0.6010 - val_loss: 0.6419 - val_accuracy: 0.5988 - 13541s/epoch - 1s/step\n",
      "Epoch 20/30\n",
      "10467/10467 - 14562s - loss: 0.6510 - accuracy: 0.6023 - val_loss: 0.6400 - val_accuracy: 0.5991 - 14562s/epoch - 1s/step\n",
      "Epoch 21/30\n",
      "10467/10467 - 14490s - loss: 0.6507 - accuracy: 0.6024 - val_loss: 0.6379 - val_accuracy: 0.6005 - 14490s/epoch - 1s/step\n",
      "Epoch 22/30\n",
      "10467/10467 - 13661s - loss: 0.6501 - accuracy: 0.6028 - val_loss: 0.6411 - val_accuracy: 0.5978 - 13661s/epoch - 1s/step\n",
      "Epoch 23/30\n",
      "10467/10467 - 13311s - loss: 0.6496 - accuracy: 0.6038 - val_loss: 0.6375 - val_accuracy: 0.5993 - 13311s/epoch - 1s/step\n",
      "Epoch 24/30\n",
      "10467/10467 - 13366s - loss: 0.6496 - accuracy: 0.6037 - val_loss: 0.6385 - val_accuracy: 0.5984 - 13366s/epoch - 1s/step\n",
      "Epoch 25/30\n",
      "10467/10467 - 13641s - loss: 0.6492 - accuracy: 0.6041 - val_loss: 0.6393 - val_accuracy: 0.6007 - 13641s/epoch - 1s/step\n",
      "Epoch 26/30\n",
      "10467/10467 - 13672s - loss: 0.6485 - accuracy: 0.6052 - val_loss: 0.6403 - val_accuracy: 0.5995 - 13672s/epoch - 1s/step\n",
      "Epoch 27/30\n",
      "10467/10467 - 13638s - loss: 0.6483 - accuracy: 0.6058 - val_loss: 0.6468 - val_accuracy: 0.5984 - 13638s/epoch - 1s/step\n",
      "Epoch 28/30\n",
      "10467/10467 - 13292s - loss: 0.6483 - accuracy: 0.6051 - val_loss: 0.6433 - val_accuracy: 0.5989 - 13292s/epoch - 1s/step\n",
      "Epoch 29/30\n",
      "10467/10467 - 13309s - loss: 0.6480 - accuracy: 0.6057 - val_loss: 0.6387 - val_accuracy: 0.6020 - 13309s/epoch - 1s/step\n",
      "Epoch 30/30\n",
      "10467/10467 - 13303s - loss: 0.6479 - accuracy: 0.6062 - val_loss: 0.6415 - val_accuracy: 0.5996 - 13303s/epoch - 1s/step\n",
      "Best model metadata:\n",
      " id                         trial_d628b9b49dff5a78f167b1b45a5e736e\n",
      "val_loss                                                 0.690135\n",
      "val_accuracy                                             0.511596\n",
      "model_config    {'superblock_final_dunits': 4, 'lr': 5.6305981...\n",
      "Name: 0, dtype: object\n"
     ]
    },
    {
     "ename": "MemoryError",
     "evalue": "Unable to allocate 8.98 GiB for an array with shape (334915, 120, 60) and data type float32",
     "output_type": "error",
     "traceback": [
      "\u001b[1;31m---------------------------------------------------------------------------\u001b[0m",
      "\u001b[1;31mMemoryError\u001b[0m                               Traceback (most recent call last)",
      "\u001b[1;32mC:\\Users\\JONATH~1\\AppData\\Local\\Temp/ipykernel_11004/2064248717.py\u001b[0m in \u001b[0;36m<module>\u001b[1;34m\u001b[0m\n\u001b[0;32m     18\u001b[0m \u001b[1;33m\u001b[0m\u001b[0m\n\u001b[0;32m     19\u001b[0m \u001b[1;31m# Load and retrain model\u001b[0m\u001b[1;33m\u001b[0m\u001b[1;33m\u001b[0m\u001b[0m\n\u001b[1;32m---> 20\u001b[1;33m \u001b[0mmodel\u001b[0m\u001b[1;33m,\u001b[0m \u001b[0mdata_version\u001b[0m \u001b[1;33m=\u001b[0m \u001b[0mcore\u001b[0m\u001b[1;33m.\u001b[0m\u001b[0mread_best_model\u001b[0m\u001b[1;33m(\u001b[0m\u001b[0mmodel_base_id\u001b[0m\u001b[1;33m,\u001b[0m \u001b[0mticker_group\u001b[0m\u001b[1;33m,\u001b[0m \u001b[0mshift\u001b[0m\u001b[1;33m,\u001b[0m \u001b[0minterval\u001b[0m\u001b[1;33m,\u001b[0m \u001b[0mrecurrent\u001b[0m\u001b[1;33m,\u001b[0m \u001b[0mdb_ver\u001b[0m\u001b[1;33m,\u001b[0m \u001b[0mdataset_ver\u001b[0m\u001b[1;33m,\u001b[0m \u001b[0mkt_iter\u001b[0m\u001b[1;33m,\u001b[0m \u001b[0msplit\u001b[0m\u001b[1;33m,\u001b[0m \u001b[0mROOT_PATH\u001b[0m\u001b[1;33m=\u001b[0m\u001b[0mROOT_PATH\u001b[0m\u001b[1;33m,\u001b[0m \u001b[0mretrain\u001b[0m\u001b[1;33m=\u001b[0m\u001b[0mretrain\u001b[0m\u001b[1;33m,\u001b[0m \u001b[0mprimary_metrics\u001b[0m\u001b[1;33m=\u001b[0m\u001b[0mprimary_metrics\u001b[0m\u001b[1;33m,\u001b[0m \u001b[0mascending\u001b[0m\u001b[1;33m=\u001b[0m\u001b[0mascending\u001b[0m\u001b[1;33m,\u001b[0m \u001b[0mverbose\u001b[0m\u001b[1;33m=\u001b[0m\u001b[0mverbose\u001b[0m\u001b[1;33m,\u001b[0m \u001b[0mepochs_multiplier\u001b[0m\u001b[1;33m=\u001b[0m\u001b[0mepochs_multiplier\u001b[0m\u001b[1;33m)\u001b[0m\u001b[1;33m\u001b[0m\u001b[1;33m\u001b[0m\u001b[0m\n\u001b[0m\u001b[0;32m     21\u001b[0m \u001b[1;33m\u001b[0m\u001b[0m\n\u001b[0;32m     22\u001b[0m \u001b[1;31m# Save model\u001b[0m\u001b[1;33m\u001b[0m\u001b[1;33m\u001b[0m\u001b[0m\n",
      "\u001b[1;32m~\\documents\\#PROJECT\\idx\\coremlv2.py\u001b[0m in \u001b[0;36mread_best_model\u001b[1;34m(model_base_id, ticker_group, shift, interval, recurrent, db_ver, dataset_ver, kt_iter, split, ROOT_PATH, retrain, metrics, primary_metrics, ascending, verbose, epochs_multiplier)\u001b[0m\n\u001b[0;32m   2743\u001b[0m \u001b[1;33m\u001b[0m\u001b[0m\n\u001b[0;32m   2744\u001b[0m     \u001b[0minput_shape\u001b[0m \u001b[1;33m=\u001b[0m \u001b[0mtf\u001b[0m\u001b[1;33m.\u001b[0m\u001b[0mkeras\u001b[0m\u001b[1;33m.\u001b[0m\u001b[0mInput\u001b[0m\u001b[1;33m(\u001b[0m\u001b[0mshape\u001b[0m\u001b[1;33m=\u001b[0m\u001b[1;33m(\u001b[0m\u001b[0mtrain_inputs\u001b[0m\u001b[1;33m.\u001b[0m\u001b[0mshape\u001b[0m\u001b[1;33m[\u001b[0m\u001b[1;36m1\u001b[0m\u001b[1;33m]\u001b[0m\u001b[1;33m,\u001b[0m \u001b[0mtrain_inputs\u001b[0m\u001b[1;33m.\u001b[0m\u001b[0mshape\u001b[0m\u001b[1;33m[\u001b[0m\u001b[1;36m2\u001b[0m\u001b[1;33m]\u001b[0m\u001b[1;33m)\u001b[0m\u001b[1;33m)\u001b[0m\u001b[1;33m\u001b[0m\u001b[1;33m\u001b[0m\u001b[0m\n\u001b[1;32m-> 2745\u001b[1;33m     \u001b[0mX\u001b[0m \u001b[1;33m=\u001b[0m \u001b[0mstack_superblock\u001b[0m\u001b[1;33m(\u001b[0m\u001b[0minput_shape\u001b[0m\u001b[1;33m,\u001b[0m \u001b[0mthreshold\u001b[0m\u001b[1;33m=\u001b[0m\u001b[1;36m10\u001b[0m\u001b[1;33m)\u001b[0m\u001b[1;33m\u001b[0m\u001b[1;33m\u001b[0m\u001b[0m\n\u001b[0m\u001b[0;32m   2746\u001b[0m     \u001b[0mX\u001b[0m \u001b[1;33m=\u001b[0m \u001b[0mtf\u001b[0m\u001b[1;33m.\u001b[0m\u001b[0mkeras\u001b[0m\u001b[1;33m.\u001b[0m\u001b[0mlayers\u001b[0m\u001b[1;33m.\u001b[0m\u001b[0mBidirectional\u001b[0m\u001b[1;33m(\u001b[0m\u001b[0mtf\u001b[0m\u001b[1;33m.\u001b[0m\u001b[0mkeras\u001b[0m\u001b[1;33m.\u001b[0m\u001b[0mlayers\u001b[0m\u001b[1;33m.\u001b[0m\u001b[0mGRU\u001b[0m\u001b[1;33m(\u001b[0m\u001b[0munits\u001b[0m\u001b[1;33m=\u001b[0m\u001b[1;36m8\u001b[0m\u001b[1;33m)\u001b[0m\u001b[1;33m)\u001b[0m\u001b[1;33m(\u001b[0m\u001b[0mX\u001b[0m\u001b[1;33m)\u001b[0m\u001b[1;33m\u001b[0m\u001b[1;33m\u001b[0m\u001b[0m\n\u001b[0;32m   2747\u001b[0m     \u001b[0mX\u001b[0m \u001b[1;33m=\u001b[0m \u001b[0mtf\u001b[0m\u001b[1;33m.\u001b[0m\u001b[0mkeras\u001b[0m\u001b[1;33m.\u001b[0m\u001b[0mlayers\u001b[0m\u001b[1;33m.\u001b[0m\u001b[0mDense\u001b[0m\u001b[1;33m(\u001b[0m\u001b[0munits\u001b[0m\u001b[1;33m=\u001b[0m\u001b[1;36m8\u001b[0m\u001b[1;33m,\u001b[0m \u001b[0mactivation\u001b[0m\u001b[1;33m=\u001b[0m\u001b[1;34m'relu'\u001b[0m\u001b[1;33m)\u001b[0m\u001b[1;33m(\u001b[0m\u001b[0mX\u001b[0m\u001b[1;33m)\u001b[0m\u001b[1;33m\u001b[0m\u001b[1;33m\u001b[0m\u001b[0m\n",
      "\u001b[1;32m<__array_function__ internals>\u001b[0m in \u001b[0;36mnan_to_num\u001b[1;34m(*args, **kwargs)\u001b[0m\n",
      "\u001b[1;32m~\\anaconda3\\envs\\tensorflow\\lib\\site-packages\\numpy\\lib\\type_check.py\u001b[0m in \u001b[0;36mnan_to_num\u001b[1;34m(x, copy, nan, posinf, neginf)\u001b[0m\n\u001b[0;32m    459\u001b[0m     \u001b[0marray\u001b[0m\u001b[1;33m(\u001b[0m\u001b[1;33m[\u001b[0m\u001b[1;36m222222.\u001b[0m\u001b[1;33m+\u001b[0m\u001b[1;36m111111.j\u001b[0m\u001b[1;33m,\u001b[0m \u001b[1;36m111111.\u001b[0m     \u001b[1;33m+\u001b[0m\u001b[1;36m0.j\u001b[0m\u001b[1;33m,\u001b[0m \u001b[1;36m111111.\u001b[0m\u001b[1;33m+\u001b[0m\u001b[1;36m222222.j\u001b[0m\u001b[1;33m]\u001b[0m\u001b[1;33m)\u001b[0m\u001b[1;33m\u001b[0m\u001b[1;33m\u001b[0m\u001b[0m\n\u001b[0;32m    460\u001b[0m     \"\"\"\n\u001b[1;32m--> 461\u001b[1;33m     \u001b[0mx\u001b[0m \u001b[1;33m=\u001b[0m \u001b[0m_nx\u001b[0m\u001b[1;33m.\u001b[0m\u001b[0marray\u001b[0m\u001b[1;33m(\u001b[0m\u001b[0mx\u001b[0m\u001b[1;33m,\u001b[0m \u001b[0msubok\u001b[0m\u001b[1;33m=\u001b[0m\u001b[1;32mTrue\u001b[0m\u001b[1;33m,\u001b[0m \u001b[0mcopy\u001b[0m\u001b[1;33m=\u001b[0m\u001b[0mcopy\u001b[0m\u001b[1;33m)\u001b[0m\u001b[1;33m\u001b[0m\u001b[1;33m\u001b[0m\u001b[0m\n\u001b[0m\u001b[0;32m    462\u001b[0m     \u001b[0mxtype\u001b[0m \u001b[1;33m=\u001b[0m \u001b[0mx\u001b[0m\u001b[1;33m.\u001b[0m\u001b[0mdtype\u001b[0m\u001b[1;33m.\u001b[0m\u001b[0mtype\u001b[0m\u001b[1;33m\u001b[0m\u001b[1;33m\u001b[0m\u001b[0m\n\u001b[0;32m    463\u001b[0m \u001b[1;33m\u001b[0m\u001b[0m\n",
      "\u001b[1;31mMemoryError\u001b[0m: Unable to allocate 8.98 GiB for an array with shape (334915, 120, 60) and data type float32"
     ]
    }
   ],
   "source": [
    "epochs_multiplier = 10\n",
    "\n",
    "model_base_id = '307'\n",
    "ticker_group = ['MERGED-shuffled']\n",
    "ticker_group_joined = '_'.join(ticker_group)\n",
    "shift = 0\n",
    "interval = 1\n",
    "recurrent = 120\n",
    "db_ver = '3'\n",
    "dataset_ver = '4'\n",
    "kt_iter = '9'\n",
    "split = 0.8\n",
    "retrain = True\n",
    "primary_metrics = 'val_loss'\n",
    "ascending = True\n",
    "verbose = 1\n",
    "\n",
    "\n",
    "# Load and retrain model\n",
    "model, data_version = core.read_best_model(model_base_id, ticker_group, shift, interval, recurrent, db_ver, dataset_ver, kt_iter, split, ROOT_PATH=ROOT_PATH, retrain=retrain, primary_metrics=primary_metrics, ascending=ascending, verbose=verbose, epochs_multiplier=epochs_multiplier)\n",
    "\n",
    "# Save model\n",
    "ticker_group_joined = '_'.join(ticker_group)\n",
    "save_path = core.os.path.join(ROOT_PATH, f'models/kt/v{kt_iter}/{ticker_group_joined}_epochs-multiplier{epochs_multiplier}/')\n",
    "model.save(f'{save_path}/model/')\n",
    "model.save_weights(f'{save_path}/weights/')"
   ]
  },
  {
   "cell_type": "code",
   "execution_count": null,
   "id": "adc9ce7f-4f68-425d-8f47-3fccfa967c71",
   "metadata": {},
   "outputs": [],
   "source": [
    "print('a')"
   ]
  },
  {
   "cell_type": "code",
   "execution_count": null,
   "id": "4b39ec68-0ff0-40fb-94ac-b810510af235",
   "metadata": {},
   "outputs": [],
   "source": [
    "nilai_nilai = [90,100,95,85,70,60]\n",
    "\n",
    "for nilai in nilai_nilai:\n",
    "    if nilai >= 90:\n",
    "        print('Nilai A')\n",
    "    elif nilai >= 80:\n",
    "        print('Nilai B')\n",
    "    elif nilai >= 70:\n",
    "        print('Nilai C')\n",
    "    else:\n",
    "        print('WINA GAK LULUS')"
   ]
  },
  {
   "cell_type": "code",
   "execution_count": 7,
   "id": "1f9cdf2a-d9d1-4b23-abc3-ac99846e2dc9",
   "metadata": {},
   "outputs": [],
   "source": [
    "import pdb"
   ]
  },
  {
   "cell_type": "code",
   "execution_count": null,
   "id": "79975b86-7d88-4fed-bbc0-edfe0724e2d8",
   "metadata": {},
   "outputs": [
    {
     "name": "stdout",
     "output_type": "stream",
     "text": [
      "> \u001b[1;32m<string>\u001b[0m(1)\u001b[0;36m<module>\u001b[1;34m()\u001b[0m\n",
      "\n"
     ]
    },
    {
     "name": "stdin",
     "output_type": "stream",
     "text": [
      "ipdb>  import pdb\n",
      "ipdb>  pdb.pm()\n"
     ]
    },
    {
     "name": "stdout",
     "output_type": "stream",
     "text": [
      "> \u001b[1;32mc:\\users\\jonath~1\\appdata\\local\\temp\\ipykernel_11004\\3234686348.py\u001b[0m(1)\u001b[0;36m<module>\u001b[1;34m()\u001b[0m\n",
      "\n"
     ]
    },
    {
     "name": "stdin",
     "output_type": "stream",
     "text": [
      "ipdb>  w\n"
     ]
    },
    {
     "name": "stdout",
     "output_type": "stream",
     "text": [
      "\u001b[1;31m    [... skipping 1 hidden frame(s)]\u001b[0m\n",
      "\n",
      "> \u001b[1;32mc:\\users\\jonath~1\\appdata\\local\\temp\\ipykernel_11004\\3234686348.py\u001b[0m(1)\u001b[0;36m<module>\u001b[1;34m()\u001b[0m\n",
      "\n"
     ]
    },
    {
     "name": "stdin",
     "output_type": "stream",
     "text": [
      "ipdb>  d\n"
     ]
    },
    {
     "name": "stdout",
     "output_type": "stream",
     "text": [
      "*** Newest frame\n"
     ]
    },
    {
     "name": "stdin",
     "output_type": "stream",
     "text": [
      "ipdb>  u\n"
     ]
    },
    {
     "name": "stdout",
     "output_type": "stream",
     "text": [
      "*** all frames above hidden\n"
     ]
    },
    {
     "name": "stdin",
     "output_type": "stream",
     "text": [
      "ipdb>  u\n"
     ]
    },
    {
     "name": "stdout",
     "output_type": "stream",
     "text": [
      "*** all frames above hidden\n"
     ]
    },
    {
     "name": "stdin",
     "output_type": "stream",
     "text": [
      "ipdb>  u\n"
     ]
    },
    {
     "name": "stdout",
     "output_type": "stream",
     "text": [
      "*** all frames above hidden\n"
     ]
    },
    {
     "name": "stdin",
     "output_type": "stream",
     "text": [
      "ipdb>  u\n"
     ]
    },
    {
     "name": "stdout",
     "output_type": "stream",
     "text": [
      "*** all frames above hidden\n"
     ]
    },
    {
     "name": "stdin",
     "output_type": "stream",
     "text": [
      "ipdb>  u\n"
     ]
    },
    {
     "name": "stdout",
     "output_type": "stream",
     "text": [
      "*** all frames above hidden\n"
     ]
    },
    {
     "name": "stdin",
     "output_type": "stream",
     "text": [
      "ipdb>  u\n"
     ]
    },
    {
     "name": "stdout",
     "output_type": "stream",
     "text": [
      "*** all frames above hidden\n"
     ]
    },
    {
     "name": "stdin",
     "output_type": "stream",
     "text": [
      "ipdb>  u\n"
     ]
    },
    {
     "name": "stdout",
     "output_type": "stream",
     "text": [
      "*** all frames above hidden\n"
     ]
    },
    {
     "name": "stdin",
     "output_type": "stream",
     "text": [
      "ipdb>  b\n",
      "ipdb>  l\n"
     ]
    },
    {
     "name": "stdout",
     "output_type": "stream",
     "text": [
      "\u001b[1;32m----> 1 \u001b[1;33m\u001b[1;32mfor\u001b[0m \u001b[0mk\u001b[0m \u001b[1;32min\u001b[0m \u001b[0mlocals\u001b[0m\u001b[1;33m(\u001b[0m\u001b[1;33m)\u001b[0m\u001b[1;33m:\u001b[0m\u001b[1;33m\u001b[0m\u001b[1;33m\u001b[0m\u001b[0m\n",
      "\u001b[0m\u001b[0;32m      2 \u001b[0m    \u001b[0mprint\u001b[0m\u001b[1;33m(\u001b[0m\u001b[0mk\u001b[0m\u001b[1;33m)\u001b[0m\u001b[1;33m\u001b[0m\u001b[1;33m\u001b[0m\u001b[0m\n",
      "\n"
     ]
    },
    {
     "name": "stdin",
     "output_type": "stream",
     "text": [
      "ipdb>  u\n"
     ]
    },
    {
     "name": "stdout",
     "output_type": "stream",
     "text": [
      "*** all frames above hidden\n"
     ]
    },
    {
     "name": "stdin",
     "output_type": "stream",
     "text": [
      "ipdb>  u\n"
     ]
    },
    {
     "name": "stdout",
     "output_type": "stream",
     "text": [
      "*** all frames above hidden\n"
     ]
    },
    {
     "name": "stdin",
     "output_type": "stream",
     "text": [
      "ipdb>  u\n"
     ]
    },
    {
     "name": "stdout",
     "output_type": "stream",
     "text": [
      "*** all frames above hidden\n"
     ]
    },
    {
     "name": "stdin",
     "output_type": "stream",
     "text": [
      "ipdb>  u\n"
     ]
    },
    {
     "name": "stdout",
     "output_type": "stream",
     "text": [
      "*** all frames above hidden\n"
     ]
    },
    {
     "name": "stdin",
     "output_type": "stream",
     "text": [
      "ipdb>  u\n"
     ]
    },
    {
     "name": "stdout",
     "output_type": "stream",
     "text": [
      "*** all frames above hidden\n"
     ]
    },
    {
     "name": "stdin",
     "output_type": "stream",
     "text": [
      "ipdb>  l\n"
     ]
    },
    {
     "name": "stdout",
     "output_type": "stream",
     "text": [
      "\n"
     ]
    },
    {
     "name": "stdin",
     "output_type": "stream",
     "text": [
      "ipdb>  u\n"
     ]
    },
    {
     "name": "stdout",
     "output_type": "stream",
     "text": [
      "*** all frames above hidden\n"
     ]
    },
    {
     "name": "stdin",
     "output_type": "stream",
     "text": [
      "ipdb>  l\n"
     ]
    },
    {
     "name": "stdout",
     "output_type": "stream",
     "text": [
      "\n"
     ]
    },
    {
     "name": "stdin",
     "output_type": "stream",
     "text": [
      "ipdb>  u\n"
     ]
    },
    {
     "name": "stdout",
     "output_type": "stream",
     "text": [
      "*** all frames above hidden\n"
     ]
    },
    {
     "name": "stdin",
     "output_type": "stream",
     "text": [
      "ipdb>  l\n"
     ]
    },
    {
     "name": "stdout",
     "output_type": "stream",
     "text": [
      "\n"
     ]
    },
    {
     "name": "stdin",
     "output_type": "stream",
     "text": [
      "ipdb>  d\n"
     ]
    },
    {
     "name": "stdout",
     "output_type": "stream",
     "text": [
      "*** Newest frame\n"
     ]
    },
    {
     "name": "stdin",
     "output_type": "stream",
     "text": [
      "ipdb>  l\n"
     ]
    },
    {
     "name": "stdout",
     "output_type": "stream",
     "text": [
      "\n"
     ]
    },
    {
     "name": "stdin",
     "output_type": "stream",
     "text": [
      "ipdb>  d\n"
     ]
    },
    {
     "name": "stdout",
     "output_type": "stream",
     "text": [
      "*** Newest frame\n"
     ]
    },
    {
     "name": "stdin",
     "output_type": "stream",
     "text": [
      "ipdb>  l\n"
     ]
    },
    {
     "name": "stdout",
     "output_type": "stream",
     "text": [
      "\n"
     ]
    },
    {
     "name": "stdin",
     "output_type": "stream",
     "text": [
      "ipdb>  u\n"
     ]
    },
    {
     "name": "stdout",
     "output_type": "stream",
     "text": [
      "*** all frames above hidden\n"
     ]
    },
    {
     "name": "stdin",
     "output_type": "stream",
     "text": [
      "ipdb>  l\n"
     ]
    },
    {
     "name": "stdout",
     "output_type": "stream",
     "text": [
      "\n"
     ]
    },
    {
     "name": "stdin",
     "output_type": "stream",
     "text": [
      "ipdb>  u\n"
     ]
    },
    {
     "name": "stdout",
     "output_type": "stream",
     "text": [
      "*** all frames above hidden\n"
     ]
    },
    {
     "name": "stdin",
     "output_type": "stream",
     "text": [
      "ipdb>  l\n"
     ]
    },
    {
     "name": "stdout",
     "output_type": "stream",
     "text": [
      "\n"
     ]
    },
    {
     "name": "stdin",
     "output_type": "stream",
     "text": [
      "ipdb>  u\n"
     ]
    },
    {
     "name": "stdout",
     "output_type": "stream",
     "text": [
      "*** all frames above hidden\n"
     ]
    },
    {
     "name": "stdin",
     "output_type": "stream",
     "text": [
      "ipdb>  l\n"
     ]
    },
    {
     "name": "stdout",
     "output_type": "stream",
     "text": [
      "\n"
     ]
    },
    {
     "name": "stdin",
     "output_type": "stream",
     "text": [
      "ipdb>  u\n"
     ]
    },
    {
     "name": "stdout",
     "output_type": "stream",
     "text": [
      "*** all frames above hidden\n"
     ]
    },
    {
     "name": "stdin",
     "output_type": "stream",
     "text": [
      "ipdb>  l\n"
     ]
    },
    {
     "name": "stdout",
     "output_type": "stream",
     "text": [
      "\n"
     ]
    },
    {
     "name": "stdin",
     "output_type": "stream",
     "text": [
      "ipdb>  u\n"
     ]
    },
    {
     "name": "stdout",
     "output_type": "stream",
     "text": [
      "*** all frames above hidden\n"
     ]
    },
    {
     "name": "stdin",
     "output_type": "stream",
     "text": [
      "ipdb>  l\n"
     ]
    },
    {
     "name": "stdout",
     "output_type": "stream",
     "text": [
      "\n"
     ]
    },
    {
     "name": "stdin",
     "output_type": "stream",
     "text": [
      "ipdb>  u\n"
     ]
    },
    {
     "name": "stdout",
     "output_type": "stream",
     "text": [
      "*** all frames above hidden\n"
     ]
    },
    {
     "name": "stdin",
     "output_type": "stream",
     "text": [
      "ipdb>  l\n"
     ]
    },
    {
     "name": "stdout",
     "output_type": "stream",
     "text": [
      "\n"
     ]
    },
    {
     "name": "stdin",
     "output_type": "stream",
     "text": [
      "ipdb>  u\n"
     ]
    },
    {
     "name": "stdout",
     "output_type": "stream",
     "text": [
      "*** all frames above hidden\n"
     ]
    },
    {
     "name": "stdin",
     "output_type": "stream",
     "text": [
      "ipdb>  l\n"
     ]
    },
    {
     "name": "stdout",
     "output_type": "stream",
     "text": [
      "\n"
     ]
    },
    {
     "name": "stdin",
     "output_type": "stream",
     "text": [
      "ipdb>  u\n"
     ]
    },
    {
     "name": "stdout",
     "output_type": "stream",
     "text": [
      "*** all frames above hidden\n"
     ]
    },
    {
     "name": "stdin",
     "output_type": "stream",
     "text": [
      "ipdb>  l\n"
     ]
    },
    {
     "name": "stdout",
     "output_type": "stream",
     "text": [
      "\n"
     ]
    },
    {
     "name": "stdin",
     "output_type": "stream",
     "text": [
      "ipdb>  u\n"
     ]
    },
    {
     "name": "stdout",
     "output_type": "stream",
     "text": [
      "*** all frames above hidden\n"
     ]
    },
    {
     "name": "stdin",
     "output_type": "stream",
     "text": [
      "ipdb>  l\n"
     ]
    },
    {
     "name": "stdout",
     "output_type": "stream",
     "text": [
      "\n"
     ]
    },
    {
     "name": "stdin",
     "output_type": "stream",
     "text": [
      "ipdb>  u\n"
     ]
    },
    {
     "name": "stdout",
     "output_type": "stream",
     "text": [
      "*** all frames above hidden\n"
     ]
    },
    {
     "name": "stdin",
     "output_type": "stream",
     "text": [
      "ipdb>  l\n"
     ]
    },
    {
     "name": "stdout",
     "output_type": "stream",
     "text": [
      "\n"
     ]
    },
    {
     "name": "stdin",
     "output_type": "stream",
     "text": [
      "ipdb>  u\n"
     ]
    },
    {
     "name": "stdout",
     "output_type": "stream",
     "text": [
      "*** all frames above hidden\n"
     ]
    },
    {
     "name": "stdin",
     "output_type": "stream",
     "text": [
      "ipdb>  l\n"
     ]
    },
    {
     "name": "stdout",
     "output_type": "stream",
     "text": [
      "\n"
     ]
    }
   ],
   "source": [
    "pdb.run('h')"
   ]
  },
  {
   "cell_type": "code",
   "execution_count": null,
   "id": "2cef69f6-e350-4ed6-9f47-90320e8fd220",
   "metadata": {},
   "outputs": [],
   "source": []
  },
  {
   "cell_type": "code",
   "execution_count": null,
   "id": "14baa674-edcb-4a87-a5b9-b7adbdc0bf7d",
   "metadata": {},
   "outputs": [],
   "source": []
  },
  {
   "cell_type": "code",
   "execution_count": null,
   "id": "44dcfc33-fbca-4bbf-ba93-fcc0d6ab6636",
   "metadata": {},
   "outputs": [],
   "source": []
  }
 ],
 "metadata": {
  "kernelspec": {
   "display_name": "Python [conda env:tensorflow]",
   "language": "python",
   "name": "conda-env-tensorflow-py"
  },
  "language_info": {
   "codemirror_mode": {
    "name": "ipython",
    "version": 3
   },
   "file_extension": ".py",
   "mimetype": "text/x-python",
   "name": "python",
   "nbconvert_exporter": "python",
   "pygments_lexer": "ipython3",
   "version": "3.9.7"
  }
 },
 "nbformat": 4,
 "nbformat_minor": 5
}
